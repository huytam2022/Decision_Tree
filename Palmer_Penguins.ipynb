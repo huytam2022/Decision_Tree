{
 "cells": [
  {
   "cell_type": "markdown",
   "metadata": {},
   "source": [
    "# **1. Preparing Steps**\n"
   ]
  },
  {
   "cell_type": "markdown",
   "metadata": {},
   "source": [
    "## **1.1 Install libraries**\n"
   ]
  },
  {
   "cell_type": "code",
   "execution_count": 21,
   "metadata": {},
   "outputs": [
    {
     "name": "stdout",
     "output_type": "stream",
     "text": [
      "Requirement already satisfied: numpy in c:\\users\\truon\\appdata\\local\\programs\\python\\python313\\lib\\site-packages (2.2.4)\n",
      "Requirement already satisfied: matplotlib in c:\\users\\truon\\appdata\\local\\programs\\python\\python313\\lib\\site-packages (3.10.1)\n",
      "Requirement already satisfied: contourpy>=1.0.1 in c:\\users\\truon\\appdata\\local\\programs\\python\\python313\\lib\\site-packages (from matplotlib) (1.3.1)\n",
      "Requirement already satisfied: cycler>=0.10 in c:\\users\\truon\\appdata\\local\\programs\\python\\python313\\lib\\site-packages (from matplotlib) (0.12.1)\n",
      "Requirement already satisfied: fonttools>=4.22.0 in c:\\users\\truon\\appdata\\local\\programs\\python\\python313\\lib\\site-packages (from matplotlib) (4.57.0)\n",
      "Requirement already satisfied: kiwisolver>=1.3.1 in c:\\users\\truon\\appdata\\local\\programs\\python\\python313\\lib\\site-packages (from matplotlib) (1.4.8)\n",
      "Requirement already satisfied: numpy>=1.23 in c:\\users\\truon\\appdata\\local\\programs\\python\\python313\\lib\\site-packages (from matplotlib) (2.2.4)\n",
      "Requirement already satisfied: packaging>=20.0 in c:\\users\\truon\\appdata\\roaming\\python\\python313\\site-packages (from matplotlib) (24.2)\n",
      "Requirement already satisfied: pillow>=8 in c:\\users\\truon\\appdata\\local\\programs\\python\\python313\\lib\\site-packages (from matplotlib) (11.2.1)\n",
      "Requirement already satisfied: pyparsing>=2.3.1 in c:\\users\\truon\\appdata\\local\\programs\\python\\python313\\lib\\site-packages (from matplotlib) (3.2.3)\n",
      "Requirement already satisfied: python-dateutil>=2.7 in c:\\users\\truon\\appdata\\roaming\\python\\python313\\site-packages (from matplotlib) (2.9.0.post0)\n",
      "Requirement already satisfied: six>=1.5 in c:\\users\\truon\\appdata\\roaming\\python\\python313\\site-packages (from python-dateutil>=2.7->matplotlib) (1.17.0)\n",
      "Requirement already satisfied: pandas in c:\\users\\truon\\appdata\\local\\programs\\python\\python313\\lib\\site-packages (2.2.3)\n",
      "Requirement already satisfied: numpy>=1.26.0 in c:\\users\\truon\\appdata\\local\\programs\\python\\python313\\lib\\site-packages (from pandas) (2.2.4)\n",
      "Requirement already satisfied: python-dateutil>=2.8.2 in c:\\users\\truon\\appdata\\roaming\\python\\python313\\site-packages (from pandas) (2.9.0.post0)\n",
      "Requirement already satisfied: pytz>=2020.1 in c:\\users\\truon\\appdata\\local\\programs\\python\\python313\\lib\\site-packages (from pandas) (2025.2)\n",
      "Requirement already satisfied: tzdata>=2022.7 in c:\\users\\truon\\appdata\\local\\programs\\python\\python313\\lib\\site-packages (from pandas) (2025.2)\n",
      "Requirement already satisfied: six>=1.5 in c:\\users\\truon\\appdata\\roaming\\python\\python313\\site-packages (from python-dateutil>=2.8.2->pandas) (1.17.0)\n",
      "Requirement already satisfied: seaborn in c:\\users\\truon\\appdata\\local\\programs\\python\\python313\\lib\\site-packages (0.13.2)\n",
      "Requirement already satisfied: numpy!=1.24.0,>=1.20 in c:\\users\\truon\\appdata\\local\\programs\\python\\python313\\lib\\site-packages (from seaborn) (2.2.4)\n",
      "Requirement already satisfied: pandas>=1.2 in c:\\users\\truon\\appdata\\local\\programs\\python\\python313\\lib\\site-packages (from seaborn) (2.2.3)\n",
      "Requirement already satisfied: matplotlib!=3.6.1,>=3.4 in c:\\users\\truon\\appdata\\local\\programs\\python\\python313\\lib\\site-packages (from seaborn) (3.10.1)\n",
      "Requirement already satisfied: contourpy>=1.0.1 in c:\\users\\truon\\appdata\\local\\programs\\python\\python313\\lib\\site-packages (from matplotlib!=3.6.1,>=3.4->seaborn) (1.3.1)\n",
      "Requirement already satisfied: cycler>=0.10 in c:\\users\\truon\\appdata\\local\\programs\\python\\python313\\lib\\site-packages (from matplotlib!=3.6.1,>=3.4->seaborn) (0.12.1)\n",
      "Requirement already satisfied: fonttools>=4.22.0 in c:\\users\\truon\\appdata\\local\\programs\\python\\python313\\lib\\site-packages (from matplotlib!=3.6.1,>=3.4->seaborn) (4.57.0)\n",
      "Requirement already satisfied: kiwisolver>=1.3.1 in c:\\users\\truon\\appdata\\local\\programs\\python\\python313\\lib\\site-packages (from matplotlib!=3.6.1,>=3.4->seaborn) (1.4.8)\n",
      "Requirement already satisfied: packaging>=20.0 in c:\\users\\truon\\appdata\\roaming\\python\\python313\\site-packages (from matplotlib!=3.6.1,>=3.4->seaborn) (24.2)\n",
      "Requirement already satisfied: pillow>=8 in c:\\users\\truon\\appdata\\local\\programs\\python\\python313\\lib\\site-packages (from matplotlib!=3.6.1,>=3.4->seaborn) (11.2.1)\n",
      "Requirement already satisfied: pyparsing>=2.3.1 in c:\\users\\truon\\appdata\\local\\programs\\python\\python313\\lib\\site-packages (from matplotlib!=3.6.1,>=3.4->seaborn) (3.2.3)\n",
      "Requirement already satisfied: python-dateutil>=2.7 in c:\\users\\truon\\appdata\\roaming\\python\\python313\\site-packages (from matplotlib!=3.6.1,>=3.4->seaborn) (2.9.0.post0)\n",
      "Requirement already satisfied: pytz>=2020.1 in c:\\users\\truon\\appdata\\local\\programs\\python\\python313\\lib\\site-packages (from pandas>=1.2->seaborn) (2025.2)\n",
      "Requirement already satisfied: tzdata>=2022.7 in c:\\users\\truon\\appdata\\local\\programs\\python\\python313\\lib\\site-packages (from pandas>=1.2->seaborn) (2025.2)\n",
      "Requirement already satisfied: six>=1.5 in c:\\users\\truon\\appdata\\roaming\\python\\python313\\site-packages (from python-dateutil>=2.7->matplotlib!=3.6.1,>=3.4->seaborn) (1.17.0)\n",
      "Requirement already satisfied: scikit-learn in c:\\users\\truon\\appdata\\local\\programs\\python\\python313\\lib\\site-packages (1.6.1)\n",
      "Requirement already satisfied: numpy>=1.19.5 in c:\\users\\truon\\appdata\\local\\programs\\python\\python313\\lib\\site-packages (from scikit-learn) (2.2.4)\n",
      "Requirement already satisfied: scipy>=1.6.0 in c:\\users\\truon\\appdata\\local\\programs\\python\\python313\\lib\\site-packages (from scikit-learn) (1.15.2)\n",
      "Requirement already satisfied: joblib>=1.2.0 in c:\\users\\truon\\appdata\\local\\programs\\python\\python313\\lib\\site-packages (from scikit-learn) (1.4.2)\n",
      "Requirement already satisfied: threadpoolctl>=3.1.0 in c:\\users\\truon\\appdata\\local\\programs\\python\\python313\\lib\\site-packages (from scikit-learn) (3.6.0)\n",
      "Requirement already satisfied: graphviz in c:\\users\\truon\\appdata\\local\\programs\\python\\python313\\lib\\site-packages (0.20.3)\n",
      "Requirement already satisfied: plotly in c:\\users\\truon\\appdata\\local\\programs\\python\\python313\\lib\\site-packages (6.0.1)\n",
      "Requirement already satisfied: narwhals>=1.15.1 in c:\\users\\truon\\appdata\\local\\programs\\python\\python313\\lib\\site-packages (from plotly) (1.35.0)\n",
      "Requirement already satisfied: packaging in c:\\users\\truon\\appdata\\roaming\\python\\python313\\site-packages (from plotly) (24.2)\n",
      "Requirement already satisfied: nbformat in c:\\users\\truon\\appdata\\local\\programs\\python\\python313\\lib\\site-packages (5.10.4)\n",
      "Requirement already satisfied: fastjsonschema>=2.15 in c:\\users\\truon\\appdata\\local\\programs\\python\\python313\\lib\\site-packages (from nbformat) (2.21.1)\n",
      "Requirement already satisfied: jsonschema>=2.6 in c:\\users\\truon\\appdata\\local\\programs\\python\\python313\\lib\\site-packages (from nbformat) (4.23.0)\n",
      "Requirement already satisfied: jupyter-core!=5.0.*,>=4.12 in c:\\users\\truon\\appdata\\roaming\\python\\python313\\site-packages (from nbformat) (5.7.2)\n",
      "Requirement already satisfied: traitlets>=5.1 in c:\\users\\truon\\appdata\\roaming\\python\\python313\\site-packages (from nbformat) (5.14.3)\n",
      "Requirement already satisfied: attrs>=22.2.0 in c:\\users\\truon\\appdata\\local\\programs\\python\\python313\\lib\\site-packages (from jsonschema>=2.6->nbformat) (25.3.0)\n",
      "Requirement already satisfied: jsonschema-specifications>=2023.03.6 in c:\\users\\truon\\appdata\\local\\programs\\python\\python313\\lib\\site-packages (from jsonschema>=2.6->nbformat) (2024.10.1)\n",
      "Requirement already satisfied: referencing>=0.28.4 in c:\\users\\truon\\appdata\\local\\programs\\python\\python313\\lib\\site-packages (from jsonschema>=2.6->nbformat) (0.36.2)\n",
      "Requirement already satisfied: rpds-py>=0.7.1 in c:\\users\\truon\\appdata\\local\\programs\\python\\python313\\lib\\site-packages (from jsonschema>=2.6->nbformat) (0.24.0)\n",
      "Requirement already satisfied: platformdirs>=2.5 in c:\\users\\truon\\appdata\\roaming\\python\\python313\\site-packages (from jupyter-core!=5.0.*,>=4.12->nbformat) (4.3.7)\n",
      "Requirement already satisfied: pywin32>=300 in c:\\users\\truon\\appdata\\roaming\\python\\python313\\site-packages (from jupyter-core!=5.0.*,>=4.12->nbformat) (310)\n",
      "Requirement already satisfied: joblib in c:\\users\\truon\\appdata\\local\\programs\\python\\python313\\lib\\site-packages (1.4.2)\n",
      "Requirement already satisfied: ucimlrepo in c:\\users\\truon\\appdata\\local\\programs\\python\\python313\\lib\\site-packages (0.0.7)\n",
      "Requirement already satisfied: pandas>=1.0.0 in c:\\users\\truon\\appdata\\local\\programs\\python\\python313\\lib\\site-packages (from ucimlrepo) (2.2.3)\n",
      "Requirement already satisfied: certifi>=2020.12.5 in c:\\users\\truon\\appdata\\local\\programs\\python\\python313\\lib\\site-packages (from ucimlrepo) (2025.1.31)\n",
      "Requirement already satisfied: numpy>=1.26.0 in c:\\users\\truon\\appdata\\local\\programs\\python\\python313\\lib\\site-packages (from pandas>=1.0.0->ucimlrepo) (2.2.4)\n",
      "Requirement already satisfied: python-dateutil>=2.8.2 in c:\\users\\truon\\appdata\\roaming\\python\\python313\\site-packages (from pandas>=1.0.0->ucimlrepo) (2.9.0.post0)\n",
      "Requirement already satisfied: pytz>=2020.1 in c:\\users\\truon\\appdata\\local\\programs\\python\\python313\\lib\\site-packages (from pandas>=1.0.0->ucimlrepo) (2025.2)\n",
      "Requirement already satisfied: tzdata>=2022.7 in c:\\users\\truon\\appdata\\local\\programs\\python\\python313\\lib\\site-packages (from pandas>=1.0.0->ucimlrepo) (2025.2)\n",
      "Requirement already satisfied: six>=1.5 in c:\\users\\truon\\appdata\\roaming\\python\\python313\\site-packages (from python-dateutil>=2.8.2->pandas>=1.0.0->ucimlrepo) (1.17.0)\n"
     ]
    }
   ],
   "source": [
    "!pip install numpy\n",
    "!pip install matplotlib\n",
    "!pip install pandas\n",
    "!pip install seaborn\n",
    "!pip install scikit-learn\n",
    "!pip install graphviz\n",
    "!pip install plotly\n",
    "!pip install nbformat\n",
    "!pip install joblib\n",
    "!pip install ucimlrepo"
   ]
  },
  {
   "cell_type": "code",
   "execution_count": 6,
   "metadata": {},
   "outputs": [],
   "source": [
    "import numpy as np\n",
    "import pandas as pd\n",
    "from sklearn.model_selection import train_test_split\n",
    "from sklearn.tree import DecisionTreeClassifier, export_graphviz\n",
    "import graphviz\n",
    "from sklearn.metrics import classification_report, confusion_matrix, accuracy_score\n",
    "from sklearn.utils import shuffle\n",
    "import plotly.express as px\n",
    "import plotly.graph_objects as go\n",
    "import joblib\n",
    "import matplotlib.pyplot as plt\n",
    "import seaborn as sns\n",
    "from sklearn.preprocessing import LabelEncoder"
   ]
  },
  {
   "cell_type": "markdown",
   "metadata": {},
   "source": [
    "## **1.2 Helper Functions**\n"
   ]
  },
  {
   "cell_type": "code",
   "execution_count": 74,
   "metadata": {},
   "outputs": [],
   "source": [
    "def load_data():\n",
    "    \"\"\"\n",
    "    Load and preprocess the Palmer Penguins dataset.\n",
    "\n",
    "    This function reads the penguins.csv file, cleans and encodes the dataset,\n",
    "    and returns the shuffled features, labels, and feature names for classification.\n",
    "\n",
    "    Returns:\n",
    "        tuple:\n",
    "            - features (pandas.DataFrame): Processed feature data for model training.\n",
    "            - labels (pandas.Series): Encoded target labels representing penguin species.\n",
    "            - feature_names (list): Names of the features used.\n",
    "            - label_encoder (LabelEncoder): Encoder for decoding predicted species.\n",
    "    \"\"\"\n",
    "    # Load the dataset\n",
    "    df = pd.read_csv(\"dataset/penguins.csv\")\n",
    "\n",
    "    # Drop unneeded columns (you can adjust based on EDA)\n",
    "    df = df.drop(columns=[\n",
    "        \"studyName\", \"Sample Number\", \"Region\", \"Stage\", \"Clutch Completion\", \"Date Egg\", \"Comments\"\n",
    "    ], errors=\"ignore\")\n",
    "\n",
    "    # Drop rows with missing values\n",
    "    df = df.dropna()\n",
    "\n",
    "    # Encode the target variable (Species) to numeric values\n",
    "    label_encoder = LabelEncoder()\n",
    "    df[\"target\"] = label_encoder.fit_transform(df[\"Species\"])  # 0 = Adelie, 1 = Chinstrap, 2 = Gentoo\n",
    "\n",
    "    # One-Hot Encoding for 'Sex' column (creating separate columns for 'male' and 'female')\n",
    "    df = pd.get_dummies(df, columns=[\"Sex\"], drop_first=True)  # Drop first to avoid dummy variable trap\n",
    "\n",
    "    # You can further modify how the values are encoded if necessary\n",
    "\n",
    "    # Define the features (X) and labels (y)\n",
    "    features = df.drop(columns=[\"Species\", \"target\"])  # Exclude target and Species columns\n",
    "    labels = df[\"target\"]\n",
    "    feature_names = features.columns.tolist()\n",
    "\n",
    "    # Shuffle the data for randomness\n",
    "    features_shuffled, labels_shuffled = shuffle(features, labels, random_state=42)\n",
    "\n",
    "    return features_shuffled, labels_shuffled, feature_names, label_encoder"
   ]
  },
  {
   "cell_type": "code",
   "execution_count": 46,
   "metadata": {},
   "outputs": [],
   "source": [
    "def split_data(features, labels, train_size, test_size):\n",
    "    \"\"\"\n",
    "    Split the Heart Disease dataset into training and testing sets.\n",
    "\n",
    "    This function splits the input features and labels (from heart.csv)\n",
    "    into training and testing sets based on the specified proportions.\n",
    "    The split is stratified to preserve class distribution.\n",
    "\n",
    "    Args:\n",
    "        features (pandas.DataFrame): The feature data.\n",
    "        labels (pandas.Series): The target labels.\n",
    "        train_size (float): Proportion of data for training.\n",
    "        test_size (float): Proportion of data for testing.\n",
    "\n",
    "    Returns:\n",
    "        tuple:\n",
    "            - feature_train (pandas.DataFrame): Training features.\n",
    "            - feature_test (pandas.DataFrame): Testing features.\n",
    "            - label_train (pandas.Series): Training labels.\n",
    "            - label_test (pandas.Series): Testing labels.\n",
    "    \"\"\"\n",
    "    feature_train, feature_test, label_train, label_test = train_test_split(\n",
    "        features,\n",
    "        labels,\n",
    "        train_size=train_size,\n",
    "        test_size=test_size,\n",
    "        stratify=labels,\n",
    "        random_state=42,\n",
    "        shuffle=True\n",
    "    )\n",
    "\n",
    "    return feature_train, feature_test, label_train, label_test"
   ]
  },
  {
   "cell_type": "code",
   "execution_count": 47,
   "metadata": {},
   "outputs": [],
   "source": [
    "def create_datasets(features, labels, split_ratios):\n",
    "    \"\"\"\n",
    "    Create multiple train-test splits from the Heart Disease dataset.\n",
    "\n",
    "    This function uses different train/test ratios to create\n",
    "    multiple datasets, stratified to preserve label distribution.\n",
    "\n",
    "    Args:\n",
    "        features (pandas.DataFrame): Feature data from heart.csv.\n",
    "        labels (pandas.Series): Label data (0 or 1).\n",
    "        split_ratios (list of tuples): Each tuple contains (train_size, test_size), e.g., (0.8, 0.2).\n",
    "\n",
    "    Returns:\n",
    "        list of dicts: Each dict contains:\n",
    "            - 'train_size': float, training size used\n",
    "            - 'test_size': float, testing size used\n",
    "            - 'X_train', 'X_test': features\n",
    "            - 'y_train', 'y_test': labels\n",
    "    \"\"\"\n",
    "    datasets = []\n",
    "\n",
    "    for train_size, test_size in split_ratios:\n",
    "        X_train, X_test, y_train, y_test = split_data(\n",
    "            features, labels, train_size, test_size\n",
    "        )\n",
    "        datasets.append({\n",
    "            \"train_size\": train_size,\n",
    "            \"test_size\": test_size,\n",
    "            \"X_train\": X_train,\n",
    "            \"X_test\": X_test,\n",
    "            \"y_train\": y_train,\n",
    "            \"y_test\": y_test,\n",
    "        })\n",
    "\n",
    "    return datasets"
   ]
  },
  {
   "cell_type": "markdown",
   "metadata": {},
   "source": [
    "# **2. Preparing the data sets**\n"
   ]
  },
  {
   "cell_type": "markdown",
   "metadata": {},
   "source": [
    "## **2.1 Create training and test sets of different proportions**\n"
   ]
  },
  {
   "cell_type": "code",
   "execution_count": null,
   "metadata": {},
   "outputs": [
    {
     "ename": "AttributeError",
     "evalue": "'list' object has no attribute 'drop'",
     "output_type": "error",
     "traceback": [
      "\u001b[31m---------------------------------------------------------------------------\u001b[39m",
      "\u001b[31mAttributeError\u001b[39m                            Traceback (most recent call last)",
      "\u001b[36mCell\u001b[39m\u001b[36m \u001b[39m\u001b[32mIn[96]\u001b[39m\u001b[32m, line 2\u001b[39m\n\u001b[32m      1\u001b[39m features_shuffle, labels_shuffle, features_name, label_encoder = load_data()\n\u001b[32m----> \u001b[39m\u001b[32m2\u001b[39m features_name = \u001b[43mfeatures_name\u001b[49m\u001b[43m.\u001b[49m\u001b[43mdrop\u001b[49m([\u001b[33m\"\u001b[39m\u001b[33mIndividual ID\u001b[39m\u001b[33m\"\u001b[39m, \u001b[33m\"\u001b[39m\u001b[33mstudyName\u001b[39m\u001b[33m\"\u001b[39m, \u001b[33m\"\u001b[39m\u001b[33mSample Number\u001b[39m\u001b[33m\"\u001b[39m, \u001b[33m\"\u001b[39m\u001b[33mCulmen Depth (mm)\u001b[39m\u001b[33m\"\u001b[39m, \u001b[33m\"\u001b[39m\u001b[33mDelta 15 N (o/oo)\u001b[39m\u001b[33m\"\u001b[39m, \u001b[33m\"\u001b[39m\u001b[33mDelta 13 C (o/oo)\u001b[39m\u001b[33m\"\u001b[39m, \u001b[33m\"\u001b[39m\u001b[33mIsland\u001b[39m\u001b[33m\"\u001b[39m], errors=\u001b[33m\"\u001b[39m\u001b[33mignore\u001b[39m\u001b[33m\"\u001b[39m)\n",
      "\u001b[31mAttributeError\u001b[39m: 'list' object has no attribute 'drop'"
     ]
    }
   ],
   "source": [
    "features_shuffle, labels_shuffle, features_name, label_encoder = load_data()"
   ]
  },
  {
   "cell_type": "code",
   "execution_count": 76,
   "metadata": {},
   "outputs": [
    {
     "data": {
      "text/html": [
       "<div>\n",
       "<style scoped>\n",
       "    .dataframe tbody tr th:only-of-type {\n",
       "        vertical-align: middle;\n",
       "    }\n",
       "\n",
       "    .dataframe tbody tr th {\n",
       "        vertical-align: top;\n",
       "    }\n",
       "\n",
       "    .dataframe thead th {\n",
       "        text-align: right;\n",
       "    }\n",
       "</style>\n",
       "<table border=\"1\" class=\"dataframe\">\n",
       "  <thead>\n",
       "    <tr style=\"text-align: right;\">\n",
       "      <th></th>\n",
       "      <th>Island</th>\n",
       "      <th>Individual ID</th>\n",
       "      <th>Culmen Length (mm)</th>\n",
       "      <th>Culmen Depth (mm)</th>\n",
       "      <th>Flipper Length (mm)</th>\n",
       "      <th>Body Mass (g)</th>\n",
       "      <th>Delta 15 N (o/oo)</th>\n",
       "      <th>Delta 13 C (o/oo)</th>\n",
       "      <th>Sex_FEMALE</th>\n",
       "      <th>Sex_MALE</th>\n",
       "    </tr>\n",
       "  </thead>\n",
       "  <tbody>\n",
       "    <tr>\n",
       "      <th>249</th>\n",
       "      <td>Biscoe</td>\n",
       "      <td>N47A2</td>\n",
       "      <td>50.0</td>\n",
       "      <td>15.3</td>\n",
       "      <td>220.0</td>\n",
       "      <td>5550.0</td>\n",
       "      <td>8.30515</td>\n",
       "      <td>-25.19017</td>\n",
       "      <td>False</td>\n",
       "      <td>True</td>\n",
       "    </tr>\n",
       "    <tr>\n",
       "      <th>123</th>\n",
       "      <td>Torgersen</td>\n",
       "      <td>N67A2</td>\n",
       "      <td>41.4</td>\n",
       "      <td>18.5</td>\n",
       "      <td>202.0</td>\n",
       "      <td>3875.0</td>\n",
       "      <td>9.59462</td>\n",
       "      <td>-25.42621</td>\n",
       "      <td>False</td>\n",
       "      <td>True</td>\n",
       "    </tr>\n",
       "    <tr>\n",
       "      <th>264</th>\n",
       "      <td>Biscoe</td>\n",
       "      <td>N8A1</td>\n",
       "      <td>50.5</td>\n",
       "      <td>15.9</td>\n",
       "      <td>222.0</td>\n",
       "      <td>5550.0</td>\n",
       "      <td>8.46894</td>\n",
       "      <td>-26.60436</td>\n",
       "      <td>False</td>\n",
       "      <td>True</td>\n",
       "    </tr>\n",
       "    <tr>\n",
       "      <th>18</th>\n",
       "      <td>Torgersen</td>\n",
       "      <td>N10A1</td>\n",
       "      <td>34.4</td>\n",
       "      <td>18.4</td>\n",
       "      <td>184.0</td>\n",
       "      <td>3325.0</td>\n",
       "      <td>8.47827</td>\n",
       "      <td>-25.23319</td>\n",
       "      <td>True</td>\n",
       "      <td>False</td>\n",
       "    </tr>\n",
       "    <tr>\n",
       "      <th>106</th>\n",
       "      <td>Biscoe</td>\n",
       "      <td>N53A1</td>\n",
       "      <td>38.6</td>\n",
       "      <td>17.2</td>\n",
       "      <td>199.0</td>\n",
       "      <td>3750.0</td>\n",
       "      <td>8.77322</td>\n",
       "      <td>-26.48973</td>\n",
       "      <td>True</td>\n",
       "      <td>False</td>\n",
       "    </tr>\n",
       "  </tbody>\n",
       "</table>\n",
       "</div>"
      ],
      "text/plain": [
       "        Island Individual ID  Culmen Length (mm)  Culmen Depth (mm)  \\\n",
       "249     Biscoe         N47A2                50.0               15.3   \n",
       "123  Torgersen         N67A2                41.4               18.5   \n",
       "264     Biscoe          N8A1                50.5               15.9   \n",
       "18   Torgersen         N10A1                34.4               18.4   \n",
       "106     Biscoe         N53A1                38.6               17.2   \n",
       "\n",
       "     Flipper Length (mm)  Body Mass (g)  Delta 15 N (o/oo)  Delta 13 C (o/oo)  \\\n",
       "249                220.0         5550.0            8.30515          -25.19017   \n",
       "123                202.0         3875.0            9.59462          -25.42621   \n",
       "264                222.0         5550.0            8.46894          -26.60436   \n",
       "18                 184.0         3325.0            8.47827          -25.23319   \n",
       "106                199.0         3750.0            8.77322          -26.48973   \n",
       "\n",
       "     Sex_FEMALE  Sex_MALE  \n",
       "249       False      True  \n",
       "123       False      True  \n",
       "264       False      True  \n",
       "18         True     False  \n",
       "106        True     False  "
      ]
     },
     "execution_count": 76,
     "metadata": {},
     "output_type": "execute_result"
    }
   ],
   "source": [
    "features_shuffle.head()"
   ]
  },
  {
   "cell_type": "code",
   "execution_count": 77,
   "metadata": {},
   "outputs": [
    {
     "data": {
      "text/html": [
       "<div>\n",
       "<style scoped>\n",
       "    .dataframe tbody tr th:only-of-type {\n",
       "        vertical-align: middle;\n",
       "    }\n",
       "\n",
       "    .dataframe tbody tr th {\n",
       "        vertical-align: top;\n",
       "    }\n",
       "\n",
       "    .dataframe thead th {\n",
       "        text-align: right;\n",
       "    }\n",
       "</style>\n",
       "<table border=\"1\" class=\"dataframe\">\n",
       "  <thead>\n",
       "    <tr style=\"text-align: right;\">\n",
       "      <th></th>\n",
       "      <th>Culmen Length (mm)</th>\n",
       "      <th>Culmen Depth (mm)</th>\n",
       "      <th>Flipper Length (mm)</th>\n",
       "      <th>Body Mass (g)</th>\n",
       "      <th>Delta 15 N (o/oo)</th>\n",
       "      <th>Delta 13 C (o/oo)</th>\n",
       "    </tr>\n",
       "  </thead>\n",
       "  <tbody>\n",
       "    <tr>\n",
       "      <th>count</th>\n",
       "      <td>325.000000</td>\n",
       "      <td>325.000000</td>\n",
       "      <td>325.000000</td>\n",
       "      <td>325.000000</td>\n",
       "      <td>325.000000</td>\n",
       "      <td>325.000000</td>\n",
       "    </tr>\n",
       "    <tr>\n",
       "      <th>mean</th>\n",
       "      <td>44.054769</td>\n",
       "      <td>17.123077</td>\n",
       "      <td>201.264615</td>\n",
       "      <td>4216.000000</td>\n",
       "      <td>8.737794</td>\n",
       "      <td>-25.690217</td>\n",
       "    </tr>\n",
       "    <tr>\n",
       "      <th>std</th>\n",
       "      <td>5.472226</td>\n",
       "      <td>1.965942</td>\n",
       "      <td>13.964598</td>\n",
       "      <td>808.859222</td>\n",
       "      <td>0.552581</td>\n",
       "      <td>0.790098</td>\n",
       "    </tr>\n",
       "    <tr>\n",
       "      <th>min</th>\n",
       "      <td>32.100000</td>\n",
       "      <td>13.100000</td>\n",
       "      <td>172.000000</td>\n",
       "      <td>2700.000000</td>\n",
       "      <td>7.632200</td>\n",
       "      <td>-27.018540</td>\n",
       "    </tr>\n",
       "    <tr>\n",
       "      <th>25%</th>\n",
       "      <td>39.500000</td>\n",
       "      <td>15.600000</td>\n",
       "      <td>190.000000</td>\n",
       "      <td>3550.000000</td>\n",
       "      <td>8.302310</td>\n",
       "      <td>-26.326010</td>\n",
       "    </tr>\n",
       "    <tr>\n",
       "      <th>50%</th>\n",
       "      <td>44.900000</td>\n",
       "      <td>17.300000</td>\n",
       "      <td>197.000000</td>\n",
       "      <td>4050.000000</td>\n",
       "      <td>8.658030</td>\n",
       "      <td>-25.852030</td>\n",
       "    </tr>\n",
       "    <tr>\n",
       "      <th>75%</th>\n",
       "      <td>48.700000</td>\n",
       "      <td>18.600000</td>\n",
       "      <td>213.000000</td>\n",
       "      <td>4800.000000</td>\n",
       "      <td>9.180210</td>\n",
       "      <td>-25.060200</td>\n",
       "    </tr>\n",
       "    <tr>\n",
       "      <th>max</th>\n",
       "      <td>59.600000</td>\n",
       "      <td>21.500000</td>\n",
       "      <td>231.000000</td>\n",
       "      <td>6300.000000</td>\n",
       "      <td>10.025440</td>\n",
       "      <td>-23.890170</td>\n",
       "    </tr>\n",
       "  </tbody>\n",
       "</table>\n",
       "</div>"
      ],
      "text/plain": [
       "       Culmen Length (mm)  Culmen Depth (mm)  Flipper Length (mm)  \\\n",
       "count          325.000000         325.000000           325.000000   \n",
       "mean            44.054769          17.123077           201.264615   \n",
       "std              5.472226           1.965942            13.964598   \n",
       "min             32.100000          13.100000           172.000000   \n",
       "25%             39.500000          15.600000           190.000000   \n",
       "50%             44.900000          17.300000           197.000000   \n",
       "75%             48.700000          18.600000           213.000000   \n",
       "max             59.600000          21.500000           231.000000   \n",
       "\n",
       "       Body Mass (g)  Delta 15 N (o/oo)  Delta 13 C (o/oo)  \n",
       "count     325.000000         325.000000         325.000000  \n",
       "mean     4216.000000           8.737794         -25.690217  \n",
       "std       808.859222           0.552581           0.790098  \n",
       "min      2700.000000           7.632200         -27.018540  \n",
       "25%      3550.000000           8.302310         -26.326010  \n",
       "50%      4050.000000           8.658030         -25.852030  \n",
       "75%      4800.000000           9.180210         -25.060200  \n",
       "max      6300.000000          10.025440         -23.890170  "
      ]
     },
     "execution_count": 77,
     "metadata": {},
     "output_type": "execute_result"
    }
   ],
   "source": [
    "features_shuffle.describe()"
   ]
  },
  {
   "cell_type": "code",
   "execution_count": 78,
   "metadata": {},
   "outputs": [
    {
     "data": {
      "text/plain": [
       "249    2\n",
       "123    0\n",
       "264    2\n",
       "18     0\n",
       "106    0\n",
       "Name: target, dtype: int64"
      ]
     },
     "execution_count": 78,
     "metadata": {},
     "output_type": "execute_result"
    }
   ],
   "source": [
    "labels_shuffle.head()"
   ]
  },
  {
   "cell_type": "code",
   "execution_count": 79,
   "metadata": {},
   "outputs": [
    {
     "data": {
      "text/plain": [
       "count    325.000000\n",
       "mean       0.938462\n",
       "std        0.890223\n",
       "min        0.000000\n",
       "25%        0.000000\n",
       "50%        1.000000\n",
       "75%        2.000000\n",
       "max        2.000000\n",
       "Name: target, dtype: float64"
      ]
     },
     "execution_count": 79,
     "metadata": {},
     "output_type": "execute_result"
    }
   ],
   "source": [
    "labels_shuffle.describe()"
   ]
  },
  {
   "cell_type": "markdown",
   "metadata": {},
   "source": [
    "# Xóa bỏ các cột không cần thiết"
   ]
  },
  {
   "cell_type": "code",
   "execution_count": 98,
   "metadata": {},
   "outputs": [],
   "source": [
    "features_shuffle = features_shuffle.drop(columns=[\"Individual ID\", \"studyName\", \"Sample Number\", \"Culmen Depth (mm)\", \"Delta 15 N (o/oo)\", \"Delta 13 C (o/oo)\", \"Island\"], errors=\"ignore\")\n",
    "features_name = [col for col in features_shuffle.columns if col not in [\"Species\", \"target\"]]"
   ]
  },
  {
   "cell_type": "code",
   "execution_count": 81,
   "metadata": {},
   "outputs": [
    {
     "data": {
      "text/html": [
       "<div>\n",
       "<style scoped>\n",
       "    .dataframe tbody tr th:only-of-type {\n",
       "        vertical-align: middle;\n",
       "    }\n",
       "\n",
       "    .dataframe tbody tr th {\n",
       "        vertical-align: top;\n",
       "    }\n",
       "\n",
       "    .dataframe thead th {\n",
       "        text-align: right;\n",
       "    }\n",
       "</style>\n",
       "<table border=\"1\" class=\"dataframe\">\n",
       "  <thead>\n",
       "    <tr style=\"text-align: right;\">\n",
       "      <th></th>\n",
       "      <th>Culmen Length (mm)</th>\n",
       "      <th>Flipper Length (mm)</th>\n",
       "      <th>Body Mass (g)</th>\n",
       "      <th>Sex_FEMALE</th>\n",
       "      <th>Sex_MALE</th>\n",
       "    </tr>\n",
       "  </thead>\n",
       "  <tbody>\n",
       "    <tr>\n",
       "      <th>249</th>\n",
       "      <td>50.0</td>\n",
       "      <td>220.0</td>\n",
       "      <td>5550.0</td>\n",
       "      <td>False</td>\n",
       "      <td>True</td>\n",
       "    </tr>\n",
       "    <tr>\n",
       "      <th>123</th>\n",
       "      <td>41.4</td>\n",
       "      <td>202.0</td>\n",
       "      <td>3875.0</td>\n",
       "      <td>False</td>\n",
       "      <td>True</td>\n",
       "    </tr>\n",
       "    <tr>\n",
       "      <th>264</th>\n",
       "      <td>50.5</td>\n",
       "      <td>222.0</td>\n",
       "      <td>5550.0</td>\n",
       "      <td>False</td>\n",
       "      <td>True</td>\n",
       "    </tr>\n",
       "    <tr>\n",
       "      <th>18</th>\n",
       "      <td>34.4</td>\n",
       "      <td>184.0</td>\n",
       "      <td>3325.0</td>\n",
       "      <td>True</td>\n",
       "      <td>False</td>\n",
       "    </tr>\n",
       "    <tr>\n",
       "      <th>106</th>\n",
       "      <td>38.6</td>\n",
       "      <td>199.0</td>\n",
       "      <td>3750.0</td>\n",
       "      <td>True</td>\n",
       "      <td>False</td>\n",
       "    </tr>\n",
       "  </tbody>\n",
       "</table>\n",
       "</div>"
      ],
      "text/plain": [
       "     Culmen Length (mm)  Flipper Length (mm)  Body Mass (g)  Sex_FEMALE  \\\n",
       "249                50.0                220.0         5550.0       False   \n",
       "123                41.4                202.0         3875.0       False   \n",
       "264                50.5                222.0         5550.0       False   \n",
       "18                 34.4                184.0         3325.0        True   \n",
       "106                38.6                199.0         3750.0        True   \n",
       "\n",
       "     Sex_MALE  \n",
       "249      True  \n",
       "123      True  \n",
       "264      True  \n",
       "18      False  \n",
       "106     False  "
      ]
     },
     "execution_count": 81,
     "metadata": {},
     "output_type": "execute_result"
    }
   ],
   "source": [
    "features_shuffle.head()"
   ]
  },
  {
   "cell_type": "code",
   "execution_count": 82,
   "metadata": {},
   "outputs": [],
   "source": [
    "features_data = features_shuffle.values\n",
    "labels_data = labels_shuffle.values"
   ]
  },
  {
   "cell_type": "code",
   "execution_count": 83,
   "metadata": {},
   "outputs": [],
   "source": [
    "# Create datasets with different ratios\n",
    "split_ratios = [(0.4, 0.6), (0.6, 0.4), (0.8, 0.2), (0.9, 0.1)]\n",
    "datasets = create_datasets(features_data, labels_data, split_ratios)"
   ]
  },
  {
   "cell_type": "markdown",
   "metadata": {},
   "source": [
    "## **2.2 Visualize the distribution of classes in all the data sets**\n"
   ]
  },
  {
   "cell_type": "code",
   "execution_count": 84,
   "metadata": {},
   "outputs": [],
   "source": [
    "def plot_label_distributions(listDatasets, listProportions, original_labels, class_names=None):\n",
    "    \"\"\"\n",
    "    Hiển thị biểu đồ phân phối nhãn trong tập gốc, tập train và tập test.\n",
    "\n",
    "    Args:\n",
    "        listDatasets (list of dict): Mỗi dict chứa X_train, X_test, y_train, y_test.\n",
    "        listProportions (list of tuples): Danh sách tỷ lệ train/test (e.g., [(0.8, 0.2)]).\n",
    "        original_labels (Series or ndarray): Nhãn ban đầu trước khi chia tập.\n",
    "        class_names (list, optional): Tên lớp (e.g., [\"Adelie\", \"Chinstrap\", \"Gentoo\"] hoặc [\"No Disease\", \"Has Disease\"]).\n",
    "                                      Nếu không có, dùng nhãn số mặc định.\n",
    "    \"\"\"\n",
    "\n",
    "    # Chuyển labels thành array 1D nếu cần\n",
    "    if hasattr(original_labels, \"values\"):\n",
    "        original_labels = original_labels.values\n",
    "    original_labels = np.array(original_labels).flatten()\n",
    "\n",
    "    # Các lớp nhãn\n",
    "    label_classes = sorted(np.unique(original_labels))\n",
    "\n",
    "    # Tên hiển thị trên trục X\n",
    "    if class_names is not None:\n",
    "        tick_labels = [f\"{name} ({label})\" for label, name in zip(label_classes, class_names)]\n",
    "    else:\n",
    "        tick_labels = [f\"Class {label}\" for label in label_classes]\n",
    "\n",
    "    # Đếm nhãn trong tập gốc\n",
    "    original_counts = pd.Series(original_labels).value_counts().reindex(label_classes, fill_value=0).values\n",
    "\n",
    "    for i, (train_ratio, test_ratio) in enumerate(listProportions):\n",
    "        y_train = np.array(listDatasets[i]['y_train']).flatten()\n",
    "        y_test = np.array(listDatasets[i]['y_test']).flatten()\n",
    "\n",
    "        train_counts = pd.Series(y_train).value_counts().reindex(label_classes, fill_value=0).values\n",
    "        test_counts = pd.Series(y_test).value_counts().reindex(label_classes, fill_value=0).values\n",
    "\n",
    "        x = np.arange(len(label_classes))\n",
    "        width = 0.25\n",
    "\n",
    "        fig = go.Figure()\n",
    "\n",
    "        fig.add_trace(go.Bar(\n",
    "            x=x - width,\n",
    "            y=original_counts,\n",
    "            width=width,\n",
    "            name=\"Original Set\",\n",
    "            text=label_classes,\n",
    "            hoverinfo=\"x+y+text\",\n",
    "            marker_color=px.colors.qualitative.Plotly[0]\n",
    "        ))\n",
    "\n",
    "        fig.add_trace(go.Bar(\n",
    "            x=x,\n",
    "            y=train_counts,\n",
    "            width=width,\n",
    "            name=\"Training Set\",\n",
    "            text=label_classes,\n",
    "            hoverinfo=\"x+y+text\",\n",
    "            marker_color=px.colors.qualitative.Plotly[1]\n",
    "        ))\n",
    "\n",
    "        fig.add_trace(go.Bar(\n",
    "            x=x + width,\n",
    "            y=test_counts,\n",
    "            width=width,\n",
    "            name=\"Testing Set\",\n",
    "            text=label_classes,\n",
    "            hoverinfo=\"x+y+text\",\n",
    "            marker_color=px.colors.qualitative.Plotly[2]\n",
    "        ))\n",
    "\n",
    "        fig.update_layout(\n",
    "            title=f\"Label Distribution - Split ({int(train_ratio * 100)}% Train, {int(test_ratio * 100)}% Test)\",\n",
    "            xaxis=dict(title=\"Labels\", tickvals=x, ticktext=tick_labels),\n",
    "            yaxis=dict(title=\"Count\"),\n",
    "            barmode=\"group\",\n",
    "            legend_title_text=\"Dataset\"\n",
    "        )\n",
    "\n",
    "        fig.show()"
   ]
  },
  {
   "cell_type": "code",
   "execution_count": 85,
   "metadata": {},
   "outputs": [
    {
     "data": {
      "application/vnd.plotly.v1+json": {
       "config": {
        "plotlyServerURL": "https://plot.ly"
       },
       "data": [
        {
         "hoverinfo": "x+y+text",
         "marker": {
          "color": "#636EFA"
         },
         "name": "Original Set",
         "text": [
          "0",
          "1",
          "2"
         ],
         "type": "bar",
         "width": 0.25,
         "x": {
          "bdata": "AAAAAAAA0L8AAAAAAADoPwAAAAAAAPw/",
          "dtype": "f8"
         },
         "y": {
          "bdata": "iwBDAHcA",
          "dtype": "i2"
         }
        },
        {
         "hoverinfo": "x+y+text",
         "marker": {
          "color": "#EF553B"
         },
         "name": "Training Set",
         "text": [
          "0",
          "1",
          "2"
         ],
         "type": "bar",
         "width": 0.25,
         "x": {
          "bdata": "AAEC",
          "dtype": "i1"
         },
         "y": {
          "bdata": "Nxsw",
          "dtype": "i1"
         }
        },
        {
         "hoverinfo": "x+y+text",
         "marker": {
          "color": "#00CC96"
         },
         "name": "Testing Set",
         "text": [
          "0",
          "1",
          "2"
         ],
         "type": "bar",
         "width": 0.25,
         "x": {
          "bdata": "AAAAAAAA0D8AAAAAAAD0PwAAAAAAAAJA",
          "dtype": "f8"
         },
         "y": {
          "bdata": "VChH",
          "dtype": "i1"
         }
        }
       ],
       "layout": {
        "barmode": "group",
        "legend": {
         "title": {
          "text": "Dataset"
         }
        },
        "template": {
         "data": {
          "bar": [
           {
            "error_x": {
             "color": "#2a3f5f"
            },
            "error_y": {
             "color": "#2a3f5f"
            },
            "marker": {
             "line": {
              "color": "#E5ECF6",
              "width": 0.5
             },
             "pattern": {
              "fillmode": "overlay",
              "size": 10,
              "solidity": 0.2
             }
            },
            "type": "bar"
           }
          ],
          "barpolar": [
           {
            "marker": {
             "line": {
              "color": "#E5ECF6",
              "width": 0.5
             },
             "pattern": {
              "fillmode": "overlay",
              "size": 10,
              "solidity": 0.2
             }
            },
            "type": "barpolar"
           }
          ],
          "carpet": [
           {
            "aaxis": {
             "endlinecolor": "#2a3f5f",
             "gridcolor": "white",
             "linecolor": "white",
             "minorgridcolor": "white",
             "startlinecolor": "#2a3f5f"
            },
            "baxis": {
             "endlinecolor": "#2a3f5f",
             "gridcolor": "white",
             "linecolor": "white",
             "minorgridcolor": "white",
             "startlinecolor": "#2a3f5f"
            },
            "type": "carpet"
           }
          ],
          "choropleth": [
           {
            "colorbar": {
             "outlinewidth": 0,
             "ticks": ""
            },
            "type": "choropleth"
           }
          ],
          "contour": [
           {
            "colorbar": {
             "outlinewidth": 0,
             "ticks": ""
            },
            "colorscale": [
             [
              0,
              "#0d0887"
             ],
             [
              0.1111111111111111,
              "#46039f"
             ],
             [
              0.2222222222222222,
              "#7201a8"
             ],
             [
              0.3333333333333333,
              "#9c179e"
             ],
             [
              0.4444444444444444,
              "#bd3786"
             ],
             [
              0.5555555555555556,
              "#d8576b"
             ],
             [
              0.6666666666666666,
              "#ed7953"
             ],
             [
              0.7777777777777778,
              "#fb9f3a"
             ],
             [
              0.8888888888888888,
              "#fdca26"
             ],
             [
              1,
              "#f0f921"
             ]
            ],
            "type": "contour"
           }
          ],
          "contourcarpet": [
           {
            "colorbar": {
             "outlinewidth": 0,
             "ticks": ""
            },
            "type": "contourcarpet"
           }
          ],
          "heatmap": [
           {
            "colorbar": {
             "outlinewidth": 0,
             "ticks": ""
            },
            "colorscale": [
             [
              0,
              "#0d0887"
             ],
             [
              0.1111111111111111,
              "#46039f"
             ],
             [
              0.2222222222222222,
              "#7201a8"
             ],
             [
              0.3333333333333333,
              "#9c179e"
             ],
             [
              0.4444444444444444,
              "#bd3786"
             ],
             [
              0.5555555555555556,
              "#d8576b"
             ],
             [
              0.6666666666666666,
              "#ed7953"
             ],
             [
              0.7777777777777778,
              "#fb9f3a"
             ],
             [
              0.8888888888888888,
              "#fdca26"
             ],
             [
              1,
              "#f0f921"
             ]
            ],
            "type": "heatmap"
           }
          ],
          "histogram": [
           {
            "marker": {
             "pattern": {
              "fillmode": "overlay",
              "size": 10,
              "solidity": 0.2
             }
            },
            "type": "histogram"
           }
          ],
          "histogram2d": [
           {
            "colorbar": {
             "outlinewidth": 0,
             "ticks": ""
            },
            "colorscale": [
             [
              0,
              "#0d0887"
             ],
             [
              0.1111111111111111,
              "#46039f"
             ],
             [
              0.2222222222222222,
              "#7201a8"
             ],
             [
              0.3333333333333333,
              "#9c179e"
             ],
             [
              0.4444444444444444,
              "#bd3786"
             ],
             [
              0.5555555555555556,
              "#d8576b"
             ],
             [
              0.6666666666666666,
              "#ed7953"
             ],
             [
              0.7777777777777778,
              "#fb9f3a"
             ],
             [
              0.8888888888888888,
              "#fdca26"
             ],
             [
              1,
              "#f0f921"
             ]
            ],
            "type": "histogram2d"
           }
          ],
          "histogram2dcontour": [
           {
            "colorbar": {
             "outlinewidth": 0,
             "ticks": ""
            },
            "colorscale": [
             [
              0,
              "#0d0887"
             ],
             [
              0.1111111111111111,
              "#46039f"
             ],
             [
              0.2222222222222222,
              "#7201a8"
             ],
             [
              0.3333333333333333,
              "#9c179e"
             ],
             [
              0.4444444444444444,
              "#bd3786"
             ],
             [
              0.5555555555555556,
              "#d8576b"
             ],
             [
              0.6666666666666666,
              "#ed7953"
             ],
             [
              0.7777777777777778,
              "#fb9f3a"
             ],
             [
              0.8888888888888888,
              "#fdca26"
             ],
             [
              1,
              "#f0f921"
             ]
            ],
            "type": "histogram2dcontour"
           }
          ],
          "mesh3d": [
           {
            "colorbar": {
             "outlinewidth": 0,
             "ticks": ""
            },
            "type": "mesh3d"
           }
          ],
          "parcoords": [
           {
            "line": {
             "colorbar": {
              "outlinewidth": 0,
              "ticks": ""
             }
            },
            "type": "parcoords"
           }
          ],
          "pie": [
           {
            "automargin": true,
            "type": "pie"
           }
          ],
          "scatter": [
           {
            "fillpattern": {
             "fillmode": "overlay",
             "size": 10,
             "solidity": 0.2
            },
            "type": "scatter"
           }
          ],
          "scatter3d": [
           {
            "line": {
             "colorbar": {
              "outlinewidth": 0,
              "ticks": ""
             }
            },
            "marker": {
             "colorbar": {
              "outlinewidth": 0,
              "ticks": ""
             }
            },
            "type": "scatter3d"
           }
          ],
          "scattercarpet": [
           {
            "marker": {
             "colorbar": {
              "outlinewidth": 0,
              "ticks": ""
             }
            },
            "type": "scattercarpet"
           }
          ],
          "scattergeo": [
           {
            "marker": {
             "colorbar": {
              "outlinewidth": 0,
              "ticks": ""
             }
            },
            "type": "scattergeo"
           }
          ],
          "scattergl": [
           {
            "marker": {
             "colorbar": {
              "outlinewidth": 0,
              "ticks": ""
             }
            },
            "type": "scattergl"
           }
          ],
          "scattermap": [
           {
            "marker": {
             "colorbar": {
              "outlinewidth": 0,
              "ticks": ""
             }
            },
            "type": "scattermap"
           }
          ],
          "scattermapbox": [
           {
            "marker": {
             "colorbar": {
              "outlinewidth": 0,
              "ticks": ""
             }
            },
            "type": "scattermapbox"
           }
          ],
          "scatterpolar": [
           {
            "marker": {
             "colorbar": {
              "outlinewidth": 0,
              "ticks": ""
             }
            },
            "type": "scatterpolar"
           }
          ],
          "scatterpolargl": [
           {
            "marker": {
             "colorbar": {
              "outlinewidth": 0,
              "ticks": ""
             }
            },
            "type": "scatterpolargl"
           }
          ],
          "scatterternary": [
           {
            "marker": {
             "colorbar": {
              "outlinewidth": 0,
              "ticks": ""
             }
            },
            "type": "scatterternary"
           }
          ],
          "surface": [
           {
            "colorbar": {
             "outlinewidth": 0,
             "ticks": ""
            },
            "colorscale": [
             [
              0,
              "#0d0887"
             ],
             [
              0.1111111111111111,
              "#46039f"
             ],
             [
              0.2222222222222222,
              "#7201a8"
             ],
             [
              0.3333333333333333,
              "#9c179e"
             ],
             [
              0.4444444444444444,
              "#bd3786"
             ],
             [
              0.5555555555555556,
              "#d8576b"
             ],
             [
              0.6666666666666666,
              "#ed7953"
             ],
             [
              0.7777777777777778,
              "#fb9f3a"
             ],
             [
              0.8888888888888888,
              "#fdca26"
             ],
             [
              1,
              "#f0f921"
             ]
            ],
            "type": "surface"
           }
          ],
          "table": [
           {
            "cells": {
             "fill": {
              "color": "#EBF0F8"
             },
             "line": {
              "color": "white"
             }
            },
            "header": {
             "fill": {
              "color": "#C8D4E3"
             },
             "line": {
              "color": "white"
             }
            },
            "type": "table"
           }
          ]
         },
         "layout": {
          "annotationdefaults": {
           "arrowcolor": "#2a3f5f",
           "arrowhead": 0,
           "arrowwidth": 1
          },
          "autotypenumbers": "strict",
          "coloraxis": {
           "colorbar": {
            "outlinewidth": 0,
            "ticks": ""
           }
          },
          "colorscale": {
           "diverging": [
            [
             0,
             "#8e0152"
            ],
            [
             0.1,
             "#c51b7d"
            ],
            [
             0.2,
             "#de77ae"
            ],
            [
             0.3,
             "#f1b6da"
            ],
            [
             0.4,
             "#fde0ef"
            ],
            [
             0.5,
             "#f7f7f7"
            ],
            [
             0.6,
             "#e6f5d0"
            ],
            [
             0.7,
             "#b8e186"
            ],
            [
             0.8,
             "#7fbc41"
            ],
            [
             0.9,
             "#4d9221"
            ],
            [
             1,
             "#276419"
            ]
           ],
           "sequential": [
            [
             0,
             "#0d0887"
            ],
            [
             0.1111111111111111,
             "#46039f"
            ],
            [
             0.2222222222222222,
             "#7201a8"
            ],
            [
             0.3333333333333333,
             "#9c179e"
            ],
            [
             0.4444444444444444,
             "#bd3786"
            ],
            [
             0.5555555555555556,
             "#d8576b"
            ],
            [
             0.6666666666666666,
             "#ed7953"
            ],
            [
             0.7777777777777778,
             "#fb9f3a"
            ],
            [
             0.8888888888888888,
             "#fdca26"
            ],
            [
             1,
             "#f0f921"
            ]
           ],
           "sequentialminus": [
            [
             0,
             "#0d0887"
            ],
            [
             0.1111111111111111,
             "#46039f"
            ],
            [
             0.2222222222222222,
             "#7201a8"
            ],
            [
             0.3333333333333333,
             "#9c179e"
            ],
            [
             0.4444444444444444,
             "#bd3786"
            ],
            [
             0.5555555555555556,
             "#d8576b"
            ],
            [
             0.6666666666666666,
             "#ed7953"
            ],
            [
             0.7777777777777778,
             "#fb9f3a"
            ],
            [
             0.8888888888888888,
             "#fdca26"
            ],
            [
             1,
             "#f0f921"
            ]
           ]
          },
          "colorway": [
           "#636efa",
           "#EF553B",
           "#00cc96",
           "#ab63fa",
           "#FFA15A",
           "#19d3f3",
           "#FF6692",
           "#B6E880",
           "#FF97FF",
           "#FECB52"
          ],
          "font": {
           "color": "#2a3f5f"
          },
          "geo": {
           "bgcolor": "white",
           "lakecolor": "white",
           "landcolor": "#E5ECF6",
           "showlakes": true,
           "showland": true,
           "subunitcolor": "white"
          },
          "hoverlabel": {
           "align": "left"
          },
          "hovermode": "closest",
          "mapbox": {
           "style": "light"
          },
          "paper_bgcolor": "white",
          "plot_bgcolor": "#E5ECF6",
          "polar": {
           "angularaxis": {
            "gridcolor": "white",
            "linecolor": "white",
            "ticks": ""
           },
           "bgcolor": "#E5ECF6",
           "radialaxis": {
            "gridcolor": "white",
            "linecolor": "white",
            "ticks": ""
           }
          },
          "scene": {
           "xaxis": {
            "backgroundcolor": "#E5ECF6",
            "gridcolor": "white",
            "gridwidth": 2,
            "linecolor": "white",
            "showbackground": true,
            "ticks": "",
            "zerolinecolor": "white"
           },
           "yaxis": {
            "backgroundcolor": "#E5ECF6",
            "gridcolor": "white",
            "gridwidth": 2,
            "linecolor": "white",
            "showbackground": true,
            "ticks": "",
            "zerolinecolor": "white"
           },
           "zaxis": {
            "backgroundcolor": "#E5ECF6",
            "gridcolor": "white",
            "gridwidth": 2,
            "linecolor": "white",
            "showbackground": true,
            "ticks": "",
            "zerolinecolor": "white"
           }
          },
          "shapedefaults": {
           "line": {
            "color": "#2a3f5f"
           }
          },
          "ternary": {
           "aaxis": {
            "gridcolor": "white",
            "linecolor": "white",
            "ticks": ""
           },
           "baxis": {
            "gridcolor": "white",
            "linecolor": "white",
            "ticks": ""
           },
           "bgcolor": "#E5ECF6",
           "caxis": {
            "gridcolor": "white",
            "linecolor": "white",
            "ticks": ""
           }
          },
          "title": {
           "x": 0.05
          },
          "xaxis": {
           "automargin": true,
           "gridcolor": "white",
           "linecolor": "white",
           "ticks": "",
           "title": {
            "standoff": 15
           },
           "zerolinecolor": "white",
           "zerolinewidth": 2
          },
          "yaxis": {
           "automargin": true,
           "gridcolor": "white",
           "linecolor": "white",
           "ticks": "",
           "title": {
            "standoff": 15
           },
           "zerolinecolor": "white",
           "zerolinewidth": 2
          }
         }
        },
        "title": {
         "text": "Label Distribution - Split (40% Train, 60% Test)"
        },
        "xaxis": {
         "ticktext": [
          "Adelie Penguin (Pygoscelis adeliae) (0)",
          "Chinstrap penguin (Pygoscelis antarctica) (1)",
          "Gentoo penguin (Pygoscelis papua) (2)"
         ],
         "tickvals": {
          "bdata": "AAEC",
          "dtype": "i1"
         },
         "title": {
          "text": "Labels"
         }
        },
        "yaxis": {
         "title": {
          "text": "Count"
         }
        }
       }
      }
     },
     "metadata": {},
     "output_type": "display_data"
    },
    {
     "data": {
      "application/vnd.plotly.v1+json": {
       "config": {
        "plotlyServerURL": "https://plot.ly"
       },
       "data": [
        {
         "hoverinfo": "x+y+text",
         "marker": {
          "color": "#636EFA"
         },
         "name": "Original Set",
         "text": [
          "0",
          "1",
          "2"
         ],
         "type": "bar",
         "width": 0.25,
         "x": {
          "bdata": "AAAAAAAA0L8AAAAAAADoPwAAAAAAAPw/",
          "dtype": "f8"
         },
         "y": {
          "bdata": "iwBDAHcA",
          "dtype": "i2"
         }
        },
        {
         "hoverinfo": "x+y+text",
         "marker": {
          "color": "#EF553B"
         },
         "name": "Training Set",
         "text": [
          "0",
          "1",
          "2"
         ],
         "type": "bar",
         "width": 0.25,
         "x": {
          "bdata": "AAEC",
          "dtype": "i1"
         },
         "y": {
          "bdata": "UyhI",
          "dtype": "i1"
         }
        },
        {
         "hoverinfo": "x+y+text",
         "marker": {
          "color": "#00CC96"
         },
         "name": "Testing Set",
         "text": [
          "0",
          "1",
          "2"
         ],
         "type": "bar",
         "width": 0.25,
         "x": {
          "bdata": "AAAAAAAA0D8AAAAAAAD0PwAAAAAAAAJA",
          "dtype": "f8"
         },
         "y": {
          "bdata": "OBsv",
          "dtype": "i1"
         }
        }
       ],
       "layout": {
        "barmode": "group",
        "legend": {
         "title": {
          "text": "Dataset"
         }
        },
        "template": {
         "data": {
          "bar": [
           {
            "error_x": {
             "color": "#2a3f5f"
            },
            "error_y": {
             "color": "#2a3f5f"
            },
            "marker": {
             "line": {
              "color": "#E5ECF6",
              "width": 0.5
             },
             "pattern": {
              "fillmode": "overlay",
              "size": 10,
              "solidity": 0.2
             }
            },
            "type": "bar"
           }
          ],
          "barpolar": [
           {
            "marker": {
             "line": {
              "color": "#E5ECF6",
              "width": 0.5
             },
             "pattern": {
              "fillmode": "overlay",
              "size": 10,
              "solidity": 0.2
             }
            },
            "type": "barpolar"
           }
          ],
          "carpet": [
           {
            "aaxis": {
             "endlinecolor": "#2a3f5f",
             "gridcolor": "white",
             "linecolor": "white",
             "minorgridcolor": "white",
             "startlinecolor": "#2a3f5f"
            },
            "baxis": {
             "endlinecolor": "#2a3f5f",
             "gridcolor": "white",
             "linecolor": "white",
             "minorgridcolor": "white",
             "startlinecolor": "#2a3f5f"
            },
            "type": "carpet"
           }
          ],
          "choropleth": [
           {
            "colorbar": {
             "outlinewidth": 0,
             "ticks": ""
            },
            "type": "choropleth"
           }
          ],
          "contour": [
           {
            "colorbar": {
             "outlinewidth": 0,
             "ticks": ""
            },
            "colorscale": [
             [
              0,
              "#0d0887"
             ],
             [
              0.1111111111111111,
              "#46039f"
             ],
             [
              0.2222222222222222,
              "#7201a8"
             ],
             [
              0.3333333333333333,
              "#9c179e"
             ],
             [
              0.4444444444444444,
              "#bd3786"
             ],
             [
              0.5555555555555556,
              "#d8576b"
             ],
             [
              0.6666666666666666,
              "#ed7953"
             ],
             [
              0.7777777777777778,
              "#fb9f3a"
             ],
             [
              0.8888888888888888,
              "#fdca26"
             ],
             [
              1,
              "#f0f921"
             ]
            ],
            "type": "contour"
           }
          ],
          "contourcarpet": [
           {
            "colorbar": {
             "outlinewidth": 0,
             "ticks": ""
            },
            "type": "contourcarpet"
           }
          ],
          "heatmap": [
           {
            "colorbar": {
             "outlinewidth": 0,
             "ticks": ""
            },
            "colorscale": [
             [
              0,
              "#0d0887"
             ],
             [
              0.1111111111111111,
              "#46039f"
             ],
             [
              0.2222222222222222,
              "#7201a8"
             ],
             [
              0.3333333333333333,
              "#9c179e"
             ],
             [
              0.4444444444444444,
              "#bd3786"
             ],
             [
              0.5555555555555556,
              "#d8576b"
             ],
             [
              0.6666666666666666,
              "#ed7953"
             ],
             [
              0.7777777777777778,
              "#fb9f3a"
             ],
             [
              0.8888888888888888,
              "#fdca26"
             ],
             [
              1,
              "#f0f921"
             ]
            ],
            "type": "heatmap"
           }
          ],
          "histogram": [
           {
            "marker": {
             "pattern": {
              "fillmode": "overlay",
              "size": 10,
              "solidity": 0.2
             }
            },
            "type": "histogram"
           }
          ],
          "histogram2d": [
           {
            "colorbar": {
             "outlinewidth": 0,
             "ticks": ""
            },
            "colorscale": [
             [
              0,
              "#0d0887"
             ],
             [
              0.1111111111111111,
              "#46039f"
             ],
             [
              0.2222222222222222,
              "#7201a8"
             ],
             [
              0.3333333333333333,
              "#9c179e"
             ],
             [
              0.4444444444444444,
              "#bd3786"
             ],
             [
              0.5555555555555556,
              "#d8576b"
             ],
             [
              0.6666666666666666,
              "#ed7953"
             ],
             [
              0.7777777777777778,
              "#fb9f3a"
             ],
             [
              0.8888888888888888,
              "#fdca26"
             ],
             [
              1,
              "#f0f921"
             ]
            ],
            "type": "histogram2d"
           }
          ],
          "histogram2dcontour": [
           {
            "colorbar": {
             "outlinewidth": 0,
             "ticks": ""
            },
            "colorscale": [
             [
              0,
              "#0d0887"
             ],
             [
              0.1111111111111111,
              "#46039f"
             ],
             [
              0.2222222222222222,
              "#7201a8"
             ],
             [
              0.3333333333333333,
              "#9c179e"
             ],
             [
              0.4444444444444444,
              "#bd3786"
             ],
             [
              0.5555555555555556,
              "#d8576b"
             ],
             [
              0.6666666666666666,
              "#ed7953"
             ],
             [
              0.7777777777777778,
              "#fb9f3a"
             ],
             [
              0.8888888888888888,
              "#fdca26"
             ],
             [
              1,
              "#f0f921"
             ]
            ],
            "type": "histogram2dcontour"
           }
          ],
          "mesh3d": [
           {
            "colorbar": {
             "outlinewidth": 0,
             "ticks": ""
            },
            "type": "mesh3d"
           }
          ],
          "parcoords": [
           {
            "line": {
             "colorbar": {
              "outlinewidth": 0,
              "ticks": ""
             }
            },
            "type": "parcoords"
           }
          ],
          "pie": [
           {
            "automargin": true,
            "type": "pie"
           }
          ],
          "scatter": [
           {
            "fillpattern": {
             "fillmode": "overlay",
             "size": 10,
             "solidity": 0.2
            },
            "type": "scatter"
           }
          ],
          "scatter3d": [
           {
            "line": {
             "colorbar": {
              "outlinewidth": 0,
              "ticks": ""
             }
            },
            "marker": {
             "colorbar": {
              "outlinewidth": 0,
              "ticks": ""
             }
            },
            "type": "scatter3d"
           }
          ],
          "scattercarpet": [
           {
            "marker": {
             "colorbar": {
              "outlinewidth": 0,
              "ticks": ""
             }
            },
            "type": "scattercarpet"
           }
          ],
          "scattergeo": [
           {
            "marker": {
             "colorbar": {
              "outlinewidth": 0,
              "ticks": ""
             }
            },
            "type": "scattergeo"
           }
          ],
          "scattergl": [
           {
            "marker": {
             "colorbar": {
              "outlinewidth": 0,
              "ticks": ""
             }
            },
            "type": "scattergl"
           }
          ],
          "scattermap": [
           {
            "marker": {
             "colorbar": {
              "outlinewidth": 0,
              "ticks": ""
             }
            },
            "type": "scattermap"
           }
          ],
          "scattermapbox": [
           {
            "marker": {
             "colorbar": {
              "outlinewidth": 0,
              "ticks": ""
             }
            },
            "type": "scattermapbox"
           }
          ],
          "scatterpolar": [
           {
            "marker": {
             "colorbar": {
              "outlinewidth": 0,
              "ticks": ""
             }
            },
            "type": "scatterpolar"
           }
          ],
          "scatterpolargl": [
           {
            "marker": {
             "colorbar": {
              "outlinewidth": 0,
              "ticks": ""
             }
            },
            "type": "scatterpolargl"
           }
          ],
          "scatterternary": [
           {
            "marker": {
             "colorbar": {
              "outlinewidth": 0,
              "ticks": ""
             }
            },
            "type": "scatterternary"
           }
          ],
          "surface": [
           {
            "colorbar": {
             "outlinewidth": 0,
             "ticks": ""
            },
            "colorscale": [
             [
              0,
              "#0d0887"
             ],
             [
              0.1111111111111111,
              "#46039f"
             ],
             [
              0.2222222222222222,
              "#7201a8"
             ],
             [
              0.3333333333333333,
              "#9c179e"
             ],
             [
              0.4444444444444444,
              "#bd3786"
             ],
             [
              0.5555555555555556,
              "#d8576b"
             ],
             [
              0.6666666666666666,
              "#ed7953"
             ],
             [
              0.7777777777777778,
              "#fb9f3a"
             ],
             [
              0.8888888888888888,
              "#fdca26"
             ],
             [
              1,
              "#f0f921"
             ]
            ],
            "type": "surface"
           }
          ],
          "table": [
           {
            "cells": {
             "fill": {
              "color": "#EBF0F8"
             },
             "line": {
              "color": "white"
             }
            },
            "header": {
             "fill": {
              "color": "#C8D4E3"
             },
             "line": {
              "color": "white"
             }
            },
            "type": "table"
           }
          ]
         },
         "layout": {
          "annotationdefaults": {
           "arrowcolor": "#2a3f5f",
           "arrowhead": 0,
           "arrowwidth": 1
          },
          "autotypenumbers": "strict",
          "coloraxis": {
           "colorbar": {
            "outlinewidth": 0,
            "ticks": ""
           }
          },
          "colorscale": {
           "diverging": [
            [
             0,
             "#8e0152"
            ],
            [
             0.1,
             "#c51b7d"
            ],
            [
             0.2,
             "#de77ae"
            ],
            [
             0.3,
             "#f1b6da"
            ],
            [
             0.4,
             "#fde0ef"
            ],
            [
             0.5,
             "#f7f7f7"
            ],
            [
             0.6,
             "#e6f5d0"
            ],
            [
             0.7,
             "#b8e186"
            ],
            [
             0.8,
             "#7fbc41"
            ],
            [
             0.9,
             "#4d9221"
            ],
            [
             1,
             "#276419"
            ]
           ],
           "sequential": [
            [
             0,
             "#0d0887"
            ],
            [
             0.1111111111111111,
             "#46039f"
            ],
            [
             0.2222222222222222,
             "#7201a8"
            ],
            [
             0.3333333333333333,
             "#9c179e"
            ],
            [
             0.4444444444444444,
             "#bd3786"
            ],
            [
             0.5555555555555556,
             "#d8576b"
            ],
            [
             0.6666666666666666,
             "#ed7953"
            ],
            [
             0.7777777777777778,
             "#fb9f3a"
            ],
            [
             0.8888888888888888,
             "#fdca26"
            ],
            [
             1,
             "#f0f921"
            ]
           ],
           "sequentialminus": [
            [
             0,
             "#0d0887"
            ],
            [
             0.1111111111111111,
             "#46039f"
            ],
            [
             0.2222222222222222,
             "#7201a8"
            ],
            [
             0.3333333333333333,
             "#9c179e"
            ],
            [
             0.4444444444444444,
             "#bd3786"
            ],
            [
             0.5555555555555556,
             "#d8576b"
            ],
            [
             0.6666666666666666,
             "#ed7953"
            ],
            [
             0.7777777777777778,
             "#fb9f3a"
            ],
            [
             0.8888888888888888,
             "#fdca26"
            ],
            [
             1,
             "#f0f921"
            ]
           ]
          },
          "colorway": [
           "#636efa",
           "#EF553B",
           "#00cc96",
           "#ab63fa",
           "#FFA15A",
           "#19d3f3",
           "#FF6692",
           "#B6E880",
           "#FF97FF",
           "#FECB52"
          ],
          "font": {
           "color": "#2a3f5f"
          },
          "geo": {
           "bgcolor": "white",
           "lakecolor": "white",
           "landcolor": "#E5ECF6",
           "showlakes": true,
           "showland": true,
           "subunitcolor": "white"
          },
          "hoverlabel": {
           "align": "left"
          },
          "hovermode": "closest",
          "mapbox": {
           "style": "light"
          },
          "paper_bgcolor": "white",
          "plot_bgcolor": "#E5ECF6",
          "polar": {
           "angularaxis": {
            "gridcolor": "white",
            "linecolor": "white",
            "ticks": ""
           },
           "bgcolor": "#E5ECF6",
           "radialaxis": {
            "gridcolor": "white",
            "linecolor": "white",
            "ticks": ""
           }
          },
          "scene": {
           "xaxis": {
            "backgroundcolor": "#E5ECF6",
            "gridcolor": "white",
            "gridwidth": 2,
            "linecolor": "white",
            "showbackground": true,
            "ticks": "",
            "zerolinecolor": "white"
           },
           "yaxis": {
            "backgroundcolor": "#E5ECF6",
            "gridcolor": "white",
            "gridwidth": 2,
            "linecolor": "white",
            "showbackground": true,
            "ticks": "",
            "zerolinecolor": "white"
           },
           "zaxis": {
            "backgroundcolor": "#E5ECF6",
            "gridcolor": "white",
            "gridwidth": 2,
            "linecolor": "white",
            "showbackground": true,
            "ticks": "",
            "zerolinecolor": "white"
           }
          },
          "shapedefaults": {
           "line": {
            "color": "#2a3f5f"
           }
          },
          "ternary": {
           "aaxis": {
            "gridcolor": "white",
            "linecolor": "white",
            "ticks": ""
           },
           "baxis": {
            "gridcolor": "white",
            "linecolor": "white",
            "ticks": ""
           },
           "bgcolor": "#E5ECF6",
           "caxis": {
            "gridcolor": "white",
            "linecolor": "white",
            "ticks": ""
           }
          },
          "title": {
           "x": 0.05
          },
          "xaxis": {
           "automargin": true,
           "gridcolor": "white",
           "linecolor": "white",
           "ticks": "",
           "title": {
            "standoff": 15
           },
           "zerolinecolor": "white",
           "zerolinewidth": 2
          },
          "yaxis": {
           "automargin": true,
           "gridcolor": "white",
           "linecolor": "white",
           "ticks": "",
           "title": {
            "standoff": 15
           },
           "zerolinecolor": "white",
           "zerolinewidth": 2
          }
         }
        },
        "title": {
         "text": "Label Distribution - Split (60% Train, 40% Test)"
        },
        "xaxis": {
         "ticktext": [
          "Adelie Penguin (Pygoscelis adeliae) (0)",
          "Chinstrap penguin (Pygoscelis antarctica) (1)",
          "Gentoo penguin (Pygoscelis papua) (2)"
         ],
         "tickvals": {
          "bdata": "AAEC",
          "dtype": "i1"
         },
         "title": {
          "text": "Labels"
         }
        },
        "yaxis": {
         "title": {
          "text": "Count"
         }
        }
       }
      }
     },
     "metadata": {},
     "output_type": "display_data"
    },
    {
     "data": {
      "application/vnd.plotly.v1+json": {
       "config": {
        "plotlyServerURL": "https://plot.ly"
       },
       "data": [
        {
         "hoverinfo": "x+y+text",
         "marker": {
          "color": "#636EFA"
         },
         "name": "Original Set",
         "text": [
          "0",
          "1",
          "2"
         ],
         "type": "bar",
         "width": 0.25,
         "x": {
          "bdata": "AAAAAAAA0L8AAAAAAADoPwAAAAAAAPw/",
          "dtype": "f8"
         },
         "y": {
          "bdata": "iwBDAHcA",
          "dtype": "i2"
         }
        },
        {
         "hoverinfo": "x+y+text",
         "marker": {
          "color": "#EF553B"
         },
         "name": "Training Set",
         "text": [
          "0",
          "1",
          "2"
         ],
         "type": "bar",
         "width": 0.25,
         "x": {
          "bdata": "AAEC",
          "dtype": "i1"
         },
         "y": {
          "bdata": "bzZf",
          "dtype": "i1"
         }
        },
        {
         "hoverinfo": "x+y+text",
         "marker": {
          "color": "#00CC96"
         },
         "name": "Testing Set",
         "text": [
          "0",
          "1",
          "2"
         ],
         "type": "bar",
         "width": 0.25,
         "x": {
          "bdata": "AAAAAAAA0D8AAAAAAAD0PwAAAAAAAAJA",
          "dtype": "f8"
         },
         "y": {
          "bdata": "HA0Y",
          "dtype": "i1"
         }
        }
       ],
       "layout": {
        "barmode": "group",
        "legend": {
         "title": {
          "text": "Dataset"
         }
        },
        "template": {
         "data": {
          "bar": [
           {
            "error_x": {
             "color": "#2a3f5f"
            },
            "error_y": {
             "color": "#2a3f5f"
            },
            "marker": {
             "line": {
              "color": "#E5ECF6",
              "width": 0.5
             },
             "pattern": {
              "fillmode": "overlay",
              "size": 10,
              "solidity": 0.2
             }
            },
            "type": "bar"
           }
          ],
          "barpolar": [
           {
            "marker": {
             "line": {
              "color": "#E5ECF6",
              "width": 0.5
             },
             "pattern": {
              "fillmode": "overlay",
              "size": 10,
              "solidity": 0.2
             }
            },
            "type": "barpolar"
           }
          ],
          "carpet": [
           {
            "aaxis": {
             "endlinecolor": "#2a3f5f",
             "gridcolor": "white",
             "linecolor": "white",
             "minorgridcolor": "white",
             "startlinecolor": "#2a3f5f"
            },
            "baxis": {
             "endlinecolor": "#2a3f5f",
             "gridcolor": "white",
             "linecolor": "white",
             "minorgridcolor": "white",
             "startlinecolor": "#2a3f5f"
            },
            "type": "carpet"
           }
          ],
          "choropleth": [
           {
            "colorbar": {
             "outlinewidth": 0,
             "ticks": ""
            },
            "type": "choropleth"
           }
          ],
          "contour": [
           {
            "colorbar": {
             "outlinewidth": 0,
             "ticks": ""
            },
            "colorscale": [
             [
              0,
              "#0d0887"
             ],
             [
              0.1111111111111111,
              "#46039f"
             ],
             [
              0.2222222222222222,
              "#7201a8"
             ],
             [
              0.3333333333333333,
              "#9c179e"
             ],
             [
              0.4444444444444444,
              "#bd3786"
             ],
             [
              0.5555555555555556,
              "#d8576b"
             ],
             [
              0.6666666666666666,
              "#ed7953"
             ],
             [
              0.7777777777777778,
              "#fb9f3a"
             ],
             [
              0.8888888888888888,
              "#fdca26"
             ],
             [
              1,
              "#f0f921"
             ]
            ],
            "type": "contour"
           }
          ],
          "contourcarpet": [
           {
            "colorbar": {
             "outlinewidth": 0,
             "ticks": ""
            },
            "type": "contourcarpet"
           }
          ],
          "heatmap": [
           {
            "colorbar": {
             "outlinewidth": 0,
             "ticks": ""
            },
            "colorscale": [
             [
              0,
              "#0d0887"
             ],
             [
              0.1111111111111111,
              "#46039f"
             ],
             [
              0.2222222222222222,
              "#7201a8"
             ],
             [
              0.3333333333333333,
              "#9c179e"
             ],
             [
              0.4444444444444444,
              "#bd3786"
             ],
             [
              0.5555555555555556,
              "#d8576b"
             ],
             [
              0.6666666666666666,
              "#ed7953"
             ],
             [
              0.7777777777777778,
              "#fb9f3a"
             ],
             [
              0.8888888888888888,
              "#fdca26"
             ],
             [
              1,
              "#f0f921"
             ]
            ],
            "type": "heatmap"
           }
          ],
          "histogram": [
           {
            "marker": {
             "pattern": {
              "fillmode": "overlay",
              "size": 10,
              "solidity": 0.2
             }
            },
            "type": "histogram"
           }
          ],
          "histogram2d": [
           {
            "colorbar": {
             "outlinewidth": 0,
             "ticks": ""
            },
            "colorscale": [
             [
              0,
              "#0d0887"
             ],
             [
              0.1111111111111111,
              "#46039f"
             ],
             [
              0.2222222222222222,
              "#7201a8"
             ],
             [
              0.3333333333333333,
              "#9c179e"
             ],
             [
              0.4444444444444444,
              "#bd3786"
             ],
             [
              0.5555555555555556,
              "#d8576b"
             ],
             [
              0.6666666666666666,
              "#ed7953"
             ],
             [
              0.7777777777777778,
              "#fb9f3a"
             ],
             [
              0.8888888888888888,
              "#fdca26"
             ],
             [
              1,
              "#f0f921"
             ]
            ],
            "type": "histogram2d"
           }
          ],
          "histogram2dcontour": [
           {
            "colorbar": {
             "outlinewidth": 0,
             "ticks": ""
            },
            "colorscale": [
             [
              0,
              "#0d0887"
             ],
             [
              0.1111111111111111,
              "#46039f"
             ],
             [
              0.2222222222222222,
              "#7201a8"
             ],
             [
              0.3333333333333333,
              "#9c179e"
             ],
             [
              0.4444444444444444,
              "#bd3786"
             ],
             [
              0.5555555555555556,
              "#d8576b"
             ],
             [
              0.6666666666666666,
              "#ed7953"
             ],
             [
              0.7777777777777778,
              "#fb9f3a"
             ],
             [
              0.8888888888888888,
              "#fdca26"
             ],
             [
              1,
              "#f0f921"
             ]
            ],
            "type": "histogram2dcontour"
           }
          ],
          "mesh3d": [
           {
            "colorbar": {
             "outlinewidth": 0,
             "ticks": ""
            },
            "type": "mesh3d"
           }
          ],
          "parcoords": [
           {
            "line": {
             "colorbar": {
              "outlinewidth": 0,
              "ticks": ""
             }
            },
            "type": "parcoords"
           }
          ],
          "pie": [
           {
            "automargin": true,
            "type": "pie"
           }
          ],
          "scatter": [
           {
            "fillpattern": {
             "fillmode": "overlay",
             "size": 10,
             "solidity": 0.2
            },
            "type": "scatter"
           }
          ],
          "scatter3d": [
           {
            "line": {
             "colorbar": {
              "outlinewidth": 0,
              "ticks": ""
             }
            },
            "marker": {
             "colorbar": {
              "outlinewidth": 0,
              "ticks": ""
             }
            },
            "type": "scatter3d"
           }
          ],
          "scattercarpet": [
           {
            "marker": {
             "colorbar": {
              "outlinewidth": 0,
              "ticks": ""
             }
            },
            "type": "scattercarpet"
           }
          ],
          "scattergeo": [
           {
            "marker": {
             "colorbar": {
              "outlinewidth": 0,
              "ticks": ""
             }
            },
            "type": "scattergeo"
           }
          ],
          "scattergl": [
           {
            "marker": {
             "colorbar": {
              "outlinewidth": 0,
              "ticks": ""
             }
            },
            "type": "scattergl"
           }
          ],
          "scattermap": [
           {
            "marker": {
             "colorbar": {
              "outlinewidth": 0,
              "ticks": ""
             }
            },
            "type": "scattermap"
           }
          ],
          "scattermapbox": [
           {
            "marker": {
             "colorbar": {
              "outlinewidth": 0,
              "ticks": ""
             }
            },
            "type": "scattermapbox"
           }
          ],
          "scatterpolar": [
           {
            "marker": {
             "colorbar": {
              "outlinewidth": 0,
              "ticks": ""
             }
            },
            "type": "scatterpolar"
           }
          ],
          "scatterpolargl": [
           {
            "marker": {
             "colorbar": {
              "outlinewidth": 0,
              "ticks": ""
             }
            },
            "type": "scatterpolargl"
           }
          ],
          "scatterternary": [
           {
            "marker": {
             "colorbar": {
              "outlinewidth": 0,
              "ticks": ""
             }
            },
            "type": "scatterternary"
           }
          ],
          "surface": [
           {
            "colorbar": {
             "outlinewidth": 0,
             "ticks": ""
            },
            "colorscale": [
             [
              0,
              "#0d0887"
             ],
             [
              0.1111111111111111,
              "#46039f"
             ],
             [
              0.2222222222222222,
              "#7201a8"
             ],
             [
              0.3333333333333333,
              "#9c179e"
             ],
             [
              0.4444444444444444,
              "#bd3786"
             ],
             [
              0.5555555555555556,
              "#d8576b"
             ],
             [
              0.6666666666666666,
              "#ed7953"
             ],
             [
              0.7777777777777778,
              "#fb9f3a"
             ],
             [
              0.8888888888888888,
              "#fdca26"
             ],
             [
              1,
              "#f0f921"
             ]
            ],
            "type": "surface"
           }
          ],
          "table": [
           {
            "cells": {
             "fill": {
              "color": "#EBF0F8"
             },
             "line": {
              "color": "white"
             }
            },
            "header": {
             "fill": {
              "color": "#C8D4E3"
             },
             "line": {
              "color": "white"
             }
            },
            "type": "table"
           }
          ]
         },
         "layout": {
          "annotationdefaults": {
           "arrowcolor": "#2a3f5f",
           "arrowhead": 0,
           "arrowwidth": 1
          },
          "autotypenumbers": "strict",
          "coloraxis": {
           "colorbar": {
            "outlinewidth": 0,
            "ticks": ""
           }
          },
          "colorscale": {
           "diverging": [
            [
             0,
             "#8e0152"
            ],
            [
             0.1,
             "#c51b7d"
            ],
            [
             0.2,
             "#de77ae"
            ],
            [
             0.3,
             "#f1b6da"
            ],
            [
             0.4,
             "#fde0ef"
            ],
            [
             0.5,
             "#f7f7f7"
            ],
            [
             0.6,
             "#e6f5d0"
            ],
            [
             0.7,
             "#b8e186"
            ],
            [
             0.8,
             "#7fbc41"
            ],
            [
             0.9,
             "#4d9221"
            ],
            [
             1,
             "#276419"
            ]
           ],
           "sequential": [
            [
             0,
             "#0d0887"
            ],
            [
             0.1111111111111111,
             "#46039f"
            ],
            [
             0.2222222222222222,
             "#7201a8"
            ],
            [
             0.3333333333333333,
             "#9c179e"
            ],
            [
             0.4444444444444444,
             "#bd3786"
            ],
            [
             0.5555555555555556,
             "#d8576b"
            ],
            [
             0.6666666666666666,
             "#ed7953"
            ],
            [
             0.7777777777777778,
             "#fb9f3a"
            ],
            [
             0.8888888888888888,
             "#fdca26"
            ],
            [
             1,
             "#f0f921"
            ]
           ],
           "sequentialminus": [
            [
             0,
             "#0d0887"
            ],
            [
             0.1111111111111111,
             "#46039f"
            ],
            [
             0.2222222222222222,
             "#7201a8"
            ],
            [
             0.3333333333333333,
             "#9c179e"
            ],
            [
             0.4444444444444444,
             "#bd3786"
            ],
            [
             0.5555555555555556,
             "#d8576b"
            ],
            [
             0.6666666666666666,
             "#ed7953"
            ],
            [
             0.7777777777777778,
             "#fb9f3a"
            ],
            [
             0.8888888888888888,
             "#fdca26"
            ],
            [
             1,
             "#f0f921"
            ]
           ]
          },
          "colorway": [
           "#636efa",
           "#EF553B",
           "#00cc96",
           "#ab63fa",
           "#FFA15A",
           "#19d3f3",
           "#FF6692",
           "#B6E880",
           "#FF97FF",
           "#FECB52"
          ],
          "font": {
           "color": "#2a3f5f"
          },
          "geo": {
           "bgcolor": "white",
           "lakecolor": "white",
           "landcolor": "#E5ECF6",
           "showlakes": true,
           "showland": true,
           "subunitcolor": "white"
          },
          "hoverlabel": {
           "align": "left"
          },
          "hovermode": "closest",
          "mapbox": {
           "style": "light"
          },
          "paper_bgcolor": "white",
          "plot_bgcolor": "#E5ECF6",
          "polar": {
           "angularaxis": {
            "gridcolor": "white",
            "linecolor": "white",
            "ticks": ""
           },
           "bgcolor": "#E5ECF6",
           "radialaxis": {
            "gridcolor": "white",
            "linecolor": "white",
            "ticks": ""
           }
          },
          "scene": {
           "xaxis": {
            "backgroundcolor": "#E5ECF6",
            "gridcolor": "white",
            "gridwidth": 2,
            "linecolor": "white",
            "showbackground": true,
            "ticks": "",
            "zerolinecolor": "white"
           },
           "yaxis": {
            "backgroundcolor": "#E5ECF6",
            "gridcolor": "white",
            "gridwidth": 2,
            "linecolor": "white",
            "showbackground": true,
            "ticks": "",
            "zerolinecolor": "white"
           },
           "zaxis": {
            "backgroundcolor": "#E5ECF6",
            "gridcolor": "white",
            "gridwidth": 2,
            "linecolor": "white",
            "showbackground": true,
            "ticks": "",
            "zerolinecolor": "white"
           }
          },
          "shapedefaults": {
           "line": {
            "color": "#2a3f5f"
           }
          },
          "ternary": {
           "aaxis": {
            "gridcolor": "white",
            "linecolor": "white",
            "ticks": ""
           },
           "baxis": {
            "gridcolor": "white",
            "linecolor": "white",
            "ticks": ""
           },
           "bgcolor": "#E5ECF6",
           "caxis": {
            "gridcolor": "white",
            "linecolor": "white",
            "ticks": ""
           }
          },
          "title": {
           "x": 0.05
          },
          "xaxis": {
           "automargin": true,
           "gridcolor": "white",
           "linecolor": "white",
           "ticks": "",
           "title": {
            "standoff": 15
           },
           "zerolinecolor": "white",
           "zerolinewidth": 2
          },
          "yaxis": {
           "automargin": true,
           "gridcolor": "white",
           "linecolor": "white",
           "ticks": "",
           "title": {
            "standoff": 15
           },
           "zerolinecolor": "white",
           "zerolinewidth": 2
          }
         }
        },
        "title": {
         "text": "Label Distribution - Split (80% Train, 20% Test)"
        },
        "xaxis": {
         "ticktext": [
          "Adelie Penguin (Pygoscelis adeliae) (0)",
          "Chinstrap penguin (Pygoscelis antarctica) (1)",
          "Gentoo penguin (Pygoscelis papua) (2)"
         ],
         "tickvals": {
          "bdata": "AAEC",
          "dtype": "i1"
         },
         "title": {
          "text": "Labels"
         }
        },
        "yaxis": {
         "title": {
          "text": "Count"
         }
        }
       }
      }
     },
     "metadata": {},
     "output_type": "display_data"
    },
    {
     "data": {
      "application/vnd.plotly.v1+json": {
       "config": {
        "plotlyServerURL": "https://plot.ly"
       },
       "data": [
        {
         "hoverinfo": "x+y+text",
         "marker": {
          "color": "#636EFA"
         },
         "name": "Original Set",
         "text": [
          "0",
          "1",
          "2"
         ],
         "type": "bar",
         "width": 0.25,
         "x": {
          "bdata": "AAAAAAAA0L8AAAAAAADoPwAAAAAAAPw/",
          "dtype": "f8"
         },
         "y": {
          "bdata": "iwBDAHcA",
          "dtype": "i2"
         }
        },
        {
         "hoverinfo": "x+y+text",
         "marker": {
          "color": "#EF553B"
         },
         "name": "Training Set",
         "text": [
          "0",
          "1",
          "2"
         ],
         "type": "bar",
         "width": 0.25,
         "x": {
          "bdata": "AAEC",
          "dtype": "i1"
         },
         "y": {
          "bdata": "fTxr",
          "dtype": "i1"
         }
        },
        {
         "hoverinfo": "x+y+text",
         "marker": {
          "color": "#00CC96"
         },
         "name": "Testing Set",
         "text": [
          "0",
          "1",
          "2"
         ],
         "type": "bar",
         "width": 0.25,
         "x": {
          "bdata": "AAAAAAAA0D8AAAAAAAD0PwAAAAAAAAJA",
          "dtype": "f8"
         },
         "y": {
          "bdata": "DgcM",
          "dtype": "i1"
         }
        }
       ],
       "layout": {
        "barmode": "group",
        "legend": {
         "title": {
          "text": "Dataset"
         }
        },
        "template": {
         "data": {
          "bar": [
           {
            "error_x": {
             "color": "#2a3f5f"
            },
            "error_y": {
             "color": "#2a3f5f"
            },
            "marker": {
             "line": {
              "color": "#E5ECF6",
              "width": 0.5
             },
             "pattern": {
              "fillmode": "overlay",
              "size": 10,
              "solidity": 0.2
             }
            },
            "type": "bar"
           }
          ],
          "barpolar": [
           {
            "marker": {
             "line": {
              "color": "#E5ECF6",
              "width": 0.5
             },
             "pattern": {
              "fillmode": "overlay",
              "size": 10,
              "solidity": 0.2
             }
            },
            "type": "barpolar"
           }
          ],
          "carpet": [
           {
            "aaxis": {
             "endlinecolor": "#2a3f5f",
             "gridcolor": "white",
             "linecolor": "white",
             "minorgridcolor": "white",
             "startlinecolor": "#2a3f5f"
            },
            "baxis": {
             "endlinecolor": "#2a3f5f",
             "gridcolor": "white",
             "linecolor": "white",
             "minorgridcolor": "white",
             "startlinecolor": "#2a3f5f"
            },
            "type": "carpet"
           }
          ],
          "choropleth": [
           {
            "colorbar": {
             "outlinewidth": 0,
             "ticks": ""
            },
            "type": "choropleth"
           }
          ],
          "contour": [
           {
            "colorbar": {
             "outlinewidth": 0,
             "ticks": ""
            },
            "colorscale": [
             [
              0,
              "#0d0887"
             ],
             [
              0.1111111111111111,
              "#46039f"
             ],
             [
              0.2222222222222222,
              "#7201a8"
             ],
             [
              0.3333333333333333,
              "#9c179e"
             ],
             [
              0.4444444444444444,
              "#bd3786"
             ],
             [
              0.5555555555555556,
              "#d8576b"
             ],
             [
              0.6666666666666666,
              "#ed7953"
             ],
             [
              0.7777777777777778,
              "#fb9f3a"
             ],
             [
              0.8888888888888888,
              "#fdca26"
             ],
             [
              1,
              "#f0f921"
             ]
            ],
            "type": "contour"
           }
          ],
          "contourcarpet": [
           {
            "colorbar": {
             "outlinewidth": 0,
             "ticks": ""
            },
            "type": "contourcarpet"
           }
          ],
          "heatmap": [
           {
            "colorbar": {
             "outlinewidth": 0,
             "ticks": ""
            },
            "colorscale": [
             [
              0,
              "#0d0887"
             ],
             [
              0.1111111111111111,
              "#46039f"
             ],
             [
              0.2222222222222222,
              "#7201a8"
             ],
             [
              0.3333333333333333,
              "#9c179e"
             ],
             [
              0.4444444444444444,
              "#bd3786"
             ],
             [
              0.5555555555555556,
              "#d8576b"
             ],
             [
              0.6666666666666666,
              "#ed7953"
             ],
             [
              0.7777777777777778,
              "#fb9f3a"
             ],
             [
              0.8888888888888888,
              "#fdca26"
             ],
             [
              1,
              "#f0f921"
             ]
            ],
            "type": "heatmap"
           }
          ],
          "histogram": [
           {
            "marker": {
             "pattern": {
              "fillmode": "overlay",
              "size": 10,
              "solidity": 0.2
             }
            },
            "type": "histogram"
           }
          ],
          "histogram2d": [
           {
            "colorbar": {
             "outlinewidth": 0,
             "ticks": ""
            },
            "colorscale": [
             [
              0,
              "#0d0887"
             ],
             [
              0.1111111111111111,
              "#46039f"
             ],
             [
              0.2222222222222222,
              "#7201a8"
             ],
             [
              0.3333333333333333,
              "#9c179e"
             ],
             [
              0.4444444444444444,
              "#bd3786"
             ],
             [
              0.5555555555555556,
              "#d8576b"
             ],
             [
              0.6666666666666666,
              "#ed7953"
             ],
             [
              0.7777777777777778,
              "#fb9f3a"
             ],
             [
              0.8888888888888888,
              "#fdca26"
             ],
             [
              1,
              "#f0f921"
             ]
            ],
            "type": "histogram2d"
           }
          ],
          "histogram2dcontour": [
           {
            "colorbar": {
             "outlinewidth": 0,
             "ticks": ""
            },
            "colorscale": [
             [
              0,
              "#0d0887"
             ],
             [
              0.1111111111111111,
              "#46039f"
             ],
             [
              0.2222222222222222,
              "#7201a8"
             ],
             [
              0.3333333333333333,
              "#9c179e"
             ],
             [
              0.4444444444444444,
              "#bd3786"
             ],
             [
              0.5555555555555556,
              "#d8576b"
             ],
             [
              0.6666666666666666,
              "#ed7953"
             ],
             [
              0.7777777777777778,
              "#fb9f3a"
             ],
             [
              0.8888888888888888,
              "#fdca26"
             ],
             [
              1,
              "#f0f921"
             ]
            ],
            "type": "histogram2dcontour"
           }
          ],
          "mesh3d": [
           {
            "colorbar": {
             "outlinewidth": 0,
             "ticks": ""
            },
            "type": "mesh3d"
           }
          ],
          "parcoords": [
           {
            "line": {
             "colorbar": {
              "outlinewidth": 0,
              "ticks": ""
             }
            },
            "type": "parcoords"
           }
          ],
          "pie": [
           {
            "automargin": true,
            "type": "pie"
           }
          ],
          "scatter": [
           {
            "fillpattern": {
             "fillmode": "overlay",
             "size": 10,
             "solidity": 0.2
            },
            "type": "scatter"
           }
          ],
          "scatter3d": [
           {
            "line": {
             "colorbar": {
              "outlinewidth": 0,
              "ticks": ""
             }
            },
            "marker": {
             "colorbar": {
              "outlinewidth": 0,
              "ticks": ""
             }
            },
            "type": "scatter3d"
           }
          ],
          "scattercarpet": [
           {
            "marker": {
             "colorbar": {
              "outlinewidth": 0,
              "ticks": ""
             }
            },
            "type": "scattercarpet"
           }
          ],
          "scattergeo": [
           {
            "marker": {
             "colorbar": {
              "outlinewidth": 0,
              "ticks": ""
             }
            },
            "type": "scattergeo"
           }
          ],
          "scattergl": [
           {
            "marker": {
             "colorbar": {
              "outlinewidth": 0,
              "ticks": ""
             }
            },
            "type": "scattergl"
           }
          ],
          "scattermap": [
           {
            "marker": {
             "colorbar": {
              "outlinewidth": 0,
              "ticks": ""
             }
            },
            "type": "scattermap"
           }
          ],
          "scattermapbox": [
           {
            "marker": {
             "colorbar": {
              "outlinewidth": 0,
              "ticks": ""
             }
            },
            "type": "scattermapbox"
           }
          ],
          "scatterpolar": [
           {
            "marker": {
             "colorbar": {
              "outlinewidth": 0,
              "ticks": ""
             }
            },
            "type": "scatterpolar"
           }
          ],
          "scatterpolargl": [
           {
            "marker": {
             "colorbar": {
              "outlinewidth": 0,
              "ticks": ""
             }
            },
            "type": "scatterpolargl"
           }
          ],
          "scatterternary": [
           {
            "marker": {
             "colorbar": {
              "outlinewidth": 0,
              "ticks": ""
             }
            },
            "type": "scatterternary"
           }
          ],
          "surface": [
           {
            "colorbar": {
             "outlinewidth": 0,
             "ticks": ""
            },
            "colorscale": [
             [
              0,
              "#0d0887"
             ],
             [
              0.1111111111111111,
              "#46039f"
             ],
             [
              0.2222222222222222,
              "#7201a8"
             ],
             [
              0.3333333333333333,
              "#9c179e"
             ],
             [
              0.4444444444444444,
              "#bd3786"
             ],
             [
              0.5555555555555556,
              "#d8576b"
             ],
             [
              0.6666666666666666,
              "#ed7953"
             ],
             [
              0.7777777777777778,
              "#fb9f3a"
             ],
             [
              0.8888888888888888,
              "#fdca26"
             ],
             [
              1,
              "#f0f921"
             ]
            ],
            "type": "surface"
           }
          ],
          "table": [
           {
            "cells": {
             "fill": {
              "color": "#EBF0F8"
             },
             "line": {
              "color": "white"
             }
            },
            "header": {
             "fill": {
              "color": "#C8D4E3"
             },
             "line": {
              "color": "white"
             }
            },
            "type": "table"
           }
          ]
         },
         "layout": {
          "annotationdefaults": {
           "arrowcolor": "#2a3f5f",
           "arrowhead": 0,
           "arrowwidth": 1
          },
          "autotypenumbers": "strict",
          "coloraxis": {
           "colorbar": {
            "outlinewidth": 0,
            "ticks": ""
           }
          },
          "colorscale": {
           "diverging": [
            [
             0,
             "#8e0152"
            ],
            [
             0.1,
             "#c51b7d"
            ],
            [
             0.2,
             "#de77ae"
            ],
            [
             0.3,
             "#f1b6da"
            ],
            [
             0.4,
             "#fde0ef"
            ],
            [
             0.5,
             "#f7f7f7"
            ],
            [
             0.6,
             "#e6f5d0"
            ],
            [
             0.7,
             "#b8e186"
            ],
            [
             0.8,
             "#7fbc41"
            ],
            [
             0.9,
             "#4d9221"
            ],
            [
             1,
             "#276419"
            ]
           ],
           "sequential": [
            [
             0,
             "#0d0887"
            ],
            [
             0.1111111111111111,
             "#46039f"
            ],
            [
             0.2222222222222222,
             "#7201a8"
            ],
            [
             0.3333333333333333,
             "#9c179e"
            ],
            [
             0.4444444444444444,
             "#bd3786"
            ],
            [
             0.5555555555555556,
             "#d8576b"
            ],
            [
             0.6666666666666666,
             "#ed7953"
            ],
            [
             0.7777777777777778,
             "#fb9f3a"
            ],
            [
             0.8888888888888888,
             "#fdca26"
            ],
            [
             1,
             "#f0f921"
            ]
           ],
           "sequentialminus": [
            [
             0,
             "#0d0887"
            ],
            [
             0.1111111111111111,
             "#46039f"
            ],
            [
             0.2222222222222222,
             "#7201a8"
            ],
            [
             0.3333333333333333,
             "#9c179e"
            ],
            [
             0.4444444444444444,
             "#bd3786"
            ],
            [
             0.5555555555555556,
             "#d8576b"
            ],
            [
             0.6666666666666666,
             "#ed7953"
            ],
            [
             0.7777777777777778,
             "#fb9f3a"
            ],
            [
             0.8888888888888888,
             "#fdca26"
            ],
            [
             1,
             "#f0f921"
            ]
           ]
          },
          "colorway": [
           "#636efa",
           "#EF553B",
           "#00cc96",
           "#ab63fa",
           "#FFA15A",
           "#19d3f3",
           "#FF6692",
           "#B6E880",
           "#FF97FF",
           "#FECB52"
          ],
          "font": {
           "color": "#2a3f5f"
          },
          "geo": {
           "bgcolor": "white",
           "lakecolor": "white",
           "landcolor": "#E5ECF6",
           "showlakes": true,
           "showland": true,
           "subunitcolor": "white"
          },
          "hoverlabel": {
           "align": "left"
          },
          "hovermode": "closest",
          "mapbox": {
           "style": "light"
          },
          "paper_bgcolor": "white",
          "plot_bgcolor": "#E5ECF6",
          "polar": {
           "angularaxis": {
            "gridcolor": "white",
            "linecolor": "white",
            "ticks": ""
           },
           "bgcolor": "#E5ECF6",
           "radialaxis": {
            "gridcolor": "white",
            "linecolor": "white",
            "ticks": ""
           }
          },
          "scene": {
           "xaxis": {
            "backgroundcolor": "#E5ECF6",
            "gridcolor": "white",
            "gridwidth": 2,
            "linecolor": "white",
            "showbackground": true,
            "ticks": "",
            "zerolinecolor": "white"
           },
           "yaxis": {
            "backgroundcolor": "#E5ECF6",
            "gridcolor": "white",
            "gridwidth": 2,
            "linecolor": "white",
            "showbackground": true,
            "ticks": "",
            "zerolinecolor": "white"
           },
           "zaxis": {
            "backgroundcolor": "#E5ECF6",
            "gridcolor": "white",
            "gridwidth": 2,
            "linecolor": "white",
            "showbackground": true,
            "ticks": "",
            "zerolinecolor": "white"
           }
          },
          "shapedefaults": {
           "line": {
            "color": "#2a3f5f"
           }
          },
          "ternary": {
           "aaxis": {
            "gridcolor": "white",
            "linecolor": "white",
            "ticks": ""
           },
           "baxis": {
            "gridcolor": "white",
            "linecolor": "white",
            "ticks": ""
           },
           "bgcolor": "#E5ECF6",
           "caxis": {
            "gridcolor": "white",
            "linecolor": "white",
            "ticks": ""
           }
          },
          "title": {
           "x": 0.05
          },
          "xaxis": {
           "automargin": true,
           "gridcolor": "white",
           "linecolor": "white",
           "ticks": "",
           "title": {
            "standoff": 15
           },
           "zerolinecolor": "white",
           "zerolinewidth": 2
          },
          "yaxis": {
           "automargin": true,
           "gridcolor": "white",
           "linecolor": "white",
           "ticks": "",
           "title": {
            "standoff": 15
           },
           "zerolinecolor": "white",
           "zerolinewidth": 2
          }
         }
        },
        "title": {
         "text": "Label Distribution - Split (90% Train, 10% Test)"
        },
        "xaxis": {
         "ticktext": [
          "Adelie Penguin (Pygoscelis adeliae) (0)",
          "Chinstrap penguin (Pygoscelis antarctica) (1)",
          "Gentoo penguin (Pygoscelis papua) (2)"
         ],
         "tickvals": {
          "bdata": "AAEC",
          "dtype": "i1"
         },
         "title": {
          "text": "Labels"
         }
        },
        "yaxis": {
         "title": {
          "text": "Count"
         }
        }
       }
      }
     },
     "metadata": {},
     "output_type": "display_data"
    }
   ],
   "source": [
    "plot_label_distributions(datasets, split_ratios, labels_data, class_names=list(label_encoder.classes_))"
   ]
  },
  {
   "cell_type": "markdown",
   "metadata": {},
   "source": [
    "# **3. Building the decision tree classifiers**\n"
   ]
  },
  {
   "cell_type": "markdown",
   "metadata": {},
   "source": [
    "## **3.1 Training model decision tree classifiers with different split ratios**\n"
   ]
  },
  {
   "cell_type": "code",
   "execution_count": 86,
   "metadata": {},
   "outputs": [],
   "source": [
    "import os\n",
    "def train_and_save_decision_trees(datasets, split_ratios, save_dir=\"models\", random_state=42):\n",
    "    \"\"\"\n",
    "    Huấn luyện và lưu các mô hình Decision Tree ứng với các tỷ lệ train/test khác nhau.\n",
    "\n",
    "    Args:\n",
    "        datasets (list of dict): Mỗi dict chứa X_train, y_train tương ứng với tỷ lệ chia.\n",
    "        split_ratios (list of tuples): Danh sách các tỷ lệ (train_size, test_size), ví dụ: [(0.8, 0.2), ...].\n",
    "        save_dir (str): Thư mục nơi lưu các mô hình (.pkl).\n",
    "        random_state (int): Seed đảm bảo tái lập mô hình.\n",
    "\n",
    "    Returns:\n",
    "        list: Danh sách các mô hình DecisionTreeClassifier đã được huấn luyện.\n",
    "    \"\"\"\n",
    "    os.makedirs(save_dir, exist_ok=True)\n",
    "    trained_models = []\n",
    "\n",
    "    for i, (train_size, test_size) in enumerate(split_ratios):\n",
    "        data = datasets[i]\n",
    "        X_train = data['X_train']\n",
    "        y_train = data['y_train']\n",
    "\n",
    "        # Tạo và huấn luyện mô hình\n",
    "        clf = DecisionTreeClassifier(\n",
    "            criterion=\"entropy\",\n",
    "            splitter=\"best\",\n",
    "            random_state=random_state\n",
    "        )\n",
    "        clf.fit(X_train, y_train)\n",
    "        trained_models.append(clf)\n",
    "\n",
    "        # Tên file lưu\n",
    "        model_filename = f\"decision_tree_{int(train_size * 100)}_{int(test_size * 100)}.pkl\"\n",
    "        model_path = os.path.join(save_dir, model_filename)\n",
    "\n",
    "        # Lưu mô hình\n",
    "        joblib.dump(clf, model_path)\n",
    "        print(f\"✓ Model saved: {model_path}\")\n",
    "\n",
    "    return trained_models"
   ]
  },
  {
   "cell_type": "code",
   "execution_count": 89,
   "metadata": {},
   "outputs": [
    {
     "name": "stdout",
     "output_type": "stream",
     "text": [
      "✓ Model saved: models_penguins\\decision_tree_40_60.pkl\n",
      "✓ Model saved: models_penguins\\decision_tree_60_40.pkl\n",
      "✓ Model saved: models_penguins\\decision_tree_80_20.pkl\n",
      "✓ Model saved: models_penguins\\decision_tree_90_10.pkl\n"
     ]
    }
   ],
   "source": [
    "list_models = train_and_save_decision_trees(\n",
    "    datasets=datasets,\n",
    "    split_ratios=split_ratios,\n",
    "    save_dir=\"models_penguins\"\n",
    ")"
   ]
  },
  {
   "cell_type": "markdown",
   "metadata": {},
   "source": [
    "## **3.2 Visualize decision trees with different split ratios**\n"
   ]
  },
  {
   "cell_type": "code",
   "execution_count": 93,
   "metadata": {},
   "outputs": [],
   "source": [
    "def export_and_display_decision_trees(models, split_ratios, feature_names, class_labels, save_dir=\"output/split_ratios_graphviz\"):\n",
    "    \"\"\"\n",
    "    Xuất và hiển thị cây quyết định cho từng mô hình DecisionTreeClassifier đã huấn luyện,\n",
    "    theo các tỷ lệ train/test. Mỗi cây được lưu dưới dạng hình ảnh PNG.\n",
    "\n",
    "    Args:\n",
    "        models (list): Danh sách các mô hình DecisionTreeClassifier đã huấn luyện.\n",
    "        split_ratios (list of tuples): Danh sách các tỷ lệ train/test (e.g., [(0.8, 0.2)]).\n",
    "        feature_names (list): Tên các đặc trưng của dataset.\n",
    "        class_labels (list): Tên các lớp (species) sau khi mã hóa.\n",
    "        save_dir (str): Thư mục để lưu các biểu đồ cây (PNG).\n",
    "    \"\"\"\n",
    "\n",
    "    os.makedirs(save_dir, exist_ok=True)\n",
    "\n",
    "    for model, (train_ratio, test_ratio) in zip(models, split_ratios):\n",
    "        # Chuyển cây thành định dạng DOT\n",
    "        dot = export_graphviz(\n",
    "            model,\n",
    "            feature_names=feature_names,  # Đặc trưng\n",
    "            class_names=class_labels,    # Nhãn (Species)\n",
    "            filled=True,\n",
    "            rounded=True,\n",
    "            special_characters=True\n",
    "        )\n",
    "\n",
    "        # Tạo đối tượng biểu đồ từ DOT\n",
    "        tree_graph = graphviz.Source(dot)\n",
    "        tree_graph.engine = \"dot\"\n",
    "\n",
    "        # Đặt tên file và lưu\n",
    "        filename = f\"tree_{int(train_ratio*100)}_{int(test_ratio*100)}\"\n",
    "        filepath = os.path.join(save_dir, filename)\n",
    "\n",
    "        # Xuất hình ảnh cây dưới dạng PNG\n",
    "        tree_graph.render(filepath, format=\"png\", cleanup=True)\n",
    "\n",
    "        # Hiển thị cây quyết định trong notebook\n",
    "        display(tree_graph)\n",
    "\n",
    "        print(f\"✓ Decision Tree saved for split {int(train_ratio*100)}:{int(test_ratio*100)} → {filepath}.png\")"
   ]
  },
  {
   "cell_type": "code",
   "execution_count": 99,
   "metadata": {},
   "outputs": [
    {
     "data": {
      "image/svg+xml": [
       "<?xml version=\"1.0\" encoding=\"UTF-8\" standalone=\"no\"?>\n",
       "<!DOCTYPE svg PUBLIC \"-//W3C//DTD SVG 1.1//EN\"\n",
       " \"http://www.w3.org/Graphics/SVG/1.1/DTD/svg11.dtd\">\n",
       "<!-- Generated by graphviz version 12.2.1 (20241206.2353)\n",
       " -->\n",
       "<!-- Title: Tree Pages: 1 -->\n",
       "<svg width=\"838pt\" height=\"693pt\"\n",
       " viewBox=\"0.00 0.00 838.12 692.75\" xmlns=\"http://www.w3.org/2000/svg\" xmlns:xlink=\"http://www.w3.org/1999/xlink\">\n",
       "<g id=\"graph0\" class=\"graph\" transform=\"scale(1 1) rotate(0) translate(4 688.75)\">\n",
       "<title>Tree</title>\n",
       "<polygon fill=\"white\" stroke=\"none\" points=\"-4,4 -4,-688.75 834.12,-688.75 834.12,4 -4,4\"/>\n",
       "<!-- 0 -->\n",
       "<g id=\"node1\" class=\"node\">\n",
       "<title>0</title>\n",
       "<path fill=\"#fdf4ee\" stroke=\"black\" d=\"M629.75,-684.75C629.75,-684.75 466,-684.75 466,-684.75 460,-684.75 454,-678.75 454,-672.75 454,-672.75 454,-610 454,-610 454,-604 460,-598 466,-598 466,-598 629.75,-598 629.75,-598 635.75,-598 641.75,-604 641.75,-610 641.75,-610 641.75,-672.75 641.75,-672.75 641.75,-678.75 635.75,-684.75 629.75,-684.75\"/>\n",
       "<text text-anchor=\"start\" x=\"462\" y=\"-667.45\" font-family=\"Helvetica,sans-Serif\" font-size=\"14.00\">Flipper Length (mm) ≤ 206.0</text>\n",
       "<text text-anchor=\"start\" x=\"500.62\" y=\"-651.7\" font-family=\"Helvetica,sans-Serif\" font-size=\"14.00\">entropy = 1.527</text>\n",
       "<text text-anchor=\"start\" x=\"503.25\" y=\"-635.95\" font-family=\"Helvetica,sans-Serif\" font-size=\"14.00\">samples = 130</text>\n",
       "<text text-anchor=\"start\" x=\"490.12\" y=\"-620.2\" font-family=\"Helvetica,sans-Serif\" font-size=\"14.00\">value = [55, 27, 48]</text>\n",
       "<text text-anchor=\"start\" x=\"506.25\" y=\"-604.45\" font-family=\"Helvetica,sans-Serif\" font-size=\"14.00\">class = Adelie</text>\n",
       "</g>\n",
       "<!-- 1 -->\n",
       "<g id=\"node2\" class=\"node\">\n",
       "<title>1</title>\n",
       "<path fill=\"#f2be98\" stroke=\"black\" d=\"M534,-562C534,-562 371.75,-562 371.75,-562 365.75,-562 359.75,-556 359.75,-550 359.75,-550 359.75,-487.25 359.75,-487.25 359.75,-481.25 365.75,-475.25 371.75,-475.25 371.75,-475.25 534,-475.25 534,-475.25 540,-475.25 546,-481.25 546,-487.25 546,-487.25 546,-550 546,-550 546,-556 540,-562 534,-562\"/>\n",
       "<text text-anchor=\"start\" x=\"367.75\" y=\"-544.7\" font-family=\"Helvetica,sans-Serif\" font-size=\"14.00\">Culmen Length (mm) ≤ 44.2</text>\n",
       "<text text-anchor=\"start\" x=\"405.62\" y=\"-528.95\" font-family=\"Helvetica,sans-Serif\" font-size=\"14.00\">entropy = 0.989</text>\n",
       "<text text-anchor=\"start\" x=\"412\" y=\"-513.2\" font-family=\"Helvetica,sans-Serif\" font-size=\"14.00\">samples = 82</text>\n",
       "<text text-anchor=\"start\" x=\"398.88\" y=\"-497.45\" font-family=\"Helvetica,sans-Serif\" font-size=\"14.00\">value = [55, 26, 1]</text>\n",
       "<text text-anchor=\"start\" x=\"411.25\" y=\"-481.7\" font-family=\"Helvetica,sans-Serif\" font-size=\"14.00\">class = Adelie</text>\n",
       "</g>\n",
       "<!-- 0&#45;&gt;1 -->\n",
       "<g id=\"edge1\" class=\"edge\">\n",
       "<title>0&#45;&gt;1</title>\n",
       "<path fill=\"none\" stroke=\"black\" d=\"M514.38,-597.8C507.57,-589.15 500.34,-579.95 493.32,-571.03\"/>\n",
       "<polygon fill=\"black\" stroke=\"black\" points=\"496.26,-569.1 487.32,-563.41 490.75,-573.43 496.26,-569.1\"/>\n",
       "<text text-anchor=\"middle\" x=\"483.42\" y=\"-581.62\" font-family=\"Helvetica,sans-Serif\" font-size=\"14.00\">True</text>\n",
       "</g>\n",
       "<!-- 14 -->\n",
       "<g id=\"node15\" class=\"node\">\n",
       "<title>14</title>\n",
       "<path fill=\"#843de6\" stroke=\"black\" d=\"M711.88,-562C711.88,-562 575.88,-562 575.88,-562 569.88,-562 563.88,-556 563.88,-550 563.88,-550 563.88,-487.25 563.88,-487.25 563.88,-481.25 569.88,-475.25 575.88,-475.25 575.88,-475.25 711.88,-475.25 711.88,-475.25 717.88,-475.25 723.88,-481.25 723.88,-487.25 723.88,-487.25 723.88,-550 723.88,-550 723.88,-556 717.88,-562 711.88,-562\"/>\n",
       "<text text-anchor=\"start\" x=\"571.88\" y=\"-544.7\" font-family=\"Helvetica,sans-Serif\" font-size=\"14.00\">Body Mass (g) ≤ 4050.0</text>\n",
       "<text text-anchor=\"start\" x=\"596.62\" y=\"-528.95\" font-family=\"Helvetica,sans-Serif\" font-size=\"14.00\">entropy = 0.146</text>\n",
       "<text text-anchor=\"start\" x=\"603\" y=\"-513.2\" font-family=\"Helvetica,sans-Serif\" font-size=\"14.00\">samples = 48</text>\n",
       "<text text-anchor=\"start\" x=\"593.62\" y=\"-497.45\" font-family=\"Helvetica,sans-Serif\" font-size=\"14.00\">value = [0, 1, 47]</text>\n",
       "<text text-anchor=\"start\" x=\"598.12\" y=\"-481.7\" font-family=\"Helvetica,sans-Serif\" font-size=\"14.00\">class = Gentoo</text>\n",
       "</g>\n",
       "<!-- 0&#45;&gt;14 -->\n",
       "<g id=\"edge14\" class=\"edge\">\n",
       "<title>0&#45;&gt;14</title>\n",
       "<path fill=\"none\" stroke=\"black\" d=\"M581.72,-597.8C588.6,-589.15 595.91,-579.95 603.01,-571.03\"/>\n",
       "<polygon fill=\"black\" stroke=\"black\" points=\"605.59,-573.41 609.07,-563.4 600.11,-569.05 605.59,-573.41\"/>\n",
       "<text text-anchor=\"middle\" x=\"612.85\" y=\"-581.63\" font-family=\"Helvetica,sans-Serif\" font-size=\"14.00\">False</text>\n",
       "</g>\n",
       "<!-- 2 -->\n",
       "<g id=\"node3\" class=\"node\">\n",
       "<title>2</title>\n",
       "<path fill=\"#e68640\" stroke=\"black\" d=\"M351.88,-439.25C351.88,-439.25 215.88,-439.25 215.88,-439.25 209.88,-439.25 203.88,-433.25 203.88,-427.25 203.88,-427.25 203.88,-364.5 203.88,-364.5 203.88,-358.5 209.88,-352.5 215.88,-352.5 215.88,-352.5 351.88,-352.5 351.88,-352.5 357.88,-352.5 363.88,-358.5 363.88,-364.5 363.88,-364.5 363.88,-427.25 363.88,-427.25 363.88,-433.25 357.88,-439.25 351.88,-439.25\"/>\n",
       "<text text-anchor=\"start\" x=\"211.88\" y=\"-421.95\" font-family=\"Helvetica,sans-Serif\" font-size=\"14.00\">Body Mass (g) ≤ 3375.0</text>\n",
       "<text text-anchor=\"start\" x=\"236.62\" y=\"-406.2\" font-family=\"Helvetica,sans-Serif\" font-size=\"14.00\">entropy = 0.222</text>\n",
       "<text text-anchor=\"start\" x=\"243\" y=\"-390.45\" font-family=\"Helvetica,sans-Serif\" font-size=\"14.00\">samples = 56</text>\n",
       "<text text-anchor=\"start\" x=\"233.62\" y=\"-374.7\" font-family=\"Helvetica,sans-Serif\" font-size=\"14.00\">value = [54, 2, 0]</text>\n",
       "<text text-anchor=\"start\" x=\"242.25\" y=\"-358.95\" font-family=\"Helvetica,sans-Serif\" font-size=\"14.00\">class = Adelie</text>\n",
       "</g>\n",
       "<!-- 1&#45;&gt;2 -->\n",
       "<g id=\"edge2\" class=\"edge\">\n",
       "<title>1&#45;&gt;2</title>\n",
       "<path fill=\"none\" stroke=\"black\" d=\"M393.29,-475.05C380.24,-465.73 366.32,-455.78 352.94,-446.22\"/>\n",
       "<polygon fill=\"black\" stroke=\"black\" points=\"355.18,-443.52 345.01,-440.55 351.11,-449.21 355.18,-443.52\"/>\n",
       "</g>\n",
       "<!-- 7 -->\n",
       "<g id=\"node8\" class=\"node\">\n",
       "<title>7</title>\n",
       "<path fill=\"#49e78b\" stroke=\"black\" d=\"M529.88,-439.25C529.88,-439.25 393.88,-439.25 393.88,-439.25 387.88,-439.25 381.88,-433.25 381.88,-427.25 381.88,-427.25 381.88,-364.5 381.88,-364.5 381.88,-358.5 387.88,-352.5 393.88,-352.5 393.88,-352.5 529.88,-352.5 529.88,-352.5 535.88,-352.5 541.88,-358.5 541.88,-364.5 541.88,-364.5 541.88,-427.25 541.88,-427.25 541.88,-433.25 535.88,-439.25 529.88,-439.25\"/>\n",
       "<text text-anchor=\"start\" x=\"389.88\" y=\"-421.95\" font-family=\"Helvetica,sans-Serif\" font-size=\"14.00\">Body Mass (g) ≤ 4100.0</text>\n",
       "<text text-anchor=\"start\" x=\"414.62\" y=\"-406.2\" font-family=\"Helvetica,sans-Serif\" font-size=\"14.00\">entropy = 0.468</text>\n",
       "<text text-anchor=\"start\" x=\"421\" y=\"-390.45\" font-family=\"Helvetica,sans-Serif\" font-size=\"14.00\">samples = 26</text>\n",
       "<text text-anchor=\"start\" x=\"411.62\" y=\"-374.7\" font-family=\"Helvetica,sans-Serif\" font-size=\"14.00\">value = [1, 24, 1]</text>\n",
       "<text text-anchor=\"start\" x=\"409.75\" y=\"-358.95\" font-family=\"Helvetica,sans-Serif\" font-size=\"14.00\">class = Chinstrap</text>\n",
       "</g>\n",
       "<!-- 1&#45;&gt;7 -->\n",
       "<g id=\"edge7\" class=\"edge\">\n",
       "<title>1&#45;&gt;7</title>\n",
       "<path fill=\"none\" stroke=\"black\" d=\"M456.05,-475.05C456.63,-467.21 457.25,-458.92 457.86,-450.79\"/>\n",
       "<polygon fill=\"black\" stroke=\"black\" points=\"461.33,-451.21 458.59,-440.98 454.35,-450.69 461.33,-451.21\"/>\n",
       "</g>\n",
       "<!-- 3 -->\n",
       "<g id=\"node4\" class=\"node\">\n",
       "<title>3</title>\n",
       "<path fill=\"#ea985d\" stroke=\"black\" d=\"M207,-316.5C207,-316.5 44.75,-316.5 44.75,-316.5 38.75,-316.5 32.75,-310.5 32.75,-304.5 32.75,-304.5 32.75,-241.75 32.75,-241.75 32.75,-235.75 38.75,-229.75 44.75,-229.75 44.75,-229.75 207,-229.75 207,-229.75 213,-229.75 219,-235.75 219,-241.75 219,-241.75 219,-304.5 219,-304.5 219,-310.5 213,-316.5 207,-316.5\"/>\n",
       "<text text-anchor=\"start\" x=\"40.75\" y=\"-299.2\" font-family=\"Helvetica,sans-Serif\" font-size=\"14.00\">Culmen Length (mm) ≤ 40.3</text>\n",
       "<text text-anchor=\"start\" x=\"78.62\" y=\"-283.45\" font-family=\"Helvetica,sans-Serif\" font-size=\"14.00\">entropy = 0.619</text>\n",
       "<text text-anchor=\"start\" x=\"85\" y=\"-267.7\" font-family=\"Helvetica,sans-Serif\" font-size=\"14.00\">samples = 13</text>\n",
       "<text text-anchor=\"start\" x=\"76\" y=\"-251.95\" font-family=\"Helvetica,sans-Serif\" font-size=\"14.00\">value = [11, 2, 0]</text>\n",
       "<text text-anchor=\"start\" x=\"84.25\" y=\"-236.2\" font-family=\"Helvetica,sans-Serif\" font-size=\"14.00\">class = Adelie</text>\n",
       "</g>\n",
       "<!-- 2&#45;&gt;3 -->\n",
       "<g id=\"edge3\" class=\"edge\">\n",
       "<title>2&#45;&gt;3</title>\n",
       "<path fill=\"none\" stroke=\"black\" d=\"M228.17,-352.3C216.09,-343.07 203.21,-333.23 190.8,-323.75\"/>\n",
       "<polygon fill=\"black\" stroke=\"black\" points=\"193.15,-321.13 183.08,-317.84 188.9,-326.7 193.15,-321.13\"/>\n",
       "</g>\n",
       "<!-- 6 -->\n",
       "<g id=\"node7\" class=\"node\">\n",
       "<title>6</title>\n",
       "<path fill=\"#e58139\" stroke=\"black\" d=\"M341.12,-308.62C341.12,-308.62 248.62,-308.62 248.62,-308.62 242.62,-308.62 236.62,-302.62 236.62,-296.62 236.62,-296.62 236.62,-249.62 236.62,-249.62 236.62,-243.62 242.62,-237.62 248.62,-237.62 248.62,-237.62 341.12,-237.62 341.12,-237.62 347.12,-237.62 353.12,-243.62 353.12,-249.62 353.12,-249.62 353.12,-296.62 353.12,-296.62 353.12,-302.62 347.12,-308.62 341.12,-308.62\"/>\n",
       "<text text-anchor=\"start\" x=\"255.12\" y=\"-291.32\" font-family=\"Helvetica,sans-Serif\" font-size=\"14.00\">entropy = 0.0</text>\n",
       "<text text-anchor=\"start\" x=\"254\" y=\"-275.57\" font-family=\"Helvetica,sans-Serif\" font-size=\"14.00\">samples = 43</text>\n",
       "<text text-anchor=\"start\" x=\"244.62\" y=\"-259.82\" font-family=\"Helvetica,sans-Serif\" font-size=\"14.00\">value = [43, 0, 0]</text>\n",
       "<text text-anchor=\"start\" x=\"253.25\" y=\"-244.07\" font-family=\"Helvetica,sans-Serif\" font-size=\"14.00\">class = Adelie</text>\n",
       "</g>\n",
       "<!-- 2&#45;&gt;6 -->\n",
       "<g id=\"edge6\" class=\"edge\">\n",
       "<title>2&#45;&gt;6</title>\n",
       "<path fill=\"none\" stroke=\"black\" d=\"M287.75,-352.3C288.71,-341.83 289.73,-330.58 290.7,-319.96\"/>\n",
       "<polygon fill=\"black\" stroke=\"black\" points=\"294.16,-320.54 291.58,-310.26 287.19,-319.9 294.16,-320.54\"/>\n",
       "</g>\n",
       "<!-- 4 -->\n",
       "<g id=\"node5\" class=\"node\">\n",
       "<title>4</title>\n",
       "<path fill=\"#e58139\" stroke=\"black\" d=\"M103.75,-185.88C103.75,-185.88 12,-185.88 12,-185.88 6,-185.88 0,-179.88 0,-173.88 0,-173.88 0,-126.88 0,-126.88 0,-120.88 6,-114.88 12,-114.88 12,-114.88 103.75,-114.88 103.75,-114.88 109.75,-114.88 115.75,-120.88 115.75,-126.88 115.75,-126.88 115.75,-173.88 115.75,-173.88 115.75,-179.88 109.75,-185.88 103.75,-185.88\"/>\n",
       "<text text-anchor=\"start\" x=\"18.12\" y=\"-168.57\" font-family=\"Helvetica,sans-Serif\" font-size=\"14.00\">entropy = 0.0</text>\n",
       "<text text-anchor=\"start\" x=\"17.38\" y=\"-152.82\" font-family=\"Helvetica,sans-Serif\" font-size=\"14.00\">samples = 11</text>\n",
       "<text text-anchor=\"start\" x=\"8\" y=\"-137.07\" font-family=\"Helvetica,sans-Serif\" font-size=\"14.00\">value = [11, 0, 0]</text>\n",
       "<text text-anchor=\"start\" x=\"16.25\" y=\"-121.33\" font-family=\"Helvetica,sans-Serif\" font-size=\"14.00\">class = Adelie</text>\n",
       "</g>\n",
       "<!-- 3&#45;&gt;4 -->\n",
       "<g id=\"edge4\" class=\"edge\">\n",
       "<title>3&#45;&gt;4</title>\n",
       "<path fill=\"none\" stroke=\"black\" d=\"M101.9,-229.55C95.75,-218.64 89.12,-206.87 82.92,-195.86\"/>\n",
       "<polygon fill=\"black\" stroke=\"black\" points=\"86.08,-194.32 78.12,-187.32 79.98,-197.75 86.08,-194.32\"/>\n",
       "</g>\n",
       "<!-- 5 -->\n",
       "<g id=\"node6\" class=\"node\">\n",
       "<title>5</title>\n",
       "<path fill=\"#39e581\" stroke=\"black\" d=\"M242,-185.88C242,-185.88 145.75,-185.88 145.75,-185.88 139.75,-185.88 133.75,-179.88 133.75,-173.88 133.75,-173.88 133.75,-126.88 133.75,-126.88 133.75,-120.88 139.75,-114.88 145.75,-114.88 145.75,-114.88 242,-114.88 242,-114.88 248,-114.88 254,-120.88 254,-126.88 254,-126.88 254,-173.88 254,-173.88 254,-179.88 248,-185.88 242,-185.88\"/>\n",
       "<text text-anchor=\"start\" x=\"154.12\" y=\"-168.57\" font-family=\"Helvetica,sans-Serif\" font-size=\"14.00\">entropy = 0.0</text>\n",
       "<text text-anchor=\"start\" x=\"156.75\" y=\"-152.82\" font-family=\"Helvetica,sans-Serif\" font-size=\"14.00\">samples = 2</text>\n",
       "<text text-anchor=\"start\" x=\"147.38\" y=\"-137.07\" font-family=\"Helvetica,sans-Serif\" font-size=\"14.00\">value = [0, 2, 0]</text>\n",
       "<text text-anchor=\"start\" x=\"141.75\" y=\"-121.33\" font-family=\"Helvetica,sans-Serif\" font-size=\"14.00\">class = Chinstrap</text>\n",
       "</g>\n",
       "<!-- 3&#45;&gt;5 -->\n",
       "<g id=\"edge5\" class=\"edge\">\n",
       "<title>3&#45;&gt;5</title>\n",
       "<path fill=\"none\" stroke=\"black\" d=\"M149.85,-229.55C156,-218.64 162.63,-206.87 168.83,-195.86\"/>\n",
       "<polygon fill=\"black\" stroke=\"black\" points=\"171.77,-197.75 173.63,-187.32 165.67,-194.32 171.77,-197.75\"/>\n",
       "</g>\n",
       "<!-- 8 -->\n",
       "<g id=\"node9\" class=\"node\">\n",
       "<title>8</title>\n",
       "<path fill=\"#39e581\" stroke=\"black\" d=\"M500,-308.62C500,-308.62 403.75,-308.62 403.75,-308.62 397.75,-308.62 391.75,-302.62 391.75,-296.62 391.75,-296.62 391.75,-249.62 391.75,-249.62 391.75,-243.62 397.75,-237.62 403.75,-237.62 403.75,-237.62 500,-237.62 500,-237.62 506,-237.62 512,-243.62 512,-249.62 512,-249.62 512,-296.62 512,-296.62 512,-302.62 506,-308.62 500,-308.62\"/>\n",
       "<text text-anchor=\"start\" x=\"412.12\" y=\"-291.32\" font-family=\"Helvetica,sans-Serif\" font-size=\"14.00\">entropy = 0.0</text>\n",
       "<text text-anchor=\"start\" x=\"411\" y=\"-275.57\" font-family=\"Helvetica,sans-Serif\" font-size=\"14.00\">samples = 22</text>\n",
       "<text text-anchor=\"start\" x=\"401.62\" y=\"-259.82\" font-family=\"Helvetica,sans-Serif\" font-size=\"14.00\">value = [0, 22, 0]</text>\n",
       "<text text-anchor=\"start\" x=\"399.75\" y=\"-244.07\" font-family=\"Helvetica,sans-Serif\" font-size=\"14.00\">class = Chinstrap</text>\n",
       "</g>\n",
       "<!-- 7&#45;&gt;8 -->\n",
       "<g id=\"edge8\" class=\"edge\">\n",
       "<title>7&#45;&gt;8</title>\n",
       "<path fill=\"none\" stroke=\"black\" d=\"M458.35,-352.3C457.48,-341.83 456.55,-330.58 455.67,-319.96\"/>\n",
       "<polygon fill=\"black\" stroke=\"black\" points=\"459.18,-319.94 454.87,-310.26 452.21,-320.52 459.18,-319.94\"/>\n",
       "</g>\n",
       "<!-- 9 -->\n",
       "<g id=\"node10\" class=\"node\">\n",
       "<title>9</title>\n",
       "<path fill=\"#bdf6d5\" stroke=\"black\" d=\"M711.75,-316.5C711.75,-316.5 542,-316.5 542,-316.5 536,-316.5 530,-310.5 530,-304.5 530,-304.5 530,-241.75 530,-241.75 530,-235.75 536,-229.75 542,-229.75 542,-229.75 711.75,-229.75 711.75,-229.75 717.75,-229.75 723.75,-235.75 723.75,-241.75 723.75,-241.75 723.75,-304.5 723.75,-304.5 723.75,-310.5 717.75,-316.5 711.75,-316.5\"/>\n",
       "<text text-anchor=\"start\" x=\"538\" y=\"-299.2\" font-family=\"Helvetica,sans-Serif\" font-size=\"14.00\">Culmen Length (mm) ≤ 50.95</text>\n",
       "<text text-anchor=\"start\" x=\"587.12\" y=\"-283.45\" font-family=\"Helvetica,sans-Serif\" font-size=\"14.00\">entropy = 1.5</text>\n",
       "<text text-anchor=\"start\" x=\"589.75\" y=\"-267.7\" font-family=\"Helvetica,sans-Serif\" font-size=\"14.00\">samples = 4</text>\n",
       "<text text-anchor=\"start\" x=\"580.38\" y=\"-251.95\" font-family=\"Helvetica,sans-Serif\" font-size=\"14.00\">value = [1, 2, 1]</text>\n",
       "<text text-anchor=\"start\" x=\"574.75\" y=\"-236.2\" font-family=\"Helvetica,sans-Serif\" font-size=\"14.00\">class = Chinstrap</text>\n",
       "</g>\n",
       "<!-- 7&#45;&gt;9 -->\n",
       "<g id=\"edge9\" class=\"edge\">\n",
       "<title>7&#45;&gt;9</title>\n",
       "<path fill=\"none\" stroke=\"black\" d=\"M520.05,-352.3C532.79,-342.98 546.38,-333.03 559.45,-323.47\"/>\n",
       "<polygon fill=\"black\" stroke=\"black\" points=\"561.17,-326.55 567.17,-317.82 557.03,-320.9 561.17,-326.55\"/>\n",
       "</g>\n",
       "<!-- 10 -->\n",
       "<g id=\"node11\" class=\"node\">\n",
       "<title>10</title>\n",
       "<path fill=\"#ffffff\" stroke=\"black\" d=\"M615.88,-193.75C615.88,-193.75 479.88,-193.75 479.88,-193.75 473.88,-193.75 467.88,-187.75 467.88,-181.75 467.88,-181.75 467.88,-119 467.88,-119 467.88,-113 473.88,-107 479.88,-107 479.88,-107 615.88,-107 615.88,-107 621.88,-107 627.88,-113 627.88,-119 627.88,-119 627.88,-181.75 627.88,-181.75 627.88,-187.75 621.88,-193.75 615.88,-193.75\"/>\n",
       "<text text-anchor=\"start\" x=\"475.88\" y=\"-176.45\" font-family=\"Helvetica,sans-Serif\" font-size=\"14.00\">Body Mass (g) ≤ 4387.5</text>\n",
       "<text text-anchor=\"start\" x=\"508.12\" y=\"-160.7\" font-family=\"Helvetica,sans-Serif\" font-size=\"14.00\">entropy = 1.0</text>\n",
       "<text text-anchor=\"start\" x=\"510.75\" y=\"-144.95\" font-family=\"Helvetica,sans-Serif\" font-size=\"14.00\">samples = 2</text>\n",
       "<text text-anchor=\"start\" x=\"501.38\" y=\"-129.2\" font-family=\"Helvetica,sans-Serif\" font-size=\"14.00\">value = [1, 0, 1]</text>\n",
       "<text text-anchor=\"start\" x=\"506.25\" y=\"-113.45\" font-family=\"Helvetica,sans-Serif\" font-size=\"14.00\">class = Adelie</text>\n",
       "</g>\n",
       "<!-- 9&#45;&gt;10 -->\n",
       "<g id=\"edge10\" class=\"edge\">\n",
       "<title>9&#45;&gt;10</title>\n",
       "<path fill=\"none\" stroke=\"black\" d=\"M599.02,-229.55C593.48,-221.08 587.59,-212.09 581.87,-203.33\"/>\n",
       "<polygon fill=\"black\" stroke=\"black\" points=\"584.97,-201.69 576.57,-195.24 579.12,-205.52 584.97,-201.69\"/>\n",
       "</g>\n",
       "<!-- 13 -->\n",
       "<g id=\"node14\" class=\"node\">\n",
       "<title>13</title>\n",
       "<path fill=\"#39e581\" stroke=\"black\" d=\"M754,-185.88C754,-185.88 657.75,-185.88 657.75,-185.88 651.75,-185.88 645.75,-179.88 645.75,-173.88 645.75,-173.88 645.75,-126.88 645.75,-126.88 645.75,-120.88 651.75,-114.88 657.75,-114.88 657.75,-114.88 754,-114.88 754,-114.88 760,-114.88 766,-120.88 766,-126.88 766,-126.88 766,-173.88 766,-173.88 766,-179.88 760,-185.88 754,-185.88\"/>\n",
       "<text text-anchor=\"start\" x=\"666.12\" y=\"-168.57\" font-family=\"Helvetica,sans-Serif\" font-size=\"14.00\">entropy = 0.0</text>\n",
       "<text text-anchor=\"start\" x=\"668.75\" y=\"-152.82\" font-family=\"Helvetica,sans-Serif\" font-size=\"14.00\">samples = 2</text>\n",
       "<text text-anchor=\"start\" x=\"659.38\" y=\"-137.07\" font-family=\"Helvetica,sans-Serif\" font-size=\"14.00\">value = [0, 2, 0]</text>\n",
       "<text text-anchor=\"start\" x=\"653.75\" y=\"-121.33\" font-family=\"Helvetica,sans-Serif\" font-size=\"14.00\">class = Chinstrap</text>\n",
       "</g>\n",
       "<!-- 9&#45;&gt;13 -->\n",
       "<g id=\"edge13\" class=\"edge\">\n",
       "<title>9&#45;&gt;13</title>\n",
       "<path fill=\"none\" stroke=\"black\" d=\"M654.73,-229.55C661.94,-218.52 669.73,-206.63 676.99,-195.52\"/>\n",
       "<polygon fill=\"black\" stroke=\"black\" points=\"679.84,-197.55 682.39,-187.27 673.99,-193.72 679.84,-197.55\"/>\n",
       "</g>\n",
       "<!-- 11 -->\n",
       "<g id=\"node12\" class=\"node\">\n",
       "<title>11</title>\n",
       "<path fill=\"#e58139\" stroke=\"black\" d=\"M526.38,-71C526.38,-71 441.38,-71 441.38,-71 435.38,-71 429.38,-65 429.38,-59 429.38,-59 429.38,-12 429.38,-12 429.38,-6 435.38,0 441.38,0 441.38,0 526.38,0 526.38,0 532.38,0 538.38,-6 538.38,-12 538.38,-12 538.38,-59 538.38,-59 538.38,-65 532.38,-71 526.38,-71\"/>\n",
       "<text text-anchor=\"start\" x=\"444.12\" y=\"-53.7\" font-family=\"Helvetica,sans-Serif\" font-size=\"14.00\">entropy = 0.0</text>\n",
       "<text text-anchor=\"start\" x=\"446.75\" y=\"-37.95\" font-family=\"Helvetica,sans-Serif\" font-size=\"14.00\">samples = 1</text>\n",
       "<text text-anchor=\"start\" x=\"437.38\" y=\"-22.2\" font-family=\"Helvetica,sans-Serif\" font-size=\"14.00\">value = [1, 0, 0]</text>\n",
       "<text text-anchor=\"start\" x=\"442.25\" y=\"-6.45\" font-family=\"Helvetica,sans-Serif\" font-size=\"14.00\">class = Adelie</text>\n",
       "</g>\n",
       "<!-- 10&#45;&gt;11 -->\n",
       "<g id=\"edge11\" class=\"edge\">\n",
       "<title>10&#45;&gt;11</title>\n",
       "<path fill=\"none\" stroke=\"black\" d=\"M523.68,-106.7C518.9,-98.27 513.87,-89.39 509.05,-80.9\"/>\n",
       "<polygon fill=\"black\" stroke=\"black\" points=\"512.25,-79.45 504.27,-72.47 506.16,-82.9 512.25,-79.45\"/>\n",
       "</g>\n",
       "<!-- 12 -->\n",
       "<g id=\"node13\" class=\"node\">\n",
       "<title>12</title>\n",
       "<path fill=\"#8139e5\" stroke=\"black\" d=\"M653.38,-71C653.38,-71 568.38,-71 568.38,-71 562.38,-71 556.38,-65 556.38,-59 556.38,-59 556.38,-12 556.38,-12 556.38,-6 562.38,0 568.38,0 568.38,0 653.38,0 653.38,0 659.38,0 665.38,-6 665.38,-12 665.38,-12 665.38,-59 665.38,-59 665.38,-65 659.38,-71 653.38,-71\"/>\n",
       "<text text-anchor=\"start\" x=\"571.12\" y=\"-53.7\" font-family=\"Helvetica,sans-Serif\" font-size=\"14.00\">entropy = 0.0</text>\n",
       "<text text-anchor=\"start\" x=\"573.75\" y=\"-37.95\" font-family=\"Helvetica,sans-Serif\" font-size=\"14.00\">samples = 1</text>\n",
       "<text text-anchor=\"start\" x=\"564.38\" y=\"-22.2\" font-family=\"Helvetica,sans-Serif\" font-size=\"14.00\">value = [0, 0, 1]</text>\n",
       "<text text-anchor=\"start\" x=\"565.12\" y=\"-6.45\" font-family=\"Helvetica,sans-Serif\" font-size=\"14.00\">class = Gentoo</text>\n",
       "</g>\n",
       "<!-- 10&#45;&gt;12 -->\n",
       "<g id=\"edge12\" class=\"edge\">\n",
       "<title>10&#45;&gt;12</title>\n",
       "<path fill=\"none\" stroke=\"black\" d=\"M571.69,-106.7C576.35,-98.36 581.25,-89.59 585.94,-81.18\"/>\n",
       "<polygon fill=\"black\" stroke=\"black\" points=\"588.98,-82.92 590.79,-72.48 582.86,-79.51 588.98,-82.92\"/>\n",
       "</g>\n",
       "<!-- 15 -->\n",
       "<g id=\"node16\" class=\"node\">\n",
       "<title>15</title>\n",
       "<path fill=\"#39e581\" stroke=\"black\" d=\"M684,-431.38C684,-431.38 587.75,-431.38 587.75,-431.38 581.75,-431.38 575.75,-425.38 575.75,-419.38 575.75,-419.38 575.75,-372.38 575.75,-372.38 575.75,-366.38 581.75,-360.38 587.75,-360.38 587.75,-360.38 684,-360.38 684,-360.38 690,-360.38 696,-366.38 696,-372.38 696,-372.38 696,-419.38 696,-419.38 696,-425.38 690,-431.38 684,-431.38\"/>\n",
       "<text text-anchor=\"start\" x=\"596.12\" y=\"-414.07\" font-family=\"Helvetica,sans-Serif\" font-size=\"14.00\">entropy = 0.0</text>\n",
       "<text text-anchor=\"start\" x=\"598.75\" y=\"-398.32\" font-family=\"Helvetica,sans-Serif\" font-size=\"14.00\">samples = 1</text>\n",
       "<text text-anchor=\"start\" x=\"589.38\" y=\"-382.57\" font-family=\"Helvetica,sans-Serif\" font-size=\"14.00\">value = [0, 1, 0]</text>\n",
       "<text text-anchor=\"start\" x=\"583.75\" y=\"-366.82\" font-family=\"Helvetica,sans-Serif\" font-size=\"14.00\">class = Chinstrap</text>\n",
       "</g>\n",
       "<!-- 14&#45;&gt;15 -->\n",
       "<g id=\"edge15\" class=\"edge\">\n",
       "<title>14&#45;&gt;15</title>\n",
       "<path fill=\"none\" stroke=\"black\" d=\"M641.05,-475.05C640.36,-464.58 639.61,-453.33 638.91,-442.71\"/>\n",
       "<polygon fill=\"black\" stroke=\"black\" points=\"642.42,-442.76 638.27,-433.01 635.44,-443.22 642.42,-442.76\"/>\n",
       "</g>\n",
       "<!-- 16 -->\n",
       "<g id=\"node17\" class=\"node\">\n",
       "<title>16</title>\n",
       "<path fill=\"#8139e5\" stroke=\"black\" d=\"M818.12,-431.38C818.12,-431.38 725.62,-431.38 725.62,-431.38 719.62,-431.38 713.62,-425.38 713.62,-419.38 713.62,-419.38 713.62,-372.38 713.62,-372.38 713.62,-366.38 719.62,-360.38 725.62,-360.38 725.62,-360.38 818.12,-360.38 818.12,-360.38 824.12,-360.38 830.12,-366.38 830.12,-372.38 830.12,-372.38 830.12,-419.38 830.12,-419.38 830.12,-425.38 824.12,-431.38 818.12,-431.38\"/>\n",
       "<text text-anchor=\"start\" x=\"732.12\" y=\"-414.07\" font-family=\"Helvetica,sans-Serif\" font-size=\"14.00\">entropy = 0.0</text>\n",
       "<text text-anchor=\"start\" x=\"731\" y=\"-398.32\" font-family=\"Helvetica,sans-Serif\" font-size=\"14.00\">samples = 47</text>\n",
       "<text text-anchor=\"start\" x=\"721.62\" y=\"-382.57\" font-family=\"Helvetica,sans-Serif\" font-size=\"14.00\">value = [0, 0, 47]</text>\n",
       "<text text-anchor=\"start\" x=\"726.12\" y=\"-366.82\" font-family=\"Helvetica,sans-Serif\" font-size=\"14.00\">class = Gentoo</text>\n",
       "</g>\n",
       "<!-- 14&#45;&gt;16 -->\n",
       "<g id=\"edge16\" class=\"edge\">\n",
       "<title>14&#45;&gt;16</title>\n",
       "<path fill=\"none\" stroke=\"black\" d=\"M689,-475.05C701.28,-463.47 714.58,-450.92 726.86,-439.34\"/>\n",
       "<polygon fill=\"black\" stroke=\"black\" points=\"729.19,-441.95 734.07,-432.54 724.39,-436.86 729.19,-441.95\"/>\n",
       "</g>\n",
       "</g>\n",
       "</svg>\n"
      ],
      "text/plain": [
       "<graphviz.sources.Source at 0x2cabd080440>"
      ]
     },
     "metadata": {},
     "output_type": "display_data"
    },
    {
     "name": "stdout",
     "output_type": "stream",
     "text": [
      "✓ Decision Tree saved for split 40:60 → output/split_ratios_graphviz\\tree_40_60.png\n"
     ]
    },
    {
     "data": {
      "image/svg+xml": [
       "<?xml version=\"1.0\" encoding=\"UTF-8\" standalone=\"no\"?>\n",
       "<!DOCTYPE svg PUBLIC \"-//W3C//DTD SVG 1.1//EN\"\n",
       " \"http://www.w3.org/Graphics/SVG/1.1/DTD/svg11.dtd\">\n",
       "<!-- Generated by graphviz version 12.2.1 (20241206.2353)\n",
       " -->\n",
       "<!-- Title: Tree Pages: 1 -->\n",
       "<svg width=\"989pt\" height=\"693pt\"\n",
       " viewBox=\"0.00 0.00 989.38 692.75\" xmlns=\"http://www.w3.org/2000/svg\" xmlns:xlink=\"http://www.w3.org/1999/xlink\">\n",
       "<g id=\"graph0\" class=\"graph\" transform=\"scale(1 1) rotate(0) translate(4 688.75)\">\n",
       "<title>Tree</title>\n",
       "<polygon fill=\"white\" stroke=\"none\" points=\"-4,4 -4,-688.75 985.38,-688.75 985.38,4 -4,4\"/>\n",
       "<!-- 0 -->\n",
       "<g id=\"node1\" class=\"node\">\n",
       "<title>0</title>\n",
       "<path fill=\"#fdf4ed\" stroke=\"black\" d=\"M677,-684.75C677,-684.75 513.25,-684.75 513.25,-684.75 507.25,-684.75 501.25,-678.75 501.25,-672.75 501.25,-672.75 501.25,-610 501.25,-610 501.25,-604 507.25,-598 513.25,-598 513.25,-598 677,-598 677,-598 683,-598 689,-604 689,-610 689,-610 689,-672.75 689,-672.75 689,-678.75 683,-684.75 677,-684.75\"/>\n",
       "<text text-anchor=\"start\" x=\"509.25\" y=\"-667.45\" font-family=\"Helvetica,sans-Serif\" font-size=\"14.00\">Flipper Length (mm) ≤ 206.0</text>\n",
       "<text text-anchor=\"start\" x=\"547.88\" y=\"-651.7\" font-family=\"Helvetica,sans-Serif\" font-size=\"14.00\">entropy = 1.524</text>\n",
       "<text text-anchor=\"start\" x=\"550.5\" y=\"-635.95\" font-family=\"Helvetica,sans-Serif\" font-size=\"14.00\">samples = 195</text>\n",
       "<text text-anchor=\"start\" x=\"537.38\" y=\"-620.2\" font-family=\"Helvetica,sans-Serif\" font-size=\"14.00\">value = [83, 40, 72]</text>\n",
       "<text text-anchor=\"start\" x=\"553.5\" y=\"-604.45\" font-family=\"Helvetica,sans-Serif\" font-size=\"14.00\">class = Adelie</text>\n",
       "</g>\n",
       "<!-- 1 -->\n",
       "<g id=\"node2\" class=\"node\">\n",
       "<title>1</title>\n",
       "<path fill=\"#f1bc96\" stroke=\"black\" d=\"M579.25,-562C579.25,-562 417,-562 417,-562 411,-562 405,-556 405,-550 405,-550 405,-487.25 405,-487.25 405,-481.25 411,-475.25 417,-475.25 417,-475.25 579.25,-475.25 579.25,-475.25 585.25,-475.25 591.25,-481.25 591.25,-487.25 591.25,-487.25 591.25,-550 591.25,-550 591.25,-556 585.25,-562 579.25,-562\"/>\n",
       "<text text-anchor=\"start\" x=\"413\" y=\"-544.7\" font-family=\"Helvetica,sans-Serif\" font-size=\"14.00\">Culmen Length (mm) ≤ 44.2</text>\n",
       "<text text-anchor=\"start\" x=\"450.88\" y=\"-528.95\" font-family=\"Helvetica,sans-Serif\" font-size=\"14.00\">entropy = 0.962</text>\n",
       "<text text-anchor=\"start\" x=\"453.5\" y=\"-513.2\" font-family=\"Helvetica,sans-Serif\" font-size=\"14.00\">samples = 121</text>\n",
       "<text text-anchor=\"start\" x=\"444.12\" y=\"-497.45\" font-family=\"Helvetica,sans-Serif\" font-size=\"14.00\">value = [82, 38, 1]</text>\n",
       "<text text-anchor=\"start\" x=\"456.5\" y=\"-481.7\" font-family=\"Helvetica,sans-Serif\" font-size=\"14.00\">class = Adelie</text>\n",
       "</g>\n",
       "<!-- 0&#45;&gt;1 -->\n",
       "<g id=\"edge1\" class=\"edge\">\n",
       "<title>0&#45;&gt;1</title>\n",
       "<path fill=\"none\" stroke=\"black\" d=\"M560.93,-597.8C553.97,-589.15 546.59,-579.95 539.42,-571.03\"/>\n",
       "<polygon fill=\"black\" stroke=\"black\" points=\"542.28,-569 533.29,-563.4 536.82,-573.39 542.28,-569\"/>\n",
       "<text text-anchor=\"middle\" x=\"529.63\" y=\"-581.65\" font-family=\"Helvetica,sans-Serif\" font-size=\"14.00\">True</text>\n",
       "</g>\n",
       "<!-- 14 -->\n",
       "<g id=\"node15\" class=\"node\">\n",
       "<title>14</title>\n",
       "<path fill=\"#8641e6\" stroke=\"black\" d=\"M818.12,-562C818.12,-562 682.12,-562 682.12,-562 676.12,-562 670.12,-556 670.12,-550 670.12,-550 670.12,-487.25 670.12,-487.25 670.12,-481.25 676.12,-475.25 682.12,-475.25 682.12,-475.25 818.12,-475.25 818.12,-475.25 824.12,-475.25 830.12,-481.25 830.12,-487.25 830.12,-487.25 830.12,-550 830.12,-550 830.12,-556 824.12,-562 818.12,-562\"/>\n",
       "<text text-anchor=\"start\" x=\"678.12\" y=\"-544.7\" font-family=\"Helvetica,sans-Serif\" font-size=\"14.00\">Body Mass (g) ≤ 4075.0</text>\n",
       "<text text-anchor=\"start\" x=\"702.88\" y=\"-528.95\" font-family=\"Helvetica,sans-Serif\" font-size=\"14.00\">entropy = 0.282</text>\n",
       "<text text-anchor=\"start\" x=\"709.25\" y=\"-513.2\" font-family=\"Helvetica,sans-Serif\" font-size=\"14.00\">samples = 74</text>\n",
       "<text text-anchor=\"start\" x=\"699.88\" y=\"-497.45\" font-family=\"Helvetica,sans-Serif\" font-size=\"14.00\">value = [1, 2, 71]</text>\n",
       "<text text-anchor=\"start\" x=\"704.38\" y=\"-481.7\" font-family=\"Helvetica,sans-Serif\" font-size=\"14.00\">class = Gentoo</text>\n",
       "</g>\n",
       "<!-- 0&#45;&gt;14 -->\n",
       "<g id=\"edge14\" class=\"edge\">\n",
       "<title>0&#45;&gt;14</title>\n",
       "<path fill=\"none\" stroke=\"black\" d=\"M649.77,-597.8C661.63,-588.57 674.26,-578.73 686.43,-569.25\"/>\n",
       "<polygon fill=\"black\" stroke=\"black\" points=\"688.26,-572.26 693.99,-563.35 683.95,-566.74 688.26,-572.26\"/>\n",
       "<text text-anchor=\"middle\" x=\"692.11\" y=\"-581.81\" font-family=\"Helvetica,sans-Serif\" font-size=\"14.00\">False</text>\n",
       "</g>\n",
       "<!-- 2 -->\n",
       "<g id=\"node3\" class=\"node\">\n",
       "<title>2</title>\n",
       "<path fill=\"#e6843e\" stroke=\"black\" d=\"M330.12,-439.25C330.12,-439.25 194.12,-439.25 194.12,-439.25 188.12,-439.25 182.12,-433.25 182.12,-427.25 182.12,-427.25 182.12,-364.5 182.12,-364.5 182.12,-358.5 188.12,-352.5 194.12,-352.5 194.12,-352.5 330.12,-352.5 330.12,-352.5 336.12,-352.5 342.12,-358.5 342.12,-364.5 342.12,-364.5 342.12,-427.25 342.12,-427.25 342.12,-433.25 336.12,-439.25 330.12,-439.25\"/>\n",
       "<text text-anchor=\"start\" x=\"190.12\" y=\"-421.95\" font-family=\"Helvetica,sans-Serif\" font-size=\"14.00\">Body Mass (g) ≤ 3375.0</text>\n",
       "<text text-anchor=\"start\" x=\"214.88\" y=\"-406.2\" font-family=\"Helvetica,sans-Serif\" font-size=\"14.00\">entropy = 0.164</text>\n",
       "<text text-anchor=\"start\" x=\"221.25\" y=\"-390.45\" font-family=\"Helvetica,sans-Serif\" font-size=\"14.00\">samples = 83</text>\n",
       "<text text-anchor=\"start\" x=\"211.88\" y=\"-374.7\" font-family=\"Helvetica,sans-Serif\" font-size=\"14.00\">value = [81, 2, 0]</text>\n",
       "<text text-anchor=\"start\" x=\"220.5\" y=\"-358.95\" font-family=\"Helvetica,sans-Serif\" font-size=\"14.00\">class = Adelie</text>\n",
       "</g>\n",
       "<!-- 1&#45;&gt;2 -->\n",
       "<g id=\"edge2\" class=\"edge\">\n",
       "<title>1&#45;&gt;2</title>\n",
       "<path fill=\"none\" stroke=\"black\" d=\"M414.59,-474.88C394.51,-464.61 372.97,-453.59 352.6,-443.17\"/>\n",
       "<polygon fill=\"black\" stroke=\"black\" points=\"354.22,-440.07 343.73,-438.63 351.04,-446.3 354.22,-440.07\"/>\n",
       "</g>\n",
       "<!-- 7 -->\n",
       "<g id=\"node8\" class=\"node\">\n",
       "<title>7</title>\n",
       "<path fill=\"#44e688\" stroke=\"black\" d=\"M566.12,-439.25C566.12,-439.25 430.12,-439.25 430.12,-439.25 424.12,-439.25 418.12,-433.25 418.12,-427.25 418.12,-427.25 418.12,-364.5 418.12,-364.5 418.12,-358.5 424.12,-352.5 430.12,-352.5 430.12,-352.5 566.12,-352.5 566.12,-352.5 572.12,-352.5 578.12,-358.5 578.12,-364.5 578.12,-364.5 578.12,-427.25 578.12,-427.25 578.12,-433.25 572.12,-439.25 566.12,-439.25\"/>\n",
       "<text text-anchor=\"start\" x=\"426.12\" y=\"-421.95\" font-family=\"Helvetica,sans-Serif\" font-size=\"14.00\">Body Mass (g) ≤ 4562.5</text>\n",
       "<text text-anchor=\"start\" x=\"454.62\" y=\"-406.2\" font-family=\"Helvetica,sans-Serif\" font-size=\"14.00\">entropy = 0.35</text>\n",
       "<text text-anchor=\"start\" x=\"457.25\" y=\"-390.45\" font-family=\"Helvetica,sans-Serif\" font-size=\"14.00\">samples = 38</text>\n",
       "<text text-anchor=\"start\" x=\"447.88\" y=\"-374.7\" font-family=\"Helvetica,sans-Serif\" font-size=\"14.00\">value = [1, 36, 1]</text>\n",
       "<text text-anchor=\"start\" x=\"446\" y=\"-358.95\" font-family=\"Helvetica,sans-Serif\" font-size=\"14.00\">class = Chinstrap</text>\n",
       "</g>\n",
       "<!-- 1&#45;&gt;7 -->\n",
       "<g id=\"edge7\" class=\"edge\">\n",
       "<title>1&#45;&gt;7</title>\n",
       "<path fill=\"none\" stroke=\"black\" d=\"M498.12,-475.05C498.12,-467.21 498.12,-458.92 498.12,-450.79\"/>\n",
       "<polygon fill=\"black\" stroke=\"black\" points=\"501.63,-450.98 498.13,-440.98 494.63,-450.98 501.63,-450.98\"/>\n",
       "</g>\n",
       "<!-- 3 -->\n",
       "<g id=\"node4\" class=\"node\">\n",
       "<title>3</title>\n",
       "<path fill=\"#e88f4f\" stroke=\"black\" d=\"M174.25,-316.5C174.25,-316.5 12,-316.5 12,-316.5 6,-316.5 0,-310.5 0,-304.5 0,-304.5 0,-241.75 0,-241.75 0,-235.75 6,-229.75 12,-229.75 12,-229.75 174.25,-229.75 174.25,-229.75 180.25,-229.75 186.25,-235.75 186.25,-241.75 186.25,-241.75 186.25,-304.5 186.25,-304.5 186.25,-310.5 180.25,-316.5 174.25,-316.5\"/>\n",
       "<text text-anchor=\"start\" x=\"8\" y=\"-299.2\" font-family=\"Helvetica,sans-Serif\" font-size=\"14.00\">Culmen Length (mm) ≤ 40.7</text>\n",
       "<text text-anchor=\"start\" x=\"45.88\" y=\"-283.45\" font-family=\"Helvetica,sans-Serif\" font-size=\"14.00\">entropy = 0.469</text>\n",
       "<text text-anchor=\"start\" x=\"52.25\" y=\"-267.7\" font-family=\"Helvetica,sans-Serif\" font-size=\"14.00\">samples = 20</text>\n",
       "<text text-anchor=\"start\" x=\"42.88\" y=\"-251.95\" font-family=\"Helvetica,sans-Serif\" font-size=\"14.00\">value = [18, 2, 0]</text>\n",
       "<text text-anchor=\"start\" x=\"51.5\" y=\"-236.2\" font-family=\"Helvetica,sans-Serif\" font-size=\"14.00\">class = Adelie</text>\n",
       "</g>\n",
       "<!-- 2&#45;&gt;3 -->\n",
       "<g id=\"edge3\" class=\"edge\">\n",
       "<title>2&#45;&gt;3</title>\n",
       "<path fill=\"none\" stroke=\"black\" d=\"M202.54,-352.3C189.49,-342.98 175.57,-333.03 162.19,-323.47\"/>\n",
       "<polygon fill=\"black\" stroke=\"black\" points=\"164.43,-320.77 154.26,-317.8 160.36,-326.46 164.43,-320.77\"/>\n",
       "</g>\n",
       "<!-- 6 -->\n",
       "<g id=\"node7\" class=\"node\">\n",
       "<title>6</title>\n",
       "<path fill=\"#e58139\" stroke=\"black\" d=\"M308.38,-308.62C308.38,-308.62 215.88,-308.62 215.88,-308.62 209.88,-308.62 203.88,-302.62 203.88,-296.62 203.88,-296.62 203.88,-249.62 203.88,-249.62 203.88,-243.62 209.88,-237.62 215.88,-237.62 215.88,-237.62 308.38,-237.62 308.38,-237.62 314.38,-237.62 320.38,-243.62 320.38,-249.62 320.38,-249.62 320.38,-296.62 320.38,-296.62 320.38,-302.62 314.38,-308.62 308.38,-308.62\"/>\n",
       "<text text-anchor=\"start\" x=\"222.38\" y=\"-291.32\" font-family=\"Helvetica,sans-Serif\" font-size=\"14.00\">entropy = 0.0</text>\n",
       "<text text-anchor=\"start\" x=\"221.25\" y=\"-275.57\" font-family=\"Helvetica,sans-Serif\" font-size=\"14.00\">samples = 63</text>\n",
       "<text text-anchor=\"start\" x=\"211.88\" y=\"-259.82\" font-family=\"Helvetica,sans-Serif\" font-size=\"14.00\">value = [63, 0, 0]</text>\n",
       "<text text-anchor=\"start\" x=\"220.5\" y=\"-244.07\" font-family=\"Helvetica,sans-Serif\" font-size=\"14.00\">class = Adelie</text>\n",
       "</g>\n",
       "<!-- 2&#45;&gt;6 -->\n",
       "<g id=\"edge6\" class=\"edge\">\n",
       "<title>2&#45;&gt;6</title>\n",
       "<path fill=\"none\" stroke=\"black\" d=\"M262.12,-352.3C262.12,-341.83 262.12,-330.58 262.12,-319.96\"/>\n",
       "<polygon fill=\"black\" stroke=\"black\" points=\"265.63,-320.27 262.13,-310.27 258.63,-320.27 265.63,-320.27\"/>\n",
       "</g>\n",
       "<!-- 4 -->\n",
       "<g id=\"node5\" class=\"node\">\n",
       "<title>4</title>\n",
       "<path fill=\"#e58139\" stroke=\"black\" d=\"M112.38,-185.88C112.38,-185.88 19.88,-185.88 19.88,-185.88 13.88,-185.88 7.88,-179.88 7.88,-173.88 7.88,-173.88 7.88,-126.88 7.88,-126.88 7.88,-120.88 13.88,-114.88 19.88,-114.88 19.88,-114.88 112.38,-114.88 112.38,-114.88 118.38,-114.88 124.38,-120.88 124.38,-126.88 124.38,-126.88 124.38,-173.88 124.38,-173.88 124.38,-179.88 118.38,-185.88 112.38,-185.88\"/>\n",
       "<text text-anchor=\"start\" x=\"26.38\" y=\"-168.57\" font-family=\"Helvetica,sans-Serif\" font-size=\"14.00\">entropy = 0.0</text>\n",
       "<text text-anchor=\"start\" x=\"25.25\" y=\"-152.82\" font-family=\"Helvetica,sans-Serif\" font-size=\"14.00\">samples = 18</text>\n",
       "<text text-anchor=\"start\" x=\"15.88\" y=\"-137.07\" font-family=\"Helvetica,sans-Serif\" font-size=\"14.00\">value = [18, 0, 0]</text>\n",
       "<text text-anchor=\"start\" x=\"24.5\" y=\"-121.33\" font-family=\"Helvetica,sans-Serif\" font-size=\"14.00\">class = Adelie</text>\n",
       "</g>\n",
       "<!-- 3&#45;&gt;4 -->\n",
       "<g id=\"edge4\" class=\"edge\">\n",
       "<title>3&#45;&gt;4</title>\n",
       "<path fill=\"none\" stroke=\"black\" d=\"M83.61,-229.55C81.26,-219.08 78.75,-207.83 76.37,-197.21\"/>\n",
       "<polygon fill=\"black\" stroke=\"black\" points=\"79.8,-196.48 74.2,-187.48 72.96,-198 79.8,-196.48\"/>\n",
       "</g>\n",
       "<!-- 5 -->\n",
       "<g id=\"node6\" class=\"node\">\n",
       "<title>5</title>\n",
       "<path fill=\"#39e581\" stroke=\"black\" d=\"M250.25,-185.88C250.25,-185.88 154,-185.88 154,-185.88 148,-185.88 142,-179.88 142,-173.88 142,-173.88 142,-126.88 142,-126.88 142,-120.88 148,-114.88 154,-114.88 154,-114.88 250.25,-114.88 250.25,-114.88 256.25,-114.88 262.25,-120.88 262.25,-126.88 262.25,-126.88 262.25,-173.88 262.25,-173.88 262.25,-179.88 256.25,-185.88 250.25,-185.88\"/>\n",
       "<text text-anchor=\"start\" x=\"162.38\" y=\"-168.57\" font-family=\"Helvetica,sans-Serif\" font-size=\"14.00\">entropy = 0.0</text>\n",
       "<text text-anchor=\"start\" x=\"165\" y=\"-152.82\" font-family=\"Helvetica,sans-Serif\" font-size=\"14.00\">samples = 2</text>\n",
       "<text text-anchor=\"start\" x=\"155.62\" y=\"-137.07\" font-family=\"Helvetica,sans-Serif\" font-size=\"14.00\">value = [0, 2, 0]</text>\n",
       "<text text-anchor=\"start\" x=\"150\" y=\"-121.33\" font-family=\"Helvetica,sans-Serif\" font-size=\"14.00\">class = Chinstrap</text>\n",
       "</g>\n",
       "<!-- 3&#45;&gt;5 -->\n",
       "<g id=\"edge5\" class=\"edge\">\n",
       "<title>3&#45;&gt;5</title>\n",
       "<path fill=\"none\" stroke=\"black\" d=\"M131.55,-229.55C141.81,-218.19 152.9,-205.9 163.19,-194.51\"/>\n",
       "<polygon fill=\"black\" stroke=\"black\" points=\"165.75,-196.9 169.85,-187.13 160.55,-192.2 165.75,-196.9\"/>\n",
       "</g>\n",
       "<!-- 8 -->\n",
       "<g id=\"node9\" class=\"node\">\n",
       "<title>8</title>\n",
       "<path fill=\"#3ee684\" stroke=\"black\" d=\"M512.25,-316.5C512.25,-316.5 350,-316.5 350,-316.5 344,-316.5 338,-310.5 338,-304.5 338,-304.5 338,-241.75 338,-241.75 338,-235.75 344,-229.75 350,-229.75 350,-229.75 512.25,-229.75 512.25,-229.75 518.25,-229.75 524.25,-235.75 524.25,-241.75 524.25,-241.75 524.25,-304.5 524.25,-304.5 524.25,-310.5 518.25,-316.5 512.25,-316.5\"/>\n",
       "<text text-anchor=\"start\" x=\"346\" y=\"-299.2\" font-family=\"Helvetica,sans-Serif\" font-size=\"14.00\">Culmen Length (mm) ≤ 45.9</text>\n",
       "<text text-anchor=\"start\" x=\"383.88\" y=\"-283.45\" font-family=\"Helvetica,sans-Serif\" font-size=\"14.00\">entropy = 0.179</text>\n",
       "<text text-anchor=\"start\" x=\"390.25\" y=\"-267.7\" font-family=\"Helvetica,sans-Serif\" font-size=\"14.00\">samples = 37</text>\n",
       "<text text-anchor=\"start\" x=\"380.88\" y=\"-251.95\" font-family=\"Helvetica,sans-Serif\" font-size=\"14.00\">value = [1, 36, 0]</text>\n",
       "<text text-anchor=\"start\" x=\"379\" y=\"-236.2\" font-family=\"Helvetica,sans-Serif\" font-size=\"14.00\">class = Chinstrap</text>\n",
       "</g>\n",
       "<!-- 7&#45;&gt;8 -->\n",
       "<g id=\"edge8\" class=\"edge\">\n",
       "<title>7&#45;&gt;8</title>\n",
       "<path fill=\"none\" stroke=\"black\" d=\"M474.5,-352.3C469.9,-344.01 465.02,-335.22 460.27,-326.64\"/>\n",
       "<polygon fill=\"black\" stroke=\"black\" points=\"463.41,-325.09 455.49,-318.04 457.28,-328.49 463.41,-325.09\"/>\n",
       "</g>\n",
       "<!-- 13 -->\n",
       "<g id=\"node14\" class=\"node\">\n",
       "<title>13</title>\n",
       "<path fill=\"#8139e5\" stroke=\"black\" d=\"M639.62,-308.62C639.62,-308.62 554.62,-308.62 554.62,-308.62 548.62,-308.62 542.62,-302.62 542.62,-296.62 542.62,-296.62 542.62,-249.62 542.62,-249.62 542.62,-243.62 548.62,-237.62 554.62,-237.62 554.62,-237.62 639.62,-237.62 639.62,-237.62 645.62,-237.62 651.62,-243.62 651.62,-249.62 651.62,-249.62 651.62,-296.62 651.62,-296.62 651.62,-302.62 645.62,-308.62 639.62,-308.62\"/>\n",
       "<text text-anchor=\"start\" x=\"557.38\" y=\"-291.32\" font-family=\"Helvetica,sans-Serif\" font-size=\"14.00\">entropy = 0.0</text>\n",
       "<text text-anchor=\"start\" x=\"560\" y=\"-275.57\" font-family=\"Helvetica,sans-Serif\" font-size=\"14.00\">samples = 1</text>\n",
       "<text text-anchor=\"start\" x=\"550.62\" y=\"-259.82\" font-family=\"Helvetica,sans-Serif\" font-size=\"14.00\">value = [0, 0, 1]</text>\n",
       "<text text-anchor=\"start\" x=\"551.38\" y=\"-244.07\" font-family=\"Helvetica,sans-Serif\" font-size=\"14.00\">class = Gentoo</text>\n",
       "</g>\n",
       "<!-- 7&#45;&gt;13 -->\n",
       "<g id=\"edge13\" class=\"edge\">\n",
       "<title>7&#45;&gt;13</title>\n",
       "<path fill=\"none\" stroke=\"black\" d=\"M533.03,-352.3C542.25,-341.05 552.22,-328.89 561.48,-317.6\"/>\n",
       "<polygon fill=\"black\" stroke=\"black\" points=\"564.14,-319.88 567.77,-309.92 558.73,-315.44 564.14,-319.88\"/>\n",
       "</g>\n",
       "<!-- 9 -->\n",
       "<g id=\"node10\" class=\"node\">\n",
       "<title>9</title>\n",
       "<path fill=\"#6aeca0\" stroke=\"black\" d=\"M463.12,-193.75C463.12,-193.75 327.12,-193.75 327.12,-193.75 321.12,-193.75 315.12,-187.75 315.12,-181.75 315.12,-181.75 315.12,-119 315.12,-119 315.12,-113 321.12,-107 327.12,-107 327.12,-107 463.12,-107 463.12,-107 469.12,-107 475.12,-113 475.12,-119 475.12,-119 475.12,-181.75 475.12,-181.75 475.12,-187.75 469.12,-193.75 463.12,-193.75\"/>\n",
       "<text text-anchor=\"start\" x=\"323.12\" y=\"-176.45\" font-family=\"Helvetica,sans-Serif\" font-size=\"14.00\">Body Mass (g) ≤ 4050.0</text>\n",
       "<text text-anchor=\"start\" x=\"347.88\" y=\"-160.7\" font-family=\"Helvetica,sans-Serif\" font-size=\"14.00\">entropy = 0.722</text>\n",
       "<text text-anchor=\"start\" x=\"358\" y=\"-144.95\" font-family=\"Helvetica,sans-Serif\" font-size=\"14.00\">samples = 5</text>\n",
       "<text text-anchor=\"start\" x=\"348.62\" y=\"-129.2\" font-family=\"Helvetica,sans-Serif\" font-size=\"14.00\">value = [1, 4, 0]</text>\n",
       "<text text-anchor=\"start\" x=\"343\" y=\"-113.45\" font-family=\"Helvetica,sans-Serif\" font-size=\"14.00\">class = Chinstrap</text>\n",
       "</g>\n",
       "<!-- 8&#45;&gt;9 -->\n",
       "<g id=\"edge9\" class=\"edge\">\n",
       "<title>8&#45;&gt;9</title>\n",
       "<path fill=\"none\" stroke=\"black\" d=\"M418.43,-229.55C416.04,-221.53 413.51,-213.04 411.03,-204.73\"/>\n",
       "<polygon fill=\"black\" stroke=\"black\" points=\"414.47,-204 408.26,-195.42 407.76,-206 414.47,-204\"/>\n",
       "</g>\n",
       "<!-- 12 -->\n",
       "<g id=\"node13\" class=\"node\">\n",
       "<title>12</title>\n",
       "<path fill=\"#39e581\" stroke=\"black\" d=\"M601.25,-185.88C601.25,-185.88 505,-185.88 505,-185.88 499,-185.88 493,-179.88 493,-173.88 493,-173.88 493,-126.88 493,-126.88 493,-120.88 499,-114.88 505,-114.88 505,-114.88 601.25,-114.88 601.25,-114.88 607.25,-114.88 613.25,-120.88 613.25,-126.88 613.25,-126.88 613.25,-173.88 613.25,-173.88 613.25,-179.88 607.25,-185.88 601.25,-185.88\"/>\n",
       "<text text-anchor=\"start\" x=\"513.38\" y=\"-168.57\" font-family=\"Helvetica,sans-Serif\" font-size=\"14.00\">entropy = 0.0</text>\n",
       "<text text-anchor=\"start\" x=\"512.25\" y=\"-152.82\" font-family=\"Helvetica,sans-Serif\" font-size=\"14.00\">samples = 32</text>\n",
       "<text text-anchor=\"start\" x=\"502.88\" y=\"-137.07\" font-family=\"Helvetica,sans-Serif\" font-size=\"14.00\">value = [0, 32, 0]</text>\n",
       "<text text-anchor=\"start\" x=\"501\" y=\"-121.33\" font-family=\"Helvetica,sans-Serif\" font-size=\"14.00\">class = Chinstrap</text>\n",
       "</g>\n",
       "<!-- 8&#45;&gt;12 -->\n",
       "<g id=\"edge12\" class=\"edge\">\n",
       "<title>8&#45;&gt;12</title>\n",
       "<path fill=\"none\" stroke=\"black\" d=\"M474.14,-229.55C485.84,-217.97 498.52,-205.42 510.22,-193.84\"/>\n",
       "<polygon fill=\"black\" stroke=\"black\" points=\"512.42,-196.59 517.06,-187.07 507.49,-191.62 512.42,-196.59\"/>\n",
       "</g>\n",
       "<!-- 10 -->\n",
       "<g id=\"node11\" class=\"node\">\n",
       "<title>10</title>\n",
       "<path fill=\"#39e581\" stroke=\"black\" d=\"M376.25,-71C376.25,-71 280,-71 280,-71 274,-71 268,-65 268,-59 268,-59 268,-12 268,-12 268,-6 274,0 280,0 280,0 376.25,0 376.25,0 382.25,0 388.25,-6 388.25,-12 388.25,-12 388.25,-59 388.25,-59 388.25,-65 382.25,-71 376.25,-71\"/>\n",
       "<text text-anchor=\"start\" x=\"288.38\" y=\"-53.7\" font-family=\"Helvetica,sans-Serif\" font-size=\"14.00\">entropy = 0.0</text>\n",
       "<text text-anchor=\"start\" x=\"291\" y=\"-37.95\" font-family=\"Helvetica,sans-Serif\" font-size=\"14.00\">samples = 4</text>\n",
       "<text text-anchor=\"start\" x=\"281.62\" y=\"-22.2\" font-family=\"Helvetica,sans-Serif\" font-size=\"14.00\">value = [0, 4, 0]</text>\n",
       "<text text-anchor=\"start\" x=\"276\" y=\"-6.45\" font-family=\"Helvetica,sans-Serif\" font-size=\"14.00\">class = Chinstrap</text>\n",
       "</g>\n",
       "<!-- 9&#45;&gt;10 -->\n",
       "<g id=\"edge10\" class=\"edge\">\n",
       "<title>9&#45;&gt;10</title>\n",
       "<path fill=\"none\" stroke=\"black\" d=\"M369.8,-106.7C364.79,-98.27 359.52,-89.39 354.48,-80.9\"/>\n",
       "<polygon fill=\"black\" stroke=\"black\" points=\"357.58,-79.27 349.47,-72.46 351.56,-82.84 357.58,-79.27\"/>\n",
       "</g>\n",
       "<!-- 11 -->\n",
       "<g id=\"node12\" class=\"node\">\n",
       "<title>11</title>\n",
       "<path fill=\"#e58139\" stroke=\"black\" d=\"M503.62,-71C503.62,-71 418.62,-71 418.62,-71 412.62,-71 406.62,-65 406.62,-59 406.62,-59 406.62,-12 406.62,-12 406.62,-6 412.62,0 418.62,0 418.62,0 503.62,0 503.62,0 509.62,0 515.62,-6 515.62,-12 515.62,-12 515.62,-59 515.62,-59 515.62,-65 509.62,-71 503.62,-71\"/>\n",
       "<text text-anchor=\"start\" x=\"421.38\" y=\"-53.7\" font-family=\"Helvetica,sans-Serif\" font-size=\"14.00\">entropy = 0.0</text>\n",
       "<text text-anchor=\"start\" x=\"424\" y=\"-37.95\" font-family=\"Helvetica,sans-Serif\" font-size=\"14.00\">samples = 1</text>\n",
       "<text text-anchor=\"start\" x=\"414.62\" y=\"-22.2\" font-family=\"Helvetica,sans-Serif\" font-size=\"14.00\">value = [1, 0, 0]</text>\n",
       "<text text-anchor=\"start\" x=\"419.5\" y=\"-6.45\" font-family=\"Helvetica,sans-Serif\" font-size=\"14.00\">class = Adelie</text>\n",
       "</g>\n",
       "<!-- 9&#45;&gt;11 -->\n",
       "<g id=\"edge11\" class=\"edge\">\n",
       "<title>9&#45;&gt;11</title>\n",
       "<path fill=\"none\" stroke=\"black\" d=\"M420.08,-106.7C425.01,-98.27 430.2,-89.39 435.16,-80.9\"/>\n",
       "<polygon fill=\"black\" stroke=\"black\" points=\"438.07,-82.86 440.1,-72.46 432.03,-79.33 438.07,-82.86\"/>\n",
       "</g>\n",
       "<!-- 15 -->\n",
       "<g id=\"node16\" class=\"node\">\n",
       "<title>15</title>\n",
       "<path fill=\"#bdf6d5\" stroke=\"black\" d=\"M835,-439.25C835,-439.25 665.25,-439.25 665.25,-439.25 659.25,-439.25 653.25,-433.25 653.25,-427.25 653.25,-427.25 653.25,-364.5 653.25,-364.5 653.25,-358.5 659.25,-352.5 665.25,-352.5 665.25,-352.5 835,-352.5 835,-352.5 841,-352.5 847,-358.5 847,-364.5 847,-364.5 847,-427.25 847,-427.25 847,-433.25 841,-439.25 835,-439.25\"/>\n",
       "<text text-anchor=\"start\" x=\"661.25\" y=\"-421.95\" font-family=\"Helvetica,sans-Serif\" font-size=\"14.00\">Culmen Length (mm) ≤ 46.55</text>\n",
       "<text text-anchor=\"start\" x=\"710.38\" y=\"-406.2\" font-family=\"Helvetica,sans-Serif\" font-size=\"14.00\">entropy = 1.5</text>\n",
       "<text text-anchor=\"start\" x=\"713\" y=\"-390.45\" font-family=\"Helvetica,sans-Serif\" font-size=\"14.00\">samples = 4</text>\n",
       "<text text-anchor=\"start\" x=\"703.62\" y=\"-374.7\" font-family=\"Helvetica,sans-Serif\" font-size=\"14.00\">value = [1, 2, 1]</text>\n",
       "<text text-anchor=\"start\" x=\"698\" y=\"-358.95\" font-family=\"Helvetica,sans-Serif\" font-size=\"14.00\">class = Chinstrap</text>\n",
       "</g>\n",
       "<!-- 14&#45;&gt;15 -->\n",
       "<g id=\"edge15\" class=\"edge\">\n",
       "<title>14&#45;&gt;15</title>\n",
       "<path fill=\"none\" stroke=\"black\" d=\"M750.12,-475.05C750.12,-467.21 750.12,-458.92 750.12,-450.79\"/>\n",
       "<polygon fill=\"black\" stroke=\"black\" points=\"753.63,-450.98 750.13,-440.98 746.63,-450.98 753.63,-450.98\"/>\n",
       "</g>\n",
       "<!-- 20 -->\n",
       "<g id=\"node21\" class=\"node\">\n",
       "<title>20</title>\n",
       "<path fill=\"#8139e5\" stroke=\"black\" d=\"M969.38,-431.38C969.38,-431.38 876.88,-431.38 876.88,-431.38 870.88,-431.38 864.88,-425.38 864.88,-419.38 864.88,-419.38 864.88,-372.38 864.88,-372.38 864.88,-366.38 870.88,-360.38 876.88,-360.38 876.88,-360.38 969.38,-360.38 969.38,-360.38 975.38,-360.38 981.38,-366.38 981.38,-372.38 981.38,-372.38 981.38,-419.38 981.38,-419.38 981.38,-425.38 975.38,-431.38 969.38,-431.38\"/>\n",
       "<text text-anchor=\"start\" x=\"883.38\" y=\"-414.07\" font-family=\"Helvetica,sans-Serif\" font-size=\"14.00\">entropy = 0.0</text>\n",
       "<text text-anchor=\"start\" x=\"882.25\" y=\"-398.32\" font-family=\"Helvetica,sans-Serif\" font-size=\"14.00\">samples = 70</text>\n",
       "<text text-anchor=\"start\" x=\"872.88\" y=\"-382.57\" font-family=\"Helvetica,sans-Serif\" font-size=\"14.00\">value = [0, 0, 70]</text>\n",
       "<text text-anchor=\"start\" x=\"877.38\" y=\"-366.82\" font-family=\"Helvetica,sans-Serif\" font-size=\"14.00\">class = Gentoo</text>\n",
       "</g>\n",
       "<!-- 14&#45;&gt;20 -->\n",
       "<g id=\"edge20\" class=\"edge\">\n",
       "<title>14&#45;&gt;20</title>\n",
       "<path fill=\"none\" stroke=\"black\" d=\"M811.12,-475.05C828.27,-463.08 846.9,-450.08 863.95,-438.18\"/>\n",
       "<polygon fill=\"black\" stroke=\"black\" points=\"865.8,-441.16 871.99,-432.56 861.79,-435.42 865.8,-441.16\"/>\n",
       "</g>\n",
       "<!-- 16 -->\n",
       "<g id=\"node17\" class=\"node\">\n",
       "<title>16</title>\n",
       "<path fill=\"#ffffff\" stroke=\"black\" d=\"M818.12,-316.5C818.12,-316.5 682.12,-316.5 682.12,-316.5 676.12,-316.5 670.12,-310.5 670.12,-304.5 670.12,-304.5 670.12,-241.75 670.12,-241.75 670.12,-235.75 676.12,-229.75 682.12,-229.75 682.12,-229.75 818.12,-229.75 818.12,-229.75 824.12,-229.75 830.12,-235.75 830.12,-241.75 830.12,-241.75 830.12,-304.5 830.12,-304.5 830.12,-310.5 824.12,-316.5 818.12,-316.5\"/>\n",
       "<text text-anchor=\"start\" x=\"678.12\" y=\"-299.2\" font-family=\"Helvetica,sans-Serif\" font-size=\"14.00\">Body Mass (g) ≤ 3975.0</text>\n",
       "<text text-anchor=\"start\" x=\"710.38\" y=\"-283.45\" font-family=\"Helvetica,sans-Serif\" font-size=\"14.00\">entropy = 1.0</text>\n",
       "<text text-anchor=\"start\" x=\"713\" y=\"-267.7\" font-family=\"Helvetica,sans-Serif\" font-size=\"14.00\">samples = 2</text>\n",
       "<text text-anchor=\"start\" x=\"703.62\" y=\"-251.95\" font-family=\"Helvetica,sans-Serif\" font-size=\"14.00\">value = [1, 0, 1]</text>\n",
       "<text text-anchor=\"start\" x=\"708.5\" y=\"-236.2\" font-family=\"Helvetica,sans-Serif\" font-size=\"14.00\">class = Adelie</text>\n",
       "</g>\n",
       "<!-- 15&#45;&gt;16 -->\n",
       "<g id=\"edge16\" class=\"edge\">\n",
       "<title>15&#45;&gt;16</title>\n",
       "<path fill=\"none\" stroke=\"black\" d=\"M750.12,-352.3C750.12,-344.46 750.12,-336.17 750.12,-328.04\"/>\n",
       "<polygon fill=\"black\" stroke=\"black\" points=\"753.63,-328.23 750.13,-318.23 746.63,-328.23 753.63,-328.23\"/>\n",
       "</g>\n",
       "<!-- 19 -->\n",
       "<g id=\"node20\" class=\"node\">\n",
       "<title>19</title>\n",
       "<path fill=\"#39e581\" stroke=\"black\" d=\"M956.25,-308.62C956.25,-308.62 860,-308.62 860,-308.62 854,-308.62 848,-302.62 848,-296.62 848,-296.62 848,-249.62 848,-249.62 848,-243.62 854,-237.62 860,-237.62 860,-237.62 956.25,-237.62 956.25,-237.62 962.25,-237.62 968.25,-243.62 968.25,-249.62 968.25,-249.62 968.25,-296.62 968.25,-296.62 968.25,-302.62 962.25,-308.62 956.25,-308.62\"/>\n",
       "<text text-anchor=\"start\" x=\"868.38\" y=\"-291.32\" font-family=\"Helvetica,sans-Serif\" font-size=\"14.00\">entropy = 0.0</text>\n",
       "<text text-anchor=\"start\" x=\"871\" y=\"-275.57\" font-family=\"Helvetica,sans-Serif\" font-size=\"14.00\">samples = 2</text>\n",
       "<text text-anchor=\"start\" x=\"861.62\" y=\"-259.82\" font-family=\"Helvetica,sans-Serif\" font-size=\"14.00\">value = [0, 2, 0]</text>\n",
       "<text text-anchor=\"start\" x=\"856\" y=\"-244.07\" font-family=\"Helvetica,sans-Serif\" font-size=\"14.00\">class = Chinstrap</text>\n",
       "</g>\n",
       "<!-- 15&#45;&gt;19 -->\n",
       "<g id=\"edge19\" class=\"edge\">\n",
       "<title>15&#45;&gt;19</title>\n",
       "<path fill=\"none\" stroke=\"black\" d=\"M805.83,-352.3C821.35,-340.44 838.19,-327.57 853.64,-315.76\"/>\n",
       "<polygon fill=\"black\" stroke=\"black\" points=\"855.54,-318.72 861.36,-309.87 851.29,-313.16 855.54,-318.72\"/>\n",
       "</g>\n",
       "<!-- 17 -->\n",
       "<g id=\"node18\" class=\"node\">\n",
       "<title>17</title>\n",
       "<path fill=\"#8139e5\" stroke=\"black\" d=\"M760.62,-185.88C760.62,-185.88 675.62,-185.88 675.62,-185.88 669.62,-185.88 663.62,-179.88 663.62,-173.88 663.62,-173.88 663.62,-126.88 663.62,-126.88 663.62,-120.88 669.62,-114.88 675.62,-114.88 675.62,-114.88 760.62,-114.88 760.62,-114.88 766.62,-114.88 772.62,-120.88 772.62,-126.88 772.62,-126.88 772.62,-173.88 772.62,-173.88 772.62,-179.88 766.62,-185.88 760.62,-185.88\"/>\n",
       "<text text-anchor=\"start\" x=\"678.38\" y=\"-168.57\" font-family=\"Helvetica,sans-Serif\" font-size=\"14.00\">entropy = 0.0</text>\n",
       "<text text-anchor=\"start\" x=\"681\" y=\"-152.82\" font-family=\"Helvetica,sans-Serif\" font-size=\"14.00\">samples = 1</text>\n",
       "<text text-anchor=\"start\" x=\"671.62\" y=\"-137.07\" font-family=\"Helvetica,sans-Serif\" font-size=\"14.00\">value = [0, 0, 1]</text>\n",
       "<text text-anchor=\"start\" x=\"672.38\" y=\"-121.33\" font-family=\"Helvetica,sans-Serif\" font-size=\"14.00\">class = Gentoo</text>\n",
       "</g>\n",
       "<!-- 16&#45;&gt;17 -->\n",
       "<g id=\"edge17\" class=\"edge\">\n",
       "<title>16&#45;&gt;17</title>\n",
       "<path fill=\"none\" stroke=\"black\" d=\"M738.84,-229.55C736.04,-218.97 733.02,-207.59 730.18,-196.87\"/>\n",
       "<polygon fill=\"black\" stroke=\"black\" points=\"733.63,-196.24 727.69,-187.47 726.87,-198.03 733.63,-196.24\"/>\n",
       "</g>\n",
       "<!-- 18 -->\n",
       "<g id=\"node19\" class=\"node\">\n",
       "<title>18</title>\n",
       "<path fill=\"#e58139\" stroke=\"black\" d=\"M887.62,-185.88C887.62,-185.88 802.62,-185.88 802.62,-185.88 796.62,-185.88 790.62,-179.88 790.62,-173.88 790.62,-173.88 790.62,-126.88 790.62,-126.88 790.62,-120.88 796.62,-114.88 802.62,-114.88 802.62,-114.88 887.62,-114.88 887.62,-114.88 893.62,-114.88 899.62,-120.88 899.62,-126.88 899.62,-126.88 899.62,-173.88 899.62,-173.88 899.62,-179.88 893.62,-185.88 887.62,-185.88\"/>\n",
       "<text text-anchor=\"start\" x=\"805.38\" y=\"-168.57\" font-family=\"Helvetica,sans-Serif\" font-size=\"14.00\">entropy = 0.0</text>\n",
       "<text text-anchor=\"start\" x=\"808\" y=\"-152.82\" font-family=\"Helvetica,sans-Serif\" font-size=\"14.00\">samples = 1</text>\n",
       "<text text-anchor=\"start\" x=\"798.62\" y=\"-137.07\" font-family=\"Helvetica,sans-Serif\" font-size=\"14.00\">value = [1, 0, 0]</text>\n",
       "<text text-anchor=\"start\" x=\"803.5\" y=\"-121.33\" font-family=\"Helvetica,sans-Serif\" font-size=\"14.00\">class = Adelie</text>\n",
       "</g>\n",
       "<!-- 16&#45;&gt;18 -->\n",
       "<g id=\"edge18\" class=\"edge\">\n",
       "<title>16&#45;&gt;18</title>\n",
       "<path fill=\"none\" stroke=\"black\" d=\"M783.62,-229.55C792.47,-218.3 802.03,-206.14 810.92,-194.85\"/>\n",
       "<polygon fill=\"black\" stroke=\"black\" points=\"813.51,-197.22 816.95,-187.19 808.01,-192.89 813.51,-197.22\"/>\n",
       "</g>\n",
       "</g>\n",
       "</svg>\n"
      ],
      "text/plain": [
       "<graphviz.sources.Source at 0x2cabe7b51d0>"
      ]
     },
     "metadata": {},
     "output_type": "display_data"
    },
    {
     "name": "stdout",
     "output_type": "stream",
     "text": [
      "✓ Decision Tree saved for split 60:40 → output/split_ratios_graphviz\\tree_60_40.png\n"
     ]
    },
    {
     "data": {
      "image/svg+xml": [
       "<?xml version=\"1.0\" encoding=\"UTF-8\" standalone=\"no\"?>\n",
       "<!DOCTYPE svg PUBLIC \"-//W3C//DTD SVG 1.1//EN\"\n",
       " \"http://www.w3.org/Graphics/SVG/1.1/DTD/svg11.dtd\">\n",
       "<!-- Generated by graphviz version 12.2.1 (20241206.2353)\n",
       " -->\n",
       "<!-- Title: Tree Pages: 1 -->\n",
       "<svg width=\"1050pt\" height=\"693pt\"\n",
       " viewBox=\"0.00 0.00 1049.62 692.75\" xmlns=\"http://www.w3.org/2000/svg\" xmlns:xlink=\"http://www.w3.org/1999/xlink\">\n",
       "<g id=\"graph0\" class=\"graph\" transform=\"scale(1 1) rotate(0) translate(4 688.75)\">\n",
       "<title>Tree</title>\n",
       "<polygon fill=\"white\" stroke=\"none\" points=\"-4,4 -4,-688.75 1045.62,-688.75 1045.62,4 -4,4\"/>\n",
       "<!-- 0 -->\n",
       "<g id=\"node1\" class=\"node\">\n",
       "<title>0</title>\n",
       "<path fill=\"#fcf3ec\" stroke=\"black\" d=\"M796,-684.75C796,-684.75 632.25,-684.75 632.25,-684.75 626.25,-684.75 620.25,-678.75 620.25,-672.75 620.25,-672.75 620.25,-610 620.25,-610 620.25,-604 626.25,-598 632.25,-598 632.25,-598 796,-598 796,-598 802,-598 808,-604 808,-610 808,-610 808,-672.75 808,-672.75 808,-678.75 802,-684.75 796,-684.75\"/>\n",
       "<text text-anchor=\"start\" x=\"628.25\" y=\"-667.45\" font-family=\"Helvetica,sans-Serif\" font-size=\"14.00\">Flipper Length (mm) ≤ 206.0</text>\n",
       "<text text-anchor=\"start\" x=\"666.88\" y=\"-651.7\" font-family=\"Helvetica,sans-Serif\" font-size=\"14.00\">entropy = 1.526</text>\n",
       "<text text-anchor=\"start\" x=\"669.5\" y=\"-635.95\" font-family=\"Helvetica,sans-Serif\" font-size=\"14.00\">samples = 260</text>\n",
       "<text text-anchor=\"start\" x=\"653.38\" y=\"-620.2\" font-family=\"Helvetica,sans-Serif\" font-size=\"14.00\">value = [111, 54, 95]</text>\n",
       "<text text-anchor=\"start\" x=\"672.5\" y=\"-604.45\" font-family=\"Helvetica,sans-Serif\" font-size=\"14.00\">class = Adelie</text>\n",
       "</g>\n",
       "<!-- 1 -->\n",
       "<g id=\"node2\" class=\"node\">\n",
       "<title>1</title>\n",
       "<path fill=\"#f1bb95\" stroke=\"black\" d=\"M624.25,-562C624.25,-562 462,-562 462,-562 456,-562 450,-556 450,-550 450,-550 450,-487.25 450,-487.25 450,-481.25 456,-475.25 462,-475.25 462,-475.25 624.25,-475.25 624.25,-475.25 630.25,-475.25 636.25,-481.25 636.25,-487.25 636.25,-487.25 636.25,-550 636.25,-550 636.25,-556 630.25,-562 624.25,-562\"/>\n",
       "<text text-anchor=\"start\" x=\"458\" y=\"-544.7\" font-family=\"Helvetica,sans-Serif\" font-size=\"14.00\">Culmen Length (mm) ≤ 44.2</text>\n",
       "<text text-anchor=\"start\" x=\"495.88\" y=\"-528.95\" font-family=\"Helvetica,sans-Serif\" font-size=\"14.00\">entropy = 0.947</text>\n",
       "<text text-anchor=\"start\" x=\"498.5\" y=\"-513.2\" font-family=\"Helvetica,sans-Serif\" font-size=\"14.00\">samples = 160</text>\n",
       "<text text-anchor=\"start\" x=\"485.38\" y=\"-497.45\" font-family=\"Helvetica,sans-Serif\" font-size=\"14.00\">value = [109, 50, 1]</text>\n",
       "<text text-anchor=\"start\" x=\"501.5\" y=\"-481.7\" font-family=\"Helvetica,sans-Serif\" font-size=\"14.00\">class = Adelie</text>\n",
       "</g>\n",
       "<!-- 0&#45;&gt;1 -->\n",
       "<g id=\"edge1\" class=\"edge\">\n",
       "<title>0&#45;&gt;1</title>\n",
       "<path fill=\"none\" stroke=\"black\" d=\"M653.84,-597.8C640.63,-588.48 626.55,-578.53 613.01,-568.97\"/>\n",
       "<polygon fill=\"black\" stroke=\"black\" points=\"615.16,-566.21 604.97,-563.3 611.12,-571.92 615.16,-566.21\"/>\n",
       "<text text-anchor=\"middle\" x=\"607.98\" y=\"-581.64\" font-family=\"Helvetica,sans-Serif\" font-size=\"14.00\">True</text>\n",
       "</g>\n",
       "<!-- 18 -->\n",
       "<g id=\"node19\" class=\"node\">\n",
       "<title>18</title>\n",
       "<path fill=\"#8945e7\" stroke=\"black\" d=\"M886.12,-562C886.12,-562 750.12,-562 750.12,-562 744.12,-562 738.12,-556 738.12,-550 738.12,-550 738.12,-487.25 738.12,-487.25 738.12,-481.25 744.12,-475.25 750.12,-475.25 750.12,-475.25 886.12,-475.25 886.12,-475.25 892.12,-475.25 898.12,-481.25 898.12,-487.25 898.12,-487.25 898.12,-550 898.12,-550 898.12,-556 892.12,-562 886.12,-562\"/>\n",
       "<text text-anchor=\"start\" x=\"746.12\" y=\"-544.7\" font-family=\"Helvetica,sans-Serif\" font-size=\"14.00\">Body Mass (g) ≤ 4325.0</text>\n",
       "<text text-anchor=\"start\" x=\"770.88\" y=\"-528.95\" font-family=\"Helvetica,sans-Serif\" font-size=\"14.00\">entropy = 0.383</text>\n",
       "<text text-anchor=\"start\" x=\"773.5\" y=\"-513.2\" font-family=\"Helvetica,sans-Serif\" font-size=\"14.00\">samples = 100</text>\n",
       "<text text-anchor=\"start\" x=\"767.88\" y=\"-497.45\" font-family=\"Helvetica,sans-Serif\" font-size=\"14.00\">value = [2, 4, 94]</text>\n",
       "<text text-anchor=\"start\" x=\"772.38\" y=\"-481.7\" font-family=\"Helvetica,sans-Serif\" font-size=\"14.00\">class = Gentoo</text>\n",
       "</g>\n",
       "<!-- 0&#45;&gt;18 -->\n",
       "<g id=\"edge18\" class=\"edge\">\n",
       "<title>0&#45;&gt;18</title>\n",
       "<path fill=\"none\" stroke=\"black\" d=\"M750.79,-597.8C758.33,-589.06 766.33,-579.76 774.09,-570.75\"/>\n",
       "<polygon fill=\"black\" stroke=\"black\" points=\"776.58,-573.23 780.45,-563.37 771.27,-568.66 776.58,-573.23\"/>\n",
       "<text text-anchor=\"middle\" x=\"783.3\" y=\"-581.73\" font-family=\"Helvetica,sans-Serif\" font-size=\"14.00\">False</text>\n",
       "</g>\n",
       "<!-- 2 -->\n",
       "<g id=\"node3\" class=\"node\">\n",
       "<title>2</title>\n",
       "<path fill=\"#e6853f\" stroke=\"black\" d=\"M366,-439.25C366,-439.25 196.25,-439.25 196.25,-439.25 190.25,-439.25 184.25,-433.25 184.25,-427.25 184.25,-427.25 184.25,-364.5 184.25,-364.5 184.25,-358.5 190.25,-352.5 196.25,-352.5 196.25,-352.5 366,-352.5 366,-352.5 372,-352.5 378,-358.5 378,-364.5 378,-364.5 378,-427.25 378,-427.25 378,-433.25 372,-439.25 366,-439.25\"/>\n",
       "<text text-anchor=\"start\" x=\"192.25\" y=\"-421.95\" font-family=\"Helvetica,sans-Serif\" font-size=\"14.00\">Culmen Length (mm) ≤ 40.75</text>\n",
       "<text text-anchor=\"start\" x=\"233.88\" y=\"-406.2\" font-family=\"Helvetica,sans-Serif\" font-size=\"14.00\">entropy = 0.182</text>\n",
       "<text text-anchor=\"start\" x=\"236.5\" y=\"-390.45\" font-family=\"Helvetica,sans-Serif\" font-size=\"14.00\">samples = 109</text>\n",
       "<text text-anchor=\"start\" x=\"227.12\" y=\"-374.7\" font-family=\"Helvetica,sans-Serif\" font-size=\"14.00\">value = [106, 3, 0]</text>\n",
       "<text text-anchor=\"start\" x=\"239.5\" y=\"-358.95\" font-family=\"Helvetica,sans-Serif\" font-size=\"14.00\">class = Adelie</text>\n",
       "</g>\n",
       "<!-- 1&#45;&gt;2 -->\n",
       "<g id=\"edge2\" class=\"edge\">\n",
       "<title>1&#45;&gt;2</title>\n",
       "<path fill=\"none\" stroke=\"black\" d=\"M450.38,-474.88C428.91,-464.99 405.93,-454.39 384.04,-444.31\"/>\n",
       "<polygon fill=\"black\" stroke=\"black\" points=\"385.66,-441.2 375.12,-440.19 382.73,-447.56 385.66,-441.2\"/>\n",
       "</g>\n",
       "<!-- 9 -->\n",
       "<g id=\"node10\" class=\"node\">\n",
       "<title>9</title>\n",
       "<path fill=\"#4ae78c\" stroke=\"black\" d=\"M611.12,-439.25C611.12,-439.25 475.12,-439.25 475.12,-439.25 469.12,-439.25 463.12,-433.25 463.12,-427.25 463.12,-427.25 463.12,-364.5 463.12,-364.5 463.12,-358.5 469.12,-352.5 475.12,-352.5 475.12,-352.5 611.12,-352.5 611.12,-352.5 617.12,-352.5 623.12,-358.5 623.12,-364.5 623.12,-364.5 623.12,-427.25 623.12,-427.25 623.12,-433.25 617.12,-439.25 611.12,-439.25\"/>\n",
       "<text text-anchor=\"start\" x=\"471.12\" y=\"-421.95\" font-family=\"Helvetica,sans-Serif\" font-size=\"14.00\">Body Mass (g) ≤ 4100.0</text>\n",
       "<text text-anchor=\"start\" x=\"499.62\" y=\"-406.2\" font-family=\"Helvetica,sans-Serif\" font-size=\"14.00\">entropy = 0.46</text>\n",
       "<text text-anchor=\"start\" x=\"502.25\" y=\"-390.45\" font-family=\"Helvetica,sans-Serif\" font-size=\"14.00\">samples = 51</text>\n",
       "<text text-anchor=\"start\" x=\"492.88\" y=\"-374.7\" font-family=\"Helvetica,sans-Serif\" font-size=\"14.00\">value = [3, 47, 1]</text>\n",
       "<text text-anchor=\"start\" x=\"491\" y=\"-358.95\" font-family=\"Helvetica,sans-Serif\" font-size=\"14.00\">class = Chinstrap</text>\n",
       "</g>\n",
       "<!-- 1&#45;&gt;9 -->\n",
       "<g id=\"edge9\" class=\"edge\">\n",
       "<title>1&#45;&gt;9</title>\n",
       "<path fill=\"none\" stroke=\"black\" d=\"M543.12,-475.05C543.12,-467.21 543.12,-458.92 543.12,-450.79\"/>\n",
       "<polygon fill=\"black\" stroke=\"black\" points=\"546.63,-450.98 543.13,-440.98 539.63,-450.98 546.63,-450.98\"/>\n",
       "</g>\n",
       "<!-- 3 -->\n",
       "<g id=\"node4\" class=\"node\">\n",
       "<title>3</title>\n",
       "<path fill=\"#e58139\" stroke=\"black\" d=\"M171.38,-308.62C171.38,-308.62 78.88,-308.62 78.88,-308.62 72.88,-308.62 66.88,-302.62 66.88,-296.62 66.88,-296.62 66.88,-249.62 66.88,-249.62 66.88,-243.62 72.88,-237.62 78.88,-237.62 78.88,-237.62 171.38,-237.62 171.38,-237.62 177.38,-237.62 183.38,-243.62 183.38,-249.62 183.38,-249.62 183.38,-296.62 183.38,-296.62 183.38,-302.62 177.38,-308.62 171.38,-308.62\"/>\n",
       "<text text-anchor=\"start\" x=\"85.38\" y=\"-291.32\" font-family=\"Helvetica,sans-Serif\" font-size=\"14.00\">entropy = 0.0</text>\n",
       "<text text-anchor=\"start\" x=\"84.25\" y=\"-275.57\" font-family=\"Helvetica,sans-Serif\" font-size=\"14.00\">samples = 82</text>\n",
       "<text text-anchor=\"start\" x=\"74.88\" y=\"-259.82\" font-family=\"Helvetica,sans-Serif\" font-size=\"14.00\">value = [82, 0, 0]</text>\n",
       "<text text-anchor=\"start\" x=\"83.5\" y=\"-244.07\" font-family=\"Helvetica,sans-Serif\" font-size=\"14.00\">class = Adelie</text>\n",
       "</g>\n",
       "<!-- 2&#45;&gt;3 -->\n",
       "<g id=\"edge3\" class=\"edge\">\n",
       "<title>2&#45;&gt;3</title>\n",
       "<path fill=\"none\" stroke=\"black\" d=\"M226.13,-352.3C210.8,-340.44 194.17,-327.57 178.92,-315.76\"/>\n",
       "<polygon fill=\"black\" stroke=\"black\" points=\"181.36,-313.23 171.31,-309.87 177.08,-318.76 181.36,-313.23\"/>\n",
       "</g>\n",
       "<!-- 4 -->\n",
       "<g id=\"node5\" class=\"node\">\n",
       "<title>4</title>\n",
       "<path fill=\"#e89152\" stroke=\"black\" d=\"M349.12,-316.5C349.12,-316.5 213.12,-316.5 213.12,-316.5 207.12,-316.5 201.12,-310.5 201.12,-304.5 201.12,-304.5 201.12,-241.75 201.12,-241.75 201.12,-235.75 207.12,-229.75 213.12,-229.75 213.12,-229.75 349.12,-229.75 349.12,-229.75 355.12,-229.75 361.12,-235.75 361.12,-241.75 361.12,-241.75 361.12,-304.5 361.12,-304.5 361.12,-310.5 355.12,-316.5 349.12,-316.5\"/>\n",
       "<text text-anchor=\"start\" x=\"209.12\" y=\"-299.2\" font-family=\"Helvetica,sans-Serif\" font-size=\"14.00\">Body Mass (g) ≤ 3425.0</text>\n",
       "<text text-anchor=\"start\" x=\"233.88\" y=\"-283.45\" font-family=\"Helvetica,sans-Serif\" font-size=\"14.00\">entropy = 0.503</text>\n",
       "<text text-anchor=\"start\" x=\"240.25\" y=\"-267.7\" font-family=\"Helvetica,sans-Serif\" font-size=\"14.00\">samples = 27</text>\n",
       "<text text-anchor=\"start\" x=\"230.88\" y=\"-251.95\" font-family=\"Helvetica,sans-Serif\" font-size=\"14.00\">value = [24, 3, 0]</text>\n",
       "<text text-anchor=\"start\" x=\"239.5\" y=\"-236.2\" font-family=\"Helvetica,sans-Serif\" font-size=\"14.00\">class = Adelie</text>\n",
       "</g>\n",
       "<!-- 2&#45;&gt;4 -->\n",
       "<g id=\"edge4\" class=\"edge\">\n",
       "<title>2&#45;&gt;4</title>\n",
       "<path fill=\"none\" stroke=\"black\" d=\"M281.12,-352.3C281.12,-344.46 281.12,-336.17 281.12,-328.04\"/>\n",
       "<polygon fill=\"black\" stroke=\"black\" points=\"284.63,-328.23 281.13,-318.23 277.63,-328.23 284.63,-328.23\"/>\n",
       "</g>\n",
       "<!-- 5 -->\n",
       "<g id=\"node6\" class=\"node\">\n",
       "<title>5</title>\n",
       "<path fill=\"#7beeab\" stroke=\"black\" d=\"M217.25,-193.75C217.25,-193.75 121,-193.75 121,-193.75 115,-193.75 109,-187.75 109,-181.75 109,-181.75 109,-119 109,-119 109,-113 115,-107 121,-107 121,-107 217.25,-107 217.25,-107 223.25,-107 229.25,-113 229.25,-119 229.25,-119 229.25,-181.75 229.25,-181.75 229.25,-187.75 223.25,-193.75 217.25,-193.75\"/>\n",
       "<text text-anchor=\"start\" x=\"118.12\" y=\"-176.45\" font-family=\"Helvetica,sans-Serif\" font-size=\"14.00\">Sex_MALE ≤ 0.5</text>\n",
       "<text text-anchor=\"start\" x=\"122.25\" y=\"-160.7\" font-family=\"Helvetica,sans-Serif\" font-size=\"14.00\">entropy = 0.811</text>\n",
       "<text text-anchor=\"start\" x=\"132\" y=\"-144.95\" font-family=\"Helvetica,sans-Serif\" font-size=\"14.00\">samples = 4</text>\n",
       "<text text-anchor=\"start\" x=\"122.62\" y=\"-129.2\" font-family=\"Helvetica,sans-Serif\" font-size=\"14.00\">value = [1, 3, 0]</text>\n",
       "<text text-anchor=\"start\" x=\"117\" y=\"-113.45\" font-family=\"Helvetica,sans-Serif\" font-size=\"14.00\">class = Chinstrap</text>\n",
       "</g>\n",
       "<!-- 4&#45;&gt;5 -->\n",
       "<g id=\"edge5\" class=\"edge\">\n",
       "<title>4&#45;&gt;5</title>\n",
       "<path fill=\"none\" stroke=\"black\" d=\"M241.64,-229.55C233.44,-220.72 224.73,-211.32 216.28,-202.22\"/>\n",
       "<polygon fill=\"black\" stroke=\"black\" points=\"219.03,-200.03 209.66,-195.08 213.9,-204.79 219.03,-200.03\"/>\n",
       "</g>\n",
       "<!-- 8 -->\n",
       "<g id=\"node9\" class=\"node\">\n",
       "<title>8</title>\n",
       "<path fill=\"#e58139\" stroke=\"black\" d=\"M351.38,-185.88C351.38,-185.88 258.88,-185.88 258.88,-185.88 252.88,-185.88 246.88,-179.88 246.88,-173.88 246.88,-173.88 246.88,-126.88 246.88,-126.88 246.88,-120.88 252.88,-114.88 258.88,-114.88 258.88,-114.88 351.38,-114.88 351.38,-114.88 357.38,-114.88 363.38,-120.88 363.38,-126.88 363.38,-126.88 363.38,-173.88 363.38,-173.88 363.38,-179.88 357.38,-185.88 351.38,-185.88\"/>\n",
       "<text text-anchor=\"start\" x=\"265.38\" y=\"-168.57\" font-family=\"Helvetica,sans-Serif\" font-size=\"14.00\">entropy = 0.0</text>\n",
       "<text text-anchor=\"start\" x=\"264.25\" y=\"-152.82\" font-family=\"Helvetica,sans-Serif\" font-size=\"14.00\">samples = 23</text>\n",
       "<text text-anchor=\"start\" x=\"254.88\" y=\"-137.07\" font-family=\"Helvetica,sans-Serif\" font-size=\"14.00\">value = [23, 0, 0]</text>\n",
       "<text text-anchor=\"start\" x=\"263.5\" y=\"-121.33\" font-family=\"Helvetica,sans-Serif\" font-size=\"14.00\">class = Adelie</text>\n",
       "</g>\n",
       "<!-- 4&#45;&gt;8 -->\n",
       "<g id=\"edge8\" class=\"edge\">\n",
       "<title>4&#45;&gt;8</title>\n",
       "<path fill=\"none\" stroke=\"black\" d=\"M289.59,-229.55C291.67,-219.08 293.91,-207.83 296.02,-197.21\"/>\n",
       "<polygon fill=\"black\" stroke=\"black\" points=\"299.43,-197.98 297.95,-187.49 292.56,-196.61 299.43,-197.98\"/>\n",
       "</g>\n",
       "<!-- 6 -->\n",
       "<g id=\"node7\" class=\"node\">\n",
       "<title>6</title>\n",
       "<path fill=\"#39e581\" stroke=\"black\" d=\"M108.25,-71C108.25,-71 12,-71 12,-71 6,-71 0,-65 0,-59 0,-59 0,-12 0,-12 0,-6 6,0 12,0 12,0 108.25,0 108.25,0 114.25,0 120.25,-6 120.25,-12 120.25,-12 120.25,-59 120.25,-59 120.25,-65 114.25,-71 108.25,-71\"/>\n",
       "<text text-anchor=\"start\" x=\"20.38\" y=\"-53.7\" font-family=\"Helvetica,sans-Serif\" font-size=\"14.00\">entropy = 0.0</text>\n",
       "<text text-anchor=\"start\" x=\"23\" y=\"-37.95\" font-family=\"Helvetica,sans-Serif\" font-size=\"14.00\">samples = 3</text>\n",
       "<text text-anchor=\"start\" x=\"13.62\" y=\"-22.2\" font-family=\"Helvetica,sans-Serif\" font-size=\"14.00\">value = [0, 3, 0]</text>\n",
       "<text text-anchor=\"start\" x=\"8\" y=\"-6.45\" font-family=\"Helvetica,sans-Serif\" font-size=\"14.00\">class = Chinstrap</text>\n",
       "</g>\n",
       "<!-- 5&#45;&gt;6 -->\n",
       "<g id=\"edge6\" class=\"edge\">\n",
       "<title>5&#45;&gt;6</title>\n",
       "<path fill=\"none\" stroke=\"black\" d=\"M127.92,-106.7C119.24,-97.72 110.08,-88.23 101.4,-79.25\"/>\n",
       "<polygon fill=\"black\" stroke=\"black\" points=\"104.11,-77.01 94.64,-72.25 99.07,-81.87 104.11,-77.01\"/>\n",
       "</g>\n",
       "<!-- 7 -->\n",
       "<g id=\"node8\" class=\"node\">\n",
       "<title>7</title>\n",
       "<path fill=\"#e58139\" stroke=\"black\" d=\"M235.62,-71C235.62,-71 150.62,-71 150.62,-71 144.62,-71 138.62,-65 138.62,-59 138.62,-59 138.62,-12 138.62,-12 138.62,-6 144.62,0 150.62,0 150.62,0 235.62,0 235.62,0 241.62,0 247.62,-6 247.62,-12 247.62,-12 247.62,-59 247.62,-59 247.62,-65 241.62,-71 235.62,-71\"/>\n",
       "<text text-anchor=\"start\" x=\"153.38\" y=\"-53.7\" font-family=\"Helvetica,sans-Serif\" font-size=\"14.00\">entropy = 0.0</text>\n",
       "<text text-anchor=\"start\" x=\"156\" y=\"-37.95\" font-family=\"Helvetica,sans-Serif\" font-size=\"14.00\">samples = 1</text>\n",
       "<text text-anchor=\"start\" x=\"146.62\" y=\"-22.2\" font-family=\"Helvetica,sans-Serif\" font-size=\"14.00\">value = [1, 0, 0]</text>\n",
       "<text text-anchor=\"start\" x=\"151.5\" y=\"-6.45\" font-family=\"Helvetica,sans-Serif\" font-size=\"14.00\">class = Adelie</text>\n",
       "</g>\n",
       "<!-- 5&#45;&gt;7 -->\n",
       "<g id=\"edge7\" class=\"edge\">\n",
       "<title>5&#45;&gt;7</title>\n",
       "<path fill=\"none\" stroke=\"black\" d=\"M178.2,-106.7C179.89,-98.72 181.67,-90.36 183.39,-82.29\"/>\n",
       "<polygon fill=\"black\" stroke=\"black\" points=\"186.78,-83.15 185.44,-72.64 179.94,-81.69 186.78,-83.15\"/>\n",
       "</g>\n",
       "<!-- 10 -->\n",
       "<g id=\"node11\" class=\"node\">\n",
       "<title>10</title>\n",
       "<path fill=\"#39e581\" stroke=\"black\" d=\"M487.25,-308.62C487.25,-308.62 391,-308.62 391,-308.62 385,-308.62 379,-302.62 379,-296.62 379,-296.62 379,-249.62 379,-249.62 379,-243.62 385,-237.62 391,-237.62 391,-237.62 487.25,-237.62 487.25,-237.62 493.25,-237.62 499.25,-243.62 499.25,-249.62 499.25,-249.62 499.25,-296.62 499.25,-296.62 499.25,-302.62 493.25,-308.62 487.25,-308.62\"/>\n",
       "<text text-anchor=\"start\" x=\"399.38\" y=\"-291.32\" font-family=\"Helvetica,sans-Serif\" font-size=\"14.00\">entropy = 0.0</text>\n",
       "<text text-anchor=\"start\" x=\"398.25\" y=\"-275.57\" font-family=\"Helvetica,sans-Serif\" font-size=\"14.00\">samples = 42</text>\n",
       "<text text-anchor=\"start\" x=\"388.88\" y=\"-259.82\" font-family=\"Helvetica,sans-Serif\" font-size=\"14.00\">value = [0, 42, 0]</text>\n",
       "<text text-anchor=\"start\" x=\"387\" y=\"-244.07\" font-family=\"Helvetica,sans-Serif\" font-size=\"14.00\">class = Chinstrap</text>\n",
       "</g>\n",
       "<!-- 9&#45;&gt;10 -->\n",
       "<g id=\"edge10\" class=\"edge\">\n",
       "<title>9&#45;&gt;10</title>\n",
       "<path fill=\"none\" stroke=\"black\" d=\"M506.46,-352.3C496.67,-340.94 486.09,-328.65 476.28,-317.26\"/>\n",
       "<polygon fill=\"black\" stroke=\"black\" points=\"479.12,-315.19 469.94,-309.9 473.81,-319.76 479.12,-315.19\"/>\n",
       "</g>\n",
       "<!-- 11 -->\n",
       "<g id=\"node12\" class=\"node\">\n",
       "<title>11</title>\n",
       "<path fill=\"#bdf6d5\" stroke=\"black\" d=\"M691.25,-316.5C691.25,-316.5 529,-316.5 529,-316.5 523,-316.5 517,-310.5 517,-304.5 517,-304.5 517,-241.75 517,-241.75 517,-235.75 523,-229.75 529,-229.75 529,-229.75 691.25,-229.75 691.25,-229.75 697.25,-229.75 703.25,-235.75 703.25,-241.75 703.25,-241.75 703.25,-304.5 703.25,-304.5 703.25,-310.5 697.25,-316.5 691.25,-316.5\"/>\n",
       "<text text-anchor=\"start\" x=\"525\" y=\"-299.2\" font-family=\"Helvetica,sans-Serif\" font-size=\"14.00\">Culmen Length (mm) ≤ 47.2</text>\n",
       "<text text-anchor=\"start\" x=\"562.88\" y=\"-283.45\" font-family=\"Helvetica,sans-Serif\" font-size=\"14.00\">entropy = 1.352</text>\n",
       "<text text-anchor=\"start\" x=\"573\" y=\"-267.7\" font-family=\"Helvetica,sans-Serif\" font-size=\"14.00\">samples = 9</text>\n",
       "<text text-anchor=\"start\" x=\"563.62\" y=\"-251.95\" font-family=\"Helvetica,sans-Serif\" font-size=\"14.00\">value = [3, 5, 1]</text>\n",
       "<text text-anchor=\"start\" x=\"558\" y=\"-236.2\" font-family=\"Helvetica,sans-Serif\" font-size=\"14.00\">class = Chinstrap</text>\n",
       "</g>\n",
       "<!-- 9&#45;&gt;11 -->\n",
       "<g id=\"edge11\" class=\"edge\">\n",
       "<title>9&#45;&gt;11</title>\n",
       "<path fill=\"none\" stroke=\"black\" d=\"M566.75,-352.3C571.35,-344.01 576.23,-335.22 580.98,-326.64\"/>\n",
       "<polygon fill=\"black\" stroke=\"black\" points=\"583.97,-328.49 585.76,-318.04 577.84,-325.09 583.97,-328.49\"/>\n",
       "</g>\n",
       "<!-- 12 -->\n",
       "<g id=\"node13\" class=\"node\">\n",
       "<title>12</title>\n",
       "<path fill=\"#eeab7b\" stroke=\"black\" d=\"M539.12,-193.75C539.12,-193.75 445.12,-193.75 445.12,-193.75 439.12,-193.75 433.12,-187.75 433.12,-181.75 433.12,-181.75 433.12,-119 433.12,-119 433.12,-113 439.12,-107 445.12,-107 445.12,-107 539.12,-107 539.12,-107 545.12,-107 551.12,-113 551.12,-119 551.12,-119 551.12,-181.75 551.12,-181.75 551.12,-187.75 545.12,-193.75 539.12,-193.75\"/>\n",
       "<text text-anchor=\"start\" x=\"441.12\" y=\"-176.45\" font-family=\"Helvetica,sans-Serif\" font-size=\"14.00\">Sex_MALE ≤ 0.5</text>\n",
       "<text text-anchor=\"start\" x=\"445.25\" y=\"-160.7\" font-family=\"Helvetica,sans-Serif\" font-size=\"14.00\">entropy = 0.811</text>\n",
       "<text text-anchor=\"start\" x=\"455\" y=\"-144.95\" font-family=\"Helvetica,sans-Serif\" font-size=\"14.00\">samples = 4</text>\n",
       "<text text-anchor=\"start\" x=\"445.62\" y=\"-129.2\" font-family=\"Helvetica,sans-Serif\" font-size=\"14.00\">value = [3, 1, 0]</text>\n",
       "<text text-anchor=\"start\" x=\"450.5\" y=\"-113.45\" font-family=\"Helvetica,sans-Serif\" font-size=\"14.00\">class = Adelie</text>\n",
       "</g>\n",
       "<!-- 11&#45;&gt;12 -->\n",
       "<g id=\"edge12\" class=\"edge\">\n",
       "<title>11&#45;&gt;12</title>\n",
       "<path fill=\"none\" stroke=\"black\" d=\"M568.52,-229.55C559.8,-220.63 550.52,-211.13 541.54,-201.94\"/>\n",
       "<polygon fill=\"black\" stroke=\"black\" points=\"544.3,-199.76 534.81,-195.05 539.29,-204.65 544.3,-199.76\"/>\n",
       "</g>\n",
       "<!-- 15 -->\n",
       "<g id=\"node16\" class=\"node\">\n",
       "<title>15</title>\n",
       "<path fill=\"#6aeca0\" stroke=\"black\" d=\"M677.25,-193.75C677.25,-193.75 581,-193.75 581,-193.75 575,-193.75 569,-187.75 569,-181.75 569,-181.75 569,-119 569,-119 569,-113 575,-107 581,-107 581,-107 677.25,-107 677.25,-107 683.25,-107 689.25,-113 689.25,-119 689.25,-119 689.25,-181.75 689.25,-181.75 689.25,-187.75 683.25,-193.75 677.25,-193.75\"/>\n",
       "<text text-anchor=\"start\" x=\"578.12\" y=\"-176.45\" font-family=\"Helvetica,sans-Serif\" font-size=\"14.00\">Sex_MALE ≤ 0.5</text>\n",
       "<text text-anchor=\"start\" x=\"581.88\" y=\"-160.7\" font-family=\"Helvetica,sans-Serif\" font-size=\"14.00\">entropy = 0.722</text>\n",
       "<text text-anchor=\"start\" x=\"592\" y=\"-144.95\" font-family=\"Helvetica,sans-Serif\" font-size=\"14.00\">samples = 5</text>\n",
       "<text text-anchor=\"start\" x=\"582.62\" y=\"-129.2\" font-family=\"Helvetica,sans-Serif\" font-size=\"14.00\">value = [0, 4, 1]</text>\n",
       "<text text-anchor=\"start\" x=\"577\" y=\"-113.45\" font-family=\"Helvetica,sans-Serif\" font-size=\"14.00\">class = Chinstrap</text>\n",
       "</g>\n",
       "<!-- 11&#45;&gt;15 -->\n",
       "<g id=\"edge15\" class=\"edge\">\n",
       "<title>11&#45;&gt;15</title>\n",
       "<path fill=\"none\" stroke=\"black\" d=\"M616.82,-229.55C618.06,-221.71 619.36,-213.42 620.64,-205.29\"/>\n",
       "<polygon fill=\"black\" stroke=\"black\" points=\"624.09,-205.89 622.19,-195.46 617.18,-204.8 624.09,-205.89\"/>\n",
       "</g>\n",
       "<!-- 13 -->\n",
       "<g id=\"node14\" class=\"node\">\n",
       "<title>13</title>\n",
       "<path fill=\"#39e581\" stroke=\"black\" d=\"M410.25,-71C410.25,-71 314,-71 314,-71 308,-71 302,-65 302,-59 302,-59 302,-12 302,-12 302,-6 308,0 314,0 314,0 410.25,0 410.25,0 416.25,0 422.25,-6 422.25,-12 422.25,-12 422.25,-59 422.25,-59 422.25,-65 416.25,-71 410.25,-71\"/>\n",
       "<text text-anchor=\"start\" x=\"322.38\" y=\"-53.7\" font-family=\"Helvetica,sans-Serif\" font-size=\"14.00\">entropy = 0.0</text>\n",
       "<text text-anchor=\"start\" x=\"325\" y=\"-37.95\" font-family=\"Helvetica,sans-Serif\" font-size=\"14.00\">samples = 1</text>\n",
       "<text text-anchor=\"start\" x=\"315.62\" y=\"-22.2\" font-family=\"Helvetica,sans-Serif\" font-size=\"14.00\">value = [0, 1, 0]</text>\n",
       "<text text-anchor=\"start\" x=\"310\" y=\"-6.45\" font-family=\"Helvetica,sans-Serif\" font-size=\"14.00\">class = Chinstrap</text>\n",
       "</g>\n",
       "<!-- 12&#45;&gt;13 -->\n",
       "<g id=\"edge13\" class=\"edge\">\n",
       "<title>12&#45;&gt;13</title>\n",
       "<path fill=\"none\" stroke=\"black\" d=\"M442.98,-106.7C432.42,-97.53 421.26,-87.85 410.72,-78.7\"/>\n",
       "<polygon fill=\"black\" stroke=\"black\" points=\"413.03,-76.06 403.18,-72.15 408.44,-81.35 413.03,-76.06\"/>\n",
       "</g>\n",
       "<!-- 14 -->\n",
       "<g id=\"node15\" class=\"node\">\n",
       "<title>14</title>\n",
       "<path fill=\"#e58139\" stroke=\"black\" d=\"M537.62,-71C537.62,-71 452.62,-71 452.62,-71 446.62,-71 440.62,-65 440.62,-59 440.62,-59 440.62,-12 440.62,-12 440.62,-6 446.62,0 452.62,0 452.62,0 537.62,0 537.62,0 543.62,0 549.62,-6 549.62,-12 549.62,-12 549.62,-59 549.62,-59 549.62,-65 543.62,-71 537.62,-71\"/>\n",
       "<text text-anchor=\"start\" x=\"455.38\" y=\"-53.7\" font-family=\"Helvetica,sans-Serif\" font-size=\"14.00\">entropy = 0.0</text>\n",
       "<text text-anchor=\"start\" x=\"458\" y=\"-37.95\" font-family=\"Helvetica,sans-Serif\" font-size=\"14.00\">samples = 3</text>\n",
       "<text text-anchor=\"start\" x=\"448.62\" y=\"-22.2\" font-family=\"Helvetica,sans-Serif\" font-size=\"14.00\">value = [3, 0, 0]</text>\n",
       "<text text-anchor=\"start\" x=\"453.5\" y=\"-6.45\" font-family=\"Helvetica,sans-Serif\" font-size=\"14.00\">class = Adelie</text>\n",
       "</g>\n",
       "<!-- 12&#45;&gt;14 -->\n",
       "<g id=\"edge14\" class=\"edge\">\n",
       "<title>12&#45;&gt;14</title>\n",
       "<path fill=\"none\" stroke=\"black\" d=\"M493.26,-106.7C493.47,-98.82 493.69,-90.55 493.9,-82.57\"/>\n",
       "<polygon fill=\"black\" stroke=\"black\" points=\"497.4,-82.76 494.16,-72.67 490.4,-82.57 497.4,-82.76\"/>\n",
       "</g>\n",
       "<!-- 16 -->\n",
       "<g id=\"node17\" class=\"node\">\n",
       "<title>16</title>\n",
       "<path fill=\"#8139e5\" stroke=\"black\" d=\"M669.62,-71C669.62,-71 584.62,-71 584.62,-71 578.62,-71 572.62,-65 572.62,-59 572.62,-59 572.62,-12 572.62,-12 572.62,-6 578.62,0 584.62,0 584.62,0 669.62,0 669.62,0 675.62,0 681.62,-6 681.62,-12 681.62,-12 681.62,-59 681.62,-59 681.62,-65 675.62,-71 669.62,-71\"/>\n",
       "<text text-anchor=\"start\" x=\"587.38\" y=\"-53.7\" font-family=\"Helvetica,sans-Serif\" font-size=\"14.00\">entropy = 0.0</text>\n",
       "<text text-anchor=\"start\" x=\"590\" y=\"-37.95\" font-family=\"Helvetica,sans-Serif\" font-size=\"14.00\">samples = 1</text>\n",
       "<text text-anchor=\"start\" x=\"580.62\" y=\"-22.2\" font-family=\"Helvetica,sans-Serif\" font-size=\"14.00\">value = [0, 0, 1]</text>\n",
       "<text text-anchor=\"start\" x=\"581.38\" y=\"-6.45\" font-family=\"Helvetica,sans-Serif\" font-size=\"14.00\">class = Gentoo</text>\n",
       "</g>\n",
       "<!-- 15&#45;&gt;16 -->\n",
       "<g id=\"edge16\" class=\"edge\">\n",
       "<title>15&#45;&gt;16</title>\n",
       "<path fill=\"none\" stroke=\"black\" d=\"M628.37,-106.7C628.23,-98.82 628.08,-90.55 627.94,-82.57\"/>\n",
       "<polygon fill=\"black\" stroke=\"black\" points=\"631.44,-82.61 627.77,-72.67 624.44,-82.73 631.44,-82.61\"/>\n",
       "</g>\n",
       "<!-- 17 -->\n",
       "<g id=\"node18\" class=\"node\">\n",
       "<title>17</title>\n",
       "<path fill=\"#39e581\" stroke=\"black\" d=\"M808.25,-71C808.25,-71 712,-71 712,-71 706,-71 700,-65 700,-59 700,-59 700,-12 700,-12 700,-6 706,0 712,0 712,0 808.25,0 808.25,0 814.25,0 820.25,-6 820.25,-12 820.25,-12 820.25,-59 820.25,-59 820.25,-65 814.25,-71 808.25,-71\"/>\n",
       "<text text-anchor=\"start\" x=\"720.38\" y=\"-53.7\" font-family=\"Helvetica,sans-Serif\" font-size=\"14.00\">entropy = 0.0</text>\n",
       "<text text-anchor=\"start\" x=\"723\" y=\"-37.95\" font-family=\"Helvetica,sans-Serif\" font-size=\"14.00\">samples = 4</text>\n",
       "<text text-anchor=\"start\" x=\"713.62\" y=\"-22.2\" font-family=\"Helvetica,sans-Serif\" font-size=\"14.00\">value = [0, 4, 0]</text>\n",
       "<text text-anchor=\"start\" x=\"708\" y=\"-6.45\" font-family=\"Helvetica,sans-Serif\" font-size=\"14.00\">class = Chinstrap</text>\n",
       "</g>\n",
       "<!-- 15&#45;&gt;17 -->\n",
       "<g id=\"edge17\" class=\"edge\">\n",
       "<title>15&#45;&gt;17</title>\n",
       "<path fill=\"none\" stroke=\"black\" d=\"M678.65,-106.7C689.4,-97.44 700.76,-87.65 711.47,-78.42\"/>\n",
       "<polygon fill=\"black\" stroke=\"black\" points=\"713.46,-81.32 718.76,-72.15 708.9,-76.02 713.46,-81.32\"/>\n",
       "</g>\n",
       "<!-- 19 -->\n",
       "<g id=\"node20\" class=\"node\">\n",
       "<title>19</title>\n",
       "<path fill=\"#d5bdf6\" stroke=\"black\" d=\"M873.75,-439.25C873.75,-439.25 762.5,-439.25 762.5,-439.25 756.5,-439.25 750.5,-433.25 750.5,-427.25 750.5,-427.25 750.5,-364.5 750.5,-364.5 750.5,-358.5 756.5,-352.5 762.5,-352.5 762.5,-352.5 873.75,-352.5 873.75,-352.5 879.75,-352.5 885.75,-358.5 885.75,-364.5 885.75,-364.5 885.75,-427.25 885.75,-427.25 885.75,-433.25 879.75,-439.25 873.75,-439.25\"/>\n",
       "<text text-anchor=\"start\" x=\"758.5\" y=\"-421.95\" font-family=\"Helvetica,sans-Serif\" font-size=\"14.00\">Sex_FEMALE ≤ 0.5</text>\n",
       "<text text-anchor=\"start\" x=\"774.62\" y=\"-406.2\" font-family=\"Helvetica,sans-Serif\" font-size=\"14.00\">entropy = 1.42</text>\n",
       "<text text-anchor=\"start\" x=\"777.25\" y=\"-390.45\" font-family=\"Helvetica,sans-Serif\" font-size=\"14.00\">samples = 13</text>\n",
       "<text text-anchor=\"start\" x=\"771.62\" y=\"-374.7\" font-family=\"Helvetica,sans-Serif\" font-size=\"14.00\">value = [2, 4, 7]</text>\n",
       "<text text-anchor=\"start\" x=\"772.38\" y=\"-358.95\" font-family=\"Helvetica,sans-Serif\" font-size=\"14.00\">class = Gentoo</text>\n",
       "</g>\n",
       "<!-- 18&#45;&gt;19 -->\n",
       "<g id=\"edge19\" class=\"edge\">\n",
       "<title>18&#45;&gt;19</title>\n",
       "<path fill=\"none\" stroke=\"black\" d=\"M818.12,-475.05C818.12,-467.21 818.12,-458.92 818.12,-450.79\"/>\n",
       "<polygon fill=\"black\" stroke=\"black\" points=\"821.63,-450.98 818.13,-440.98 814.63,-450.98 821.63,-450.98\"/>\n",
       "</g>\n",
       "<!-- 24 -->\n",
       "<g id=\"node25\" class=\"node\">\n",
       "<title>24</title>\n",
       "<path fill=\"#8139e5\" stroke=\"black\" d=\"M1008.38,-431.38C1008.38,-431.38 915.88,-431.38 915.88,-431.38 909.88,-431.38 903.88,-425.38 903.88,-419.38 903.88,-419.38 903.88,-372.38 903.88,-372.38 903.88,-366.38 909.88,-360.38 915.88,-360.38 915.88,-360.38 1008.38,-360.38 1008.38,-360.38 1014.38,-360.38 1020.38,-366.38 1020.38,-372.38 1020.38,-372.38 1020.38,-419.38 1020.38,-419.38 1020.38,-425.38 1014.38,-431.38 1008.38,-431.38\"/>\n",
       "<text text-anchor=\"start\" x=\"922.38\" y=\"-414.07\" font-family=\"Helvetica,sans-Serif\" font-size=\"14.00\">entropy = 0.0</text>\n",
       "<text text-anchor=\"start\" x=\"921.25\" y=\"-398.32\" font-family=\"Helvetica,sans-Serif\" font-size=\"14.00\">samples = 87</text>\n",
       "<text text-anchor=\"start\" x=\"911.88\" y=\"-382.57\" font-family=\"Helvetica,sans-Serif\" font-size=\"14.00\">value = [0, 0, 87]</text>\n",
       "<text text-anchor=\"start\" x=\"916.38\" y=\"-366.82\" font-family=\"Helvetica,sans-Serif\" font-size=\"14.00\">class = Gentoo</text>\n",
       "</g>\n",
       "<!-- 18&#45;&gt;24 -->\n",
       "<g id=\"edge24\" class=\"edge\">\n",
       "<title>18&#45;&gt;24</title>\n",
       "<path fill=\"none\" stroke=\"black\" d=\"M868.89,-475.05C882.98,-463.24 898.25,-450.44 912.28,-438.68\"/>\n",
       "<polygon fill=\"black\" stroke=\"black\" points=\"914.26,-441.58 919.67,-432.48 909.76,-436.22 914.26,-441.58\"/>\n",
       "</g>\n",
       "<!-- 20 -->\n",
       "<g id=\"node21\" class=\"node\">\n",
       "<title>20</title>\n",
       "<path fill=\"#9cf2c0\" stroke=\"black\" d=\"M903,-316.5C903,-316.5 733.25,-316.5 733.25,-316.5 727.25,-316.5 721.25,-310.5 721.25,-304.5 721.25,-304.5 721.25,-241.75 721.25,-241.75 721.25,-235.75 727.25,-229.75 733.25,-229.75 733.25,-229.75 903,-229.75 903,-229.75 909,-229.75 915,-235.75 915,-241.75 915,-241.75 915,-304.5 915,-304.5 915,-310.5 909,-316.5 903,-316.5\"/>\n",
       "<text text-anchor=\"start\" x=\"729.25\" y=\"-299.2\" font-family=\"Helvetica,sans-Serif\" font-size=\"14.00\">Culmen Length (mm) ≤ 46.55</text>\n",
       "<text text-anchor=\"start\" x=\"770.88\" y=\"-283.45\" font-family=\"Helvetica,sans-Serif\" font-size=\"14.00\">entropy = 0.918</text>\n",
       "<text text-anchor=\"start\" x=\"781\" y=\"-267.7\" font-family=\"Helvetica,sans-Serif\" font-size=\"14.00\">samples = 6</text>\n",
       "<text text-anchor=\"start\" x=\"771.62\" y=\"-251.95\" font-family=\"Helvetica,sans-Serif\" font-size=\"14.00\">value = [2, 4, 0]</text>\n",
       "<text text-anchor=\"start\" x=\"766\" y=\"-236.2\" font-family=\"Helvetica,sans-Serif\" font-size=\"14.00\">class = Chinstrap</text>\n",
       "</g>\n",
       "<!-- 19&#45;&gt;20 -->\n",
       "<g id=\"edge20\" class=\"edge\">\n",
       "<title>19&#45;&gt;20</title>\n",
       "<path fill=\"none\" stroke=\"black\" d=\"M818.12,-352.3C818.12,-344.46 818.12,-336.17 818.12,-328.04\"/>\n",
       "<polygon fill=\"black\" stroke=\"black\" points=\"821.63,-328.23 818.13,-318.23 814.63,-328.23 821.63,-328.23\"/>\n",
       "</g>\n",
       "<!-- 23 -->\n",
       "<g id=\"node24\" class=\"node\">\n",
       "<title>23</title>\n",
       "<path fill=\"#8139e5\" stroke=\"black\" d=\"M1029.62,-308.62C1029.62,-308.62 944.62,-308.62 944.62,-308.62 938.62,-308.62 932.62,-302.62 932.62,-296.62 932.62,-296.62 932.62,-249.62 932.62,-249.62 932.62,-243.62 938.62,-237.62 944.62,-237.62 944.62,-237.62 1029.62,-237.62 1029.62,-237.62 1035.62,-237.62 1041.62,-243.62 1041.62,-249.62 1041.62,-249.62 1041.62,-296.62 1041.62,-296.62 1041.62,-302.62 1035.62,-308.62 1029.62,-308.62\"/>\n",
       "<text text-anchor=\"start\" x=\"947.38\" y=\"-291.32\" font-family=\"Helvetica,sans-Serif\" font-size=\"14.00\">entropy = 0.0</text>\n",
       "<text text-anchor=\"start\" x=\"950\" y=\"-275.57\" font-family=\"Helvetica,sans-Serif\" font-size=\"14.00\">samples = 7</text>\n",
       "<text text-anchor=\"start\" x=\"940.62\" y=\"-259.82\" font-family=\"Helvetica,sans-Serif\" font-size=\"14.00\">value = [0, 0, 7]</text>\n",
       "<text text-anchor=\"start\" x=\"941.38\" y=\"-244.07\" font-family=\"Helvetica,sans-Serif\" font-size=\"14.00\">class = Gentoo</text>\n",
       "</g>\n",
       "<!-- 19&#45;&gt;23 -->\n",
       "<g id=\"edge23\" class=\"edge\">\n",
       "<title>19&#45;&gt;23</title>\n",
       "<path fill=\"none\" stroke=\"black\" d=\"M877.71,-352.3C894.47,-340.33 912.66,-327.33 929.31,-315.43\"/>\n",
       "<polygon fill=\"black\" stroke=\"black\" points=\"931.05,-318.49 937.16,-309.83 926.98,-312.79 931.05,-318.49\"/>\n",
       "</g>\n",
       "<!-- 21 -->\n",
       "<g id=\"node22\" class=\"node\">\n",
       "<title>21</title>\n",
       "<path fill=\"#e58139\" stroke=\"black\" d=\"M841.62,-185.88C841.62,-185.88 756.62,-185.88 756.62,-185.88 750.62,-185.88 744.62,-179.88 744.62,-173.88 744.62,-173.88 744.62,-126.88 744.62,-126.88 744.62,-120.88 750.62,-114.88 756.62,-114.88 756.62,-114.88 841.62,-114.88 841.62,-114.88 847.62,-114.88 853.62,-120.88 853.62,-126.88 853.62,-126.88 853.62,-173.88 853.62,-173.88 853.62,-179.88 847.62,-185.88 841.62,-185.88\"/>\n",
       "<text text-anchor=\"start\" x=\"759.38\" y=\"-168.57\" font-family=\"Helvetica,sans-Serif\" font-size=\"14.00\">entropy = 0.0</text>\n",
       "<text text-anchor=\"start\" x=\"762\" y=\"-152.82\" font-family=\"Helvetica,sans-Serif\" font-size=\"14.00\">samples = 2</text>\n",
       "<text text-anchor=\"start\" x=\"752.62\" y=\"-137.07\" font-family=\"Helvetica,sans-Serif\" font-size=\"14.00\">value = [2, 0, 0]</text>\n",
       "<text text-anchor=\"start\" x=\"757.5\" y=\"-121.33\" font-family=\"Helvetica,sans-Serif\" font-size=\"14.00\">class = Adelie</text>\n",
       "</g>\n",
       "<!-- 20&#45;&gt;21 -->\n",
       "<g id=\"edge21\" class=\"edge\">\n",
       "<title>20&#45;&gt;21</title>\n",
       "<path fill=\"none\" stroke=\"black\" d=\"M811.43,-229.55C809.78,-219.08 808.01,-207.83 806.34,-197.21\"/>\n",
       "<polygon fill=\"black\" stroke=\"black\" points=\"809.82,-196.83 804.81,-187.5 802.91,-197.92 809.82,-196.83\"/>\n",
       "</g>\n",
       "<!-- 22 -->\n",
       "<g id=\"node23\" class=\"node\">\n",
       "<title>22</title>\n",
       "<path fill=\"#39e581\" stroke=\"black\" d=\"M980.25,-185.88C980.25,-185.88 884,-185.88 884,-185.88 878,-185.88 872,-179.88 872,-173.88 872,-173.88 872,-126.88 872,-126.88 872,-120.88 878,-114.88 884,-114.88 884,-114.88 980.25,-114.88 980.25,-114.88 986.25,-114.88 992.25,-120.88 992.25,-126.88 992.25,-126.88 992.25,-173.88 992.25,-173.88 992.25,-179.88 986.25,-185.88 980.25,-185.88\"/>\n",
       "<text text-anchor=\"start\" x=\"892.38\" y=\"-168.57\" font-family=\"Helvetica,sans-Serif\" font-size=\"14.00\">entropy = 0.0</text>\n",
       "<text text-anchor=\"start\" x=\"895\" y=\"-152.82\" font-family=\"Helvetica,sans-Serif\" font-size=\"14.00\">samples = 4</text>\n",
       "<text text-anchor=\"start\" x=\"885.62\" y=\"-137.07\" font-family=\"Helvetica,sans-Serif\" font-size=\"14.00\">value = [0, 4, 0]</text>\n",
       "<text text-anchor=\"start\" x=\"880\" y=\"-121.33\" font-family=\"Helvetica,sans-Serif\" font-size=\"14.00\">class = Chinstrap</text>\n",
       "</g>\n",
       "<!-- 20&#45;&gt;22 -->\n",
       "<g id=\"edge22\" class=\"edge\">\n",
       "<title>20&#45;&gt;22</title>\n",
       "<path fill=\"none\" stroke=\"black\" d=\"M858.32,-229.55C869.15,-218.08 880.87,-205.66 891.72,-194.18\"/>\n",
       "<polygon fill=\"black\" stroke=\"black\" points=\"894.07,-196.78 898.39,-187.1 888.98,-191.97 894.07,-196.78\"/>\n",
       "</g>\n",
       "</g>\n",
       "</svg>\n"
      ],
      "text/plain": [
       "<graphviz.sources.Source at 0x2cabe7b5590>"
      ]
     },
     "metadata": {},
     "output_type": "display_data"
    },
    {
     "name": "stdout",
     "output_type": "stream",
     "text": [
      "✓ Decision Tree saved for split 80:20 → output/split_ratios_graphviz\\tree_80_20.png\n"
     ]
    },
    {
     "data": {
      "image/svg+xml": [
       "<?xml version=\"1.0\" encoding=\"UTF-8\" standalone=\"no\"?>\n",
       "<!DOCTYPE svg PUBLIC \"-//W3C//DTD SVG 1.1//EN\"\n",
       " \"http://www.w3.org/Graphics/SVG/1.1/DTD/svg11.dtd\">\n",
       "<!-- Generated by graphviz version 12.2.1 (20241206.2353)\n",
       " -->\n",
       "<!-- Title: Tree Pages: 1 -->\n",
       "<svg width=\"1208pt\" height=\"816pt\"\n",
       " viewBox=\"0.00 0.00 1208.38 815.50\" xmlns=\"http://www.w3.org/2000/svg\" xmlns:xlink=\"http://www.w3.org/1999/xlink\">\n",
       "<g id=\"graph0\" class=\"graph\" transform=\"scale(1 1) rotate(0) translate(4 811.5)\">\n",
       "<title>Tree</title>\n",
       "<polygon fill=\"white\" stroke=\"none\" points=\"-4,4 -4,-811.5 1204.38,-811.5 1204.38,4 -4,4\"/>\n",
       "<!-- 0 -->\n",
       "<g id=\"node1\" class=\"node\">\n",
       "<title>0</title>\n",
       "<path fill=\"#fcf3ec\" stroke=\"black\" d=\"M902.12,-807.5C902.12,-807.5 738.38,-807.5 738.38,-807.5 732.38,-807.5 726.38,-801.5 726.38,-795.5 726.38,-795.5 726.38,-732.75 726.38,-732.75 726.38,-726.75 732.38,-720.75 738.38,-720.75 738.38,-720.75 902.12,-720.75 902.12,-720.75 908.12,-720.75 914.12,-726.75 914.12,-732.75 914.12,-732.75 914.12,-795.5 914.12,-795.5 914.12,-801.5 908.12,-807.5 902.12,-807.5\"/>\n",
       "<text text-anchor=\"start\" x=\"734.38\" y=\"-790.2\" font-family=\"Helvetica,sans-Serif\" font-size=\"14.00\">Flipper Length (mm) ≤ 206.0</text>\n",
       "<text text-anchor=\"start\" x=\"773\" y=\"-774.45\" font-family=\"Helvetica,sans-Serif\" font-size=\"14.00\">entropy = 1.524</text>\n",
       "<text text-anchor=\"start\" x=\"775.62\" y=\"-758.7\" font-family=\"Helvetica,sans-Serif\" font-size=\"14.00\">samples = 292</text>\n",
       "<text text-anchor=\"start\" x=\"755\" y=\"-742.95\" font-family=\"Helvetica,sans-Serif\" font-size=\"14.00\">value = [125, 60, 107]</text>\n",
       "<text text-anchor=\"start\" x=\"778.62\" y=\"-727.2\" font-family=\"Helvetica,sans-Serif\" font-size=\"14.00\">class = Adelie</text>\n",
       "</g>\n",
       "<!-- 1 -->\n",
       "<g id=\"node2\" class=\"node\">\n",
       "<title>1</title>\n",
       "<path fill=\"#f1bb94\" stroke=\"black\" d=\"M744.38,-684.75C744.38,-684.75 582.12,-684.75 582.12,-684.75 576.12,-684.75 570.12,-678.75 570.12,-672.75 570.12,-672.75 570.12,-610 570.12,-610 570.12,-604 576.12,-598 582.12,-598 582.12,-598 744.38,-598 744.38,-598 750.38,-598 756.38,-604 756.38,-610 756.38,-610 756.38,-672.75 756.38,-672.75 756.38,-678.75 750.38,-684.75 744.38,-684.75\"/>\n",
       "<text text-anchor=\"start\" x=\"578.12\" y=\"-667.45\" font-family=\"Helvetica,sans-Serif\" font-size=\"14.00\">Culmen Length (mm) ≤ 44.2</text>\n",
       "<text text-anchor=\"start\" x=\"616\" y=\"-651.7\" font-family=\"Helvetica,sans-Serif\" font-size=\"14.00\">entropy = 0.941</text>\n",
       "<text text-anchor=\"start\" x=\"618.62\" y=\"-635.95\" font-family=\"Helvetica,sans-Serif\" font-size=\"14.00\">samples = 180</text>\n",
       "<text text-anchor=\"start\" x=\"605.5\" y=\"-620.2\" font-family=\"Helvetica,sans-Serif\" font-size=\"14.00\">value = [123, 56, 1]</text>\n",
       "<text text-anchor=\"start\" x=\"621.62\" y=\"-604.45\" font-family=\"Helvetica,sans-Serif\" font-size=\"14.00\">class = Adelie</text>\n",
       "</g>\n",
       "<!-- 0&#45;&gt;1 -->\n",
       "<g id=\"edge1\" class=\"edge\">\n",
       "<title>0&#45;&gt;1</title>\n",
       "<path fill=\"none\" stroke=\"black\" d=\"M764.9,-720.55C752.89,-711.32 740.09,-701.48 727.77,-692\"/>\n",
       "<polygon fill=\"black\" stroke=\"black\" points=\"730.16,-689.42 720.1,-686.1 725.89,-694.97 730.16,-689.42\"/>\n",
       "<text text-anchor=\"middle\" x=\"722.13\" y=\"-704.54\" font-family=\"Helvetica,sans-Serif\" font-size=\"14.00\">True</text>\n",
       "</g>\n",
       "<!-- 20 -->\n",
       "<g id=\"node21\" class=\"node\">\n",
       "<title>20</title>\n",
       "<path fill=\"#8844e6\" stroke=\"black\" d=\"M984.25,-684.75C984.25,-684.75 848.25,-684.75 848.25,-684.75 842.25,-684.75 836.25,-678.75 836.25,-672.75 836.25,-672.75 836.25,-610 836.25,-610 836.25,-604 842.25,-598 848.25,-598 848.25,-598 984.25,-598 984.25,-598 990.25,-598 996.25,-604 996.25,-610 996.25,-610 996.25,-672.75 996.25,-672.75 996.25,-678.75 990.25,-684.75 984.25,-684.75\"/>\n",
       "<text text-anchor=\"start\" x=\"844.25\" y=\"-667.45\" font-family=\"Helvetica,sans-Serif\" font-size=\"14.00\">Body Mass (g) ≤ 4325.0</text>\n",
       "<text text-anchor=\"start\" x=\"869\" y=\"-651.7\" font-family=\"Helvetica,sans-Serif\" font-size=\"14.00\">entropy = 0.351</text>\n",
       "<text text-anchor=\"start\" x=\"872\" y=\"-635.95\" font-family=\"Helvetica,sans-Serif\" font-size=\"14.00\">samples = 112</text>\n",
       "<text text-anchor=\"start\" x=\"862.25\" y=\"-620.2\" font-family=\"Helvetica,sans-Serif\" font-size=\"14.00\">value = [2, 4, 106]</text>\n",
       "<text text-anchor=\"start\" x=\"870.5\" y=\"-604.45\" font-family=\"Helvetica,sans-Serif\" font-size=\"14.00\">class = Gentoo</text>\n",
       "</g>\n",
       "<!-- 0&#45;&gt;20 -->\n",
       "<g id=\"edge20\" class=\"edge\">\n",
       "<title>0&#45;&gt;20</title>\n",
       "<path fill=\"none\" stroke=\"black\" d=\"M854.1,-720.55C860.98,-711.9 868.29,-702.7 875.38,-693.78\"/>\n",
       "<polygon fill=\"black\" stroke=\"black\" points=\"877.96,-696.16 881.44,-686.15 872.48,-691.8 877.96,-696.16\"/>\n",
       "<text text-anchor=\"middle\" x=\"885.22\" y=\"-704.38\" font-family=\"Helvetica,sans-Serif\" font-size=\"14.00\">False</text>\n",
       "</g>\n",
       "<!-- 2 -->\n",
       "<g id=\"node3\" class=\"node\">\n",
       "<title>2</title>\n",
       "<path fill=\"#e68540\" stroke=\"black\" d=\"M492.12,-562C492.12,-562 322.38,-562 322.38,-562 316.38,-562 310.38,-556 310.38,-550 310.38,-550 310.38,-487.25 310.38,-487.25 310.38,-481.25 316.38,-475.25 322.38,-475.25 322.38,-475.25 492.12,-475.25 492.12,-475.25 498.12,-475.25 504.12,-481.25 504.12,-487.25 504.12,-487.25 504.12,-550 504.12,-550 504.12,-556 498.12,-562 492.12,-562\"/>\n",
       "<text text-anchor=\"start\" x=\"318.38\" y=\"-544.7\" font-family=\"Helvetica,sans-Serif\" font-size=\"14.00\">Culmen Length (mm) ≤ 42.35</text>\n",
       "<text text-anchor=\"start\" x=\"360\" y=\"-528.95\" font-family=\"Helvetica,sans-Serif\" font-size=\"14.00\">entropy = 0.206</text>\n",
       "<text text-anchor=\"start\" x=\"362.62\" y=\"-513.2\" font-family=\"Helvetica,sans-Serif\" font-size=\"14.00\">samples = 124</text>\n",
       "<text text-anchor=\"start\" x=\"353.25\" y=\"-497.45\" font-family=\"Helvetica,sans-Serif\" font-size=\"14.00\">value = [120, 4, 0]</text>\n",
       "<text text-anchor=\"start\" x=\"365.62\" y=\"-481.7\" font-family=\"Helvetica,sans-Serif\" font-size=\"14.00\">class = Adelie</text>\n",
       "</g>\n",
       "<!-- 1&#45;&gt;2 -->\n",
       "<g id=\"edge2\" class=\"edge\">\n",
       "<title>1&#45;&gt;2</title>\n",
       "<path fill=\"none\" stroke=\"black\" d=\"M572.63,-597.63C551.74,-587.78 529.4,-577.24 508.1,-567.2\"/>\n",
       "<polygon fill=\"black\" stroke=\"black\" points=\"509.65,-564.06 499.11,-562.96 506.66,-570.39 509.65,-564.06\"/>\n",
       "</g>\n",
       "<!-- 11 -->\n",
       "<g id=\"node12\" class=\"node\">\n",
       "<title>11</title>\n",
       "<path fill=\"#48e78b\" stroke=\"black\" d=\"M731.25,-562C731.25,-562 595.25,-562 595.25,-562 589.25,-562 583.25,-556 583.25,-550 583.25,-550 583.25,-487.25 583.25,-487.25 583.25,-481.25 589.25,-475.25 595.25,-475.25 595.25,-475.25 731.25,-475.25 731.25,-475.25 737.25,-475.25 743.25,-481.25 743.25,-487.25 743.25,-487.25 743.25,-550 743.25,-550 743.25,-556 737.25,-562 731.25,-562\"/>\n",
       "<text text-anchor=\"start\" x=\"591.25\" y=\"-544.7\" font-family=\"Helvetica,sans-Serif\" font-size=\"14.00\">Body Mass (g) ≤ 4125.0</text>\n",
       "<text text-anchor=\"start\" x=\"616\" y=\"-528.95\" font-family=\"Helvetica,sans-Serif\" font-size=\"14.00\">entropy = 0.429</text>\n",
       "<text text-anchor=\"start\" x=\"622.38\" y=\"-513.2\" font-family=\"Helvetica,sans-Serif\" font-size=\"14.00\">samples = 56</text>\n",
       "<text text-anchor=\"start\" x=\"613\" y=\"-497.45\" font-family=\"Helvetica,sans-Serif\" font-size=\"14.00\">value = [3, 52, 1]</text>\n",
       "<text text-anchor=\"start\" x=\"611.12\" y=\"-481.7\" font-family=\"Helvetica,sans-Serif\" font-size=\"14.00\">class = Chinstrap</text>\n",
       "</g>\n",
       "<!-- 1&#45;&gt;11 -->\n",
       "<g id=\"edge11\" class=\"edge\">\n",
       "<title>1&#45;&gt;11</title>\n",
       "<path fill=\"none\" stroke=\"black\" d=\"M663.25,-597.8C663.25,-589.96 663.25,-581.67 663.25,-573.54\"/>\n",
       "<polygon fill=\"black\" stroke=\"black\" points=\"666.75,-573.73 663.25,-563.73 659.75,-573.73 666.75,-573.73\"/>\n",
       "</g>\n",
       "<!-- 3 -->\n",
       "<g id=\"node4\" class=\"node\">\n",
       "<title>3</title>\n",
       "<path fill=\"#e5823b\" stroke=\"black\" d=\"M283.38,-439.25C283.38,-439.25 121.12,-439.25 121.12,-439.25 115.12,-439.25 109.12,-433.25 109.12,-427.25 109.12,-427.25 109.12,-364.5 109.12,-364.5 109.12,-358.5 115.12,-352.5 121.12,-352.5 121.12,-352.5 283.38,-352.5 283.38,-352.5 289.38,-352.5 295.38,-358.5 295.38,-364.5 295.38,-364.5 295.38,-427.25 295.38,-427.25 295.38,-433.25 289.38,-439.25 283.38,-439.25\"/>\n",
       "<text text-anchor=\"start\" x=\"117.12\" y=\"-421.95\" font-family=\"Helvetica,sans-Serif\" font-size=\"14.00\">Culmen Length (mm) ≤ 40.8</text>\n",
       "<text text-anchor=\"start\" x=\"155\" y=\"-406.2\" font-family=\"Helvetica,sans-Serif\" font-size=\"14.00\">entropy = 0.072</text>\n",
       "<text text-anchor=\"start\" x=\"158\" y=\"-390.45\" font-family=\"Helvetica,sans-Serif\" font-size=\"14.00\">samples = 115</text>\n",
       "<text text-anchor=\"start\" x=\"148.62\" y=\"-374.7\" font-family=\"Helvetica,sans-Serif\" font-size=\"14.00\">value = [114, 1, 0]</text>\n",
       "<text text-anchor=\"start\" x=\"160.62\" y=\"-358.95\" font-family=\"Helvetica,sans-Serif\" font-size=\"14.00\">class = Adelie</text>\n",
       "</g>\n",
       "<!-- 2&#45;&gt;3 -->\n",
       "<g id=\"edge3\" class=\"edge\">\n",
       "<title>2&#45;&gt;3</title>\n",
       "<path fill=\"none\" stroke=\"black\" d=\"M334.69,-474.88C318.41,-465.3 301.04,-455.06 284.41,-445.27\"/>\n",
       "<polygon fill=\"black\" stroke=\"black\" points=\"286.41,-442.39 276.02,-440.33 282.86,-448.42 286.41,-442.39\"/>\n",
       "</g>\n",
       "<!-- 8 -->\n",
       "<g id=\"node9\" class=\"node\">\n",
       "<title>8</title>\n",
       "<path fill=\"#f2c09c\" stroke=\"black\" d=\"M489.12,-439.25C489.12,-439.25 325.38,-439.25 325.38,-439.25 319.38,-439.25 313.38,-433.25 313.38,-427.25 313.38,-427.25 313.38,-364.5 313.38,-364.5 313.38,-358.5 319.38,-352.5 325.38,-352.5 325.38,-352.5 489.12,-352.5 489.12,-352.5 495.12,-352.5 501.12,-358.5 501.12,-364.5 501.12,-364.5 501.12,-427.25 501.12,-427.25 501.12,-433.25 495.12,-439.25 489.12,-439.25\"/>\n",
       "<text text-anchor=\"start\" x=\"321.38\" y=\"-421.95\" font-family=\"Helvetica,sans-Serif\" font-size=\"14.00\">Flipper Length (mm) ≤ 189.5</text>\n",
       "<text text-anchor=\"start\" x=\"360\" y=\"-406.2\" font-family=\"Helvetica,sans-Serif\" font-size=\"14.00\">entropy = 0.918</text>\n",
       "<text text-anchor=\"start\" x=\"370.12\" y=\"-390.45\" font-family=\"Helvetica,sans-Serif\" font-size=\"14.00\">samples = 9</text>\n",
       "<text text-anchor=\"start\" x=\"360.75\" y=\"-374.7\" font-family=\"Helvetica,sans-Serif\" font-size=\"14.00\">value = [6, 3, 0]</text>\n",
       "<text text-anchor=\"start\" x=\"365.62\" y=\"-358.95\" font-family=\"Helvetica,sans-Serif\" font-size=\"14.00\">class = Adelie</text>\n",
       "</g>\n",
       "<!-- 2&#45;&gt;8 -->\n",
       "<g id=\"edge8\" class=\"edge\">\n",
       "<title>2&#45;&gt;8</title>\n",
       "<path fill=\"none\" stroke=\"black\" d=\"M407.25,-475.05C407.25,-467.21 407.25,-458.92 407.25,-450.79\"/>\n",
       "<polygon fill=\"black\" stroke=\"black\" points=\"410.75,-450.98 407.25,-440.98 403.75,-450.98 410.75,-450.98\"/>\n",
       "</g>\n",
       "<!-- 4 -->\n",
       "<g id=\"node5\" class=\"node\">\n",
       "<title>4</title>\n",
       "<path fill=\"#e58139\" stroke=\"black\" d=\"M104.5,-308.62C104.5,-308.62 12,-308.62 12,-308.62 6,-308.62 0,-302.62 0,-296.62 0,-296.62 0,-249.62 0,-249.62 0,-243.62 6,-237.62 12,-237.62 12,-237.62 104.5,-237.62 104.5,-237.62 110.5,-237.62 116.5,-243.62 116.5,-249.62 116.5,-249.62 116.5,-296.62 116.5,-296.62 116.5,-302.62 110.5,-308.62 104.5,-308.62\"/>\n",
       "<text text-anchor=\"start\" x=\"18.5\" y=\"-291.32\" font-family=\"Helvetica,sans-Serif\" font-size=\"14.00\">entropy = 0.0</text>\n",
       "<text text-anchor=\"start\" x=\"17.38\" y=\"-275.57\" font-family=\"Helvetica,sans-Serif\" font-size=\"14.00\">samples = 95</text>\n",
       "<text text-anchor=\"start\" x=\"8\" y=\"-259.82\" font-family=\"Helvetica,sans-Serif\" font-size=\"14.00\">value = [95, 0, 0]</text>\n",
       "<text text-anchor=\"start\" x=\"16.62\" y=\"-244.07\" font-family=\"Helvetica,sans-Serif\" font-size=\"14.00\">class = Adelie</text>\n",
       "</g>\n",
       "<!-- 3&#45;&gt;4 -->\n",
       "<g id=\"edge4\" class=\"edge\">\n",
       "<title>3&#45;&gt;4</title>\n",
       "<path fill=\"none\" stroke=\"black\" d=\"M151.48,-352.3C137.4,-340.49 122.13,-327.69 108.1,-315.93\"/>\n",
       "<polygon fill=\"black\" stroke=\"black\" points=\"110.62,-313.47 100.71,-309.73 106.12,-318.83 110.62,-313.47\"/>\n",
       "</g>\n",
       "<!-- 5 -->\n",
       "<g id=\"node6\" class=\"node\">\n",
       "<title>5</title>\n",
       "<path fill=\"#e68843\" stroke=\"black\" d=\"M282.25,-316.5C282.25,-316.5 146.25,-316.5 146.25,-316.5 140.25,-316.5 134.25,-310.5 134.25,-304.5 134.25,-304.5 134.25,-241.75 134.25,-241.75 134.25,-235.75 140.25,-229.75 146.25,-229.75 146.25,-229.75 282.25,-229.75 282.25,-229.75 288.25,-229.75 294.25,-235.75 294.25,-241.75 294.25,-241.75 294.25,-304.5 294.25,-304.5 294.25,-310.5 288.25,-316.5 282.25,-316.5\"/>\n",
       "<text text-anchor=\"start\" x=\"142.25\" y=\"-299.2\" font-family=\"Helvetica,sans-Serif\" font-size=\"14.00\">Body Mass (g) ≤ 3262.5</text>\n",
       "<text text-anchor=\"start\" x=\"167\" y=\"-283.45\" font-family=\"Helvetica,sans-Serif\" font-size=\"14.00\">entropy = 0.286</text>\n",
       "<text text-anchor=\"start\" x=\"173.38\" y=\"-267.7\" font-family=\"Helvetica,sans-Serif\" font-size=\"14.00\">samples = 20</text>\n",
       "<text text-anchor=\"start\" x=\"164\" y=\"-251.95\" font-family=\"Helvetica,sans-Serif\" font-size=\"14.00\">value = [19, 1, 0]</text>\n",
       "<text text-anchor=\"start\" x=\"172.62\" y=\"-236.2\" font-family=\"Helvetica,sans-Serif\" font-size=\"14.00\">class = Adelie</text>\n",
       "</g>\n",
       "<!-- 3&#45;&gt;5 -->\n",
       "<g id=\"edge5\" class=\"edge\">\n",
       "<title>3&#45;&gt;5</title>\n",
       "<path fill=\"none\" stroke=\"black\" d=\"M206.48,-352.3C207.26,-344.46 208.08,-336.17 208.89,-328.04\"/>\n",
       "<polygon fill=\"black\" stroke=\"black\" points=\"212.36,-328.52 209.87,-318.23 205.4,-327.83 212.36,-328.52\"/>\n",
       "</g>\n",
       "<!-- 6 -->\n",
       "<g id=\"node7\" class=\"node\">\n",
       "<title>6</title>\n",
       "<path fill=\"#39e581\" stroke=\"black\" d=\"M194.38,-185.88C194.38,-185.88 98.12,-185.88 98.12,-185.88 92.12,-185.88 86.12,-179.88 86.12,-173.88 86.12,-173.88 86.12,-126.88 86.12,-126.88 86.12,-120.88 92.12,-114.88 98.12,-114.88 98.12,-114.88 194.38,-114.88 194.38,-114.88 200.38,-114.88 206.38,-120.88 206.38,-126.88 206.38,-126.88 206.38,-173.88 206.38,-173.88 206.38,-179.88 200.38,-185.88 194.38,-185.88\"/>\n",
       "<text text-anchor=\"start\" x=\"106.5\" y=\"-168.57\" font-family=\"Helvetica,sans-Serif\" font-size=\"14.00\">entropy = 0.0</text>\n",
       "<text text-anchor=\"start\" x=\"109.12\" y=\"-152.82\" font-family=\"Helvetica,sans-Serif\" font-size=\"14.00\">samples = 1</text>\n",
       "<text text-anchor=\"start\" x=\"99.75\" y=\"-137.07\" font-family=\"Helvetica,sans-Serif\" font-size=\"14.00\">value = [0, 1, 0]</text>\n",
       "<text text-anchor=\"start\" x=\"94.12\" y=\"-121.33\" font-family=\"Helvetica,sans-Serif\" font-size=\"14.00\">class = Chinstrap</text>\n",
       "</g>\n",
       "<!-- 5&#45;&gt;6 -->\n",
       "<g id=\"edge6\" class=\"edge\">\n",
       "<title>5&#45;&gt;6</title>\n",
       "<path fill=\"none\" stroke=\"black\" d=\"M190.28,-229.55C184.13,-218.64 177.5,-206.87 171.3,-195.86\"/>\n",
       "<polygon fill=\"black\" stroke=\"black\" points=\"174.45,-194.32 166.49,-187.32 168.35,-197.75 174.45,-194.32\"/>\n",
       "</g>\n",
       "<!-- 7 -->\n",
       "<g id=\"node8\" class=\"node\">\n",
       "<title>7</title>\n",
       "<path fill=\"#e58139\" stroke=\"black\" d=\"M328.5,-185.88C328.5,-185.88 236,-185.88 236,-185.88 230,-185.88 224,-179.88 224,-173.88 224,-173.88 224,-126.88 224,-126.88 224,-120.88 230,-114.88 236,-114.88 236,-114.88 328.5,-114.88 328.5,-114.88 334.5,-114.88 340.5,-120.88 340.5,-126.88 340.5,-126.88 340.5,-173.88 340.5,-173.88 340.5,-179.88 334.5,-185.88 328.5,-185.88\"/>\n",
       "<text text-anchor=\"start\" x=\"242.5\" y=\"-168.57\" font-family=\"Helvetica,sans-Serif\" font-size=\"14.00\">entropy = 0.0</text>\n",
       "<text text-anchor=\"start\" x=\"241.38\" y=\"-152.82\" font-family=\"Helvetica,sans-Serif\" font-size=\"14.00\">samples = 19</text>\n",
       "<text text-anchor=\"start\" x=\"232\" y=\"-137.07\" font-family=\"Helvetica,sans-Serif\" font-size=\"14.00\">value = [19, 0, 0]</text>\n",
       "<text text-anchor=\"start\" x=\"240.62\" y=\"-121.33\" font-family=\"Helvetica,sans-Serif\" font-size=\"14.00\">class = Adelie</text>\n",
       "</g>\n",
       "<!-- 5&#45;&gt;7 -->\n",
       "<g id=\"edge7\" class=\"edge\">\n",
       "<title>5&#45;&gt;7</title>\n",
       "<path fill=\"none\" stroke=\"black\" d=\"M238.22,-229.55C244.37,-218.64 251,-206.87 257.2,-195.86\"/>\n",
       "<polygon fill=\"black\" stroke=\"black\" points=\"260.15,-197.75 262.01,-187.32 254.05,-194.32 260.15,-197.75\"/>\n",
       "</g>\n",
       "<!-- 9 -->\n",
       "<g id=\"node10\" class=\"node\">\n",
       "<title>9</title>\n",
       "<path fill=\"#39e581\" stroke=\"black\" d=\"M443.38,-308.62C443.38,-308.62 347.12,-308.62 347.12,-308.62 341.12,-308.62 335.12,-302.62 335.12,-296.62 335.12,-296.62 335.12,-249.62 335.12,-249.62 335.12,-243.62 341.12,-237.62 347.12,-237.62 347.12,-237.62 443.38,-237.62 443.38,-237.62 449.38,-237.62 455.38,-243.62 455.38,-249.62 455.38,-249.62 455.38,-296.62 455.38,-296.62 455.38,-302.62 449.38,-308.62 443.38,-308.62\"/>\n",
       "<text text-anchor=\"start\" x=\"355.5\" y=\"-291.32\" font-family=\"Helvetica,sans-Serif\" font-size=\"14.00\">entropy = 0.0</text>\n",
       "<text text-anchor=\"start\" x=\"358.12\" y=\"-275.57\" font-family=\"Helvetica,sans-Serif\" font-size=\"14.00\">samples = 3</text>\n",
       "<text text-anchor=\"start\" x=\"348.75\" y=\"-259.82\" font-family=\"Helvetica,sans-Serif\" font-size=\"14.00\">value = [0, 3, 0]</text>\n",
       "<text text-anchor=\"start\" x=\"343.12\" y=\"-244.07\" font-family=\"Helvetica,sans-Serif\" font-size=\"14.00\">class = Chinstrap</text>\n",
       "</g>\n",
       "<!-- 8&#45;&gt;9 -->\n",
       "<g id=\"edge9\" class=\"edge\">\n",
       "<title>8&#45;&gt;9</title>\n",
       "<path fill=\"none\" stroke=\"black\" d=\"M403.02,-352.3C401.98,-341.83 400.86,-330.58 399.8,-319.96\"/>\n",
       "<polygon fill=\"black\" stroke=\"black\" points=\"403.31,-319.86 398.84,-310.26 396.35,-320.56 403.31,-319.86\"/>\n",
       "</g>\n",
       "<!-- 10 -->\n",
       "<g id=\"node11\" class=\"node\">\n",
       "<title>10</title>\n",
       "<path fill=\"#e58139\" stroke=\"black\" d=\"M570.75,-308.62C570.75,-308.62 485.75,-308.62 485.75,-308.62 479.75,-308.62 473.75,-302.62 473.75,-296.62 473.75,-296.62 473.75,-249.62 473.75,-249.62 473.75,-243.62 479.75,-237.62 485.75,-237.62 485.75,-237.62 570.75,-237.62 570.75,-237.62 576.75,-237.62 582.75,-243.62 582.75,-249.62 582.75,-249.62 582.75,-296.62 582.75,-296.62 582.75,-302.62 576.75,-308.62 570.75,-308.62\"/>\n",
       "<text text-anchor=\"start\" x=\"488.5\" y=\"-291.32\" font-family=\"Helvetica,sans-Serif\" font-size=\"14.00\">entropy = 0.0</text>\n",
       "<text text-anchor=\"start\" x=\"491.12\" y=\"-275.57\" font-family=\"Helvetica,sans-Serif\" font-size=\"14.00\">samples = 6</text>\n",
       "<text text-anchor=\"start\" x=\"481.75\" y=\"-259.82\" font-family=\"Helvetica,sans-Serif\" font-size=\"14.00\">value = [6, 0, 0]</text>\n",
       "<text text-anchor=\"start\" x=\"486.62\" y=\"-244.07\" font-family=\"Helvetica,sans-Serif\" font-size=\"14.00\">class = Adelie</text>\n",
       "</g>\n",
       "<!-- 8&#45;&gt;10 -->\n",
       "<g id=\"edge10\" class=\"edge\">\n",
       "<title>8&#45;&gt;10</title>\n",
       "<path fill=\"none\" stroke=\"black\" d=\"M449.91,-352.3C461.52,-340.72 474.09,-328.17 485.69,-316.59\"/>\n",
       "<polygon fill=\"black\" stroke=\"black\" points=\"487.87,-319.36 492.48,-309.82 482.93,-314.41 487.87,-319.36\"/>\n",
       "</g>\n",
       "<!-- 12 -->\n",
       "<g id=\"node13\" class=\"node\">\n",
       "<title>12</title>\n",
       "<path fill=\"#39e581\" stroke=\"black\" d=\"M627.38,-431.38C627.38,-431.38 531.12,-431.38 531.12,-431.38 525.12,-431.38 519.12,-425.38 519.12,-419.38 519.12,-419.38 519.12,-372.38 519.12,-372.38 519.12,-366.38 525.12,-360.38 531.12,-360.38 531.12,-360.38 627.38,-360.38 627.38,-360.38 633.38,-360.38 639.38,-366.38 639.38,-372.38 639.38,-372.38 639.38,-419.38 639.38,-419.38 639.38,-425.38 633.38,-431.38 627.38,-431.38\"/>\n",
       "<text text-anchor=\"start\" x=\"539.5\" y=\"-414.07\" font-family=\"Helvetica,sans-Serif\" font-size=\"14.00\">entropy = 0.0</text>\n",
       "<text text-anchor=\"start\" x=\"538.38\" y=\"-398.32\" font-family=\"Helvetica,sans-Serif\" font-size=\"14.00\">samples = 46</text>\n",
       "<text text-anchor=\"start\" x=\"529\" y=\"-382.57\" font-family=\"Helvetica,sans-Serif\" font-size=\"14.00\">value = [0, 46, 0]</text>\n",
       "<text text-anchor=\"start\" x=\"527.12\" y=\"-366.82\" font-family=\"Helvetica,sans-Serif\" font-size=\"14.00\">class = Chinstrap</text>\n",
       "</g>\n",
       "<!-- 11&#45;&gt;12 -->\n",
       "<g id=\"edge12\" class=\"edge\">\n",
       "<title>11&#45;&gt;12</title>\n",
       "<path fill=\"none\" stroke=\"black\" d=\"M633.63,-475.05C625.89,-463.91 617.52,-451.89 609.72,-440.68\"/>\n",
       "<polygon fill=\"black\" stroke=\"black\" points=\"612.79,-438.96 604.2,-432.75 607.04,-442.95 612.79,-438.96\"/>\n",
       "</g>\n",
       "<!-- 13 -->\n",
       "<g id=\"node14\" class=\"node\">\n",
       "<title>13</title>\n",
       "<path fill=\"#aaf4c9\" stroke=\"black\" d=\"M831.38,-439.25C831.38,-439.25 669.12,-439.25 669.12,-439.25 663.12,-439.25 657.12,-433.25 657.12,-427.25 657.12,-427.25 657.12,-364.5 657.12,-364.5 657.12,-358.5 663.12,-352.5 669.12,-352.5 669.12,-352.5 831.38,-352.5 831.38,-352.5 837.38,-352.5 843.38,-358.5 843.38,-364.5 843.38,-364.5 843.38,-427.25 843.38,-427.25 843.38,-433.25 837.38,-439.25 831.38,-439.25\"/>\n",
       "<text text-anchor=\"start\" x=\"665.12\" y=\"-421.95\" font-family=\"Helvetica,sans-Serif\" font-size=\"14.00\">Culmen Length (mm) ≤ 48.8</text>\n",
       "<text text-anchor=\"start\" x=\"703\" y=\"-406.2\" font-family=\"Helvetica,sans-Serif\" font-size=\"14.00\">entropy = 1.295</text>\n",
       "<text text-anchor=\"start\" x=\"709.38\" y=\"-390.45\" font-family=\"Helvetica,sans-Serif\" font-size=\"14.00\">samples = 10</text>\n",
       "<text text-anchor=\"start\" x=\"703.75\" y=\"-374.7\" font-family=\"Helvetica,sans-Serif\" font-size=\"14.00\">value = [3, 6, 1]</text>\n",
       "<text text-anchor=\"start\" x=\"698.12\" y=\"-358.95\" font-family=\"Helvetica,sans-Serif\" font-size=\"14.00\">class = Chinstrap</text>\n",
       "</g>\n",
       "<!-- 11&#45;&gt;13 -->\n",
       "<g id=\"edge13\" class=\"edge\">\n",
       "<title>11&#45;&gt;13</title>\n",
       "<path fill=\"none\" stroke=\"black\" d=\"M693.92,-475.05C700.1,-466.49 706.65,-457.39 713.01,-448.56\"/>\n",
       "<polygon fill=\"black\" stroke=\"black\" points=\"715.67,-450.86 718.68,-440.7 709.99,-446.76 715.67,-450.86\"/>\n",
       "</g>\n",
       "<!-- 14 -->\n",
       "<g id=\"node15\" class=\"node\">\n",
       "<title>14</title>\n",
       "<path fill=\"#f2c09c\" stroke=\"black\" d=\"M752.25,-316.5C752.25,-316.5 658.25,-316.5 658.25,-316.5 652.25,-316.5 646.25,-310.5 646.25,-304.5 646.25,-304.5 646.25,-241.75 646.25,-241.75 646.25,-235.75 652.25,-229.75 658.25,-229.75 658.25,-229.75 752.25,-229.75 752.25,-229.75 758.25,-229.75 764.25,-235.75 764.25,-241.75 764.25,-241.75 764.25,-304.5 764.25,-304.5 764.25,-310.5 758.25,-316.5 752.25,-316.5\"/>\n",
       "<text text-anchor=\"start\" x=\"654.25\" y=\"-299.2\" font-family=\"Helvetica,sans-Serif\" font-size=\"14.00\">Sex_MALE ≤ 0.5</text>\n",
       "<text text-anchor=\"start\" x=\"658\" y=\"-283.45\" font-family=\"Helvetica,sans-Serif\" font-size=\"14.00\">entropy = 1.371</text>\n",
       "<text text-anchor=\"start\" x=\"668.12\" y=\"-267.7\" font-family=\"Helvetica,sans-Serif\" font-size=\"14.00\">samples = 5</text>\n",
       "<text text-anchor=\"start\" x=\"658.75\" y=\"-251.95\" font-family=\"Helvetica,sans-Serif\" font-size=\"14.00\">value = [3, 1, 1]</text>\n",
       "<text text-anchor=\"start\" x=\"663.62\" y=\"-236.2\" font-family=\"Helvetica,sans-Serif\" font-size=\"14.00\">class = Adelie</text>\n",
       "</g>\n",
       "<!-- 13&#45;&gt;14 -->\n",
       "<g id=\"edge14\" class=\"edge\">\n",
       "<title>13&#45;&gt;14</title>\n",
       "<path fill=\"none\" stroke=\"black\" d=\"M734.38,-352.3C731.39,-344.28 728.23,-335.79 725.13,-327.48\"/>\n",
       "<polygon fill=\"black\" stroke=\"black\" points=\"728.42,-326.29 721.65,-318.14 721.86,-328.73 728.42,-326.29\"/>\n",
       "</g>\n",
       "<!-- 19 -->\n",
       "<g id=\"node20\" class=\"node\">\n",
       "<title>19</title>\n",
       "<path fill=\"#39e581\" stroke=\"black\" d=\"M890.38,-308.62C890.38,-308.62 794.12,-308.62 794.12,-308.62 788.12,-308.62 782.12,-302.62 782.12,-296.62 782.12,-296.62 782.12,-249.62 782.12,-249.62 782.12,-243.62 788.12,-237.62 794.12,-237.62 794.12,-237.62 890.38,-237.62 890.38,-237.62 896.38,-237.62 902.38,-243.62 902.38,-249.62 902.38,-249.62 902.38,-296.62 902.38,-296.62 902.38,-302.62 896.38,-308.62 890.38,-308.62\"/>\n",
       "<text text-anchor=\"start\" x=\"802.5\" y=\"-291.32\" font-family=\"Helvetica,sans-Serif\" font-size=\"14.00\">entropy = 0.0</text>\n",
       "<text text-anchor=\"start\" x=\"805.12\" y=\"-275.57\" font-family=\"Helvetica,sans-Serif\" font-size=\"14.00\">samples = 5</text>\n",
       "<text text-anchor=\"start\" x=\"795.75\" y=\"-259.82\" font-family=\"Helvetica,sans-Serif\" font-size=\"14.00\">value = [0, 5, 0]</text>\n",
       "<text text-anchor=\"start\" x=\"790.12\" y=\"-244.07\" font-family=\"Helvetica,sans-Serif\" font-size=\"14.00\">class = Chinstrap</text>\n",
       "</g>\n",
       "<!-- 13&#45;&gt;19 -->\n",
       "<g id=\"edge19\" class=\"edge\">\n",
       "<title>13&#45;&gt;19</title>\n",
       "<path fill=\"none\" stroke=\"black\" d=\"M782.69,-352.3C791.26,-341.05 800.52,-328.89 809.13,-317.6\"/>\n",
       "<polygon fill=\"black\" stroke=\"black\" points=\"811.67,-320.03 814.95,-309.96 806.1,-315.79 811.67,-320.03\"/>\n",
       "</g>\n",
       "<!-- 15 -->\n",
       "<g id=\"node16\" class=\"node\">\n",
       "<title>15</title>\n",
       "<path fill=\"#ffffff\" stroke=\"black\" d=\"M696.25,-193.75C696.25,-193.75 560.25,-193.75 560.25,-193.75 554.25,-193.75 548.25,-187.75 548.25,-181.75 548.25,-181.75 548.25,-119 548.25,-119 548.25,-113 554.25,-107 560.25,-107 560.25,-107 696.25,-107 696.25,-107 702.25,-107 708.25,-113 708.25,-119 708.25,-119 708.25,-181.75 708.25,-181.75 708.25,-187.75 702.25,-193.75 696.25,-193.75\"/>\n",
       "<text text-anchor=\"start\" x=\"556.25\" y=\"-176.45\" font-family=\"Helvetica,sans-Serif\" font-size=\"14.00\">Body Mass (g) ≤ 4387.5</text>\n",
       "<text text-anchor=\"start\" x=\"588.5\" y=\"-160.7\" font-family=\"Helvetica,sans-Serif\" font-size=\"14.00\">entropy = 1.0</text>\n",
       "<text text-anchor=\"start\" x=\"591.12\" y=\"-144.95\" font-family=\"Helvetica,sans-Serif\" font-size=\"14.00\">samples = 2</text>\n",
       "<text text-anchor=\"start\" x=\"581.75\" y=\"-129.2\" font-family=\"Helvetica,sans-Serif\" font-size=\"14.00\">value = [0, 1, 1]</text>\n",
       "<text text-anchor=\"start\" x=\"576.12\" y=\"-113.45\" font-family=\"Helvetica,sans-Serif\" font-size=\"14.00\">class = Chinstrap</text>\n",
       "</g>\n",
       "<!-- 14&#45;&gt;15 -->\n",
       "<g id=\"edge15\" class=\"edge\">\n",
       "<title>14&#45;&gt;15</title>\n",
       "<path fill=\"none\" stroke=\"black\" d=\"M678.1,-229.55C672.75,-221.17 667.09,-212.28 661.56,-203.61\"/>\n",
       "<polygon fill=\"black\" stroke=\"black\" points=\"664.55,-201.8 656.23,-195.25 658.65,-205.56 664.55,-201.8\"/>\n",
       "</g>\n",
       "<!-- 18 -->\n",
       "<g id=\"node19\" class=\"node\">\n",
       "<title>18</title>\n",
       "<path fill=\"#e58139\" stroke=\"black\" d=\"M823.75,-185.88C823.75,-185.88 738.75,-185.88 738.75,-185.88 732.75,-185.88 726.75,-179.88 726.75,-173.88 726.75,-173.88 726.75,-126.88 726.75,-126.88 726.75,-120.88 732.75,-114.88 738.75,-114.88 738.75,-114.88 823.75,-114.88 823.75,-114.88 829.75,-114.88 835.75,-120.88 835.75,-126.88 835.75,-126.88 835.75,-173.88 835.75,-173.88 835.75,-179.88 829.75,-185.88 823.75,-185.88\"/>\n",
       "<text text-anchor=\"start\" x=\"741.5\" y=\"-168.57\" font-family=\"Helvetica,sans-Serif\" font-size=\"14.00\">entropy = 0.0</text>\n",
       "<text text-anchor=\"start\" x=\"744.12\" y=\"-152.82\" font-family=\"Helvetica,sans-Serif\" font-size=\"14.00\">samples = 3</text>\n",
       "<text text-anchor=\"start\" x=\"734.75\" y=\"-137.07\" font-family=\"Helvetica,sans-Serif\" font-size=\"14.00\">value = [3, 0, 0]</text>\n",
       "<text text-anchor=\"start\" x=\"739.62\" y=\"-121.33\" font-family=\"Helvetica,sans-Serif\" font-size=\"14.00\">class = Adelie</text>\n",
       "</g>\n",
       "<!-- 14&#45;&gt;18 -->\n",
       "<g id=\"edge18\" class=\"edge\">\n",
       "<title>14&#45;&gt;18</title>\n",
       "<path fill=\"none\" stroke=\"black\" d=\"M732.04,-229.55C738.99,-218.52 746.48,-206.63 753.47,-195.52\"/>\n",
       "<polygon fill=\"black\" stroke=\"black\" points=\"756.28,-197.61 758.65,-187.28 750.36,-193.88 756.28,-197.61\"/>\n",
       "</g>\n",
       "<!-- 16 -->\n",
       "<g id=\"node17\" class=\"node\">\n",
       "<title>16</title>\n",
       "<path fill=\"#39e581\" stroke=\"black\" d=\"M609.38,-71C609.38,-71 513.12,-71 513.12,-71 507.12,-71 501.12,-65 501.12,-59 501.12,-59 501.12,-12 501.12,-12 501.12,-6 507.12,0 513.12,0 513.12,0 609.38,0 609.38,0 615.38,0 621.38,-6 621.38,-12 621.38,-12 621.38,-59 621.38,-59 621.38,-65 615.38,-71 609.38,-71\"/>\n",
       "<text text-anchor=\"start\" x=\"521.5\" y=\"-53.7\" font-family=\"Helvetica,sans-Serif\" font-size=\"14.00\">entropy = 0.0</text>\n",
       "<text text-anchor=\"start\" x=\"524.12\" y=\"-37.95\" font-family=\"Helvetica,sans-Serif\" font-size=\"14.00\">samples = 1</text>\n",
       "<text text-anchor=\"start\" x=\"514.75\" y=\"-22.2\" font-family=\"Helvetica,sans-Serif\" font-size=\"14.00\">value = [0, 1, 0]</text>\n",
       "<text text-anchor=\"start\" x=\"509.12\" y=\"-6.45\" font-family=\"Helvetica,sans-Serif\" font-size=\"14.00\">class = Chinstrap</text>\n",
       "</g>\n",
       "<!-- 15&#45;&gt;16 -->\n",
       "<g id=\"edge16\" class=\"edge\">\n",
       "<title>15&#45;&gt;16</title>\n",
       "<path fill=\"none\" stroke=\"black\" d=\"M602.92,-106.7C597.91,-98.27 592.65,-89.39 587.61,-80.9\"/>\n",
       "<polygon fill=\"black\" stroke=\"black\" points=\"590.71,-79.27 582.59,-72.46 584.69,-82.84 590.71,-79.27\"/>\n",
       "</g>\n",
       "<!-- 17 -->\n",
       "<g id=\"node18\" class=\"node\">\n",
       "<title>17</title>\n",
       "<path fill=\"#8139e5\" stroke=\"black\" d=\"M736.75,-71C736.75,-71 651.75,-71 651.75,-71 645.75,-71 639.75,-65 639.75,-59 639.75,-59 639.75,-12 639.75,-12 639.75,-6 645.75,0 651.75,0 651.75,0 736.75,0 736.75,0 742.75,0 748.75,-6 748.75,-12 748.75,-12 748.75,-59 748.75,-59 748.75,-65 742.75,-71 736.75,-71\"/>\n",
       "<text text-anchor=\"start\" x=\"654.5\" y=\"-53.7\" font-family=\"Helvetica,sans-Serif\" font-size=\"14.00\">entropy = 0.0</text>\n",
       "<text text-anchor=\"start\" x=\"657.12\" y=\"-37.95\" font-family=\"Helvetica,sans-Serif\" font-size=\"14.00\">samples = 1</text>\n",
       "<text text-anchor=\"start\" x=\"647.75\" y=\"-22.2\" font-family=\"Helvetica,sans-Serif\" font-size=\"14.00\">value = [0, 0, 1]</text>\n",
       "<text text-anchor=\"start\" x=\"648.5\" y=\"-6.45\" font-family=\"Helvetica,sans-Serif\" font-size=\"14.00\">class = Gentoo</text>\n",
       "</g>\n",
       "<!-- 15&#45;&gt;17 -->\n",
       "<g id=\"edge17\" class=\"edge\">\n",
       "<title>15&#45;&gt;17</title>\n",
       "<path fill=\"none\" stroke=\"black\" d=\"M653.2,-106.7C658.13,-98.27 663.32,-89.39 668.29,-80.9\"/>\n",
       "<polygon fill=\"black\" stroke=\"black\" points=\"671.19,-82.86 673.22,-72.46 665.15,-79.33 671.19,-82.86\"/>\n",
       "</g>\n",
       "<!-- 21 -->\n",
       "<g id=\"node22\" class=\"node\">\n",
       "<title>21</title>\n",
       "<path fill=\"#d5bdf6\" stroke=\"black\" d=\"M963.25,-562C963.25,-562 869.25,-562 869.25,-562 863.25,-562 857.25,-556 857.25,-550 857.25,-550 857.25,-487.25 857.25,-487.25 857.25,-481.25 863.25,-475.25 869.25,-475.25 869.25,-475.25 963.25,-475.25 963.25,-475.25 969.25,-475.25 975.25,-481.25 975.25,-487.25 975.25,-487.25 975.25,-550 975.25,-550 975.25,-556 969.25,-562 963.25,-562\"/>\n",
       "<text text-anchor=\"start\" x=\"865.25\" y=\"-544.7\" font-family=\"Helvetica,sans-Serif\" font-size=\"14.00\">Sex_MALE ≤ 0.5</text>\n",
       "<text text-anchor=\"start\" x=\"872.75\" y=\"-528.95\" font-family=\"Helvetica,sans-Serif\" font-size=\"14.00\">entropy = 1.42</text>\n",
       "<text text-anchor=\"start\" x=\"875.38\" y=\"-513.2\" font-family=\"Helvetica,sans-Serif\" font-size=\"14.00\">samples = 13</text>\n",
       "<text text-anchor=\"start\" x=\"869.75\" y=\"-497.45\" font-family=\"Helvetica,sans-Serif\" font-size=\"14.00\">value = [2, 4, 7]</text>\n",
       "<text text-anchor=\"start\" x=\"870.5\" y=\"-481.7\" font-family=\"Helvetica,sans-Serif\" font-size=\"14.00\">class = Gentoo</text>\n",
       "</g>\n",
       "<!-- 20&#45;&gt;21 -->\n",
       "<g id=\"edge21\" class=\"edge\">\n",
       "<title>20&#45;&gt;21</title>\n",
       "<path fill=\"none\" stroke=\"black\" d=\"M916.25,-597.8C916.25,-589.96 916.25,-581.67 916.25,-573.54\"/>\n",
       "<polygon fill=\"black\" stroke=\"black\" points=\"919.75,-573.73 916.25,-563.73 912.75,-573.73 919.75,-573.73\"/>\n",
       "</g>\n",
       "<!-- 26 -->\n",
       "<g id=\"node27\" class=\"node\">\n",
       "<title>26</title>\n",
       "<path fill=\"#8139e5\" stroke=\"black\" d=\"M1097.5,-554.12C1097.5,-554.12 1005,-554.12 1005,-554.12 999,-554.12 993,-548.12 993,-542.12 993,-542.12 993,-495.12 993,-495.12 993,-489.12 999,-483.12 1005,-483.12 1005,-483.12 1097.5,-483.12 1097.5,-483.12 1103.5,-483.12 1109.5,-489.12 1109.5,-495.12 1109.5,-495.12 1109.5,-542.12 1109.5,-542.12 1109.5,-548.12 1103.5,-554.12 1097.5,-554.12\"/>\n",
       "<text text-anchor=\"start\" x=\"1011.5\" y=\"-536.83\" font-family=\"Helvetica,sans-Serif\" font-size=\"14.00\">entropy = 0.0</text>\n",
       "<text text-anchor=\"start\" x=\"1010.38\" y=\"-521.08\" font-family=\"Helvetica,sans-Serif\" font-size=\"14.00\">samples = 99</text>\n",
       "<text text-anchor=\"start\" x=\"1001\" y=\"-505.32\" font-family=\"Helvetica,sans-Serif\" font-size=\"14.00\">value = [0, 0, 99]</text>\n",
       "<text text-anchor=\"start\" x=\"1005.5\" y=\"-489.57\" font-family=\"Helvetica,sans-Serif\" font-size=\"14.00\">class = Gentoo</text>\n",
       "</g>\n",
       "<!-- 20&#45;&gt;26 -->\n",
       "<g id=\"edge26\" class=\"edge\">\n",
       "<title>20&#45;&gt;26</title>\n",
       "<path fill=\"none\" stroke=\"black\" d=\"M963.85,-597.8C976.92,-586.11 991.09,-573.43 1004.14,-561.76\"/>\n",
       "<polygon fill=\"black\" stroke=\"black\" points=\"1006.29,-564.54 1011.41,-555.26 1001.62,-559.32 1006.29,-564.54\"/>\n",
       "</g>\n",
       "<!-- 22 -->\n",
       "<g id=\"node23\" class=\"node\">\n",
       "<title>22</title>\n",
       "<path fill=\"#8139e5\" stroke=\"black\" d=\"M958.75,-431.38C958.75,-431.38 873.75,-431.38 873.75,-431.38 867.75,-431.38 861.75,-425.38 861.75,-419.38 861.75,-419.38 861.75,-372.38 861.75,-372.38 861.75,-366.38 867.75,-360.38 873.75,-360.38 873.75,-360.38 958.75,-360.38 958.75,-360.38 964.75,-360.38 970.75,-366.38 970.75,-372.38 970.75,-372.38 970.75,-419.38 970.75,-419.38 970.75,-425.38 964.75,-431.38 958.75,-431.38\"/>\n",
       "<text text-anchor=\"start\" x=\"876.5\" y=\"-414.07\" font-family=\"Helvetica,sans-Serif\" font-size=\"14.00\">entropy = 0.0</text>\n",
       "<text text-anchor=\"start\" x=\"879.12\" y=\"-398.32\" font-family=\"Helvetica,sans-Serif\" font-size=\"14.00\">samples = 7</text>\n",
       "<text text-anchor=\"start\" x=\"869.75\" y=\"-382.57\" font-family=\"Helvetica,sans-Serif\" font-size=\"14.00\">value = [0, 0, 7]</text>\n",
       "<text text-anchor=\"start\" x=\"870.5\" y=\"-366.82\" font-family=\"Helvetica,sans-Serif\" font-size=\"14.00\">class = Gentoo</text>\n",
       "</g>\n",
       "<!-- 21&#45;&gt;22 -->\n",
       "<g id=\"edge22\" class=\"edge\">\n",
       "<title>21&#45;&gt;22</title>\n",
       "<path fill=\"none\" stroke=\"black\" d=\"M916.25,-475.05C916.25,-464.58 916.25,-453.33 916.25,-442.71\"/>\n",
       "<polygon fill=\"black\" stroke=\"black\" points=\"919.75,-443.02 916.25,-433.02 912.75,-443.02 919.75,-443.02\"/>\n",
       "</g>\n",
       "<!-- 23 -->\n",
       "<g id=\"node24\" class=\"node\">\n",
       "<title>23</title>\n",
       "<path fill=\"#9cf2c0\" stroke=\"black\" d=\"M1170.12,-439.25C1170.12,-439.25 1000.38,-439.25 1000.38,-439.25 994.38,-439.25 988.38,-433.25 988.38,-427.25 988.38,-427.25 988.38,-364.5 988.38,-364.5 988.38,-358.5 994.38,-352.5 1000.38,-352.5 1000.38,-352.5 1170.12,-352.5 1170.12,-352.5 1176.12,-352.5 1182.12,-358.5 1182.12,-364.5 1182.12,-364.5 1182.12,-427.25 1182.12,-427.25 1182.12,-433.25 1176.12,-439.25 1170.12,-439.25\"/>\n",
       "<text text-anchor=\"start\" x=\"996.38\" y=\"-421.95\" font-family=\"Helvetica,sans-Serif\" font-size=\"14.00\">Culmen Length (mm) ≤ 46.55</text>\n",
       "<text text-anchor=\"start\" x=\"1038\" y=\"-406.2\" font-family=\"Helvetica,sans-Serif\" font-size=\"14.00\">entropy = 0.918</text>\n",
       "<text text-anchor=\"start\" x=\"1048.12\" y=\"-390.45\" font-family=\"Helvetica,sans-Serif\" font-size=\"14.00\">samples = 6</text>\n",
       "<text text-anchor=\"start\" x=\"1038.75\" y=\"-374.7\" font-family=\"Helvetica,sans-Serif\" font-size=\"14.00\">value = [2, 4, 0]</text>\n",
       "<text text-anchor=\"start\" x=\"1033.12\" y=\"-358.95\" font-family=\"Helvetica,sans-Serif\" font-size=\"14.00\">class = Chinstrap</text>\n",
       "</g>\n",
       "<!-- 21&#45;&gt;23 -->\n",
       "<g id=\"edge23\" class=\"edge\">\n",
       "<title>21&#45;&gt;23</title>\n",
       "<path fill=\"none\" stroke=\"black\" d=\"M975.36,-475.39C988.51,-466 1002.56,-455.96 1016.07,-446.31\"/>\n",
       "<polygon fill=\"black\" stroke=\"black\" points=\"1017.98,-449.24 1024.09,-440.58 1013.91,-443.54 1017.98,-449.24\"/>\n",
       "</g>\n",
       "<!-- 24 -->\n",
       "<g id=\"node25\" class=\"node\">\n",
       "<title>24</title>\n",
       "<path fill=\"#e58139\" stroke=\"black\" d=\"M1049.75,-308.62C1049.75,-308.62 964.75,-308.62 964.75,-308.62 958.75,-308.62 952.75,-302.62 952.75,-296.62 952.75,-296.62 952.75,-249.62 952.75,-249.62 952.75,-243.62 958.75,-237.62 964.75,-237.62 964.75,-237.62 1049.75,-237.62 1049.75,-237.62 1055.75,-237.62 1061.75,-243.62 1061.75,-249.62 1061.75,-249.62 1061.75,-296.62 1061.75,-296.62 1061.75,-302.62 1055.75,-308.62 1049.75,-308.62\"/>\n",
       "<text text-anchor=\"start\" x=\"967.5\" y=\"-291.32\" font-family=\"Helvetica,sans-Serif\" font-size=\"14.00\">entropy = 0.0</text>\n",
       "<text text-anchor=\"start\" x=\"970.12\" y=\"-275.57\" font-family=\"Helvetica,sans-Serif\" font-size=\"14.00\">samples = 2</text>\n",
       "<text text-anchor=\"start\" x=\"960.75\" y=\"-259.82\" font-family=\"Helvetica,sans-Serif\" font-size=\"14.00\">value = [2, 0, 0]</text>\n",
       "<text text-anchor=\"start\" x=\"965.62\" y=\"-244.07\" font-family=\"Helvetica,sans-Serif\" font-size=\"14.00\">class = Adelie</text>\n",
       "</g>\n",
       "<!-- 23&#45;&gt;24 -->\n",
       "<g id=\"edge24\" class=\"edge\">\n",
       "<title>23&#45;&gt;24</title>\n",
       "<path fill=\"none\" stroke=\"black\" d=\"M1057.75,-352.3C1050.63,-341.27 1042.94,-329.38 1035.77,-318.27\"/>\n",
       "<polygon fill=\"black\" stroke=\"black\" points=\"1038.81,-316.53 1030.44,-310.02 1032.93,-320.32 1038.81,-316.53\"/>\n",
       "</g>\n",
       "<!-- 25 -->\n",
       "<g id=\"node26\" class=\"node\">\n",
       "<title>25</title>\n",
       "<path fill=\"#39e581\" stroke=\"black\" d=\"M1188.38,-308.62C1188.38,-308.62 1092.12,-308.62 1092.12,-308.62 1086.12,-308.62 1080.12,-302.62 1080.12,-296.62 1080.12,-296.62 1080.12,-249.62 1080.12,-249.62 1080.12,-243.62 1086.12,-237.62 1092.12,-237.62 1092.12,-237.62 1188.38,-237.62 1188.38,-237.62 1194.38,-237.62 1200.38,-243.62 1200.38,-249.62 1200.38,-249.62 1200.38,-296.62 1200.38,-296.62 1200.38,-302.62 1194.38,-308.62 1188.38,-308.62\"/>\n",
       "<text text-anchor=\"start\" x=\"1100.5\" y=\"-291.32\" font-family=\"Helvetica,sans-Serif\" font-size=\"14.00\">entropy = 0.0</text>\n",
       "<text text-anchor=\"start\" x=\"1103.12\" y=\"-275.57\" font-family=\"Helvetica,sans-Serif\" font-size=\"14.00\">samples = 4</text>\n",
       "<text text-anchor=\"start\" x=\"1093.75\" y=\"-259.82\" font-family=\"Helvetica,sans-Serif\" font-size=\"14.00\">value = [0, 4, 0]</text>\n",
       "<text text-anchor=\"start\" x=\"1088.12\" y=\"-244.07\" font-family=\"Helvetica,sans-Serif\" font-size=\"14.00\">class = Chinstrap</text>\n",
       "</g>\n",
       "<!-- 23&#45;&gt;25 -->\n",
       "<g id=\"edge25\" class=\"edge\">\n",
       "<title>23&#45;&gt;25</title>\n",
       "<path fill=\"none\" stroke=\"black\" d=\"M1104.64,-352.3C1109.56,-341.5 1114.87,-329.86 1119.84,-318.94\"/>\n",
       "<polygon fill=\"black\" stroke=\"black\" points=\"1122.89,-320.68 1123.85,-310.13 1116.52,-317.78 1122.89,-320.68\"/>\n",
       "</g>\n",
       "</g>\n",
       "</svg>\n"
      ],
      "text/plain": [
       "<graphviz.sources.Source at 0x2cabd255e00>"
      ]
     },
     "metadata": {},
     "output_type": "display_data"
    },
    {
     "name": "stdout",
     "output_type": "stream",
     "text": [
      "✓ Decision Tree saved for split 90:10 → output/split_ratios_graphviz\\tree_90_10.png\n"
     ]
    }
   ],
   "source": [
    "class_name = [\"Adelie\", \"Chinstrap\", \"Gentoo\"]\n",
    "export_and_display_decision_trees(list_models, split_ratios, features_name, class_name)"
   ]
  },
  {
   "cell_type": "markdown",
   "metadata": {},
   "source": [
    "# **4. Evaluating the decision tree classifiers**\n",
    "\n",
    "## **4.1 Visualize confusion matrix and classification report**\n"
   ]
  },
  {
   "cell_type": "code",
   "execution_count": 100,
   "metadata": {},
   "outputs": [],
   "source": [
    "import os\n",
    "\n",
    "def evaluate_and_visualize_models(models, datasets, split_ratios, save_dir=\"output/report/split_ratios_ver\"):\n",
    "    \"\"\"\n",
    "    Đánh giá danh sách mô hình và trực quan hóa classification report + confusion matrix.\n",
    "    Lưu kết quả dưới dạng ảnh PNG, tránh lỗi khi mô hình chỉ dự đoán 1 class.\n",
    "\n",
    "    Args:\n",
    "        models (list): Các mô hình đã huấn luyện.\n",
    "        datasets (list): Danh sách dict chứa X_test, y_test,...\n",
    "        split_ratios (list): Danh sách các tỷ lệ chia train/test.\n",
    "        save_dir (str): Thư mục lưu ảnh đánh giá.\n",
    "    \"\"\"\n",
    "    os.makedirs(save_dir, exist_ok=True)\n",
    "\n",
    "    for model, data, (train_ratio, test_ratio) in zip(models, datasets, split_ratios):\n",
    "        X_test = data['X_test']\n",
    "        y_test = data['y_test']\n",
    "        y_pred = model.predict(X_test)\n",
    "\n",
    "        # Tạo classification report dưới dạng text + dict\n",
    "        report_text = classification_report(y_test, y_pred, digits=4, zero_division=1)\n",
    "        report_dict = classification_report(y_test, y_pred, digits=4, zero_division=1, output_dict=True)\n",
    "\n",
    "        matrix = confusion_matrix(y_test, y_pred)\n",
    "\n",
    "        # ==== Vẽ hình ====\n",
    "        fig = plt.figure(figsize=(15, 8))\n",
    "\n",
    "        # --- Vẽ bảng classification report ---\n",
    "        plt.subplot(1, 2, 1)\n",
    "\n",
    "        # Lấy các lớp thực tế được dự đoán\n",
    "        label_keys = [key for key in report_dict.keys() if key not in ['accuracy', 'macro avg', 'weighted avg']]\n",
    "        if len(label_keys) < 1:\n",
    "            print(f\"⚠️ Report bị thiếu nhãn! Bỏ qua split {train_ratio}:{test_ratio}\")\n",
    "            continue\n",
    "\n",
    "        class_labels = label_keys\n",
    "        data = [[\n",
    "            f\"{report_dict[label]['precision']:.4f}\",\n",
    "            f\"{report_dict[label]['recall']:.4f}\",\n",
    "            f\"{report_dict[label]['f1-score']:.4f}\",\n",
    "            f\"{int(report_dict[label]['support'])}\"\n",
    "        ] for label in class_labels]\n",
    "\n",
    "        stat_labels = [\"accuracy\", \"macro avg\", \"weighted avg\"]\n",
    "        stat_data = []\n",
    "\n",
    "        # accuracy (special case)\n",
    "        stat_data.append([\" \", \" \", f\"{report_dict['accuracy']:.4f}\", \" \"])\n",
    "\n",
    "        for label in [\"macro avg\", \"weighted avg\"]:\n",
    "            values = report_dict.get(label)\n",
    "            if values:\n",
    "                stat_data.append([\n",
    "                    f\"{values['precision']:.4f}\",\n",
    "                    f\"{values['recall']:.4f}\",\n",
    "                    f\"{values['f1-score']:.4f}\",\n",
    "                    f\"{int(values['support'])}\"\n",
    "                ])\n",
    "\n",
    "        tbl = plt.table(\n",
    "            cellText=data,\n",
    "            colLabels=[\"Precision\", \"Recall\", \"F1-score\", \"Support\"],\n",
    "            rowLabels=class_labels,\n",
    "            loc='center',\n",
    "            cellLoc='center',\n",
    "            bbox=[0.2, 0.45, 0.6, 0.4]\n",
    "        )\n",
    "        tbl.auto_set_font_size(False)\n",
    "        tbl.set_fontsize(10)\n",
    "\n",
    "        stat_tbl = plt.table(\n",
    "            cellText=stat_data,\n",
    "            rowLabels=stat_labels,\n",
    "            cellLoc='center',\n",
    "            bbox=[0.3, 0.02, 0.5, 0.35]\n",
    "        )\n",
    "        stat_tbl.auto_set_font_size(False)\n",
    "        stat_tbl.set_fontsize(10)\n",
    "\n",
    "        for table in [tbl, stat_tbl]:\n",
    "            for cell in table.get_celld().values():\n",
    "                cell.set_edgecolor(\"white\")\n",
    "                cell.set_text_props(ha=\"center\", va=\"center\")\n",
    "                cell.set_height(0.1)\n",
    "\n",
    "        plt.axis(\"off\")\n",
    "        plt.title(\"Classification Report\")\n",
    "\n",
    "        # --- Vẽ heatmap Confusion Matrix ---\n",
    "        plt.subplot(1, 2, 2)\n",
    "        sns.heatmap(matrix,\n",
    "                    annot=True,\n",
    "                    fmt=\"d\",\n",
    "                    cmap=\"magma\",\n",
    "                    xticklabels=model.classes_,\n",
    "                    yticklabels=model.classes_,\n",
    "                    cbar=True,\n",
    "                    linewidths=0)\n",
    "        plt.xlabel(\"Predicted\")\n",
    "        plt.ylabel(\"True\")\n",
    "        plt.title(\"Confusion Matrix\")\n",
    "\n",
    "        plt.suptitle(f\"Decision Tree - Split {int(train_ratio*100)}% / {int(test_ratio*100)}%\", fontsize=16)\n",
    "        plt.tight_layout(rect=[0, 0.03, 1, 0.95])\n",
    "\n",
    "        # Lưu hình\n",
    "        file_path = os.path.join(save_dir, f\"report_model_{int(train_ratio*100)}_{int(test_ratio*100)}.png\")\n",
    "        plt.savefig(file_path)\n",
    "        plt.show()\n",
    "\n",
    "        print(f\"✓ Evaluation saved: {file_path}\")"
   ]
  },
  {
   "cell_type": "code",
   "execution_count": 101,
   "metadata": {},
   "outputs": [
    {
     "data": {
      "image/png": "[encoded data removed]",
      "text/plain": [
       "<Figure size 1500x800 with 3 Axes>"
      ]
     },
     "metadata": {},
     "output_type": "display_data"
    },
    {
     "name": "stdout",
     "output_type": "stream",
     "text": [
      "✓ Evaluation saved: output/report/split_ratios_ver\\report_model_40_60.png\n"
     ]
    },
    {
     "data": {
      "image/png": "[encoded data removed]",
      "text/plain": [
       "<Figure size 1500x800 with 3 Axes>"
      ]
     },
     "metadata": {},
     "output_type": "display_data"
    },
    {
     "name": "stdout",
     "output_type": "stream",
     "text": [
      "✓ Evaluation saved: output/report/split_ratios_ver\\report_model_60_40.png\n"
     ]
    },
    {
     "data": {
      "image/png": "[encoded data removed]",
      "text/plain": [
       "<Figure size 1500x800 with 3 Axes>"
      ]
     },
     "metadata": {},
     "output_type": "display_data"
    },
    {
     "name": "stdout",
     "output_type": "stream",
     "text": [
      "✓ Evaluation saved: output/report/split_ratios_ver\\report_model_80_20.png\n"
     ]
    },
    {
     "data": {
      "image/png": "[encoded data removed]",
      "text/plain": [
       "<Figure size 1500x800 with 3 Axes>"
      ]
     },
     "metadata": {},
     "output_type": "display_data"
    },
    {
     "name": "stdout",
     "output_type": "stream",
     "text": [
      "✓ Evaluation saved: output/report/split_ratios_ver\\report_model_90_10.png\n"
     ]
    }
   ],
   "source": [
    "evaluate_and_visualize_models(list_models, datasets, split_ratios)"
   ]
  },
  {
   "cell_type": "markdown",
   "metadata": {},
   "source": [
    "# **5. The depth and accuracy of a decision tree**\n"
   ]
  },
  {
   "cell_type": "markdown",
   "metadata": {},
   "source": [
    "## **5.1 Training model with max depth of decision tree**\n"
   ]
  },
  {
   "cell_type": "code",
   "execution_count": 102,
   "metadata": {},
   "outputs": [],
   "source": [
    "def train_decision_trees_by_depth(datasets, depth_list, save_dir=\"model/max_depth_ver\"):\n",
    "    \"\"\"\n",
    "    Huấn luyện các mô hình Decision Tree với nhiều giá trị độ sâu khác nhau (max_depth)\n",
    "    và đánh giá độ chính xác trên tập kiểm tra.\n",
    "\n",
    "    Args:\n",
    "        datasets (tuple): Bộ dữ liệu train/test (feature_train, feature_test, label_train, label_test).\n",
    "        depth_list (list): Danh sách các giá trị max_depth cần thử nghiệm.\n",
    "        save_dir (str): Đường dẫn thư mục lưu mô hình và file kết quả.\n",
    "\n",
    "    Returns:\n",
    "        tuple:\n",
    "            - trained_models (list): Các mô hình huấn luyện.\n",
    "            - accuracy_by_depth (dict): Ánh xạ từ max_depth sang độ chính xác.\n",
    "    \"\"\"\n",
    "    os.makedirs(save_dir, exist_ok=True)\n",
    "\n",
    "    # Tách dữ liệu 80/20\n",
    "    X_train = datasets[2][\"X_train\"]\n",
    "    X_test = datasets[2][\"X_test\"]\n",
    "    y_train = datasets[2][\"y_train\"]\n",
    "    y_test = datasets[2][\"y_test\"]\n",
    "\n",
    "    trained_models = []\n",
    "    accuracy_by_depth = {}\n",
    "\n",
    "    for depth in depth_list:\n",
    "        # Huấn luyện mô hình\n",
    "        clf = DecisionTreeClassifier(\n",
    "            criterion=\"entropy\",\n",
    "            max_depth=depth,\n",
    "            random_state=42\n",
    "        )\n",
    "        clf.fit(X_train, y_train)\n",
    "        trained_models.append(clf)\n",
    "\n",
    "        # Đánh giá độ chính xác\n",
    "        y_pred = clf.predict(X_test)\n",
    "        accuracy = accuracy_score(y_test, y_pred)\n",
    "        accuracy_by_depth[depth] = accuracy\n",
    "\n",
    "        # Lưu mô hình\n",
    "        model_path = os.path.join(save_dir, f\"decision_tree_depth_{depth}.pkl\")\n",
    "        joblib.dump(clf, model_path)\n",
    "        print(f\"✓ Model saved: {model_path}\")\n",
    "\n",
    "    # ===== Lưu kết quả accuracy ra CSV =====\n",
    "    result_df = pd.DataFrame({\n",
    "        \"max_depth\": [\"None\" if d is None else d for d in accuracy_by_depth.keys()],\n",
    "        \"accuracy\": list(accuracy_by_depth.values())\n",
    "    })\n",
    "    result_csv_path = os.path.join(save_dir, \"accuracy_by_depth.csv\")\n",
    "    result_df.to_csv(result_csv_path, index=False)\n",
    "    print(f\"✓ Accuracy results saved to: {result_csv_path}\")\n",
    "\n",
    "    return trained_models, accuracy_by_depth"
   ]
  },
  {
   "cell_type": "code",
   "execution_count": 103,
   "metadata": {},
   "outputs": [
    {
     "name": "stdout",
     "output_type": "stream",
     "text": [
      "✓ Model saved: model/max_depth_ver\\decision_tree_depth_None.pkl\n",
      "✓ Model saved: model/max_depth_ver\\decision_tree_depth_1.pkl\n",
      "✓ Model saved: model/max_depth_ver\\decision_tree_depth_2.pkl\n",
      "✓ Model saved: model/max_depth_ver\\decision_tree_depth_3.pkl\n",
      "✓ Model saved: model/max_depth_ver\\decision_tree_depth_4.pkl\n",
      "✓ Model saved: model/max_depth_ver\\decision_tree_depth_5.pkl\n",
      "✓ Model saved: model/max_depth_ver\\decision_tree_depth_6.pkl\n",
      "✓ Model saved: model/max_depth_ver\\decision_tree_depth_7.pkl\n",
      "✓ Accuracy results saved to: model/max_depth_ver\\accuracy_by_depth.csv\n"
     ]
    }
   ],
   "source": [
    "list_max_depth = [None, 1, 2, 3, 4, 5, 6, 7]\n",
    "list_max_depth_model, accuracy_results = train_decision_trees_by_depth(\n",
    "    datasets, list_max_depth\n",
    ")"
   ]
  },
  {
   "cell_type": "markdown",
   "metadata": {},
   "source": [
    "## **5.2 Visualize decision trees with each `max_depth` value.**\n"
   ]
  },
  {
   "cell_type": "code",
   "execution_count": 104,
   "metadata": {},
   "outputs": [],
   "source": [
    "def export_and_display_trees_by_depth(models, depth_list, feature_names, class_labels, save_dir=\"output/max_depth_graphviz\"):\n",
    "    \"\"\"\n",
    "    Trực quan hóa và lưu các cây quyết định tương ứng với các giá trị max_depth khác nhau.\n",
    "\n",
    "    Args:\n",
    "        models (list): Danh sách các mô hình DecisionTreeClassifier đã huấn luyện.\n",
    "        depth_list (list): Danh sách các giá trị max_depth được sử dụng.\n",
    "        feature_names (list): Tên các đặc trưng được sử dụng trong mô hình.\n",
    "        class_labels (list): Tên các lớp tương ứng với nhãn đầu ra.\n",
    "        save_dir (str): Thư mục để lưu các biểu đồ cây dưới dạng PNG.\n",
    "    \"\"\"\n",
    "    os.makedirs(save_dir, exist_ok=True)\n",
    "\n",
    "    for model, depth in zip(models, depth_list):\n",
    "        # Chuyển cây thành định dạng DOT\n",
    "        dot = export_graphviz(\n",
    "            model,\n",
    "            feature_names=feature_names,\n",
    "            class_names=class_labels,\n",
    "            filled=True,\n",
    "            rounded=True,\n",
    "            special_characters=True\n",
    "        )\n",
    "\n",
    "        # Tạo đối tượng Graphviz\n",
    "        tree_graph = graphviz.Source(dot)\n",
    "        tree_graph.engine = \"dot\"\n",
    "\n",
    "        # Tên file lưu\n",
    "        filename = f\"graph_model_80_20_depth_{depth}\"\n",
    "        filepath = os.path.join(save_dir, filename)\n",
    "\n",
    "        # Xuất file PNG\n",
    "        tree_graph.render(filepath, format=\"png\", cleanup=True)\n",
    "\n",
    "        # Hiển thị trực tiếp trong notebook (nếu có)\n",
    "        display(tree_graph)\n",
    "\n",
    "        # Thông báo hoàn tất\n",
    "        print(f\"✓ Decision tree (depth={depth}) visualized and saved to {filepath}.png\")"
   ]
  },
  {
   "cell_type": "code",
   "execution_count": 105,
   "metadata": {},
   "outputs": [
    {
     "data": {
      "image/svg+xml": [
       "<?xml version=\"1.0\" encoding=\"UTF-8\" standalone=\"no\"?>\n",
       "<!DOCTYPE svg PUBLIC \"-//W3C//DTD SVG 1.1//EN\"\n",
       " \"http://www.w3.org/Graphics/SVG/1.1/DTD/svg11.dtd\">\n",
       "<!-- Generated by graphviz version 12.2.1 (20241206.2353)\n",
       " -->\n",
       "<!-- Title: Tree Pages: 1 -->\n",
       "<svg width=\"1050pt\" height=\"693pt\"\n",
       " viewBox=\"0.00 0.00 1049.62 692.75\" xmlns=\"http://www.w3.org/2000/svg\" xmlns:xlink=\"http://www.w3.org/1999/xlink\">\n",
       "<g id=\"graph0\" class=\"graph\" transform=\"scale(1 1) rotate(0) translate(4 688.75)\">\n",
       "<title>Tree</title>\n",
       "<polygon fill=\"white\" stroke=\"none\" points=\"-4,4 -4,-688.75 1045.62,-688.75 1045.62,4 -4,4\"/>\n",
       "<!-- 0 -->\n",
       "<g id=\"node1\" class=\"node\">\n",
       "<title>0</title>\n",
       "<path fill=\"#fcf3ec\" stroke=\"black\" d=\"M796,-684.75C796,-684.75 632.25,-684.75 632.25,-684.75 626.25,-684.75 620.25,-678.75 620.25,-672.75 620.25,-672.75 620.25,-610 620.25,-610 620.25,-604 626.25,-598 632.25,-598 632.25,-598 796,-598 796,-598 802,-598 808,-604 808,-610 808,-610 808,-672.75 808,-672.75 808,-678.75 802,-684.75 796,-684.75\"/>\n",
       "<text text-anchor=\"start\" x=\"628.25\" y=\"-667.45\" font-family=\"Helvetica,sans-Serif\" font-size=\"14.00\">Flipper Length (mm) ≤ 206.0</text>\n",
       "<text text-anchor=\"start\" x=\"666.88\" y=\"-651.7\" font-family=\"Helvetica,sans-Serif\" font-size=\"14.00\">entropy = 1.526</text>\n",
       "<text text-anchor=\"start\" x=\"669.5\" y=\"-635.95\" font-family=\"Helvetica,sans-Serif\" font-size=\"14.00\">samples = 260</text>\n",
       "<text text-anchor=\"start\" x=\"653.38\" y=\"-620.2\" font-family=\"Helvetica,sans-Serif\" font-size=\"14.00\">value = [111, 54, 95]</text>\n",
       "<text text-anchor=\"start\" x=\"672.5\" y=\"-604.45\" font-family=\"Helvetica,sans-Serif\" font-size=\"14.00\">class = Adelie</text>\n",
       "</g>\n",
       "<!-- 1 -->\n",
       "<g id=\"node2\" class=\"node\">\n",
       "<title>1</title>\n",
       "<path fill=\"#f1bb95\" stroke=\"black\" d=\"M624.25,-562C624.25,-562 462,-562 462,-562 456,-562 450,-556 450,-550 450,-550 450,-487.25 450,-487.25 450,-481.25 456,-475.25 462,-475.25 462,-475.25 624.25,-475.25 624.25,-475.25 630.25,-475.25 636.25,-481.25 636.25,-487.25 636.25,-487.25 636.25,-550 636.25,-550 636.25,-556 630.25,-562 624.25,-562\"/>\n",
       "<text text-anchor=\"start\" x=\"458\" y=\"-544.7\" font-family=\"Helvetica,sans-Serif\" font-size=\"14.00\">Culmen Length (mm) ≤ 44.2</text>\n",
       "<text text-anchor=\"start\" x=\"495.88\" y=\"-528.95\" font-family=\"Helvetica,sans-Serif\" font-size=\"14.00\">entropy = 0.947</text>\n",
       "<text text-anchor=\"start\" x=\"498.5\" y=\"-513.2\" font-family=\"Helvetica,sans-Serif\" font-size=\"14.00\">samples = 160</text>\n",
       "<text text-anchor=\"start\" x=\"485.38\" y=\"-497.45\" font-family=\"Helvetica,sans-Serif\" font-size=\"14.00\">value = [109, 50, 1]</text>\n",
       "<text text-anchor=\"start\" x=\"501.5\" y=\"-481.7\" font-family=\"Helvetica,sans-Serif\" font-size=\"14.00\">class = Adelie</text>\n",
       "</g>\n",
       "<!-- 0&#45;&gt;1 -->\n",
       "<g id=\"edge1\" class=\"edge\">\n",
       "<title>0&#45;&gt;1</title>\n",
       "<path fill=\"none\" stroke=\"black\" d=\"M653.84,-597.8C640.63,-588.48 626.55,-578.53 613.01,-568.97\"/>\n",
       "<polygon fill=\"black\" stroke=\"black\" points=\"615.16,-566.21 604.97,-563.3 611.12,-571.92 615.16,-566.21\"/>\n",
       "<text text-anchor=\"middle\" x=\"607.98\" y=\"-581.64\" font-family=\"Helvetica,sans-Serif\" font-size=\"14.00\">True</text>\n",
       "</g>\n",
       "<!-- 18 -->\n",
       "<g id=\"node19\" class=\"node\">\n",
       "<title>18</title>\n",
       "<path fill=\"#8945e7\" stroke=\"black\" d=\"M886.12,-562C886.12,-562 750.12,-562 750.12,-562 744.12,-562 738.12,-556 738.12,-550 738.12,-550 738.12,-487.25 738.12,-487.25 738.12,-481.25 744.12,-475.25 750.12,-475.25 750.12,-475.25 886.12,-475.25 886.12,-475.25 892.12,-475.25 898.12,-481.25 898.12,-487.25 898.12,-487.25 898.12,-550 898.12,-550 898.12,-556 892.12,-562 886.12,-562\"/>\n",
       "<text text-anchor=\"start\" x=\"746.12\" y=\"-544.7\" font-family=\"Helvetica,sans-Serif\" font-size=\"14.00\">Body Mass (g) ≤ 4325.0</text>\n",
       "<text text-anchor=\"start\" x=\"770.88\" y=\"-528.95\" font-family=\"Helvetica,sans-Serif\" font-size=\"14.00\">entropy = 0.383</text>\n",
       "<text text-anchor=\"start\" x=\"773.5\" y=\"-513.2\" font-family=\"Helvetica,sans-Serif\" font-size=\"14.00\">samples = 100</text>\n",
       "<text text-anchor=\"start\" x=\"767.88\" y=\"-497.45\" font-family=\"Helvetica,sans-Serif\" font-size=\"14.00\">value = [2, 4, 94]</text>\n",
       "<text text-anchor=\"start\" x=\"772.38\" y=\"-481.7\" font-family=\"Helvetica,sans-Serif\" font-size=\"14.00\">class = Gentoo</text>\n",
       "</g>\n",
       "<!-- 0&#45;&gt;18 -->\n",
       "<g id=\"edge18\" class=\"edge\">\n",
       "<title>0&#45;&gt;18</title>\n",
       "<path fill=\"none\" stroke=\"black\" d=\"M750.79,-597.8C758.33,-589.06 766.33,-579.76 774.09,-570.75\"/>\n",
       "<polygon fill=\"black\" stroke=\"black\" points=\"776.58,-573.23 780.45,-563.37 771.27,-568.66 776.58,-573.23\"/>\n",
       "<text text-anchor=\"middle\" x=\"783.3\" y=\"-581.73\" font-family=\"Helvetica,sans-Serif\" font-size=\"14.00\">False</text>\n",
       "</g>\n",
       "<!-- 2 -->\n",
       "<g id=\"node3\" class=\"node\">\n",
       "<title>2</title>\n",
       "<path fill=\"#e6853f\" stroke=\"black\" d=\"M366,-439.25C366,-439.25 196.25,-439.25 196.25,-439.25 190.25,-439.25 184.25,-433.25 184.25,-427.25 184.25,-427.25 184.25,-364.5 184.25,-364.5 184.25,-358.5 190.25,-352.5 196.25,-352.5 196.25,-352.5 366,-352.5 366,-352.5 372,-352.5 378,-358.5 378,-364.5 378,-364.5 378,-427.25 378,-427.25 378,-433.25 372,-439.25 366,-439.25\"/>\n",
       "<text text-anchor=\"start\" x=\"192.25\" y=\"-421.95\" font-family=\"Helvetica,sans-Serif\" font-size=\"14.00\">Culmen Length (mm) ≤ 40.75</text>\n",
       "<text text-anchor=\"start\" x=\"233.88\" y=\"-406.2\" font-family=\"Helvetica,sans-Serif\" font-size=\"14.00\">entropy = 0.182</text>\n",
       "<text text-anchor=\"start\" x=\"236.5\" y=\"-390.45\" font-family=\"Helvetica,sans-Serif\" font-size=\"14.00\">samples = 109</text>\n",
       "<text text-anchor=\"start\" x=\"227.12\" y=\"-374.7\" font-family=\"Helvetica,sans-Serif\" font-size=\"14.00\">value = [106, 3, 0]</text>\n",
       "<text text-anchor=\"start\" x=\"239.5\" y=\"-358.95\" font-family=\"Helvetica,sans-Serif\" font-size=\"14.00\">class = Adelie</text>\n",
       "</g>\n",
       "<!-- 1&#45;&gt;2 -->\n",
       "<g id=\"edge2\" class=\"edge\">\n",
       "<title>1&#45;&gt;2</title>\n",
       "<path fill=\"none\" stroke=\"black\" d=\"M450.38,-474.88C428.91,-464.99 405.93,-454.39 384.04,-444.31\"/>\n",
       "<polygon fill=\"black\" stroke=\"black\" points=\"385.66,-441.2 375.12,-440.19 382.73,-447.56 385.66,-441.2\"/>\n",
       "</g>\n",
       "<!-- 9 -->\n",
       "<g id=\"node10\" class=\"node\">\n",
       "<title>9</title>\n",
       "<path fill=\"#4ae78c\" stroke=\"black\" d=\"M611.12,-439.25C611.12,-439.25 475.12,-439.25 475.12,-439.25 469.12,-439.25 463.12,-433.25 463.12,-427.25 463.12,-427.25 463.12,-364.5 463.12,-364.5 463.12,-358.5 469.12,-352.5 475.12,-352.5 475.12,-352.5 611.12,-352.5 611.12,-352.5 617.12,-352.5 623.12,-358.5 623.12,-364.5 623.12,-364.5 623.12,-427.25 623.12,-427.25 623.12,-433.25 617.12,-439.25 611.12,-439.25\"/>\n",
       "<text text-anchor=\"start\" x=\"471.12\" y=\"-421.95\" font-family=\"Helvetica,sans-Serif\" font-size=\"14.00\">Body Mass (g) ≤ 4100.0</text>\n",
       "<text text-anchor=\"start\" x=\"499.62\" y=\"-406.2\" font-family=\"Helvetica,sans-Serif\" font-size=\"14.00\">entropy = 0.46</text>\n",
       "<text text-anchor=\"start\" x=\"502.25\" y=\"-390.45\" font-family=\"Helvetica,sans-Serif\" font-size=\"14.00\">samples = 51</text>\n",
       "<text text-anchor=\"start\" x=\"492.88\" y=\"-374.7\" font-family=\"Helvetica,sans-Serif\" font-size=\"14.00\">value = [3, 47, 1]</text>\n",
       "<text text-anchor=\"start\" x=\"491\" y=\"-358.95\" font-family=\"Helvetica,sans-Serif\" font-size=\"14.00\">class = Chinstrap</text>\n",
       "</g>\n",
       "<!-- 1&#45;&gt;9 -->\n",
       "<g id=\"edge9\" class=\"edge\">\n",
       "<title>1&#45;&gt;9</title>\n",
       "<path fill=\"none\" stroke=\"black\" d=\"M543.12,-475.05C543.12,-467.21 543.12,-458.92 543.12,-450.79\"/>\n",
       "<polygon fill=\"black\" stroke=\"black\" points=\"546.63,-450.98 543.13,-440.98 539.63,-450.98 546.63,-450.98\"/>\n",
       "</g>\n",
       "<!-- 3 -->\n",
       "<g id=\"node4\" class=\"node\">\n",
       "<title>3</title>\n",
       "<path fill=\"#e58139\" stroke=\"black\" d=\"M171.38,-308.62C171.38,-308.62 78.88,-308.62 78.88,-308.62 72.88,-308.62 66.88,-302.62 66.88,-296.62 66.88,-296.62 66.88,-249.62 66.88,-249.62 66.88,-243.62 72.88,-237.62 78.88,-237.62 78.88,-237.62 171.38,-237.62 171.38,-237.62 177.38,-237.62 183.38,-243.62 183.38,-249.62 183.38,-249.62 183.38,-296.62 183.38,-296.62 183.38,-302.62 177.38,-308.62 171.38,-308.62\"/>\n",
       "<text text-anchor=\"start\" x=\"85.38\" y=\"-291.32\" font-family=\"Helvetica,sans-Serif\" font-size=\"14.00\">entropy = 0.0</text>\n",
       "<text text-anchor=\"start\" x=\"84.25\" y=\"-275.57\" font-family=\"Helvetica,sans-Serif\" font-size=\"14.00\">samples = 82</text>\n",
       "<text text-anchor=\"start\" x=\"74.88\" y=\"-259.82\" font-family=\"Helvetica,sans-Serif\" font-size=\"14.00\">value = [82, 0, 0]</text>\n",
       "<text text-anchor=\"start\" x=\"83.5\" y=\"-244.07\" font-family=\"Helvetica,sans-Serif\" font-size=\"14.00\">class = Adelie</text>\n",
       "</g>\n",
       "<!-- 2&#45;&gt;3 -->\n",
       "<g id=\"edge3\" class=\"edge\">\n",
       "<title>2&#45;&gt;3</title>\n",
       "<path fill=\"none\" stroke=\"black\" d=\"M226.13,-352.3C210.8,-340.44 194.17,-327.57 178.92,-315.76\"/>\n",
       "<polygon fill=\"black\" stroke=\"black\" points=\"181.36,-313.23 171.31,-309.87 177.08,-318.76 181.36,-313.23\"/>\n",
       "</g>\n",
       "<!-- 4 -->\n",
       "<g id=\"node5\" class=\"node\">\n",
       "<title>4</title>\n",
       "<path fill=\"#e89152\" stroke=\"black\" d=\"M349.12,-316.5C349.12,-316.5 213.12,-316.5 213.12,-316.5 207.12,-316.5 201.12,-310.5 201.12,-304.5 201.12,-304.5 201.12,-241.75 201.12,-241.75 201.12,-235.75 207.12,-229.75 213.12,-229.75 213.12,-229.75 349.12,-229.75 349.12,-229.75 355.12,-229.75 361.12,-235.75 361.12,-241.75 361.12,-241.75 361.12,-304.5 361.12,-304.5 361.12,-310.5 355.12,-316.5 349.12,-316.5\"/>\n",
       "<text text-anchor=\"start\" x=\"209.12\" y=\"-299.2\" font-family=\"Helvetica,sans-Serif\" font-size=\"14.00\">Body Mass (g) ≤ 3425.0</text>\n",
       "<text text-anchor=\"start\" x=\"233.88\" y=\"-283.45\" font-family=\"Helvetica,sans-Serif\" font-size=\"14.00\">entropy = 0.503</text>\n",
       "<text text-anchor=\"start\" x=\"240.25\" y=\"-267.7\" font-family=\"Helvetica,sans-Serif\" font-size=\"14.00\">samples = 27</text>\n",
       "<text text-anchor=\"start\" x=\"230.88\" y=\"-251.95\" font-family=\"Helvetica,sans-Serif\" font-size=\"14.00\">value = [24, 3, 0]</text>\n",
       "<text text-anchor=\"start\" x=\"239.5\" y=\"-236.2\" font-family=\"Helvetica,sans-Serif\" font-size=\"14.00\">class = Adelie</text>\n",
       "</g>\n",
       "<!-- 2&#45;&gt;4 -->\n",
       "<g id=\"edge4\" class=\"edge\">\n",
       "<title>2&#45;&gt;4</title>\n",
       "<path fill=\"none\" stroke=\"black\" d=\"M281.12,-352.3C281.12,-344.46 281.12,-336.17 281.12,-328.04\"/>\n",
       "<polygon fill=\"black\" stroke=\"black\" points=\"284.63,-328.23 281.13,-318.23 277.63,-328.23 284.63,-328.23\"/>\n",
       "</g>\n",
       "<!-- 5 -->\n",
       "<g id=\"node6\" class=\"node\">\n",
       "<title>5</title>\n",
       "<path fill=\"#7beeab\" stroke=\"black\" d=\"M217.25,-193.75C217.25,-193.75 121,-193.75 121,-193.75 115,-193.75 109,-187.75 109,-181.75 109,-181.75 109,-119 109,-119 109,-113 115,-107 121,-107 121,-107 217.25,-107 217.25,-107 223.25,-107 229.25,-113 229.25,-119 229.25,-119 229.25,-181.75 229.25,-181.75 229.25,-187.75 223.25,-193.75 217.25,-193.75\"/>\n",
       "<text text-anchor=\"start\" x=\"118.12\" y=\"-176.45\" font-family=\"Helvetica,sans-Serif\" font-size=\"14.00\">Sex_MALE ≤ 0.5</text>\n",
       "<text text-anchor=\"start\" x=\"122.25\" y=\"-160.7\" font-family=\"Helvetica,sans-Serif\" font-size=\"14.00\">entropy = 0.811</text>\n",
       "<text text-anchor=\"start\" x=\"132\" y=\"-144.95\" font-family=\"Helvetica,sans-Serif\" font-size=\"14.00\">samples = 4</text>\n",
       "<text text-anchor=\"start\" x=\"122.62\" y=\"-129.2\" font-family=\"Helvetica,sans-Serif\" font-size=\"14.00\">value = [1, 3, 0]</text>\n",
       "<text text-anchor=\"start\" x=\"117\" y=\"-113.45\" font-family=\"Helvetica,sans-Serif\" font-size=\"14.00\">class = Chinstrap</text>\n",
       "</g>\n",
       "<!-- 4&#45;&gt;5 -->\n",
       "<g id=\"edge5\" class=\"edge\">\n",
       "<title>4&#45;&gt;5</title>\n",
       "<path fill=\"none\" stroke=\"black\" d=\"M241.64,-229.55C233.44,-220.72 224.73,-211.32 216.28,-202.22\"/>\n",
       "<polygon fill=\"black\" stroke=\"black\" points=\"219.03,-200.03 209.66,-195.08 213.9,-204.79 219.03,-200.03\"/>\n",
       "</g>\n",
       "<!-- 8 -->\n",
       "<g id=\"node9\" class=\"node\">\n",
       "<title>8</title>\n",
       "<path fill=\"#e58139\" stroke=\"black\" d=\"M351.38,-185.88C351.38,-185.88 258.88,-185.88 258.88,-185.88 252.88,-185.88 246.88,-179.88 246.88,-173.88 246.88,-173.88 246.88,-126.88 246.88,-126.88 246.88,-120.88 252.88,-114.88 258.88,-114.88 258.88,-114.88 351.38,-114.88 351.38,-114.88 357.38,-114.88 363.38,-120.88 363.38,-126.88 363.38,-126.88 363.38,-173.88 363.38,-173.88 363.38,-179.88 357.38,-185.88 351.38,-185.88\"/>\n",
       "<text text-anchor=\"start\" x=\"265.38\" y=\"-168.57\" font-family=\"Helvetica,sans-Serif\" font-size=\"14.00\">entropy = 0.0</text>\n",
       "<text text-anchor=\"start\" x=\"264.25\" y=\"-152.82\" font-family=\"Helvetica,sans-Serif\" font-size=\"14.00\">samples = 23</text>\n",
       "<text text-anchor=\"start\" x=\"254.88\" y=\"-137.07\" font-family=\"Helvetica,sans-Serif\" font-size=\"14.00\">value = [23, 0, 0]</text>\n",
       "<text text-anchor=\"start\" x=\"263.5\" y=\"-121.33\" font-family=\"Helvetica,sans-Serif\" font-size=\"14.00\">class = Adelie</text>\n",
       "</g>\n",
       "<!-- 4&#45;&gt;8 -->\n",
       "<g id=\"edge8\" class=\"edge\">\n",
       "<title>4&#45;&gt;8</title>\n",
       "<path fill=\"none\" stroke=\"black\" d=\"M289.59,-229.55C291.67,-219.08 293.91,-207.83 296.02,-197.21\"/>\n",
       "<polygon fill=\"black\" stroke=\"black\" points=\"299.43,-197.98 297.95,-187.49 292.56,-196.61 299.43,-197.98\"/>\n",
       "</g>\n",
       "<!-- 6 -->\n",
       "<g id=\"node7\" class=\"node\">\n",
       "<title>6</title>\n",
       "<path fill=\"#39e581\" stroke=\"black\" d=\"M108.25,-71C108.25,-71 12,-71 12,-71 6,-71 0,-65 0,-59 0,-59 0,-12 0,-12 0,-6 6,0 12,0 12,0 108.25,0 108.25,0 114.25,0 120.25,-6 120.25,-12 120.25,-12 120.25,-59 120.25,-59 120.25,-65 114.25,-71 108.25,-71\"/>\n",
       "<text text-anchor=\"start\" x=\"20.38\" y=\"-53.7\" font-family=\"Helvetica,sans-Serif\" font-size=\"14.00\">entropy = 0.0</text>\n",
       "<text text-anchor=\"start\" x=\"23\" y=\"-37.95\" font-family=\"Helvetica,sans-Serif\" font-size=\"14.00\">samples = 3</text>\n",
       "<text text-anchor=\"start\" x=\"13.62\" y=\"-22.2\" font-family=\"Helvetica,sans-Serif\" font-size=\"14.00\">value = [0, 3, 0]</text>\n",
       "<text text-anchor=\"start\" x=\"8\" y=\"-6.45\" font-family=\"Helvetica,sans-Serif\" font-size=\"14.00\">class = Chinstrap</text>\n",
       "</g>\n",
       "<!-- 5&#45;&gt;6 -->\n",
       "<g id=\"edge6\" class=\"edge\">\n",
       "<title>5&#45;&gt;6</title>\n",
       "<path fill=\"none\" stroke=\"black\" d=\"M127.92,-106.7C119.24,-97.72 110.08,-88.23 101.4,-79.25\"/>\n",
       "<polygon fill=\"black\" stroke=\"black\" points=\"104.11,-77.01 94.64,-72.25 99.07,-81.87 104.11,-77.01\"/>\n",
       "</g>\n",
       "<!-- 7 -->\n",
       "<g id=\"node8\" class=\"node\">\n",
       "<title>7</title>\n",
       "<path fill=\"#e58139\" stroke=\"black\" d=\"M235.62,-71C235.62,-71 150.62,-71 150.62,-71 144.62,-71 138.62,-65 138.62,-59 138.62,-59 138.62,-12 138.62,-12 138.62,-6 144.62,0 150.62,0 150.62,0 235.62,0 235.62,0 241.62,0 247.62,-6 247.62,-12 247.62,-12 247.62,-59 247.62,-59 247.62,-65 241.62,-71 235.62,-71\"/>\n",
       "<text text-anchor=\"start\" x=\"153.38\" y=\"-53.7\" font-family=\"Helvetica,sans-Serif\" font-size=\"14.00\">entropy = 0.0</text>\n",
       "<text text-anchor=\"start\" x=\"156\" y=\"-37.95\" font-family=\"Helvetica,sans-Serif\" font-size=\"14.00\">samples = 1</text>\n",
       "<text text-anchor=\"start\" x=\"146.62\" y=\"-22.2\" font-family=\"Helvetica,sans-Serif\" font-size=\"14.00\">value = [1, 0, 0]</text>\n",
       "<text text-anchor=\"start\" x=\"151.5\" y=\"-6.45\" font-family=\"Helvetica,sans-Serif\" font-size=\"14.00\">class = Adelie</text>\n",
       "</g>\n",
       "<!-- 5&#45;&gt;7 -->\n",
       "<g id=\"edge7\" class=\"edge\">\n",
       "<title>5&#45;&gt;7</title>\n",
       "<path fill=\"none\" stroke=\"black\" d=\"M178.2,-106.7C179.89,-98.72 181.67,-90.36 183.39,-82.29\"/>\n",
       "<polygon fill=\"black\" stroke=\"black\" points=\"186.78,-83.15 185.44,-72.64 179.94,-81.69 186.78,-83.15\"/>\n",
       "</g>\n",
       "<!-- 10 -->\n",
       "<g id=\"node11\" class=\"node\">\n",
       "<title>10</title>\n",
       "<path fill=\"#39e581\" stroke=\"black\" d=\"M487.25,-308.62C487.25,-308.62 391,-308.62 391,-308.62 385,-308.62 379,-302.62 379,-296.62 379,-296.62 379,-249.62 379,-249.62 379,-243.62 385,-237.62 391,-237.62 391,-237.62 487.25,-237.62 487.25,-237.62 493.25,-237.62 499.25,-243.62 499.25,-249.62 499.25,-249.62 499.25,-296.62 499.25,-296.62 499.25,-302.62 493.25,-308.62 487.25,-308.62\"/>\n",
       "<text text-anchor=\"start\" x=\"399.38\" y=\"-291.32\" font-family=\"Helvetica,sans-Serif\" font-size=\"14.00\">entropy = 0.0</text>\n",
       "<text text-anchor=\"start\" x=\"398.25\" y=\"-275.57\" font-family=\"Helvetica,sans-Serif\" font-size=\"14.00\">samples = 42</text>\n",
       "<text text-anchor=\"start\" x=\"388.88\" y=\"-259.82\" font-family=\"Helvetica,sans-Serif\" font-size=\"14.00\">value = [0, 42, 0]</text>\n",
       "<text text-anchor=\"start\" x=\"387\" y=\"-244.07\" font-family=\"Helvetica,sans-Serif\" font-size=\"14.00\">class = Chinstrap</text>\n",
       "</g>\n",
       "<!-- 9&#45;&gt;10 -->\n",
       "<g id=\"edge10\" class=\"edge\">\n",
       "<title>9&#45;&gt;10</title>\n",
       "<path fill=\"none\" stroke=\"black\" d=\"M506.46,-352.3C496.67,-340.94 486.09,-328.65 476.28,-317.26\"/>\n",
       "<polygon fill=\"black\" stroke=\"black\" points=\"479.12,-315.19 469.94,-309.9 473.81,-319.76 479.12,-315.19\"/>\n",
       "</g>\n",
       "<!-- 11 -->\n",
       "<g id=\"node12\" class=\"node\">\n",
       "<title>11</title>\n",
       "<path fill=\"#bdf6d5\" stroke=\"black\" d=\"M691.25,-316.5C691.25,-316.5 529,-316.5 529,-316.5 523,-316.5 517,-310.5 517,-304.5 517,-304.5 517,-241.75 517,-241.75 517,-235.75 523,-229.75 529,-229.75 529,-229.75 691.25,-229.75 691.25,-229.75 697.25,-229.75 703.25,-235.75 703.25,-241.75 703.25,-241.75 703.25,-304.5 703.25,-304.5 703.25,-310.5 697.25,-316.5 691.25,-316.5\"/>\n",
       "<text text-anchor=\"start\" x=\"525\" y=\"-299.2\" font-family=\"Helvetica,sans-Serif\" font-size=\"14.00\">Culmen Length (mm) ≤ 47.2</text>\n",
       "<text text-anchor=\"start\" x=\"562.88\" y=\"-283.45\" font-family=\"Helvetica,sans-Serif\" font-size=\"14.00\">entropy = 1.352</text>\n",
       "<text text-anchor=\"start\" x=\"573\" y=\"-267.7\" font-family=\"Helvetica,sans-Serif\" font-size=\"14.00\">samples = 9</text>\n",
       "<text text-anchor=\"start\" x=\"563.62\" y=\"-251.95\" font-family=\"Helvetica,sans-Serif\" font-size=\"14.00\">value = [3, 5, 1]</text>\n",
       "<text text-anchor=\"start\" x=\"558\" y=\"-236.2\" font-family=\"Helvetica,sans-Serif\" font-size=\"14.00\">class = Chinstrap</text>\n",
       "</g>\n",
       "<!-- 9&#45;&gt;11 -->\n",
       "<g id=\"edge11\" class=\"edge\">\n",
       "<title>9&#45;&gt;11</title>\n",
       "<path fill=\"none\" stroke=\"black\" d=\"M566.75,-352.3C571.35,-344.01 576.23,-335.22 580.98,-326.64\"/>\n",
       "<polygon fill=\"black\" stroke=\"black\" points=\"583.97,-328.49 585.76,-318.04 577.84,-325.09 583.97,-328.49\"/>\n",
       "</g>\n",
       "<!-- 12 -->\n",
       "<g id=\"node13\" class=\"node\">\n",
       "<title>12</title>\n",
       "<path fill=\"#eeab7b\" stroke=\"black\" d=\"M539.12,-193.75C539.12,-193.75 445.12,-193.75 445.12,-193.75 439.12,-193.75 433.12,-187.75 433.12,-181.75 433.12,-181.75 433.12,-119 433.12,-119 433.12,-113 439.12,-107 445.12,-107 445.12,-107 539.12,-107 539.12,-107 545.12,-107 551.12,-113 551.12,-119 551.12,-119 551.12,-181.75 551.12,-181.75 551.12,-187.75 545.12,-193.75 539.12,-193.75\"/>\n",
       "<text text-anchor=\"start\" x=\"441.12\" y=\"-176.45\" font-family=\"Helvetica,sans-Serif\" font-size=\"14.00\">Sex_MALE ≤ 0.5</text>\n",
       "<text text-anchor=\"start\" x=\"445.25\" y=\"-160.7\" font-family=\"Helvetica,sans-Serif\" font-size=\"14.00\">entropy = 0.811</text>\n",
       "<text text-anchor=\"start\" x=\"455\" y=\"-144.95\" font-family=\"Helvetica,sans-Serif\" font-size=\"14.00\">samples = 4</text>\n",
       "<text text-anchor=\"start\" x=\"445.62\" y=\"-129.2\" font-family=\"Helvetica,sans-Serif\" font-size=\"14.00\">value = [3, 1, 0]</text>\n",
       "<text text-anchor=\"start\" x=\"450.5\" y=\"-113.45\" font-family=\"Helvetica,sans-Serif\" font-size=\"14.00\">class = Adelie</text>\n",
       "</g>\n",
       "<!-- 11&#45;&gt;12 -->\n",
       "<g id=\"edge12\" class=\"edge\">\n",
       "<title>11&#45;&gt;12</title>\n",
       "<path fill=\"none\" stroke=\"black\" d=\"M568.52,-229.55C559.8,-220.63 550.52,-211.13 541.54,-201.94\"/>\n",
       "<polygon fill=\"black\" stroke=\"black\" points=\"544.3,-199.76 534.81,-195.05 539.29,-204.65 544.3,-199.76\"/>\n",
       "</g>\n",
       "<!-- 15 -->\n",
       "<g id=\"node16\" class=\"node\">\n",
       "<title>15</title>\n",
       "<path fill=\"#6aeca0\" stroke=\"black\" d=\"M677.25,-193.75C677.25,-193.75 581,-193.75 581,-193.75 575,-193.75 569,-187.75 569,-181.75 569,-181.75 569,-119 569,-119 569,-113 575,-107 581,-107 581,-107 677.25,-107 677.25,-107 683.25,-107 689.25,-113 689.25,-119 689.25,-119 689.25,-181.75 689.25,-181.75 689.25,-187.75 683.25,-193.75 677.25,-193.75\"/>\n",
       "<text text-anchor=\"start\" x=\"578.12\" y=\"-176.45\" font-family=\"Helvetica,sans-Serif\" font-size=\"14.00\">Sex_MALE ≤ 0.5</text>\n",
       "<text text-anchor=\"start\" x=\"581.88\" y=\"-160.7\" font-family=\"Helvetica,sans-Serif\" font-size=\"14.00\">entropy = 0.722</text>\n",
       "<text text-anchor=\"start\" x=\"592\" y=\"-144.95\" font-family=\"Helvetica,sans-Serif\" font-size=\"14.00\">samples = 5</text>\n",
       "<text text-anchor=\"start\" x=\"582.62\" y=\"-129.2\" font-family=\"Helvetica,sans-Serif\" font-size=\"14.00\">value = [0, 4, 1]</text>\n",
       "<text text-anchor=\"start\" x=\"577\" y=\"-113.45\" font-family=\"Helvetica,sans-Serif\" font-size=\"14.00\">class = Chinstrap</text>\n",
       "</g>\n",
       "<!-- 11&#45;&gt;15 -->\n",
       "<g id=\"edge15\" class=\"edge\">\n",
       "<title>11&#45;&gt;15</title>\n",
       "<path fill=\"none\" stroke=\"black\" d=\"M616.82,-229.55C618.06,-221.71 619.36,-213.42 620.64,-205.29\"/>\n",
       "<polygon fill=\"black\" stroke=\"black\" points=\"624.09,-205.89 622.19,-195.46 617.18,-204.8 624.09,-205.89\"/>\n",
       "</g>\n",
       "<!-- 13 -->\n",
       "<g id=\"node14\" class=\"node\">\n",
       "<title>13</title>\n",
       "<path fill=\"#39e581\" stroke=\"black\" d=\"M410.25,-71C410.25,-71 314,-71 314,-71 308,-71 302,-65 302,-59 302,-59 302,-12 302,-12 302,-6 308,0 314,0 314,0 410.25,0 410.25,0 416.25,0 422.25,-6 422.25,-12 422.25,-12 422.25,-59 422.25,-59 422.25,-65 416.25,-71 410.25,-71\"/>\n",
       "<text text-anchor=\"start\" x=\"322.38\" y=\"-53.7\" font-family=\"Helvetica,sans-Serif\" font-size=\"14.00\">entropy = 0.0</text>\n",
       "<text text-anchor=\"start\" x=\"325\" y=\"-37.95\" font-family=\"Helvetica,sans-Serif\" font-size=\"14.00\">samples = 1</text>\n",
       "<text text-anchor=\"start\" x=\"315.62\" y=\"-22.2\" font-family=\"Helvetica,sans-Serif\" font-size=\"14.00\">value = [0, 1, 0]</text>\n",
       "<text text-anchor=\"start\" x=\"310\" y=\"-6.45\" font-family=\"Helvetica,sans-Serif\" font-size=\"14.00\">class = Chinstrap</text>\n",
       "</g>\n",
       "<!-- 12&#45;&gt;13 -->\n",
       "<g id=\"edge13\" class=\"edge\">\n",
       "<title>12&#45;&gt;13</title>\n",
       "<path fill=\"none\" stroke=\"black\" d=\"M442.98,-106.7C432.42,-97.53 421.26,-87.85 410.72,-78.7\"/>\n",
       "<polygon fill=\"black\" stroke=\"black\" points=\"413.03,-76.06 403.18,-72.15 408.44,-81.35 413.03,-76.06\"/>\n",
       "</g>\n",
       "<!-- 14 -->\n",
       "<g id=\"node15\" class=\"node\">\n",
       "<title>14</title>\n",
       "<path fill=\"#e58139\" stroke=\"black\" d=\"M537.62,-71C537.62,-71 452.62,-71 452.62,-71 446.62,-71 440.62,-65 440.62,-59 440.62,-59 440.62,-12 440.62,-12 440.62,-6 446.62,0 452.62,0 452.62,0 537.62,0 537.62,0 543.62,0 549.62,-6 549.62,-12 549.62,-12 549.62,-59 549.62,-59 549.62,-65 543.62,-71 537.62,-71\"/>\n",
       "<text text-anchor=\"start\" x=\"455.38\" y=\"-53.7\" font-family=\"Helvetica,sans-Serif\" font-size=\"14.00\">entropy = 0.0</text>\n",
       "<text text-anchor=\"start\" x=\"458\" y=\"-37.95\" font-family=\"Helvetica,sans-Serif\" font-size=\"14.00\">samples = 3</text>\n",
       "<text text-anchor=\"start\" x=\"448.62\" y=\"-22.2\" font-family=\"Helvetica,sans-Serif\" font-size=\"14.00\">value = [3, 0, 0]</text>\n",
       "<text text-anchor=\"start\" x=\"453.5\" y=\"-6.45\" font-family=\"Helvetica,sans-Serif\" font-size=\"14.00\">class = Adelie</text>\n",
       "</g>\n",
       "<!-- 12&#45;&gt;14 -->\n",
       "<g id=\"edge14\" class=\"edge\">\n",
       "<title>12&#45;&gt;14</title>\n",
       "<path fill=\"none\" stroke=\"black\" d=\"M493.26,-106.7C493.47,-98.82 493.69,-90.55 493.9,-82.57\"/>\n",
       "<polygon fill=\"black\" stroke=\"black\" points=\"497.4,-82.76 494.16,-72.67 490.4,-82.57 497.4,-82.76\"/>\n",
       "</g>\n",
       "<!-- 16 -->\n",
       "<g id=\"node17\" class=\"node\">\n",
       "<title>16</title>\n",
       "<path fill=\"#8139e5\" stroke=\"black\" d=\"M669.62,-71C669.62,-71 584.62,-71 584.62,-71 578.62,-71 572.62,-65 572.62,-59 572.62,-59 572.62,-12 572.62,-12 572.62,-6 578.62,0 584.62,0 584.62,0 669.62,0 669.62,0 675.62,0 681.62,-6 681.62,-12 681.62,-12 681.62,-59 681.62,-59 681.62,-65 675.62,-71 669.62,-71\"/>\n",
       "<text text-anchor=\"start\" x=\"587.38\" y=\"-53.7\" font-family=\"Helvetica,sans-Serif\" font-size=\"14.00\">entropy = 0.0</text>\n",
       "<text text-anchor=\"start\" x=\"590\" y=\"-37.95\" font-family=\"Helvetica,sans-Serif\" font-size=\"14.00\">samples = 1</text>\n",
       "<text text-anchor=\"start\" x=\"580.62\" y=\"-22.2\" font-family=\"Helvetica,sans-Serif\" font-size=\"14.00\">value = [0, 0, 1]</text>\n",
       "<text text-anchor=\"start\" x=\"581.38\" y=\"-6.45\" font-family=\"Helvetica,sans-Serif\" font-size=\"14.00\">class = Gentoo</text>\n",
       "</g>\n",
       "<!-- 15&#45;&gt;16 -->\n",
       "<g id=\"edge16\" class=\"edge\">\n",
       "<title>15&#45;&gt;16</title>\n",
       "<path fill=\"none\" stroke=\"black\" d=\"M628.37,-106.7C628.23,-98.82 628.08,-90.55 627.94,-82.57\"/>\n",
       "<polygon fill=\"black\" stroke=\"black\" points=\"631.44,-82.61 627.77,-72.67 624.44,-82.73 631.44,-82.61\"/>\n",
       "</g>\n",
       "<!-- 17 -->\n",
       "<g id=\"node18\" class=\"node\">\n",
       "<title>17</title>\n",
       "<path fill=\"#39e581\" stroke=\"black\" d=\"M808.25,-71C808.25,-71 712,-71 712,-71 706,-71 700,-65 700,-59 700,-59 700,-12 700,-12 700,-6 706,0 712,0 712,0 808.25,0 808.25,0 814.25,0 820.25,-6 820.25,-12 820.25,-12 820.25,-59 820.25,-59 820.25,-65 814.25,-71 808.25,-71\"/>\n",
       "<text text-anchor=\"start\" x=\"720.38\" y=\"-53.7\" font-family=\"Helvetica,sans-Serif\" font-size=\"14.00\">entropy = 0.0</text>\n",
       "<text text-anchor=\"start\" x=\"723\" y=\"-37.95\" font-family=\"Helvetica,sans-Serif\" font-size=\"14.00\">samples = 4</text>\n",
       "<text text-anchor=\"start\" x=\"713.62\" y=\"-22.2\" font-family=\"Helvetica,sans-Serif\" font-size=\"14.00\">value = [0, 4, 0]</text>\n",
       "<text text-anchor=\"start\" x=\"708\" y=\"-6.45\" font-family=\"Helvetica,sans-Serif\" font-size=\"14.00\">class = Chinstrap</text>\n",
       "</g>\n",
       "<!-- 15&#45;&gt;17 -->\n",
       "<g id=\"edge17\" class=\"edge\">\n",
       "<title>15&#45;&gt;17</title>\n",
       "<path fill=\"none\" stroke=\"black\" d=\"M678.65,-106.7C689.4,-97.44 700.76,-87.65 711.47,-78.42\"/>\n",
       "<polygon fill=\"black\" stroke=\"black\" points=\"713.46,-81.32 718.76,-72.15 708.9,-76.02 713.46,-81.32\"/>\n",
       "</g>\n",
       "<!-- 19 -->\n",
       "<g id=\"node20\" class=\"node\">\n",
       "<title>19</title>\n",
       "<path fill=\"#d5bdf6\" stroke=\"black\" d=\"M873.75,-439.25C873.75,-439.25 762.5,-439.25 762.5,-439.25 756.5,-439.25 750.5,-433.25 750.5,-427.25 750.5,-427.25 750.5,-364.5 750.5,-364.5 750.5,-358.5 756.5,-352.5 762.5,-352.5 762.5,-352.5 873.75,-352.5 873.75,-352.5 879.75,-352.5 885.75,-358.5 885.75,-364.5 885.75,-364.5 885.75,-427.25 885.75,-427.25 885.75,-433.25 879.75,-439.25 873.75,-439.25\"/>\n",
       "<text text-anchor=\"start\" x=\"758.5\" y=\"-421.95\" font-family=\"Helvetica,sans-Serif\" font-size=\"14.00\">Sex_FEMALE ≤ 0.5</text>\n",
       "<text text-anchor=\"start\" x=\"774.62\" y=\"-406.2\" font-family=\"Helvetica,sans-Serif\" font-size=\"14.00\">entropy = 1.42</text>\n",
       "<text text-anchor=\"start\" x=\"777.25\" y=\"-390.45\" font-family=\"Helvetica,sans-Serif\" font-size=\"14.00\">samples = 13</text>\n",
       "<text text-anchor=\"start\" x=\"771.62\" y=\"-374.7\" font-family=\"Helvetica,sans-Serif\" font-size=\"14.00\">value = [2, 4, 7]</text>\n",
       "<text text-anchor=\"start\" x=\"772.38\" y=\"-358.95\" font-family=\"Helvetica,sans-Serif\" font-size=\"14.00\">class = Gentoo</text>\n",
       "</g>\n",
       "<!-- 18&#45;&gt;19 -->\n",
       "<g id=\"edge19\" class=\"edge\">\n",
       "<title>18&#45;&gt;19</title>\n",
       "<path fill=\"none\" stroke=\"black\" d=\"M818.12,-475.05C818.12,-467.21 818.12,-458.92 818.12,-450.79\"/>\n",
       "<polygon fill=\"black\" stroke=\"black\" points=\"821.63,-450.98 818.13,-440.98 814.63,-450.98 821.63,-450.98\"/>\n",
       "</g>\n",
       "<!-- 24 -->\n",
       "<g id=\"node25\" class=\"node\">\n",
       "<title>24</title>\n",
       "<path fill=\"#8139e5\" stroke=\"black\" d=\"M1008.38,-431.38C1008.38,-431.38 915.88,-431.38 915.88,-431.38 909.88,-431.38 903.88,-425.38 903.88,-419.38 903.88,-419.38 903.88,-372.38 903.88,-372.38 903.88,-366.38 909.88,-360.38 915.88,-360.38 915.88,-360.38 1008.38,-360.38 1008.38,-360.38 1014.38,-360.38 1020.38,-366.38 1020.38,-372.38 1020.38,-372.38 1020.38,-419.38 1020.38,-419.38 1020.38,-425.38 1014.38,-431.38 1008.38,-431.38\"/>\n",
       "<text text-anchor=\"start\" x=\"922.38\" y=\"-414.07\" font-family=\"Helvetica,sans-Serif\" font-size=\"14.00\">entropy = 0.0</text>\n",
       "<text text-anchor=\"start\" x=\"921.25\" y=\"-398.32\" font-family=\"Helvetica,sans-Serif\" font-size=\"14.00\">samples = 87</text>\n",
       "<text text-anchor=\"start\" x=\"911.88\" y=\"-382.57\" font-family=\"Helvetica,sans-Serif\" font-size=\"14.00\">value = [0, 0, 87]</text>\n",
       "<text text-anchor=\"start\" x=\"916.38\" y=\"-366.82\" font-family=\"Helvetica,sans-Serif\" font-size=\"14.00\">class = Gentoo</text>\n",
       "</g>\n",
       "<!-- 18&#45;&gt;24 -->\n",
       "<g id=\"edge24\" class=\"edge\">\n",
       "<title>18&#45;&gt;24</title>\n",
       "<path fill=\"none\" stroke=\"black\" d=\"M868.89,-475.05C882.98,-463.24 898.25,-450.44 912.28,-438.68\"/>\n",
       "<polygon fill=\"black\" stroke=\"black\" points=\"914.26,-441.58 919.67,-432.48 909.76,-436.22 914.26,-441.58\"/>\n",
       "</g>\n",
       "<!-- 20 -->\n",
       "<g id=\"node21\" class=\"node\">\n",
       "<title>20</title>\n",
       "<path fill=\"#9cf2c0\" stroke=\"black\" d=\"M903,-316.5C903,-316.5 733.25,-316.5 733.25,-316.5 727.25,-316.5 721.25,-310.5 721.25,-304.5 721.25,-304.5 721.25,-241.75 721.25,-241.75 721.25,-235.75 727.25,-229.75 733.25,-229.75 733.25,-229.75 903,-229.75 903,-229.75 909,-229.75 915,-235.75 915,-241.75 915,-241.75 915,-304.5 915,-304.5 915,-310.5 909,-316.5 903,-316.5\"/>\n",
       "<text text-anchor=\"start\" x=\"729.25\" y=\"-299.2\" font-family=\"Helvetica,sans-Serif\" font-size=\"14.00\">Culmen Length (mm) ≤ 46.55</text>\n",
       "<text text-anchor=\"start\" x=\"770.88\" y=\"-283.45\" font-family=\"Helvetica,sans-Serif\" font-size=\"14.00\">entropy = 0.918</text>\n",
       "<text text-anchor=\"start\" x=\"781\" y=\"-267.7\" font-family=\"Helvetica,sans-Serif\" font-size=\"14.00\">samples = 6</text>\n",
       "<text text-anchor=\"start\" x=\"771.62\" y=\"-251.95\" font-family=\"Helvetica,sans-Serif\" font-size=\"14.00\">value = [2, 4, 0]</text>\n",
       "<text text-anchor=\"start\" x=\"766\" y=\"-236.2\" font-family=\"Helvetica,sans-Serif\" font-size=\"14.00\">class = Chinstrap</text>\n",
       "</g>\n",
       "<!-- 19&#45;&gt;20 -->\n",
       "<g id=\"edge20\" class=\"edge\">\n",
       "<title>19&#45;&gt;20</title>\n",
       "<path fill=\"none\" stroke=\"black\" d=\"M818.12,-352.3C818.12,-344.46 818.12,-336.17 818.12,-328.04\"/>\n",
       "<polygon fill=\"black\" stroke=\"black\" points=\"821.63,-328.23 818.13,-318.23 814.63,-328.23 821.63,-328.23\"/>\n",
       "</g>\n",
       "<!-- 23 -->\n",
       "<g id=\"node24\" class=\"node\">\n",
       "<title>23</title>\n",
       "<path fill=\"#8139e5\" stroke=\"black\" d=\"M1029.62,-308.62C1029.62,-308.62 944.62,-308.62 944.62,-308.62 938.62,-308.62 932.62,-302.62 932.62,-296.62 932.62,-296.62 932.62,-249.62 932.62,-249.62 932.62,-243.62 938.62,-237.62 944.62,-237.62 944.62,-237.62 1029.62,-237.62 1029.62,-237.62 1035.62,-237.62 1041.62,-243.62 1041.62,-249.62 1041.62,-249.62 1041.62,-296.62 1041.62,-296.62 1041.62,-302.62 1035.62,-308.62 1029.62,-308.62\"/>\n",
       "<text text-anchor=\"start\" x=\"947.38\" y=\"-291.32\" font-family=\"Helvetica,sans-Serif\" font-size=\"14.00\">entropy = 0.0</text>\n",
       "<text text-anchor=\"start\" x=\"950\" y=\"-275.57\" font-family=\"Helvetica,sans-Serif\" font-size=\"14.00\">samples = 7</text>\n",
       "<text text-anchor=\"start\" x=\"940.62\" y=\"-259.82\" font-family=\"Helvetica,sans-Serif\" font-size=\"14.00\">value = [0, 0, 7]</text>\n",
       "<text text-anchor=\"start\" x=\"941.38\" y=\"-244.07\" font-family=\"Helvetica,sans-Serif\" font-size=\"14.00\">class = Gentoo</text>\n",
       "</g>\n",
       "<!-- 19&#45;&gt;23 -->\n",
       "<g id=\"edge23\" class=\"edge\">\n",
       "<title>19&#45;&gt;23</title>\n",
       "<path fill=\"none\" stroke=\"black\" d=\"M877.71,-352.3C894.47,-340.33 912.66,-327.33 929.31,-315.43\"/>\n",
       "<polygon fill=\"black\" stroke=\"black\" points=\"931.05,-318.49 937.16,-309.83 926.98,-312.79 931.05,-318.49\"/>\n",
       "</g>\n",
       "<!-- 21 -->\n",
       "<g id=\"node22\" class=\"node\">\n",
       "<title>21</title>\n",
       "<path fill=\"#e58139\" stroke=\"black\" d=\"M841.62,-185.88C841.62,-185.88 756.62,-185.88 756.62,-185.88 750.62,-185.88 744.62,-179.88 744.62,-173.88 744.62,-173.88 744.62,-126.88 744.62,-126.88 744.62,-120.88 750.62,-114.88 756.62,-114.88 756.62,-114.88 841.62,-114.88 841.62,-114.88 847.62,-114.88 853.62,-120.88 853.62,-126.88 853.62,-126.88 853.62,-173.88 853.62,-173.88 853.62,-179.88 847.62,-185.88 841.62,-185.88\"/>\n",
       "<text text-anchor=\"start\" x=\"759.38\" y=\"-168.57\" font-family=\"Helvetica,sans-Serif\" font-size=\"14.00\">entropy = 0.0</text>\n",
       "<text text-anchor=\"start\" x=\"762\" y=\"-152.82\" font-family=\"Helvetica,sans-Serif\" font-size=\"14.00\">samples = 2</text>\n",
       "<text text-anchor=\"start\" x=\"752.62\" y=\"-137.07\" font-family=\"Helvetica,sans-Serif\" font-size=\"14.00\">value = [2, 0, 0]</text>\n",
       "<text text-anchor=\"start\" x=\"757.5\" y=\"-121.33\" font-family=\"Helvetica,sans-Serif\" font-size=\"14.00\">class = Adelie</text>\n",
       "</g>\n",
       "<!-- 20&#45;&gt;21 -->\n",
       "<g id=\"edge21\" class=\"edge\">\n",
       "<title>20&#45;&gt;21</title>\n",
       "<path fill=\"none\" stroke=\"black\" d=\"M811.43,-229.55C809.78,-219.08 808.01,-207.83 806.34,-197.21\"/>\n",
       "<polygon fill=\"black\" stroke=\"black\" points=\"809.82,-196.83 804.81,-187.5 802.91,-197.92 809.82,-196.83\"/>\n",
       "</g>\n",
       "<!-- 22 -->\n",
       "<g id=\"node23\" class=\"node\">\n",
       "<title>22</title>\n",
       "<path fill=\"#39e581\" stroke=\"black\" d=\"M980.25,-185.88C980.25,-185.88 884,-185.88 884,-185.88 878,-185.88 872,-179.88 872,-173.88 872,-173.88 872,-126.88 872,-126.88 872,-120.88 878,-114.88 884,-114.88 884,-114.88 980.25,-114.88 980.25,-114.88 986.25,-114.88 992.25,-120.88 992.25,-126.88 992.25,-126.88 992.25,-173.88 992.25,-173.88 992.25,-179.88 986.25,-185.88 980.25,-185.88\"/>\n",
       "<text text-anchor=\"start\" x=\"892.38\" y=\"-168.57\" font-family=\"Helvetica,sans-Serif\" font-size=\"14.00\">entropy = 0.0</text>\n",
       "<text text-anchor=\"start\" x=\"895\" y=\"-152.82\" font-family=\"Helvetica,sans-Serif\" font-size=\"14.00\">samples = 4</text>\n",
       "<text text-anchor=\"start\" x=\"885.62\" y=\"-137.07\" font-family=\"Helvetica,sans-Serif\" font-size=\"14.00\">value = [0, 4, 0]</text>\n",
       "<text text-anchor=\"start\" x=\"880\" y=\"-121.33\" font-family=\"Helvetica,sans-Serif\" font-size=\"14.00\">class = Chinstrap</text>\n",
       "</g>\n",
       "<!-- 20&#45;&gt;22 -->\n",
       "<g id=\"edge22\" class=\"edge\">\n",
       "<title>20&#45;&gt;22</title>\n",
       "<path fill=\"none\" stroke=\"black\" d=\"M858.32,-229.55C869.15,-218.08 880.87,-205.66 891.72,-194.18\"/>\n",
       "<polygon fill=\"black\" stroke=\"black\" points=\"894.07,-196.78 898.39,-187.1 888.98,-191.97 894.07,-196.78\"/>\n",
       "</g>\n",
       "</g>\n",
       "</svg>\n"
      ],
      "text/plain": [
       "<graphviz.sources.Source at 0x2cabd2556e0>"
      ]
     },
     "metadata": {},
     "output_type": "display_data"
    },
    {
     "name": "stdout",
     "output_type": "stream",
     "text": [
      "✓ Decision tree (depth=None) visualized and saved to output/max_depth_graphviz\\graph_model_80_20_depth_None.png\n"
     ]
    },
    {
     "data": {
      "image/svg+xml": [
       "<?xml version=\"1.0\" encoding=\"UTF-8\" standalone=\"no\"?>\n",
       "<!DOCTYPE svg PUBLIC \"-//W3C//DTD SVG 1.1//EN\"\n",
       " \"http://www.w3.org/Graphics/SVG/1.1/DTD/svg11.dtd\">\n",
       "<!-- Generated by graphviz version 12.2.1 (20241206.2353)\n",
       " -->\n",
       "<!-- Title: Tree Pages: 1 -->\n",
       "<svg width=\"274pt\" height=\"202pt\"\n",
       " viewBox=\"0.00 0.00 274.00 201.75\" xmlns=\"http://www.w3.org/2000/svg\" xmlns:xlink=\"http://www.w3.org/1999/xlink\">\n",
       "<g id=\"graph0\" class=\"graph\" transform=\"scale(1 1) rotate(0) translate(4 197.75)\">\n",
       "<title>Tree</title>\n",
       "<polygon fill=\"white\" stroke=\"none\" points=\"-4,4 -4,-197.75 270,-197.75 270,4 -4,4\"/>\n",
       "<!-- 0 -->\n",
       "<g id=\"node1\" class=\"node\">\n",
       "<title>0</title>\n",
       "<path fill=\"#fcf3ec\" stroke=\"black\" d=\"M218.62,-193.75C218.62,-193.75 54.88,-193.75 54.88,-193.75 48.88,-193.75 42.88,-187.75 42.88,-181.75 42.88,-181.75 42.88,-119 42.88,-119 42.88,-113 48.88,-107 54.88,-107 54.88,-107 218.62,-107 218.62,-107 224.62,-107 230.62,-113 230.62,-119 230.62,-119 230.62,-181.75 230.62,-181.75 230.62,-187.75 224.62,-193.75 218.62,-193.75\"/>\n",
       "<text text-anchor=\"start\" x=\"50.88\" y=\"-176.45\" font-family=\"Helvetica,sans-Serif\" font-size=\"14.00\">Flipper Length (mm) ≤ 206.0</text>\n",
       "<text text-anchor=\"start\" x=\"89.5\" y=\"-160.7\" font-family=\"Helvetica,sans-Serif\" font-size=\"14.00\">entropy = 1.526</text>\n",
       "<text text-anchor=\"start\" x=\"92.12\" y=\"-144.95\" font-family=\"Helvetica,sans-Serif\" font-size=\"14.00\">samples = 260</text>\n",
       "<text text-anchor=\"start\" x=\"76\" y=\"-129.2\" font-family=\"Helvetica,sans-Serif\" font-size=\"14.00\">value = [111, 54, 95]</text>\n",
       "<text text-anchor=\"start\" x=\"95.12\" y=\"-113.45\" font-family=\"Helvetica,sans-Serif\" font-size=\"14.00\">class = Adelie</text>\n",
       "</g>\n",
       "<!-- 1 -->\n",
       "<g id=\"node2\" class=\"node\">\n",
       "<title>1</title>\n",
       "<path fill=\"#f1bb95\" stroke=\"black\" d=\"M119.5,-71C119.5,-71 12,-71 12,-71 6,-71 0,-65 0,-59 0,-59 0,-12 0,-12 0,-6 6,0 12,0 12,0 119.5,0 119.5,0 125.5,0 131.5,-6 131.5,-12 131.5,-12 131.5,-59 131.5,-59 131.5,-65 125.5,-71 119.5,-71\"/>\n",
       "<text text-anchor=\"start\" x=\"18.5\" y=\"-53.7\" font-family=\"Helvetica,sans-Serif\" font-size=\"14.00\">entropy = 0.947</text>\n",
       "<text text-anchor=\"start\" x=\"21.12\" y=\"-37.95\" font-family=\"Helvetica,sans-Serif\" font-size=\"14.00\">samples = 160</text>\n",
       "<text text-anchor=\"start\" x=\"8\" y=\"-22.2\" font-family=\"Helvetica,sans-Serif\" font-size=\"14.00\">value = [109, 50, 1]</text>\n",
       "<text text-anchor=\"start\" x=\"24.12\" y=\"-6.45\" font-family=\"Helvetica,sans-Serif\" font-size=\"14.00\">class = Adelie</text>\n",
       "</g>\n",
       "<!-- 0&#45;&gt;1 -->\n",
       "<g id=\"edge1\" class=\"edge\">\n",
       "<title>0&#45;&gt;1</title>\n",
       "<path fill=\"none\" stroke=\"black\" d=\"M109.91,-106.7C104.6,-98.27 99.02,-89.39 93.68,-80.9\"/>\n",
       "<polygon fill=\"black\" stroke=\"black\" points=\"96.64,-79.04 88.36,-72.44 90.72,-82.77 96.64,-79.04\"/>\n",
       "<text text-anchor=\"middle\" x=\"82\" y=\"-90.11\" font-family=\"Helvetica,sans-Serif\" font-size=\"14.00\">True</text>\n",
       "</g>\n",
       "<!-- 2 -->\n",
       "<g id=\"node3\" class=\"node\">\n",
       "<title>2</title>\n",
       "<path fill=\"#8945e7\" stroke=\"black\" d=\"M254,-71C254,-71 161.5,-71 161.5,-71 155.5,-71 149.5,-65 149.5,-59 149.5,-59 149.5,-12 149.5,-12 149.5,-6 155.5,0 161.5,0 161.5,0 254,0 254,0 260,0 266,-6 266,-12 266,-12 266,-59 266,-59 266,-65 260,-71 254,-71\"/>\n",
       "<text text-anchor=\"start\" x=\"160.5\" y=\"-53.7\" font-family=\"Helvetica,sans-Serif\" font-size=\"14.00\">entropy = 0.383</text>\n",
       "<text text-anchor=\"start\" x=\"163.12\" y=\"-37.95\" font-family=\"Helvetica,sans-Serif\" font-size=\"14.00\">samples = 100</text>\n",
       "<text text-anchor=\"start\" x=\"157.5\" y=\"-22.2\" font-family=\"Helvetica,sans-Serif\" font-size=\"14.00\">value = [2, 4, 94]</text>\n",
       "<text text-anchor=\"start\" x=\"162\" y=\"-6.45\" font-family=\"Helvetica,sans-Serif\" font-size=\"14.00\">class = Gentoo</text>\n",
       "</g>\n",
       "<!-- 0&#45;&gt;2 -->\n",
       "<g id=\"edge2\" class=\"edge\">\n",
       "<title>0&#45;&gt;2</title>\n",
       "<path fill=\"none\" stroke=\"black\" d=\"M163.59,-106.7C168.9,-98.27 174.48,-89.39 179.82,-80.9\"/>\n",
       "<polygon fill=\"black\" stroke=\"black\" points=\"182.78,-82.77 185.14,-72.44 176.86,-79.04 182.78,-82.77\"/>\n",
       "<text text-anchor=\"middle\" x=\"191.5\" y=\"-90.11\" font-family=\"Helvetica,sans-Serif\" font-size=\"14.00\">False</text>\n",
       "</g>\n",
       "</g>\n",
       "</svg>\n"
      ],
      "text/plain": [
       "<graphviz.sources.Source at 0x2cabec54a70>"
      ]
     },
     "metadata": {},
     "output_type": "display_data"
    },
    {
     "name": "stdout",
     "output_type": "stream",
     "text": [
      "✓ Decision tree (depth=1) visualized and saved to output/max_depth_graphviz\\graph_model_80_20_depth_1.png\n"
     ]
    },
    {
     "data": {
      "image/svg+xml": [
       "<?xml version=\"1.0\" encoding=\"UTF-8\" standalone=\"no\"?>\n",
       "<!DOCTYPE svg PUBLIC \"-//W3C//DTD SVG 1.1//EN\"\n",
       " \"http://www.w3.org/Graphics/SVG/1.1/DTD/svg11.dtd\">\n",
       "<!-- Generated by graphviz version 12.2.1 (20241206.2353)\n",
       " -->\n",
       "<!-- Title: Tree Pages: 1 -->\n",
       "<svg width=\"561pt\" height=\"325pt\"\n",
       " viewBox=\"0.00 0.00 561.25 324.50\" xmlns=\"http://www.w3.org/2000/svg\" xmlns:xlink=\"http://www.w3.org/1999/xlink\">\n",
       "<g id=\"graph0\" class=\"graph\" transform=\"scale(1 1) rotate(0) translate(4 320.5)\">\n",
       "<title>Tree</title>\n",
       "<polygon fill=\"white\" stroke=\"none\" points=\"-4,4 -4,-320.5 557.25,-320.5 557.25,4 -4,4\"/>\n",
       "<!-- 0 -->\n",
       "<g id=\"node1\" class=\"node\">\n",
       "<title>0</title>\n",
       "<path fill=\"#fcf3ec\" stroke=\"black\" d=\"M363.88,-316.5C363.88,-316.5 200.12,-316.5 200.12,-316.5 194.12,-316.5 188.12,-310.5 188.12,-304.5 188.12,-304.5 188.12,-241.75 188.12,-241.75 188.12,-235.75 194.12,-229.75 200.12,-229.75 200.12,-229.75 363.88,-229.75 363.88,-229.75 369.88,-229.75 375.88,-235.75 375.88,-241.75 375.88,-241.75 375.88,-304.5 375.88,-304.5 375.88,-310.5 369.88,-316.5 363.88,-316.5\"/>\n",
       "<text text-anchor=\"start\" x=\"196.12\" y=\"-299.2\" font-family=\"Helvetica,sans-Serif\" font-size=\"14.00\">Flipper Length (mm) ≤ 206.0</text>\n",
       "<text text-anchor=\"start\" x=\"234.75\" y=\"-283.45\" font-family=\"Helvetica,sans-Serif\" font-size=\"14.00\">entropy = 1.526</text>\n",
       "<text text-anchor=\"start\" x=\"237.38\" y=\"-267.7\" font-family=\"Helvetica,sans-Serif\" font-size=\"14.00\">samples = 260</text>\n",
       "<text text-anchor=\"start\" x=\"221.25\" y=\"-251.95\" font-family=\"Helvetica,sans-Serif\" font-size=\"14.00\">value = [111, 54, 95]</text>\n",
       "<text text-anchor=\"start\" x=\"240.38\" y=\"-236.2\" font-family=\"Helvetica,sans-Serif\" font-size=\"14.00\">class = Adelie</text>\n",
       "</g>\n",
       "<!-- 1 -->\n",
       "<g id=\"node2\" class=\"node\">\n",
       "<title>1</title>\n",
       "<path fill=\"#f1bb95\" stroke=\"black\" d=\"M268.12,-193.75C268.12,-193.75 105.88,-193.75 105.88,-193.75 99.88,-193.75 93.88,-187.75 93.88,-181.75 93.88,-181.75 93.88,-119 93.88,-119 93.88,-113 99.88,-107 105.88,-107 105.88,-107 268.12,-107 268.12,-107 274.12,-107 280.12,-113 280.12,-119 280.12,-119 280.12,-181.75 280.12,-181.75 280.12,-187.75 274.12,-193.75 268.12,-193.75\"/>\n",
       "<text text-anchor=\"start\" x=\"101.88\" y=\"-176.45\" font-family=\"Helvetica,sans-Serif\" font-size=\"14.00\">Culmen Length (mm) ≤ 44.2</text>\n",
       "<text text-anchor=\"start\" x=\"139.75\" y=\"-160.7\" font-family=\"Helvetica,sans-Serif\" font-size=\"14.00\">entropy = 0.947</text>\n",
       "<text text-anchor=\"start\" x=\"142.38\" y=\"-144.95\" font-family=\"Helvetica,sans-Serif\" font-size=\"14.00\">samples = 160</text>\n",
       "<text text-anchor=\"start\" x=\"129.25\" y=\"-129.2\" font-family=\"Helvetica,sans-Serif\" font-size=\"14.00\">value = [109, 50, 1]</text>\n",
       "<text text-anchor=\"start\" x=\"145.38\" y=\"-113.45\" font-family=\"Helvetica,sans-Serif\" font-size=\"14.00\">class = Adelie</text>\n",
       "</g>\n",
       "<!-- 0&#45;&gt;1 -->\n",
       "<g id=\"edge1\" class=\"edge\">\n",
       "<title>0&#45;&gt;1</title>\n",
       "<path fill=\"none\" stroke=\"black\" d=\"M248.51,-229.55C241.7,-220.9 234.46,-211.7 227.44,-202.78\"/>\n",
       "<polygon fill=\"black\" stroke=\"black\" points=\"230.38,-200.85 221.45,-195.16 224.88,-205.18 230.38,-200.85\"/>\n",
       "<text text-anchor=\"middle\" x=\"217.55\" y=\"-213.37\" font-family=\"Helvetica,sans-Serif\" font-size=\"14.00\">True</text>\n",
       "</g>\n",
       "<!-- 4 -->\n",
       "<g id=\"node5\" class=\"node\">\n",
       "<title>4</title>\n",
       "<path fill=\"#8945e7\" stroke=\"black\" d=\"M446,-193.75C446,-193.75 310,-193.75 310,-193.75 304,-193.75 298,-187.75 298,-181.75 298,-181.75 298,-119 298,-119 298,-113 304,-107 310,-107 310,-107 446,-107 446,-107 452,-107 458,-113 458,-119 458,-119 458,-181.75 458,-181.75 458,-187.75 452,-193.75 446,-193.75\"/>\n",
       "<text text-anchor=\"start\" x=\"306\" y=\"-176.45\" font-family=\"Helvetica,sans-Serif\" font-size=\"14.00\">Body Mass (g) ≤ 4325.0</text>\n",
       "<text text-anchor=\"start\" x=\"330.75\" y=\"-160.7\" font-family=\"Helvetica,sans-Serif\" font-size=\"14.00\">entropy = 0.383</text>\n",
       "<text text-anchor=\"start\" x=\"333.38\" y=\"-144.95\" font-family=\"Helvetica,sans-Serif\" font-size=\"14.00\">samples = 100</text>\n",
       "<text text-anchor=\"start\" x=\"327.75\" y=\"-129.2\" font-family=\"Helvetica,sans-Serif\" font-size=\"14.00\">value = [2, 4, 94]</text>\n",
       "<text text-anchor=\"start\" x=\"332.25\" y=\"-113.45\" font-family=\"Helvetica,sans-Serif\" font-size=\"14.00\">class = Gentoo</text>\n",
       "</g>\n",
       "<!-- 0&#45;&gt;4 -->\n",
       "<g id=\"edge4\" class=\"edge\">\n",
       "<title>0&#45;&gt;4</title>\n",
       "<path fill=\"none\" stroke=\"black\" d=\"M315.85,-229.55C322.73,-220.9 330.04,-211.7 337.13,-202.78\"/>\n",
       "<polygon fill=\"black\" stroke=\"black\" points=\"339.71,-205.16 343.19,-195.15 334.23,-200.8 339.71,-205.16\"/>\n",
       "<text text-anchor=\"middle\" x=\"346.97\" y=\"-213.38\" font-family=\"Helvetica,sans-Serif\" font-size=\"14.00\">False</text>\n",
       "</g>\n",
       "<!-- 2 -->\n",
       "<g id=\"node3\" class=\"node\">\n",
       "<title>2</title>\n",
       "<path fill=\"#e6853f\" stroke=\"black\" d=\"M112,-71C112,-71 12,-71 12,-71 6,-71 0,-65 0,-59 0,-59 0,-12 0,-12 0,-6 6,0 12,0 12,0 112,0 112,0 118,0 124,-6 124,-12 124,-12 124,-59 124,-59 124,-65 118,-71 112,-71\"/>\n",
       "<text text-anchor=\"start\" x=\"14.75\" y=\"-53.7\" font-family=\"Helvetica,sans-Serif\" font-size=\"14.00\">entropy = 0.182</text>\n",
       "<text text-anchor=\"start\" x=\"17.38\" y=\"-37.95\" font-family=\"Helvetica,sans-Serif\" font-size=\"14.00\">samples = 109</text>\n",
       "<text text-anchor=\"start\" x=\"8\" y=\"-22.2\" font-family=\"Helvetica,sans-Serif\" font-size=\"14.00\">value = [106, 3, 0]</text>\n",
       "<text text-anchor=\"start\" x=\"20.38\" y=\"-6.45\" font-family=\"Helvetica,sans-Serif\" font-size=\"14.00\">class = Adelie</text>\n",
       "</g>\n",
       "<!-- 1&#45;&gt;2 -->\n",
       "<g id=\"edge2\" class=\"edge\">\n",
       "<title>1&#45;&gt;2</title>\n",
       "<path fill=\"none\" stroke=\"black\" d=\"M139.74,-106.7C129.59,-97.53 118.86,-87.85 108.73,-78.7\"/>\n",
       "<polygon fill=\"black\" stroke=\"black\" points=\"111.27,-76.28 101.5,-72.17 106.58,-81.47 111.27,-76.28\"/>\n",
       "</g>\n",
       "<!-- 3 -->\n",
       "<g id=\"node4\" class=\"node\">\n",
       "<title>3</title>\n",
       "<path fill=\"#4ae78c\" stroke=\"black\" d=\"M250.12,-71C250.12,-71 153.88,-71 153.88,-71 147.88,-71 141.88,-65 141.88,-59 141.88,-59 141.88,-12 141.88,-12 141.88,-6 147.88,0 153.88,0 153.88,0 250.12,0 250.12,0 256.12,0 262.12,-6 262.12,-12 262.12,-12 262.12,-59 262.12,-59 262.12,-65 256.12,-71 250.12,-71\"/>\n",
       "<text text-anchor=\"start\" x=\"158.5\" y=\"-53.7\" font-family=\"Helvetica,sans-Serif\" font-size=\"14.00\">entropy = 0.46</text>\n",
       "<text text-anchor=\"start\" x=\"161.12\" y=\"-37.95\" font-family=\"Helvetica,sans-Serif\" font-size=\"14.00\">samples = 51</text>\n",
       "<text text-anchor=\"start\" x=\"151.75\" y=\"-22.2\" font-family=\"Helvetica,sans-Serif\" font-size=\"14.00\">value = [3, 47, 1]</text>\n",
       "<text text-anchor=\"start\" x=\"149.88\" y=\"-6.45\" font-family=\"Helvetica,sans-Serif\" font-size=\"14.00\">class = Chinstrap</text>\n",
       "</g>\n",
       "<!-- 1&#45;&gt;3 -->\n",
       "<g id=\"edge3\" class=\"edge\">\n",
       "<title>1&#45;&gt;3</title>\n",
       "<path fill=\"none\" stroke=\"black\" d=\"M192.67,-106.7C193.72,-98.82 194.82,-90.55 195.88,-82.57\"/>\n",
       "<polygon fill=\"black\" stroke=\"black\" points=\"199.35,-83.03 197.19,-72.66 192.41,-82.11 199.35,-83.03\"/>\n",
       "</g>\n",
       "<!-- 5 -->\n",
       "<g id=\"node6\" class=\"node\">\n",
       "<title>5</title>\n",
       "<path fill=\"#d5bdf6\" stroke=\"black\" d=\"M406.5,-71C406.5,-71 321.5,-71 321.5,-71 315.5,-71 309.5,-65 309.5,-59 309.5,-59 309.5,-12 309.5,-12 309.5,-6 315.5,0 321.5,0 321.5,0 406.5,0 406.5,0 412.5,0 418.5,-6 418.5,-12 418.5,-12 418.5,-59 418.5,-59 418.5,-65 412.5,-71 406.5,-71\"/>\n",
       "<text text-anchor=\"start\" x=\"320.5\" y=\"-53.7\" font-family=\"Helvetica,sans-Serif\" font-size=\"14.00\">entropy = 1.42</text>\n",
       "<text text-anchor=\"start\" x=\"323.12\" y=\"-37.95\" font-family=\"Helvetica,sans-Serif\" font-size=\"14.00\">samples = 13</text>\n",
       "<text text-anchor=\"start\" x=\"317.5\" y=\"-22.2\" font-family=\"Helvetica,sans-Serif\" font-size=\"14.00\">value = [2, 4, 7]</text>\n",
       "<text text-anchor=\"start\" x=\"318.25\" y=\"-6.45\" font-family=\"Helvetica,sans-Serif\" font-size=\"14.00\">class = Gentoo</text>\n",
       "</g>\n",
       "<!-- 4&#45;&gt;5 -->\n",
       "<g id=\"edge5\" class=\"edge\">\n",
       "<title>4&#45;&gt;5</title>\n",
       "<path fill=\"none\" stroke=\"black\" d=\"M372.71,-106.7C371.73,-98.82 370.7,-90.55 369.71,-82.57\"/>\n",
       "<polygon fill=\"black\" stroke=\"black\" points=\"373.19,-82.15 368.48,-72.66 366.24,-83.01 373.19,-82.15\"/>\n",
       "</g>\n",
       "<!-- 6 -->\n",
       "<g id=\"node7\" class=\"node\">\n",
       "<title>6</title>\n",
       "<path fill=\"#8139e5\" stroke=\"black\" d=\"M541.25,-71C541.25,-71 448.75,-71 448.75,-71 442.75,-71 436.75,-65 436.75,-59 436.75,-59 436.75,-12 436.75,-12 436.75,-6 442.75,0 448.75,0 448.75,0 541.25,0 541.25,0 547.25,0 553.25,-6 553.25,-12 553.25,-12 553.25,-59 553.25,-59 553.25,-65 547.25,-71 541.25,-71\"/>\n",
       "<text text-anchor=\"start\" x=\"455.25\" y=\"-53.7\" font-family=\"Helvetica,sans-Serif\" font-size=\"14.00\">entropy = 0.0</text>\n",
       "<text text-anchor=\"start\" x=\"454.12\" y=\"-37.95\" font-family=\"Helvetica,sans-Serif\" font-size=\"14.00\">samples = 87</text>\n",
       "<text text-anchor=\"start\" x=\"444.75\" y=\"-22.2\" font-family=\"Helvetica,sans-Serif\" font-size=\"14.00\">value = [0, 0, 87]</text>\n",
       "<text text-anchor=\"start\" x=\"449.25\" y=\"-6.45\" font-family=\"Helvetica,sans-Serif\" font-size=\"14.00\">class = Gentoo</text>\n",
       "</g>\n",
       "<!-- 4&#45;&gt;6 -->\n",
       "<g id=\"edge6\" class=\"edge\">\n",
       "<title>4&#45;&gt;6</title>\n",
       "<path fill=\"none\" stroke=\"black\" d=\"M422.23,-106.7C431.64,-97.62 441.58,-88.04 450.98,-78.97\"/>\n",
       "<polygon fill=\"black\" stroke=\"black\" points=\"453.22,-81.67 457.99,-72.21 448.36,-76.63 453.22,-81.67\"/>\n",
       "</g>\n",
       "</g>\n",
       "</svg>\n"
      ],
      "text/plain": [
       "<graphviz.sources.Source at 0x2cabd27f240>"
      ]
     },
     "metadata": {},
     "output_type": "display_data"
    },
    {
     "name": "stdout",
     "output_type": "stream",
     "text": [
      "✓ Decision tree (depth=2) visualized and saved to output/max_depth_graphviz\\graph_model_80_20_depth_2.png\n"
     ]
    },
    {
     "data": {
      "image/svg+xml": [
       "<?xml version=\"1.0\" encoding=\"UTF-8\" standalone=\"no\"?>\n",
       "<!DOCTYPE svg PUBLIC \"-//W3C//DTD SVG 1.1//EN\"\n",
       " \"http://www.w3.org/Graphics/SVG/1.1/DTD/svg11.dtd\">\n",
       "<!-- Generated by graphviz version 12.2.1 (20241206.2353)\n",
       " -->\n",
       "<!-- Title: Tree Pages: 1 -->\n",
       "<svg width=\"802pt\" height=\"447pt\"\n",
       " viewBox=\"0.00 0.00 801.50 447.25\" xmlns=\"http://www.w3.org/2000/svg\" xmlns:xlink=\"http://www.w3.org/1999/xlink\">\n",
       "<g id=\"graph0\" class=\"graph\" transform=\"scale(1 1) rotate(0) translate(4 443.25)\">\n",
       "<title>Tree</title>\n",
       "<polygon fill=\"white\" stroke=\"none\" points=\"-4,4 -4,-443.25 797.5,-443.25 797.5,4 -4,4\"/>\n",
       "<!-- 0 -->\n",
       "<g id=\"node1\" class=\"node\">\n",
       "<title>0</title>\n",
       "<path fill=\"#fcf3ec\" stroke=\"black\" d=\"M586.12,-439.25C586.12,-439.25 422.38,-439.25 422.38,-439.25 416.38,-439.25 410.38,-433.25 410.38,-427.25 410.38,-427.25 410.38,-364.5 410.38,-364.5 410.38,-358.5 416.38,-352.5 422.38,-352.5 422.38,-352.5 586.12,-352.5 586.12,-352.5 592.12,-352.5 598.12,-358.5 598.12,-364.5 598.12,-364.5 598.12,-427.25 598.12,-427.25 598.12,-433.25 592.12,-439.25 586.12,-439.25\"/>\n",
       "<text text-anchor=\"start\" x=\"418.38\" y=\"-421.95\" font-family=\"Helvetica,sans-Serif\" font-size=\"14.00\">Flipper Length (mm) ≤ 206.0</text>\n",
       "<text text-anchor=\"start\" x=\"457\" y=\"-406.2\" font-family=\"Helvetica,sans-Serif\" font-size=\"14.00\">entropy = 1.526</text>\n",
       "<text text-anchor=\"start\" x=\"459.62\" y=\"-390.45\" font-family=\"Helvetica,sans-Serif\" font-size=\"14.00\">samples = 260</text>\n",
       "<text text-anchor=\"start\" x=\"443.5\" y=\"-374.7\" font-family=\"Helvetica,sans-Serif\" font-size=\"14.00\">value = [111, 54, 95]</text>\n",
       "<text text-anchor=\"start\" x=\"462.62\" y=\"-358.95\" font-family=\"Helvetica,sans-Serif\" font-size=\"14.00\">class = Adelie</text>\n",
       "</g>\n",
       "<!-- 1 -->\n",
       "<g id=\"node2\" class=\"node\">\n",
       "<title>1</title>\n",
       "<path fill=\"#f1bb95\" stroke=\"black\" d=\"M479.38,-316.5C479.38,-316.5 317.12,-316.5 317.12,-316.5 311.12,-316.5 305.12,-310.5 305.12,-304.5 305.12,-304.5 305.12,-241.75 305.12,-241.75 305.12,-235.75 311.12,-229.75 317.12,-229.75 317.12,-229.75 479.38,-229.75 479.38,-229.75 485.38,-229.75 491.38,-235.75 491.38,-241.75 491.38,-241.75 491.38,-304.5 491.38,-304.5 491.38,-310.5 485.38,-316.5 479.38,-316.5\"/>\n",
       "<text text-anchor=\"start\" x=\"313.12\" y=\"-299.2\" font-family=\"Helvetica,sans-Serif\" font-size=\"14.00\">Culmen Length (mm) ≤ 44.2</text>\n",
       "<text text-anchor=\"start\" x=\"351\" y=\"-283.45\" font-family=\"Helvetica,sans-Serif\" font-size=\"14.00\">entropy = 0.947</text>\n",
       "<text text-anchor=\"start\" x=\"353.62\" y=\"-267.7\" font-family=\"Helvetica,sans-Serif\" font-size=\"14.00\">samples = 160</text>\n",
       "<text text-anchor=\"start\" x=\"340.5\" y=\"-251.95\" font-family=\"Helvetica,sans-Serif\" font-size=\"14.00\">value = [109, 50, 1]</text>\n",
       "<text text-anchor=\"start\" x=\"356.62\" y=\"-236.2\" font-family=\"Helvetica,sans-Serif\" font-size=\"14.00\">class = Adelie</text>\n",
       "</g>\n",
       "<!-- 0&#45;&gt;1 -->\n",
       "<g id=\"edge1\" class=\"edge\">\n",
       "<title>0&#45;&gt;1</title>\n",
       "<path fill=\"none\" stroke=\"black\" d=\"M466.88,-352.3C459.2,-343.56 451.04,-334.26 443.13,-325.25\"/>\n",
       "<polygon fill=\"black\" stroke=\"black\" points=\"445.87,-323.06 436.64,-317.86 440.61,-327.68 445.87,-323.06\"/>\n",
       "<text text-anchor=\"middle\" x=\"434.02\" y=\"-336.24\" font-family=\"Helvetica,sans-Serif\" font-size=\"14.00\">True</text>\n",
       "</g>\n",
       "<!-- 8 -->\n",
       "<g id=\"node9\" class=\"node\">\n",
       "<title>8</title>\n",
       "<path fill=\"#8945e7\" stroke=\"black\" d=\"M668.25,-316.5C668.25,-316.5 532.25,-316.5 532.25,-316.5 526.25,-316.5 520.25,-310.5 520.25,-304.5 520.25,-304.5 520.25,-241.75 520.25,-241.75 520.25,-235.75 526.25,-229.75 532.25,-229.75 532.25,-229.75 668.25,-229.75 668.25,-229.75 674.25,-229.75 680.25,-235.75 680.25,-241.75 680.25,-241.75 680.25,-304.5 680.25,-304.5 680.25,-310.5 674.25,-316.5 668.25,-316.5\"/>\n",
       "<text text-anchor=\"start\" x=\"528.25\" y=\"-299.2\" font-family=\"Helvetica,sans-Serif\" font-size=\"14.00\">Body Mass (g) ≤ 4325.0</text>\n",
       "<text text-anchor=\"start\" x=\"553\" y=\"-283.45\" font-family=\"Helvetica,sans-Serif\" font-size=\"14.00\">entropy = 0.383</text>\n",
       "<text text-anchor=\"start\" x=\"555.62\" y=\"-267.7\" font-family=\"Helvetica,sans-Serif\" font-size=\"14.00\">samples = 100</text>\n",
       "<text text-anchor=\"start\" x=\"550\" y=\"-251.95\" font-family=\"Helvetica,sans-Serif\" font-size=\"14.00\">value = [2, 4, 94]</text>\n",
       "<text text-anchor=\"start\" x=\"554.5\" y=\"-236.2\" font-family=\"Helvetica,sans-Serif\" font-size=\"14.00\">class = Gentoo</text>\n",
       "</g>\n",
       "<!-- 0&#45;&gt;8 -->\n",
       "<g id=\"edge8\" class=\"edge\">\n",
       "<title>0&#45;&gt;8</title>\n",
       "<path fill=\"none\" stroke=\"black\" d=\"M538.1,-352.3C544.98,-343.65 552.29,-334.45 559.38,-325.53\"/>\n",
       "<polygon fill=\"black\" stroke=\"black\" points=\"561.96,-327.91 565.44,-317.9 556.48,-323.55 561.96,-327.91\"/>\n",
       "<text text-anchor=\"middle\" x=\"569.22\" y=\"-336.13\" font-family=\"Helvetica,sans-Serif\" font-size=\"14.00\">False</text>\n",
       "</g>\n",
       "<!-- 2 -->\n",
       "<g id=\"node3\" class=\"node\">\n",
       "<title>2</title>\n",
       "<path fill=\"#e6853f\" stroke=\"black\" d=\"M278.12,-193.75C278.12,-193.75 108.38,-193.75 108.38,-193.75 102.38,-193.75 96.38,-187.75 96.38,-181.75 96.38,-181.75 96.38,-119 96.38,-119 96.38,-113 102.38,-107 108.38,-107 108.38,-107 278.12,-107 278.12,-107 284.12,-107 290.12,-113 290.12,-119 290.12,-119 290.12,-181.75 290.12,-181.75 290.12,-187.75 284.12,-193.75 278.12,-193.75\"/>\n",
       "<text text-anchor=\"start\" x=\"104.38\" y=\"-176.45\" font-family=\"Helvetica,sans-Serif\" font-size=\"14.00\">Culmen Length (mm) ≤ 40.75</text>\n",
       "<text text-anchor=\"start\" x=\"146\" y=\"-160.7\" font-family=\"Helvetica,sans-Serif\" font-size=\"14.00\">entropy = 0.182</text>\n",
       "<text text-anchor=\"start\" x=\"148.62\" y=\"-144.95\" font-family=\"Helvetica,sans-Serif\" font-size=\"14.00\">samples = 109</text>\n",
       "<text text-anchor=\"start\" x=\"139.25\" y=\"-129.2\" font-family=\"Helvetica,sans-Serif\" font-size=\"14.00\">value = [106, 3, 0]</text>\n",
       "<text text-anchor=\"start\" x=\"151.62\" y=\"-113.45\" font-family=\"Helvetica,sans-Serif\" font-size=\"14.00\">class = Adelie</text>\n",
       "</g>\n",
       "<!-- 1&#45;&gt;2 -->\n",
       "<g id=\"edge2\" class=\"edge\">\n",
       "<title>1&#45;&gt;2</title>\n",
       "<path fill=\"none\" stroke=\"black\" d=\"M325.69,-229.38C309.41,-219.8 292.04,-209.56 275.41,-199.77\"/>\n",
       "<polygon fill=\"black\" stroke=\"black\" points=\"277.41,-196.89 267.02,-194.83 273.86,-202.92 277.41,-196.89\"/>\n",
       "</g>\n",
       "<!-- 5 -->\n",
       "<g id=\"node6\" class=\"node\">\n",
       "<title>5</title>\n",
       "<path fill=\"#4ae78c\" stroke=\"black\" d=\"M466.25,-193.75C466.25,-193.75 330.25,-193.75 330.25,-193.75 324.25,-193.75 318.25,-187.75 318.25,-181.75 318.25,-181.75 318.25,-119 318.25,-119 318.25,-113 324.25,-107 330.25,-107 330.25,-107 466.25,-107 466.25,-107 472.25,-107 478.25,-113 478.25,-119 478.25,-119 478.25,-181.75 478.25,-181.75 478.25,-187.75 472.25,-193.75 466.25,-193.75\"/>\n",
       "<text text-anchor=\"start\" x=\"326.25\" y=\"-176.45\" font-family=\"Helvetica,sans-Serif\" font-size=\"14.00\">Body Mass (g) ≤ 4100.0</text>\n",
       "<text text-anchor=\"start\" x=\"354.75\" y=\"-160.7\" font-family=\"Helvetica,sans-Serif\" font-size=\"14.00\">entropy = 0.46</text>\n",
       "<text text-anchor=\"start\" x=\"357.38\" y=\"-144.95\" font-family=\"Helvetica,sans-Serif\" font-size=\"14.00\">samples = 51</text>\n",
       "<text text-anchor=\"start\" x=\"348\" y=\"-129.2\" font-family=\"Helvetica,sans-Serif\" font-size=\"14.00\">value = [3, 47, 1]</text>\n",
       "<text text-anchor=\"start\" x=\"346.12\" y=\"-113.45\" font-family=\"Helvetica,sans-Serif\" font-size=\"14.00\">class = Chinstrap</text>\n",
       "</g>\n",
       "<!-- 1&#45;&gt;5 -->\n",
       "<g id=\"edge5\" class=\"edge\">\n",
       "<title>1&#45;&gt;5</title>\n",
       "<path fill=\"none\" stroke=\"black\" d=\"M398.25,-229.55C398.25,-221.71 398.25,-213.42 398.25,-205.29\"/>\n",
       "<polygon fill=\"black\" stroke=\"black\" points=\"401.75,-205.48 398.25,-195.48 394.75,-205.48 401.75,-205.48\"/>\n",
       "</g>\n",
       "<!-- 3 -->\n",
       "<g id=\"node4\" class=\"node\">\n",
       "<title>3</title>\n",
       "<path fill=\"#e58139\" stroke=\"black\" d=\"M104.5,-71C104.5,-71 12,-71 12,-71 6,-71 0,-65 0,-59 0,-59 0,-12 0,-12 0,-6 6,0 12,0 12,0 104.5,0 104.5,0 110.5,0 116.5,-6 116.5,-12 116.5,-12 116.5,-59 116.5,-59 116.5,-65 110.5,-71 104.5,-71\"/>\n",
       "<text text-anchor=\"start\" x=\"18.5\" y=\"-53.7\" font-family=\"Helvetica,sans-Serif\" font-size=\"14.00\">entropy = 0.0</text>\n",
       "<text text-anchor=\"start\" x=\"17.38\" y=\"-37.95\" font-family=\"Helvetica,sans-Serif\" font-size=\"14.00\">samples = 82</text>\n",
       "<text text-anchor=\"start\" x=\"8\" y=\"-22.2\" font-family=\"Helvetica,sans-Serif\" font-size=\"14.00\">value = [82, 0, 0]</text>\n",
       "<text text-anchor=\"start\" x=\"16.62\" y=\"-6.45\" font-family=\"Helvetica,sans-Serif\" font-size=\"14.00\">class = Adelie</text>\n",
       "</g>\n",
       "<!-- 2&#45;&gt;3 -->\n",
       "<g id=\"edge3\" class=\"edge\">\n",
       "<title>2&#45;&gt;3</title>\n",
       "<path fill=\"none\" stroke=\"black\" d=\"M142.21,-106.7C131.14,-97.44 119.43,-87.65 108.39,-78.42\"/>\n",
       "<polygon fill=\"black\" stroke=\"black\" points=\"110.78,-75.86 100.86,-72.13 106.29,-81.23 110.78,-75.86\"/>\n",
       "</g>\n",
       "<!-- 4 -->\n",
       "<g id=\"node5\" class=\"node\">\n",
       "<title>4</title>\n",
       "<path fill=\"#e89152\" stroke=\"black\" d=\"M239.5,-71C239.5,-71 147,-71 147,-71 141,-71 135,-65 135,-59 135,-59 135,-12 135,-12 135,-6 141,0 147,0 147,0 239.5,0 239.5,0 245.5,0 251.5,-6 251.5,-12 251.5,-12 251.5,-59 251.5,-59 251.5,-65 245.5,-71 239.5,-71\"/>\n",
       "<text text-anchor=\"start\" x=\"146\" y=\"-53.7\" font-family=\"Helvetica,sans-Serif\" font-size=\"14.00\">entropy = 0.503</text>\n",
       "<text text-anchor=\"start\" x=\"152.38\" y=\"-37.95\" font-family=\"Helvetica,sans-Serif\" font-size=\"14.00\">samples = 27</text>\n",
       "<text text-anchor=\"start\" x=\"143\" y=\"-22.2\" font-family=\"Helvetica,sans-Serif\" font-size=\"14.00\">value = [24, 3, 0]</text>\n",
       "<text text-anchor=\"start\" x=\"151.62\" y=\"-6.45\" font-family=\"Helvetica,sans-Serif\" font-size=\"14.00\">class = Adelie</text>\n",
       "</g>\n",
       "<!-- 2&#45;&gt;4 -->\n",
       "<g id=\"edge4\" class=\"edge\">\n",
       "<title>2&#45;&gt;4</title>\n",
       "<path fill=\"none\" stroke=\"black\" d=\"M193.25,-106.7C193.25,-98.82 193.25,-90.55 193.25,-82.57\"/>\n",
       "<polygon fill=\"black\" stroke=\"black\" points=\"196.75,-82.67 193.25,-72.67 189.75,-82.67 196.75,-82.67\"/>\n",
       "</g>\n",
       "<!-- 6 -->\n",
       "<g id=\"node7\" class=\"node\">\n",
       "<title>6</title>\n",
       "<path fill=\"#39e581\" stroke=\"black\" d=\"M377.38,-71C377.38,-71 281.12,-71 281.12,-71 275.12,-71 269.12,-65 269.12,-59 269.12,-59 269.12,-12 269.12,-12 269.12,-6 275.12,0 281.12,0 281.12,0 377.38,0 377.38,0 383.38,0 389.38,-6 389.38,-12 389.38,-12 389.38,-59 389.38,-59 389.38,-65 383.38,-71 377.38,-71\"/>\n",
       "<text text-anchor=\"start\" x=\"289.5\" y=\"-53.7\" font-family=\"Helvetica,sans-Serif\" font-size=\"14.00\">entropy = 0.0</text>\n",
       "<text text-anchor=\"start\" x=\"288.38\" y=\"-37.95\" font-family=\"Helvetica,sans-Serif\" font-size=\"14.00\">samples = 42</text>\n",
       "<text text-anchor=\"start\" x=\"279\" y=\"-22.2\" font-family=\"Helvetica,sans-Serif\" font-size=\"14.00\">value = [0, 42, 0]</text>\n",
       "<text text-anchor=\"start\" x=\"277.12\" y=\"-6.45\" font-family=\"Helvetica,sans-Serif\" font-size=\"14.00\">class = Chinstrap</text>\n",
       "</g>\n",
       "<!-- 5&#45;&gt;6 -->\n",
       "<g id=\"edge6\" class=\"edge\">\n",
       "<title>5&#45;&gt;6</title>\n",
       "<path fill=\"none\" stroke=\"black\" d=\"M372.16,-106.7C367.01,-98.27 361.58,-89.39 356.39,-80.9\"/>\n",
       "<polygon fill=\"black\" stroke=\"black\" points=\"359.43,-79.16 351.23,-72.45 353.45,-82.81 359.43,-79.16\"/>\n",
       "</g>\n",
       "<!-- 7 -->\n",
       "<g id=\"node8\" class=\"node\">\n",
       "<title>7</title>\n",
       "<path fill=\"#bdf6d5\" stroke=\"black\" d=\"M515.38,-71C515.38,-71 419.12,-71 419.12,-71 413.12,-71 407.12,-65 407.12,-59 407.12,-59 407.12,-12 407.12,-12 407.12,-6 413.12,0 419.12,0 419.12,0 515.38,0 515.38,0 521.38,0 527.38,-6 527.38,-12 527.38,-12 527.38,-59 527.38,-59 527.38,-65 521.38,-71 515.38,-71\"/>\n",
       "<text text-anchor=\"start\" x=\"420\" y=\"-53.7\" font-family=\"Helvetica,sans-Serif\" font-size=\"14.00\">entropy = 1.352</text>\n",
       "<text text-anchor=\"start\" x=\"430.12\" y=\"-37.95\" font-family=\"Helvetica,sans-Serif\" font-size=\"14.00\">samples = 9</text>\n",
       "<text text-anchor=\"start\" x=\"420.75\" y=\"-22.2\" font-family=\"Helvetica,sans-Serif\" font-size=\"14.00\">value = [3, 5, 1]</text>\n",
       "<text text-anchor=\"start\" x=\"415.12\" y=\"-6.45\" font-family=\"Helvetica,sans-Serif\" font-size=\"14.00\">class = Chinstrap</text>\n",
       "</g>\n",
       "<!-- 5&#45;&gt;7 -->\n",
       "<g id=\"edge7\" class=\"edge\">\n",
       "<title>5&#45;&gt;7</title>\n",
       "<path fill=\"none\" stroke=\"black\" d=\"M424.34,-106.7C429.49,-98.27 434.92,-89.39 440.11,-80.9\"/>\n",
       "<polygon fill=\"black\" stroke=\"black\" points=\"443.05,-82.81 445.27,-72.45 437.07,-79.16 443.05,-82.81\"/>\n",
       "</g>\n",
       "<!-- 9 -->\n",
       "<g id=\"node10\" class=\"node\">\n",
       "<title>9</title>\n",
       "<path fill=\"#d5bdf6\" stroke=\"black\" d=\"M647.25,-193.75C647.25,-193.75 553.25,-193.75 553.25,-193.75 547.25,-193.75 541.25,-187.75 541.25,-181.75 541.25,-181.75 541.25,-119 541.25,-119 541.25,-113 547.25,-107 553.25,-107 553.25,-107 647.25,-107 647.25,-107 653.25,-107 659.25,-113 659.25,-119 659.25,-119 659.25,-181.75 659.25,-181.75 659.25,-187.75 653.25,-193.75 647.25,-193.75\"/>\n",
       "<text text-anchor=\"start\" x=\"549.25\" y=\"-176.45\" font-family=\"Helvetica,sans-Serif\" font-size=\"14.00\">Sex_MALE ≤ 0.5</text>\n",
       "<text text-anchor=\"start\" x=\"556.75\" y=\"-160.7\" font-family=\"Helvetica,sans-Serif\" font-size=\"14.00\">entropy = 1.42</text>\n",
       "<text text-anchor=\"start\" x=\"559.38\" y=\"-144.95\" font-family=\"Helvetica,sans-Serif\" font-size=\"14.00\">samples = 13</text>\n",
       "<text text-anchor=\"start\" x=\"553.75\" y=\"-129.2\" font-family=\"Helvetica,sans-Serif\" font-size=\"14.00\">value = [2, 4, 7]</text>\n",
       "<text text-anchor=\"start\" x=\"554.5\" y=\"-113.45\" font-family=\"Helvetica,sans-Serif\" font-size=\"14.00\">class = Gentoo</text>\n",
       "</g>\n",
       "<!-- 8&#45;&gt;9 -->\n",
       "<g id=\"edge9\" class=\"edge\">\n",
       "<title>8&#45;&gt;9</title>\n",
       "<path fill=\"none\" stroke=\"black\" d=\"M600.25,-229.55C600.25,-221.71 600.25,-213.42 600.25,-205.29\"/>\n",
       "<polygon fill=\"black\" stroke=\"black\" points=\"603.75,-205.48 600.25,-195.48 596.75,-205.48 603.75,-205.48\"/>\n",
       "</g>\n",
       "<!-- 12 -->\n",
       "<g id=\"node13\" class=\"node\">\n",
       "<title>12</title>\n",
       "<path fill=\"#8139e5\" stroke=\"black\" d=\"M781.5,-185.88C781.5,-185.88 689,-185.88 689,-185.88 683,-185.88 677,-179.88 677,-173.88 677,-173.88 677,-126.88 677,-126.88 677,-120.88 683,-114.88 689,-114.88 689,-114.88 781.5,-114.88 781.5,-114.88 787.5,-114.88 793.5,-120.88 793.5,-126.88 793.5,-126.88 793.5,-173.88 793.5,-173.88 793.5,-179.88 787.5,-185.88 781.5,-185.88\"/>\n",
       "<text text-anchor=\"start\" x=\"695.5\" y=\"-168.57\" font-family=\"Helvetica,sans-Serif\" font-size=\"14.00\">entropy = 0.0</text>\n",
       "<text text-anchor=\"start\" x=\"694.38\" y=\"-152.82\" font-family=\"Helvetica,sans-Serif\" font-size=\"14.00\">samples = 87</text>\n",
       "<text text-anchor=\"start\" x=\"685\" y=\"-137.07\" font-family=\"Helvetica,sans-Serif\" font-size=\"14.00\">value = [0, 0, 87]</text>\n",
       "<text text-anchor=\"start\" x=\"689.5\" y=\"-121.33\" font-family=\"Helvetica,sans-Serif\" font-size=\"14.00\">class = Gentoo</text>\n",
       "</g>\n",
       "<!-- 8&#45;&gt;12 -->\n",
       "<g id=\"edge12\" class=\"edge\">\n",
       "<title>8&#45;&gt;12</title>\n",
       "<path fill=\"none\" stroke=\"black\" d=\"M647.85,-229.55C660.92,-217.86 675.09,-205.18 688.14,-193.51\"/>\n",
       "<polygon fill=\"black\" stroke=\"black\" points=\"690.29,-196.29 695.41,-187.01 685.62,-191.07 690.29,-196.29\"/>\n",
       "</g>\n",
       "<!-- 10 -->\n",
       "<g id=\"node11\" class=\"node\">\n",
       "<title>10</title>\n",
       "<path fill=\"#8139e5\" stroke=\"black\" d=\"M642.75,-71C642.75,-71 557.75,-71 557.75,-71 551.75,-71 545.75,-65 545.75,-59 545.75,-59 545.75,-12 545.75,-12 545.75,-6 551.75,0 557.75,0 557.75,0 642.75,0 642.75,0 648.75,0 654.75,-6 654.75,-12 654.75,-12 654.75,-59 654.75,-59 654.75,-65 648.75,-71 642.75,-71\"/>\n",
       "<text text-anchor=\"start\" x=\"560.5\" y=\"-53.7\" font-family=\"Helvetica,sans-Serif\" font-size=\"14.00\">entropy = 0.0</text>\n",
       "<text text-anchor=\"start\" x=\"563.12\" y=\"-37.95\" font-family=\"Helvetica,sans-Serif\" font-size=\"14.00\">samples = 7</text>\n",
       "<text text-anchor=\"start\" x=\"553.75\" y=\"-22.2\" font-family=\"Helvetica,sans-Serif\" font-size=\"14.00\">value = [0, 0, 7]</text>\n",
       "<text text-anchor=\"start\" x=\"554.5\" y=\"-6.45\" font-family=\"Helvetica,sans-Serif\" font-size=\"14.00\">class = Gentoo</text>\n",
       "</g>\n",
       "<!-- 9&#45;&gt;10 -->\n",
       "<g id=\"edge10\" class=\"edge\">\n",
       "<title>9&#45;&gt;10</title>\n",
       "<path fill=\"none\" stroke=\"black\" d=\"M600.25,-106.7C600.25,-98.82 600.25,-90.55 600.25,-82.57\"/>\n",
       "<polygon fill=\"black\" stroke=\"black\" points=\"603.75,-82.67 600.25,-72.67 596.75,-82.67 603.75,-82.67\"/>\n",
       "</g>\n",
       "<!-- 11 -->\n",
       "<g id=\"node12\" class=\"node\">\n",
       "<title>11</title>\n",
       "<path fill=\"#9cf2c0\" stroke=\"black\" d=\"M781.38,-71C781.38,-71 685.12,-71 685.12,-71 679.12,-71 673.12,-65 673.12,-59 673.12,-59 673.12,-12 673.12,-12 673.12,-6 679.12,0 685.12,0 685.12,0 781.38,0 781.38,0 787.38,0 793.38,-6 793.38,-12 793.38,-12 793.38,-59 793.38,-59 793.38,-65 787.38,-71 781.38,-71\"/>\n",
       "<text text-anchor=\"start\" x=\"686\" y=\"-53.7\" font-family=\"Helvetica,sans-Serif\" font-size=\"14.00\">entropy = 0.918</text>\n",
       "<text text-anchor=\"start\" x=\"696.12\" y=\"-37.95\" font-family=\"Helvetica,sans-Serif\" font-size=\"14.00\">samples = 6</text>\n",
       "<text text-anchor=\"start\" x=\"686.75\" y=\"-22.2\" font-family=\"Helvetica,sans-Serif\" font-size=\"14.00\">value = [2, 4, 0]</text>\n",
       "<text text-anchor=\"start\" x=\"681.12\" y=\"-6.45\" font-family=\"Helvetica,sans-Serif\" font-size=\"14.00\">class = Chinstrap</text>\n",
       "</g>\n",
       "<!-- 9&#45;&gt;11 -->\n",
       "<g id=\"edge11\" class=\"edge\">\n",
       "<title>9&#45;&gt;11</title>\n",
       "<path fill=\"none\" stroke=\"black\" d=\"M650.53,-106.7C661.44,-97.44 672.98,-87.65 683.85,-78.42\"/>\n",
       "<polygon fill=\"black\" stroke=\"black\" points=\"685.9,-81.28 691.26,-72.14 681.37,-75.94 685.9,-81.28\"/>\n",
       "</g>\n",
       "</g>\n",
       "</svg>\n"
      ],
      "text/plain": [
       "<graphviz.sources.Source at 0x2cabd27e470>"
      ]
     },
     "metadata": {},
     "output_type": "display_data"
    },
    {
     "name": "stdout",
     "output_type": "stream",
     "text": [
      "✓ Decision tree (depth=3) visualized and saved to output/max_depth_graphviz\\graph_model_80_20_depth_3.png\n"
     ]
    },
    {
     "data": {
      "image/svg+xml": [
       "<?xml version=\"1.0\" encoding=\"UTF-8\" standalone=\"no\"?>\n",
       "<!DOCTYPE svg PUBLIC \"-//W3C//DTD SVG 1.1//EN\"\n",
       " \"http://www.w3.org/Graphics/SVG/1.1/DTD/svg11.dtd\">\n",
       "<!-- Generated by graphviz version 12.2.1 (20241206.2353)\n",
       " -->\n",
       "<!-- Title: Tree Pages: 1 -->\n",
       "<svg width=\"1012pt\" height=\"570pt\"\n",
       " viewBox=\"0.00 0.00 1012.38 570.00\" xmlns=\"http://www.w3.org/2000/svg\" xmlns:xlink=\"http://www.w3.org/1999/xlink\">\n",
       "<g id=\"graph0\" class=\"graph\" transform=\"scale(1 1) rotate(0) translate(4 566)\">\n",
       "<title>Tree</title>\n",
       "<polygon fill=\"white\" stroke=\"none\" points=\"-4,4 -4,-566 1008.38,-566 1008.38,4 -4,4\"/>\n",
       "<!-- 0 -->\n",
       "<g id=\"node1\" class=\"node\">\n",
       "<title>0</title>\n",
       "<path fill=\"#fcf3ec\" stroke=\"black\" d=\"M695.12,-562C695.12,-562 531.38,-562 531.38,-562 525.38,-562 519.38,-556 519.38,-550 519.38,-550 519.38,-487.25 519.38,-487.25 519.38,-481.25 525.38,-475.25 531.38,-475.25 531.38,-475.25 695.12,-475.25 695.12,-475.25 701.12,-475.25 707.12,-481.25 707.12,-487.25 707.12,-487.25 707.12,-550 707.12,-550 707.12,-556 701.12,-562 695.12,-562\"/>\n",
       "<text text-anchor=\"start\" x=\"527.38\" y=\"-544.7\" font-family=\"Helvetica,sans-Serif\" font-size=\"14.00\">Flipper Length (mm) ≤ 206.0</text>\n",
       "<text text-anchor=\"start\" x=\"566\" y=\"-528.95\" font-family=\"Helvetica,sans-Serif\" font-size=\"14.00\">entropy = 1.526</text>\n",
       "<text text-anchor=\"start\" x=\"568.62\" y=\"-513.2\" font-family=\"Helvetica,sans-Serif\" font-size=\"14.00\">samples = 260</text>\n",
       "<text text-anchor=\"start\" x=\"552.5\" y=\"-497.45\" font-family=\"Helvetica,sans-Serif\" font-size=\"14.00\">value = [111, 54, 95]</text>\n",
       "<text text-anchor=\"start\" x=\"571.62\" y=\"-481.7\" font-family=\"Helvetica,sans-Serif\" font-size=\"14.00\">class = Adelie</text>\n",
       "</g>\n",
       "<!-- 1 -->\n",
       "<g id=\"node2\" class=\"node\">\n",
       "<title>1</title>\n",
       "<path fill=\"#f1bb95\" stroke=\"black\" d=\"M544.38,-439.25C544.38,-439.25 382.12,-439.25 382.12,-439.25 376.12,-439.25 370.12,-433.25 370.12,-427.25 370.12,-427.25 370.12,-364.5 370.12,-364.5 370.12,-358.5 376.12,-352.5 382.12,-352.5 382.12,-352.5 544.38,-352.5 544.38,-352.5 550.38,-352.5 556.38,-358.5 556.38,-364.5 556.38,-364.5 556.38,-427.25 556.38,-427.25 556.38,-433.25 550.38,-439.25 544.38,-439.25\"/>\n",
       "<text text-anchor=\"start\" x=\"378.12\" y=\"-421.95\" font-family=\"Helvetica,sans-Serif\" font-size=\"14.00\">Culmen Length (mm) ≤ 44.2</text>\n",
       "<text text-anchor=\"start\" x=\"416\" y=\"-406.2\" font-family=\"Helvetica,sans-Serif\" font-size=\"14.00\">entropy = 0.947</text>\n",
       "<text text-anchor=\"start\" x=\"418.62\" y=\"-390.45\" font-family=\"Helvetica,sans-Serif\" font-size=\"14.00\">samples = 160</text>\n",
       "<text text-anchor=\"start\" x=\"405.5\" y=\"-374.7\" font-family=\"Helvetica,sans-Serif\" font-size=\"14.00\">value = [109, 50, 1]</text>\n",
       "<text text-anchor=\"start\" x=\"421.62\" y=\"-358.95\" font-family=\"Helvetica,sans-Serif\" font-size=\"14.00\">class = Adelie</text>\n",
       "</g>\n",
       "<!-- 0&#45;&gt;1 -->\n",
       "<g id=\"edge1\" class=\"edge\">\n",
       "<title>0&#45;&gt;1</title>\n",
       "<path fill=\"none\" stroke=\"black\" d=\"M560.37,-475.05C549.01,-465.91 536.9,-456.17 525.23,-446.77\"/>\n",
       "<polygon fill=\"black\" stroke=\"black\" points=\"527.58,-444.17 517.59,-440.62 523.19,-449.62 527.58,-444.17\"/>\n",
       "<text text-anchor=\"middle\" x=\"519.1\" y=\"-459.1\" font-family=\"Helvetica,sans-Serif\" font-size=\"14.00\">True</text>\n",
       "</g>\n",
       "<!-- 12 -->\n",
       "<g id=\"node13\" class=\"node\">\n",
       "<title>12</title>\n",
       "<path fill=\"#8945e7\" stroke=\"black\" d=\"M777.25,-439.25C777.25,-439.25 641.25,-439.25 641.25,-439.25 635.25,-439.25 629.25,-433.25 629.25,-427.25 629.25,-427.25 629.25,-364.5 629.25,-364.5 629.25,-358.5 635.25,-352.5 641.25,-352.5 641.25,-352.5 777.25,-352.5 777.25,-352.5 783.25,-352.5 789.25,-358.5 789.25,-364.5 789.25,-364.5 789.25,-427.25 789.25,-427.25 789.25,-433.25 783.25,-439.25 777.25,-439.25\"/>\n",
       "<text text-anchor=\"start\" x=\"637.25\" y=\"-421.95\" font-family=\"Helvetica,sans-Serif\" font-size=\"14.00\">Body Mass (g) ≤ 4325.0</text>\n",
       "<text text-anchor=\"start\" x=\"662\" y=\"-406.2\" font-family=\"Helvetica,sans-Serif\" font-size=\"14.00\">entropy = 0.383</text>\n",
       "<text text-anchor=\"start\" x=\"664.62\" y=\"-390.45\" font-family=\"Helvetica,sans-Serif\" font-size=\"14.00\">samples = 100</text>\n",
       "<text text-anchor=\"start\" x=\"659\" y=\"-374.7\" font-family=\"Helvetica,sans-Serif\" font-size=\"14.00\">value = [2, 4, 94]</text>\n",
       "<text text-anchor=\"start\" x=\"663.5\" y=\"-358.95\" font-family=\"Helvetica,sans-Serif\" font-size=\"14.00\">class = Gentoo</text>\n",
       "</g>\n",
       "<!-- 0&#45;&gt;12 -->\n",
       "<g id=\"edge12\" class=\"edge\">\n",
       "<title>0&#45;&gt;12</title>\n",
       "<path fill=\"none\" stroke=\"black\" d=\"M647.1,-475.05C653.98,-466.4 661.29,-457.2 668.38,-448.28\"/>\n",
       "<polygon fill=\"black\" stroke=\"black\" points=\"670.96,-450.66 674.44,-440.65 665.48,-446.3 670.96,-450.66\"/>\n",
       "<text text-anchor=\"middle\" x=\"678.22\" y=\"-458.88\" font-family=\"Helvetica,sans-Serif\" font-size=\"14.00\">False</text>\n",
       "</g>\n",
       "<!-- 2 -->\n",
       "<g id=\"node3\" class=\"node\">\n",
       "<title>2</title>\n",
       "<path fill=\"#e6853f\" stroke=\"black\" d=\"M299.12,-316.5C299.12,-316.5 129.38,-316.5 129.38,-316.5 123.38,-316.5 117.38,-310.5 117.38,-304.5 117.38,-304.5 117.38,-241.75 117.38,-241.75 117.38,-235.75 123.38,-229.75 129.38,-229.75 129.38,-229.75 299.12,-229.75 299.12,-229.75 305.12,-229.75 311.12,-235.75 311.12,-241.75 311.12,-241.75 311.12,-304.5 311.12,-304.5 311.12,-310.5 305.12,-316.5 299.12,-316.5\"/>\n",
       "<text text-anchor=\"start\" x=\"125.38\" y=\"-299.2\" font-family=\"Helvetica,sans-Serif\" font-size=\"14.00\">Culmen Length (mm) ≤ 40.75</text>\n",
       "<text text-anchor=\"start\" x=\"167\" y=\"-283.45\" font-family=\"Helvetica,sans-Serif\" font-size=\"14.00\">entropy = 0.182</text>\n",
       "<text text-anchor=\"start\" x=\"169.62\" y=\"-267.7\" font-family=\"Helvetica,sans-Serif\" font-size=\"14.00\">samples = 109</text>\n",
       "<text text-anchor=\"start\" x=\"160.25\" y=\"-251.95\" font-family=\"Helvetica,sans-Serif\" font-size=\"14.00\">value = [106, 3, 0]</text>\n",
       "<text text-anchor=\"start\" x=\"172.62\" y=\"-236.2\" font-family=\"Helvetica,sans-Serif\" font-size=\"14.00\">class = Adelie</text>\n",
       "</g>\n",
       "<!-- 1&#45;&gt;2 -->\n",
       "<g id=\"edge2\" class=\"edge\">\n",
       "<title>1&#45;&gt;2</title>\n",
       "<path fill=\"none\" stroke=\"black\" d=\"M375.11,-352.13C354.89,-342.32 333.26,-331.84 312.63,-321.83\"/>\n",
       "<polygon fill=\"black\" stroke=\"black\" points=\"314.16,-318.68 303.63,-317.47 311.1,-324.98 314.16,-318.68\"/>\n",
       "</g>\n",
       "<!-- 7 -->\n",
       "<g id=\"node8\" class=\"node\">\n",
       "<title>7</title>\n",
       "<path fill=\"#4ae78c\" stroke=\"black\" d=\"M531.25,-316.5C531.25,-316.5 395.25,-316.5 395.25,-316.5 389.25,-316.5 383.25,-310.5 383.25,-304.5 383.25,-304.5 383.25,-241.75 383.25,-241.75 383.25,-235.75 389.25,-229.75 395.25,-229.75 395.25,-229.75 531.25,-229.75 531.25,-229.75 537.25,-229.75 543.25,-235.75 543.25,-241.75 543.25,-241.75 543.25,-304.5 543.25,-304.5 543.25,-310.5 537.25,-316.5 531.25,-316.5\"/>\n",
       "<text text-anchor=\"start\" x=\"391.25\" y=\"-299.2\" font-family=\"Helvetica,sans-Serif\" font-size=\"14.00\">Body Mass (g) ≤ 4100.0</text>\n",
       "<text text-anchor=\"start\" x=\"419.75\" y=\"-283.45\" font-family=\"Helvetica,sans-Serif\" font-size=\"14.00\">entropy = 0.46</text>\n",
       "<text text-anchor=\"start\" x=\"422.38\" y=\"-267.7\" font-family=\"Helvetica,sans-Serif\" font-size=\"14.00\">samples = 51</text>\n",
       "<text text-anchor=\"start\" x=\"413\" y=\"-251.95\" font-family=\"Helvetica,sans-Serif\" font-size=\"14.00\">value = [3, 47, 1]</text>\n",
       "<text text-anchor=\"start\" x=\"411.12\" y=\"-236.2\" font-family=\"Helvetica,sans-Serif\" font-size=\"14.00\">class = Chinstrap</text>\n",
       "</g>\n",
       "<!-- 1&#45;&gt;7 -->\n",
       "<g id=\"edge7\" class=\"edge\">\n",
       "<title>1&#45;&gt;7</title>\n",
       "<path fill=\"none\" stroke=\"black\" d=\"M463.25,-352.3C463.25,-344.46 463.25,-336.17 463.25,-328.04\"/>\n",
       "<polygon fill=\"black\" stroke=\"black\" points=\"466.75,-328.23 463.25,-318.23 459.75,-328.23 466.75,-328.23\"/>\n",
       "</g>\n",
       "<!-- 3 -->\n",
       "<g id=\"node4\" class=\"node\">\n",
       "<title>3</title>\n",
       "<path fill=\"#e58139\" stroke=\"black\" d=\"M104.5,-185.88C104.5,-185.88 12,-185.88 12,-185.88 6,-185.88 0,-179.88 0,-173.88 0,-173.88 0,-126.88 0,-126.88 0,-120.88 6,-114.88 12,-114.88 12,-114.88 104.5,-114.88 104.5,-114.88 110.5,-114.88 116.5,-120.88 116.5,-126.88 116.5,-126.88 116.5,-173.88 116.5,-173.88 116.5,-179.88 110.5,-185.88 104.5,-185.88\"/>\n",
       "<text text-anchor=\"start\" x=\"18.5\" y=\"-168.57\" font-family=\"Helvetica,sans-Serif\" font-size=\"14.00\">entropy = 0.0</text>\n",
       "<text text-anchor=\"start\" x=\"17.38\" y=\"-152.82\" font-family=\"Helvetica,sans-Serif\" font-size=\"14.00\">samples = 82</text>\n",
       "<text text-anchor=\"start\" x=\"8\" y=\"-137.07\" font-family=\"Helvetica,sans-Serif\" font-size=\"14.00\">value = [82, 0, 0]</text>\n",
       "<text text-anchor=\"start\" x=\"16.62\" y=\"-121.33\" font-family=\"Helvetica,sans-Serif\" font-size=\"14.00\">class = Adelie</text>\n",
       "</g>\n",
       "<!-- 2&#45;&gt;3 -->\n",
       "<g id=\"edge3\" class=\"edge\">\n",
       "<title>2&#45;&gt;3</title>\n",
       "<path fill=\"none\" stroke=\"black\" d=\"M159.25,-229.55C143.92,-217.69 127.3,-204.82 112.04,-193.01\"/>\n",
       "<polygon fill=\"black\" stroke=\"black\" points=\"114.49,-190.48 104.44,-187.12 110.2,-196.01 114.49,-190.48\"/>\n",
       "</g>\n",
       "<!-- 4 -->\n",
       "<g id=\"node5\" class=\"node\">\n",
       "<title>4</title>\n",
       "<path fill=\"#e89152\" stroke=\"black\" d=\"M282.25,-193.75C282.25,-193.75 146.25,-193.75 146.25,-193.75 140.25,-193.75 134.25,-187.75 134.25,-181.75 134.25,-181.75 134.25,-119 134.25,-119 134.25,-113 140.25,-107 146.25,-107 146.25,-107 282.25,-107 282.25,-107 288.25,-107 294.25,-113 294.25,-119 294.25,-119 294.25,-181.75 294.25,-181.75 294.25,-187.75 288.25,-193.75 282.25,-193.75\"/>\n",
       "<text text-anchor=\"start\" x=\"142.25\" y=\"-176.45\" font-family=\"Helvetica,sans-Serif\" font-size=\"14.00\">Body Mass (g) ≤ 3425.0</text>\n",
       "<text text-anchor=\"start\" x=\"167\" y=\"-160.7\" font-family=\"Helvetica,sans-Serif\" font-size=\"14.00\">entropy = 0.503</text>\n",
       "<text text-anchor=\"start\" x=\"173.38\" y=\"-144.95\" font-family=\"Helvetica,sans-Serif\" font-size=\"14.00\">samples = 27</text>\n",
       "<text text-anchor=\"start\" x=\"164\" y=\"-129.2\" font-family=\"Helvetica,sans-Serif\" font-size=\"14.00\">value = [24, 3, 0]</text>\n",
       "<text text-anchor=\"start\" x=\"172.62\" y=\"-113.45\" font-family=\"Helvetica,sans-Serif\" font-size=\"14.00\">class = Adelie</text>\n",
       "</g>\n",
       "<!-- 2&#45;&gt;4 -->\n",
       "<g id=\"edge4\" class=\"edge\">\n",
       "<title>2&#45;&gt;4</title>\n",
       "<path fill=\"none\" stroke=\"black\" d=\"M214.25,-229.55C214.25,-221.71 214.25,-213.42 214.25,-205.29\"/>\n",
       "<polygon fill=\"black\" stroke=\"black\" points=\"217.75,-205.48 214.25,-195.48 210.75,-205.48 217.75,-205.48\"/>\n",
       "</g>\n",
       "<!-- 5 -->\n",
       "<g id=\"node6\" class=\"node\">\n",
       "<title>5</title>\n",
       "<path fill=\"#7beeab\" stroke=\"black\" d=\"M158.38,-71C158.38,-71 62.12,-71 62.12,-71 56.12,-71 50.12,-65 50.12,-59 50.12,-59 50.12,-12 50.12,-12 50.12,-6 56.12,0 62.12,0 62.12,0 158.38,0 158.38,0 164.38,0 170.38,-6 170.38,-12 170.38,-12 170.38,-59 170.38,-59 170.38,-65 164.38,-71 158.38,-71\"/>\n",
       "<text text-anchor=\"start\" x=\"63.38\" y=\"-53.7\" font-family=\"Helvetica,sans-Serif\" font-size=\"14.00\">entropy = 0.811</text>\n",
       "<text text-anchor=\"start\" x=\"73.12\" y=\"-37.95\" font-family=\"Helvetica,sans-Serif\" font-size=\"14.00\">samples = 4</text>\n",
       "<text text-anchor=\"start\" x=\"63.75\" y=\"-22.2\" font-family=\"Helvetica,sans-Serif\" font-size=\"14.00\">value = [1, 3, 0]</text>\n",
       "<text text-anchor=\"start\" x=\"58.12\" y=\"-6.45\" font-family=\"Helvetica,sans-Serif\" font-size=\"14.00\">class = Chinstrap</text>\n",
       "</g>\n",
       "<!-- 4&#45;&gt;5 -->\n",
       "<g id=\"edge5\" class=\"edge\">\n",
       "<title>4&#45;&gt;5</title>\n",
       "<path fill=\"none\" stroke=\"black\" d=\"M174.93,-106.7C166.74,-97.81 158.09,-88.43 149.89,-79.52\"/>\n",
       "<polygon fill=\"black\" stroke=\"black\" points=\"152.56,-77.25 143.21,-72.27 147.41,-82 152.56,-77.25\"/>\n",
       "</g>\n",
       "<!-- 6 -->\n",
       "<g id=\"node7\" class=\"node\">\n",
       "<title>6</title>\n",
       "<path fill=\"#e58139\" stroke=\"black\" d=\"M292.5,-71C292.5,-71 200,-71 200,-71 194,-71 188,-65 188,-59 188,-59 188,-12 188,-12 188,-6 194,0 200,0 200,0 292.5,0 292.5,0 298.5,0 304.5,-6 304.5,-12 304.5,-12 304.5,-59 304.5,-59 304.5,-65 298.5,-71 292.5,-71\"/>\n",
       "<text text-anchor=\"start\" x=\"206.5\" y=\"-53.7\" font-family=\"Helvetica,sans-Serif\" font-size=\"14.00\">entropy = 0.0</text>\n",
       "<text text-anchor=\"start\" x=\"205.38\" y=\"-37.95\" font-family=\"Helvetica,sans-Serif\" font-size=\"14.00\">samples = 23</text>\n",
       "<text text-anchor=\"start\" x=\"196\" y=\"-22.2\" font-family=\"Helvetica,sans-Serif\" font-size=\"14.00\">value = [23, 0, 0]</text>\n",
       "<text text-anchor=\"start\" x=\"204.62\" y=\"-6.45\" font-family=\"Helvetica,sans-Serif\" font-size=\"14.00\">class = Adelie</text>\n",
       "</g>\n",
       "<!-- 4&#45;&gt;6 -->\n",
       "<g id=\"edge6\" class=\"edge\">\n",
       "<title>4&#45;&gt;6</title>\n",
       "<path fill=\"none\" stroke=\"black\" d=\"M226.35,-106.7C228.64,-98.63 231.04,-90.16 233.35,-82.01\"/>\n",
       "<polygon fill=\"black\" stroke=\"black\" points=\"236.65,-83.19 236.01,-72.61 229.92,-81.28 236.65,-83.19\"/>\n",
       "</g>\n",
       "<!-- 8 -->\n",
       "<g id=\"node9\" class=\"node\">\n",
       "<title>8</title>\n",
       "<path fill=\"#39e581\" stroke=\"black\" d=\"M420.38,-185.88C420.38,-185.88 324.12,-185.88 324.12,-185.88 318.12,-185.88 312.12,-179.88 312.12,-173.88 312.12,-173.88 312.12,-126.88 312.12,-126.88 312.12,-120.88 318.12,-114.88 324.12,-114.88 324.12,-114.88 420.38,-114.88 420.38,-114.88 426.38,-114.88 432.38,-120.88 432.38,-126.88 432.38,-126.88 432.38,-173.88 432.38,-173.88 432.38,-179.88 426.38,-185.88 420.38,-185.88\"/>\n",
       "<text text-anchor=\"start\" x=\"332.5\" y=\"-168.57\" font-family=\"Helvetica,sans-Serif\" font-size=\"14.00\">entropy = 0.0</text>\n",
       "<text text-anchor=\"start\" x=\"331.38\" y=\"-152.82\" font-family=\"Helvetica,sans-Serif\" font-size=\"14.00\">samples = 42</text>\n",
       "<text text-anchor=\"start\" x=\"322\" y=\"-137.07\" font-family=\"Helvetica,sans-Serif\" font-size=\"14.00\">value = [0, 42, 0]</text>\n",
       "<text text-anchor=\"start\" x=\"320.12\" y=\"-121.33\" font-family=\"Helvetica,sans-Serif\" font-size=\"14.00\">class = Chinstrap</text>\n",
       "</g>\n",
       "<!-- 7&#45;&gt;8 -->\n",
       "<g id=\"edge8\" class=\"edge\">\n",
       "<title>7&#45;&gt;8</title>\n",
       "<path fill=\"none\" stroke=\"black\" d=\"M431.17,-229.55C422.77,-218.41 413.71,-206.39 405.26,-195.18\"/>\n",
       "<polygon fill=\"black\" stroke=\"black\" points=\"408.07,-193.09 399.26,-187.21 402.48,-197.3 408.07,-193.09\"/>\n",
       "</g>\n",
       "<!-- 9 -->\n",
       "<g id=\"node10\" class=\"node\">\n",
       "<title>9</title>\n",
       "<path fill=\"#bdf6d5\" stroke=\"black\" d=\"M624.38,-193.75C624.38,-193.75 462.12,-193.75 462.12,-193.75 456.12,-193.75 450.12,-187.75 450.12,-181.75 450.12,-181.75 450.12,-119 450.12,-119 450.12,-113 456.12,-107 462.12,-107 462.12,-107 624.38,-107 624.38,-107 630.38,-107 636.38,-113 636.38,-119 636.38,-119 636.38,-181.75 636.38,-181.75 636.38,-187.75 630.38,-193.75 624.38,-193.75\"/>\n",
       "<text text-anchor=\"start\" x=\"458.12\" y=\"-176.45\" font-family=\"Helvetica,sans-Serif\" font-size=\"14.00\">Culmen Length (mm) ≤ 47.2</text>\n",
       "<text text-anchor=\"start\" x=\"496\" y=\"-160.7\" font-family=\"Helvetica,sans-Serif\" font-size=\"14.00\">entropy = 1.352</text>\n",
       "<text text-anchor=\"start\" x=\"506.12\" y=\"-144.95\" font-family=\"Helvetica,sans-Serif\" font-size=\"14.00\">samples = 9</text>\n",
       "<text text-anchor=\"start\" x=\"496.75\" y=\"-129.2\" font-family=\"Helvetica,sans-Serif\" font-size=\"14.00\">value = [3, 5, 1]</text>\n",
       "<text text-anchor=\"start\" x=\"491.12\" y=\"-113.45\" font-family=\"Helvetica,sans-Serif\" font-size=\"14.00\">class = Chinstrap</text>\n",
       "</g>\n",
       "<!-- 7&#45;&gt;9 -->\n",
       "<g id=\"edge9\" class=\"edge\">\n",
       "<title>7&#45;&gt;9</title>\n",
       "<path fill=\"none\" stroke=\"black\" d=\"M491.46,-229.55C497.07,-221.08 503.03,-212.09 508.83,-203.33\"/>\n",
       "<polygon fill=\"black\" stroke=\"black\" points=\"511.59,-205.5 514.19,-195.23 505.75,-201.63 511.59,-205.5\"/>\n",
       "</g>\n",
       "<!-- 10 -->\n",
       "<g id=\"node11\" class=\"node\">\n",
       "<title>10</title>\n",
       "<path fill=\"#eeab7b\" stroke=\"black\" d=\"M519.12,-71C519.12,-71 433.38,-71 433.38,-71 427.38,-71 421.38,-65 421.38,-59 421.38,-59 421.38,-12 421.38,-12 421.38,-6 427.38,0 433.38,0 433.38,0 519.12,0 519.12,0 525.12,0 531.12,-6 531.12,-12 531.12,-12 531.12,-59 531.12,-59 531.12,-65 525.12,-71 519.12,-71\"/>\n",
       "<text text-anchor=\"start\" x=\"429.38\" y=\"-53.7\" font-family=\"Helvetica,sans-Serif\" font-size=\"14.00\">entropy = 0.811</text>\n",
       "<text text-anchor=\"start\" x=\"439.12\" y=\"-37.95\" font-family=\"Helvetica,sans-Serif\" font-size=\"14.00\">samples = 4</text>\n",
       "<text text-anchor=\"start\" x=\"429.75\" y=\"-22.2\" font-family=\"Helvetica,sans-Serif\" font-size=\"14.00\">value = [3, 1, 0]</text>\n",
       "<text text-anchor=\"start\" x=\"434.62\" y=\"-6.45\" font-family=\"Helvetica,sans-Serif\" font-size=\"14.00\">class = Adelie</text>\n",
       "</g>\n",
       "<!-- 9&#45;&gt;10 -->\n",
       "<g id=\"edge10\" class=\"edge\">\n",
       "<title>9&#45;&gt;10</title>\n",
       "<path fill=\"none\" stroke=\"black\" d=\"M517.92,-106.7C512.91,-98.27 507.65,-89.39 502.61,-80.9\"/>\n",
       "<polygon fill=\"black\" stroke=\"black\" points=\"505.71,-79.27 497.59,-72.46 499.69,-82.84 505.71,-79.27\"/>\n",
       "</g>\n",
       "<!-- 11 -->\n",
       "<g id=\"node12\" class=\"node\">\n",
       "<title>11</title>\n",
       "<path fill=\"#6aeca0\" stroke=\"black\" d=\"M657.38,-71C657.38,-71 561.12,-71 561.12,-71 555.12,-71 549.12,-65 549.12,-59 549.12,-59 549.12,-12 549.12,-12 549.12,-6 555.12,0 561.12,0 561.12,0 657.38,0 657.38,0 663.38,0 669.38,-6 669.38,-12 669.38,-12 669.38,-59 669.38,-59 669.38,-65 663.38,-71 657.38,-71\"/>\n",
       "<text text-anchor=\"start\" x=\"562\" y=\"-53.7\" font-family=\"Helvetica,sans-Serif\" font-size=\"14.00\">entropy = 0.722</text>\n",
       "<text text-anchor=\"start\" x=\"572.12\" y=\"-37.95\" font-family=\"Helvetica,sans-Serif\" font-size=\"14.00\">samples = 5</text>\n",
       "<text text-anchor=\"start\" x=\"562.75\" y=\"-22.2\" font-family=\"Helvetica,sans-Serif\" font-size=\"14.00\">value = [0, 4, 1]</text>\n",
       "<text text-anchor=\"start\" x=\"557.12\" y=\"-6.45\" font-family=\"Helvetica,sans-Serif\" font-size=\"14.00\">class = Chinstrap</text>\n",
       "</g>\n",
       "<!-- 9&#45;&gt;11 -->\n",
       "<g id=\"edge11\" class=\"edge\">\n",
       "<title>9&#45;&gt;11</title>\n",
       "<path fill=\"none\" stroke=\"black\" d=\"M568.2,-106.7C573.13,-98.27 578.32,-89.39 583.29,-80.9\"/>\n",
       "<polygon fill=\"black\" stroke=\"black\" points=\"586.19,-82.86 588.22,-72.46 580.15,-79.33 586.19,-82.86\"/>\n",
       "</g>\n",
       "<!-- 13 -->\n",
       "<g id=\"node14\" class=\"node\">\n",
       "<title>13</title>\n",
       "<path fill=\"#d5bdf6\" stroke=\"black\" d=\"M756.25,-316.5C756.25,-316.5 662.25,-316.5 662.25,-316.5 656.25,-316.5 650.25,-310.5 650.25,-304.5 650.25,-304.5 650.25,-241.75 650.25,-241.75 650.25,-235.75 656.25,-229.75 662.25,-229.75 662.25,-229.75 756.25,-229.75 756.25,-229.75 762.25,-229.75 768.25,-235.75 768.25,-241.75 768.25,-241.75 768.25,-304.5 768.25,-304.5 768.25,-310.5 762.25,-316.5 756.25,-316.5\"/>\n",
       "<text text-anchor=\"start\" x=\"658.25\" y=\"-299.2\" font-family=\"Helvetica,sans-Serif\" font-size=\"14.00\">Sex_MALE ≤ 0.5</text>\n",
       "<text text-anchor=\"start\" x=\"665.75\" y=\"-283.45\" font-family=\"Helvetica,sans-Serif\" font-size=\"14.00\">entropy = 1.42</text>\n",
       "<text text-anchor=\"start\" x=\"668.38\" y=\"-267.7\" font-family=\"Helvetica,sans-Serif\" font-size=\"14.00\">samples = 13</text>\n",
       "<text text-anchor=\"start\" x=\"662.75\" y=\"-251.95\" font-family=\"Helvetica,sans-Serif\" font-size=\"14.00\">value = [2, 4, 7]</text>\n",
       "<text text-anchor=\"start\" x=\"663.5\" y=\"-236.2\" font-family=\"Helvetica,sans-Serif\" font-size=\"14.00\">class = Gentoo</text>\n",
       "</g>\n",
       "<!-- 12&#45;&gt;13 -->\n",
       "<g id=\"edge13\" class=\"edge\">\n",
       "<title>12&#45;&gt;13</title>\n",
       "<path fill=\"none\" stroke=\"black\" d=\"M709.25,-352.3C709.25,-344.46 709.25,-336.17 709.25,-328.04\"/>\n",
       "<polygon fill=\"black\" stroke=\"black\" points=\"712.75,-328.23 709.25,-318.23 705.75,-328.23 712.75,-328.23\"/>\n",
       "</g>\n",
       "<!-- 18 -->\n",
       "<g id=\"node19\" class=\"node\">\n",
       "<title>18</title>\n",
       "<path fill=\"#8139e5\" stroke=\"black\" d=\"M890.5,-308.62C890.5,-308.62 798,-308.62 798,-308.62 792,-308.62 786,-302.62 786,-296.62 786,-296.62 786,-249.62 786,-249.62 786,-243.62 792,-237.62 798,-237.62 798,-237.62 890.5,-237.62 890.5,-237.62 896.5,-237.62 902.5,-243.62 902.5,-249.62 902.5,-249.62 902.5,-296.62 902.5,-296.62 902.5,-302.62 896.5,-308.62 890.5,-308.62\"/>\n",
       "<text text-anchor=\"start\" x=\"804.5\" y=\"-291.32\" font-family=\"Helvetica,sans-Serif\" font-size=\"14.00\">entropy = 0.0</text>\n",
       "<text text-anchor=\"start\" x=\"803.38\" y=\"-275.57\" font-family=\"Helvetica,sans-Serif\" font-size=\"14.00\">samples = 87</text>\n",
       "<text text-anchor=\"start\" x=\"794\" y=\"-259.82\" font-family=\"Helvetica,sans-Serif\" font-size=\"14.00\">value = [0, 0, 87]</text>\n",
       "<text text-anchor=\"start\" x=\"798.5\" y=\"-244.07\" font-family=\"Helvetica,sans-Serif\" font-size=\"14.00\">class = Gentoo</text>\n",
       "</g>\n",
       "<!-- 12&#45;&gt;18 -->\n",
       "<g id=\"edge18\" class=\"edge\">\n",
       "<title>12&#45;&gt;18</title>\n",
       "<path fill=\"none\" stroke=\"black\" d=\"M756.85,-352.3C769.92,-340.61 784.09,-327.93 797.14,-316.26\"/>\n",
       "<polygon fill=\"black\" stroke=\"black\" points=\"799.29,-319.04 804.41,-309.76 794.62,-313.82 799.29,-319.04\"/>\n",
       "</g>\n",
       "<!-- 14 -->\n",
       "<g id=\"node15\" class=\"node\">\n",
       "<title>14</title>\n",
       "<path fill=\"#8139e5\" stroke=\"black\" d=\"M751.75,-185.88C751.75,-185.88 666.75,-185.88 666.75,-185.88 660.75,-185.88 654.75,-179.88 654.75,-173.88 654.75,-173.88 654.75,-126.88 654.75,-126.88 654.75,-120.88 660.75,-114.88 666.75,-114.88 666.75,-114.88 751.75,-114.88 751.75,-114.88 757.75,-114.88 763.75,-120.88 763.75,-126.88 763.75,-126.88 763.75,-173.88 763.75,-173.88 763.75,-179.88 757.75,-185.88 751.75,-185.88\"/>\n",
       "<text text-anchor=\"start\" x=\"669.5\" y=\"-168.57\" font-family=\"Helvetica,sans-Serif\" font-size=\"14.00\">entropy = 0.0</text>\n",
       "<text text-anchor=\"start\" x=\"672.12\" y=\"-152.82\" font-family=\"Helvetica,sans-Serif\" font-size=\"14.00\">samples = 7</text>\n",
       "<text text-anchor=\"start\" x=\"662.75\" y=\"-137.07\" font-family=\"Helvetica,sans-Serif\" font-size=\"14.00\">value = [0, 0, 7]</text>\n",
       "<text text-anchor=\"start\" x=\"663.5\" y=\"-121.33\" font-family=\"Helvetica,sans-Serif\" font-size=\"14.00\">class = Gentoo</text>\n",
       "</g>\n",
       "<!-- 13&#45;&gt;14 -->\n",
       "<g id=\"edge14\" class=\"edge\">\n",
       "<title>13&#45;&gt;14</title>\n",
       "<path fill=\"none\" stroke=\"black\" d=\"M709.25,-229.55C709.25,-219.08 709.25,-207.83 709.25,-197.21\"/>\n",
       "<polygon fill=\"black\" stroke=\"black\" points=\"712.75,-197.52 709.25,-187.52 705.75,-197.52 712.75,-197.52\"/>\n",
       "</g>\n",
       "<!-- 15 -->\n",
       "<g id=\"node16\" class=\"node\">\n",
       "<title>15</title>\n",
       "<path fill=\"#9cf2c0\" stroke=\"black\" d=\"M963.12,-193.75C963.12,-193.75 793.38,-193.75 793.38,-193.75 787.38,-193.75 781.38,-187.75 781.38,-181.75 781.38,-181.75 781.38,-119 781.38,-119 781.38,-113 787.38,-107 793.38,-107 793.38,-107 963.12,-107 963.12,-107 969.12,-107 975.12,-113 975.12,-119 975.12,-119 975.12,-181.75 975.12,-181.75 975.12,-187.75 969.12,-193.75 963.12,-193.75\"/>\n",
       "<text text-anchor=\"start\" x=\"789.38\" y=\"-176.45\" font-family=\"Helvetica,sans-Serif\" font-size=\"14.00\">Culmen Length (mm) ≤ 46.55</text>\n",
       "<text text-anchor=\"start\" x=\"831\" y=\"-160.7\" font-family=\"Helvetica,sans-Serif\" font-size=\"14.00\">entropy = 0.918</text>\n",
       "<text text-anchor=\"start\" x=\"841.12\" y=\"-144.95\" font-family=\"Helvetica,sans-Serif\" font-size=\"14.00\">samples = 6</text>\n",
       "<text text-anchor=\"start\" x=\"831.75\" y=\"-129.2\" font-family=\"Helvetica,sans-Serif\" font-size=\"14.00\">value = [2, 4, 0]</text>\n",
       "<text text-anchor=\"start\" x=\"826.12\" y=\"-113.45\" font-family=\"Helvetica,sans-Serif\" font-size=\"14.00\">class = Chinstrap</text>\n",
       "</g>\n",
       "<!-- 13&#45;&gt;15 -->\n",
       "<g id=\"edge15\" class=\"edge\">\n",
       "<title>13&#45;&gt;15</title>\n",
       "<path fill=\"none\" stroke=\"black\" d=\"M768.36,-229.89C781.51,-220.5 795.56,-210.46 809.07,-200.81\"/>\n",
       "<polygon fill=\"black\" stroke=\"black\" points=\"810.98,-203.74 817.09,-195.08 806.91,-198.04 810.98,-203.74\"/>\n",
       "</g>\n",
       "<!-- 16 -->\n",
       "<g id=\"node17\" class=\"node\">\n",
       "<title>16</title>\n",
       "<path fill=\"#e58139\" stroke=\"black\" d=\"M853.75,-71C853.75,-71 768.75,-71 768.75,-71 762.75,-71 756.75,-65 756.75,-59 756.75,-59 756.75,-12 756.75,-12 756.75,-6 762.75,0 768.75,0 768.75,0 853.75,0 853.75,0 859.75,0 865.75,-6 865.75,-12 865.75,-12 865.75,-59 865.75,-59 865.75,-65 859.75,-71 853.75,-71\"/>\n",
       "<text text-anchor=\"start\" x=\"771.5\" y=\"-53.7\" font-family=\"Helvetica,sans-Serif\" font-size=\"14.00\">entropy = 0.0</text>\n",
       "<text text-anchor=\"start\" x=\"774.12\" y=\"-37.95\" font-family=\"Helvetica,sans-Serif\" font-size=\"14.00\">samples = 2</text>\n",
       "<text text-anchor=\"start\" x=\"764.75\" y=\"-22.2\" font-family=\"Helvetica,sans-Serif\" font-size=\"14.00\">value = [2, 0, 0]</text>\n",
       "<text text-anchor=\"start\" x=\"769.62\" y=\"-6.45\" font-family=\"Helvetica,sans-Serif\" font-size=\"14.00\">class = Adelie</text>\n",
       "</g>\n",
       "<!-- 15&#45;&gt;16 -->\n",
       "<g id=\"edge16\" class=\"edge\">\n",
       "<title>15&#45;&gt;16</title>\n",
       "<path fill=\"none\" stroke=\"black\" d=\"M852.92,-106.7C847.91,-98.27 842.65,-89.39 837.61,-80.9\"/>\n",
       "<polygon fill=\"black\" stroke=\"black\" points=\"840.71,-79.27 832.59,-72.46 834.69,-82.84 840.71,-79.27\"/>\n",
       "</g>\n",
       "<!-- 17 -->\n",
       "<g id=\"node18\" class=\"node\">\n",
       "<title>17</title>\n",
       "<path fill=\"#39e581\" stroke=\"black\" d=\"M992.38,-71C992.38,-71 896.12,-71 896.12,-71 890.12,-71 884.12,-65 884.12,-59 884.12,-59 884.12,-12 884.12,-12 884.12,-6 890.12,0 896.12,0 896.12,0 992.38,0 992.38,0 998.38,0 1004.38,-6 1004.38,-12 1004.38,-12 1004.38,-59 1004.38,-59 1004.38,-65 998.38,-71 992.38,-71\"/>\n",
       "<text text-anchor=\"start\" x=\"904.5\" y=\"-53.7\" font-family=\"Helvetica,sans-Serif\" font-size=\"14.00\">entropy = 0.0</text>\n",
       "<text text-anchor=\"start\" x=\"907.12\" y=\"-37.95\" font-family=\"Helvetica,sans-Serif\" font-size=\"14.00\">samples = 4</text>\n",
       "<text text-anchor=\"start\" x=\"897.75\" y=\"-22.2\" font-family=\"Helvetica,sans-Serif\" font-size=\"14.00\">value = [0, 4, 0]</text>\n",
       "<text text-anchor=\"start\" x=\"892.12\" y=\"-6.45\" font-family=\"Helvetica,sans-Serif\" font-size=\"14.00\">class = Chinstrap</text>\n",
       "</g>\n",
       "<!-- 15&#45;&gt;17 -->\n",
       "<g id=\"edge17\" class=\"edge\">\n",
       "<title>15&#45;&gt;17</title>\n",
       "<path fill=\"none\" stroke=\"black\" d=\"M903.2,-106.7C908.13,-98.27 913.32,-89.39 918.29,-80.9\"/>\n",
       "<polygon fill=\"black\" stroke=\"black\" points=\"921.19,-82.86 923.22,-72.46 915.15,-79.33 921.19,-82.86\"/>\n",
       "</g>\n",
       "</g>\n",
       "</svg>\n"
      ],
      "text/plain": [
       "<graphviz.sources.Source at 0x2cabebe5f50>"
      ]
     },
     "metadata": {},
     "output_type": "display_data"
    },
    {
     "name": "stdout",
     "output_type": "stream",
     "text": [
      "✓ Decision tree (depth=4) visualized and saved to output/max_depth_graphviz\\graph_model_80_20_depth_4.png\n"
     ]
    },
    {
     "data": {
      "image/svg+xml": [
       "<?xml version=\"1.0\" encoding=\"UTF-8\" standalone=\"no\"?>\n",
       "<!DOCTYPE svg PUBLIC \"-//W3C//DTD SVG 1.1//EN\"\n",
       " \"http://www.w3.org/Graphics/SVG/1.1/DTD/svg11.dtd\">\n",
       "<!-- Generated by graphviz version 12.2.1 (20241206.2353)\n",
       " -->\n",
       "<!-- Title: Tree Pages: 1 -->\n",
       "<svg width=\"1050pt\" height=\"693pt\"\n",
       " viewBox=\"0.00 0.00 1049.62 692.75\" xmlns=\"http://www.w3.org/2000/svg\" xmlns:xlink=\"http://www.w3.org/1999/xlink\">\n",
       "<g id=\"graph0\" class=\"graph\" transform=\"scale(1 1) rotate(0) translate(4 688.75)\">\n",
       "<title>Tree</title>\n",
       "<polygon fill=\"white\" stroke=\"none\" points=\"-4,4 -4,-688.75 1045.62,-688.75 1045.62,4 -4,4\"/>\n",
       "<!-- 0 -->\n",
       "<g id=\"node1\" class=\"node\">\n",
       "<title>0</title>\n",
       "<path fill=\"#fcf3ec\" stroke=\"black\" d=\"M796,-684.75C796,-684.75 632.25,-684.75 632.25,-684.75 626.25,-684.75 620.25,-678.75 620.25,-672.75 620.25,-672.75 620.25,-610 620.25,-610 620.25,-604 626.25,-598 632.25,-598 632.25,-598 796,-598 796,-598 802,-598 808,-604 808,-610 808,-610 808,-672.75 808,-672.75 808,-678.75 802,-684.75 796,-684.75\"/>\n",
       "<text text-anchor=\"start\" x=\"628.25\" y=\"-667.45\" font-family=\"Helvetica,sans-Serif\" font-size=\"14.00\">Flipper Length (mm) ≤ 206.0</text>\n",
       "<text text-anchor=\"start\" x=\"666.88\" y=\"-651.7\" font-family=\"Helvetica,sans-Serif\" font-size=\"14.00\">entropy = 1.526</text>\n",
       "<text text-anchor=\"start\" x=\"669.5\" y=\"-635.95\" font-family=\"Helvetica,sans-Serif\" font-size=\"14.00\">samples = 260</text>\n",
       "<text text-anchor=\"start\" x=\"653.38\" y=\"-620.2\" font-family=\"Helvetica,sans-Serif\" font-size=\"14.00\">value = [111, 54, 95]</text>\n",
       "<text text-anchor=\"start\" x=\"672.5\" y=\"-604.45\" font-family=\"Helvetica,sans-Serif\" font-size=\"14.00\">class = Adelie</text>\n",
       "</g>\n",
       "<!-- 1 -->\n",
       "<g id=\"node2\" class=\"node\">\n",
       "<title>1</title>\n",
       "<path fill=\"#f1bb95\" stroke=\"black\" d=\"M624.25,-562C624.25,-562 462,-562 462,-562 456,-562 450,-556 450,-550 450,-550 450,-487.25 450,-487.25 450,-481.25 456,-475.25 462,-475.25 462,-475.25 624.25,-475.25 624.25,-475.25 630.25,-475.25 636.25,-481.25 636.25,-487.25 636.25,-487.25 636.25,-550 636.25,-550 636.25,-556 630.25,-562 624.25,-562\"/>\n",
       "<text text-anchor=\"start\" x=\"458\" y=\"-544.7\" font-family=\"Helvetica,sans-Serif\" font-size=\"14.00\">Culmen Length (mm) ≤ 44.2</text>\n",
       "<text text-anchor=\"start\" x=\"495.88\" y=\"-528.95\" font-family=\"Helvetica,sans-Serif\" font-size=\"14.00\">entropy = 0.947</text>\n",
       "<text text-anchor=\"start\" x=\"498.5\" y=\"-513.2\" font-family=\"Helvetica,sans-Serif\" font-size=\"14.00\">samples = 160</text>\n",
       "<text text-anchor=\"start\" x=\"485.38\" y=\"-497.45\" font-family=\"Helvetica,sans-Serif\" font-size=\"14.00\">value = [109, 50, 1]</text>\n",
       "<text text-anchor=\"start\" x=\"501.5\" y=\"-481.7\" font-family=\"Helvetica,sans-Serif\" font-size=\"14.00\">class = Adelie</text>\n",
       "</g>\n",
       "<!-- 0&#45;&gt;1 -->\n",
       "<g id=\"edge1\" class=\"edge\">\n",
       "<title>0&#45;&gt;1</title>\n",
       "<path fill=\"none\" stroke=\"black\" d=\"M653.84,-597.8C640.63,-588.48 626.55,-578.53 613.01,-568.97\"/>\n",
       "<polygon fill=\"black\" stroke=\"black\" points=\"615.16,-566.21 604.97,-563.3 611.12,-571.92 615.16,-566.21\"/>\n",
       "<text text-anchor=\"middle\" x=\"607.98\" y=\"-581.64\" font-family=\"Helvetica,sans-Serif\" font-size=\"14.00\">True</text>\n",
       "</g>\n",
       "<!-- 18 -->\n",
       "<g id=\"node19\" class=\"node\">\n",
       "<title>18</title>\n",
       "<path fill=\"#8945e7\" stroke=\"black\" d=\"M886.12,-562C886.12,-562 750.12,-562 750.12,-562 744.12,-562 738.12,-556 738.12,-550 738.12,-550 738.12,-487.25 738.12,-487.25 738.12,-481.25 744.12,-475.25 750.12,-475.25 750.12,-475.25 886.12,-475.25 886.12,-475.25 892.12,-475.25 898.12,-481.25 898.12,-487.25 898.12,-487.25 898.12,-550 898.12,-550 898.12,-556 892.12,-562 886.12,-562\"/>\n",
       "<text text-anchor=\"start\" x=\"746.12\" y=\"-544.7\" font-family=\"Helvetica,sans-Serif\" font-size=\"14.00\">Body Mass (g) ≤ 4325.0</text>\n",
       "<text text-anchor=\"start\" x=\"770.88\" y=\"-528.95\" font-family=\"Helvetica,sans-Serif\" font-size=\"14.00\">entropy = 0.383</text>\n",
       "<text text-anchor=\"start\" x=\"773.5\" y=\"-513.2\" font-family=\"Helvetica,sans-Serif\" font-size=\"14.00\">samples = 100</text>\n",
       "<text text-anchor=\"start\" x=\"767.88\" y=\"-497.45\" font-family=\"Helvetica,sans-Serif\" font-size=\"14.00\">value = [2, 4, 94]</text>\n",
       "<text text-anchor=\"start\" x=\"772.38\" y=\"-481.7\" font-family=\"Helvetica,sans-Serif\" font-size=\"14.00\">class = Gentoo</text>\n",
       "</g>\n",
       "<!-- 0&#45;&gt;18 -->\n",
       "<g id=\"edge18\" class=\"edge\">\n",
       "<title>0&#45;&gt;18</title>\n",
       "<path fill=\"none\" stroke=\"black\" d=\"M750.79,-597.8C758.33,-589.06 766.33,-579.76 774.09,-570.75\"/>\n",
       "<polygon fill=\"black\" stroke=\"black\" points=\"776.58,-573.23 780.45,-563.37 771.27,-568.66 776.58,-573.23\"/>\n",
       "<text text-anchor=\"middle\" x=\"783.3\" y=\"-581.73\" font-family=\"Helvetica,sans-Serif\" font-size=\"14.00\">False</text>\n",
       "</g>\n",
       "<!-- 2 -->\n",
       "<g id=\"node3\" class=\"node\">\n",
       "<title>2</title>\n",
       "<path fill=\"#e6853f\" stroke=\"black\" d=\"M366,-439.25C366,-439.25 196.25,-439.25 196.25,-439.25 190.25,-439.25 184.25,-433.25 184.25,-427.25 184.25,-427.25 184.25,-364.5 184.25,-364.5 184.25,-358.5 190.25,-352.5 196.25,-352.5 196.25,-352.5 366,-352.5 366,-352.5 372,-352.5 378,-358.5 378,-364.5 378,-364.5 378,-427.25 378,-427.25 378,-433.25 372,-439.25 366,-439.25\"/>\n",
       "<text text-anchor=\"start\" x=\"192.25\" y=\"-421.95\" font-family=\"Helvetica,sans-Serif\" font-size=\"14.00\">Culmen Length (mm) ≤ 40.75</text>\n",
       "<text text-anchor=\"start\" x=\"233.88\" y=\"-406.2\" font-family=\"Helvetica,sans-Serif\" font-size=\"14.00\">entropy = 0.182</text>\n",
       "<text text-anchor=\"start\" x=\"236.5\" y=\"-390.45\" font-family=\"Helvetica,sans-Serif\" font-size=\"14.00\">samples = 109</text>\n",
       "<text text-anchor=\"start\" x=\"227.12\" y=\"-374.7\" font-family=\"Helvetica,sans-Serif\" font-size=\"14.00\">value = [106, 3, 0]</text>\n",
       "<text text-anchor=\"start\" x=\"239.5\" y=\"-358.95\" font-family=\"Helvetica,sans-Serif\" font-size=\"14.00\">class = Adelie</text>\n",
       "</g>\n",
       "<!-- 1&#45;&gt;2 -->\n",
       "<g id=\"edge2\" class=\"edge\">\n",
       "<title>1&#45;&gt;2</title>\n",
       "<path fill=\"none\" stroke=\"black\" d=\"M450.38,-474.88C428.91,-464.99 405.93,-454.39 384.04,-444.31\"/>\n",
       "<polygon fill=\"black\" stroke=\"black\" points=\"385.66,-441.2 375.12,-440.19 382.73,-447.56 385.66,-441.2\"/>\n",
       "</g>\n",
       "<!-- 9 -->\n",
       "<g id=\"node10\" class=\"node\">\n",
       "<title>9</title>\n",
       "<path fill=\"#4ae78c\" stroke=\"black\" d=\"M611.12,-439.25C611.12,-439.25 475.12,-439.25 475.12,-439.25 469.12,-439.25 463.12,-433.25 463.12,-427.25 463.12,-427.25 463.12,-364.5 463.12,-364.5 463.12,-358.5 469.12,-352.5 475.12,-352.5 475.12,-352.5 611.12,-352.5 611.12,-352.5 617.12,-352.5 623.12,-358.5 623.12,-364.5 623.12,-364.5 623.12,-427.25 623.12,-427.25 623.12,-433.25 617.12,-439.25 611.12,-439.25\"/>\n",
       "<text text-anchor=\"start\" x=\"471.12\" y=\"-421.95\" font-family=\"Helvetica,sans-Serif\" font-size=\"14.00\">Body Mass (g) ≤ 4100.0</text>\n",
       "<text text-anchor=\"start\" x=\"499.62\" y=\"-406.2\" font-family=\"Helvetica,sans-Serif\" font-size=\"14.00\">entropy = 0.46</text>\n",
       "<text text-anchor=\"start\" x=\"502.25\" y=\"-390.45\" font-family=\"Helvetica,sans-Serif\" font-size=\"14.00\">samples = 51</text>\n",
       "<text text-anchor=\"start\" x=\"492.88\" y=\"-374.7\" font-family=\"Helvetica,sans-Serif\" font-size=\"14.00\">value = [3, 47, 1]</text>\n",
       "<text text-anchor=\"start\" x=\"491\" y=\"-358.95\" font-family=\"Helvetica,sans-Serif\" font-size=\"14.00\">class = Chinstrap</text>\n",
       "</g>\n",
       "<!-- 1&#45;&gt;9 -->\n",
       "<g id=\"edge9\" class=\"edge\">\n",
       "<title>1&#45;&gt;9</title>\n",
       "<path fill=\"none\" stroke=\"black\" d=\"M543.12,-475.05C543.12,-467.21 543.12,-458.92 543.12,-450.79\"/>\n",
       "<polygon fill=\"black\" stroke=\"black\" points=\"546.63,-450.98 543.13,-440.98 539.63,-450.98 546.63,-450.98\"/>\n",
       "</g>\n",
       "<!-- 3 -->\n",
       "<g id=\"node4\" class=\"node\">\n",
       "<title>3</title>\n",
       "<path fill=\"#e58139\" stroke=\"black\" d=\"M171.38,-308.62C171.38,-308.62 78.88,-308.62 78.88,-308.62 72.88,-308.62 66.88,-302.62 66.88,-296.62 66.88,-296.62 66.88,-249.62 66.88,-249.62 66.88,-243.62 72.88,-237.62 78.88,-237.62 78.88,-237.62 171.38,-237.62 171.38,-237.62 177.38,-237.62 183.38,-243.62 183.38,-249.62 183.38,-249.62 183.38,-296.62 183.38,-296.62 183.38,-302.62 177.38,-308.62 171.38,-308.62\"/>\n",
       "<text text-anchor=\"start\" x=\"85.38\" y=\"-291.32\" font-family=\"Helvetica,sans-Serif\" font-size=\"14.00\">entropy = 0.0</text>\n",
       "<text text-anchor=\"start\" x=\"84.25\" y=\"-275.57\" font-family=\"Helvetica,sans-Serif\" font-size=\"14.00\">samples = 82</text>\n",
       "<text text-anchor=\"start\" x=\"74.88\" y=\"-259.82\" font-family=\"Helvetica,sans-Serif\" font-size=\"14.00\">value = [82, 0, 0]</text>\n",
       "<text text-anchor=\"start\" x=\"83.5\" y=\"-244.07\" font-family=\"Helvetica,sans-Serif\" font-size=\"14.00\">class = Adelie</text>\n",
       "</g>\n",
       "<!-- 2&#45;&gt;3 -->\n",
       "<g id=\"edge3\" class=\"edge\">\n",
       "<title>2&#45;&gt;3</title>\n",
       "<path fill=\"none\" stroke=\"black\" d=\"M226.13,-352.3C210.8,-340.44 194.17,-327.57 178.92,-315.76\"/>\n",
       "<polygon fill=\"black\" stroke=\"black\" points=\"181.36,-313.23 171.31,-309.87 177.08,-318.76 181.36,-313.23\"/>\n",
       "</g>\n",
       "<!-- 4 -->\n",
       "<g id=\"node5\" class=\"node\">\n",
       "<title>4</title>\n",
       "<path fill=\"#e89152\" stroke=\"black\" d=\"M349.12,-316.5C349.12,-316.5 213.12,-316.5 213.12,-316.5 207.12,-316.5 201.12,-310.5 201.12,-304.5 201.12,-304.5 201.12,-241.75 201.12,-241.75 201.12,-235.75 207.12,-229.75 213.12,-229.75 213.12,-229.75 349.12,-229.75 349.12,-229.75 355.12,-229.75 361.12,-235.75 361.12,-241.75 361.12,-241.75 361.12,-304.5 361.12,-304.5 361.12,-310.5 355.12,-316.5 349.12,-316.5\"/>\n",
       "<text text-anchor=\"start\" x=\"209.12\" y=\"-299.2\" font-family=\"Helvetica,sans-Serif\" font-size=\"14.00\">Body Mass (g) ≤ 3425.0</text>\n",
       "<text text-anchor=\"start\" x=\"233.88\" y=\"-283.45\" font-family=\"Helvetica,sans-Serif\" font-size=\"14.00\">entropy = 0.503</text>\n",
       "<text text-anchor=\"start\" x=\"240.25\" y=\"-267.7\" font-family=\"Helvetica,sans-Serif\" font-size=\"14.00\">samples = 27</text>\n",
       "<text text-anchor=\"start\" x=\"230.88\" y=\"-251.95\" font-family=\"Helvetica,sans-Serif\" font-size=\"14.00\">value = [24, 3, 0]</text>\n",
       "<text text-anchor=\"start\" x=\"239.5\" y=\"-236.2\" font-family=\"Helvetica,sans-Serif\" font-size=\"14.00\">class = Adelie</text>\n",
       "</g>\n",
       "<!-- 2&#45;&gt;4 -->\n",
       "<g id=\"edge4\" class=\"edge\">\n",
       "<title>2&#45;&gt;4</title>\n",
       "<path fill=\"none\" stroke=\"black\" d=\"M281.12,-352.3C281.12,-344.46 281.12,-336.17 281.12,-328.04\"/>\n",
       "<polygon fill=\"black\" stroke=\"black\" points=\"284.63,-328.23 281.13,-318.23 277.63,-328.23 284.63,-328.23\"/>\n",
       "</g>\n",
       "<!-- 5 -->\n",
       "<g id=\"node6\" class=\"node\">\n",
       "<title>5</title>\n",
       "<path fill=\"#7beeab\" stroke=\"black\" d=\"M217.25,-193.75C217.25,-193.75 121,-193.75 121,-193.75 115,-193.75 109,-187.75 109,-181.75 109,-181.75 109,-119 109,-119 109,-113 115,-107 121,-107 121,-107 217.25,-107 217.25,-107 223.25,-107 229.25,-113 229.25,-119 229.25,-119 229.25,-181.75 229.25,-181.75 229.25,-187.75 223.25,-193.75 217.25,-193.75\"/>\n",
       "<text text-anchor=\"start\" x=\"118.12\" y=\"-176.45\" font-family=\"Helvetica,sans-Serif\" font-size=\"14.00\">Sex_MALE ≤ 0.5</text>\n",
       "<text text-anchor=\"start\" x=\"122.25\" y=\"-160.7\" font-family=\"Helvetica,sans-Serif\" font-size=\"14.00\">entropy = 0.811</text>\n",
       "<text text-anchor=\"start\" x=\"132\" y=\"-144.95\" font-family=\"Helvetica,sans-Serif\" font-size=\"14.00\">samples = 4</text>\n",
       "<text text-anchor=\"start\" x=\"122.62\" y=\"-129.2\" font-family=\"Helvetica,sans-Serif\" font-size=\"14.00\">value = [1, 3, 0]</text>\n",
       "<text text-anchor=\"start\" x=\"117\" y=\"-113.45\" font-family=\"Helvetica,sans-Serif\" font-size=\"14.00\">class = Chinstrap</text>\n",
       "</g>\n",
       "<!-- 4&#45;&gt;5 -->\n",
       "<g id=\"edge5\" class=\"edge\">\n",
       "<title>4&#45;&gt;5</title>\n",
       "<path fill=\"none\" stroke=\"black\" d=\"M241.64,-229.55C233.44,-220.72 224.73,-211.32 216.28,-202.22\"/>\n",
       "<polygon fill=\"black\" stroke=\"black\" points=\"219.03,-200.03 209.66,-195.08 213.9,-204.79 219.03,-200.03\"/>\n",
       "</g>\n",
       "<!-- 8 -->\n",
       "<g id=\"node9\" class=\"node\">\n",
       "<title>8</title>\n",
       "<path fill=\"#e58139\" stroke=\"black\" d=\"M351.38,-185.88C351.38,-185.88 258.88,-185.88 258.88,-185.88 252.88,-185.88 246.88,-179.88 246.88,-173.88 246.88,-173.88 246.88,-126.88 246.88,-126.88 246.88,-120.88 252.88,-114.88 258.88,-114.88 258.88,-114.88 351.38,-114.88 351.38,-114.88 357.38,-114.88 363.38,-120.88 363.38,-126.88 363.38,-126.88 363.38,-173.88 363.38,-173.88 363.38,-179.88 357.38,-185.88 351.38,-185.88\"/>\n",
       "<text text-anchor=\"start\" x=\"265.38\" y=\"-168.57\" font-family=\"Helvetica,sans-Serif\" font-size=\"14.00\">entropy = 0.0</text>\n",
       "<text text-anchor=\"start\" x=\"264.25\" y=\"-152.82\" font-family=\"Helvetica,sans-Serif\" font-size=\"14.00\">samples = 23</text>\n",
       "<text text-anchor=\"start\" x=\"254.88\" y=\"-137.07\" font-family=\"Helvetica,sans-Serif\" font-size=\"14.00\">value = [23, 0, 0]</text>\n",
       "<text text-anchor=\"start\" x=\"263.5\" y=\"-121.33\" font-family=\"Helvetica,sans-Serif\" font-size=\"14.00\">class = Adelie</text>\n",
       "</g>\n",
       "<!-- 4&#45;&gt;8 -->\n",
       "<g id=\"edge8\" class=\"edge\">\n",
       "<title>4&#45;&gt;8</title>\n",
       "<path fill=\"none\" stroke=\"black\" d=\"M289.59,-229.55C291.67,-219.08 293.91,-207.83 296.02,-197.21\"/>\n",
       "<polygon fill=\"black\" stroke=\"black\" points=\"299.43,-197.98 297.95,-187.49 292.56,-196.61 299.43,-197.98\"/>\n",
       "</g>\n",
       "<!-- 6 -->\n",
       "<g id=\"node7\" class=\"node\">\n",
       "<title>6</title>\n",
       "<path fill=\"#39e581\" stroke=\"black\" d=\"M108.25,-71C108.25,-71 12,-71 12,-71 6,-71 0,-65 0,-59 0,-59 0,-12 0,-12 0,-6 6,0 12,0 12,0 108.25,0 108.25,0 114.25,0 120.25,-6 120.25,-12 120.25,-12 120.25,-59 120.25,-59 120.25,-65 114.25,-71 108.25,-71\"/>\n",
       "<text text-anchor=\"start\" x=\"20.38\" y=\"-53.7\" font-family=\"Helvetica,sans-Serif\" font-size=\"14.00\">entropy = 0.0</text>\n",
       "<text text-anchor=\"start\" x=\"23\" y=\"-37.95\" font-family=\"Helvetica,sans-Serif\" font-size=\"14.00\">samples = 3</text>\n",
       "<text text-anchor=\"start\" x=\"13.62\" y=\"-22.2\" font-family=\"Helvetica,sans-Serif\" font-size=\"14.00\">value = [0, 3, 0]</text>\n",
       "<text text-anchor=\"start\" x=\"8\" y=\"-6.45\" font-family=\"Helvetica,sans-Serif\" font-size=\"14.00\">class = Chinstrap</text>\n",
       "</g>\n",
       "<!-- 5&#45;&gt;6 -->\n",
       "<g id=\"edge6\" class=\"edge\">\n",
       "<title>5&#45;&gt;6</title>\n",
       "<path fill=\"none\" stroke=\"black\" d=\"M127.92,-106.7C119.24,-97.72 110.08,-88.23 101.4,-79.25\"/>\n",
       "<polygon fill=\"black\" stroke=\"black\" points=\"104.11,-77.01 94.64,-72.25 99.07,-81.87 104.11,-77.01\"/>\n",
       "</g>\n",
       "<!-- 7 -->\n",
       "<g id=\"node8\" class=\"node\">\n",
       "<title>7</title>\n",
       "<path fill=\"#e58139\" stroke=\"black\" d=\"M235.62,-71C235.62,-71 150.62,-71 150.62,-71 144.62,-71 138.62,-65 138.62,-59 138.62,-59 138.62,-12 138.62,-12 138.62,-6 144.62,0 150.62,0 150.62,0 235.62,0 235.62,0 241.62,0 247.62,-6 247.62,-12 247.62,-12 247.62,-59 247.62,-59 247.62,-65 241.62,-71 235.62,-71\"/>\n",
       "<text text-anchor=\"start\" x=\"153.38\" y=\"-53.7\" font-family=\"Helvetica,sans-Serif\" font-size=\"14.00\">entropy = 0.0</text>\n",
       "<text text-anchor=\"start\" x=\"156\" y=\"-37.95\" font-family=\"Helvetica,sans-Serif\" font-size=\"14.00\">samples = 1</text>\n",
       "<text text-anchor=\"start\" x=\"146.62\" y=\"-22.2\" font-family=\"Helvetica,sans-Serif\" font-size=\"14.00\">value = [1, 0, 0]</text>\n",
       "<text text-anchor=\"start\" x=\"151.5\" y=\"-6.45\" font-family=\"Helvetica,sans-Serif\" font-size=\"14.00\">class = Adelie</text>\n",
       "</g>\n",
       "<!-- 5&#45;&gt;7 -->\n",
       "<g id=\"edge7\" class=\"edge\">\n",
       "<title>5&#45;&gt;7</title>\n",
       "<path fill=\"none\" stroke=\"black\" d=\"M178.2,-106.7C179.89,-98.72 181.67,-90.36 183.39,-82.29\"/>\n",
       "<polygon fill=\"black\" stroke=\"black\" points=\"186.78,-83.15 185.44,-72.64 179.94,-81.69 186.78,-83.15\"/>\n",
       "</g>\n",
       "<!-- 10 -->\n",
       "<g id=\"node11\" class=\"node\">\n",
       "<title>10</title>\n",
       "<path fill=\"#39e581\" stroke=\"black\" d=\"M487.25,-308.62C487.25,-308.62 391,-308.62 391,-308.62 385,-308.62 379,-302.62 379,-296.62 379,-296.62 379,-249.62 379,-249.62 379,-243.62 385,-237.62 391,-237.62 391,-237.62 487.25,-237.62 487.25,-237.62 493.25,-237.62 499.25,-243.62 499.25,-249.62 499.25,-249.62 499.25,-296.62 499.25,-296.62 499.25,-302.62 493.25,-308.62 487.25,-308.62\"/>\n",
       "<text text-anchor=\"start\" x=\"399.38\" y=\"-291.32\" font-family=\"Helvetica,sans-Serif\" font-size=\"14.00\">entropy = 0.0</text>\n",
       "<text text-anchor=\"start\" x=\"398.25\" y=\"-275.57\" font-family=\"Helvetica,sans-Serif\" font-size=\"14.00\">samples = 42</text>\n",
       "<text text-anchor=\"start\" x=\"388.88\" y=\"-259.82\" font-family=\"Helvetica,sans-Serif\" font-size=\"14.00\">value = [0, 42, 0]</text>\n",
       "<text text-anchor=\"start\" x=\"387\" y=\"-244.07\" font-family=\"Helvetica,sans-Serif\" font-size=\"14.00\">class = Chinstrap</text>\n",
       "</g>\n",
       "<!-- 9&#45;&gt;10 -->\n",
       "<g id=\"edge10\" class=\"edge\">\n",
       "<title>9&#45;&gt;10</title>\n",
       "<path fill=\"none\" stroke=\"black\" d=\"M506.46,-352.3C496.67,-340.94 486.09,-328.65 476.28,-317.26\"/>\n",
       "<polygon fill=\"black\" stroke=\"black\" points=\"479.12,-315.19 469.94,-309.9 473.81,-319.76 479.12,-315.19\"/>\n",
       "</g>\n",
       "<!-- 11 -->\n",
       "<g id=\"node12\" class=\"node\">\n",
       "<title>11</title>\n",
       "<path fill=\"#bdf6d5\" stroke=\"black\" d=\"M691.25,-316.5C691.25,-316.5 529,-316.5 529,-316.5 523,-316.5 517,-310.5 517,-304.5 517,-304.5 517,-241.75 517,-241.75 517,-235.75 523,-229.75 529,-229.75 529,-229.75 691.25,-229.75 691.25,-229.75 697.25,-229.75 703.25,-235.75 703.25,-241.75 703.25,-241.75 703.25,-304.5 703.25,-304.5 703.25,-310.5 697.25,-316.5 691.25,-316.5\"/>\n",
       "<text text-anchor=\"start\" x=\"525\" y=\"-299.2\" font-family=\"Helvetica,sans-Serif\" font-size=\"14.00\">Culmen Length (mm) ≤ 47.2</text>\n",
       "<text text-anchor=\"start\" x=\"562.88\" y=\"-283.45\" font-family=\"Helvetica,sans-Serif\" font-size=\"14.00\">entropy = 1.352</text>\n",
       "<text text-anchor=\"start\" x=\"573\" y=\"-267.7\" font-family=\"Helvetica,sans-Serif\" font-size=\"14.00\">samples = 9</text>\n",
       "<text text-anchor=\"start\" x=\"563.62\" y=\"-251.95\" font-family=\"Helvetica,sans-Serif\" font-size=\"14.00\">value = [3, 5, 1]</text>\n",
       "<text text-anchor=\"start\" x=\"558\" y=\"-236.2\" font-family=\"Helvetica,sans-Serif\" font-size=\"14.00\">class = Chinstrap</text>\n",
       "</g>\n",
       "<!-- 9&#45;&gt;11 -->\n",
       "<g id=\"edge11\" class=\"edge\">\n",
       "<title>9&#45;&gt;11</title>\n",
       "<path fill=\"none\" stroke=\"black\" d=\"M566.75,-352.3C571.35,-344.01 576.23,-335.22 580.98,-326.64\"/>\n",
       "<polygon fill=\"black\" stroke=\"black\" points=\"583.97,-328.49 585.76,-318.04 577.84,-325.09 583.97,-328.49\"/>\n",
       "</g>\n",
       "<!-- 12 -->\n",
       "<g id=\"node13\" class=\"node\">\n",
       "<title>12</title>\n",
       "<path fill=\"#eeab7b\" stroke=\"black\" d=\"M539.12,-193.75C539.12,-193.75 445.12,-193.75 445.12,-193.75 439.12,-193.75 433.12,-187.75 433.12,-181.75 433.12,-181.75 433.12,-119 433.12,-119 433.12,-113 439.12,-107 445.12,-107 445.12,-107 539.12,-107 539.12,-107 545.12,-107 551.12,-113 551.12,-119 551.12,-119 551.12,-181.75 551.12,-181.75 551.12,-187.75 545.12,-193.75 539.12,-193.75\"/>\n",
       "<text text-anchor=\"start\" x=\"441.12\" y=\"-176.45\" font-family=\"Helvetica,sans-Serif\" font-size=\"14.00\">Sex_MALE ≤ 0.5</text>\n",
       "<text text-anchor=\"start\" x=\"445.25\" y=\"-160.7\" font-family=\"Helvetica,sans-Serif\" font-size=\"14.00\">entropy = 0.811</text>\n",
       "<text text-anchor=\"start\" x=\"455\" y=\"-144.95\" font-family=\"Helvetica,sans-Serif\" font-size=\"14.00\">samples = 4</text>\n",
       "<text text-anchor=\"start\" x=\"445.62\" y=\"-129.2\" font-family=\"Helvetica,sans-Serif\" font-size=\"14.00\">value = [3, 1, 0]</text>\n",
       "<text text-anchor=\"start\" x=\"450.5\" y=\"-113.45\" font-family=\"Helvetica,sans-Serif\" font-size=\"14.00\">class = Adelie</text>\n",
       "</g>\n",
       "<!-- 11&#45;&gt;12 -->\n",
       "<g id=\"edge12\" class=\"edge\">\n",
       "<title>11&#45;&gt;12</title>\n",
       "<path fill=\"none\" stroke=\"black\" d=\"M568.52,-229.55C559.8,-220.63 550.52,-211.13 541.54,-201.94\"/>\n",
       "<polygon fill=\"black\" stroke=\"black\" points=\"544.3,-199.76 534.81,-195.05 539.29,-204.65 544.3,-199.76\"/>\n",
       "</g>\n",
       "<!-- 15 -->\n",
       "<g id=\"node16\" class=\"node\">\n",
       "<title>15</title>\n",
       "<path fill=\"#6aeca0\" stroke=\"black\" d=\"M677.25,-193.75C677.25,-193.75 581,-193.75 581,-193.75 575,-193.75 569,-187.75 569,-181.75 569,-181.75 569,-119 569,-119 569,-113 575,-107 581,-107 581,-107 677.25,-107 677.25,-107 683.25,-107 689.25,-113 689.25,-119 689.25,-119 689.25,-181.75 689.25,-181.75 689.25,-187.75 683.25,-193.75 677.25,-193.75\"/>\n",
       "<text text-anchor=\"start\" x=\"578.12\" y=\"-176.45\" font-family=\"Helvetica,sans-Serif\" font-size=\"14.00\">Sex_MALE ≤ 0.5</text>\n",
       "<text text-anchor=\"start\" x=\"581.88\" y=\"-160.7\" font-family=\"Helvetica,sans-Serif\" font-size=\"14.00\">entropy = 0.722</text>\n",
       "<text text-anchor=\"start\" x=\"592\" y=\"-144.95\" font-family=\"Helvetica,sans-Serif\" font-size=\"14.00\">samples = 5</text>\n",
       "<text text-anchor=\"start\" x=\"582.62\" y=\"-129.2\" font-family=\"Helvetica,sans-Serif\" font-size=\"14.00\">value = [0, 4, 1]</text>\n",
       "<text text-anchor=\"start\" x=\"577\" y=\"-113.45\" font-family=\"Helvetica,sans-Serif\" font-size=\"14.00\">class = Chinstrap</text>\n",
       "</g>\n",
       "<!-- 11&#45;&gt;15 -->\n",
       "<g id=\"edge15\" class=\"edge\">\n",
       "<title>11&#45;&gt;15</title>\n",
       "<path fill=\"none\" stroke=\"black\" d=\"M616.82,-229.55C618.06,-221.71 619.36,-213.42 620.64,-205.29\"/>\n",
       "<polygon fill=\"black\" stroke=\"black\" points=\"624.09,-205.89 622.19,-195.46 617.18,-204.8 624.09,-205.89\"/>\n",
       "</g>\n",
       "<!-- 13 -->\n",
       "<g id=\"node14\" class=\"node\">\n",
       "<title>13</title>\n",
       "<path fill=\"#39e581\" stroke=\"black\" d=\"M410.25,-71C410.25,-71 314,-71 314,-71 308,-71 302,-65 302,-59 302,-59 302,-12 302,-12 302,-6 308,0 314,0 314,0 410.25,0 410.25,0 416.25,0 422.25,-6 422.25,-12 422.25,-12 422.25,-59 422.25,-59 422.25,-65 416.25,-71 410.25,-71\"/>\n",
       "<text text-anchor=\"start\" x=\"322.38\" y=\"-53.7\" font-family=\"Helvetica,sans-Serif\" font-size=\"14.00\">entropy = 0.0</text>\n",
       "<text text-anchor=\"start\" x=\"325\" y=\"-37.95\" font-family=\"Helvetica,sans-Serif\" font-size=\"14.00\">samples = 1</text>\n",
       "<text text-anchor=\"start\" x=\"315.62\" y=\"-22.2\" font-family=\"Helvetica,sans-Serif\" font-size=\"14.00\">value = [0, 1, 0]</text>\n",
       "<text text-anchor=\"start\" x=\"310\" y=\"-6.45\" font-family=\"Helvetica,sans-Serif\" font-size=\"14.00\">class = Chinstrap</text>\n",
       "</g>\n",
       "<!-- 12&#45;&gt;13 -->\n",
       "<g id=\"edge13\" class=\"edge\">\n",
       "<title>12&#45;&gt;13</title>\n",
       "<path fill=\"none\" stroke=\"black\" d=\"M442.98,-106.7C432.42,-97.53 421.26,-87.85 410.72,-78.7\"/>\n",
       "<polygon fill=\"black\" stroke=\"black\" points=\"413.03,-76.06 403.18,-72.15 408.44,-81.35 413.03,-76.06\"/>\n",
       "</g>\n",
       "<!-- 14 -->\n",
       "<g id=\"node15\" class=\"node\">\n",
       "<title>14</title>\n",
       "<path fill=\"#e58139\" stroke=\"black\" d=\"M537.62,-71C537.62,-71 452.62,-71 452.62,-71 446.62,-71 440.62,-65 440.62,-59 440.62,-59 440.62,-12 440.62,-12 440.62,-6 446.62,0 452.62,0 452.62,0 537.62,0 537.62,0 543.62,0 549.62,-6 549.62,-12 549.62,-12 549.62,-59 549.62,-59 549.62,-65 543.62,-71 537.62,-71\"/>\n",
       "<text text-anchor=\"start\" x=\"455.38\" y=\"-53.7\" font-family=\"Helvetica,sans-Serif\" font-size=\"14.00\">entropy = 0.0</text>\n",
       "<text text-anchor=\"start\" x=\"458\" y=\"-37.95\" font-family=\"Helvetica,sans-Serif\" font-size=\"14.00\">samples = 3</text>\n",
       "<text text-anchor=\"start\" x=\"448.62\" y=\"-22.2\" font-family=\"Helvetica,sans-Serif\" font-size=\"14.00\">value = [3, 0, 0]</text>\n",
       "<text text-anchor=\"start\" x=\"453.5\" y=\"-6.45\" font-family=\"Helvetica,sans-Serif\" font-size=\"14.00\">class = Adelie</text>\n",
       "</g>\n",
       "<!-- 12&#45;&gt;14 -->\n",
       "<g id=\"edge14\" class=\"edge\">\n",
       "<title>12&#45;&gt;14</title>\n",
       "<path fill=\"none\" stroke=\"black\" d=\"M493.26,-106.7C493.47,-98.82 493.69,-90.55 493.9,-82.57\"/>\n",
       "<polygon fill=\"black\" stroke=\"black\" points=\"497.4,-82.76 494.16,-72.67 490.4,-82.57 497.4,-82.76\"/>\n",
       "</g>\n",
       "<!-- 16 -->\n",
       "<g id=\"node17\" class=\"node\">\n",
       "<title>16</title>\n",
       "<path fill=\"#8139e5\" stroke=\"black\" d=\"M669.62,-71C669.62,-71 584.62,-71 584.62,-71 578.62,-71 572.62,-65 572.62,-59 572.62,-59 572.62,-12 572.62,-12 572.62,-6 578.62,0 584.62,0 584.62,0 669.62,0 669.62,0 675.62,0 681.62,-6 681.62,-12 681.62,-12 681.62,-59 681.62,-59 681.62,-65 675.62,-71 669.62,-71\"/>\n",
       "<text text-anchor=\"start\" x=\"587.38\" y=\"-53.7\" font-family=\"Helvetica,sans-Serif\" font-size=\"14.00\">entropy = 0.0</text>\n",
       "<text text-anchor=\"start\" x=\"590\" y=\"-37.95\" font-family=\"Helvetica,sans-Serif\" font-size=\"14.00\">samples = 1</text>\n",
       "<text text-anchor=\"start\" x=\"580.62\" y=\"-22.2\" font-family=\"Helvetica,sans-Serif\" font-size=\"14.00\">value = [0, 0, 1]</text>\n",
       "<text text-anchor=\"start\" x=\"581.38\" y=\"-6.45\" font-family=\"Helvetica,sans-Serif\" font-size=\"14.00\">class = Gentoo</text>\n",
       "</g>\n",
       "<!-- 15&#45;&gt;16 -->\n",
       "<g id=\"edge16\" class=\"edge\">\n",
       "<title>15&#45;&gt;16</title>\n",
       "<path fill=\"none\" stroke=\"black\" d=\"M628.37,-106.7C628.23,-98.82 628.08,-90.55 627.94,-82.57\"/>\n",
       "<polygon fill=\"black\" stroke=\"black\" points=\"631.44,-82.61 627.77,-72.67 624.44,-82.73 631.44,-82.61\"/>\n",
       "</g>\n",
       "<!-- 17 -->\n",
       "<g id=\"node18\" class=\"node\">\n",
       "<title>17</title>\n",
       "<path fill=\"#39e581\" stroke=\"black\" d=\"M808.25,-71C808.25,-71 712,-71 712,-71 706,-71 700,-65 700,-59 700,-59 700,-12 700,-12 700,-6 706,0 712,0 712,0 808.25,0 808.25,0 814.25,0 820.25,-6 820.25,-12 820.25,-12 820.25,-59 820.25,-59 820.25,-65 814.25,-71 808.25,-71\"/>\n",
       "<text text-anchor=\"start\" x=\"720.38\" y=\"-53.7\" font-family=\"Helvetica,sans-Serif\" font-size=\"14.00\">entropy = 0.0</text>\n",
       "<text text-anchor=\"start\" x=\"723\" y=\"-37.95\" font-family=\"Helvetica,sans-Serif\" font-size=\"14.00\">samples = 4</text>\n",
       "<text text-anchor=\"start\" x=\"713.62\" y=\"-22.2\" font-family=\"Helvetica,sans-Serif\" font-size=\"14.00\">value = [0, 4, 0]</text>\n",
       "<text text-anchor=\"start\" x=\"708\" y=\"-6.45\" font-family=\"Helvetica,sans-Serif\" font-size=\"14.00\">class = Chinstrap</text>\n",
       "</g>\n",
       "<!-- 15&#45;&gt;17 -->\n",
       "<g id=\"edge17\" class=\"edge\">\n",
       "<title>15&#45;&gt;17</title>\n",
       "<path fill=\"none\" stroke=\"black\" d=\"M678.65,-106.7C689.4,-97.44 700.76,-87.65 711.47,-78.42\"/>\n",
       "<polygon fill=\"black\" stroke=\"black\" points=\"713.46,-81.32 718.76,-72.15 708.9,-76.02 713.46,-81.32\"/>\n",
       "</g>\n",
       "<!-- 19 -->\n",
       "<g id=\"node20\" class=\"node\">\n",
       "<title>19</title>\n",
       "<path fill=\"#d5bdf6\" stroke=\"black\" d=\"M873.75,-439.25C873.75,-439.25 762.5,-439.25 762.5,-439.25 756.5,-439.25 750.5,-433.25 750.5,-427.25 750.5,-427.25 750.5,-364.5 750.5,-364.5 750.5,-358.5 756.5,-352.5 762.5,-352.5 762.5,-352.5 873.75,-352.5 873.75,-352.5 879.75,-352.5 885.75,-358.5 885.75,-364.5 885.75,-364.5 885.75,-427.25 885.75,-427.25 885.75,-433.25 879.75,-439.25 873.75,-439.25\"/>\n",
       "<text text-anchor=\"start\" x=\"758.5\" y=\"-421.95\" font-family=\"Helvetica,sans-Serif\" font-size=\"14.00\">Sex_FEMALE ≤ 0.5</text>\n",
       "<text text-anchor=\"start\" x=\"774.62\" y=\"-406.2\" font-family=\"Helvetica,sans-Serif\" font-size=\"14.00\">entropy = 1.42</text>\n",
       "<text text-anchor=\"start\" x=\"777.25\" y=\"-390.45\" font-family=\"Helvetica,sans-Serif\" font-size=\"14.00\">samples = 13</text>\n",
       "<text text-anchor=\"start\" x=\"771.62\" y=\"-374.7\" font-family=\"Helvetica,sans-Serif\" font-size=\"14.00\">value = [2, 4, 7]</text>\n",
       "<text text-anchor=\"start\" x=\"772.38\" y=\"-358.95\" font-family=\"Helvetica,sans-Serif\" font-size=\"14.00\">class = Gentoo</text>\n",
       "</g>\n",
       "<!-- 18&#45;&gt;19 -->\n",
       "<g id=\"edge19\" class=\"edge\">\n",
       "<title>18&#45;&gt;19</title>\n",
       "<path fill=\"none\" stroke=\"black\" d=\"M818.12,-475.05C818.12,-467.21 818.12,-458.92 818.12,-450.79\"/>\n",
       "<polygon fill=\"black\" stroke=\"black\" points=\"821.63,-450.98 818.13,-440.98 814.63,-450.98 821.63,-450.98\"/>\n",
       "</g>\n",
       "<!-- 24 -->\n",
       "<g id=\"node25\" class=\"node\">\n",
       "<title>24</title>\n",
       "<path fill=\"#8139e5\" stroke=\"black\" d=\"M1008.38,-431.38C1008.38,-431.38 915.88,-431.38 915.88,-431.38 909.88,-431.38 903.88,-425.38 903.88,-419.38 903.88,-419.38 903.88,-372.38 903.88,-372.38 903.88,-366.38 909.88,-360.38 915.88,-360.38 915.88,-360.38 1008.38,-360.38 1008.38,-360.38 1014.38,-360.38 1020.38,-366.38 1020.38,-372.38 1020.38,-372.38 1020.38,-419.38 1020.38,-419.38 1020.38,-425.38 1014.38,-431.38 1008.38,-431.38\"/>\n",
       "<text text-anchor=\"start\" x=\"922.38\" y=\"-414.07\" font-family=\"Helvetica,sans-Serif\" font-size=\"14.00\">entropy = 0.0</text>\n",
       "<text text-anchor=\"start\" x=\"921.25\" y=\"-398.32\" font-family=\"Helvetica,sans-Serif\" font-size=\"14.00\">samples = 87</text>\n",
       "<text text-anchor=\"start\" x=\"911.88\" y=\"-382.57\" font-family=\"Helvetica,sans-Serif\" font-size=\"14.00\">value = [0, 0, 87]</text>\n",
       "<text text-anchor=\"start\" x=\"916.38\" y=\"-366.82\" font-family=\"Helvetica,sans-Serif\" font-size=\"14.00\">class = Gentoo</text>\n",
       "</g>\n",
       "<!-- 18&#45;&gt;24 -->\n",
       "<g id=\"edge24\" class=\"edge\">\n",
       "<title>18&#45;&gt;24</title>\n",
       "<path fill=\"none\" stroke=\"black\" d=\"M868.89,-475.05C882.98,-463.24 898.25,-450.44 912.28,-438.68\"/>\n",
       "<polygon fill=\"black\" stroke=\"black\" points=\"914.26,-441.58 919.67,-432.48 909.76,-436.22 914.26,-441.58\"/>\n",
       "</g>\n",
       "<!-- 20 -->\n",
       "<g id=\"node21\" class=\"node\">\n",
       "<title>20</title>\n",
       "<path fill=\"#9cf2c0\" stroke=\"black\" d=\"M903,-316.5C903,-316.5 733.25,-316.5 733.25,-316.5 727.25,-316.5 721.25,-310.5 721.25,-304.5 721.25,-304.5 721.25,-241.75 721.25,-241.75 721.25,-235.75 727.25,-229.75 733.25,-229.75 733.25,-229.75 903,-229.75 903,-229.75 909,-229.75 915,-235.75 915,-241.75 915,-241.75 915,-304.5 915,-304.5 915,-310.5 909,-316.5 903,-316.5\"/>\n",
       "<text text-anchor=\"start\" x=\"729.25\" y=\"-299.2\" font-family=\"Helvetica,sans-Serif\" font-size=\"14.00\">Culmen Length (mm) ≤ 46.55</text>\n",
       "<text text-anchor=\"start\" x=\"770.88\" y=\"-283.45\" font-family=\"Helvetica,sans-Serif\" font-size=\"14.00\">entropy = 0.918</text>\n",
       "<text text-anchor=\"start\" x=\"781\" y=\"-267.7\" font-family=\"Helvetica,sans-Serif\" font-size=\"14.00\">samples = 6</text>\n",
       "<text text-anchor=\"start\" x=\"771.62\" y=\"-251.95\" font-family=\"Helvetica,sans-Serif\" font-size=\"14.00\">value = [2, 4, 0]</text>\n",
       "<text text-anchor=\"start\" x=\"766\" y=\"-236.2\" font-family=\"Helvetica,sans-Serif\" font-size=\"14.00\">class = Chinstrap</text>\n",
       "</g>\n",
       "<!-- 19&#45;&gt;20 -->\n",
       "<g id=\"edge20\" class=\"edge\">\n",
       "<title>19&#45;&gt;20</title>\n",
       "<path fill=\"none\" stroke=\"black\" d=\"M818.12,-352.3C818.12,-344.46 818.12,-336.17 818.12,-328.04\"/>\n",
       "<polygon fill=\"black\" stroke=\"black\" points=\"821.63,-328.23 818.13,-318.23 814.63,-328.23 821.63,-328.23\"/>\n",
       "</g>\n",
       "<!-- 23 -->\n",
       "<g id=\"node24\" class=\"node\">\n",
       "<title>23</title>\n",
       "<path fill=\"#8139e5\" stroke=\"black\" d=\"M1029.62,-308.62C1029.62,-308.62 944.62,-308.62 944.62,-308.62 938.62,-308.62 932.62,-302.62 932.62,-296.62 932.62,-296.62 932.62,-249.62 932.62,-249.62 932.62,-243.62 938.62,-237.62 944.62,-237.62 944.62,-237.62 1029.62,-237.62 1029.62,-237.62 1035.62,-237.62 1041.62,-243.62 1041.62,-249.62 1041.62,-249.62 1041.62,-296.62 1041.62,-296.62 1041.62,-302.62 1035.62,-308.62 1029.62,-308.62\"/>\n",
       "<text text-anchor=\"start\" x=\"947.38\" y=\"-291.32\" font-family=\"Helvetica,sans-Serif\" font-size=\"14.00\">entropy = 0.0</text>\n",
       "<text text-anchor=\"start\" x=\"950\" y=\"-275.57\" font-family=\"Helvetica,sans-Serif\" font-size=\"14.00\">samples = 7</text>\n",
       "<text text-anchor=\"start\" x=\"940.62\" y=\"-259.82\" font-family=\"Helvetica,sans-Serif\" font-size=\"14.00\">value = [0, 0, 7]</text>\n",
       "<text text-anchor=\"start\" x=\"941.38\" y=\"-244.07\" font-family=\"Helvetica,sans-Serif\" font-size=\"14.00\">class = Gentoo</text>\n",
       "</g>\n",
       "<!-- 19&#45;&gt;23 -->\n",
       "<g id=\"edge23\" class=\"edge\">\n",
       "<title>19&#45;&gt;23</title>\n",
       "<path fill=\"none\" stroke=\"black\" d=\"M877.71,-352.3C894.47,-340.33 912.66,-327.33 929.31,-315.43\"/>\n",
       "<polygon fill=\"black\" stroke=\"black\" points=\"931.05,-318.49 937.16,-309.83 926.98,-312.79 931.05,-318.49\"/>\n",
       "</g>\n",
       "<!-- 21 -->\n",
       "<g id=\"node22\" class=\"node\">\n",
       "<title>21</title>\n",
       "<path fill=\"#e58139\" stroke=\"black\" d=\"M841.62,-185.88C841.62,-185.88 756.62,-185.88 756.62,-185.88 750.62,-185.88 744.62,-179.88 744.62,-173.88 744.62,-173.88 744.62,-126.88 744.62,-126.88 744.62,-120.88 750.62,-114.88 756.62,-114.88 756.62,-114.88 841.62,-114.88 841.62,-114.88 847.62,-114.88 853.62,-120.88 853.62,-126.88 853.62,-126.88 853.62,-173.88 853.62,-173.88 853.62,-179.88 847.62,-185.88 841.62,-185.88\"/>\n",
       "<text text-anchor=\"start\" x=\"759.38\" y=\"-168.57\" font-family=\"Helvetica,sans-Serif\" font-size=\"14.00\">entropy = 0.0</text>\n",
       "<text text-anchor=\"start\" x=\"762\" y=\"-152.82\" font-family=\"Helvetica,sans-Serif\" font-size=\"14.00\">samples = 2</text>\n",
       "<text text-anchor=\"start\" x=\"752.62\" y=\"-137.07\" font-family=\"Helvetica,sans-Serif\" font-size=\"14.00\">value = [2, 0, 0]</text>\n",
       "<text text-anchor=\"start\" x=\"757.5\" y=\"-121.33\" font-family=\"Helvetica,sans-Serif\" font-size=\"14.00\">class = Adelie</text>\n",
       "</g>\n",
       "<!-- 20&#45;&gt;21 -->\n",
       "<g id=\"edge21\" class=\"edge\">\n",
       "<title>20&#45;&gt;21</title>\n",
       "<path fill=\"none\" stroke=\"black\" d=\"M811.43,-229.55C809.78,-219.08 808.01,-207.83 806.34,-197.21\"/>\n",
       "<polygon fill=\"black\" stroke=\"black\" points=\"809.82,-196.83 804.81,-187.5 802.91,-197.92 809.82,-196.83\"/>\n",
       "</g>\n",
       "<!-- 22 -->\n",
       "<g id=\"node23\" class=\"node\">\n",
       "<title>22</title>\n",
       "<path fill=\"#39e581\" stroke=\"black\" d=\"M980.25,-185.88C980.25,-185.88 884,-185.88 884,-185.88 878,-185.88 872,-179.88 872,-173.88 872,-173.88 872,-126.88 872,-126.88 872,-120.88 878,-114.88 884,-114.88 884,-114.88 980.25,-114.88 980.25,-114.88 986.25,-114.88 992.25,-120.88 992.25,-126.88 992.25,-126.88 992.25,-173.88 992.25,-173.88 992.25,-179.88 986.25,-185.88 980.25,-185.88\"/>\n",
       "<text text-anchor=\"start\" x=\"892.38\" y=\"-168.57\" font-family=\"Helvetica,sans-Serif\" font-size=\"14.00\">entropy = 0.0</text>\n",
       "<text text-anchor=\"start\" x=\"895\" y=\"-152.82\" font-family=\"Helvetica,sans-Serif\" font-size=\"14.00\">samples = 4</text>\n",
       "<text text-anchor=\"start\" x=\"885.62\" y=\"-137.07\" font-family=\"Helvetica,sans-Serif\" font-size=\"14.00\">value = [0, 4, 0]</text>\n",
       "<text text-anchor=\"start\" x=\"880\" y=\"-121.33\" font-family=\"Helvetica,sans-Serif\" font-size=\"14.00\">class = Chinstrap</text>\n",
       "</g>\n",
       "<!-- 20&#45;&gt;22 -->\n",
       "<g id=\"edge22\" class=\"edge\">\n",
       "<title>20&#45;&gt;22</title>\n",
       "<path fill=\"none\" stroke=\"black\" d=\"M858.32,-229.55C869.15,-218.08 880.87,-205.66 891.72,-194.18\"/>\n",
       "<polygon fill=\"black\" stroke=\"black\" points=\"894.07,-196.78 898.39,-187.1 888.98,-191.97 894.07,-196.78\"/>\n",
       "</g>\n",
       "</g>\n",
       "</svg>\n"
      ],
      "text/plain": [
       "<graphviz.sources.Source at 0x2cabebe5e50>"
      ]
     },
     "metadata": {},
     "output_type": "display_data"
    },
    {
     "name": "stdout",
     "output_type": "stream",
     "text": [
      "✓ Decision tree (depth=5) visualized and saved to output/max_depth_graphviz\\graph_model_80_20_depth_5.png\n"
     ]
    },
    {
     "data": {
      "image/svg+xml": [
       "<?xml version=\"1.0\" encoding=\"UTF-8\" standalone=\"no\"?>\n",
       "<!DOCTYPE svg PUBLIC \"-//W3C//DTD SVG 1.1//EN\"\n",
       " \"http://www.w3.org/Graphics/SVG/1.1/DTD/svg11.dtd\">\n",
       "<!-- Generated by graphviz version 12.2.1 (20241206.2353)\n",
       " -->\n",
       "<!-- Title: Tree Pages: 1 -->\n",
       "<svg width=\"1050pt\" height=\"693pt\"\n",
       " viewBox=\"0.00 0.00 1049.62 692.75\" xmlns=\"http://www.w3.org/2000/svg\" xmlns:xlink=\"http://www.w3.org/1999/xlink\">\n",
       "<g id=\"graph0\" class=\"graph\" transform=\"scale(1 1) rotate(0) translate(4 688.75)\">\n",
       "<title>Tree</title>\n",
       "<polygon fill=\"white\" stroke=\"none\" points=\"-4,4 -4,-688.75 1045.62,-688.75 1045.62,4 -4,4\"/>\n",
       "<!-- 0 -->\n",
       "<g id=\"node1\" class=\"node\">\n",
       "<title>0</title>\n",
       "<path fill=\"#fcf3ec\" stroke=\"black\" d=\"M796,-684.75C796,-684.75 632.25,-684.75 632.25,-684.75 626.25,-684.75 620.25,-678.75 620.25,-672.75 620.25,-672.75 620.25,-610 620.25,-610 620.25,-604 626.25,-598 632.25,-598 632.25,-598 796,-598 796,-598 802,-598 808,-604 808,-610 808,-610 808,-672.75 808,-672.75 808,-678.75 802,-684.75 796,-684.75\"/>\n",
       "<text text-anchor=\"start\" x=\"628.25\" y=\"-667.45\" font-family=\"Helvetica,sans-Serif\" font-size=\"14.00\">Flipper Length (mm) ≤ 206.0</text>\n",
       "<text text-anchor=\"start\" x=\"666.88\" y=\"-651.7\" font-family=\"Helvetica,sans-Serif\" font-size=\"14.00\">entropy = 1.526</text>\n",
       "<text text-anchor=\"start\" x=\"669.5\" y=\"-635.95\" font-family=\"Helvetica,sans-Serif\" font-size=\"14.00\">samples = 260</text>\n",
       "<text text-anchor=\"start\" x=\"653.38\" y=\"-620.2\" font-family=\"Helvetica,sans-Serif\" font-size=\"14.00\">value = [111, 54, 95]</text>\n",
       "<text text-anchor=\"start\" x=\"672.5\" y=\"-604.45\" font-family=\"Helvetica,sans-Serif\" font-size=\"14.00\">class = Adelie</text>\n",
       "</g>\n",
       "<!-- 1 -->\n",
       "<g id=\"node2\" class=\"node\">\n",
       "<title>1</title>\n",
       "<path fill=\"#f1bb95\" stroke=\"black\" d=\"M624.25,-562C624.25,-562 462,-562 462,-562 456,-562 450,-556 450,-550 450,-550 450,-487.25 450,-487.25 450,-481.25 456,-475.25 462,-475.25 462,-475.25 624.25,-475.25 624.25,-475.25 630.25,-475.25 636.25,-481.25 636.25,-487.25 636.25,-487.25 636.25,-550 636.25,-550 636.25,-556 630.25,-562 624.25,-562\"/>\n",
       "<text text-anchor=\"start\" x=\"458\" y=\"-544.7\" font-family=\"Helvetica,sans-Serif\" font-size=\"14.00\">Culmen Length (mm) ≤ 44.2</text>\n",
       "<text text-anchor=\"start\" x=\"495.88\" y=\"-528.95\" font-family=\"Helvetica,sans-Serif\" font-size=\"14.00\">entropy = 0.947</text>\n",
       "<text text-anchor=\"start\" x=\"498.5\" y=\"-513.2\" font-family=\"Helvetica,sans-Serif\" font-size=\"14.00\">samples = 160</text>\n",
       "<text text-anchor=\"start\" x=\"485.38\" y=\"-497.45\" font-family=\"Helvetica,sans-Serif\" font-size=\"14.00\">value = [109, 50, 1]</text>\n",
       "<text text-anchor=\"start\" x=\"501.5\" y=\"-481.7\" font-family=\"Helvetica,sans-Serif\" font-size=\"14.00\">class = Adelie</text>\n",
       "</g>\n",
       "<!-- 0&#45;&gt;1 -->\n",
       "<g id=\"edge1\" class=\"edge\">\n",
       "<title>0&#45;&gt;1</title>\n",
       "<path fill=\"none\" stroke=\"black\" d=\"M653.84,-597.8C640.63,-588.48 626.55,-578.53 613.01,-568.97\"/>\n",
       "<polygon fill=\"black\" stroke=\"black\" points=\"615.16,-566.21 604.97,-563.3 611.12,-571.92 615.16,-566.21\"/>\n",
       "<text text-anchor=\"middle\" x=\"607.98\" y=\"-581.64\" font-family=\"Helvetica,sans-Serif\" font-size=\"14.00\">True</text>\n",
       "</g>\n",
       "<!-- 18 -->\n",
       "<g id=\"node19\" class=\"node\">\n",
       "<title>18</title>\n",
       "<path fill=\"#8945e7\" stroke=\"black\" d=\"M886.12,-562C886.12,-562 750.12,-562 750.12,-562 744.12,-562 738.12,-556 738.12,-550 738.12,-550 738.12,-487.25 738.12,-487.25 738.12,-481.25 744.12,-475.25 750.12,-475.25 750.12,-475.25 886.12,-475.25 886.12,-475.25 892.12,-475.25 898.12,-481.25 898.12,-487.25 898.12,-487.25 898.12,-550 898.12,-550 898.12,-556 892.12,-562 886.12,-562\"/>\n",
       "<text text-anchor=\"start\" x=\"746.12\" y=\"-544.7\" font-family=\"Helvetica,sans-Serif\" font-size=\"14.00\">Body Mass (g) ≤ 4325.0</text>\n",
       "<text text-anchor=\"start\" x=\"770.88\" y=\"-528.95\" font-family=\"Helvetica,sans-Serif\" font-size=\"14.00\">entropy = 0.383</text>\n",
       "<text text-anchor=\"start\" x=\"773.5\" y=\"-513.2\" font-family=\"Helvetica,sans-Serif\" font-size=\"14.00\">samples = 100</text>\n",
       "<text text-anchor=\"start\" x=\"767.88\" y=\"-497.45\" font-family=\"Helvetica,sans-Serif\" font-size=\"14.00\">value = [2, 4, 94]</text>\n",
       "<text text-anchor=\"start\" x=\"772.38\" y=\"-481.7\" font-family=\"Helvetica,sans-Serif\" font-size=\"14.00\">class = Gentoo</text>\n",
       "</g>\n",
       "<!-- 0&#45;&gt;18 -->\n",
       "<g id=\"edge18\" class=\"edge\">\n",
       "<title>0&#45;&gt;18</title>\n",
       "<path fill=\"none\" stroke=\"black\" d=\"M750.79,-597.8C758.33,-589.06 766.33,-579.76 774.09,-570.75\"/>\n",
       "<polygon fill=\"black\" stroke=\"black\" points=\"776.58,-573.23 780.45,-563.37 771.27,-568.66 776.58,-573.23\"/>\n",
       "<text text-anchor=\"middle\" x=\"783.3\" y=\"-581.73\" font-family=\"Helvetica,sans-Serif\" font-size=\"14.00\">False</text>\n",
       "</g>\n",
       "<!-- 2 -->\n",
       "<g id=\"node3\" class=\"node\">\n",
       "<title>2</title>\n",
       "<path fill=\"#e6853f\" stroke=\"black\" d=\"M366,-439.25C366,-439.25 196.25,-439.25 196.25,-439.25 190.25,-439.25 184.25,-433.25 184.25,-427.25 184.25,-427.25 184.25,-364.5 184.25,-364.5 184.25,-358.5 190.25,-352.5 196.25,-352.5 196.25,-352.5 366,-352.5 366,-352.5 372,-352.5 378,-358.5 378,-364.5 378,-364.5 378,-427.25 378,-427.25 378,-433.25 372,-439.25 366,-439.25\"/>\n",
       "<text text-anchor=\"start\" x=\"192.25\" y=\"-421.95\" font-family=\"Helvetica,sans-Serif\" font-size=\"14.00\">Culmen Length (mm) ≤ 40.75</text>\n",
       "<text text-anchor=\"start\" x=\"233.88\" y=\"-406.2\" font-family=\"Helvetica,sans-Serif\" font-size=\"14.00\">entropy = 0.182</text>\n",
       "<text text-anchor=\"start\" x=\"236.5\" y=\"-390.45\" font-family=\"Helvetica,sans-Serif\" font-size=\"14.00\">samples = 109</text>\n",
       "<text text-anchor=\"start\" x=\"227.12\" y=\"-374.7\" font-family=\"Helvetica,sans-Serif\" font-size=\"14.00\">value = [106, 3, 0]</text>\n",
       "<text text-anchor=\"start\" x=\"239.5\" y=\"-358.95\" font-family=\"Helvetica,sans-Serif\" font-size=\"14.00\">class = Adelie</text>\n",
       "</g>\n",
       "<!-- 1&#45;&gt;2 -->\n",
       "<g id=\"edge2\" class=\"edge\">\n",
       "<title>1&#45;&gt;2</title>\n",
       "<path fill=\"none\" stroke=\"black\" d=\"M450.38,-474.88C428.91,-464.99 405.93,-454.39 384.04,-444.31\"/>\n",
       "<polygon fill=\"black\" stroke=\"black\" points=\"385.66,-441.2 375.12,-440.19 382.73,-447.56 385.66,-441.2\"/>\n",
       "</g>\n",
       "<!-- 9 -->\n",
       "<g id=\"node10\" class=\"node\">\n",
       "<title>9</title>\n",
       "<path fill=\"#4ae78c\" stroke=\"black\" d=\"M611.12,-439.25C611.12,-439.25 475.12,-439.25 475.12,-439.25 469.12,-439.25 463.12,-433.25 463.12,-427.25 463.12,-427.25 463.12,-364.5 463.12,-364.5 463.12,-358.5 469.12,-352.5 475.12,-352.5 475.12,-352.5 611.12,-352.5 611.12,-352.5 617.12,-352.5 623.12,-358.5 623.12,-364.5 623.12,-364.5 623.12,-427.25 623.12,-427.25 623.12,-433.25 617.12,-439.25 611.12,-439.25\"/>\n",
       "<text text-anchor=\"start\" x=\"471.12\" y=\"-421.95\" font-family=\"Helvetica,sans-Serif\" font-size=\"14.00\">Body Mass (g) ≤ 4100.0</text>\n",
       "<text text-anchor=\"start\" x=\"499.62\" y=\"-406.2\" font-family=\"Helvetica,sans-Serif\" font-size=\"14.00\">entropy = 0.46</text>\n",
       "<text text-anchor=\"start\" x=\"502.25\" y=\"-390.45\" font-family=\"Helvetica,sans-Serif\" font-size=\"14.00\">samples = 51</text>\n",
       "<text text-anchor=\"start\" x=\"492.88\" y=\"-374.7\" font-family=\"Helvetica,sans-Serif\" font-size=\"14.00\">value = [3, 47, 1]</text>\n",
       "<text text-anchor=\"start\" x=\"491\" y=\"-358.95\" font-family=\"Helvetica,sans-Serif\" font-size=\"14.00\">class = Chinstrap</text>\n",
       "</g>\n",
       "<!-- 1&#45;&gt;9 -->\n",
       "<g id=\"edge9\" class=\"edge\">\n",
       "<title>1&#45;&gt;9</title>\n",
       "<path fill=\"none\" stroke=\"black\" d=\"M543.12,-475.05C543.12,-467.21 543.12,-458.92 543.12,-450.79\"/>\n",
       "<polygon fill=\"black\" stroke=\"black\" points=\"546.63,-450.98 543.13,-440.98 539.63,-450.98 546.63,-450.98\"/>\n",
       "</g>\n",
       "<!-- 3 -->\n",
       "<g id=\"node4\" class=\"node\">\n",
       "<title>3</title>\n",
       "<path fill=\"#e58139\" stroke=\"black\" d=\"M171.38,-308.62C171.38,-308.62 78.88,-308.62 78.88,-308.62 72.88,-308.62 66.88,-302.62 66.88,-296.62 66.88,-296.62 66.88,-249.62 66.88,-249.62 66.88,-243.62 72.88,-237.62 78.88,-237.62 78.88,-237.62 171.38,-237.62 171.38,-237.62 177.38,-237.62 183.38,-243.62 183.38,-249.62 183.38,-249.62 183.38,-296.62 183.38,-296.62 183.38,-302.62 177.38,-308.62 171.38,-308.62\"/>\n",
       "<text text-anchor=\"start\" x=\"85.38\" y=\"-291.32\" font-family=\"Helvetica,sans-Serif\" font-size=\"14.00\">entropy = 0.0</text>\n",
       "<text text-anchor=\"start\" x=\"84.25\" y=\"-275.57\" font-family=\"Helvetica,sans-Serif\" font-size=\"14.00\">samples = 82</text>\n",
       "<text text-anchor=\"start\" x=\"74.88\" y=\"-259.82\" font-family=\"Helvetica,sans-Serif\" font-size=\"14.00\">value = [82, 0, 0]</text>\n",
       "<text text-anchor=\"start\" x=\"83.5\" y=\"-244.07\" font-family=\"Helvetica,sans-Serif\" font-size=\"14.00\">class = Adelie</text>\n",
       "</g>\n",
       "<!-- 2&#45;&gt;3 -->\n",
       "<g id=\"edge3\" class=\"edge\">\n",
       "<title>2&#45;&gt;3</title>\n",
       "<path fill=\"none\" stroke=\"black\" d=\"M226.13,-352.3C210.8,-340.44 194.17,-327.57 178.92,-315.76\"/>\n",
       "<polygon fill=\"black\" stroke=\"black\" points=\"181.36,-313.23 171.31,-309.87 177.08,-318.76 181.36,-313.23\"/>\n",
       "</g>\n",
       "<!-- 4 -->\n",
       "<g id=\"node5\" class=\"node\">\n",
       "<title>4</title>\n",
       "<path fill=\"#e89152\" stroke=\"black\" d=\"M349.12,-316.5C349.12,-316.5 213.12,-316.5 213.12,-316.5 207.12,-316.5 201.12,-310.5 201.12,-304.5 201.12,-304.5 201.12,-241.75 201.12,-241.75 201.12,-235.75 207.12,-229.75 213.12,-229.75 213.12,-229.75 349.12,-229.75 349.12,-229.75 355.12,-229.75 361.12,-235.75 361.12,-241.75 361.12,-241.75 361.12,-304.5 361.12,-304.5 361.12,-310.5 355.12,-316.5 349.12,-316.5\"/>\n",
       "<text text-anchor=\"start\" x=\"209.12\" y=\"-299.2\" font-family=\"Helvetica,sans-Serif\" font-size=\"14.00\">Body Mass (g) ≤ 3425.0</text>\n",
       "<text text-anchor=\"start\" x=\"233.88\" y=\"-283.45\" font-family=\"Helvetica,sans-Serif\" font-size=\"14.00\">entropy = 0.503</text>\n",
       "<text text-anchor=\"start\" x=\"240.25\" y=\"-267.7\" font-family=\"Helvetica,sans-Serif\" font-size=\"14.00\">samples = 27</text>\n",
       "<text text-anchor=\"start\" x=\"230.88\" y=\"-251.95\" font-family=\"Helvetica,sans-Serif\" font-size=\"14.00\">value = [24, 3, 0]</text>\n",
       "<text text-anchor=\"start\" x=\"239.5\" y=\"-236.2\" font-family=\"Helvetica,sans-Serif\" font-size=\"14.00\">class = Adelie</text>\n",
       "</g>\n",
       "<!-- 2&#45;&gt;4 -->\n",
       "<g id=\"edge4\" class=\"edge\">\n",
       "<title>2&#45;&gt;4</title>\n",
       "<path fill=\"none\" stroke=\"black\" d=\"M281.12,-352.3C281.12,-344.46 281.12,-336.17 281.12,-328.04\"/>\n",
       "<polygon fill=\"black\" stroke=\"black\" points=\"284.63,-328.23 281.13,-318.23 277.63,-328.23 284.63,-328.23\"/>\n",
       "</g>\n",
       "<!-- 5 -->\n",
       "<g id=\"node6\" class=\"node\">\n",
       "<title>5</title>\n",
       "<path fill=\"#7beeab\" stroke=\"black\" d=\"M217.25,-193.75C217.25,-193.75 121,-193.75 121,-193.75 115,-193.75 109,-187.75 109,-181.75 109,-181.75 109,-119 109,-119 109,-113 115,-107 121,-107 121,-107 217.25,-107 217.25,-107 223.25,-107 229.25,-113 229.25,-119 229.25,-119 229.25,-181.75 229.25,-181.75 229.25,-187.75 223.25,-193.75 217.25,-193.75\"/>\n",
       "<text text-anchor=\"start\" x=\"118.12\" y=\"-176.45\" font-family=\"Helvetica,sans-Serif\" font-size=\"14.00\">Sex_MALE ≤ 0.5</text>\n",
       "<text text-anchor=\"start\" x=\"122.25\" y=\"-160.7\" font-family=\"Helvetica,sans-Serif\" font-size=\"14.00\">entropy = 0.811</text>\n",
       "<text text-anchor=\"start\" x=\"132\" y=\"-144.95\" font-family=\"Helvetica,sans-Serif\" font-size=\"14.00\">samples = 4</text>\n",
       "<text text-anchor=\"start\" x=\"122.62\" y=\"-129.2\" font-family=\"Helvetica,sans-Serif\" font-size=\"14.00\">value = [1, 3, 0]</text>\n",
       "<text text-anchor=\"start\" x=\"117\" y=\"-113.45\" font-family=\"Helvetica,sans-Serif\" font-size=\"14.00\">class = Chinstrap</text>\n",
       "</g>\n",
       "<!-- 4&#45;&gt;5 -->\n",
       "<g id=\"edge5\" class=\"edge\">\n",
       "<title>4&#45;&gt;5</title>\n",
       "<path fill=\"none\" stroke=\"black\" d=\"M241.64,-229.55C233.44,-220.72 224.73,-211.32 216.28,-202.22\"/>\n",
       "<polygon fill=\"black\" stroke=\"black\" points=\"219.03,-200.03 209.66,-195.08 213.9,-204.79 219.03,-200.03\"/>\n",
       "</g>\n",
       "<!-- 8 -->\n",
       "<g id=\"node9\" class=\"node\">\n",
       "<title>8</title>\n",
       "<path fill=\"#e58139\" stroke=\"black\" d=\"M351.38,-185.88C351.38,-185.88 258.88,-185.88 258.88,-185.88 252.88,-185.88 246.88,-179.88 246.88,-173.88 246.88,-173.88 246.88,-126.88 246.88,-126.88 246.88,-120.88 252.88,-114.88 258.88,-114.88 258.88,-114.88 351.38,-114.88 351.38,-114.88 357.38,-114.88 363.38,-120.88 363.38,-126.88 363.38,-126.88 363.38,-173.88 363.38,-173.88 363.38,-179.88 357.38,-185.88 351.38,-185.88\"/>\n",
       "<text text-anchor=\"start\" x=\"265.38\" y=\"-168.57\" font-family=\"Helvetica,sans-Serif\" font-size=\"14.00\">entropy = 0.0</text>\n",
       "<text text-anchor=\"start\" x=\"264.25\" y=\"-152.82\" font-family=\"Helvetica,sans-Serif\" font-size=\"14.00\">samples = 23</text>\n",
       "<text text-anchor=\"start\" x=\"254.88\" y=\"-137.07\" font-family=\"Helvetica,sans-Serif\" font-size=\"14.00\">value = [23, 0, 0]</text>\n",
       "<text text-anchor=\"start\" x=\"263.5\" y=\"-121.33\" font-family=\"Helvetica,sans-Serif\" font-size=\"14.00\">class = Adelie</text>\n",
       "</g>\n",
       "<!-- 4&#45;&gt;8 -->\n",
       "<g id=\"edge8\" class=\"edge\">\n",
       "<title>4&#45;&gt;8</title>\n",
       "<path fill=\"none\" stroke=\"black\" d=\"M289.59,-229.55C291.67,-219.08 293.91,-207.83 296.02,-197.21\"/>\n",
       "<polygon fill=\"black\" stroke=\"black\" points=\"299.43,-197.98 297.95,-187.49 292.56,-196.61 299.43,-197.98\"/>\n",
       "</g>\n",
       "<!-- 6 -->\n",
       "<g id=\"node7\" class=\"node\">\n",
       "<title>6</title>\n",
       "<path fill=\"#39e581\" stroke=\"black\" d=\"M108.25,-71C108.25,-71 12,-71 12,-71 6,-71 0,-65 0,-59 0,-59 0,-12 0,-12 0,-6 6,0 12,0 12,0 108.25,0 108.25,0 114.25,0 120.25,-6 120.25,-12 120.25,-12 120.25,-59 120.25,-59 120.25,-65 114.25,-71 108.25,-71\"/>\n",
       "<text text-anchor=\"start\" x=\"20.38\" y=\"-53.7\" font-family=\"Helvetica,sans-Serif\" font-size=\"14.00\">entropy = 0.0</text>\n",
       "<text text-anchor=\"start\" x=\"23\" y=\"-37.95\" font-family=\"Helvetica,sans-Serif\" font-size=\"14.00\">samples = 3</text>\n",
       "<text text-anchor=\"start\" x=\"13.62\" y=\"-22.2\" font-family=\"Helvetica,sans-Serif\" font-size=\"14.00\">value = [0, 3, 0]</text>\n",
       "<text text-anchor=\"start\" x=\"8\" y=\"-6.45\" font-family=\"Helvetica,sans-Serif\" font-size=\"14.00\">class = Chinstrap</text>\n",
       "</g>\n",
       "<!-- 5&#45;&gt;6 -->\n",
       "<g id=\"edge6\" class=\"edge\">\n",
       "<title>5&#45;&gt;6</title>\n",
       "<path fill=\"none\" stroke=\"black\" d=\"M127.92,-106.7C119.24,-97.72 110.08,-88.23 101.4,-79.25\"/>\n",
       "<polygon fill=\"black\" stroke=\"black\" points=\"104.11,-77.01 94.64,-72.25 99.07,-81.87 104.11,-77.01\"/>\n",
       "</g>\n",
       "<!-- 7 -->\n",
       "<g id=\"node8\" class=\"node\">\n",
       "<title>7</title>\n",
       "<path fill=\"#e58139\" stroke=\"black\" d=\"M235.62,-71C235.62,-71 150.62,-71 150.62,-71 144.62,-71 138.62,-65 138.62,-59 138.62,-59 138.62,-12 138.62,-12 138.62,-6 144.62,0 150.62,0 150.62,0 235.62,0 235.62,0 241.62,0 247.62,-6 247.62,-12 247.62,-12 247.62,-59 247.62,-59 247.62,-65 241.62,-71 235.62,-71\"/>\n",
       "<text text-anchor=\"start\" x=\"153.38\" y=\"-53.7\" font-family=\"Helvetica,sans-Serif\" font-size=\"14.00\">entropy = 0.0</text>\n",
       "<text text-anchor=\"start\" x=\"156\" y=\"-37.95\" font-family=\"Helvetica,sans-Serif\" font-size=\"14.00\">samples = 1</text>\n",
       "<text text-anchor=\"start\" x=\"146.62\" y=\"-22.2\" font-family=\"Helvetica,sans-Serif\" font-size=\"14.00\">value = [1, 0, 0]</text>\n",
       "<text text-anchor=\"start\" x=\"151.5\" y=\"-6.45\" font-family=\"Helvetica,sans-Serif\" font-size=\"14.00\">class = Adelie</text>\n",
       "</g>\n",
       "<!-- 5&#45;&gt;7 -->\n",
       "<g id=\"edge7\" class=\"edge\">\n",
       "<title>5&#45;&gt;7</title>\n",
       "<path fill=\"none\" stroke=\"black\" d=\"M178.2,-106.7C179.89,-98.72 181.67,-90.36 183.39,-82.29\"/>\n",
       "<polygon fill=\"black\" stroke=\"black\" points=\"186.78,-83.15 185.44,-72.64 179.94,-81.69 186.78,-83.15\"/>\n",
       "</g>\n",
       "<!-- 10 -->\n",
       "<g id=\"node11\" class=\"node\">\n",
       "<title>10</title>\n",
       "<path fill=\"#39e581\" stroke=\"black\" d=\"M487.25,-308.62C487.25,-308.62 391,-308.62 391,-308.62 385,-308.62 379,-302.62 379,-296.62 379,-296.62 379,-249.62 379,-249.62 379,-243.62 385,-237.62 391,-237.62 391,-237.62 487.25,-237.62 487.25,-237.62 493.25,-237.62 499.25,-243.62 499.25,-249.62 499.25,-249.62 499.25,-296.62 499.25,-296.62 499.25,-302.62 493.25,-308.62 487.25,-308.62\"/>\n",
       "<text text-anchor=\"start\" x=\"399.38\" y=\"-291.32\" font-family=\"Helvetica,sans-Serif\" font-size=\"14.00\">entropy = 0.0</text>\n",
       "<text text-anchor=\"start\" x=\"398.25\" y=\"-275.57\" font-family=\"Helvetica,sans-Serif\" font-size=\"14.00\">samples = 42</text>\n",
       "<text text-anchor=\"start\" x=\"388.88\" y=\"-259.82\" font-family=\"Helvetica,sans-Serif\" font-size=\"14.00\">value = [0, 42, 0]</text>\n",
       "<text text-anchor=\"start\" x=\"387\" y=\"-244.07\" font-family=\"Helvetica,sans-Serif\" font-size=\"14.00\">class = Chinstrap</text>\n",
       "</g>\n",
       "<!-- 9&#45;&gt;10 -->\n",
       "<g id=\"edge10\" class=\"edge\">\n",
       "<title>9&#45;&gt;10</title>\n",
       "<path fill=\"none\" stroke=\"black\" d=\"M506.46,-352.3C496.67,-340.94 486.09,-328.65 476.28,-317.26\"/>\n",
       "<polygon fill=\"black\" stroke=\"black\" points=\"479.12,-315.19 469.94,-309.9 473.81,-319.76 479.12,-315.19\"/>\n",
       "</g>\n",
       "<!-- 11 -->\n",
       "<g id=\"node12\" class=\"node\">\n",
       "<title>11</title>\n",
       "<path fill=\"#bdf6d5\" stroke=\"black\" d=\"M691.25,-316.5C691.25,-316.5 529,-316.5 529,-316.5 523,-316.5 517,-310.5 517,-304.5 517,-304.5 517,-241.75 517,-241.75 517,-235.75 523,-229.75 529,-229.75 529,-229.75 691.25,-229.75 691.25,-229.75 697.25,-229.75 703.25,-235.75 703.25,-241.75 703.25,-241.75 703.25,-304.5 703.25,-304.5 703.25,-310.5 697.25,-316.5 691.25,-316.5\"/>\n",
       "<text text-anchor=\"start\" x=\"525\" y=\"-299.2\" font-family=\"Helvetica,sans-Serif\" font-size=\"14.00\">Culmen Length (mm) ≤ 47.2</text>\n",
       "<text text-anchor=\"start\" x=\"562.88\" y=\"-283.45\" font-family=\"Helvetica,sans-Serif\" font-size=\"14.00\">entropy = 1.352</text>\n",
       "<text text-anchor=\"start\" x=\"573\" y=\"-267.7\" font-family=\"Helvetica,sans-Serif\" font-size=\"14.00\">samples = 9</text>\n",
       "<text text-anchor=\"start\" x=\"563.62\" y=\"-251.95\" font-family=\"Helvetica,sans-Serif\" font-size=\"14.00\">value = [3, 5, 1]</text>\n",
       "<text text-anchor=\"start\" x=\"558\" y=\"-236.2\" font-family=\"Helvetica,sans-Serif\" font-size=\"14.00\">class = Chinstrap</text>\n",
       "</g>\n",
       "<!-- 9&#45;&gt;11 -->\n",
       "<g id=\"edge11\" class=\"edge\">\n",
       "<title>9&#45;&gt;11</title>\n",
       "<path fill=\"none\" stroke=\"black\" d=\"M566.75,-352.3C571.35,-344.01 576.23,-335.22 580.98,-326.64\"/>\n",
       "<polygon fill=\"black\" stroke=\"black\" points=\"583.97,-328.49 585.76,-318.04 577.84,-325.09 583.97,-328.49\"/>\n",
       "</g>\n",
       "<!-- 12 -->\n",
       "<g id=\"node13\" class=\"node\">\n",
       "<title>12</title>\n",
       "<path fill=\"#eeab7b\" stroke=\"black\" d=\"M539.12,-193.75C539.12,-193.75 445.12,-193.75 445.12,-193.75 439.12,-193.75 433.12,-187.75 433.12,-181.75 433.12,-181.75 433.12,-119 433.12,-119 433.12,-113 439.12,-107 445.12,-107 445.12,-107 539.12,-107 539.12,-107 545.12,-107 551.12,-113 551.12,-119 551.12,-119 551.12,-181.75 551.12,-181.75 551.12,-187.75 545.12,-193.75 539.12,-193.75\"/>\n",
       "<text text-anchor=\"start\" x=\"441.12\" y=\"-176.45\" font-family=\"Helvetica,sans-Serif\" font-size=\"14.00\">Sex_MALE ≤ 0.5</text>\n",
       "<text text-anchor=\"start\" x=\"445.25\" y=\"-160.7\" font-family=\"Helvetica,sans-Serif\" font-size=\"14.00\">entropy = 0.811</text>\n",
       "<text text-anchor=\"start\" x=\"455\" y=\"-144.95\" font-family=\"Helvetica,sans-Serif\" font-size=\"14.00\">samples = 4</text>\n",
       "<text text-anchor=\"start\" x=\"445.62\" y=\"-129.2\" font-family=\"Helvetica,sans-Serif\" font-size=\"14.00\">value = [3, 1, 0]</text>\n",
       "<text text-anchor=\"start\" x=\"450.5\" y=\"-113.45\" font-family=\"Helvetica,sans-Serif\" font-size=\"14.00\">class = Adelie</text>\n",
       "</g>\n",
       "<!-- 11&#45;&gt;12 -->\n",
       "<g id=\"edge12\" class=\"edge\">\n",
       "<title>11&#45;&gt;12</title>\n",
       "<path fill=\"none\" stroke=\"black\" d=\"M568.52,-229.55C559.8,-220.63 550.52,-211.13 541.54,-201.94\"/>\n",
       "<polygon fill=\"black\" stroke=\"black\" points=\"544.3,-199.76 534.81,-195.05 539.29,-204.65 544.3,-199.76\"/>\n",
       "</g>\n",
       "<!-- 15 -->\n",
       "<g id=\"node16\" class=\"node\">\n",
       "<title>15</title>\n",
       "<path fill=\"#6aeca0\" stroke=\"black\" d=\"M677.25,-193.75C677.25,-193.75 581,-193.75 581,-193.75 575,-193.75 569,-187.75 569,-181.75 569,-181.75 569,-119 569,-119 569,-113 575,-107 581,-107 581,-107 677.25,-107 677.25,-107 683.25,-107 689.25,-113 689.25,-119 689.25,-119 689.25,-181.75 689.25,-181.75 689.25,-187.75 683.25,-193.75 677.25,-193.75\"/>\n",
       "<text text-anchor=\"start\" x=\"578.12\" y=\"-176.45\" font-family=\"Helvetica,sans-Serif\" font-size=\"14.00\">Sex_MALE ≤ 0.5</text>\n",
       "<text text-anchor=\"start\" x=\"581.88\" y=\"-160.7\" font-family=\"Helvetica,sans-Serif\" font-size=\"14.00\">entropy = 0.722</text>\n",
       "<text text-anchor=\"start\" x=\"592\" y=\"-144.95\" font-family=\"Helvetica,sans-Serif\" font-size=\"14.00\">samples = 5</text>\n",
       "<text text-anchor=\"start\" x=\"582.62\" y=\"-129.2\" font-family=\"Helvetica,sans-Serif\" font-size=\"14.00\">value = [0, 4, 1]</text>\n",
       "<text text-anchor=\"start\" x=\"577\" y=\"-113.45\" font-family=\"Helvetica,sans-Serif\" font-size=\"14.00\">class = Chinstrap</text>\n",
       "</g>\n",
       "<!-- 11&#45;&gt;15 -->\n",
       "<g id=\"edge15\" class=\"edge\">\n",
       "<title>11&#45;&gt;15</title>\n",
       "<path fill=\"none\" stroke=\"black\" d=\"M616.82,-229.55C618.06,-221.71 619.36,-213.42 620.64,-205.29\"/>\n",
       "<polygon fill=\"black\" stroke=\"black\" points=\"624.09,-205.89 622.19,-195.46 617.18,-204.8 624.09,-205.89\"/>\n",
       "</g>\n",
       "<!-- 13 -->\n",
       "<g id=\"node14\" class=\"node\">\n",
       "<title>13</title>\n",
       "<path fill=\"#39e581\" stroke=\"black\" d=\"M410.25,-71C410.25,-71 314,-71 314,-71 308,-71 302,-65 302,-59 302,-59 302,-12 302,-12 302,-6 308,0 314,0 314,0 410.25,0 410.25,0 416.25,0 422.25,-6 422.25,-12 422.25,-12 422.25,-59 422.25,-59 422.25,-65 416.25,-71 410.25,-71\"/>\n",
       "<text text-anchor=\"start\" x=\"322.38\" y=\"-53.7\" font-family=\"Helvetica,sans-Serif\" font-size=\"14.00\">entropy = 0.0</text>\n",
       "<text text-anchor=\"start\" x=\"325\" y=\"-37.95\" font-family=\"Helvetica,sans-Serif\" font-size=\"14.00\">samples = 1</text>\n",
       "<text text-anchor=\"start\" x=\"315.62\" y=\"-22.2\" font-family=\"Helvetica,sans-Serif\" font-size=\"14.00\">value = [0, 1, 0]</text>\n",
       "<text text-anchor=\"start\" x=\"310\" y=\"-6.45\" font-family=\"Helvetica,sans-Serif\" font-size=\"14.00\">class = Chinstrap</text>\n",
       "</g>\n",
       "<!-- 12&#45;&gt;13 -->\n",
       "<g id=\"edge13\" class=\"edge\">\n",
       "<title>12&#45;&gt;13</title>\n",
       "<path fill=\"none\" stroke=\"black\" d=\"M442.98,-106.7C432.42,-97.53 421.26,-87.85 410.72,-78.7\"/>\n",
       "<polygon fill=\"black\" stroke=\"black\" points=\"413.03,-76.06 403.18,-72.15 408.44,-81.35 413.03,-76.06\"/>\n",
       "</g>\n",
       "<!-- 14 -->\n",
       "<g id=\"node15\" class=\"node\">\n",
       "<title>14</title>\n",
       "<path fill=\"#e58139\" stroke=\"black\" d=\"M537.62,-71C537.62,-71 452.62,-71 452.62,-71 446.62,-71 440.62,-65 440.62,-59 440.62,-59 440.62,-12 440.62,-12 440.62,-6 446.62,0 452.62,0 452.62,0 537.62,0 537.62,0 543.62,0 549.62,-6 549.62,-12 549.62,-12 549.62,-59 549.62,-59 549.62,-65 543.62,-71 537.62,-71\"/>\n",
       "<text text-anchor=\"start\" x=\"455.38\" y=\"-53.7\" font-family=\"Helvetica,sans-Serif\" font-size=\"14.00\">entropy = 0.0</text>\n",
       "<text text-anchor=\"start\" x=\"458\" y=\"-37.95\" font-family=\"Helvetica,sans-Serif\" font-size=\"14.00\">samples = 3</text>\n",
       "<text text-anchor=\"start\" x=\"448.62\" y=\"-22.2\" font-family=\"Helvetica,sans-Serif\" font-size=\"14.00\">value = [3, 0, 0]</text>\n",
       "<text text-anchor=\"start\" x=\"453.5\" y=\"-6.45\" font-family=\"Helvetica,sans-Serif\" font-size=\"14.00\">class = Adelie</text>\n",
       "</g>\n",
       "<!-- 12&#45;&gt;14 -->\n",
       "<g id=\"edge14\" class=\"edge\">\n",
       "<title>12&#45;&gt;14</title>\n",
       "<path fill=\"none\" stroke=\"black\" d=\"M493.26,-106.7C493.47,-98.82 493.69,-90.55 493.9,-82.57\"/>\n",
       "<polygon fill=\"black\" stroke=\"black\" points=\"497.4,-82.76 494.16,-72.67 490.4,-82.57 497.4,-82.76\"/>\n",
       "</g>\n",
       "<!-- 16 -->\n",
       "<g id=\"node17\" class=\"node\">\n",
       "<title>16</title>\n",
       "<path fill=\"#8139e5\" stroke=\"black\" d=\"M669.62,-71C669.62,-71 584.62,-71 584.62,-71 578.62,-71 572.62,-65 572.62,-59 572.62,-59 572.62,-12 572.62,-12 572.62,-6 578.62,0 584.62,0 584.62,0 669.62,0 669.62,0 675.62,0 681.62,-6 681.62,-12 681.62,-12 681.62,-59 681.62,-59 681.62,-65 675.62,-71 669.62,-71\"/>\n",
       "<text text-anchor=\"start\" x=\"587.38\" y=\"-53.7\" font-family=\"Helvetica,sans-Serif\" font-size=\"14.00\">entropy = 0.0</text>\n",
       "<text text-anchor=\"start\" x=\"590\" y=\"-37.95\" font-family=\"Helvetica,sans-Serif\" font-size=\"14.00\">samples = 1</text>\n",
       "<text text-anchor=\"start\" x=\"580.62\" y=\"-22.2\" font-family=\"Helvetica,sans-Serif\" font-size=\"14.00\">value = [0, 0, 1]</text>\n",
       "<text text-anchor=\"start\" x=\"581.38\" y=\"-6.45\" font-family=\"Helvetica,sans-Serif\" font-size=\"14.00\">class = Gentoo</text>\n",
       "</g>\n",
       "<!-- 15&#45;&gt;16 -->\n",
       "<g id=\"edge16\" class=\"edge\">\n",
       "<title>15&#45;&gt;16</title>\n",
       "<path fill=\"none\" stroke=\"black\" d=\"M628.37,-106.7C628.23,-98.82 628.08,-90.55 627.94,-82.57\"/>\n",
       "<polygon fill=\"black\" stroke=\"black\" points=\"631.44,-82.61 627.77,-72.67 624.44,-82.73 631.44,-82.61\"/>\n",
       "</g>\n",
       "<!-- 17 -->\n",
       "<g id=\"node18\" class=\"node\">\n",
       "<title>17</title>\n",
       "<path fill=\"#39e581\" stroke=\"black\" d=\"M808.25,-71C808.25,-71 712,-71 712,-71 706,-71 700,-65 700,-59 700,-59 700,-12 700,-12 700,-6 706,0 712,0 712,0 808.25,0 808.25,0 814.25,0 820.25,-6 820.25,-12 820.25,-12 820.25,-59 820.25,-59 820.25,-65 814.25,-71 808.25,-71\"/>\n",
       "<text text-anchor=\"start\" x=\"720.38\" y=\"-53.7\" font-family=\"Helvetica,sans-Serif\" font-size=\"14.00\">entropy = 0.0</text>\n",
       "<text text-anchor=\"start\" x=\"723\" y=\"-37.95\" font-family=\"Helvetica,sans-Serif\" font-size=\"14.00\">samples = 4</text>\n",
       "<text text-anchor=\"start\" x=\"713.62\" y=\"-22.2\" font-family=\"Helvetica,sans-Serif\" font-size=\"14.00\">value = [0, 4, 0]</text>\n",
       "<text text-anchor=\"start\" x=\"708\" y=\"-6.45\" font-family=\"Helvetica,sans-Serif\" font-size=\"14.00\">class = Chinstrap</text>\n",
       "</g>\n",
       "<!-- 15&#45;&gt;17 -->\n",
       "<g id=\"edge17\" class=\"edge\">\n",
       "<title>15&#45;&gt;17</title>\n",
       "<path fill=\"none\" stroke=\"black\" d=\"M678.65,-106.7C689.4,-97.44 700.76,-87.65 711.47,-78.42\"/>\n",
       "<polygon fill=\"black\" stroke=\"black\" points=\"713.46,-81.32 718.76,-72.15 708.9,-76.02 713.46,-81.32\"/>\n",
       "</g>\n",
       "<!-- 19 -->\n",
       "<g id=\"node20\" class=\"node\">\n",
       "<title>19</title>\n",
       "<path fill=\"#d5bdf6\" stroke=\"black\" d=\"M873.75,-439.25C873.75,-439.25 762.5,-439.25 762.5,-439.25 756.5,-439.25 750.5,-433.25 750.5,-427.25 750.5,-427.25 750.5,-364.5 750.5,-364.5 750.5,-358.5 756.5,-352.5 762.5,-352.5 762.5,-352.5 873.75,-352.5 873.75,-352.5 879.75,-352.5 885.75,-358.5 885.75,-364.5 885.75,-364.5 885.75,-427.25 885.75,-427.25 885.75,-433.25 879.75,-439.25 873.75,-439.25\"/>\n",
       "<text text-anchor=\"start\" x=\"758.5\" y=\"-421.95\" font-family=\"Helvetica,sans-Serif\" font-size=\"14.00\">Sex_FEMALE ≤ 0.5</text>\n",
       "<text text-anchor=\"start\" x=\"774.62\" y=\"-406.2\" font-family=\"Helvetica,sans-Serif\" font-size=\"14.00\">entropy = 1.42</text>\n",
       "<text text-anchor=\"start\" x=\"777.25\" y=\"-390.45\" font-family=\"Helvetica,sans-Serif\" font-size=\"14.00\">samples = 13</text>\n",
       "<text text-anchor=\"start\" x=\"771.62\" y=\"-374.7\" font-family=\"Helvetica,sans-Serif\" font-size=\"14.00\">value = [2, 4, 7]</text>\n",
       "<text text-anchor=\"start\" x=\"772.38\" y=\"-358.95\" font-family=\"Helvetica,sans-Serif\" font-size=\"14.00\">class = Gentoo</text>\n",
       "</g>\n",
       "<!-- 18&#45;&gt;19 -->\n",
       "<g id=\"edge19\" class=\"edge\">\n",
       "<title>18&#45;&gt;19</title>\n",
       "<path fill=\"none\" stroke=\"black\" d=\"M818.12,-475.05C818.12,-467.21 818.12,-458.92 818.12,-450.79\"/>\n",
       "<polygon fill=\"black\" stroke=\"black\" points=\"821.63,-450.98 818.13,-440.98 814.63,-450.98 821.63,-450.98\"/>\n",
       "</g>\n",
       "<!-- 24 -->\n",
       "<g id=\"node25\" class=\"node\">\n",
       "<title>24</title>\n",
       "<path fill=\"#8139e5\" stroke=\"black\" d=\"M1008.38,-431.38C1008.38,-431.38 915.88,-431.38 915.88,-431.38 909.88,-431.38 903.88,-425.38 903.88,-419.38 903.88,-419.38 903.88,-372.38 903.88,-372.38 903.88,-366.38 909.88,-360.38 915.88,-360.38 915.88,-360.38 1008.38,-360.38 1008.38,-360.38 1014.38,-360.38 1020.38,-366.38 1020.38,-372.38 1020.38,-372.38 1020.38,-419.38 1020.38,-419.38 1020.38,-425.38 1014.38,-431.38 1008.38,-431.38\"/>\n",
       "<text text-anchor=\"start\" x=\"922.38\" y=\"-414.07\" font-family=\"Helvetica,sans-Serif\" font-size=\"14.00\">entropy = 0.0</text>\n",
       "<text text-anchor=\"start\" x=\"921.25\" y=\"-398.32\" font-family=\"Helvetica,sans-Serif\" font-size=\"14.00\">samples = 87</text>\n",
       "<text text-anchor=\"start\" x=\"911.88\" y=\"-382.57\" font-family=\"Helvetica,sans-Serif\" font-size=\"14.00\">value = [0, 0, 87]</text>\n",
       "<text text-anchor=\"start\" x=\"916.38\" y=\"-366.82\" font-family=\"Helvetica,sans-Serif\" font-size=\"14.00\">class = Gentoo</text>\n",
       "</g>\n",
       "<!-- 18&#45;&gt;24 -->\n",
       "<g id=\"edge24\" class=\"edge\">\n",
       "<title>18&#45;&gt;24</title>\n",
       "<path fill=\"none\" stroke=\"black\" d=\"M868.89,-475.05C882.98,-463.24 898.25,-450.44 912.28,-438.68\"/>\n",
       "<polygon fill=\"black\" stroke=\"black\" points=\"914.26,-441.58 919.67,-432.48 909.76,-436.22 914.26,-441.58\"/>\n",
       "</g>\n",
       "<!-- 20 -->\n",
       "<g id=\"node21\" class=\"node\">\n",
       "<title>20</title>\n",
       "<path fill=\"#9cf2c0\" stroke=\"black\" d=\"M903,-316.5C903,-316.5 733.25,-316.5 733.25,-316.5 727.25,-316.5 721.25,-310.5 721.25,-304.5 721.25,-304.5 721.25,-241.75 721.25,-241.75 721.25,-235.75 727.25,-229.75 733.25,-229.75 733.25,-229.75 903,-229.75 903,-229.75 909,-229.75 915,-235.75 915,-241.75 915,-241.75 915,-304.5 915,-304.5 915,-310.5 909,-316.5 903,-316.5\"/>\n",
       "<text text-anchor=\"start\" x=\"729.25\" y=\"-299.2\" font-family=\"Helvetica,sans-Serif\" font-size=\"14.00\">Culmen Length (mm) ≤ 46.55</text>\n",
       "<text text-anchor=\"start\" x=\"770.88\" y=\"-283.45\" font-family=\"Helvetica,sans-Serif\" font-size=\"14.00\">entropy = 0.918</text>\n",
       "<text text-anchor=\"start\" x=\"781\" y=\"-267.7\" font-family=\"Helvetica,sans-Serif\" font-size=\"14.00\">samples = 6</text>\n",
       "<text text-anchor=\"start\" x=\"771.62\" y=\"-251.95\" font-family=\"Helvetica,sans-Serif\" font-size=\"14.00\">value = [2, 4, 0]</text>\n",
       "<text text-anchor=\"start\" x=\"766\" y=\"-236.2\" font-family=\"Helvetica,sans-Serif\" font-size=\"14.00\">class = Chinstrap</text>\n",
       "</g>\n",
       "<!-- 19&#45;&gt;20 -->\n",
       "<g id=\"edge20\" class=\"edge\">\n",
       "<title>19&#45;&gt;20</title>\n",
       "<path fill=\"none\" stroke=\"black\" d=\"M818.12,-352.3C818.12,-344.46 818.12,-336.17 818.12,-328.04\"/>\n",
       "<polygon fill=\"black\" stroke=\"black\" points=\"821.63,-328.23 818.13,-318.23 814.63,-328.23 821.63,-328.23\"/>\n",
       "</g>\n",
       "<!-- 23 -->\n",
       "<g id=\"node24\" class=\"node\">\n",
       "<title>23</title>\n",
       "<path fill=\"#8139e5\" stroke=\"black\" d=\"M1029.62,-308.62C1029.62,-308.62 944.62,-308.62 944.62,-308.62 938.62,-308.62 932.62,-302.62 932.62,-296.62 932.62,-296.62 932.62,-249.62 932.62,-249.62 932.62,-243.62 938.62,-237.62 944.62,-237.62 944.62,-237.62 1029.62,-237.62 1029.62,-237.62 1035.62,-237.62 1041.62,-243.62 1041.62,-249.62 1041.62,-249.62 1041.62,-296.62 1041.62,-296.62 1041.62,-302.62 1035.62,-308.62 1029.62,-308.62\"/>\n",
       "<text text-anchor=\"start\" x=\"947.38\" y=\"-291.32\" font-family=\"Helvetica,sans-Serif\" font-size=\"14.00\">entropy = 0.0</text>\n",
       "<text text-anchor=\"start\" x=\"950\" y=\"-275.57\" font-family=\"Helvetica,sans-Serif\" font-size=\"14.00\">samples = 7</text>\n",
       "<text text-anchor=\"start\" x=\"940.62\" y=\"-259.82\" font-family=\"Helvetica,sans-Serif\" font-size=\"14.00\">value = [0, 0, 7]</text>\n",
       "<text text-anchor=\"start\" x=\"941.38\" y=\"-244.07\" font-family=\"Helvetica,sans-Serif\" font-size=\"14.00\">class = Gentoo</text>\n",
       "</g>\n",
       "<!-- 19&#45;&gt;23 -->\n",
       "<g id=\"edge23\" class=\"edge\">\n",
       "<title>19&#45;&gt;23</title>\n",
       "<path fill=\"none\" stroke=\"black\" d=\"M877.71,-352.3C894.47,-340.33 912.66,-327.33 929.31,-315.43\"/>\n",
       "<polygon fill=\"black\" stroke=\"black\" points=\"931.05,-318.49 937.16,-309.83 926.98,-312.79 931.05,-318.49\"/>\n",
       "</g>\n",
       "<!-- 21 -->\n",
       "<g id=\"node22\" class=\"node\">\n",
       "<title>21</title>\n",
       "<path fill=\"#e58139\" stroke=\"black\" d=\"M841.62,-185.88C841.62,-185.88 756.62,-185.88 756.62,-185.88 750.62,-185.88 744.62,-179.88 744.62,-173.88 744.62,-173.88 744.62,-126.88 744.62,-126.88 744.62,-120.88 750.62,-114.88 756.62,-114.88 756.62,-114.88 841.62,-114.88 841.62,-114.88 847.62,-114.88 853.62,-120.88 853.62,-126.88 853.62,-126.88 853.62,-173.88 853.62,-173.88 853.62,-179.88 847.62,-185.88 841.62,-185.88\"/>\n",
       "<text text-anchor=\"start\" x=\"759.38\" y=\"-168.57\" font-family=\"Helvetica,sans-Serif\" font-size=\"14.00\">entropy = 0.0</text>\n",
       "<text text-anchor=\"start\" x=\"762\" y=\"-152.82\" font-family=\"Helvetica,sans-Serif\" font-size=\"14.00\">samples = 2</text>\n",
       "<text text-anchor=\"start\" x=\"752.62\" y=\"-137.07\" font-family=\"Helvetica,sans-Serif\" font-size=\"14.00\">value = [2, 0, 0]</text>\n",
       "<text text-anchor=\"start\" x=\"757.5\" y=\"-121.33\" font-family=\"Helvetica,sans-Serif\" font-size=\"14.00\">class = Adelie</text>\n",
       "</g>\n",
       "<!-- 20&#45;&gt;21 -->\n",
       "<g id=\"edge21\" class=\"edge\">\n",
       "<title>20&#45;&gt;21</title>\n",
       "<path fill=\"none\" stroke=\"black\" d=\"M811.43,-229.55C809.78,-219.08 808.01,-207.83 806.34,-197.21\"/>\n",
       "<polygon fill=\"black\" stroke=\"black\" points=\"809.82,-196.83 804.81,-187.5 802.91,-197.92 809.82,-196.83\"/>\n",
       "</g>\n",
       "<!-- 22 -->\n",
       "<g id=\"node23\" class=\"node\">\n",
       "<title>22</title>\n",
       "<path fill=\"#39e581\" stroke=\"black\" d=\"M980.25,-185.88C980.25,-185.88 884,-185.88 884,-185.88 878,-185.88 872,-179.88 872,-173.88 872,-173.88 872,-126.88 872,-126.88 872,-120.88 878,-114.88 884,-114.88 884,-114.88 980.25,-114.88 980.25,-114.88 986.25,-114.88 992.25,-120.88 992.25,-126.88 992.25,-126.88 992.25,-173.88 992.25,-173.88 992.25,-179.88 986.25,-185.88 980.25,-185.88\"/>\n",
       "<text text-anchor=\"start\" x=\"892.38\" y=\"-168.57\" font-family=\"Helvetica,sans-Serif\" font-size=\"14.00\">entropy = 0.0</text>\n",
       "<text text-anchor=\"start\" x=\"895\" y=\"-152.82\" font-family=\"Helvetica,sans-Serif\" font-size=\"14.00\">samples = 4</text>\n",
       "<text text-anchor=\"start\" x=\"885.62\" y=\"-137.07\" font-family=\"Helvetica,sans-Serif\" font-size=\"14.00\">value = [0, 4, 0]</text>\n",
       "<text text-anchor=\"start\" x=\"880\" y=\"-121.33\" font-family=\"Helvetica,sans-Serif\" font-size=\"14.00\">class = Chinstrap</text>\n",
       "</g>\n",
       "<!-- 20&#45;&gt;22 -->\n",
       "<g id=\"edge22\" class=\"edge\">\n",
       "<title>20&#45;&gt;22</title>\n",
       "<path fill=\"none\" stroke=\"black\" d=\"M858.32,-229.55C869.15,-218.08 880.87,-205.66 891.72,-194.18\"/>\n",
       "<polygon fill=\"black\" stroke=\"black\" points=\"894.07,-196.78 898.39,-187.1 888.98,-191.97 894.07,-196.78\"/>\n",
       "</g>\n",
       "</g>\n",
       "</svg>\n"
      ],
      "text/plain": [
       "<graphviz.sources.Source at 0x2cabec9a990>"
      ]
     },
     "metadata": {},
     "output_type": "display_data"
    },
    {
     "name": "stdout",
     "output_type": "stream",
     "text": [
      "✓ Decision tree (depth=6) visualized and saved to output/max_depth_graphviz\\graph_model_80_20_depth_6.png\n"
     ]
    },
    {
     "data": {
      "image/svg+xml": [
       "<?xml version=\"1.0\" encoding=\"UTF-8\" standalone=\"no\"?>\n",
       "<!DOCTYPE svg PUBLIC \"-//W3C//DTD SVG 1.1//EN\"\n",
       " \"http://www.w3.org/Graphics/SVG/1.1/DTD/svg11.dtd\">\n",
       "<!-- Generated by graphviz version 12.2.1 (20241206.2353)\n",
       " -->\n",
       "<!-- Title: Tree Pages: 1 -->\n",
       "<svg width=\"1050pt\" height=\"693pt\"\n",
       " viewBox=\"0.00 0.00 1049.62 692.75\" xmlns=\"http://www.w3.org/2000/svg\" xmlns:xlink=\"http://www.w3.org/1999/xlink\">\n",
       "<g id=\"graph0\" class=\"graph\" transform=\"scale(1 1) rotate(0) translate(4 688.75)\">\n",
       "<title>Tree</title>\n",
       "<polygon fill=\"white\" stroke=\"none\" points=\"-4,4 -4,-688.75 1045.62,-688.75 1045.62,4 -4,4\"/>\n",
       "<!-- 0 -->\n",
       "<g id=\"node1\" class=\"node\">\n",
       "<title>0</title>\n",
       "<path fill=\"#fcf3ec\" stroke=\"black\" d=\"M796,-684.75C796,-684.75 632.25,-684.75 632.25,-684.75 626.25,-684.75 620.25,-678.75 620.25,-672.75 620.25,-672.75 620.25,-610 620.25,-610 620.25,-604 626.25,-598 632.25,-598 632.25,-598 796,-598 796,-598 802,-598 808,-604 808,-610 808,-610 808,-672.75 808,-672.75 808,-678.75 802,-684.75 796,-684.75\"/>\n",
       "<text text-anchor=\"start\" x=\"628.25\" y=\"-667.45\" font-family=\"Helvetica,sans-Serif\" font-size=\"14.00\">Flipper Length (mm) ≤ 206.0</text>\n",
       "<text text-anchor=\"start\" x=\"666.88\" y=\"-651.7\" font-family=\"Helvetica,sans-Serif\" font-size=\"14.00\">entropy = 1.526</text>\n",
       "<text text-anchor=\"start\" x=\"669.5\" y=\"-635.95\" font-family=\"Helvetica,sans-Serif\" font-size=\"14.00\">samples = 260</text>\n",
       "<text text-anchor=\"start\" x=\"653.38\" y=\"-620.2\" font-family=\"Helvetica,sans-Serif\" font-size=\"14.00\">value = [111, 54, 95]</text>\n",
       "<text text-anchor=\"start\" x=\"672.5\" y=\"-604.45\" font-family=\"Helvetica,sans-Serif\" font-size=\"14.00\">class = Adelie</text>\n",
       "</g>\n",
       "<!-- 1 -->\n",
       "<g id=\"node2\" class=\"node\">\n",
       "<title>1</title>\n",
       "<path fill=\"#f1bb95\" stroke=\"black\" d=\"M624.25,-562C624.25,-562 462,-562 462,-562 456,-562 450,-556 450,-550 450,-550 450,-487.25 450,-487.25 450,-481.25 456,-475.25 462,-475.25 462,-475.25 624.25,-475.25 624.25,-475.25 630.25,-475.25 636.25,-481.25 636.25,-487.25 636.25,-487.25 636.25,-550 636.25,-550 636.25,-556 630.25,-562 624.25,-562\"/>\n",
       "<text text-anchor=\"start\" x=\"458\" y=\"-544.7\" font-family=\"Helvetica,sans-Serif\" font-size=\"14.00\">Culmen Length (mm) ≤ 44.2</text>\n",
       "<text text-anchor=\"start\" x=\"495.88\" y=\"-528.95\" font-family=\"Helvetica,sans-Serif\" font-size=\"14.00\">entropy = 0.947</text>\n",
       "<text text-anchor=\"start\" x=\"498.5\" y=\"-513.2\" font-family=\"Helvetica,sans-Serif\" font-size=\"14.00\">samples = 160</text>\n",
       "<text text-anchor=\"start\" x=\"485.38\" y=\"-497.45\" font-family=\"Helvetica,sans-Serif\" font-size=\"14.00\">value = [109, 50, 1]</text>\n",
       "<text text-anchor=\"start\" x=\"501.5\" y=\"-481.7\" font-family=\"Helvetica,sans-Serif\" font-size=\"14.00\">class = Adelie</text>\n",
       "</g>\n",
       "<!-- 0&#45;&gt;1 -->\n",
       "<g id=\"edge1\" class=\"edge\">\n",
       "<title>0&#45;&gt;1</title>\n",
       "<path fill=\"none\" stroke=\"black\" d=\"M653.84,-597.8C640.63,-588.48 626.55,-578.53 613.01,-568.97\"/>\n",
       "<polygon fill=\"black\" stroke=\"black\" points=\"615.16,-566.21 604.97,-563.3 611.12,-571.92 615.16,-566.21\"/>\n",
       "<text text-anchor=\"middle\" x=\"607.98\" y=\"-581.64\" font-family=\"Helvetica,sans-Serif\" font-size=\"14.00\">True</text>\n",
       "</g>\n",
       "<!-- 18 -->\n",
       "<g id=\"node19\" class=\"node\">\n",
       "<title>18</title>\n",
       "<path fill=\"#8945e7\" stroke=\"black\" d=\"M886.12,-562C886.12,-562 750.12,-562 750.12,-562 744.12,-562 738.12,-556 738.12,-550 738.12,-550 738.12,-487.25 738.12,-487.25 738.12,-481.25 744.12,-475.25 750.12,-475.25 750.12,-475.25 886.12,-475.25 886.12,-475.25 892.12,-475.25 898.12,-481.25 898.12,-487.25 898.12,-487.25 898.12,-550 898.12,-550 898.12,-556 892.12,-562 886.12,-562\"/>\n",
       "<text text-anchor=\"start\" x=\"746.12\" y=\"-544.7\" font-family=\"Helvetica,sans-Serif\" font-size=\"14.00\">Body Mass (g) ≤ 4325.0</text>\n",
       "<text text-anchor=\"start\" x=\"770.88\" y=\"-528.95\" font-family=\"Helvetica,sans-Serif\" font-size=\"14.00\">entropy = 0.383</text>\n",
       "<text text-anchor=\"start\" x=\"773.5\" y=\"-513.2\" font-family=\"Helvetica,sans-Serif\" font-size=\"14.00\">samples = 100</text>\n",
       "<text text-anchor=\"start\" x=\"767.88\" y=\"-497.45\" font-family=\"Helvetica,sans-Serif\" font-size=\"14.00\">value = [2, 4, 94]</text>\n",
       "<text text-anchor=\"start\" x=\"772.38\" y=\"-481.7\" font-family=\"Helvetica,sans-Serif\" font-size=\"14.00\">class = Gentoo</text>\n",
       "</g>\n",
       "<!-- 0&#45;&gt;18 -->\n",
       "<g id=\"edge18\" class=\"edge\">\n",
       "<title>0&#45;&gt;18</title>\n",
       "<path fill=\"none\" stroke=\"black\" d=\"M750.79,-597.8C758.33,-589.06 766.33,-579.76 774.09,-570.75\"/>\n",
       "<polygon fill=\"black\" stroke=\"black\" points=\"776.58,-573.23 780.45,-563.37 771.27,-568.66 776.58,-573.23\"/>\n",
       "<text text-anchor=\"middle\" x=\"783.3\" y=\"-581.73\" font-family=\"Helvetica,sans-Serif\" font-size=\"14.00\">False</text>\n",
       "</g>\n",
       "<!-- 2 -->\n",
       "<g id=\"node3\" class=\"node\">\n",
       "<title>2</title>\n",
       "<path fill=\"#e6853f\" stroke=\"black\" d=\"M366,-439.25C366,-439.25 196.25,-439.25 196.25,-439.25 190.25,-439.25 184.25,-433.25 184.25,-427.25 184.25,-427.25 184.25,-364.5 184.25,-364.5 184.25,-358.5 190.25,-352.5 196.25,-352.5 196.25,-352.5 366,-352.5 366,-352.5 372,-352.5 378,-358.5 378,-364.5 378,-364.5 378,-427.25 378,-427.25 378,-433.25 372,-439.25 366,-439.25\"/>\n",
       "<text text-anchor=\"start\" x=\"192.25\" y=\"-421.95\" font-family=\"Helvetica,sans-Serif\" font-size=\"14.00\">Culmen Length (mm) ≤ 40.75</text>\n",
       "<text text-anchor=\"start\" x=\"233.88\" y=\"-406.2\" font-family=\"Helvetica,sans-Serif\" font-size=\"14.00\">entropy = 0.182</text>\n",
       "<text text-anchor=\"start\" x=\"236.5\" y=\"-390.45\" font-family=\"Helvetica,sans-Serif\" font-size=\"14.00\">samples = 109</text>\n",
       "<text text-anchor=\"start\" x=\"227.12\" y=\"-374.7\" font-family=\"Helvetica,sans-Serif\" font-size=\"14.00\">value = [106, 3, 0]</text>\n",
       "<text text-anchor=\"start\" x=\"239.5\" y=\"-358.95\" font-family=\"Helvetica,sans-Serif\" font-size=\"14.00\">class = Adelie</text>\n",
       "</g>\n",
       "<!-- 1&#45;&gt;2 -->\n",
       "<g id=\"edge2\" class=\"edge\">\n",
       "<title>1&#45;&gt;2</title>\n",
       "<path fill=\"none\" stroke=\"black\" d=\"M450.38,-474.88C428.91,-464.99 405.93,-454.39 384.04,-444.31\"/>\n",
       "<polygon fill=\"black\" stroke=\"black\" points=\"385.66,-441.2 375.12,-440.19 382.73,-447.56 385.66,-441.2\"/>\n",
       "</g>\n",
       "<!-- 9 -->\n",
       "<g id=\"node10\" class=\"node\">\n",
       "<title>9</title>\n",
       "<path fill=\"#4ae78c\" stroke=\"black\" d=\"M611.12,-439.25C611.12,-439.25 475.12,-439.25 475.12,-439.25 469.12,-439.25 463.12,-433.25 463.12,-427.25 463.12,-427.25 463.12,-364.5 463.12,-364.5 463.12,-358.5 469.12,-352.5 475.12,-352.5 475.12,-352.5 611.12,-352.5 611.12,-352.5 617.12,-352.5 623.12,-358.5 623.12,-364.5 623.12,-364.5 623.12,-427.25 623.12,-427.25 623.12,-433.25 617.12,-439.25 611.12,-439.25\"/>\n",
       "<text text-anchor=\"start\" x=\"471.12\" y=\"-421.95\" font-family=\"Helvetica,sans-Serif\" font-size=\"14.00\">Body Mass (g) ≤ 4100.0</text>\n",
       "<text text-anchor=\"start\" x=\"499.62\" y=\"-406.2\" font-family=\"Helvetica,sans-Serif\" font-size=\"14.00\">entropy = 0.46</text>\n",
       "<text text-anchor=\"start\" x=\"502.25\" y=\"-390.45\" font-family=\"Helvetica,sans-Serif\" font-size=\"14.00\">samples = 51</text>\n",
       "<text text-anchor=\"start\" x=\"492.88\" y=\"-374.7\" font-family=\"Helvetica,sans-Serif\" font-size=\"14.00\">value = [3, 47, 1]</text>\n",
       "<text text-anchor=\"start\" x=\"491\" y=\"-358.95\" font-family=\"Helvetica,sans-Serif\" font-size=\"14.00\">class = Chinstrap</text>\n",
       "</g>\n",
       "<!-- 1&#45;&gt;9 -->\n",
       "<g id=\"edge9\" class=\"edge\">\n",
       "<title>1&#45;&gt;9</title>\n",
       "<path fill=\"none\" stroke=\"black\" d=\"M543.12,-475.05C543.12,-467.21 543.12,-458.92 543.12,-450.79\"/>\n",
       "<polygon fill=\"black\" stroke=\"black\" points=\"546.63,-450.98 543.13,-440.98 539.63,-450.98 546.63,-450.98\"/>\n",
       "</g>\n",
       "<!-- 3 -->\n",
       "<g id=\"node4\" class=\"node\">\n",
       "<title>3</title>\n",
       "<path fill=\"#e58139\" stroke=\"black\" d=\"M171.38,-308.62C171.38,-308.62 78.88,-308.62 78.88,-308.62 72.88,-308.62 66.88,-302.62 66.88,-296.62 66.88,-296.62 66.88,-249.62 66.88,-249.62 66.88,-243.62 72.88,-237.62 78.88,-237.62 78.88,-237.62 171.38,-237.62 171.38,-237.62 177.38,-237.62 183.38,-243.62 183.38,-249.62 183.38,-249.62 183.38,-296.62 183.38,-296.62 183.38,-302.62 177.38,-308.62 171.38,-308.62\"/>\n",
       "<text text-anchor=\"start\" x=\"85.38\" y=\"-291.32\" font-family=\"Helvetica,sans-Serif\" font-size=\"14.00\">entropy = 0.0</text>\n",
       "<text text-anchor=\"start\" x=\"84.25\" y=\"-275.57\" font-family=\"Helvetica,sans-Serif\" font-size=\"14.00\">samples = 82</text>\n",
       "<text text-anchor=\"start\" x=\"74.88\" y=\"-259.82\" font-family=\"Helvetica,sans-Serif\" font-size=\"14.00\">value = [82, 0, 0]</text>\n",
       "<text text-anchor=\"start\" x=\"83.5\" y=\"-244.07\" font-family=\"Helvetica,sans-Serif\" font-size=\"14.00\">class = Adelie</text>\n",
       "</g>\n",
       "<!-- 2&#45;&gt;3 -->\n",
       "<g id=\"edge3\" class=\"edge\">\n",
       "<title>2&#45;&gt;3</title>\n",
       "<path fill=\"none\" stroke=\"black\" d=\"M226.13,-352.3C210.8,-340.44 194.17,-327.57 178.92,-315.76\"/>\n",
       "<polygon fill=\"black\" stroke=\"black\" points=\"181.36,-313.23 171.31,-309.87 177.08,-318.76 181.36,-313.23\"/>\n",
       "</g>\n",
       "<!-- 4 -->\n",
       "<g id=\"node5\" class=\"node\">\n",
       "<title>4</title>\n",
       "<path fill=\"#e89152\" stroke=\"black\" d=\"M349.12,-316.5C349.12,-316.5 213.12,-316.5 213.12,-316.5 207.12,-316.5 201.12,-310.5 201.12,-304.5 201.12,-304.5 201.12,-241.75 201.12,-241.75 201.12,-235.75 207.12,-229.75 213.12,-229.75 213.12,-229.75 349.12,-229.75 349.12,-229.75 355.12,-229.75 361.12,-235.75 361.12,-241.75 361.12,-241.75 361.12,-304.5 361.12,-304.5 361.12,-310.5 355.12,-316.5 349.12,-316.5\"/>\n",
       "<text text-anchor=\"start\" x=\"209.12\" y=\"-299.2\" font-family=\"Helvetica,sans-Serif\" font-size=\"14.00\">Body Mass (g) ≤ 3425.0</text>\n",
       "<text text-anchor=\"start\" x=\"233.88\" y=\"-283.45\" font-family=\"Helvetica,sans-Serif\" font-size=\"14.00\">entropy = 0.503</text>\n",
       "<text text-anchor=\"start\" x=\"240.25\" y=\"-267.7\" font-family=\"Helvetica,sans-Serif\" font-size=\"14.00\">samples = 27</text>\n",
       "<text text-anchor=\"start\" x=\"230.88\" y=\"-251.95\" font-family=\"Helvetica,sans-Serif\" font-size=\"14.00\">value = [24, 3, 0]</text>\n",
       "<text text-anchor=\"start\" x=\"239.5\" y=\"-236.2\" font-family=\"Helvetica,sans-Serif\" font-size=\"14.00\">class = Adelie</text>\n",
       "</g>\n",
       "<!-- 2&#45;&gt;4 -->\n",
       "<g id=\"edge4\" class=\"edge\">\n",
       "<title>2&#45;&gt;4</title>\n",
       "<path fill=\"none\" stroke=\"black\" d=\"M281.12,-352.3C281.12,-344.46 281.12,-336.17 281.12,-328.04\"/>\n",
       "<polygon fill=\"black\" stroke=\"black\" points=\"284.63,-328.23 281.13,-318.23 277.63,-328.23 284.63,-328.23\"/>\n",
       "</g>\n",
       "<!-- 5 -->\n",
       "<g id=\"node6\" class=\"node\">\n",
       "<title>5</title>\n",
       "<path fill=\"#7beeab\" stroke=\"black\" d=\"M217.25,-193.75C217.25,-193.75 121,-193.75 121,-193.75 115,-193.75 109,-187.75 109,-181.75 109,-181.75 109,-119 109,-119 109,-113 115,-107 121,-107 121,-107 217.25,-107 217.25,-107 223.25,-107 229.25,-113 229.25,-119 229.25,-119 229.25,-181.75 229.25,-181.75 229.25,-187.75 223.25,-193.75 217.25,-193.75\"/>\n",
       "<text text-anchor=\"start\" x=\"118.12\" y=\"-176.45\" font-family=\"Helvetica,sans-Serif\" font-size=\"14.00\">Sex_MALE ≤ 0.5</text>\n",
       "<text text-anchor=\"start\" x=\"122.25\" y=\"-160.7\" font-family=\"Helvetica,sans-Serif\" font-size=\"14.00\">entropy = 0.811</text>\n",
       "<text text-anchor=\"start\" x=\"132\" y=\"-144.95\" font-family=\"Helvetica,sans-Serif\" font-size=\"14.00\">samples = 4</text>\n",
       "<text text-anchor=\"start\" x=\"122.62\" y=\"-129.2\" font-family=\"Helvetica,sans-Serif\" font-size=\"14.00\">value = [1, 3, 0]</text>\n",
       "<text text-anchor=\"start\" x=\"117\" y=\"-113.45\" font-family=\"Helvetica,sans-Serif\" font-size=\"14.00\">class = Chinstrap</text>\n",
       "</g>\n",
       "<!-- 4&#45;&gt;5 -->\n",
       "<g id=\"edge5\" class=\"edge\">\n",
       "<title>4&#45;&gt;5</title>\n",
       "<path fill=\"none\" stroke=\"black\" d=\"M241.64,-229.55C233.44,-220.72 224.73,-211.32 216.28,-202.22\"/>\n",
       "<polygon fill=\"black\" stroke=\"black\" points=\"219.03,-200.03 209.66,-195.08 213.9,-204.79 219.03,-200.03\"/>\n",
       "</g>\n",
       "<!-- 8 -->\n",
       "<g id=\"node9\" class=\"node\">\n",
       "<title>8</title>\n",
       "<path fill=\"#e58139\" stroke=\"black\" d=\"M351.38,-185.88C351.38,-185.88 258.88,-185.88 258.88,-185.88 252.88,-185.88 246.88,-179.88 246.88,-173.88 246.88,-173.88 246.88,-126.88 246.88,-126.88 246.88,-120.88 252.88,-114.88 258.88,-114.88 258.88,-114.88 351.38,-114.88 351.38,-114.88 357.38,-114.88 363.38,-120.88 363.38,-126.88 363.38,-126.88 363.38,-173.88 363.38,-173.88 363.38,-179.88 357.38,-185.88 351.38,-185.88\"/>\n",
       "<text text-anchor=\"start\" x=\"265.38\" y=\"-168.57\" font-family=\"Helvetica,sans-Serif\" font-size=\"14.00\">entropy = 0.0</text>\n",
       "<text text-anchor=\"start\" x=\"264.25\" y=\"-152.82\" font-family=\"Helvetica,sans-Serif\" font-size=\"14.00\">samples = 23</text>\n",
       "<text text-anchor=\"start\" x=\"254.88\" y=\"-137.07\" font-family=\"Helvetica,sans-Serif\" font-size=\"14.00\">value = [23, 0, 0]</text>\n",
       "<text text-anchor=\"start\" x=\"263.5\" y=\"-121.33\" font-family=\"Helvetica,sans-Serif\" font-size=\"14.00\">class = Adelie</text>\n",
       "</g>\n",
       "<!-- 4&#45;&gt;8 -->\n",
       "<g id=\"edge8\" class=\"edge\">\n",
       "<title>4&#45;&gt;8</title>\n",
       "<path fill=\"none\" stroke=\"black\" d=\"M289.59,-229.55C291.67,-219.08 293.91,-207.83 296.02,-197.21\"/>\n",
       "<polygon fill=\"black\" stroke=\"black\" points=\"299.43,-197.98 297.95,-187.49 292.56,-196.61 299.43,-197.98\"/>\n",
       "</g>\n",
       "<!-- 6 -->\n",
       "<g id=\"node7\" class=\"node\">\n",
       "<title>6</title>\n",
       "<path fill=\"#39e581\" stroke=\"black\" d=\"M108.25,-71C108.25,-71 12,-71 12,-71 6,-71 0,-65 0,-59 0,-59 0,-12 0,-12 0,-6 6,0 12,0 12,0 108.25,0 108.25,0 114.25,0 120.25,-6 120.25,-12 120.25,-12 120.25,-59 120.25,-59 120.25,-65 114.25,-71 108.25,-71\"/>\n",
       "<text text-anchor=\"start\" x=\"20.38\" y=\"-53.7\" font-family=\"Helvetica,sans-Serif\" font-size=\"14.00\">entropy = 0.0</text>\n",
       "<text text-anchor=\"start\" x=\"23\" y=\"-37.95\" font-family=\"Helvetica,sans-Serif\" font-size=\"14.00\">samples = 3</text>\n",
       "<text text-anchor=\"start\" x=\"13.62\" y=\"-22.2\" font-family=\"Helvetica,sans-Serif\" font-size=\"14.00\">value = [0, 3, 0]</text>\n",
       "<text text-anchor=\"start\" x=\"8\" y=\"-6.45\" font-family=\"Helvetica,sans-Serif\" font-size=\"14.00\">class = Chinstrap</text>\n",
       "</g>\n",
       "<!-- 5&#45;&gt;6 -->\n",
       "<g id=\"edge6\" class=\"edge\">\n",
       "<title>5&#45;&gt;6</title>\n",
       "<path fill=\"none\" stroke=\"black\" d=\"M127.92,-106.7C119.24,-97.72 110.08,-88.23 101.4,-79.25\"/>\n",
       "<polygon fill=\"black\" stroke=\"black\" points=\"104.11,-77.01 94.64,-72.25 99.07,-81.87 104.11,-77.01\"/>\n",
       "</g>\n",
       "<!-- 7 -->\n",
       "<g id=\"node8\" class=\"node\">\n",
       "<title>7</title>\n",
       "<path fill=\"#e58139\" stroke=\"black\" d=\"M235.62,-71C235.62,-71 150.62,-71 150.62,-71 144.62,-71 138.62,-65 138.62,-59 138.62,-59 138.62,-12 138.62,-12 138.62,-6 144.62,0 150.62,0 150.62,0 235.62,0 235.62,0 241.62,0 247.62,-6 247.62,-12 247.62,-12 247.62,-59 247.62,-59 247.62,-65 241.62,-71 235.62,-71\"/>\n",
       "<text text-anchor=\"start\" x=\"153.38\" y=\"-53.7\" font-family=\"Helvetica,sans-Serif\" font-size=\"14.00\">entropy = 0.0</text>\n",
       "<text text-anchor=\"start\" x=\"156\" y=\"-37.95\" font-family=\"Helvetica,sans-Serif\" font-size=\"14.00\">samples = 1</text>\n",
       "<text text-anchor=\"start\" x=\"146.62\" y=\"-22.2\" font-family=\"Helvetica,sans-Serif\" font-size=\"14.00\">value = [1, 0, 0]</text>\n",
       "<text text-anchor=\"start\" x=\"151.5\" y=\"-6.45\" font-family=\"Helvetica,sans-Serif\" font-size=\"14.00\">class = Adelie</text>\n",
       "</g>\n",
       "<!-- 5&#45;&gt;7 -->\n",
       "<g id=\"edge7\" class=\"edge\">\n",
       "<title>5&#45;&gt;7</title>\n",
       "<path fill=\"none\" stroke=\"black\" d=\"M178.2,-106.7C179.89,-98.72 181.67,-90.36 183.39,-82.29\"/>\n",
       "<polygon fill=\"black\" stroke=\"black\" points=\"186.78,-83.15 185.44,-72.64 179.94,-81.69 186.78,-83.15\"/>\n",
       "</g>\n",
       "<!-- 10 -->\n",
       "<g id=\"node11\" class=\"node\">\n",
       "<title>10</title>\n",
       "<path fill=\"#39e581\" stroke=\"black\" d=\"M487.25,-308.62C487.25,-308.62 391,-308.62 391,-308.62 385,-308.62 379,-302.62 379,-296.62 379,-296.62 379,-249.62 379,-249.62 379,-243.62 385,-237.62 391,-237.62 391,-237.62 487.25,-237.62 487.25,-237.62 493.25,-237.62 499.25,-243.62 499.25,-249.62 499.25,-249.62 499.25,-296.62 499.25,-296.62 499.25,-302.62 493.25,-308.62 487.25,-308.62\"/>\n",
       "<text text-anchor=\"start\" x=\"399.38\" y=\"-291.32\" font-family=\"Helvetica,sans-Serif\" font-size=\"14.00\">entropy = 0.0</text>\n",
       "<text text-anchor=\"start\" x=\"398.25\" y=\"-275.57\" font-family=\"Helvetica,sans-Serif\" font-size=\"14.00\">samples = 42</text>\n",
       "<text text-anchor=\"start\" x=\"388.88\" y=\"-259.82\" font-family=\"Helvetica,sans-Serif\" font-size=\"14.00\">value = [0, 42, 0]</text>\n",
       "<text text-anchor=\"start\" x=\"387\" y=\"-244.07\" font-family=\"Helvetica,sans-Serif\" font-size=\"14.00\">class = Chinstrap</text>\n",
       "</g>\n",
       "<!-- 9&#45;&gt;10 -->\n",
       "<g id=\"edge10\" class=\"edge\">\n",
       "<title>9&#45;&gt;10</title>\n",
       "<path fill=\"none\" stroke=\"black\" d=\"M506.46,-352.3C496.67,-340.94 486.09,-328.65 476.28,-317.26\"/>\n",
       "<polygon fill=\"black\" stroke=\"black\" points=\"479.12,-315.19 469.94,-309.9 473.81,-319.76 479.12,-315.19\"/>\n",
       "</g>\n",
       "<!-- 11 -->\n",
       "<g id=\"node12\" class=\"node\">\n",
       "<title>11</title>\n",
       "<path fill=\"#bdf6d5\" stroke=\"black\" d=\"M691.25,-316.5C691.25,-316.5 529,-316.5 529,-316.5 523,-316.5 517,-310.5 517,-304.5 517,-304.5 517,-241.75 517,-241.75 517,-235.75 523,-229.75 529,-229.75 529,-229.75 691.25,-229.75 691.25,-229.75 697.25,-229.75 703.25,-235.75 703.25,-241.75 703.25,-241.75 703.25,-304.5 703.25,-304.5 703.25,-310.5 697.25,-316.5 691.25,-316.5\"/>\n",
       "<text text-anchor=\"start\" x=\"525\" y=\"-299.2\" font-family=\"Helvetica,sans-Serif\" font-size=\"14.00\">Culmen Length (mm) ≤ 47.2</text>\n",
       "<text text-anchor=\"start\" x=\"562.88\" y=\"-283.45\" font-family=\"Helvetica,sans-Serif\" font-size=\"14.00\">entropy = 1.352</text>\n",
       "<text text-anchor=\"start\" x=\"573\" y=\"-267.7\" font-family=\"Helvetica,sans-Serif\" font-size=\"14.00\">samples = 9</text>\n",
       "<text text-anchor=\"start\" x=\"563.62\" y=\"-251.95\" font-family=\"Helvetica,sans-Serif\" font-size=\"14.00\">value = [3, 5, 1]</text>\n",
       "<text text-anchor=\"start\" x=\"558\" y=\"-236.2\" font-family=\"Helvetica,sans-Serif\" font-size=\"14.00\">class = Chinstrap</text>\n",
       "</g>\n",
       "<!-- 9&#45;&gt;11 -->\n",
       "<g id=\"edge11\" class=\"edge\">\n",
       "<title>9&#45;&gt;11</title>\n",
       "<path fill=\"none\" stroke=\"black\" d=\"M566.75,-352.3C571.35,-344.01 576.23,-335.22 580.98,-326.64\"/>\n",
       "<polygon fill=\"black\" stroke=\"black\" points=\"583.97,-328.49 585.76,-318.04 577.84,-325.09 583.97,-328.49\"/>\n",
       "</g>\n",
       "<!-- 12 -->\n",
       "<g id=\"node13\" class=\"node\">\n",
       "<title>12</title>\n",
       "<path fill=\"#eeab7b\" stroke=\"black\" d=\"M539.12,-193.75C539.12,-193.75 445.12,-193.75 445.12,-193.75 439.12,-193.75 433.12,-187.75 433.12,-181.75 433.12,-181.75 433.12,-119 433.12,-119 433.12,-113 439.12,-107 445.12,-107 445.12,-107 539.12,-107 539.12,-107 545.12,-107 551.12,-113 551.12,-119 551.12,-119 551.12,-181.75 551.12,-181.75 551.12,-187.75 545.12,-193.75 539.12,-193.75\"/>\n",
       "<text text-anchor=\"start\" x=\"441.12\" y=\"-176.45\" font-family=\"Helvetica,sans-Serif\" font-size=\"14.00\">Sex_MALE ≤ 0.5</text>\n",
       "<text text-anchor=\"start\" x=\"445.25\" y=\"-160.7\" font-family=\"Helvetica,sans-Serif\" font-size=\"14.00\">entropy = 0.811</text>\n",
       "<text text-anchor=\"start\" x=\"455\" y=\"-144.95\" font-family=\"Helvetica,sans-Serif\" font-size=\"14.00\">samples = 4</text>\n",
       "<text text-anchor=\"start\" x=\"445.62\" y=\"-129.2\" font-family=\"Helvetica,sans-Serif\" font-size=\"14.00\">value = [3, 1, 0]</text>\n",
       "<text text-anchor=\"start\" x=\"450.5\" y=\"-113.45\" font-family=\"Helvetica,sans-Serif\" font-size=\"14.00\">class = Adelie</text>\n",
       "</g>\n",
       "<!-- 11&#45;&gt;12 -->\n",
       "<g id=\"edge12\" class=\"edge\">\n",
       "<title>11&#45;&gt;12</title>\n",
       "<path fill=\"none\" stroke=\"black\" d=\"M568.52,-229.55C559.8,-220.63 550.52,-211.13 541.54,-201.94\"/>\n",
       "<polygon fill=\"black\" stroke=\"black\" points=\"544.3,-199.76 534.81,-195.05 539.29,-204.65 544.3,-199.76\"/>\n",
       "</g>\n",
       "<!-- 15 -->\n",
       "<g id=\"node16\" class=\"node\">\n",
       "<title>15</title>\n",
       "<path fill=\"#6aeca0\" stroke=\"black\" d=\"M677.25,-193.75C677.25,-193.75 581,-193.75 581,-193.75 575,-193.75 569,-187.75 569,-181.75 569,-181.75 569,-119 569,-119 569,-113 575,-107 581,-107 581,-107 677.25,-107 677.25,-107 683.25,-107 689.25,-113 689.25,-119 689.25,-119 689.25,-181.75 689.25,-181.75 689.25,-187.75 683.25,-193.75 677.25,-193.75\"/>\n",
       "<text text-anchor=\"start\" x=\"578.12\" y=\"-176.45\" font-family=\"Helvetica,sans-Serif\" font-size=\"14.00\">Sex_MALE ≤ 0.5</text>\n",
       "<text text-anchor=\"start\" x=\"581.88\" y=\"-160.7\" font-family=\"Helvetica,sans-Serif\" font-size=\"14.00\">entropy = 0.722</text>\n",
       "<text text-anchor=\"start\" x=\"592\" y=\"-144.95\" font-family=\"Helvetica,sans-Serif\" font-size=\"14.00\">samples = 5</text>\n",
       "<text text-anchor=\"start\" x=\"582.62\" y=\"-129.2\" font-family=\"Helvetica,sans-Serif\" font-size=\"14.00\">value = [0, 4, 1]</text>\n",
       "<text text-anchor=\"start\" x=\"577\" y=\"-113.45\" font-family=\"Helvetica,sans-Serif\" font-size=\"14.00\">class = Chinstrap</text>\n",
       "</g>\n",
       "<!-- 11&#45;&gt;15 -->\n",
       "<g id=\"edge15\" class=\"edge\">\n",
       "<title>11&#45;&gt;15</title>\n",
       "<path fill=\"none\" stroke=\"black\" d=\"M616.82,-229.55C618.06,-221.71 619.36,-213.42 620.64,-205.29\"/>\n",
       "<polygon fill=\"black\" stroke=\"black\" points=\"624.09,-205.89 622.19,-195.46 617.18,-204.8 624.09,-205.89\"/>\n",
       "</g>\n",
       "<!-- 13 -->\n",
       "<g id=\"node14\" class=\"node\">\n",
       "<title>13</title>\n",
       "<path fill=\"#39e581\" stroke=\"black\" d=\"M410.25,-71C410.25,-71 314,-71 314,-71 308,-71 302,-65 302,-59 302,-59 302,-12 302,-12 302,-6 308,0 314,0 314,0 410.25,0 410.25,0 416.25,0 422.25,-6 422.25,-12 422.25,-12 422.25,-59 422.25,-59 422.25,-65 416.25,-71 410.25,-71\"/>\n",
       "<text text-anchor=\"start\" x=\"322.38\" y=\"-53.7\" font-family=\"Helvetica,sans-Serif\" font-size=\"14.00\">entropy = 0.0</text>\n",
       "<text text-anchor=\"start\" x=\"325\" y=\"-37.95\" font-family=\"Helvetica,sans-Serif\" font-size=\"14.00\">samples = 1</text>\n",
       "<text text-anchor=\"start\" x=\"315.62\" y=\"-22.2\" font-family=\"Helvetica,sans-Serif\" font-size=\"14.00\">value = [0, 1, 0]</text>\n",
       "<text text-anchor=\"start\" x=\"310\" y=\"-6.45\" font-family=\"Helvetica,sans-Serif\" font-size=\"14.00\">class = Chinstrap</text>\n",
       "</g>\n",
       "<!-- 12&#45;&gt;13 -->\n",
       "<g id=\"edge13\" class=\"edge\">\n",
       "<title>12&#45;&gt;13</title>\n",
       "<path fill=\"none\" stroke=\"black\" d=\"M442.98,-106.7C432.42,-97.53 421.26,-87.85 410.72,-78.7\"/>\n",
       "<polygon fill=\"black\" stroke=\"black\" points=\"413.03,-76.06 403.18,-72.15 408.44,-81.35 413.03,-76.06\"/>\n",
       "</g>\n",
       "<!-- 14 -->\n",
       "<g id=\"node15\" class=\"node\">\n",
       "<title>14</title>\n",
       "<path fill=\"#e58139\" stroke=\"black\" d=\"M537.62,-71C537.62,-71 452.62,-71 452.62,-71 446.62,-71 440.62,-65 440.62,-59 440.62,-59 440.62,-12 440.62,-12 440.62,-6 446.62,0 452.62,0 452.62,0 537.62,0 537.62,0 543.62,0 549.62,-6 549.62,-12 549.62,-12 549.62,-59 549.62,-59 549.62,-65 543.62,-71 537.62,-71\"/>\n",
       "<text text-anchor=\"start\" x=\"455.38\" y=\"-53.7\" font-family=\"Helvetica,sans-Serif\" font-size=\"14.00\">entropy = 0.0</text>\n",
       "<text text-anchor=\"start\" x=\"458\" y=\"-37.95\" font-family=\"Helvetica,sans-Serif\" font-size=\"14.00\">samples = 3</text>\n",
       "<text text-anchor=\"start\" x=\"448.62\" y=\"-22.2\" font-family=\"Helvetica,sans-Serif\" font-size=\"14.00\">value = [3, 0, 0]</text>\n",
       "<text text-anchor=\"start\" x=\"453.5\" y=\"-6.45\" font-family=\"Helvetica,sans-Serif\" font-size=\"14.00\">class = Adelie</text>\n",
       "</g>\n",
       "<!-- 12&#45;&gt;14 -->\n",
       "<g id=\"edge14\" class=\"edge\">\n",
       "<title>12&#45;&gt;14</title>\n",
       "<path fill=\"none\" stroke=\"black\" d=\"M493.26,-106.7C493.47,-98.82 493.69,-90.55 493.9,-82.57\"/>\n",
       "<polygon fill=\"black\" stroke=\"black\" points=\"497.4,-82.76 494.16,-72.67 490.4,-82.57 497.4,-82.76\"/>\n",
       "</g>\n",
       "<!-- 16 -->\n",
       "<g id=\"node17\" class=\"node\">\n",
       "<title>16</title>\n",
       "<path fill=\"#8139e5\" stroke=\"black\" d=\"M669.62,-71C669.62,-71 584.62,-71 584.62,-71 578.62,-71 572.62,-65 572.62,-59 572.62,-59 572.62,-12 572.62,-12 572.62,-6 578.62,0 584.62,0 584.62,0 669.62,0 669.62,0 675.62,0 681.62,-6 681.62,-12 681.62,-12 681.62,-59 681.62,-59 681.62,-65 675.62,-71 669.62,-71\"/>\n",
       "<text text-anchor=\"start\" x=\"587.38\" y=\"-53.7\" font-family=\"Helvetica,sans-Serif\" font-size=\"14.00\">entropy = 0.0</text>\n",
       "<text text-anchor=\"start\" x=\"590\" y=\"-37.95\" font-family=\"Helvetica,sans-Serif\" font-size=\"14.00\">samples = 1</text>\n",
       "<text text-anchor=\"start\" x=\"580.62\" y=\"-22.2\" font-family=\"Helvetica,sans-Serif\" font-size=\"14.00\">value = [0, 0, 1]</text>\n",
       "<text text-anchor=\"start\" x=\"581.38\" y=\"-6.45\" font-family=\"Helvetica,sans-Serif\" font-size=\"14.00\">class = Gentoo</text>\n",
       "</g>\n",
       "<!-- 15&#45;&gt;16 -->\n",
       "<g id=\"edge16\" class=\"edge\">\n",
       "<title>15&#45;&gt;16</title>\n",
       "<path fill=\"none\" stroke=\"black\" d=\"M628.37,-106.7C628.23,-98.82 628.08,-90.55 627.94,-82.57\"/>\n",
       "<polygon fill=\"black\" stroke=\"black\" points=\"631.44,-82.61 627.77,-72.67 624.44,-82.73 631.44,-82.61\"/>\n",
       "</g>\n",
       "<!-- 17 -->\n",
       "<g id=\"node18\" class=\"node\">\n",
       "<title>17</title>\n",
       "<path fill=\"#39e581\" stroke=\"black\" d=\"M808.25,-71C808.25,-71 712,-71 712,-71 706,-71 700,-65 700,-59 700,-59 700,-12 700,-12 700,-6 706,0 712,0 712,0 808.25,0 808.25,0 814.25,0 820.25,-6 820.25,-12 820.25,-12 820.25,-59 820.25,-59 820.25,-65 814.25,-71 808.25,-71\"/>\n",
       "<text text-anchor=\"start\" x=\"720.38\" y=\"-53.7\" font-family=\"Helvetica,sans-Serif\" font-size=\"14.00\">entropy = 0.0</text>\n",
       "<text text-anchor=\"start\" x=\"723\" y=\"-37.95\" font-family=\"Helvetica,sans-Serif\" font-size=\"14.00\">samples = 4</text>\n",
       "<text text-anchor=\"start\" x=\"713.62\" y=\"-22.2\" font-family=\"Helvetica,sans-Serif\" font-size=\"14.00\">value = [0, 4, 0]</text>\n",
       "<text text-anchor=\"start\" x=\"708\" y=\"-6.45\" font-family=\"Helvetica,sans-Serif\" font-size=\"14.00\">class = Chinstrap</text>\n",
       "</g>\n",
       "<!-- 15&#45;&gt;17 -->\n",
       "<g id=\"edge17\" class=\"edge\">\n",
       "<title>15&#45;&gt;17</title>\n",
       "<path fill=\"none\" stroke=\"black\" d=\"M678.65,-106.7C689.4,-97.44 700.76,-87.65 711.47,-78.42\"/>\n",
       "<polygon fill=\"black\" stroke=\"black\" points=\"713.46,-81.32 718.76,-72.15 708.9,-76.02 713.46,-81.32\"/>\n",
       "</g>\n",
       "<!-- 19 -->\n",
       "<g id=\"node20\" class=\"node\">\n",
       "<title>19</title>\n",
       "<path fill=\"#d5bdf6\" stroke=\"black\" d=\"M873.75,-439.25C873.75,-439.25 762.5,-439.25 762.5,-439.25 756.5,-439.25 750.5,-433.25 750.5,-427.25 750.5,-427.25 750.5,-364.5 750.5,-364.5 750.5,-358.5 756.5,-352.5 762.5,-352.5 762.5,-352.5 873.75,-352.5 873.75,-352.5 879.75,-352.5 885.75,-358.5 885.75,-364.5 885.75,-364.5 885.75,-427.25 885.75,-427.25 885.75,-433.25 879.75,-439.25 873.75,-439.25\"/>\n",
       "<text text-anchor=\"start\" x=\"758.5\" y=\"-421.95\" font-family=\"Helvetica,sans-Serif\" font-size=\"14.00\">Sex_FEMALE ≤ 0.5</text>\n",
       "<text text-anchor=\"start\" x=\"774.62\" y=\"-406.2\" font-family=\"Helvetica,sans-Serif\" font-size=\"14.00\">entropy = 1.42</text>\n",
       "<text text-anchor=\"start\" x=\"777.25\" y=\"-390.45\" font-family=\"Helvetica,sans-Serif\" font-size=\"14.00\">samples = 13</text>\n",
       "<text text-anchor=\"start\" x=\"771.62\" y=\"-374.7\" font-family=\"Helvetica,sans-Serif\" font-size=\"14.00\">value = [2, 4, 7]</text>\n",
       "<text text-anchor=\"start\" x=\"772.38\" y=\"-358.95\" font-family=\"Helvetica,sans-Serif\" font-size=\"14.00\">class = Gentoo</text>\n",
       "</g>\n",
       "<!-- 18&#45;&gt;19 -->\n",
       "<g id=\"edge19\" class=\"edge\">\n",
       "<title>18&#45;&gt;19</title>\n",
       "<path fill=\"none\" stroke=\"black\" d=\"M818.12,-475.05C818.12,-467.21 818.12,-458.92 818.12,-450.79\"/>\n",
       "<polygon fill=\"black\" stroke=\"black\" points=\"821.63,-450.98 818.13,-440.98 814.63,-450.98 821.63,-450.98\"/>\n",
       "</g>\n",
       "<!-- 24 -->\n",
       "<g id=\"node25\" class=\"node\">\n",
       "<title>24</title>\n",
       "<path fill=\"#8139e5\" stroke=\"black\" d=\"M1008.38,-431.38C1008.38,-431.38 915.88,-431.38 915.88,-431.38 909.88,-431.38 903.88,-425.38 903.88,-419.38 903.88,-419.38 903.88,-372.38 903.88,-372.38 903.88,-366.38 909.88,-360.38 915.88,-360.38 915.88,-360.38 1008.38,-360.38 1008.38,-360.38 1014.38,-360.38 1020.38,-366.38 1020.38,-372.38 1020.38,-372.38 1020.38,-419.38 1020.38,-419.38 1020.38,-425.38 1014.38,-431.38 1008.38,-431.38\"/>\n",
       "<text text-anchor=\"start\" x=\"922.38\" y=\"-414.07\" font-family=\"Helvetica,sans-Serif\" font-size=\"14.00\">entropy = 0.0</text>\n",
       "<text text-anchor=\"start\" x=\"921.25\" y=\"-398.32\" font-family=\"Helvetica,sans-Serif\" font-size=\"14.00\">samples = 87</text>\n",
       "<text text-anchor=\"start\" x=\"911.88\" y=\"-382.57\" font-family=\"Helvetica,sans-Serif\" font-size=\"14.00\">value = [0, 0, 87]</text>\n",
       "<text text-anchor=\"start\" x=\"916.38\" y=\"-366.82\" font-family=\"Helvetica,sans-Serif\" font-size=\"14.00\">class = Gentoo</text>\n",
       "</g>\n",
       "<!-- 18&#45;&gt;24 -->\n",
       "<g id=\"edge24\" class=\"edge\">\n",
       "<title>18&#45;&gt;24</title>\n",
       "<path fill=\"none\" stroke=\"black\" d=\"M868.89,-475.05C882.98,-463.24 898.25,-450.44 912.28,-438.68\"/>\n",
       "<polygon fill=\"black\" stroke=\"black\" points=\"914.26,-441.58 919.67,-432.48 909.76,-436.22 914.26,-441.58\"/>\n",
       "</g>\n",
       "<!-- 20 -->\n",
       "<g id=\"node21\" class=\"node\">\n",
       "<title>20</title>\n",
       "<path fill=\"#9cf2c0\" stroke=\"black\" d=\"M903,-316.5C903,-316.5 733.25,-316.5 733.25,-316.5 727.25,-316.5 721.25,-310.5 721.25,-304.5 721.25,-304.5 721.25,-241.75 721.25,-241.75 721.25,-235.75 727.25,-229.75 733.25,-229.75 733.25,-229.75 903,-229.75 903,-229.75 909,-229.75 915,-235.75 915,-241.75 915,-241.75 915,-304.5 915,-304.5 915,-310.5 909,-316.5 903,-316.5\"/>\n",
       "<text text-anchor=\"start\" x=\"729.25\" y=\"-299.2\" font-family=\"Helvetica,sans-Serif\" font-size=\"14.00\">Culmen Length (mm) ≤ 46.55</text>\n",
       "<text text-anchor=\"start\" x=\"770.88\" y=\"-283.45\" font-family=\"Helvetica,sans-Serif\" font-size=\"14.00\">entropy = 0.918</text>\n",
       "<text text-anchor=\"start\" x=\"781\" y=\"-267.7\" font-family=\"Helvetica,sans-Serif\" font-size=\"14.00\">samples = 6</text>\n",
       "<text text-anchor=\"start\" x=\"771.62\" y=\"-251.95\" font-family=\"Helvetica,sans-Serif\" font-size=\"14.00\">value = [2, 4, 0]</text>\n",
       "<text text-anchor=\"start\" x=\"766\" y=\"-236.2\" font-family=\"Helvetica,sans-Serif\" font-size=\"14.00\">class = Chinstrap</text>\n",
       "</g>\n",
       "<!-- 19&#45;&gt;20 -->\n",
       "<g id=\"edge20\" class=\"edge\">\n",
       "<title>19&#45;&gt;20</title>\n",
       "<path fill=\"none\" stroke=\"black\" d=\"M818.12,-352.3C818.12,-344.46 818.12,-336.17 818.12,-328.04\"/>\n",
       "<polygon fill=\"black\" stroke=\"black\" points=\"821.63,-328.23 818.13,-318.23 814.63,-328.23 821.63,-328.23\"/>\n",
       "</g>\n",
       "<!-- 23 -->\n",
       "<g id=\"node24\" class=\"node\">\n",
       "<title>23</title>\n",
       "<path fill=\"#8139e5\" stroke=\"black\" d=\"M1029.62,-308.62C1029.62,-308.62 944.62,-308.62 944.62,-308.62 938.62,-308.62 932.62,-302.62 932.62,-296.62 932.62,-296.62 932.62,-249.62 932.62,-249.62 932.62,-243.62 938.62,-237.62 944.62,-237.62 944.62,-237.62 1029.62,-237.62 1029.62,-237.62 1035.62,-237.62 1041.62,-243.62 1041.62,-249.62 1041.62,-249.62 1041.62,-296.62 1041.62,-296.62 1041.62,-302.62 1035.62,-308.62 1029.62,-308.62\"/>\n",
       "<text text-anchor=\"start\" x=\"947.38\" y=\"-291.32\" font-family=\"Helvetica,sans-Serif\" font-size=\"14.00\">entropy = 0.0</text>\n",
       "<text text-anchor=\"start\" x=\"950\" y=\"-275.57\" font-family=\"Helvetica,sans-Serif\" font-size=\"14.00\">samples = 7</text>\n",
       "<text text-anchor=\"start\" x=\"940.62\" y=\"-259.82\" font-family=\"Helvetica,sans-Serif\" font-size=\"14.00\">value = [0, 0, 7]</text>\n",
       "<text text-anchor=\"start\" x=\"941.38\" y=\"-244.07\" font-family=\"Helvetica,sans-Serif\" font-size=\"14.00\">class = Gentoo</text>\n",
       "</g>\n",
       "<!-- 19&#45;&gt;23 -->\n",
       "<g id=\"edge23\" class=\"edge\">\n",
       "<title>19&#45;&gt;23</title>\n",
       "<path fill=\"none\" stroke=\"black\" d=\"M877.71,-352.3C894.47,-340.33 912.66,-327.33 929.31,-315.43\"/>\n",
       "<polygon fill=\"black\" stroke=\"black\" points=\"931.05,-318.49 937.16,-309.83 926.98,-312.79 931.05,-318.49\"/>\n",
       "</g>\n",
       "<!-- 21 -->\n",
       "<g id=\"node22\" class=\"node\">\n",
       "<title>21</title>\n",
       "<path fill=\"#e58139\" stroke=\"black\" d=\"M841.62,-185.88C841.62,-185.88 756.62,-185.88 756.62,-185.88 750.62,-185.88 744.62,-179.88 744.62,-173.88 744.62,-173.88 744.62,-126.88 744.62,-126.88 744.62,-120.88 750.62,-114.88 756.62,-114.88 756.62,-114.88 841.62,-114.88 841.62,-114.88 847.62,-114.88 853.62,-120.88 853.62,-126.88 853.62,-126.88 853.62,-173.88 853.62,-173.88 853.62,-179.88 847.62,-185.88 841.62,-185.88\"/>\n",
       "<text text-anchor=\"start\" x=\"759.38\" y=\"-168.57\" font-family=\"Helvetica,sans-Serif\" font-size=\"14.00\">entropy = 0.0</text>\n",
       "<text text-anchor=\"start\" x=\"762\" y=\"-152.82\" font-family=\"Helvetica,sans-Serif\" font-size=\"14.00\">samples = 2</text>\n",
       "<text text-anchor=\"start\" x=\"752.62\" y=\"-137.07\" font-family=\"Helvetica,sans-Serif\" font-size=\"14.00\">value = [2, 0, 0]</text>\n",
       "<text text-anchor=\"start\" x=\"757.5\" y=\"-121.33\" font-family=\"Helvetica,sans-Serif\" font-size=\"14.00\">class = Adelie</text>\n",
       "</g>\n",
       "<!-- 20&#45;&gt;21 -->\n",
       "<g id=\"edge21\" class=\"edge\">\n",
       "<title>20&#45;&gt;21</title>\n",
       "<path fill=\"none\" stroke=\"black\" d=\"M811.43,-229.55C809.78,-219.08 808.01,-207.83 806.34,-197.21\"/>\n",
       "<polygon fill=\"black\" stroke=\"black\" points=\"809.82,-196.83 804.81,-187.5 802.91,-197.92 809.82,-196.83\"/>\n",
       "</g>\n",
       "<!-- 22 -->\n",
       "<g id=\"node23\" class=\"node\">\n",
       "<title>22</title>\n",
       "<path fill=\"#39e581\" stroke=\"black\" d=\"M980.25,-185.88C980.25,-185.88 884,-185.88 884,-185.88 878,-185.88 872,-179.88 872,-173.88 872,-173.88 872,-126.88 872,-126.88 872,-120.88 878,-114.88 884,-114.88 884,-114.88 980.25,-114.88 980.25,-114.88 986.25,-114.88 992.25,-120.88 992.25,-126.88 992.25,-126.88 992.25,-173.88 992.25,-173.88 992.25,-179.88 986.25,-185.88 980.25,-185.88\"/>\n",
       "<text text-anchor=\"start\" x=\"892.38\" y=\"-168.57\" font-family=\"Helvetica,sans-Serif\" font-size=\"14.00\">entropy = 0.0</text>\n",
       "<text text-anchor=\"start\" x=\"895\" y=\"-152.82\" font-family=\"Helvetica,sans-Serif\" font-size=\"14.00\">samples = 4</text>\n",
       "<text text-anchor=\"start\" x=\"885.62\" y=\"-137.07\" font-family=\"Helvetica,sans-Serif\" font-size=\"14.00\">value = [0, 4, 0]</text>\n",
       "<text text-anchor=\"start\" x=\"880\" y=\"-121.33\" font-family=\"Helvetica,sans-Serif\" font-size=\"14.00\">class = Chinstrap</text>\n",
       "</g>\n",
       "<!-- 20&#45;&gt;22 -->\n",
       "<g id=\"edge22\" class=\"edge\">\n",
       "<title>20&#45;&gt;22</title>\n",
       "<path fill=\"none\" stroke=\"black\" d=\"M858.32,-229.55C869.15,-218.08 880.87,-205.66 891.72,-194.18\"/>\n",
       "<polygon fill=\"black\" stroke=\"black\" points=\"894.07,-196.78 898.39,-187.1 888.98,-191.97 894.07,-196.78\"/>\n",
       "</g>\n",
       "</g>\n",
       "</svg>\n"
      ],
      "text/plain": [
       "<graphviz.sources.Source at 0x2cabed28410>"
      ]
     },
     "metadata": {},
     "output_type": "display_data"
    },
    {
     "name": "stdout",
     "output_type": "stream",
     "text": [
      "✓ Decision tree (depth=7) visualized and saved to output/max_depth_graphviz\\graph_model_80_20_depth_7.png\n"
     ]
    }
   ],
   "source": [
    "export_and_display_trees_by_depth(list_max_depth_model, list_max_depth, features_name, class_name)"
   ]
  },
  {
   "cell_type": "markdown",
   "metadata": {},
   "source": [
    "## **5.3 Report of decision tree when changing the value of parameter `max_depth`**\n"
   ]
  },
  {
   "cell_type": "code",
   "execution_count": 106,
   "metadata": {},
   "outputs": [],
   "source": [
    "def visualize_accuracy_by_depth(accuracy_dict, save_path):\n",
    "    \"\"\"\n",
    "    Trực quan hóa độ chính xác tương ứng với từng giá trị max_depth của Decision Tree.\n",
    "    Hiển thị bảng và biểu đồ đường để so sánh trực quan hiệu suất mô hình.\n",
    "\n",
    "    Args:\n",
    "        accuracy_dict (dict): Từ điển ánh xạ max_depth → accuracy.\n",
    "        save_path (str): Đường dẫn lưu ảnh biểu đồ kết quả.\n",
    "    \"\"\"\n",
    "    # Chuẩn bị dữ liệu\n",
    "    max_depths = list(accuracy_dict.keys())\n",
    "    accuracies = list(accuracy_dict.values())\n",
    "\n",
    "    # Dữ liệu cho bảng\n",
    "    table_data = [[str(depth) if depth is not None else \"No Limit\", f\"{acc:.4f}\"]\n",
    "                  for depth, acc in zip(max_depths, accuracies)]\n",
    "\n",
    "    # Vẽ hình\n",
    "    plt.figure(figsize=(15, 6))\n",
    "\n",
    "    # Bảng thống kê\n",
    "    plt.subplot(1, 2, 1)\n",
    "    table = plt.table(\n",
    "        cellText=table_data,\n",
    "        colLabels=[\"Max Depth\", \"Accuracy\"],\n",
    "        loc=\"center\",\n",
    "        cellLoc=\"center\",\n",
    "        colWidths=[0.2, 0.3]\n",
    "    )\n",
    "    table.auto_set_font_size(False)\n",
    "    table.set_fontsize(10)\n",
    "\n",
    "    for cell in table.get_celld().values():\n",
    "        cell.set_height(0.1)\n",
    "\n",
    "    plt.axis(\"off\")\n",
    "    plt.title(\"Bảng độ chính xác\")\n",
    "\n",
    "    # Biểu đồ đường\n",
    "    plt.subplot(1, 2, 2)\n",
    "    plot_labels = [\"No Limit\" if d is None else d for d in max_depths]\n",
    "    plt.plot(plot_labels, accuracies, marker=\"o\", linestyle=\"-\", color=\"red\")\n",
    "    plt.xlabel(\"Max Depth\")\n",
    "    plt.ylabel(\"Accuracy\")\n",
    "    plt.title(\"Biểu đồ Accuracy theo Max Depth\")\n",
    "\n",
    "    plt.suptitle(\"So sánh độ sâu cây và độ chính xác của Decision Tree\")\n",
    "    plt.tight_layout()\n",
    "    plt.savefig(save_path)\n",
    "    plt.show()\n",
    "\n",
    "    print(f\"✓ Accuracy chart saved to: {save_path}\")"
   ]
  },
  {
   "cell_type": "code",
   "execution_count": 107,
   "metadata": {},
   "outputs": [
    {
     "data": {
      "image/png": "[encoded data removed]",
      "text/plain": [
       "<Figure size 1500x600 with 2 Axes>"
      ]
     },
     "metadata": {},
     "output_type": "display_data"
    },
    {
     "name": "stdout",
     "output_type": "stream",
     "text": [
      "✓ Accuracy chart saved to: output/report/max_depth_ver/accuracy_report.png\n"
     ]
    }
   ],
   "source": [
    "output_path = f\"output/report/max_depth_ver/accuracy_report.png\"\n",
    "visualize_accuracy_by_depth(accuracy_results, output_path)\n"
   ]
  }
 ],
 "metadata": {
  "kernelspec": {
   "display_name": "Python 3",
   "language": "python",
   "name": "python3"
  },
  "language_info": {
   "codemirror_mode": {
    "name": "ipython",
    "version": 3
   },
   "file_extension": ".py",
   "mimetype": "text/x-python",
   "name": "python",
   "nbconvert_exporter": "python",
   "pygments_lexer": "ipython3",
   "version": "3.13.3"
  }
 },
 "nbformat": 4,
 "nbformat_minor": 2
}
