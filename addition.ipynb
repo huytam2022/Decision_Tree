{
 "cells": [
  {
   "cell_type": "markdown",
   "metadata": {},
   "source": [
    "# **1. Preparing Steps**\n"
   ]
  },
  {
   "cell_type": "markdown",
   "metadata": {},
   "source": [
    "## **1.1 Install libraries**\n"
   ]
  },
  {
   "cell_type": "code",
   "execution_count": 1,
   "metadata": {},
   "outputs": [
    {
     "name": "stdout",
     "output_type": "stream",
     "text": [
      "Requirement already satisfied: numpy in c:\\users\\truon\\appdata\\local\\programs\\python\\python313\\lib\\site-packages (2.2.4)\n",
      "Requirement already satisfied: matplotlib in c:\\users\\truon\\appdata\\local\\programs\\python\\python313\\lib\\site-packages (3.10.1)\n",
      "Requirement already satisfied: contourpy>=1.0.1 in c:\\users\\truon\\appdata\\local\\programs\\python\\python313\\lib\\site-packages (from matplotlib) (1.3.1)\n",
      "Requirement already satisfied: cycler>=0.10 in c:\\users\\truon\\appdata\\local\\programs\\python\\python313\\lib\\site-packages (from matplotlib) (0.12.1)\n",
      "Requirement already satisfied: fonttools>=4.22.0 in c:\\users\\truon\\appdata\\local\\programs\\python\\python313\\lib\\site-packages (from matplotlib) (4.57.0)\n",
      "Requirement already satisfied: kiwisolver>=1.3.1 in c:\\users\\truon\\appdata\\local\\programs\\python\\python313\\lib\\site-packages (from matplotlib) (1.4.8)\n",
      "Requirement already satisfied: numpy>=1.23 in c:\\users\\truon\\appdata\\local\\programs\\python\\python313\\lib\\site-packages (from matplotlib) (2.2.4)\n",
      "Requirement already satisfied: packaging>=20.0 in c:\\users\\truon\\appdata\\roaming\\python\\python313\\site-packages (from matplotlib) (24.2)\n",
      "Requirement already satisfied: pillow>=8 in c:\\users\\truon\\appdata\\local\\programs\\python\\python313\\lib\\site-packages (from matplotlib) (11.2.1)\n",
      "Requirement already satisfied: pyparsing>=2.3.1 in c:\\users\\truon\\appdata\\local\\programs\\python\\python313\\lib\\site-packages (from matplotlib) (3.2.3)\n",
      "Requirement already satisfied: python-dateutil>=2.7 in c:\\users\\truon\\appdata\\roaming\\python\\python313\\site-packages (from matplotlib) (2.9.0.post0)\n",
      "Requirement already satisfied: six>=1.5 in c:\\users\\truon\\appdata\\roaming\\python\\python313\\site-packages (from python-dateutil>=2.7->matplotlib) (1.17.0)\n",
      "Requirement already satisfied: pandas in c:\\users\\truon\\appdata\\local\\programs\\python\\python313\\lib\\site-packages (2.2.3)\n",
      "Requirement already satisfied: numpy>=1.26.0 in c:\\users\\truon\\appdata\\local\\programs\\python\\python313\\lib\\site-packages (from pandas) (2.2.4)\n",
      "Requirement already satisfied: python-dateutil>=2.8.2 in c:\\users\\truon\\appdata\\roaming\\python\\python313\\site-packages (from pandas) (2.9.0.post0)\n",
      "Requirement already satisfied: pytz>=2020.1 in c:\\users\\truon\\appdata\\local\\programs\\python\\python313\\lib\\site-packages (from pandas) (2025.2)\n",
      "Requirement already satisfied: tzdata>=2022.7 in c:\\users\\truon\\appdata\\local\\programs\\python\\python313\\lib\\site-packages (from pandas) (2025.2)\n",
      "Requirement already satisfied: six>=1.5 in c:\\users\\truon\\appdata\\roaming\\python\\python313\\site-packages (from python-dateutil>=2.8.2->pandas) (1.17.0)\n",
      "Requirement already satisfied: seaborn in c:\\users\\truon\\appdata\\local\\programs\\python\\python313\\lib\\site-packages (0.13.2)\n",
      "Requirement already satisfied: numpy!=1.24.0,>=1.20 in c:\\users\\truon\\appdata\\local\\programs\\python\\python313\\lib\\site-packages (from seaborn) (2.2.4)\n",
      "Requirement already satisfied: pandas>=1.2 in c:\\users\\truon\\appdata\\local\\programs\\python\\python313\\lib\\site-packages (from seaborn) (2.2.3)\n",
      "Requirement already satisfied: matplotlib!=3.6.1,>=3.4 in c:\\users\\truon\\appdata\\local\\programs\\python\\python313\\lib\\site-packages (from seaborn) (3.10.1)\n",
      "Requirement already satisfied: contourpy>=1.0.1 in c:\\users\\truon\\appdata\\local\\programs\\python\\python313\\lib\\site-packages (from matplotlib!=3.6.1,>=3.4->seaborn) (1.3.1)\n",
      "Requirement already satisfied: cycler>=0.10 in c:\\users\\truon\\appdata\\local\\programs\\python\\python313\\lib\\site-packages (from matplotlib!=3.6.1,>=3.4->seaborn) (0.12.1)\n",
      "Requirement already satisfied: fonttools>=4.22.0 in c:\\users\\truon\\appdata\\local\\programs\\python\\python313\\lib\\site-packages (from matplotlib!=3.6.1,>=3.4->seaborn) (4.57.0)\n",
      "Requirement already satisfied: kiwisolver>=1.3.1 in c:\\users\\truon\\appdata\\local\\programs\\python\\python313\\lib\\site-packages (from matplotlib!=3.6.1,>=3.4->seaborn) (1.4.8)\n",
      "Requirement already satisfied: packaging>=20.0 in c:\\users\\truon\\appdata\\roaming\\python\\python313\\site-packages (from matplotlib!=3.6.1,>=3.4->seaborn) (24.2)\n",
      "Requirement already satisfied: pillow>=8 in c:\\users\\truon\\appdata\\local\\programs\\python\\python313\\lib\\site-packages (from matplotlib!=3.6.1,>=3.4->seaborn) (11.2.1)\n",
      "Requirement already satisfied: pyparsing>=2.3.1 in c:\\users\\truon\\appdata\\local\\programs\\python\\python313\\lib\\site-packages (from matplotlib!=3.6.1,>=3.4->seaborn) (3.2.3)\n",
      "Requirement already satisfied: python-dateutil>=2.7 in c:\\users\\truon\\appdata\\roaming\\python\\python313\\site-packages (from matplotlib!=3.6.1,>=3.4->seaborn) (2.9.0.post0)\n",
      "Requirement already satisfied: pytz>=2020.1 in c:\\users\\truon\\appdata\\local\\programs\\python\\python313\\lib\\site-packages (from pandas>=1.2->seaborn) (2025.2)\n",
      "Requirement already satisfied: tzdata>=2022.7 in c:\\users\\truon\\appdata\\local\\programs\\python\\python313\\lib\\site-packages (from pandas>=1.2->seaborn) (2025.2)\n",
      "Requirement already satisfied: six>=1.5 in c:\\users\\truon\\appdata\\roaming\\python\\python313\\site-packages (from python-dateutil>=2.7->matplotlib!=3.6.1,>=3.4->seaborn) (1.17.0)\n",
      "Requirement already satisfied: scikit-learn in c:\\users\\truon\\appdata\\local\\programs\\python\\python313\\lib\\site-packages (1.6.1)\n",
      "Requirement already satisfied: numpy>=1.19.5 in c:\\users\\truon\\appdata\\local\\programs\\python\\python313\\lib\\site-packages (from scikit-learn) (2.2.4)\n",
      "Requirement already satisfied: scipy>=1.6.0 in c:\\users\\truon\\appdata\\local\\programs\\python\\python313\\lib\\site-packages (from scikit-learn) (1.15.2)\n",
      "Requirement already satisfied: joblib>=1.2.0 in c:\\users\\truon\\appdata\\local\\programs\\python\\python313\\lib\\site-packages (from scikit-learn) (1.4.2)\n",
      "Requirement already satisfied: threadpoolctl>=3.1.0 in c:\\users\\truon\\appdata\\local\\programs\\python\\python313\\lib\\site-packages (from scikit-learn) (3.6.0)\n",
      "Requirement already satisfied: graphviz in c:\\users\\truon\\appdata\\local\\programs\\python\\python313\\lib\\site-packages (0.20.3)\n",
      "Requirement already satisfied: plotly in c:\\users\\truon\\appdata\\local\\programs\\python\\python313\\lib\\site-packages (6.0.1)\n",
      "Requirement already satisfied: narwhals>=1.15.1 in c:\\users\\truon\\appdata\\local\\programs\\python\\python313\\lib\\site-packages (from plotly) (1.35.0)\n",
      "Requirement already satisfied: packaging in c:\\users\\truon\\appdata\\roaming\\python\\python313\\site-packages (from plotly) (24.2)\n",
      "Requirement already satisfied: nbformat in c:\\users\\truon\\appdata\\local\\programs\\python\\python313\\lib\\site-packages (5.10.4)\n",
      "Requirement already satisfied: fastjsonschema>=2.15 in c:\\users\\truon\\appdata\\local\\programs\\python\\python313\\lib\\site-packages (from nbformat) (2.21.1)\n",
      "Requirement already satisfied: jsonschema>=2.6 in c:\\users\\truon\\appdata\\local\\programs\\python\\python313\\lib\\site-packages (from nbformat) (4.23.0)\n",
      "Requirement already satisfied: jupyter-core!=5.0.*,>=4.12 in c:\\users\\truon\\appdata\\roaming\\python\\python313\\site-packages (from nbformat) (5.7.2)\n",
      "Requirement already satisfied: traitlets>=5.1 in c:\\users\\truon\\appdata\\roaming\\python\\python313\\site-packages (from nbformat) (5.14.3)\n",
      "Requirement already satisfied: attrs>=22.2.0 in c:\\users\\truon\\appdata\\local\\programs\\python\\python313\\lib\\site-packages (from jsonschema>=2.6->nbformat) (25.3.0)\n",
      "Requirement already satisfied: jsonschema-specifications>=2023.03.6 in c:\\users\\truon\\appdata\\local\\programs\\python\\python313\\lib\\site-packages (from jsonschema>=2.6->nbformat) (2024.10.1)\n",
      "Requirement already satisfied: referencing>=0.28.4 in c:\\users\\truon\\appdata\\local\\programs\\python\\python313\\lib\\site-packages (from jsonschema>=2.6->nbformat) (0.36.2)\n",
      "Requirement already satisfied: rpds-py>=0.7.1 in c:\\users\\truon\\appdata\\local\\programs\\python\\python313\\lib\\site-packages (from jsonschema>=2.6->nbformat) (0.24.0)\n",
      "Requirement already satisfied: platformdirs>=2.5 in c:\\users\\truon\\appdata\\roaming\\python\\python313\\site-packages (from jupyter-core!=5.0.*,>=4.12->nbformat) (4.3.7)\n",
      "Requirement already satisfied: pywin32>=300 in c:\\users\\truon\\appdata\\roaming\\python\\python313\\site-packages (from jupyter-core!=5.0.*,>=4.12->nbformat) (310)\n",
      "Requirement already satisfied: joblib in c:\\users\\truon\\appdata\\local\\programs\\python\\python313\\lib\\site-packages (1.4.2)\n",
      "Requirement already satisfied: ucimlrepo in c:\\users\\truon\\appdata\\local\\programs\\python\\python313\\lib\\site-packages (0.0.7)\n",
      "Requirement already satisfied: pandas>=1.0.0 in c:\\users\\truon\\appdata\\local\\programs\\python\\python313\\lib\\site-packages (from ucimlrepo) (2.2.3)\n",
      "Requirement already satisfied: certifi>=2020.12.5 in c:\\users\\truon\\appdata\\local\\programs\\python\\python313\\lib\\site-packages (from ucimlrepo) (2025.1.31)\n",
      "Requirement already satisfied: numpy>=1.26.0 in c:\\users\\truon\\appdata\\local\\programs\\python\\python313\\lib\\site-packages (from pandas>=1.0.0->ucimlrepo) (2.2.4)\n",
      "Requirement already satisfied: python-dateutil>=2.8.2 in c:\\users\\truon\\appdata\\roaming\\python\\python313\\site-packages (from pandas>=1.0.0->ucimlrepo) (2.9.0.post0)\n",
      "Requirement already satisfied: pytz>=2020.1 in c:\\users\\truon\\appdata\\local\\programs\\python\\python313\\lib\\site-packages (from pandas>=1.0.0->ucimlrepo) (2025.2)\n",
      "Requirement already satisfied: tzdata>=2022.7 in c:\\users\\truon\\appdata\\local\\programs\\python\\python313\\lib\\site-packages (from pandas>=1.0.0->ucimlrepo) (2025.2)\n",
      "Requirement already satisfied: six>=1.5 in c:\\users\\truon\\appdata\\roaming\\python\\python313\\site-packages (from python-dateutil>=2.8.2->pandas>=1.0.0->ucimlrepo) (1.17.0)\n"
     ]
    }
   ],
   "source": [
    "!pip install numpy\n",
    "!pip install matplotlib\n",
    "!pip install pandas\n",
    "!pip install seaborn\n",
    "!pip install scikit-learn\n",
    "!pip install graphviz\n",
    "!pip install plotly\n",
    "!pip install nbformat\n",
    "!pip install joblib\n",
    "!pip install ucimlrepo"
   ]
  },
  {
   "cell_type": "code",
   "execution_count": 65,
   "metadata": {},
   "outputs": [],
   "source": [
    "import numpy as np\n",
    "import pandas as pd\n",
    "from sklearn.model_selection import train_test_split\n",
    "from sklearn.tree import DecisionTreeClassifier, export_graphviz\n",
    "import graphviz\n",
    "from sklearn.metrics import classification_report, confusion_matrix, accuracy_score\n",
    "from sklearn.utils import shuffle\n",
    "import plotly.express as px\n",
    "import plotly.graph_objects as go\n",
    "import joblib\n",
    "import matplotlib.pyplot as plt\n",
    "import seaborn as sns\n",
    "from sklearn.preprocessing import LabelEncoder"
   ]
  },
  {
   "cell_type": "markdown",
   "metadata": {},
   "source": [
    "## **1.2 Helper Functions**\n"
   ]
  },
  {
   "cell_type": "code",
   "execution_count": 71,
   "metadata": {},
   "outputs": [],
   "source": [
    "def load_data():\n",
    "    \"\"\"\n",
    "    Load and preprocess the Car Evaluation dataset.\n",
    "\n",
    "    This function reads the car_evaluation.csv file, cleans and encodes the dataset,\n",
    "    and returns the shuffled features, labels, and feature names for classification.\n",
    "\n",
    "    Returns:\n",
    "        tuple:\n",
    "            - features (pandas.DataFrame): Processed feature data for model training.\n",
    "            - labels (pandas.Series): Encoded target labels representing car evaluation classes.\n",
    "            - feature_names (list): Names of the features used.\n",
    "            - label_encoder (LabelEncoder): Encoder for decoding predicted classes.\n",
    "    \"\"\"\n",
    "    # Load the dataset\n",
    "    df = pd.read_csv(\"dataset/car_evaluation.csv\")\n",
    "\n",
    "    # Đặt lại tên cột cho hợp lý\n",
    "    df.columns = [\"buying\", \"maint\", \"doors\", \"persons\", \"lug_boot\", \"safety\", \"class\"]\n",
    "\n",
    "    # Kiểm tra lại tên các cột\n",
    "    print(df.head())\n",
    "\n",
    "    # Loại bỏ các dòng có giá trị thiếu\n",
    "    df = df.dropna()\n",
    "\n",
    "    # Mã hóa nhãn (class)\n",
    "    label_encoder = LabelEncoder()\n",
    "    df[\"target\"] = label_encoder.fit_transform(df[\"class\"])\n",
    "\n",
    "    # One-Hot Encoding cho các cột phân loại (buying, maint, doors, persons, lug_boot, safety)\n",
    "    df = pd.get_dummies(df, drop_first=True)\n",
    "\n",
    "    # Tách dữ liệu thành features và labels\n",
    "    features = df.drop(columns=[\"target\"])  # Loại bỏ cột \"class\" và \"target\"\n",
    "    labels = df[\"target\"]  # Cột \"target\" là nhãn\n",
    "    feature_names = features.columns.tolist()\n",
    "\n",
    "    # Xáo trộn dữ liệu cho ngẫu nhiên\n",
    "    features_shuffled, labels_shuffled = shuffle(features, labels, random_state=42)\n",
    "\n",
    "    return features_shuffled, labels_shuffled, feature_names, label_encoder"
   ]
  },
  {
   "cell_type": "code",
   "execution_count": 38,
   "metadata": {},
   "outputs": [],
   "source": [
    "def split_data(features, labels, train_size, test_size):\n",
    "    \"\"\"\n",
    "    Split the Heart Disease dataset into training and testing sets.\n",
    "\n",
    "    This function splits the input features and labels (from heart.csv)\n",
    "    into training and testing sets based on the specified proportions.\n",
    "    The split is stratified to preserve class distribution.\n",
    "\n",
    "    Args:\n",
    "        features (pandas.DataFrame): The feature data.\n",
    "        labels (pandas.Series): The target labels.\n",
    "        train_size (float): Proportion of data for training.\n",
    "        test_size (float): Proportion of data for testing.\n",
    "\n",
    "    Returns:\n",
    "        tuple:\n",
    "            - feature_train (pandas.DataFrame): Training features.\n",
    "            - feature_test (pandas.DataFrame): Testing features.\n",
    "            - label_train (pandas.Series): Training labels.\n",
    "            - label_test (pandas.Series): Testing labels.\n",
    "    \"\"\"\n",
    "    feature_train, feature_test, label_train, label_test = train_test_split(\n",
    "        features,\n",
    "        labels,\n",
    "        train_size=train_size,\n",
    "        test_size=test_size,\n",
    "        stratify=labels,\n",
    "        random_state=42,\n",
    "        shuffle=True\n",
    "    )\n",
    "\n",
    "    return feature_train, feature_test, label_train, label_test"
   ]
  },
  {
   "cell_type": "code",
   "execution_count": 39,
   "metadata": {},
   "outputs": [],
   "source": [
    "def create_datasets(features, labels, split_ratios):\n",
    "    \"\"\"\n",
    "    Create multiple train-test splits from the Heart Disease dataset.\n",
    "\n",
    "    This function uses different train/test ratios to create\n",
    "    multiple datasets, stratified to preserve label distribution.\n",
    "\n",
    "    Args:\n",
    "        features (pandas.DataFrame): Feature data from heart.csv.\n",
    "        labels (pandas.Series): Label data (0 or 1).\n",
    "        split_ratios (list of tuples): Each tuple contains (train_size, test_size), e.g., (0.8, 0.2).\n",
    "\n",
    "    Returns:\n",
    "        list of dicts: Each dict contains:\n",
    "            - 'train_size': float, training size used\n",
    "            - 'test_size': float, testing size used\n",
    "            - 'X_train', 'X_test': features\n",
    "            - 'y_train', 'y_test': labels\n",
    "    \"\"\"\n",
    "    datasets = []\n",
    "\n",
    "    for train_size, test_size in split_ratios:\n",
    "        X_train, X_test, y_train, y_test = split_data(\n",
    "            features, labels, train_size, test_size\n",
    "        )\n",
    "        datasets.append({\n",
    "            \"train_size\": train_size,\n",
    "            \"test_size\": test_size,\n",
    "            \"X_train\": X_train,\n",
    "            \"X_test\": X_test,\n",
    "            \"y_train\": y_train,\n",
    "            \"y_test\": y_test,\n",
    "        })\n",
    "\n",
    "    return datasets"
   ]
  },
  {
   "cell_type": "markdown",
   "metadata": {},
   "source": [
    "# **2. Preparing the data sets**\n"
   ]
  },
  {
   "cell_type": "markdown",
   "metadata": {},
   "source": [
    "## **2.1 Create training and test sets of different proportions**\n"
   ]
  },
  {
   "cell_type": "code",
   "execution_count": 73,
   "metadata": {},
   "outputs": [
    {
     "name": "stdout",
     "output_type": "stream",
     "text": [
      "  buying  maint doors persons lug_boot safety  class\n",
      "0  vhigh  vhigh     2       2    small    med  unacc\n",
      "1  vhigh  vhigh     2       2    small   high  unacc\n",
      "2  vhigh  vhigh     2       2      med    low  unacc\n",
      "3  vhigh  vhigh     2       2      med    med  unacc\n",
      "4  vhigh  vhigh     2       2      med   high  unacc\n"
     ]
    }
   ],
   "source": [
    "features_shuffle, labels_shuffle, features_name, label_encoder = load_data()"
   ]
  },
  {
   "cell_type": "code",
   "execution_count": 74,
   "metadata": {},
   "outputs": [
    {
     "data": {
      "text/html": [
       "<div>\n",
       "<style scoped>\n",
       "    .dataframe tbody tr th:only-of-type {\n",
       "        vertical-align: middle;\n",
       "    }\n",
       "\n",
       "    .dataframe tbody tr th {\n",
       "        vertical-align: top;\n",
       "    }\n",
       "\n",
       "    .dataframe thead th {\n",
       "        text-align: right;\n",
       "    }\n",
       "</style>\n",
       "<table border=\"1\" class=\"dataframe\">\n",
       "  <thead>\n",
       "    <tr style=\"text-align: right;\">\n",
       "      <th></th>\n",
       "      <th>buying_low</th>\n",
       "      <th>buying_med</th>\n",
       "      <th>buying_vhigh</th>\n",
       "      <th>maint_low</th>\n",
       "      <th>maint_med</th>\n",
       "      <th>maint_vhigh</th>\n",
       "      <th>doors_3</th>\n",
       "      <th>doors_4</th>\n",
       "      <th>doors_5more</th>\n",
       "      <th>persons_4</th>\n",
       "      <th>persons_more</th>\n",
       "      <th>lug_boot_med</th>\n",
       "      <th>lug_boot_small</th>\n",
       "      <th>safety_low</th>\n",
       "      <th>safety_med</th>\n",
       "      <th>class_good</th>\n",
       "      <th>class_unacc</th>\n",
       "      <th>class_vgood</th>\n",
       "    </tr>\n",
       "  </thead>\n",
       "  <tbody>\n",
       "    <tr>\n",
       "      <th>599</th>\n",
       "      <td>False</td>\n",
       "      <td>False</td>\n",
       "      <td>False</td>\n",
       "      <td>False</td>\n",
       "      <td>False</td>\n",
       "      <td>False</td>\n",
       "      <td>False</td>\n",
       "      <td>True</td>\n",
       "      <td>False</td>\n",
       "      <td>False</td>\n",
       "      <td>False</td>\n",
       "      <td>False</td>\n",
       "      <td>False</td>\n",
       "      <td>True</td>\n",
       "      <td>False</td>\n",
       "      <td>False</td>\n",
       "      <td>True</td>\n",
       "      <td>False</td>\n",
       "    </tr>\n",
       "    <tr>\n",
       "      <th>932</th>\n",
       "      <td>False</td>\n",
       "      <td>True</td>\n",
       "      <td>False</td>\n",
       "      <td>False</td>\n",
       "      <td>False</td>\n",
       "      <td>True</td>\n",
       "      <td>False</td>\n",
       "      <td>True</td>\n",
       "      <td>False</td>\n",
       "      <td>True</td>\n",
       "      <td>False</td>\n",
       "      <td>False</td>\n",
       "      <td>False</td>\n",
       "      <td>True</td>\n",
       "      <td>False</td>\n",
       "      <td>False</td>\n",
       "      <td>True</td>\n",
       "      <td>False</td>\n",
       "    </tr>\n",
       "    <tr>\n",
       "      <th>628</th>\n",
       "      <td>False</td>\n",
       "      <td>False</td>\n",
       "      <td>False</td>\n",
       "      <td>False</td>\n",
       "      <td>False</td>\n",
       "      <td>False</td>\n",
       "      <td>False</td>\n",
       "      <td>False</td>\n",
       "      <td>True</td>\n",
       "      <td>False</td>\n",
       "      <td>False</td>\n",
       "      <td>False</td>\n",
       "      <td>False</td>\n",
       "      <td>False</td>\n",
       "      <td>False</td>\n",
       "      <td>False</td>\n",
       "      <td>True</td>\n",
       "      <td>False</td>\n",
       "    </tr>\n",
       "    <tr>\n",
       "      <th>1497</th>\n",
       "      <td>True</td>\n",
       "      <td>False</td>\n",
       "      <td>False</td>\n",
       "      <td>False</td>\n",
       "      <td>False</td>\n",
       "      <td>False</td>\n",
       "      <td>False</td>\n",
       "      <td>False</td>\n",
       "      <td>True</td>\n",
       "      <td>True</td>\n",
       "      <td>False</td>\n",
       "      <td>True</td>\n",
       "      <td>False</td>\n",
       "      <td>False</td>\n",
       "      <td>True</td>\n",
       "      <td>False</td>\n",
       "      <td>False</td>\n",
       "      <td>False</td>\n",
       "    </tr>\n",
       "    <tr>\n",
       "      <th>1262</th>\n",
       "      <td>False</td>\n",
       "      <td>True</td>\n",
       "      <td>False</td>\n",
       "      <td>True</td>\n",
       "      <td>False</td>\n",
       "      <td>False</td>\n",
       "      <td>False</td>\n",
       "      <td>True</td>\n",
       "      <td>False</td>\n",
       "      <td>False</td>\n",
       "      <td>True</td>\n",
       "      <td>True</td>\n",
       "      <td>False</td>\n",
       "      <td>True</td>\n",
       "      <td>False</td>\n",
       "      <td>False</td>\n",
       "      <td>True</td>\n",
       "      <td>False</td>\n",
       "    </tr>\n",
       "  </tbody>\n",
       "</table>\n",
       "</div>"
      ],
      "text/plain": [
       "      buying_low  buying_med  buying_vhigh  maint_low  maint_med  maint_vhigh  \\\n",
       "599        False       False         False      False      False        False   \n",
       "932        False        True         False      False      False         True   \n",
       "628        False       False         False      False      False        False   \n",
       "1497        True       False         False      False      False        False   \n",
       "1262       False        True         False       True      False        False   \n",
       "\n",
       "      doors_3  doors_4  doors_5more  persons_4  persons_more  lug_boot_med  \\\n",
       "599     False     True        False      False         False         False   \n",
       "932     False     True        False       True         False         False   \n",
       "628     False    False         True      False         False         False   \n",
       "1497    False    False         True       True         False          True   \n",
       "1262    False     True        False      False          True          True   \n",
       "\n",
       "      lug_boot_small  safety_low  safety_med  class_good  class_unacc  \\\n",
       "599            False        True       False       False         True   \n",
       "932            False        True       False       False         True   \n",
       "628            False       False       False       False         True   \n",
       "1497           False       False        True       False        False   \n",
       "1262           False        True       False       False         True   \n",
       "\n",
       "      class_vgood  \n",
       "599         False  \n",
       "932         False  \n",
       "628         False  \n",
       "1497        False  \n",
       "1262        False  "
      ]
     },
     "execution_count": 74,
     "metadata": {},
     "output_type": "execute_result"
    }
   ],
   "source": [
    "features_shuffle.head()"
   ]
  },
  {
   "cell_type": "code",
   "execution_count": 75,
   "metadata": {},
   "outputs": [
    {
     "data": {
      "text/html": [
       "<div>\n",
       "<style scoped>\n",
       "    .dataframe tbody tr th:only-of-type {\n",
       "        vertical-align: middle;\n",
       "    }\n",
       "\n",
       "    .dataframe tbody tr th {\n",
       "        vertical-align: top;\n",
       "    }\n",
       "\n",
       "    .dataframe thead th {\n",
       "        text-align: right;\n",
       "    }\n",
       "</style>\n",
       "<table border=\"1\" class=\"dataframe\">\n",
       "  <thead>\n",
       "    <tr style=\"text-align: right;\">\n",
       "      <th></th>\n",
       "      <th>buying_low</th>\n",
       "      <th>buying_med</th>\n",
       "      <th>buying_vhigh</th>\n",
       "      <th>maint_low</th>\n",
       "      <th>maint_med</th>\n",
       "      <th>maint_vhigh</th>\n",
       "      <th>doors_3</th>\n",
       "      <th>doors_4</th>\n",
       "      <th>doors_5more</th>\n",
       "      <th>persons_4</th>\n",
       "      <th>persons_more</th>\n",
       "      <th>lug_boot_med</th>\n",
       "      <th>lug_boot_small</th>\n",
       "      <th>safety_low</th>\n",
       "      <th>safety_med</th>\n",
       "      <th>class_good</th>\n",
       "      <th>class_unacc</th>\n",
       "      <th>class_vgood</th>\n",
       "    </tr>\n",
       "  </thead>\n",
       "  <tbody>\n",
       "    <tr>\n",
       "      <th>count</th>\n",
       "      <td>1727</td>\n",
       "      <td>1727</td>\n",
       "      <td>1727</td>\n",
       "      <td>1727</td>\n",
       "      <td>1727</td>\n",
       "      <td>1727</td>\n",
       "      <td>1727</td>\n",
       "      <td>1727</td>\n",
       "      <td>1727</td>\n",
       "      <td>1727</td>\n",
       "      <td>1727</td>\n",
       "      <td>1727</td>\n",
       "      <td>1727</td>\n",
       "      <td>1727</td>\n",
       "      <td>1727</td>\n",
       "      <td>1727</td>\n",
       "      <td>1727</td>\n",
       "      <td>1727</td>\n",
       "    </tr>\n",
       "    <tr>\n",
       "      <th>unique</th>\n",
       "      <td>2</td>\n",
       "      <td>2</td>\n",
       "      <td>2</td>\n",
       "      <td>2</td>\n",
       "      <td>2</td>\n",
       "      <td>2</td>\n",
       "      <td>2</td>\n",
       "      <td>2</td>\n",
       "      <td>2</td>\n",
       "      <td>2</td>\n",
       "      <td>2</td>\n",
       "      <td>2</td>\n",
       "      <td>2</td>\n",
       "      <td>2</td>\n",
       "      <td>2</td>\n",
       "      <td>2</td>\n",
       "      <td>2</td>\n",
       "      <td>2</td>\n",
       "    </tr>\n",
       "    <tr>\n",
       "      <th>top</th>\n",
       "      <td>False</td>\n",
       "      <td>False</td>\n",
       "      <td>False</td>\n",
       "      <td>False</td>\n",
       "      <td>False</td>\n",
       "      <td>False</td>\n",
       "      <td>False</td>\n",
       "      <td>False</td>\n",
       "      <td>False</td>\n",
       "      <td>False</td>\n",
       "      <td>False</td>\n",
       "      <td>False</td>\n",
       "      <td>False</td>\n",
       "      <td>False</td>\n",
       "      <td>False</td>\n",
       "      <td>False</td>\n",
       "      <td>True</td>\n",
       "      <td>False</td>\n",
       "    </tr>\n",
       "    <tr>\n",
       "      <th>freq</th>\n",
       "      <td>1295</td>\n",
       "      <td>1295</td>\n",
       "      <td>1296</td>\n",
       "      <td>1295</td>\n",
       "      <td>1295</td>\n",
       "      <td>1296</td>\n",
       "      <td>1295</td>\n",
       "      <td>1295</td>\n",
       "      <td>1295</td>\n",
       "      <td>1151</td>\n",
       "      <td>1151</td>\n",
       "      <td>1151</td>\n",
       "      <td>1152</td>\n",
       "      <td>1152</td>\n",
       "      <td>1151</td>\n",
       "      <td>1658</td>\n",
       "      <td>1209</td>\n",
       "      <td>1662</td>\n",
       "    </tr>\n",
       "  </tbody>\n",
       "</table>\n",
       "</div>"
      ],
      "text/plain": [
       "       buying_low buying_med buying_vhigh maint_low maint_med maint_vhigh  \\\n",
       "count        1727       1727         1727      1727      1727        1727   \n",
       "unique          2          2            2         2         2           2   \n",
       "top         False      False        False     False     False       False   \n",
       "freq         1295       1295         1296      1295      1295        1296   \n",
       "\n",
       "       doors_3 doors_4 doors_5more persons_4 persons_more lug_boot_med  \\\n",
       "count     1727    1727        1727      1727         1727         1727   \n",
       "unique       2       2           2         2            2            2   \n",
       "top      False   False       False     False        False        False   \n",
       "freq      1295    1295        1295      1151         1151         1151   \n",
       "\n",
       "       lug_boot_small safety_low safety_med class_good class_unacc class_vgood  \n",
       "count            1727       1727       1727       1727        1727        1727  \n",
       "unique              2          2          2          2           2           2  \n",
       "top             False      False      False      False        True       False  \n",
       "freq             1152       1152       1151       1658        1209        1662  "
      ]
     },
     "execution_count": 75,
     "metadata": {},
     "output_type": "execute_result"
    }
   ],
   "source": [
    "features_shuffle.describe()"
   ]
  },
  {
   "cell_type": "code",
   "execution_count": 76,
   "metadata": {},
   "outputs": [
    {
     "data": {
      "text/plain": [
       "599     2\n",
       "932     2\n",
       "628     2\n",
       "1497    0\n",
       "1262    2\n",
       "Name: target, dtype: int64"
      ]
     },
     "execution_count": 76,
     "metadata": {},
     "output_type": "execute_result"
    }
   ],
   "source": [
    "labels_shuffle.head()"
   ]
  },
  {
   "cell_type": "code",
   "execution_count": 77,
   "metadata": {},
   "outputs": [
    {
     "data": {
      "text/plain": [
       "count    1727.000000\n",
       "mean        1.552982\n",
       "std         0.876136\n",
       "min         0.000000\n",
       "25%         1.000000\n",
       "50%         2.000000\n",
       "75%         2.000000\n",
       "max         3.000000\n",
       "Name: target, dtype: float64"
      ]
     },
     "execution_count": 77,
     "metadata": {},
     "output_type": "execute_result"
    }
   ],
   "source": [
    "labels_shuffle.describe()"
   ]
  },
  {
   "cell_type": "code",
   "execution_count": 78,
   "metadata": {},
   "outputs": [],
   "source": [
    "features_data = features_shuffle.values\n",
    "labels_data = labels_shuffle.values"
   ]
  },
  {
   "cell_type": "code",
   "execution_count": 79,
   "metadata": {},
   "outputs": [],
   "source": [
    "# Create datasets with different ratios\n",
    "split_ratios = [(0.4, 0.6), (0.6, 0.4), (0.8, 0.2), (0.9, 0.1)]\n",
    "datasets = create_datasets(features_data, labels_data, split_ratios)"
   ]
  },
  {
   "cell_type": "markdown",
   "metadata": {},
   "source": [
    "## **2.2 Visualize the distribution of classes in all the data sets**\n"
   ]
  },
  {
   "cell_type": "code",
   "execution_count": 80,
   "metadata": {},
   "outputs": [],
   "source": [
    "def plot_label_distributions(listDatasets, listProportions, original_labels, class_names=None):\n",
    "    \"\"\"\n",
    "    Hiển thị biểu đồ phân phối nhãn trong tập gốc, tập train và tập test.\n",
    "\n",
    "    Args:\n",
    "        listDatasets (list of dict): Mỗi dict chứa X_train, X_test, y_train, y_test.\n",
    "        listProportions (list of tuples): Danh sách tỷ lệ train/test (e.g., [(0.8, 0.2)]).\n",
    "        original_labels (Series or ndarray): Nhãn ban đầu trước khi chia tập.\n",
    "        class_names (list, optional): Tên lớp (e.g., [\"unacc\", \"acc\", \"good\", \"vgood\"]).\n",
    "                                      Nếu không có, dùng nhãn số mặc định.\n",
    "    \"\"\"\n",
    "\n",
    "    # Chuyển labels thành array 1D nếu cần\n",
    "    if hasattr(original_labels, \"values\"):\n",
    "        original_labels = original_labels.values\n",
    "    original_labels = np.array(original_labels).flatten()\n",
    "\n",
    "    # Các lớp nhãn\n",
    "    label_classes = sorted(np.unique(original_labels))\n",
    "\n",
    "    # Tên hiển thị trên trục X\n",
    "    if class_names is not None:\n",
    "        tick_labels = [f\"{name}\" for name in class_names]\n",
    "    else:\n",
    "        tick_labels = [f\"Class {label}\" for label in label_classes]\n",
    "\n",
    "    # Đếm nhãn trong tập gốc\n",
    "    original_counts = pd.Series(original_labels).value_counts().reindex(label_classes, fill_value=0).values\n",
    "\n",
    "    for i, (train_ratio, test_ratio) in enumerate(listProportions):\n",
    "        y_train = np.array(listDatasets[i]['y_train']).flatten()\n",
    "        y_test = np.array(listDatasets[i]['y_test']).flatten()\n",
    "\n",
    "        train_counts = pd.Series(y_train).value_counts().reindex(label_classes, fill_value=0).values\n",
    "        test_counts = pd.Series(y_test).value_counts().reindex(label_classes, fill_value=0).values\n",
    "\n",
    "        x = np.arange(len(label_classes))\n",
    "        width = 0.25\n",
    "\n",
    "        fig = go.Figure()\n",
    "\n",
    "        fig.add_trace(go.Bar(\n",
    "            x=x - width,\n",
    "            y=original_counts,\n",
    "            width=width,\n",
    "            name=\"Original Set\",\n",
    "            text=label_classes,\n",
    "            hoverinfo=\"x+y+text\",\n",
    "            marker_color=px.colors.qualitative.Plotly[0]\n",
    "        ))\n",
    "\n",
    "        fig.add_trace(go.Bar(\n",
    "            x=x,\n",
    "            y=train_counts,\n",
    "            width=width,\n",
    "            name=\"Training Set\",\n",
    "            text=label_classes,\n",
    "            hoverinfo=\"x+y+text\",\n",
    "            marker_color=px.colors.qualitative.Plotly[1]\n",
    "        ))\n",
    "\n",
    "        fig.add_trace(go.Bar(\n",
    "            x=x + width,\n",
    "            y=test_counts,\n",
    "            width=width,\n",
    "            name=\"Testing Set\",\n",
    "            text=label_classes,\n",
    "            hoverinfo=\"x+y+text\",\n",
    "            marker_color=px.colors.qualitative.Plotly[2]\n",
    "        ))\n",
    "\n",
    "        fig.update_layout(\n",
    "            title=f\"Label Distribution - Split ({int(train_ratio * 100)}% Train, {int(test_ratio * 100)}% Test)\",\n",
    "            xaxis=dict(title=\"Labels\", tickvals=x, ticktext=tick_labels),\n",
    "            yaxis=dict(title=\"Count\"),\n",
    "            barmode=\"group\",\n",
    "            legend_title_text=\"Dataset\"\n",
    "        )\n",
    "\n",
    "        fig.show()"
   ]
  },
  {
   "cell_type": "code",
   "execution_count": 85,
   "metadata": {},
   "outputs": [
    {
     "data": {
      "application/vnd.plotly.v1+json": {
       "config": {
        "plotlyServerURL": "https://plot.ly"
       },
       "data": [
        {
         "hoverinfo": "x+y+text",
         "marker": {
          "color": "#636EFA"
         },
         "name": "Original Set",
         "text": [
          "0",
          "1",
          "2",
          "3"
         ],
         "type": "bar",
         "width": 0.25,
         "x": {
          "bdata": "AAAAAAAA0L8AAAAAAADoPwAAAAAAAPw/AAAAAAAABkA=",
          "dtype": "f8"
         },
         "y": {
          "bdata": "gAFFALkEQQA=",
          "dtype": "i2"
         }
        },
        {
         "hoverinfo": "x+y+text",
         "marker": {
          "color": "#EF553B"
         },
         "name": "Training Set",
         "text": [
          "0",
          "1",
          "2",
          "3"
         ],
         "type": "bar",
         "width": 0.25,
         "x": {
          "bdata": "AAECAw==",
          "dtype": "i1"
         },
         "y": {
          "bdata": "mQAcAOMBGgA=",
          "dtype": "i2"
         }
        },
        {
         "hoverinfo": "x+y+text",
         "marker": {
          "color": "#00CC96"
         },
         "name": "Testing Set",
         "text": [
          "0",
          "1",
          "2",
          "3"
         ],
         "type": "bar",
         "width": 0.25,
         "x": {
          "bdata": "AAAAAAAA0D8AAAAAAAD0PwAAAAAAAAJAAAAAAAAACkA=",
          "dtype": "f8"
         },
         "y": {
          "bdata": "5wApANYCJwA=",
          "dtype": "i2"
         }
        }
       ],
       "layout": {
        "barmode": "group",
        "legend": {
         "title": {
          "text": "Dataset"
         }
        },
        "template": {
         "data": {
          "bar": [
           {
            "error_x": {
             "color": "#2a3f5f"
            },
            "error_y": {
             "color": "#2a3f5f"
            },
            "marker": {
             "line": {
              "color": "#E5ECF6",
              "width": 0.5
             },
             "pattern": {
              "fillmode": "overlay",
              "size": 10,
              "solidity": 0.2
             }
            },
            "type": "bar"
           }
          ],
          "barpolar": [
           {
            "marker": {
             "line": {
              "color": "#E5ECF6",
              "width": 0.5
             },
             "pattern": {
              "fillmode": "overlay",
              "size": 10,
              "solidity": 0.2
             }
            },
            "type": "barpolar"
           }
          ],
          "carpet": [
           {
            "aaxis": {
             "endlinecolor": "#2a3f5f",
             "gridcolor": "white",
             "linecolor": "white",
             "minorgridcolor": "white",
             "startlinecolor": "#2a3f5f"
            },
            "baxis": {
             "endlinecolor": "#2a3f5f",
             "gridcolor": "white",
             "linecolor": "white",
             "minorgridcolor": "white",
             "startlinecolor": "#2a3f5f"
            },
            "type": "carpet"
           }
          ],
          "choropleth": [
           {
            "colorbar": {
             "outlinewidth": 0,
             "ticks": ""
            },
            "type": "choropleth"
           }
          ],
          "contour": [
           {
            "colorbar": {
             "outlinewidth": 0,
             "ticks": ""
            },
            "colorscale": [
             [
              0,
              "#0d0887"
             ],
             [
              0.1111111111111111,
              "#46039f"
             ],
             [
              0.2222222222222222,
              "#7201a8"
             ],
             [
              0.3333333333333333,
              "#9c179e"
             ],
             [
              0.4444444444444444,
              "#bd3786"
             ],
             [
              0.5555555555555556,
              "#d8576b"
             ],
             [
              0.6666666666666666,
              "#ed7953"
             ],
             [
              0.7777777777777778,
              "#fb9f3a"
             ],
             [
              0.8888888888888888,
              "#fdca26"
             ],
             [
              1,
              "#f0f921"
             ]
            ],
            "type": "contour"
           }
          ],
          "contourcarpet": [
           {
            "colorbar": {
             "outlinewidth": 0,
             "ticks": ""
            },
            "type": "contourcarpet"
           }
          ],
          "heatmap": [
           {
            "colorbar": {
             "outlinewidth": 0,
             "ticks": ""
            },
            "colorscale": [
             [
              0,
              "#0d0887"
             ],
             [
              0.1111111111111111,
              "#46039f"
             ],
             [
              0.2222222222222222,
              "#7201a8"
             ],
             [
              0.3333333333333333,
              "#9c179e"
             ],
             [
              0.4444444444444444,
              "#bd3786"
             ],
             [
              0.5555555555555556,
              "#d8576b"
             ],
             [
              0.6666666666666666,
              "#ed7953"
             ],
             [
              0.7777777777777778,
              "#fb9f3a"
             ],
             [
              0.8888888888888888,
              "#fdca26"
             ],
             [
              1,
              "#f0f921"
             ]
            ],
            "type": "heatmap"
           }
          ],
          "histogram": [
           {
            "marker": {
             "pattern": {
              "fillmode": "overlay",
              "size": 10,
              "solidity": 0.2
             }
            },
            "type": "histogram"
           }
          ],
          "histogram2d": [
           {
            "colorbar": {
             "outlinewidth": 0,
             "ticks": ""
            },
            "colorscale": [
             [
              0,
              "#0d0887"
             ],
             [
              0.1111111111111111,
              "#46039f"
             ],
             [
              0.2222222222222222,
              "#7201a8"
             ],
             [
              0.3333333333333333,
              "#9c179e"
             ],
             [
              0.4444444444444444,
              "#bd3786"
             ],
             [
              0.5555555555555556,
              "#d8576b"
             ],
             [
              0.6666666666666666,
              "#ed7953"
             ],
             [
              0.7777777777777778,
              "#fb9f3a"
             ],
             [
              0.8888888888888888,
              "#fdca26"
             ],
             [
              1,
              "#f0f921"
             ]
            ],
            "type": "histogram2d"
           }
          ],
          "histogram2dcontour": [
           {
            "colorbar": {
             "outlinewidth": 0,
             "ticks": ""
            },
            "colorscale": [
             [
              0,
              "#0d0887"
             ],
             [
              0.1111111111111111,
              "#46039f"
             ],
             [
              0.2222222222222222,
              "#7201a8"
             ],
             [
              0.3333333333333333,
              "#9c179e"
             ],
             [
              0.4444444444444444,
              "#bd3786"
             ],
             [
              0.5555555555555556,
              "#d8576b"
             ],
             [
              0.6666666666666666,
              "#ed7953"
             ],
             [
              0.7777777777777778,
              "#fb9f3a"
             ],
             [
              0.8888888888888888,
              "#fdca26"
             ],
             [
              1,
              "#f0f921"
             ]
            ],
            "type": "histogram2dcontour"
           }
          ],
          "mesh3d": [
           {
            "colorbar": {
             "outlinewidth": 0,
             "ticks": ""
            },
            "type": "mesh3d"
           }
          ],
          "parcoords": [
           {
            "line": {
             "colorbar": {
              "outlinewidth": 0,
              "ticks": ""
             }
            },
            "type": "parcoords"
           }
          ],
          "pie": [
           {
            "automargin": true,
            "type": "pie"
           }
          ],
          "scatter": [
           {
            "fillpattern": {
             "fillmode": "overlay",
             "size": 10,
             "solidity": 0.2
            },
            "type": "scatter"
           }
          ],
          "scatter3d": [
           {
            "line": {
             "colorbar": {
              "outlinewidth": 0,
              "ticks": ""
             }
            },
            "marker": {
             "colorbar": {
              "outlinewidth": 0,
              "ticks": ""
             }
            },
            "type": "scatter3d"
           }
          ],
          "scattercarpet": [
           {
            "marker": {
             "colorbar": {
              "outlinewidth": 0,
              "ticks": ""
             }
            },
            "type": "scattercarpet"
           }
          ],
          "scattergeo": [
           {
            "marker": {
             "colorbar": {
              "outlinewidth": 0,
              "ticks": ""
             }
            },
            "type": "scattergeo"
           }
          ],
          "scattergl": [
           {
            "marker": {
             "colorbar": {
              "outlinewidth": 0,
              "ticks": ""
             }
            },
            "type": "scattergl"
           }
          ],
          "scattermap": [
           {
            "marker": {
             "colorbar": {
              "outlinewidth": 0,
              "ticks": ""
             }
            },
            "type": "scattermap"
           }
          ],
          "scattermapbox": [
           {
            "marker": {
             "colorbar": {
              "outlinewidth": 0,
              "ticks": ""
             }
            },
            "type": "scattermapbox"
           }
          ],
          "scatterpolar": [
           {
            "marker": {
             "colorbar": {
              "outlinewidth": 0,
              "ticks": ""
             }
            },
            "type": "scatterpolar"
           }
          ],
          "scatterpolargl": [
           {
            "marker": {
             "colorbar": {
              "outlinewidth": 0,
              "ticks": ""
             }
            },
            "type": "scatterpolargl"
           }
          ],
          "scatterternary": [
           {
            "marker": {
             "colorbar": {
              "outlinewidth": 0,
              "ticks": ""
             }
            },
            "type": "scatterternary"
           }
          ],
          "surface": [
           {
            "colorbar": {
             "outlinewidth": 0,
             "ticks": ""
            },
            "colorscale": [
             [
              0,
              "#0d0887"
             ],
             [
              0.1111111111111111,
              "#46039f"
             ],
             [
              0.2222222222222222,
              "#7201a8"
             ],
             [
              0.3333333333333333,
              "#9c179e"
             ],
             [
              0.4444444444444444,
              "#bd3786"
             ],
             [
              0.5555555555555556,
              "#d8576b"
             ],
             [
              0.6666666666666666,
              "#ed7953"
             ],
             [
              0.7777777777777778,
              "#fb9f3a"
             ],
             [
              0.8888888888888888,
              "#fdca26"
             ],
             [
              1,
              "#f0f921"
             ]
            ],
            "type": "surface"
           }
          ],
          "table": [
           {
            "cells": {
             "fill": {
              "color": "#EBF0F8"
             },
             "line": {
              "color": "white"
             }
            },
            "header": {
             "fill": {
              "color": "#C8D4E3"
             },
             "line": {
              "color": "white"
             }
            },
            "type": "table"
           }
          ]
         },
         "layout": {
          "annotationdefaults": {
           "arrowcolor": "#2a3f5f",
           "arrowhead": 0,
           "arrowwidth": 1
          },
          "autotypenumbers": "strict",
          "coloraxis": {
           "colorbar": {
            "outlinewidth": 0,
            "ticks": ""
           }
          },
          "colorscale": {
           "diverging": [
            [
             0,
             "#8e0152"
            ],
            [
             0.1,
             "#c51b7d"
            ],
            [
             0.2,
             "#de77ae"
            ],
            [
             0.3,
             "#f1b6da"
            ],
            [
             0.4,
             "#fde0ef"
            ],
            [
             0.5,
             "#f7f7f7"
            ],
            [
             0.6,
             "#e6f5d0"
            ],
            [
             0.7,
             "#b8e186"
            ],
            [
             0.8,
             "#7fbc41"
            ],
            [
             0.9,
             "#4d9221"
            ],
            [
             1,
             "#276419"
            ]
           ],
           "sequential": [
            [
             0,
             "#0d0887"
            ],
            [
             0.1111111111111111,
             "#46039f"
            ],
            [
             0.2222222222222222,
             "#7201a8"
            ],
            [
             0.3333333333333333,
             "#9c179e"
            ],
            [
             0.4444444444444444,
             "#bd3786"
            ],
            [
             0.5555555555555556,
             "#d8576b"
            ],
            [
             0.6666666666666666,
             "#ed7953"
            ],
            [
             0.7777777777777778,
             "#fb9f3a"
            ],
            [
             0.8888888888888888,
             "#fdca26"
            ],
            [
             1,
             "#f0f921"
            ]
           ],
           "sequentialminus": [
            [
             0,
             "#0d0887"
            ],
            [
             0.1111111111111111,
             "#46039f"
            ],
            [
             0.2222222222222222,
             "#7201a8"
            ],
            [
             0.3333333333333333,
             "#9c179e"
            ],
            [
             0.4444444444444444,
             "#bd3786"
            ],
            [
             0.5555555555555556,
             "#d8576b"
            ],
            [
             0.6666666666666666,
             "#ed7953"
            ],
            [
             0.7777777777777778,
             "#fb9f3a"
            ],
            [
             0.8888888888888888,
             "#fdca26"
            ],
            [
             1,
             "#f0f921"
            ]
           ]
          },
          "colorway": [
           "#636efa",
           "#EF553B",
           "#00cc96",
           "#ab63fa",
           "#FFA15A",
           "#19d3f3",
           "#FF6692",
           "#B6E880",
           "#FF97FF",
           "#FECB52"
          ],
          "font": {
           "color": "#2a3f5f"
          },
          "geo": {
           "bgcolor": "white",
           "lakecolor": "white",
           "landcolor": "#E5ECF6",
           "showlakes": true,
           "showland": true,
           "subunitcolor": "white"
          },
          "hoverlabel": {
           "align": "left"
          },
          "hovermode": "closest",
          "mapbox": {
           "style": "light"
          },
          "paper_bgcolor": "white",
          "plot_bgcolor": "#E5ECF6",
          "polar": {
           "angularaxis": {
            "gridcolor": "white",
            "linecolor": "white",
            "ticks": ""
           },
           "bgcolor": "#E5ECF6",
           "radialaxis": {
            "gridcolor": "white",
            "linecolor": "white",
            "ticks": ""
           }
          },
          "scene": {
           "xaxis": {
            "backgroundcolor": "#E5ECF6",
            "gridcolor": "white",
            "gridwidth": 2,
            "linecolor": "white",
            "showbackground": true,
            "ticks": "",
            "zerolinecolor": "white"
           },
           "yaxis": {
            "backgroundcolor": "#E5ECF6",
            "gridcolor": "white",
            "gridwidth": 2,
            "linecolor": "white",
            "showbackground": true,
            "ticks": "",
            "zerolinecolor": "white"
           },
           "zaxis": {
            "backgroundcolor": "#E5ECF6",
            "gridcolor": "white",
            "gridwidth": 2,
            "linecolor": "white",
            "showbackground": true,
            "ticks": "",
            "zerolinecolor": "white"
           }
          },
          "shapedefaults": {
           "line": {
            "color": "#2a3f5f"
           }
          },
          "ternary": {
           "aaxis": {
            "gridcolor": "white",
            "linecolor": "white",
            "ticks": ""
           },
           "baxis": {
            "gridcolor": "white",
            "linecolor": "white",
            "ticks": ""
           },
           "bgcolor": "#E5ECF6",
           "caxis": {
            "gridcolor": "white",
            "linecolor": "white",
            "ticks": ""
           }
          },
          "title": {
           "x": 0.05
          },
          "xaxis": {
           "automargin": true,
           "gridcolor": "white",
           "linecolor": "white",
           "ticks": "",
           "title": {
            "standoff": 15
           },
           "zerolinecolor": "white",
           "zerolinewidth": 2
          },
          "yaxis": {
           "automargin": true,
           "gridcolor": "white",
           "linecolor": "white",
           "ticks": "",
           "title": {
            "standoff": 15
           },
           "zerolinecolor": "white",
           "zerolinewidth": 2
          }
         }
        },
        "title": {
         "text": "Label Distribution - Split (40% Train, 60% Test)"
        },
        "xaxis": {
         "ticktext": [
          "unacc",
          "acc",
          "good",
          "vgood"
         ],
         "tickvals": {
          "bdata": "AAECAw==",
          "dtype": "i1"
         },
         "title": {
          "text": "Labels"
         }
        },
        "yaxis": {
         "title": {
          "text": "Count"
         }
        }
       }
      }
     },
     "metadata": {},
     "output_type": "display_data"
    },
    {
     "data": {
      "application/vnd.plotly.v1+json": {
       "config": {
        "plotlyServerURL": "https://plot.ly"
       },
       "data": [
        {
         "hoverinfo": "x+y+text",
         "marker": {
          "color": "#636EFA"
         },
         "name": "Original Set",
         "text": [
          "0",
          "1",
          "2",
          "3"
         ],
         "type": "bar",
         "width": 0.25,
         "x": {
          "bdata": "AAAAAAAA0L8AAAAAAADoPwAAAAAAAPw/AAAAAAAABkA=",
          "dtype": "f8"
         },
         "y": {
          "bdata": "gAFFALkEQQA=",
          "dtype": "i2"
         }
        },
        {
         "hoverinfo": "x+y+text",
         "marker": {
          "color": "#EF553B"
         },
         "name": "Training Set",
         "text": [
          "0",
          "1",
          "2",
          "3"
         ],
         "type": "bar",
         "width": 0.25,
         "x": {
          "bdata": "AAECAw==",
          "dtype": "i1"
         },
         "y": {
          "bdata": "5gAqANUCJwA=",
          "dtype": "i2"
         }
        },
        {
         "hoverinfo": "x+y+text",
         "marker": {
          "color": "#00CC96"
         },
         "name": "Testing Set",
         "text": [
          "0",
          "1",
          "2",
          "3"
         ],
         "type": "bar",
         "width": 0.25,
         "x": {
          "bdata": "AAAAAAAA0D8AAAAAAAD0PwAAAAAAAAJAAAAAAAAACkA=",
          "dtype": "f8"
         },
         "y": {
          "bdata": "mgAbAOQBGgA=",
          "dtype": "i2"
         }
        }
       ],
       "layout": {
        "barmode": "group",
        "legend": {
         "title": {
          "text": "Dataset"
         }
        },
        "template": {
         "data": {
          "bar": [
           {
            "error_x": {
             "color": "#2a3f5f"
            },
            "error_y": {
             "color": "#2a3f5f"
            },
            "marker": {
             "line": {
              "color": "#E5ECF6",
              "width": 0.5
             },
             "pattern": {
              "fillmode": "overlay",
              "size": 10,
              "solidity": 0.2
             }
            },
            "type": "bar"
           }
          ],
          "barpolar": [
           {
            "marker": {
             "line": {
              "color": "#E5ECF6",
              "width": 0.5
             },
             "pattern": {
              "fillmode": "overlay",
              "size": 10,
              "solidity": 0.2
             }
            },
            "type": "barpolar"
           }
          ],
          "carpet": [
           {
            "aaxis": {
             "endlinecolor": "#2a3f5f",
             "gridcolor": "white",
             "linecolor": "white",
             "minorgridcolor": "white",
             "startlinecolor": "#2a3f5f"
            },
            "baxis": {
             "endlinecolor": "#2a3f5f",
             "gridcolor": "white",
             "linecolor": "white",
             "minorgridcolor": "white",
             "startlinecolor": "#2a3f5f"
            },
            "type": "carpet"
           }
          ],
          "choropleth": [
           {
            "colorbar": {
             "outlinewidth": 0,
             "ticks": ""
            },
            "type": "choropleth"
           }
          ],
          "contour": [
           {
            "colorbar": {
             "outlinewidth": 0,
             "ticks": ""
            },
            "colorscale": [
             [
              0,
              "#0d0887"
             ],
             [
              0.1111111111111111,
              "#46039f"
             ],
             [
              0.2222222222222222,
              "#7201a8"
             ],
             [
              0.3333333333333333,
              "#9c179e"
             ],
             [
              0.4444444444444444,
              "#bd3786"
             ],
             [
              0.5555555555555556,
              "#d8576b"
             ],
             [
              0.6666666666666666,
              "#ed7953"
             ],
             [
              0.7777777777777778,
              "#fb9f3a"
             ],
             [
              0.8888888888888888,
              "#fdca26"
             ],
             [
              1,
              "#f0f921"
             ]
            ],
            "type": "contour"
           }
          ],
          "contourcarpet": [
           {
            "colorbar": {
             "outlinewidth": 0,
             "ticks": ""
            },
            "type": "contourcarpet"
           }
          ],
          "heatmap": [
           {
            "colorbar": {
             "outlinewidth": 0,
             "ticks": ""
            },
            "colorscale": [
             [
              0,
              "#0d0887"
             ],
             [
              0.1111111111111111,
              "#46039f"
             ],
             [
              0.2222222222222222,
              "#7201a8"
             ],
             [
              0.3333333333333333,
              "#9c179e"
             ],
             [
              0.4444444444444444,
              "#bd3786"
             ],
             [
              0.5555555555555556,
              "#d8576b"
             ],
             [
              0.6666666666666666,
              "#ed7953"
             ],
             [
              0.7777777777777778,
              "#fb9f3a"
             ],
             [
              0.8888888888888888,
              "#fdca26"
             ],
             [
              1,
              "#f0f921"
             ]
            ],
            "type": "heatmap"
           }
          ],
          "histogram": [
           {
            "marker": {
             "pattern": {
              "fillmode": "overlay",
              "size": 10,
              "solidity": 0.2
             }
            },
            "type": "histogram"
           }
          ],
          "histogram2d": [
           {
            "colorbar": {
             "outlinewidth": 0,
             "ticks": ""
            },
            "colorscale": [
             [
              0,
              "#0d0887"
             ],
             [
              0.1111111111111111,
              "#46039f"
             ],
             [
              0.2222222222222222,
              "#7201a8"
             ],
             [
              0.3333333333333333,
              "#9c179e"
             ],
             [
              0.4444444444444444,
              "#bd3786"
             ],
             [
              0.5555555555555556,
              "#d8576b"
             ],
             [
              0.6666666666666666,
              "#ed7953"
             ],
             [
              0.7777777777777778,
              "#fb9f3a"
             ],
             [
              0.8888888888888888,
              "#fdca26"
             ],
             [
              1,
              "#f0f921"
             ]
            ],
            "type": "histogram2d"
           }
          ],
          "histogram2dcontour": [
           {
            "colorbar": {
             "outlinewidth": 0,
             "ticks": ""
            },
            "colorscale": [
             [
              0,
              "#0d0887"
             ],
             [
              0.1111111111111111,
              "#46039f"
             ],
             [
              0.2222222222222222,
              "#7201a8"
             ],
             [
              0.3333333333333333,
              "#9c179e"
             ],
             [
              0.4444444444444444,
              "#bd3786"
             ],
             [
              0.5555555555555556,
              "#d8576b"
             ],
             [
              0.6666666666666666,
              "#ed7953"
             ],
             [
              0.7777777777777778,
              "#fb9f3a"
             ],
             [
              0.8888888888888888,
              "#fdca26"
             ],
             [
              1,
              "#f0f921"
             ]
            ],
            "type": "histogram2dcontour"
           }
          ],
          "mesh3d": [
           {
            "colorbar": {
             "outlinewidth": 0,
             "ticks": ""
            },
            "type": "mesh3d"
           }
          ],
          "parcoords": [
           {
            "line": {
             "colorbar": {
              "outlinewidth": 0,
              "ticks": ""
             }
            },
            "type": "parcoords"
           }
          ],
          "pie": [
           {
            "automargin": true,
            "type": "pie"
           }
          ],
          "scatter": [
           {
            "fillpattern": {
             "fillmode": "overlay",
             "size": 10,
             "solidity": 0.2
            },
            "type": "scatter"
           }
          ],
          "scatter3d": [
           {
            "line": {
             "colorbar": {
              "outlinewidth": 0,
              "ticks": ""
             }
            },
            "marker": {
             "colorbar": {
              "outlinewidth": 0,
              "ticks": ""
             }
            },
            "type": "scatter3d"
           }
          ],
          "scattercarpet": [
           {
            "marker": {
             "colorbar": {
              "outlinewidth": 0,
              "ticks": ""
             }
            },
            "type": "scattercarpet"
           }
          ],
          "scattergeo": [
           {
            "marker": {
             "colorbar": {
              "outlinewidth": 0,
              "ticks": ""
             }
            },
            "type": "scattergeo"
           }
          ],
          "scattergl": [
           {
            "marker": {
             "colorbar": {
              "outlinewidth": 0,
              "ticks": ""
             }
            },
            "type": "scattergl"
           }
          ],
          "scattermap": [
           {
            "marker": {
             "colorbar": {
              "outlinewidth": 0,
              "ticks": ""
             }
            },
            "type": "scattermap"
           }
          ],
          "scattermapbox": [
           {
            "marker": {
             "colorbar": {
              "outlinewidth": 0,
              "ticks": ""
             }
            },
            "type": "scattermapbox"
           }
          ],
          "scatterpolar": [
           {
            "marker": {
             "colorbar": {
              "outlinewidth": 0,
              "ticks": ""
             }
            },
            "type": "scatterpolar"
           }
          ],
          "scatterpolargl": [
           {
            "marker": {
             "colorbar": {
              "outlinewidth": 0,
              "ticks": ""
             }
            },
            "type": "scatterpolargl"
           }
          ],
          "scatterternary": [
           {
            "marker": {
             "colorbar": {
              "outlinewidth": 0,
              "ticks": ""
             }
            },
            "type": "scatterternary"
           }
          ],
          "surface": [
           {
            "colorbar": {
             "outlinewidth": 0,
             "ticks": ""
            },
            "colorscale": [
             [
              0,
              "#0d0887"
             ],
             [
              0.1111111111111111,
              "#46039f"
             ],
             [
              0.2222222222222222,
              "#7201a8"
             ],
             [
              0.3333333333333333,
              "#9c179e"
             ],
             [
              0.4444444444444444,
              "#bd3786"
             ],
             [
              0.5555555555555556,
              "#d8576b"
             ],
             [
              0.6666666666666666,
              "#ed7953"
             ],
             [
              0.7777777777777778,
              "#fb9f3a"
             ],
             [
              0.8888888888888888,
              "#fdca26"
             ],
             [
              1,
              "#f0f921"
             ]
            ],
            "type": "surface"
           }
          ],
          "table": [
           {
            "cells": {
             "fill": {
              "color": "#EBF0F8"
             },
             "line": {
              "color": "white"
             }
            },
            "header": {
             "fill": {
              "color": "#C8D4E3"
             },
             "line": {
              "color": "white"
             }
            },
            "type": "table"
           }
          ]
         },
         "layout": {
          "annotationdefaults": {
           "arrowcolor": "#2a3f5f",
           "arrowhead": 0,
           "arrowwidth": 1
          },
          "autotypenumbers": "strict",
          "coloraxis": {
           "colorbar": {
            "outlinewidth": 0,
            "ticks": ""
           }
          },
          "colorscale": {
           "diverging": [
            [
             0,
             "#8e0152"
            ],
            [
             0.1,
             "#c51b7d"
            ],
            [
             0.2,
             "#de77ae"
            ],
            [
             0.3,
             "#f1b6da"
            ],
            [
             0.4,
             "#fde0ef"
            ],
            [
             0.5,
             "#f7f7f7"
            ],
            [
             0.6,
             "#e6f5d0"
            ],
            [
             0.7,
             "#b8e186"
            ],
            [
             0.8,
             "#7fbc41"
            ],
            [
             0.9,
             "#4d9221"
            ],
            [
             1,
             "#276419"
            ]
           ],
           "sequential": [
            [
             0,
             "#0d0887"
            ],
            [
             0.1111111111111111,
             "#46039f"
            ],
            [
             0.2222222222222222,
             "#7201a8"
            ],
            [
             0.3333333333333333,
             "#9c179e"
            ],
            [
             0.4444444444444444,
             "#bd3786"
            ],
            [
             0.5555555555555556,
             "#d8576b"
            ],
            [
             0.6666666666666666,
             "#ed7953"
            ],
            [
             0.7777777777777778,
             "#fb9f3a"
            ],
            [
             0.8888888888888888,
             "#fdca26"
            ],
            [
             1,
             "#f0f921"
            ]
           ],
           "sequentialminus": [
            [
             0,
             "#0d0887"
            ],
            [
             0.1111111111111111,
             "#46039f"
            ],
            [
             0.2222222222222222,
             "#7201a8"
            ],
            [
             0.3333333333333333,
             "#9c179e"
            ],
            [
             0.4444444444444444,
             "#bd3786"
            ],
            [
             0.5555555555555556,
             "#d8576b"
            ],
            [
             0.6666666666666666,
             "#ed7953"
            ],
            [
             0.7777777777777778,
             "#fb9f3a"
            ],
            [
             0.8888888888888888,
             "#fdca26"
            ],
            [
             1,
             "#f0f921"
            ]
           ]
          },
          "colorway": [
           "#636efa",
           "#EF553B",
           "#00cc96",
           "#ab63fa",
           "#FFA15A",
           "#19d3f3",
           "#FF6692",
           "#B6E880",
           "#FF97FF",
           "#FECB52"
          ],
          "font": {
           "color": "#2a3f5f"
          },
          "geo": {
           "bgcolor": "white",
           "lakecolor": "white",
           "landcolor": "#E5ECF6",
           "showlakes": true,
           "showland": true,
           "subunitcolor": "white"
          },
          "hoverlabel": {
           "align": "left"
          },
          "hovermode": "closest",
          "mapbox": {
           "style": "light"
          },
          "paper_bgcolor": "white",
          "plot_bgcolor": "#E5ECF6",
          "polar": {
           "angularaxis": {
            "gridcolor": "white",
            "linecolor": "white",
            "ticks": ""
           },
           "bgcolor": "#E5ECF6",
           "radialaxis": {
            "gridcolor": "white",
            "linecolor": "white",
            "ticks": ""
           }
          },
          "scene": {
           "xaxis": {
            "backgroundcolor": "#E5ECF6",
            "gridcolor": "white",
            "gridwidth": 2,
            "linecolor": "white",
            "showbackground": true,
            "ticks": "",
            "zerolinecolor": "white"
           },
           "yaxis": {
            "backgroundcolor": "#E5ECF6",
            "gridcolor": "white",
            "gridwidth": 2,
            "linecolor": "white",
            "showbackground": true,
            "ticks": "",
            "zerolinecolor": "white"
           },
           "zaxis": {
            "backgroundcolor": "#E5ECF6",
            "gridcolor": "white",
            "gridwidth": 2,
            "linecolor": "white",
            "showbackground": true,
            "ticks": "",
            "zerolinecolor": "white"
           }
          },
          "shapedefaults": {
           "line": {
            "color": "#2a3f5f"
           }
          },
          "ternary": {
           "aaxis": {
            "gridcolor": "white",
            "linecolor": "white",
            "ticks": ""
           },
           "baxis": {
            "gridcolor": "white",
            "linecolor": "white",
            "ticks": ""
           },
           "bgcolor": "#E5ECF6",
           "caxis": {
            "gridcolor": "white",
            "linecolor": "white",
            "ticks": ""
           }
          },
          "title": {
           "x": 0.05
          },
          "xaxis": {
           "automargin": true,
           "gridcolor": "white",
           "linecolor": "white",
           "ticks": "",
           "title": {
            "standoff": 15
           },
           "zerolinecolor": "white",
           "zerolinewidth": 2
          },
          "yaxis": {
           "automargin": true,
           "gridcolor": "white",
           "linecolor": "white",
           "ticks": "",
           "title": {
            "standoff": 15
           },
           "zerolinecolor": "white",
           "zerolinewidth": 2
          }
         }
        },
        "title": {
         "text": "Label Distribution - Split (60% Train, 40% Test)"
        },
        "xaxis": {
         "ticktext": [
          "unacc",
          "acc",
          "good",
          "vgood"
         ],
         "tickvals": {
          "bdata": "AAECAw==",
          "dtype": "i1"
         },
         "title": {
          "text": "Labels"
         }
        },
        "yaxis": {
         "title": {
          "text": "Count"
         }
        }
       }
      }
     },
     "metadata": {},
     "output_type": "display_data"
    },
    {
     "data": {
      "application/vnd.plotly.v1+json": {
       "config": {
        "plotlyServerURL": "https://plot.ly"
       },
       "data": [
        {
         "hoverinfo": "x+y+text",
         "marker": {
          "color": "#636EFA"
         },
         "name": "Original Set",
         "text": [
          "0",
          "1",
          "2",
          "3"
         ],
         "type": "bar",
         "width": 0.25,
         "x": {
          "bdata": "AAAAAAAA0L8AAAAAAADoPwAAAAAAAPw/AAAAAAAABkA=",
          "dtype": "f8"
         },
         "y": {
          "bdata": "gAFFALkEQQA=",
          "dtype": "i2"
         }
        },
        {
         "hoverinfo": "x+y+text",
         "marker": {
          "color": "#EF553B"
         },
         "name": "Training Set",
         "text": [
          "0",
          "1",
          "2",
          "3"
         ],
         "type": "bar",
         "width": 0.25,
         "x": {
          "bdata": "AAECAw==",
          "dtype": "i1"
         },
         "y": {
          "bdata": "MwE3AMcDNAA=",
          "dtype": "i2"
         }
        },
        {
         "hoverinfo": "x+y+text",
         "marker": {
          "color": "#00CC96"
         },
         "name": "Testing Set",
         "text": [
          "0",
          "1",
          "2",
          "3"
         ],
         "type": "bar",
         "width": 0.25,
         "x": {
          "bdata": "AAAAAAAA0D8AAAAAAAD0PwAAAAAAAAJAAAAAAAAACkA=",
          "dtype": "f8"
         },
         "y": {
          "bdata": "TQAOAPIADQA=",
          "dtype": "i2"
         }
        }
       ],
       "layout": {
        "barmode": "group",
        "legend": {
         "title": {
          "text": "Dataset"
         }
        },
        "template": {
         "data": {
          "bar": [
           {
            "error_x": {
             "color": "#2a3f5f"
            },
            "error_y": {
             "color": "#2a3f5f"
            },
            "marker": {
             "line": {
              "color": "#E5ECF6",
              "width": 0.5
             },
             "pattern": {
              "fillmode": "overlay",
              "size": 10,
              "solidity": 0.2
             }
            },
            "type": "bar"
           }
          ],
          "barpolar": [
           {
            "marker": {
             "line": {
              "color": "#E5ECF6",
              "width": 0.5
             },
             "pattern": {
              "fillmode": "overlay",
              "size": 10,
              "solidity": 0.2
             }
            },
            "type": "barpolar"
           }
          ],
          "carpet": [
           {
            "aaxis": {
             "endlinecolor": "#2a3f5f",
             "gridcolor": "white",
             "linecolor": "white",
             "minorgridcolor": "white",
             "startlinecolor": "#2a3f5f"
            },
            "baxis": {
             "endlinecolor": "#2a3f5f",
             "gridcolor": "white",
             "linecolor": "white",
             "minorgridcolor": "white",
             "startlinecolor": "#2a3f5f"
            },
            "type": "carpet"
           }
          ],
          "choropleth": [
           {
            "colorbar": {
             "outlinewidth": 0,
             "ticks": ""
            },
            "type": "choropleth"
           }
          ],
          "contour": [
           {
            "colorbar": {
             "outlinewidth": 0,
             "ticks": ""
            },
            "colorscale": [
             [
              0,
              "#0d0887"
             ],
             [
              0.1111111111111111,
              "#46039f"
             ],
             [
              0.2222222222222222,
              "#7201a8"
             ],
             [
              0.3333333333333333,
              "#9c179e"
             ],
             [
              0.4444444444444444,
              "#bd3786"
             ],
             [
              0.5555555555555556,
              "#d8576b"
             ],
             [
              0.6666666666666666,
              "#ed7953"
             ],
             [
              0.7777777777777778,
              "#fb9f3a"
             ],
             [
              0.8888888888888888,
              "#fdca26"
             ],
             [
              1,
              "#f0f921"
             ]
            ],
            "type": "contour"
           }
          ],
          "contourcarpet": [
           {
            "colorbar": {
             "outlinewidth": 0,
             "ticks": ""
            },
            "type": "contourcarpet"
           }
          ],
          "heatmap": [
           {
            "colorbar": {
             "outlinewidth": 0,
             "ticks": ""
            },
            "colorscale": [
             [
              0,
              "#0d0887"
             ],
             [
              0.1111111111111111,
              "#46039f"
             ],
             [
              0.2222222222222222,
              "#7201a8"
             ],
             [
              0.3333333333333333,
              "#9c179e"
             ],
             [
              0.4444444444444444,
              "#bd3786"
             ],
             [
              0.5555555555555556,
              "#d8576b"
             ],
             [
              0.6666666666666666,
              "#ed7953"
             ],
             [
              0.7777777777777778,
              "#fb9f3a"
             ],
             [
              0.8888888888888888,
              "#fdca26"
             ],
             [
              1,
              "#f0f921"
             ]
            ],
            "type": "heatmap"
           }
          ],
          "histogram": [
           {
            "marker": {
             "pattern": {
              "fillmode": "overlay",
              "size": 10,
              "solidity": 0.2
             }
            },
            "type": "histogram"
           }
          ],
          "histogram2d": [
           {
            "colorbar": {
             "outlinewidth": 0,
             "ticks": ""
            },
            "colorscale": [
             [
              0,
              "#0d0887"
             ],
             [
              0.1111111111111111,
              "#46039f"
             ],
             [
              0.2222222222222222,
              "#7201a8"
             ],
             [
              0.3333333333333333,
              "#9c179e"
             ],
             [
              0.4444444444444444,
              "#bd3786"
             ],
             [
              0.5555555555555556,
              "#d8576b"
             ],
             [
              0.6666666666666666,
              "#ed7953"
             ],
             [
              0.7777777777777778,
              "#fb9f3a"
             ],
             [
              0.8888888888888888,
              "#fdca26"
             ],
             [
              1,
              "#f0f921"
             ]
            ],
            "type": "histogram2d"
           }
          ],
          "histogram2dcontour": [
           {
            "colorbar": {
             "outlinewidth": 0,
             "ticks": ""
            },
            "colorscale": [
             [
              0,
              "#0d0887"
             ],
             [
              0.1111111111111111,
              "#46039f"
             ],
             [
              0.2222222222222222,
              "#7201a8"
             ],
             [
              0.3333333333333333,
              "#9c179e"
             ],
             [
              0.4444444444444444,
              "#bd3786"
             ],
             [
              0.5555555555555556,
              "#d8576b"
             ],
             [
              0.6666666666666666,
              "#ed7953"
             ],
             [
              0.7777777777777778,
              "#fb9f3a"
             ],
             [
              0.8888888888888888,
              "#fdca26"
             ],
             [
              1,
              "#f0f921"
             ]
            ],
            "type": "histogram2dcontour"
           }
          ],
          "mesh3d": [
           {
            "colorbar": {
             "outlinewidth": 0,
             "ticks": ""
            },
            "type": "mesh3d"
           }
          ],
          "parcoords": [
           {
            "line": {
             "colorbar": {
              "outlinewidth": 0,
              "ticks": ""
             }
            },
            "type": "parcoords"
           }
          ],
          "pie": [
           {
            "automargin": true,
            "type": "pie"
           }
          ],
          "scatter": [
           {
            "fillpattern": {
             "fillmode": "overlay",
             "size": 10,
             "solidity": 0.2
            },
            "type": "scatter"
           }
          ],
          "scatter3d": [
           {
            "line": {
             "colorbar": {
              "outlinewidth": 0,
              "ticks": ""
             }
            },
            "marker": {
             "colorbar": {
              "outlinewidth": 0,
              "ticks": ""
             }
            },
            "type": "scatter3d"
           }
          ],
          "scattercarpet": [
           {
            "marker": {
             "colorbar": {
              "outlinewidth": 0,
              "ticks": ""
             }
            },
            "type": "scattercarpet"
           }
          ],
          "scattergeo": [
           {
            "marker": {
             "colorbar": {
              "outlinewidth": 0,
              "ticks": ""
             }
            },
            "type": "scattergeo"
           }
          ],
          "scattergl": [
           {
            "marker": {
             "colorbar": {
              "outlinewidth": 0,
              "ticks": ""
             }
            },
            "type": "scattergl"
           }
          ],
          "scattermap": [
           {
            "marker": {
             "colorbar": {
              "outlinewidth": 0,
              "ticks": ""
             }
            },
            "type": "scattermap"
           }
          ],
          "scattermapbox": [
           {
            "marker": {
             "colorbar": {
              "outlinewidth": 0,
              "ticks": ""
             }
            },
            "type": "scattermapbox"
           }
          ],
          "scatterpolar": [
           {
            "marker": {
             "colorbar": {
              "outlinewidth": 0,
              "ticks": ""
             }
            },
            "type": "scatterpolar"
           }
          ],
          "scatterpolargl": [
           {
            "marker": {
             "colorbar": {
              "outlinewidth": 0,
              "ticks": ""
             }
            },
            "type": "scatterpolargl"
           }
          ],
          "scatterternary": [
           {
            "marker": {
             "colorbar": {
              "outlinewidth": 0,
              "ticks": ""
             }
            },
            "type": "scatterternary"
           }
          ],
          "surface": [
           {
            "colorbar": {
             "outlinewidth": 0,
             "ticks": ""
            },
            "colorscale": [
             [
              0,
              "#0d0887"
             ],
             [
              0.1111111111111111,
              "#46039f"
             ],
             [
              0.2222222222222222,
              "#7201a8"
             ],
             [
              0.3333333333333333,
              "#9c179e"
             ],
             [
              0.4444444444444444,
              "#bd3786"
             ],
             [
              0.5555555555555556,
              "#d8576b"
             ],
             [
              0.6666666666666666,
              "#ed7953"
             ],
             [
              0.7777777777777778,
              "#fb9f3a"
             ],
             [
              0.8888888888888888,
              "#fdca26"
             ],
             [
              1,
              "#f0f921"
             ]
            ],
            "type": "surface"
           }
          ],
          "table": [
           {
            "cells": {
             "fill": {
              "color": "#EBF0F8"
             },
             "line": {
              "color": "white"
             }
            },
            "header": {
             "fill": {
              "color": "#C8D4E3"
             },
             "line": {
              "color": "white"
             }
            },
            "type": "table"
           }
          ]
         },
         "layout": {
          "annotationdefaults": {
           "arrowcolor": "#2a3f5f",
           "arrowhead": 0,
           "arrowwidth": 1
          },
          "autotypenumbers": "strict",
          "coloraxis": {
           "colorbar": {
            "outlinewidth": 0,
            "ticks": ""
           }
          },
          "colorscale": {
           "diverging": [
            [
             0,
             "#8e0152"
            ],
            [
             0.1,
             "#c51b7d"
            ],
            [
             0.2,
             "#de77ae"
            ],
            [
             0.3,
             "#f1b6da"
            ],
            [
             0.4,
             "#fde0ef"
            ],
            [
             0.5,
             "#f7f7f7"
            ],
            [
             0.6,
             "#e6f5d0"
            ],
            [
             0.7,
             "#b8e186"
            ],
            [
             0.8,
             "#7fbc41"
            ],
            [
             0.9,
             "#4d9221"
            ],
            [
             1,
             "#276419"
            ]
           ],
           "sequential": [
            [
             0,
             "#0d0887"
            ],
            [
             0.1111111111111111,
             "#46039f"
            ],
            [
             0.2222222222222222,
             "#7201a8"
            ],
            [
             0.3333333333333333,
             "#9c179e"
            ],
            [
             0.4444444444444444,
             "#bd3786"
            ],
            [
             0.5555555555555556,
             "#d8576b"
            ],
            [
             0.6666666666666666,
             "#ed7953"
            ],
            [
             0.7777777777777778,
             "#fb9f3a"
            ],
            [
             0.8888888888888888,
             "#fdca26"
            ],
            [
             1,
             "#f0f921"
            ]
           ],
           "sequentialminus": [
            [
             0,
             "#0d0887"
            ],
            [
             0.1111111111111111,
             "#46039f"
            ],
            [
             0.2222222222222222,
             "#7201a8"
            ],
            [
             0.3333333333333333,
             "#9c179e"
            ],
            [
             0.4444444444444444,
             "#bd3786"
            ],
            [
             0.5555555555555556,
             "#d8576b"
            ],
            [
             0.6666666666666666,
             "#ed7953"
            ],
            [
             0.7777777777777778,
             "#fb9f3a"
            ],
            [
             0.8888888888888888,
             "#fdca26"
            ],
            [
             1,
             "#f0f921"
            ]
           ]
          },
          "colorway": [
           "#636efa",
           "#EF553B",
           "#00cc96",
           "#ab63fa",
           "#FFA15A",
           "#19d3f3",
           "#FF6692",
           "#B6E880",
           "#FF97FF",
           "#FECB52"
          ],
          "font": {
           "color": "#2a3f5f"
          },
          "geo": {
           "bgcolor": "white",
           "lakecolor": "white",
           "landcolor": "#E5ECF6",
           "showlakes": true,
           "showland": true,
           "subunitcolor": "white"
          },
          "hoverlabel": {
           "align": "left"
          },
          "hovermode": "closest",
          "mapbox": {
           "style": "light"
          },
          "paper_bgcolor": "white",
          "plot_bgcolor": "#E5ECF6",
          "polar": {
           "angularaxis": {
            "gridcolor": "white",
            "linecolor": "white",
            "ticks": ""
           },
           "bgcolor": "#E5ECF6",
           "radialaxis": {
            "gridcolor": "white",
            "linecolor": "white",
            "ticks": ""
           }
          },
          "scene": {
           "xaxis": {
            "backgroundcolor": "#E5ECF6",
            "gridcolor": "white",
            "gridwidth": 2,
            "linecolor": "white",
            "showbackground": true,
            "ticks": "",
            "zerolinecolor": "white"
           },
           "yaxis": {
            "backgroundcolor": "#E5ECF6",
            "gridcolor": "white",
            "gridwidth": 2,
            "linecolor": "white",
            "showbackground": true,
            "ticks": "",
            "zerolinecolor": "white"
           },
           "zaxis": {
            "backgroundcolor": "#E5ECF6",
            "gridcolor": "white",
            "gridwidth": 2,
            "linecolor": "white",
            "showbackground": true,
            "ticks": "",
            "zerolinecolor": "white"
           }
          },
          "shapedefaults": {
           "line": {
            "color": "#2a3f5f"
           }
          },
          "ternary": {
           "aaxis": {
            "gridcolor": "white",
            "linecolor": "white",
            "ticks": ""
           },
           "baxis": {
            "gridcolor": "white",
            "linecolor": "white",
            "ticks": ""
           },
           "bgcolor": "#E5ECF6",
           "caxis": {
            "gridcolor": "white",
            "linecolor": "white",
            "ticks": ""
           }
          },
          "title": {
           "x": 0.05
          },
          "xaxis": {
           "automargin": true,
           "gridcolor": "white",
           "linecolor": "white",
           "ticks": "",
           "title": {
            "standoff": 15
           },
           "zerolinecolor": "white",
           "zerolinewidth": 2
          },
          "yaxis": {
           "automargin": true,
           "gridcolor": "white",
           "linecolor": "white",
           "ticks": "",
           "title": {
            "standoff": 15
           },
           "zerolinecolor": "white",
           "zerolinewidth": 2
          }
         }
        },
        "title": {
         "text": "Label Distribution - Split (80% Train, 20% Test)"
        },
        "xaxis": {
         "ticktext": [
          "unacc",
          "acc",
          "good",
          "vgood"
         ],
         "tickvals": {
          "bdata": "AAECAw==",
          "dtype": "i1"
         },
         "title": {
          "text": "Labels"
         }
        },
        "yaxis": {
         "title": {
          "text": "Count"
         }
        }
       }
      }
     },
     "metadata": {},
     "output_type": "display_data"
    },
    {
     "data": {
      "application/vnd.plotly.v1+json": {
       "config": {
        "plotlyServerURL": "https://plot.ly"
       },
       "data": [
        {
         "hoverinfo": "x+y+text",
         "marker": {
          "color": "#636EFA"
         },
         "name": "Original Set",
         "text": [
          "0",
          "1",
          "2",
          "3"
         ],
         "type": "bar",
         "width": 0.25,
         "x": {
          "bdata": "AAAAAAAA0L8AAAAAAADoPwAAAAAAAPw/AAAAAAAABkA=",
          "dtype": "f8"
         },
         "y": {
          "bdata": "gAFFALkEQQA=",
          "dtype": "i2"
         }
        },
        {
         "hoverinfo": "x+y+text",
         "marker": {
          "color": "#EF553B"
         },
         "name": "Training Set",
         "text": [
          "0",
          "1",
          "2",
          "3"
         ],
         "type": "bar",
         "width": 0.25,
         "x": {
          "bdata": "AAECAw==",
          "dtype": "i1"
         },
         "y": {
          "bdata": "WgE+AEAEOgA=",
          "dtype": "i2"
         }
        },
        {
         "hoverinfo": "x+y+text",
         "marker": {
          "color": "#00CC96"
         },
         "name": "Testing Set",
         "text": [
          "0",
          "1",
          "2",
          "3"
         ],
         "type": "bar",
         "width": 0.25,
         "x": {
          "bdata": "AAAAAAAA0D8AAAAAAAD0PwAAAAAAAAJAAAAAAAAACkA=",
          "dtype": "f8"
         },
         "y": {
          "bdata": "Jgd5Bw==",
          "dtype": "i1"
         }
        }
       ],
       "layout": {
        "barmode": "group",
        "legend": {
         "title": {
          "text": "Dataset"
         }
        },
        "template": {
         "data": {
          "bar": [
           {
            "error_x": {
             "color": "#2a3f5f"
            },
            "error_y": {
             "color": "#2a3f5f"
            },
            "marker": {
             "line": {
              "color": "#E5ECF6",
              "width": 0.5
             },
             "pattern": {
              "fillmode": "overlay",
              "size": 10,
              "solidity": 0.2
             }
            },
            "type": "bar"
           }
          ],
          "barpolar": [
           {
            "marker": {
             "line": {
              "color": "#E5ECF6",
              "width": 0.5
             },
             "pattern": {
              "fillmode": "overlay",
              "size": 10,
              "solidity": 0.2
             }
            },
            "type": "barpolar"
           }
          ],
          "carpet": [
           {
            "aaxis": {
             "endlinecolor": "#2a3f5f",
             "gridcolor": "white",
             "linecolor": "white",
             "minorgridcolor": "white",
             "startlinecolor": "#2a3f5f"
            },
            "baxis": {
             "endlinecolor": "#2a3f5f",
             "gridcolor": "white",
             "linecolor": "white",
             "minorgridcolor": "white",
             "startlinecolor": "#2a3f5f"
            },
            "type": "carpet"
           }
          ],
          "choropleth": [
           {
            "colorbar": {
             "outlinewidth": 0,
             "ticks": ""
            },
            "type": "choropleth"
           }
          ],
          "contour": [
           {
            "colorbar": {
             "outlinewidth": 0,
             "ticks": ""
            },
            "colorscale": [
             [
              0,
              "#0d0887"
             ],
             [
              0.1111111111111111,
              "#46039f"
             ],
             [
              0.2222222222222222,
              "#7201a8"
             ],
             [
              0.3333333333333333,
              "#9c179e"
             ],
             [
              0.4444444444444444,
              "#bd3786"
             ],
             [
              0.5555555555555556,
              "#d8576b"
             ],
             [
              0.6666666666666666,
              "#ed7953"
             ],
             [
              0.7777777777777778,
              "#fb9f3a"
             ],
             [
              0.8888888888888888,
              "#fdca26"
             ],
             [
              1,
              "#f0f921"
             ]
            ],
            "type": "contour"
           }
          ],
          "contourcarpet": [
           {
            "colorbar": {
             "outlinewidth": 0,
             "ticks": ""
            },
            "type": "contourcarpet"
           }
          ],
          "heatmap": [
           {
            "colorbar": {
             "outlinewidth": 0,
             "ticks": ""
            },
            "colorscale": [
             [
              0,
              "#0d0887"
             ],
             [
              0.1111111111111111,
              "#46039f"
             ],
             [
              0.2222222222222222,
              "#7201a8"
             ],
             [
              0.3333333333333333,
              "#9c179e"
             ],
             [
              0.4444444444444444,
              "#bd3786"
             ],
             [
              0.5555555555555556,
              "#d8576b"
             ],
             [
              0.6666666666666666,
              "#ed7953"
             ],
             [
              0.7777777777777778,
              "#fb9f3a"
             ],
             [
              0.8888888888888888,
              "#fdca26"
             ],
             [
              1,
              "#f0f921"
             ]
            ],
            "type": "heatmap"
           }
          ],
          "histogram": [
           {
            "marker": {
             "pattern": {
              "fillmode": "overlay",
              "size": 10,
              "solidity": 0.2
             }
            },
            "type": "histogram"
           }
          ],
          "histogram2d": [
           {
            "colorbar": {
             "outlinewidth": 0,
             "ticks": ""
            },
            "colorscale": [
             [
              0,
              "#0d0887"
             ],
             [
              0.1111111111111111,
              "#46039f"
             ],
             [
              0.2222222222222222,
              "#7201a8"
             ],
             [
              0.3333333333333333,
              "#9c179e"
             ],
             [
              0.4444444444444444,
              "#bd3786"
             ],
             [
              0.5555555555555556,
              "#d8576b"
             ],
             [
              0.6666666666666666,
              "#ed7953"
             ],
             [
              0.7777777777777778,
              "#fb9f3a"
             ],
             [
              0.8888888888888888,
              "#fdca26"
             ],
             [
              1,
              "#f0f921"
             ]
            ],
            "type": "histogram2d"
           }
          ],
          "histogram2dcontour": [
           {
            "colorbar": {
             "outlinewidth": 0,
             "ticks": ""
            },
            "colorscale": [
             [
              0,
              "#0d0887"
             ],
             [
              0.1111111111111111,
              "#46039f"
             ],
             [
              0.2222222222222222,
              "#7201a8"
             ],
             [
              0.3333333333333333,
              "#9c179e"
             ],
             [
              0.4444444444444444,
              "#bd3786"
             ],
             [
              0.5555555555555556,
              "#d8576b"
             ],
             [
              0.6666666666666666,
              "#ed7953"
             ],
             [
              0.7777777777777778,
              "#fb9f3a"
             ],
             [
              0.8888888888888888,
              "#fdca26"
             ],
             [
              1,
              "#f0f921"
             ]
            ],
            "type": "histogram2dcontour"
           }
          ],
          "mesh3d": [
           {
            "colorbar": {
             "outlinewidth": 0,
             "ticks": ""
            },
            "type": "mesh3d"
           }
          ],
          "parcoords": [
           {
            "line": {
             "colorbar": {
              "outlinewidth": 0,
              "ticks": ""
             }
            },
            "type": "parcoords"
           }
          ],
          "pie": [
           {
            "automargin": true,
            "type": "pie"
           }
          ],
          "scatter": [
           {
            "fillpattern": {
             "fillmode": "overlay",
             "size": 10,
             "solidity": 0.2
            },
            "type": "scatter"
           }
          ],
          "scatter3d": [
           {
            "line": {
             "colorbar": {
              "outlinewidth": 0,
              "ticks": ""
             }
            },
            "marker": {
             "colorbar": {
              "outlinewidth": 0,
              "ticks": ""
             }
            },
            "type": "scatter3d"
           }
          ],
          "scattercarpet": [
           {
            "marker": {
             "colorbar": {
              "outlinewidth": 0,
              "ticks": ""
             }
            },
            "type": "scattercarpet"
           }
          ],
          "scattergeo": [
           {
            "marker": {
             "colorbar": {
              "outlinewidth": 0,
              "ticks": ""
             }
            },
            "type": "scattergeo"
           }
          ],
          "scattergl": [
           {
            "marker": {
             "colorbar": {
              "outlinewidth": 0,
              "ticks": ""
             }
            },
            "type": "scattergl"
           }
          ],
          "scattermap": [
           {
            "marker": {
             "colorbar": {
              "outlinewidth": 0,
              "ticks": ""
             }
            },
            "type": "scattermap"
           }
          ],
          "scattermapbox": [
           {
            "marker": {
             "colorbar": {
              "outlinewidth": 0,
              "ticks": ""
             }
            },
            "type": "scattermapbox"
           }
          ],
          "scatterpolar": [
           {
            "marker": {
             "colorbar": {
              "outlinewidth": 0,
              "ticks": ""
             }
            },
            "type": "scatterpolar"
           }
          ],
          "scatterpolargl": [
           {
            "marker": {
             "colorbar": {
              "outlinewidth": 0,
              "ticks": ""
             }
            },
            "type": "scatterpolargl"
           }
          ],
          "scatterternary": [
           {
            "marker": {
             "colorbar": {
              "outlinewidth": 0,
              "ticks": ""
             }
            },
            "type": "scatterternary"
           }
          ],
          "surface": [
           {
            "colorbar": {
             "outlinewidth": 0,
             "ticks": ""
            },
            "colorscale": [
             [
              0,
              "#0d0887"
             ],
             [
              0.1111111111111111,
              "#46039f"
             ],
             [
              0.2222222222222222,
              "#7201a8"
             ],
             [
              0.3333333333333333,
              "#9c179e"
             ],
             [
              0.4444444444444444,
              "#bd3786"
             ],
             [
              0.5555555555555556,
              "#d8576b"
             ],
             [
              0.6666666666666666,
              "#ed7953"
             ],
             [
              0.7777777777777778,
              "#fb9f3a"
             ],
             [
              0.8888888888888888,
              "#fdca26"
             ],
             [
              1,
              "#f0f921"
             ]
            ],
            "type": "surface"
           }
          ],
          "table": [
           {
            "cells": {
             "fill": {
              "color": "#EBF0F8"
             },
             "line": {
              "color": "white"
             }
            },
            "header": {
             "fill": {
              "color": "#C8D4E3"
             },
             "line": {
              "color": "white"
             }
            },
            "type": "table"
           }
          ]
         },
         "layout": {
          "annotationdefaults": {
           "arrowcolor": "#2a3f5f",
           "arrowhead": 0,
           "arrowwidth": 1
          },
          "autotypenumbers": "strict",
          "coloraxis": {
           "colorbar": {
            "outlinewidth": 0,
            "ticks": ""
           }
          },
          "colorscale": {
           "diverging": [
            [
             0,
             "#8e0152"
            ],
            [
             0.1,
             "#c51b7d"
            ],
            [
             0.2,
             "#de77ae"
            ],
            [
             0.3,
             "#f1b6da"
            ],
            [
             0.4,
             "#fde0ef"
            ],
            [
             0.5,
             "#f7f7f7"
            ],
            [
             0.6,
             "#e6f5d0"
            ],
            [
             0.7,
             "#b8e186"
            ],
            [
             0.8,
             "#7fbc41"
            ],
            [
             0.9,
             "#4d9221"
            ],
            [
             1,
             "#276419"
            ]
           ],
           "sequential": [
            [
             0,
             "#0d0887"
            ],
            [
             0.1111111111111111,
             "#46039f"
            ],
            [
             0.2222222222222222,
             "#7201a8"
            ],
            [
             0.3333333333333333,
             "#9c179e"
            ],
            [
             0.4444444444444444,
             "#bd3786"
            ],
            [
             0.5555555555555556,
             "#d8576b"
            ],
            [
             0.6666666666666666,
             "#ed7953"
            ],
            [
             0.7777777777777778,
             "#fb9f3a"
            ],
            [
             0.8888888888888888,
             "#fdca26"
            ],
            [
             1,
             "#f0f921"
            ]
           ],
           "sequentialminus": [
            [
             0,
             "#0d0887"
            ],
            [
             0.1111111111111111,
             "#46039f"
            ],
            [
             0.2222222222222222,
             "#7201a8"
            ],
            [
             0.3333333333333333,
             "#9c179e"
            ],
            [
             0.4444444444444444,
             "#bd3786"
            ],
            [
             0.5555555555555556,
             "#d8576b"
            ],
            [
             0.6666666666666666,
             "#ed7953"
            ],
            [
             0.7777777777777778,
             "#fb9f3a"
            ],
            [
             0.8888888888888888,
             "#fdca26"
            ],
            [
             1,
             "#f0f921"
            ]
           ]
          },
          "colorway": [
           "#636efa",
           "#EF553B",
           "#00cc96",
           "#ab63fa",
           "#FFA15A",
           "#19d3f3",
           "#FF6692",
           "#B6E880",
           "#FF97FF",
           "#FECB52"
          ],
          "font": {
           "color": "#2a3f5f"
          },
          "geo": {
           "bgcolor": "white",
           "lakecolor": "white",
           "landcolor": "#E5ECF6",
           "showlakes": true,
           "showland": true,
           "subunitcolor": "white"
          },
          "hoverlabel": {
           "align": "left"
          },
          "hovermode": "closest",
          "mapbox": {
           "style": "light"
          },
          "paper_bgcolor": "white",
          "plot_bgcolor": "#E5ECF6",
          "polar": {
           "angularaxis": {
            "gridcolor": "white",
            "linecolor": "white",
            "ticks": ""
           },
           "bgcolor": "#E5ECF6",
           "radialaxis": {
            "gridcolor": "white",
            "linecolor": "white",
            "ticks": ""
           }
          },
          "scene": {
           "xaxis": {
            "backgroundcolor": "#E5ECF6",
            "gridcolor": "white",
            "gridwidth": 2,
            "linecolor": "white",
            "showbackground": true,
            "ticks": "",
            "zerolinecolor": "white"
           },
           "yaxis": {
            "backgroundcolor": "#E5ECF6",
            "gridcolor": "white",
            "gridwidth": 2,
            "linecolor": "white",
            "showbackground": true,
            "ticks": "",
            "zerolinecolor": "white"
           },
           "zaxis": {
            "backgroundcolor": "#E5ECF6",
            "gridcolor": "white",
            "gridwidth": 2,
            "linecolor": "white",
            "showbackground": true,
            "ticks": "",
            "zerolinecolor": "white"
           }
          },
          "shapedefaults": {
           "line": {
            "color": "#2a3f5f"
           }
          },
          "ternary": {
           "aaxis": {
            "gridcolor": "white",
            "linecolor": "white",
            "ticks": ""
           },
           "baxis": {
            "gridcolor": "white",
            "linecolor": "white",
            "ticks": ""
           },
           "bgcolor": "#E5ECF6",
           "caxis": {
            "gridcolor": "white",
            "linecolor": "white",
            "ticks": ""
           }
          },
          "title": {
           "x": 0.05
          },
          "xaxis": {
           "automargin": true,
           "gridcolor": "white",
           "linecolor": "white",
           "ticks": "",
           "title": {
            "standoff": 15
           },
           "zerolinecolor": "white",
           "zerolinewidth": 2
          },
          "yaxis": {
           "automargin": true,
           "gridcolor": "white",
           "linecolor": "white",
           "ticks": "",
           "title": {
            "standoff": 15
           },
           "zerolinecolor": "white",
           "zerolinewidth": 2
          }
         }
        },
        "title": {
         "text": "Label Distribution - Split (90% Train, 10% Test)"
        },
        "xaxis": {
         "ticktext": [
          "unacc",
          "acc",
          "good",
          "vgood"
         ],
         "tickvals": {
          "bdata": "AAECAw==",
          "dtype": "i1"
         },
         "title": {
          "text": "Labels"
         }
        },
        "yaxis": {
         "title": {
          "text": "Count"
         }
        }
       }
      }
     },
     "metadata": {},
     "output_type": "display_data"
    }
   ],
   "source": [
    "class_names = [\"unacc\", \"acc\", \"good\", \"vgood\"]\n",
    "plot_label_distributions(datasets, split_ratios, labels_data, class_names)"
   ]
  },
  {
   "cell_type": "markdown",
   "metadata": {},
   "source": [
    "# **3. Building the decision tree classifiers**\n"
   ]
  },
  {
   "cell_type": "markdown",
   "metadata": {},
   "source": [
    "## **3.1 Training model decision tree classifiers with different split ratios**\n"
   ]
  },
  {
   "cell_type": "code",
   "execution_count": 82,
   "metadata": {},
   "outputs": [],
   "source": [
    "import os\n",
    "def train_and_save_decision_trees(datasets, split_ratios, save_dir=\"models\", random_state=42):\n",
    "    \"\"\"\n",
    "    Huấn luyện và lưu các mô hình Decision Tree ứng với các tỷ lệ train/test khác nhau.\n",
    "\n",
    "    Args:\n",
    "        datasets (list of dict): Mỗi dict chứa X_train, y_train tương ứng với tỷ lệ chia.\n",
    "        split_ratios (list of tuples): Danh sách các tỷ lệ (train_size, test_size), ví dụ: [(0.8, 0.2), ...].\n",
    "        save_dir (str): Thư mục nơi lưu các mô hình (.pkl).\n",
    "        random_state (int): Seed đảm bảo tái lập mô hình.\n",
    "\n",
    "    Returns:\n",
    "        list: Danh sách các mô hình DecisionTreeClassifier đã được huấn luyện.\n",
    "    \"\"\"\n",
    "    os.makedirs(save_dir, exist_ok=True)\n",
    "    trained_models = []\n",
    "\n",
    "    for i, (train_size, test_size) in enumerate(split_ratios):\n",
    "        data = datasets[i]\n",
    "        X_train = data['X_train']\n",
    "        y_train = data['y_train']\n",
    "\n",
    "        # Tạo và huấn luyện mô hình\n",
    "        clf = DecisionTreeClassifier(\n",
    "            criterion=\"entropy\",\n",
    "            splitter=\"best\",\n",
    "            random_state=random_state\n",
    "        )\n",
    "        clf.fit(X_train, y_train)\n",
    "        trained_models.append(clf)\n",
    "\n",
    "        # Tên file lưu\n",
    "        model_filename = f\"decision_tree_{int(train_size * 100)}_{int(test_size * 100)}.pkl\"\n",
    "        model_path = os.path.join(save_dir, model_filename)\n",
    "\n",
    "        # Lưu mô hình\n",
    "        joblib.dump(clf, model_path)\n",
    "        print(f\"✓ Model saved: {model_path}\")\n",
    "\n",
    "    return trained_models"
   ]
  },
  {
   "cell_type": "code",
   "execution_count": 83,
   "metadata": {},
   "outputs": [
    {
     "name": "stdout",
     "output_type": "stream",
     "text": [
      "✓ Model saved: models_car\\decision_tree_40_60.pkl\n",
      "✓ Model saved: models_car\\decision_tree_60_40.pkl\n",
      "✓ Model saved: models_car\\decision_tree_80_20.pkl\n",
      "✓ Model saved: models_car\\decision_tree_90_10.pkl\n"
     ]
    }
   ],
   "source": [
    "list_models = train_and_save_decision_trees(\n",
    "    datasets=datasets,\n",
    "    split_ratios=split_ratios,\n",
    "    save_dir=\"models_car\"\n",
    ")"
   ]
  },
  {
   "cell_type": "markdown",
   "metadata": {},
   "source": [
    "## **3.2 Visualize decision trees with different split ratios**\n"
   ]
  },
  {
   "cell_type": "code",
   "execution_count": 84,
   "metadata": {},
   "outputs": [],
   "source": [
    "def export_and_display_decision_trees(models, split_ratios, feature_names, class_labels, save_dir=\"output/split_ratios_graphviz\"):\n",
    "    \"\"\"\n",
    "    Xuất và hiển thị cây quyết định cho từng mô hình DecisionTreeClassifier đã huấn luyện,\n",
    "    theo các tỷ lệ train/test. Mỗi cây được lưu dưới dạng hình ảnh PNG.\n",
    "\n",
    "    Args:\n",
    "        models (list): Danh sách các mô hình DecisionTreeClassifier đã huấn luyện.\n",
    "        split_ratios (list of tuples): Danh sách các tỷ lệ train/test (e.g., [(0.8, 0.2)]).\n",
    "        feature_names (list): Tên các đặc trưng của dataset.\n",
    "        class_labels (list): Tên các lớp (species) sau khi mã hóa.\n",
    "        save_dir (str): Thư mục để lưu các biểu đồ cây (PNG).\n",
    "    \"\"\"\n",
    "\n",
    "    os.makedirs(save_dir, exist_ok=True)\n",
    "\n",
    "    for model, (train_ratio, test_ratio) in zip(models, split_ratios):\n",
    "        # Chuyển cây thành định dạng DOT\n",
    "        dot = export_graphviz(\n",
    "            model,\n",
    "            feature_names=feature_names,  # Đặc trưng\n",
    "            class_names=class_labels,    # Nhãn (Species)\n",
    "            filled=True,\n",
    "            rounded=True,\n",
    "            special_characters=True\n",
    "        )\n",
    "\n",
    "        # Tạo đối tượng biểu đồ từ DOT\n",
    "        tree_graph = graphviz.Source(dot)\n",
    "        tree_graph.engine = \"dot\"\n",
    "\n",
    "        # Đặt tên file và lưu\n",
    "        filename = f\"tree_{int(train_ratio*100)}_{int(test_ratio*100)}\"\n",
    "        filepath = os.path.join(save_dir, filename)\n",
    "\n",
    "        # Xuất hình ảnh cây dưới dạng PNG\n",
    "        tree_graph.render(filepath, format=\"png\", cleanup=True)\n",
    "\n",
    "        # Hiển thị cây quyết định trong notebook\n",
    "        display(tree_graph)\n",
    "\n",
    "        print(f\"✓ Decision Tree saved for split {int(train_ratio*100)}:{int(test_ratio*100)} → {filepath}.png\")"
   ]
  },
  {
   "cell_type": "code",
   "execution_count": 88,
   "metadata": {},
   "outputs": [
    {
     "data": {
      "image/svg+xml": [
       "<?xml version=\"1.0\" encoding=\"UTF-8\" standalone=\"no\"?>\n",
       "<!DOCTYPE svg PUBLIC \"-//W3C//DTD SVG 1.1//EN\"\n",
       " \"http://www.w3.org/Graphics/SVG/1.1/DTD/svg11.dtd\">\n",
       "<!-- Generated by graphviz version 12.2.1 (20241206.2353)\n",
       " -->\n",
       "<!-- Title: Tree Pages: 1 -->\n",
       "<svg width=\"500pt\" height=\"447pt\"\n",
       " viewBox=\"0.00 0.00 500.00 447.25\" xmlns=\"http://www.w3.org/2000/svg\" xmlns:xlink=\"http://www.w3.org/1999/xlink\">\n",
       "<g id=\"graph0\" class=\"graph\" transform=\"scale(1 1) rotate(0) translate(4 443.25)\">\n",
       "<title>Tree</title>\n",
       "<polygon fill=\"white\" stroke=\"none\" points=\"-4,4 -4,-443.25 496,-443.25 496,4 -4,4\"/>\n",
       "<!-- 0 -->\n",
       "<g id=\"node1\" class=\"node\">\n",
       "<title>0</title>\n",
       "<path fill=\"#85c3ef\" stroke=\"black\" d=\"M423.5,-439.25C423.5,-439.25 233.5,-439.25 233.5,-439.25 227.5,-439.25 221.5,-433.25 221.5,-427.25 221.5,-427.25 221.5,-364.5 221.5,-364.5 221.5,-358.5 227.5,-352.5 233.5,-352.5 233.5,-352.5 423.5,-352.5 423.5,-352.5 429.5,-352.5 435.5,-358.5 435.5,-364.5 435.5,-364.5 435.5,-427.25 435.5,-427.25 435.5,-433.25 429.5,-439.25 423.5,-439.25\"/>\n",
       "<text text-anchor=\"start\" x=\"274.5\" y=\"-421.95\" font-family=\"Helvetica,sans-Serif\" font-size=\"14.00\">class_unacc ≤ 0.5</text>\n",
       "<text text-anchor=\"start\" x=\"281.25\" y=\"-406.2\" font-family=\"Helvetica,sans-Serif\" font-size=\"14.00\">entropy = 1.208</text>\n",
       "<text text-anchor=\"start\" x=\"283.88\" y=\"-390.45\" font-family=\"Helvetica,sans-Serif\" font-size=\"14.00\">samples = 690</text>\n",
       "<text text-anchor=\"start\" x=\"229.5\" y=\"-374.7\" font-family=\"Helvetica,sans-Serif\" font-size=\"14.00\">value = [153.0, 28.0, 483.0, 26.0]</text>\n",
       "<text text-anchor=\"start\" x=\"290.25\" y=\"-358.95\" font-family=\"Helvetica,sans-Serif\" font-size=\"14.00\">class = good</text>\n",
       "</g>\n",
       "<!-- 1 -->\n",
       "<g id=\"node2\" class=\"node\">\n",
       "<title>1</title>\n",
       "<path fill=\"#eda775\" stroke=\"black\" d=\"M323,-316.5C323,-316.5 148,-316.5 148,-316.5 142,-316.5 136,-310.5 136,-304.5 136,-304.5 136,-241.75 136,-241.75 136,-235.75 142,-229.75 148,-229.75 148,-229.75 323,-229.75 323,-229.75 329,-229.75 335,-235.75 335,-241.75 335,-241.75 335,-304.5 335,-304.5 335,-310.5 329,-316.5 323,-316.5\"/>\n",
       "<text text-anchor=\"start\" x=\"184.5\" y=\"-299.2\" font-family=\"Helvetica,sans-Serif\" font-size=\"14.00\">class_good ≤ 0.5</text>\n",
       "<text text-anchor=\"start\" x=\"188.25\" y=\"-283.45\" font-family=\"Helvetica,sans-Serif\" font-size=\"14.00\">entropy = 1.089</text>\n",
       "<text text-anchor=\"start\" x=\"190.88\" y=\"-267.7\" font-family=\"Helvetica,sans-Serif\" font-size=\"14.00\">samples = 207</text>\n",
       "<text text-anchor=\"start\" x=\"144\" y=\"-251.95\" font-family=\"Helvetica,sans-Serif\" font-size=\"14.00\">value = [153.0, 28.0, 0.0, 26.0]</text>\n",
       "<text text-anchor=\"start\" x=\"194.25\" y=\"-236.2\" font-family=\"Helvetica,sans-Serif\" font-size=\"14.00\">class = unacc</text>\n",
       "</g>\n",
       "<!-- 0&#45;&gt;1 -->\n",
       "<g id=\"edge1\" class=\"edge\">\n",
       "<title>0&#45;&gt;1</title>\n",
       "<path fill=\"none\" stroke=\"black\" d=\"M295.71,-352.3C289.11,-343.74 282.11,-334.64 275.3,-325.81\"/>\n",
       "<polygon fill=\"black\" stroke=\"black\" points=\"278.1,-323.71 269.23,-317.92 272.56,-327.98 278.1,-323.71\"/>\n",
       "<text text-anchor=\"middle\" x=\"265.09\" y=\"-336.09\" font-family=\"Helvetica,sans-Serif\" font-size=\"14.00\">True</text>\n",
       "</g>\n",
       "<!-- 6 -->\n",
       "<g id=\"node7\" class=\"node\">\n",
       "<title>6</title>\n",
       "<path fill=\"#399de5\" stroke=\"black\" d=\"M480,-308.62C480,-308.62 365,-308.62 365,-308.62 359,-308.62 353,-302.62 353,-296.62 353,-296.62 353,-249.62 353,-249.62 353,-243.62 359,-237.62 365,-237.62 365,-237.62 480,-237.62 480,-237.62 486,-237.62 492,-243.62 492,-249.62 492,-249.62 492,-296.62 492,-296.62 492,-302.62 486,-308.62 480,-308.62\"/>\n",
       "<text text-anchor=\"start\" x=\"382.75\" y=\"-291.32\" font-family=\"Helvetica,sans-Serif\" font-size=\"14.00\">entropy = 0.0</text>\n",
       "<text text-anchor=\"start\" x=\"377.88\" y=\"-275.57\" font-family=\"Helvetica,sans-Serif\" font-size=\"14.00\">samples = 483</text>\n",
       "<text text-anchor=\"start\" x=\"361\" y=\"-259.82\" font-family=\"Helvetica,sans-Serif\" font-size=\"14.00\">value = [0, 0, 483, 0]</text>\n",
       "<text text-anchor=\"start\" x=\"384.25\" y=\"-244.07\" font-family=\"Helvetica,sans-Serif\" font-size=\"14.00\">class = good</text>\n",
       "</g>\n",
       "<!-- 0&#45;&gt;6 -->\n",
       "<g id=\"edge6\" class=\"edge\">\n",
       "<title>0&#45;&gt;6</title>\n",
       "<path fill=\"none\" stroke=\"black\" d=\"M361.64,-352.3C370.4,-341.05 379.86,-328.89 388.66,-317.6\"/>\n",
       "<polygon fill=\"black\" stroke=\"black\" points=\"391.23,-319.99 394.61,-309.95 385.71,-315.69 391.23,-319.99\"/>\n",
       "<text text-anchor=\"middle\" x=\"398.63\" y=\"-328.14\" font-family=\"Helvetica,sans-Serif\" font-size=\"14.00\">False</text>\n",
       "</g>\n",
       "<!-- 2 -->\n",
       "<g id=\"node3\" class=\"node\">\n",
       "<title>2</title>\n",
       "<path fill=\"#e9965b\" stroke=\"black\" d=\"M229.25,-193.75C229.25,-193.75 61.75,-193.75 61.75,-193.75 55.75,-193.75 49.75,-187.75 49.75,-181.75 49.75,-181.75 49.75,-119 49.75,-119 49.75,-113 55.75,-107 61.75,-107 61.75,-107 229.25,-107 229.25,-107 235.25,-107 241.25,-113 241.25,-119 241.25,-119 241.25,-181.75 241.25,-181.75 241.25,-187.75 235.25,-193.75 229.25,-193.75\"/>\n",
       "<text text-anchor=\"start\" x=\"91.12\" y=\"-176.45\" font-family=\"Helvetica,sans-Serif\" font-size=\"14.00\">class_vgood ≤ 0.5</text>\n",
       "<text text-anchor=\"start\" x=\"98.25\" y=\"-160.7\" font-family=\"Helvetica,sans-Serif\" font-size=\"14.00\">entropy = 0.598</text>\n",
       "<text text-anchor=\"start\" x=\"100.88\" y=\"-144.95\" font-family=\"Helvetica,sans-Serif\" font-size=\"14.00\">samples = 179</text>\n",
       "<text text-anchor=\"start\" x=\"57.75\" y=\"-129.2\" font-family=\"Helvetica,sans-Serif\" font-size=\"14.00\">value = [153.0, 0.0, 0.0, 26.0]</text>\n",
       "<text text-anchor=\"start\" x=\"104.25\" y=\"-113.45\" font-family=\"Helvetica,sans-Serif\" font-size=\"14.00\">class = unacc</text>\n",
       "</g>\n",
       "<!-- 1&#45;&gt;2 -->\n",
       "<g id=\"edge2\" class=\"edge\">\n",
       "<title>1&#45;&gt;2</title>\n",
       "<path fill=\"none\" stroke=\"black\" d=\"M203.77,-229.55C197.38,-220.99 190.61,-211.89 184.02,-203.06\"/>\n",
       "<polygon fill=\"black\" stroke=\"black\" points=\"186.93,-201.11 178.15,-195.18 181.32,-205.29 186.93,-201.11\"/>\n",
       "</g>\n",
       "<!-- 5 -->\n",
       "<g id=\"node6\" class=\"node\">\n",
       "<title>5</title>\n",
       "<path fill=\"#47e539\" stroke=\"black\" d=\"M379.25,-185.88C379.25,-185.88 271.75,-185.88 271.75,-185.88 265.75,-185.88 259.75,-179.88 259.75,-173.88 259.75,-173.88 259.75,-126.88 259.75,-126.88 259.75,-120.88 265.75,-114.88 271.75,-114.88 271.75,-114.88 379.25,-114.88 379.25,-114.88 385.25,-114.88 391.25,-120.88 391.25,-126.88 391.25,-126.88 391.25,-173.88 391.25,-173.88 391.25,-179.88 385.25,-185.88 379.25,-185.88\"/>\n",
       "<text text-anchor=\"start\" x=\"285.75\" y=\"-168.57\" font-family=\"Helvetica,sans-Serif\" font-size=\"14.00\">entropy = 0.0</text>\n",
       "<text text-anchor=\"start\" x=\"284.62\" y=\"-152.82\" font-family=\"Helvetica,sans-Serif\" font-size=\"14.00\">samples = 28</text>\n",
       "<text text-anchor=\"start\" x=\"267.75\" y=\"-137.07\" font-family=\"Helvetica,sans-Serif\" font-size=\"14.00\">value = [0, 28, 0, 0]</text>\n",
       "<text text-anchor=\"start\" x=\"291.75\" y=\"-121.33\" font-family=\"Helvetica,sans-Serif\" font-size=\"14.00\">class = acc</text>\n",
       "</g>\n",
       "<!-- 1&#45;&gt;5 -->\n",
       "<g id=\"edge5\" class=\"edge\">\n",
       "<title>1&#45;&gt;5</title>\n",
       "<path fill=\"none\" stroke=\"black\" d=\"M267.23,-229.55C275.53,-218.41 284.5,-206.39 292.85,-195.18\"/>\n",
       "<polygon fill=\"black\" stroke=\"black\" points=\"295.62,-197.33 298.79,-187.22 290,-193.14 295.62,-197.33\"/>\n",
       "</g>\n",
       "<!-- 3 -->\n",
       "<g id=\"node4\" class=\"node\">\n",
       "<title>3</title>\n",
       "<path fill=\"#e58139\" stroke=\"black\" d=\"M127,-71C127,-71 12,-71 12,-71 6,-71 0,-65 0,-59 0,-59 0,-12 0,-12 0,-6 6,0 12,0 12,0 127,0 127,0 133,0 139,-6 139,-12 139,-12 139,-59 139,-59 139,-65 133,-71 127,-71\"/>\n",
       "<text text-anchor=\"start\" x=\"29.75\" y=\"-53.7\" font-family=\"Helvetica,sans-Serif\" font-size=\"14.00\">entropy = 0.0</text>\n",
       "<text text-anchor=\"start\" x=\"24.88\" y=\"-37.95\" font-family=\"Helvetica,sans-Serif\" font-size=\"14.00\">samples = 153</text>\n",
       "<text text-anchor=\"start\" x=\"8\" y=\"-22.2\" font-family=\"Helvetica,sans-Serif\" font-size=\"14.00\">value = [153, 0, 0, 0]</text>\n",
       "<text text-anchor=\"start\" x=\"28.25\" y=\"-6.45\" font-family=\"Helvetica,sans-Serif\" font-size=\"14.00\">class = unacc</text>\n",
       "</g>\n",
       "<!-- 2&#45;&gt;3 -->\n",
       "<g id=\"edge3\" class=\"edge\">\n",
       "<title>2&#45;&gt;3</title>\n",
       "<path fill=\"none\" stroke=\"black\" d=\"M116.77,-106.7C111.03,-98.17 104.98,-89.2 99.21,-80.62\"/>\n",
       "<polygon fill=\"black\" stroke=\"black\" points=\"102.17,-78.75 93.68,-72.41 96.36,-82.66 102.17,-78.75\"/>\n",
       "</g>\n",
       "<!-- 4 -->\n",
       "<g id=\"node5\" class=\"node\">\n",
       "<title>4</title>\n",
       "<path fill=\"#d739e5\" stroke=\"black\" d=\"M276.25,-71C276.25,-71 168.75,-71 168.75,-71 162.75,-71 156.75,-65 156.75,-59 156.75,-59 156.75,-12 156.75,-12 156.75,-6 162.75,0 168.75,0 168.75,0 276.25,0 276.25,0 282.25,0 288.25,-6 288.25,-12 288.25,-12 288.25,-59 288.25,-59 288.25,-65 282.25,-71 276.25,-71\"/>\n",
       "<text text-anchor=\"start\" x=\"182.75\" y=\"-53.7\" font-family=\"Helvetica,sans-Serif\" font-size=\"14.00\">entropy = 0.0</text>\n",
       "<text text-anchor=\"start\" x=\"181.62\" y=\"-37.95\" font-family=\"Helvetica,sans-Serif\" font-size=\"14.00\">samples = 26</text>\n",
       "<text text-anchor=\"start\" x=\"164.75\" y=\"-22.2\" font-family=\"Helvetica,sans-Serif\" font-size=\"14.00\">value = [0, 0, 0, 26]</text>\n",
       "<text text-anchor=\"start\" x=\"180.88\" y=\"-6.45\" font-family=\"Helvetica,sans-Serif\" font-size=\"14.00\">class = vgood</text>\n",
       "</g>\n",
       "<!-- 2&#45;&gt;4 -->\n",
       "<g id=\"edge4\" class=\"edge\">\n",
       "<title>2&#45;&gt;4</title>\n",
       "<path fill=\"none\" stroke=\"black\" d=\"M174.61,-106.7C180.43,-98.17 186.55,-89.2 192.4,-80.62\"/>\n",
       "<polygon fill=\"black\" stroke=\"black\" points=\"195.26,-82.64 198,-72.41 189.48,-78.7 195.26,-82.64\"/>\n",
       "</g>\n",
       "</g>\n",
       "</svg>\n"
      ],
      "text/plain": [
       "<graphviz.sources.Source at 0x2515f2c18d0>"
      ]
     },
     "metadata": {},
     "output_type": "display_data"
    },
    {
     "name": "stdout",
     "output_type": "stream",
     "text": [
      "✓ Decision Tree saved for split 40:60 → output/split_ratios_graphviz\\tree_40_60.png\n"
     ]
    },
    {
     "data": {
      "image/svg+xml": [
       "<?xml version=\"1.0\" encoding=\"UTF-8\" standalone=\"no\"?>\n",
       "<!DOCTYPE svg PUBLIC \"-//W3C//DTD SVG 1.1//EN\"\n",
       " \"http://www.w3.org/Graphics/SVG/1.1/DTD/svg11.dtd\">\n",
       "<!-- Generated by graphviz version 12.2.1 (20241206.2353)\n",
       " -->\n",
       "<!-- Title: Tree Pages: 1 -->\n",
       "<svg width=\"488pt\" height=\"447pt\"\n",
       " viewBox=\"0.00 0.00 488.00 447.25\" xmlns=\"http://www.w3.org/2000/svg\" xmlns:xlink=\"http://www.w3.org/1999/xlink\">\n",
       "<g id=\"graph0\" class=\"graph\" transform=\"scale(1 1) rotate(0) translate(4 443.25)\">\n",
       "<title>Tree</title>\n",
       "<polygon fill=\"white\" stroke=\"none\" points=\"-4,4 -4,-443.25 484,-443.25 484,4 -4,4\"/>\n",
       "<!-- 0 -->\n",
       "<g id=\"node1\" class=\"node\">\n",
       "<title>0</title>\n",
       "<path fill=\"#85c3ef\" stroke=\"black\" d=\"M389,-439.25C389,-439.25 244,-439.25 244,-439.25 238,-439.25 232,-433.25 232,-427.25 232,-427.25 232,-364.5 232,-364.5 232,-358.5 238,-352.5 244,-352.5 244,-352.5 389,-352.5 389,-352.5 395,-352.5 401,-358.5 401,-364.5 401,-364.5 401,-427.25 401,-427.25 401,-433.25 395,-439.25 389,-439.25\"/>\n",
       "<text text-anchor=\"start\" x=\"262.5\" y=\"-421.95\" font-family=\"Helvetica,sans-Serif\" font-size=\"14.00\">class_unacc ≤ 0.5</text>\n",
       "<text text-anchor=\"start\" x=\"269.25\" y=\"-406.2\" font-family=\"Helvetica,sans-Serif\" font-size=\"14.00\">entropy = 1.208</text>\n",
       "<text text-anchor=\"start\" x=\"268.12\" y=\"-390.45\" font-family=\"Helvetica,sans-Serif\" font-size=\"14.00\">samples = 1036</text>\n",
       "<text text-anchor=\"start\" x=\"240\" y=\"-374.7\" font-family=\"Helvetica,sans-Serif\" font-size=\"14.00\">value = [230, 42, 725, 39]</text>\n",
       "<text text-anchor=\"start\" x=\"278.25\" y=\"-358.95\" font-family=\"Helvetica,sans-Serif\" font-size=\"14.00\">class = good</text>\n",
       "</g>\n",
       "<!-- 1 -->\n",
       "<g id=\"node2\" class=\"node\">\n",
       "<title>1</title>\n",
       "<path fill=\"#eda775\" stroke=\"black\" d=\"M311,-316.5C311,-316.5 136,-316.5 136,-316.5 130,-316.5 124,-310.5 124,-304.5 124,-304.5 124,-241.75 124,-241.75 124,-235.75 130,-229.75 136,-229.75 136,-229.75 311,-229.75 311,-229.75 317,-229.75 323,-235.75 323,-241.75 323,-241.75 323,-304.5 323,-304.5 323,-310.5 317,-316.5 311,-316.5\"/>\n",
       "<text text-anchor=\"start\" x=\"172.5\" y=\"-299.2\" font-family=\"Helvetica,sans-Serif\" font-size=\"14.00\">class_good ≤ 0.5</text>\n",
       "<text text-anchor=\"start\" x=\"176.25\" y=\"-283.45\" font-family=\"Helvetica,sans-Serif\" font-size=\"14.00\">entropy = 1.088</text>\n",
       "<text text-anchor=\"start\" x=\"179.25\" y=\"-267.7\" font-family=\"Helvetica,sans-Serif\" font-size=\"14.00\">samples = 311</text>\n",
       "<text text-anchor=\"start\" x=\"132\" y=\"-251.95\" font-family=\"Helvetica,sans-Serif\" font-size=\"14.00\">value = [230.0, 42.0, 0.0, 39.0]</text>\n",
       "<text text-anchor=\"start\" x=\"182.25\" y=\"-236.2\" font-family=\"Helvetica,sans-Serif\" font-size=\"14.00\">class = unacc</text>\n",
       "</g>\n",
       "<!-- 0&#45;&gt;1 -->\n",
       "<g id=\"edge1\" class=\"edge\">\n",
       "<title>0&#45;&gt;1</title>\n",
       "<path fill=\"none\" stroke=\"black\" d=\"M283.71,-352.3C277.11,-343.74 270.11,-334.64 263.3,-325.81\"/>\n",
       "<polygon fill=\"black\" stroke=\"black\" points=\"266.1,-323.71 257.23,-317.92 260.56,-327.98 266.1,-323.71\"/>\n",
       "<text text-anchor=\"middle\" x=\"253.09\" y=\"-336.09\" font-family=\"Helvetica,sans-Serif\" font-size=\"14.00\">True</text>\n",
       "</g>\n",
       "<!-- 6 -->\n",
       "<g id=\"node7\" class=\"node\">\n",
       "<title>6</title>\n",
       "<path fill=\"#399de5\" stroke=\"black\" d=\"M468,-308.62C468,-308.62 353,-308.62 353,-308.62 347,-308.62 341,-302.62 341,-296.62 341,-296.62 341,-249.62 341,-249.62 341,-243.62 347,-237.62 353,-237.62 353,-237.62 468,-237.62 468,-237.62 474,-237.62 480,-243.62 480,-249.62 480,-249.62 480,-296.62 480,-296.62 480,-302.62 474,-308.62 468,-308.62\"/>\n",
       "<text text-anchor=\"start\" x=\"370.75\" y=\"-291.32\" font-family=\"Helvetica,sans-Serif\" font-size=\"14.00\">entropy = 0.0</text>\n",
       "<text text-anchor=\"start\" x=\"365.88\" y=\"-275.57\" font-family=\"Helvetica,sans-Serif\" font-size=\"14.00\">samples = 725</text>\n",
       "<text text-anchor=\"start\" x=\"349\" y=\"-259.82\" font-family=\"Helvetica,sans-Serif\" font-size=\"14.00\">value = [0, 0, 725, 0]</text>\n",
       "<text text-anchor=\"start\" x=\"372.25\" y=\"-244.07\" font-family=\"Helvetica,sans-Serif\" font-size=\"14.00\">class = good</text>\n",
       "</g>\n",
       "<!-- 0&#45;&gt;6 -->\n",
       "<g id=\"edge6\" class=\"edge\">\n",
       "<title>0&#45;&gt;6</title>\n",
       "<path fill=\"none\" stroke=\"black\" d=\"M349.64,-352.3C358.4,-341.05 367.86,-328.89 376.66,-317.6\"/>\n",
       "<polygon fill=\"black\" stroke=\"black\" points=\"379.23,-319.99 382.61,-309.95 373.71,-315.69 379.23,-319.99\"/>\n",
       "<text text-anchor=\"middle\" x=\"386.63\" y=\"-328.14\" font-family=\"Helvetica,sans-Serif\" font-size=\"14.00\">False</text>\n",
       "</g>\n",
       "<!-- 2 -->\n",
       "<g id=\"node3\" class=\"node\">\n",
       "<title>2</title>\n",
       "<path fill=\"#e9965b\" stroke=\"black\" d=\"M206.75,-193.75C206.75,-193.75 84.25,-193.75 84.25,-193.75 78.25,-193.75 72.25,-187.75 72.25,-181.75 72.25,-181.75 72.25,-119 72.25,-119 72.25,-113 78.25,-107 84.25,-107 84.25,-107 206.75,-107 206.75,-107 212.75,-107 218.75,-113 218.75,-119 218.75,-119 218.75,-181.75 218.75,-181.75 218.75,-187.75 212.75,-193.75 206.75,-193.75\"/>\n",
       "<text text-anchor=\"start\" x=\"91.12\" y=\"-176.45\" font-family=\"Helvetica,sans-Serif\" font-size=\"14.00\">class_vgood ≤ 0.5</text>\n",
       "<text text-anchor=\"start\" x=\"98.25\" y=\"-160.7\" font-family=\"Helvetica,sans-Serif\" font-size=\"14.00\">entropy = 0.597</text>\n",
       "<text text-anchor=\"start\" x=\"100.88\" y=\"-144.95\" font-family=\"Helvetica,sans-Serif\" font-size=\"14.00\">samples = 269</text>\n",
       "<text text-anchor=\"start\" x=\"80.25\" y=\"-129.2\" font-family=\"Helvetica,sans-Serif\" font-size=\"14.00\">value = [230, 0, 0, 39]</text>\n",
       "<text text-anchor=\"start\" x=\"104.25\" y=\"-113.45\" font-family=\"Helvetica,sans-Serif\" font-size=\"14.00\">class = unacc</text>\n",
       "</g>\n",
       "<!-- 1&#45;&gt;2 -->\n",
       "<g id=\"edge2\" class=\"edge\">\n",
       "<title>1&#45;&gt;2</title>\n",
       "<path fill=\"none\" stroke=\"black\" d=\"M196,-229.55C190.58,-221.17 184.84,-212.28 179.24,-203.61\"/>\n",
       "<polygon fill=\"black\" stroke=\"black\" points=\"182.2,-201.74 173.84,-195.24 176.32,-205.54 182.2,-201.74\"/>\n",
       "</g>\n",
       "<!-- 5 -->\n",
       "<g id=\"node6\" class=\"node\">\n",
       "<title>5</title>\n",
       "<path fill=\"#47e539\" stroke=\"black\" d=\"M356.25,-185.88C356.25,-185.88 248.75,-185.88 248.75,-185.88 242.75,-185.88 236.75,-179.88 236.75,-173.88 236.75,-173.88 236.75,-126.88 236.75,-126.88 236.75,-120.88 242.75,-114.88 248.75,-114.88 248.75,-114.88 356.25,-114.88 356.25,-114.88 362.25,-114.88 368.25,-120.88 368.25,-126.88 368.25,-126.88 368.25,-173.88 368.25,-173.88 368.25,-179.88 362.25,-185.88 356.25,-185.88\"/>\n",
       "<text text-anchor=\"start\" x=\"262.75\" y=\"-168.57\" font-family=\"Helvetica,sans-Serif\" font-size=\"14.00\">entropy = 0.0</text>\n",
       "<text text-anchor=\"start\" x=\"261.62\" y=\"-152.82\" font-family=\"Helvetica,sans-Serif\" font-size=\"14.00\">samples = 42</text>\n",
       "<text text-anchor=\"start\" x=\"244.75\" y=\"-137.07\" font-family=\"Helvetica,sans-Serif\" font-size=\"14.00\">value = [0, 42, 0, 0]</text>\n",
       "<text text-anchor=\"start\" x=\"268.75\" y=\"-121.33\" font-family=\"Helvetica,sans-Serif\" font-size=\"14.00\">class = acc</text>\n",
       "</g>\n",
       "<!-- 1&#45;&gt;5 -->\n",
       "<g id=\"edge5\" class=\"edge\">\n",
       "<title>1&#45;&gt;5</title>\n",
       "<path fill=\"none\" stroke=\"black\" d=\"M251.35,-229.55C258.57,-218.52 266.35,-206.63 273.62,-195.52\"/>\n",
       "<polygon fill=\"black\" stroke=\"black\" points=\"276.47,-197.55 279.02,-187.27 270.61,-193.72 276.47,-197.55\"/>\n",
       "</g>\n",
       "<!-- 3 -->\n",
       "<g id=\"node4\" class=\"node\">\n",
       "<title>3</title>\n",
       "<path fill=\"#e58139\" stroke=\"black\" d=\"M127,-71C127,-71 12,-71 12,-71 6,-71 0,-65 0,-59 0,-59 0,-12 0,-12 0,-6 6,0 12,0 12,0 127,0 127,0 133,0 139,-6 139,-12 139,-12 139,-59 139,-59 139,-65 133,-71 127,-71\"/>\n",
       "<text text-anchor=\"start\" x=\"29.75\" y=\"-53.7\" font-family=\"Helvetica,sans-Serif\" font-size=\"14.00\">entropy = 0.0</text>\n",
       "<text text-anchor=\"start\" x=\"24.88\" y=\"-37.95\" font-family=\"Helvetica,sans-Serif\" font-size=\"14.00\">samples = 230</text>\n",
       "<text text-anchor=\"start\" x=\"8\" y=\"-22.2\" font-family=\"Helvetica,sans-Serif\" font-size=\"14.00\">value = [230, 0, 0, 0]</text>\n",
       "<text text-anchor=\"start\" x=\"28.25\" y=\"-6.45\" font-family=\"Helvetica,sans-Serif\" font-size=\"14.00\">class = unacc</text>\n",
       "</g>\n",
       "<!-- 2&#45;&gt;3 -->\n",
       "<g id=\"edge3\" class=\"edge\">\n",
       "<title>2&#45;&gt;3</title>\n",
       "<path fill=\"none\" stroke=\"black\" d=\"M116.77,-106.7C111.03,-98.17 104.98,-89.2 99.21,-80.62\"/>\n",
       "<polygon fill=\"black\" stroke=\"black\" points=\"102.17,-78.75 93.68,-72.41 96.36,-82.66 102.17,-78.75\"/>\n",
       "</g>\n",
       "<!-- 4 -->\n",
       "<g id=\"node5\" class=\"node\">\n",
       "<title>4</title>\n",
       "<path fill=\"#d739e5\" stroke=\"black\" d=\"M276.25,-71C276.25,-71 168.75,-71 168.75,-71 162.75,-71 156.75,-65 156.75,-59 156.75,-59 156.75,-12 156.75,-12 156.75,-6 162.75,0 168.75,0 168.75,0 276.25,0 276.25,0 282.25,0 288.25,-6 288.25,-12 288.25,-12 288.25,-59 288.25,-59 288.25,-65 282.25,-71 276.25,-71\"/>\n",
       "<text text-anchor=\"start\" x=\"182.75\" y=\"-53.7\" font-family=\"Helvetica,sans-Serif\" font-size=\"14.00\">entropy = 0.0</text>\n",
       "<text text-anchor=\"start\" x=\"181.62\" y=\"-37.95\" font-family=\"Helvetica,sans-Serif\" font-size=\"14.00\">samples = 39</text>\n",
       "<text text-anchor=\"start\" x=\"164.75\" y=\"-22.2\" font-family=\"Helvetica,sans-Serif\" font-size=\"14.00\">value = [0, 0, 0, 39]</text>\n",
       "<text text-anchor=\"start\" x=\"180.88\" y=\"-6.45\" font-family=\"Helvetica,sans-Serif\" font-size=\"14.00\">class = vgood</text>\n",
       "</g>\n",
       "<!-- 2&#45;&gt;4 -->\n",
       "<g id=\"edge4\" class=\"edge\">\n",
       "<title>2&#45;&gt;4</title>\n",
       "<path fill=\"none\" stroke=\"black\" d=\"M174.61,-106.7C180.43,-98.17 186.55,-89.2 192.4,-80.62\"/>\n",
       "<polygon fill=\"black\" stroke=\"black\" points=\"195.26,-82.64 198,-72.41 189.48,-78.7 195.26,-82.64\"/>\n",
       "</g>\n",
       "</g>\n",
       "</svg>\n"
      ],
      "text/plain": [
       "<graphviz.sources.Source at 0x2515f2c17f0>"
      ]
     },
     "metadata": {},
     "output_type": "display_data"
    },
    {
     "name": "stdout",
     "output_type": "stream",
     "text": [
      "✓ Decision Tree saved for split 60:40 → output/split_ratios_graphviz\\tree_60_40.png\n"
     ]
    },
    {
     "data": {
      "image/svg+xml": [
       "<?xml version=\"1.0\" encoding=\"UTF-8\" standalone=\"no\"?>\n",
       "<!DOCTYPE svg PUBLIC \"-//W3C//DTD SVG 1.1//EN\"\n",
       " \"http://www.w3.org/Graphics/SVG/1.1/DTD/svg11.dtd\">\n",
       "<!-- Generated by graphviz version 12.2.1 (20241206.2353)\n",
       " -->\n",
       "<!-- Title: Tree Pages: 1 -->\n",
       "<svg width=\"466pt\" height=\"447pt\"\n",
       " viewBox=\"0.00 0.00 466.00 447.25\" xmlns=\"http://www.w3.org/2000/svg\" xmlns:xlink=\"http://www.w3.org/1999/xlink\">\n",
       "<g id=\"graph0\" class=\"graph\" transform=\"scale(1 1) rotate(0) translate(4 443.25)\">\n",
       "<title>Tree</title>\n",
       "<polygon fill=\"white\" stroke=\"none\" points=\"-4,4 -4,-443.25 462,-443.25 462,4 -4,4\"/>\n",
       "<!-- 0 -->\n",
       "<g id=\"node1\" class=\"node\">\n",
       "<title>0</title>\n",
       "<path fill=\"#85c3ef\" stroke=\"black\" d=\"M400.5,-439.25C400.5,-439.25 210.5,-439.25 210.5,-439.25 204.5,-439.25 198.5,-433.25 198.5,-427.25 198.5,-427.25 198.5,-364.5 198.5,-364.5 198.5,-358.5 204.5,-352.5 210.5,-352.5 210.5,-352.5 400.5,-352.5 400.5,-352.5 406.5,-352.5 412.5,-358.5 412.5,-364.5 412.5,-364.5 412.5,-427.25 412.5,-427.25 412.5,-433.25 406.5,-439.25 400.5,-439.25\"/>\n",
       "<text text-anchor=\"start\" x=\"251.5\" y=\"-421.95\" font-family=\"Helvetica,sans-Serif\" font-size=\"14.00\">class_unacc ≤ 0.5</text>\n",
       "<text text-anchor=\"start\" x=\"258.25\" y=\"-406.2\" font-family=\"Helvetica,sans-Serif\" font-size=\"14.00\">entropy = 1.206</text>\n",
       "<text text-anchor=\"start\" x=\"257.12\" y=\"-390.45\" font-family=\"Helvetica,sans-Serif\" font-size=\"14.00\">samples = 1381</text>\n",
       "<text text-anchor=\"start\" x=\"206.5\" y=\"-374.7\" font-family=\"Helvetica,sans-Serif\" font-size=\"14.00\">value = [307.0, 55.0, 967.0, 52.0]</text>\n",
       "<text text-anchor=\"start\" x=\"267.25\" y=\"-358.95\" font-family=\"Helvetica,sans-Serif\" font-size=\"14.00\">class = good</text>\n",
       "</g>\n",
       "<!-- 1 -->\n",
       "<g id=\"node2\" class=\"node\">\n",
       "<title>1</title>\n",
       "<path fill=\"#eda774\" stroke=\"black\" d=\"M288.5,-316.5C288.5,-316.5 158.5,-316.5 158.5,-316.5 152.5,-316.5 146.5,-310.5 146.5,-304.5 146.5,-304.5 146.5,-241.75 146.5,-241.75 146.5,-235.75 152.5,-229.75 158.5,-229.75 158.5,-229.75 288.5,-229.75 288.5,-229.75 294.5,-229.75 300.5,-235.75 300.5,-241.75 300.5,-241.75 300.5,-304.5 300.5,-304.5 300.5,-310.5 294.5,-316.5 288.5,-316.5\"/>\n",
       "<text text-anchor=\"start\" x=\"172.5\" y=\"-299.2\" font-family=\"Helvetica,sans-Serif\" font-size=\"14.00\">class_good ≤ 0.5</text>\n",
       "<text text-anchor=\"start\" x=\"176.25\" y=\"-283.45\" font-family=\"Helvetica,sans-Serif\" font-size=\"14.00\">entropy = 1.083</text>\n",
       "<text text-anchor=\"start\" x=\"178.88\" y=\"-267.7\" font-family=\"Helvetica,sans-Serif\" font-size=\"14.00\">samples = 414</text>\n",
       "<text text-anchor=\"start\" x=\"154.5\" y=\"-251.95\" font-family=\"Helvetica,sans-Serif\" font-size=\"14.00\">value = [307, 55, 0, 52]</text>\n",
       "<text text-anchor=\"start\" x=\"182.25\" y=\"-236.2\" font-family=\"Helvetica,sans-Serif\" font-size=\"14.00\">class = unacc</text>\n",
       "</g>\n",
       "<!-- 0&#45;&gt;1 -->\n",
       "<g id=\"edge1\" class=\"edge\">\n",
       "<title>0&#45;&gt;1</title>\n",
       "<path fill=\"none\" stroke=\"black\" d=\"M276.59,-352.3C270.83,-343.83 264.73,-334.84 258.79,-326.08\"/>\n",
       "<polygon fill=\"black\" stroke=\"black\" points=\"261.79,-324.28 253.28,-317.97 256,-328.21 261.79,-324.28\"/>\n",
       "<text text-anchor=\"middle\" x=\"247.73\" y=\"-335.85\" font-family=\"Helvetica,sans-Serif\" font-size=\"14.00\">True</text>\n",
       "</g>\n",
       "<!-- 6 -->\n",
       "<g id=\"node7\" class=\"node\">\n",
       "<title>6</title>\n",
       "<path fill=\"#399de5\" stroke=\"black\" d=\"M446,-308.62C446,-308.62 331,-308.62 331,-308.62 325,-308.62 319,-302.62 319,-296.62 319,-296.62 319,-249.62 319,-249.62 319,-243.62 325,-237.62 331,-237.62 331,-237.62 446,-237.62 446,-237.62 452,-237.62 458,-243.62 458,-249.62 458,-249.62 458,-296.62 458,-296.62 458,-302.62 452,-308.62 446,-308.62\"/>\n",
       "<text text-anchor=\"start\" x=\"348.75\" y=\"-291.32\" font-family=\"Helvetica,sans-Serif\" font-size=\"14.00\">entropy = 0.0</text>\n",
       "<text text-anchor=\"start\" x=\"343.88\" y=\"-275.57\" font-family=\"Helvetica,sans-Serif\" font-size=\"14.00\">samples = 967</text>\n",
       "<text text-anchor=\"start\" x=\"327\" y=\"-259.82\" font-family=\"Helvetica,sans-Serif\" font-size=\"14.00\">value = [0, 0, 967, 0]</text>\n",
       "<text text-anchor=\"start\" x=\"350.25\" y=\"-244.07\" font-family=\"Helvetica,sans-Serif\" font-size=\"14.00\">class = good</text>\n",
       "</g>\n",
       "<!-- 0&#45;&gt;6 -->\n",
       "<g id=\"edge6\" class=\"edge\">\n",
       "<title>0&#45;&gt;6</title>\n",
       "<path fill=\"none\" stroke=\"black\" d=\"M334.76,-352.3C342.42,-341.16 350.69,-329.14 358.39,-317.93\"/>\n",
       "<polygon fill=\"black\" stroke=\"black\" points=\"361.06,-320.22 363.84,-310 355.29,-316.26 361.06,-320.22\"/>\n",
       "<text text-anchor=\"middle\" x=\"369.25\" y=\"-327.91\" font-family=\"Helvetica,sans-Serif\" font-size=\"14.00\">False</text>\n",
       "</g>\n",
       "<!-- 2 -->\n",
       "<g id=\"node3\" class=\"node\">\n",
       "<title>2</title>\n",
       "<path fill=\"#e9965b\" stroke=\"black\" d=\"M206.75,-193.75C206.75,-193.75 84.25,-193.75 84.25,-193.75 78.25,-193.75 72.25,-187.75 72.25,-181.75 72.25,-181.75 72.25,-119 72.25,-119 72.25,-113 78.25,-107 84.25,-107 84.25,-107 206.75,-107 206.75,-107 212.75,-107 218.75,-113 218.75,-119 218.75,-119 218.75,-181.75 218.75,-181.75 218.75,-187.75 212.75,-193.75 206.75,-193.75\"/>\n",
       "<text text-anchor=\"start\" x=\"91.12\" y=\"-176.45\" font-family=\"Helvetica,sans-Serif\" font-size=\"14.00\">class_vgood ≤ 0.5</text>\n",
       "<text text-anchor=\"start\" x=\"98.25\" y=\"-160.7\" font-family=\"Helvetica,sans-Serif\" font-size=\"14.00\">entropy = 0.597</text>\n",
       "<text text-anchor=\"start\" x=\"100.88\" y=\"-144.95\" font-family=\"Helvetica,sans-Serif\" font-size=\"14.00\">samples = 359</text>\n",
       "<text text-anchor=\"start\" x=\"80.25\" y=\"-129.2\" font-family=\"Helvetica,sans-Serif\" font-size=\"14.00\">value = [307, 0, 0, 52]</text>\n",
       "<text text-anchor=\"start\" x=\"104.25\" y=\"-113.45\" font-family=\"Helvetica,sans-Serif\" font-size=\"14.00\">class = unacc</text>\n",
       "</g>\n",
       "<!-- 1&#45;&gt;2 -->\n",
       "<g id=\"edge2\" class=\"edge\">\n",
       "<title>1&#45;&gt;2</title>\n",
       "<path fill=\"none\" stroke=\"black\" d=\"M196,-229.55C190.58,-221.17 184.84,-212.28 179.24,-203.61\"/>\n",
       "<polygon fill=\"black\" stroke=\"black\" points=\"182.2,-201.74 173.84,-195.24 176.32,-205.54 182.2,-201.74\"/>\n",
       "</g>\n",
       "<!-- 5 -->\n",
       "<g id=\"node6\" class=\"node\">\n",
       "<title>5</title>\n",
       "<path fill=\"#47e539\" stroke=\"black\" d=\"M356.25,-185.88C356.25,-185.88 248.75,-185.88 248.75,-185.88 242.75,-185.88 236.75,-179.88 236.75,-173.88 236.75,-173.88 236.75,-126.88 236.75,-126.88 236.75,-120.88 242.75,-114.88 248.75,-114.88 248.75,-114.88 356.25,-114.88 356.25,-114.88 362.25,-114.88 368.25,-120.88 368.25,-126.88 368.25,-126.88 368.25,-173.88 368.25,-173.88 368.25,-179.88 362.25,-185.88 356.25,-185.88\"/>\n",
       "<text text-anchor=\"start\" x=\"262.75\" y=\"-168.57\" font-family=\"Helvetica,sans-Serif\" font-size=\"14.00\">entropy = 0.0</text>\n",
       "<text text-anchor=\"start\" x=\"261.62\" y=\"-152.82\" font-family=\"Helvetica,sans-Serif\" font-size=\"14.00\">samples = 55</text>\n",
       "<text text-anchor=\"start\" x=\"244.75\" y=\"-137.07\" font-family=\"Helvetica,sans-Serif\" font-size=\"14.00\">value = [0, 55, 0, 0]</text>\n",
       "<text text-anchor=\"start\" x=\"268.75\" y=\"-121.33\" font-family=\"Helvetica,sans-Serif\" font-size=\"14.00\">class = acc</text>\n",
       "</g>\n",
       "<!-- 1&#45;&gt;5 -->\n",
       "<g id=\"edge5\" class=\"edge\">\n",
       "<title>1&#45;&gt;5</title>\n",
       "<path fill=\"none\" stroke=\"black\" d=\"M251.35,-229.55C258.57,-218.52 266.35,-206.63 273.62,-195.52\"/>\n",
       "<polygon fill=\"black\" stroke=\"black\" points=\"276.47,-197.55 279.02,-187.27 270.61,-193.72 276.47,-197.55\"/>\n",
       "</g>\n",
       "<!-- 3 -->\n",
       "<g id=\"node4\" class=\"node\">\n",
       "<title>3</title>\n",
       "<path fill=\"#e58139\" stroke=\"black\" d=\"M127,-71C127,-71 12,-71 12,-71 6,-71 0,-65 0,-59 0,-59 0,-12 0,-12 0,-6 6,0 12,0 12,0 127,0 127,0 133,0 139,-6 139,-12 139,-12 139,-59 139,-59 139,-65 133,-71 127,-71\"/>\n",
       "<text text-anchor=\"start\" x=\"29.75\" y=\"-53.7\" font-family=\"Helvetica,sans-Serif\" font-size=\"14.00\">entropy = 0.0</text>\n",
       "<text text-anchor=\"start\" x=\"24.88\" y=\"-37.95\" font-family=\"Helvetica,sans-Serif\" font-size=\"14.00\">samples = 307</text>\n",
       "<text text-anchor=\"start\" x=\"8\" y=\"-22.2\" font-family=\"Helvetica,sans-Serif\" font-size=\"14.00\">value = [307, 0, 0, 0]</text>\n",
       "<text text-anchor=\"start\" x=\"28.25\" y=\"-6.45\" font-family=\"Helvetica,sans-Serif\" font-size=\"14.00\">class = unacc</text>\n",
       "</g>\n",
       "<!-- 2&#45;&gt;3 -->\n",
       "<g id=\"edge3\" class=\"edge\">\n",
       "<title>2&#45;&gt;3</title>\n",
       "<path fill=\"none\" stroke=\"black\" d=\"M116.77,-106.7C111.03,-98.17 104.98,-89.2 99.21,-80.62\"/>\n",
       "<polygon fill=\"black\" stroke=\"black\" points=\"102.17,-78.75 93.68,-72.41 96.36,-82.66 102.17,-78.75\"/>\n",
       "</g>\n",
       "<!-- 4 -->\n",
       "<g id=\"node5\" class=\"node\">\n",
       "<title>4</title>\n",
       "<path fill=\"#d739e5\" stroke=\"black\" d=\"M276.25,-71C276.25,-71 168.75,-71 168.75,-71 162.75,-71 156.75,-65 156.75,-59 156.75,-59 156.75,-12 156.75,-12 156.75,-6 162.75,0 168.75,0 168.75,0 276.25,0 276.25,0 282.25,0 288.25,-6 288.25,-12 288.25,-12 288.25,-59 288.25,-59 288.25,-65 282.25,-71 276.25,-71\"/>\n",
       "<text text-anchor=\"start\" x=\"182.75\" y=\"-53.7\" font-family=\"Helvetica,sans-Serif\" font-size=\"14.00\">entropy = 0.0</text>\n",
       "<text text-anchor=\"start\" x=\"181.62\" y=\"-37.95\" font-family=\"Helvetica,sans-Serif\" font-size=\"14.00\">samples = 52</text>\n",
       "<text text-anchor=\"start\" x=\"164.75\" y=\"-22.2\" font-family=\"Helvetica,sans-Serif\" font-size=\"14.00\">value = [0, 0, 0, 52]</text>\n",
       "<text text-anchor=\"start\" x=\"180.88\" y=\"-6.45\" font-family=\"Helvetica,sans-Serif\" font-size=\"14.00\">class = vgood</text>\n",
       "</g>\n",
       "<!-- 2&#45;&gt;4 -->\n",
       "<g id=\"edge4\" class=\"edge\">\n",
       "<title>2&#45;&gt;4</title>\n",
       "<path fill=\"none\" stroke=\"black\" d=\"M174.61,-106.7C180.43,-98.17 186.55,-89.2 192.4,-80.62\"/>\n",
       "<polygon fill=\"black\" stroke=\"black\" points=\"195.26,-82.64 198,-72.41 189.48,-78.7 195.26,-82.64\"/>\n",
       "</g>\n",
       "</g>\n",
       "</svg>\n"
      ],
      "text/plain": [
       "<graphviz.sources.Source at 0x25166089e60>"
      ]
     },
     "metadata": {},
     "output_type": "display_data"
    },
    {
     "name": "stdout",
     "output_type": "stream",
     "text": [
      "✓ Decision Tree saved for split 80:20 → output/split_ratios_graphviz\\tree_80_20.png\n"
     ]
    },
    {
     "data": {
      "image/svg+xml": [
       "<?xml version=\"1.0\" encoding=\"UTF-8\" standalone=\"no\"?>\n",
       "<!DOCTYPE svg PUBLIC \"-//W3C//DTD SVG 1.1//EN\"\n",
       " \"http://www.w3.org/Graphics/SVG/1.1/DTD/svg11.dtd\">\n",
       "<!-- Generated by graphviz version 12.2.1 (20241206.2353)\n",
       " -->\n",
       "<!-- Title: Tree Pages: 1 -->\n",
       "<svg width=\"485pt\" height=\"447pt\"\n",
       " viewBox=\"0.00 0.00 484.75 447.25\" xmlns=\"http://www.w3.org/2000/svg\" xmlns:xlink=\"http://www.w3.org/1999/xlink\">\n",
       "<g id=\"graph0\" class=\"graph\" transform=\"scale(1 1) rotate(0) translate(4 443.25)\">\n",
       "<title>Tree</title>\n",
       "<polygon fill=\"white\" stroke=\"none\" points=\"-4,4 -4,-443.25 480.75,-443.25 480.75,4 -4,4\"/>\n",
       "<!-- 0 -->\n",
       "<g id=\"node1\" class=\"node\">\n",
       "<title>0</title>\n",
       "<path fill=\"#85c3ef\" stroke=\"black\" d=\"M395.75,-439.25C395.75,-439.25 243.25,-439.25 243.25,-439.25 237.25,-439.25 231.25,-433.25 231.25,-427.25 231.25,-427.25 231.25,-364.5 231.25,-364.5 231.25,-358.5 237.25,-352.5 243.25,-352.5 243.25,-352.5 395.75,-352.5 395.75,-352.5 401.75,-352.5 407.75,-358.5 407.75,-364.5 407.75,-364.5 407.75,-427.25 407.75,-427.25 407.75,-433.25 401.75,-439.25 395.75,-439.25\"/>\n",
       "<text text-anchor=\"start\" x=\"265.5\" y=\"-421.95\" font-family=\"Helvetica,sans-Serif\" font-size=\"14.00\">class_unacc ≤ 0.5</text>\n",
       "<text text-anchor=\"start\" x=\"272.25\" y=\"-406.2\" font-family=\"Helvetica,sans-Serif\" font-size=\"14.00\">entropy = 1.205</text>\n",
       "<text text-anchor=\"start\" x=\"271.12\" y=\"-390.45\" font-family=\"Helvetica,sans-Serif\" font-size=\"14.00\">samples = 1554</text>\n",
       "<text text-anchor=\"start\" x=\"239.25\" y=\"-374.7\" font-family=\"Helvetica,sans-Serif\" font-size=\"14.00\">value = [346, 62, 1088, 58]</text>\n",
       "<text text-anchor=\"start\" x=\"281.25\" y=\"-358.95\" font-family=\"Helvetica,sans-Serif\" font-size=\"14.00\">class = good</text>\n",
       "</g>\n",
       "<!-- 1 -->\n",
       "<g id=\"node2\" class=\"node\">\n",
       "<title>1</title>\n",
       "<path fill=\"#eda674\" stroke=\"black\" d=\"M300.5,-316.5C300.5,-316.5 170.5,-316.5 170.5,-316.5 164.5,-316.5 158.5,-310.5 158.5,-304.5 158.5,-304.5 158.5,-241.75 158.5,-241.75 158.5,-235.75 164.5,-229.75 170.5,-229.75 170.5,-229.75 300.5,-229.75 300.5,-229.75 306.5,-229.75 312.5,-235.75 312.5,-241.75 312.5,-241.75 312.5,-304.5 312.5,-304.5 312.5,-310.5 306.5,-316.5 300.5,-316.5\"/>\n",
       "<text text-anchor=\"start\" x=\"184.5\" y=\"-299.2\" font-family=\"Helvetica,sans-Serif\" font-size=\"14.00\">class_good ≤ 0.5</text>\n",
       "<text text-anchor=\"start\" x=\"192\" y=\"-283.45\" font-family=\"Helvetica,sans-Serif\" font-size=\"14.00\">entropy = 1.08</text>\n",
       "<text text-anchor=\"start\" x=\"190.88\" y=\"-267.7\" font-family=\"Helvetica,sans-Serif\" font-size=\"14.00\">samples = 466</text>\n",
       "<text text-anchor=\"start\" x=\"166.5\" y=\"-251.95\" font-family=\"Helvetica,sans-Serif\" font-size=\"14.00\">value = [346, 62, 0, 58]</text>\n",
       "<text text-anchor=\"start\" x=\"194.25\" y=\"-236.2\" font-family=\"Helvetica,sans-Serif\" font-size=\"14.00\">class = unacc</text>\n",
       "</g>\n",
       "<!-- 0&#45;&gt;1 -->\n",
       "<g id=\"edge1\" class=\"edge\">\n",
       "<title>0&#45;&gt;1</title>\n",
       "<path fill=\"none\" stroke=\"black\" d=\"M289.88,-352.3C283.99,-343.83 277.73,-334.84 271.65,-326.08\"/>\n",
       "<polygon fill=\"black\" stroke=\"black\" points=\"274.58,-324.17 266,-317.96 268.83,-328.17 274.58,-324.17\"/>\n",
       "<text text-anchor=\"middle\" x=\"260.71\" y=\"-335.9\" font-family=\"Helvetica,sans-Serif\" font-size=\"14.00\">True</text>\n",
       "</g>\n",
       "<!-- 6 -->\n",
       "<g id=\"node7\" class=\"node\">\n",
       "<title>6</title>\n",
       "<path fill=\"#399de5\" stroke=\"black\" d=\"M464.75,-308.62C464.75,-308.62 342.25,-308.62 342.25,-308.62 336.25,-308.62 330.25,-302.62 330.25,-296.62 330.25,-296.62 330.25,-249.62 330.25,-249.62 330.25,-243.62 336.25,-237.62 342.25,-237.62 342.25,-237.62 464.75,-237.62 464.75,-237.62 470.75,-237.62 476.75,-243.62 476.75,-249.62 476.75,-249.62 476.75,-296.62 476.75,-296.62 476.75,-302.62 470.75,-308.62 464.75,-308.62\"/>\n",
       "<text text-anchor=\"start\" x=\"363.75\" y=\"-291.32\" font-family=\"Helvetica,sans-Serif\" font-size=\"14.00\">entropy = 0.0</text>\n",
       "<text text-anchor=\"start\" x=\"355.12\" y=\"-275.57\" font-family=\"Helvetica,sans-Serif\" font-size=\"14.00\">samples = 1088</text>\n",
       "<text text-anchor=\"start\" x=\"338.25\" y=\"-259.82\" font-family=\"Helvetica,sans-Serif\" font-size=\"14.00\">value = [0, 0, 1088, 0]</text>\n",
       "<text text-anchor=\"start\" x=\"365.25\" y=\"-244.07\" font-family=\"Helvetica,sans-Serif\" font-size=\"14.00\">class = good</text>\n",
       "</g>\n",
       "<!-- 0&#45;&gt;6 -->\n",
       "<g id=\"edge6\" class=\"edge\">\n",
       "<title>0&#45;&gt;6</title>\n",
       "<path fill=\"none\" stroke=\"black\" d=\"M349.12,-352.3C356.86,-341.16 365.23,-329.14 373.03,-317.93\"/>\n",
       "<polygon fill=\"black\" stroke=\"black\" points=\"375.71,-320.2 378.55,-310 369.96,-316.21 375.71,-320.2\"/>\n",
       "<text text-anchor=\"middle\" x=\"383.83\" y=\"-327.94\" font-family=\"Helvetica,sans-Serif\" font-size=\"14.00\">False</text>\n",
       "</g>\n",
       "<!-- 2 -->\n",
       "<g id=\"node3\" class=\"node\">\n",
       "<title>2</title>\n",
       "<path fill=\"#e9965a\" stroke=\"black\" d=\"M229.25,-193.75C229.25,-193.75 61.75,-193.75 61.75,-193.75 55.75,-193.75 49.75,-187.75 49.75,-181.75 49.75,-181.75 49.75,-119 49.75,-119 49.75,-113 55.75,-107 61.75,-107 61.75,-107 229.25,-107 229.25,-107 235.25,-107 241.25,-113 241.25,-119 241.25,-119 241.25,-181.75 241.25,-181.75 241.25,-187.75 235.25,-193.75 229.25,-193.75\"/>\n",
       "<text text-anchor=\"start\" x=\"91.12\" y=\"-176.45\" font-family=\"Helvetica,sans-Serif\" font-size=\"14.00\">class_vgood ≤ 0.5</text>\n",
       "<text text-anchor=\"start\" x=\"98.25\" y=\"-160.7\" font-family=\"Helvetica,sans-Serif\" font-size=\"14.00\">entropy = 0.593</text>\n",
       "<text text-anchor=\"start\" x=\"100.88\" y=\"-144.95\" font-family=\"Helvetica,sans-Serif\" font-size=\"14.00\">samples = 404</text>\n",
       "<text text-anchor=\"start\" x=\"57.75\" y=\"-129.2\" font-family=\"Helvetica,sans-Serif\" font-size=\"14.00\">value = [346.0, 0.0, 0.0, 58.0]</text>\n",
       "<text text-anchor=\"start\" x=\"104.25\" y=\"-113.45\" font-family=\"Helvetica,sans-Serif\" font-size=\"14.00\">class = unacc</text>\n",
       "</g>\n",
       "<!-- 1&#45;&gt;2 -->\n",
       "<g id=\"edge2\" class=\"edge\">\n",
       "<title>1&#45;&gt;2</title>\n",
       "<path fill=\"none\" stroke=\"black\" d=\"M203.77,-229.55C197.38,-220.99 190.61,-211.89 184.02,-203.06\"/>\n",
       "<polygon fill=\"black\" stroke=\"black\" points=\"186.93,-201.11 178.15,-195.18 181.32,-205.29 186.93,-201.11\"/>\n",
       "</g>\n",
       "<!-- 5 -->\n",
       "<g id=\"node6\" class=\"node\">\n",
       "<title>5</title>\n",
       "<path fill=\"#47e539\" stroke=\"black\" d=\"M379.25,-185.88C379.25,-185.88 271.75,-185.88 271.75,-185.88 265.75,-185.88 259.75,-179.88 259.75,-173.88 259.75,-173.88 259.75,-126.88 259.75,-126.88 259.75,-120.88 265.75,-114.88 271.75,-114.88 271.75,-114.88 379.25,-114.88 379.25,-114.88 385.25,-114.88 391.25,-120.88 391.25,-126.88 391.25,-126.88 391.25,-173.88 391.25,-173.88 391.25,-179.88 385.25,-185.88 379.25,-185.88\"/>\n",
       "<text text-anchor=\"start\" x=\"285.75\" y=\"-168.57\" font-family=\"Helvetica,sans-Serif\" font-size=\"14.00\">entropy = 0.0</text>\n",
       "<text text-anchor=\"start\" x=\"284.62\" y=\"-152.82\" font-family=\"Helvetica,sans-Serif\" font-size=\"14.00\">samples = 62</text>\n",
       "<text text-anchor=\"start\" x=\"267.75\" y=\"-137.07\" font-family=\"Helvetica,sans-Serif\" font-size=\"14.00\">value = [0, 62, 0, 0]</text>\n",
       "<text text-anchor=\"start\" x=\"291.75\" y=\"-121.33\" font-family=\"Helvetica,sans-Serif\" font-size=\"14.00\">class = acc</text>\n",
       "</g>\n",
       "<!-- 1&#45;&gt;5 -->\n",
       "<g id=\"edge5\" class=\"edge\">\n",
       "<title>1&#45;&gt;5</title>\n",
       "<path fill=\"none\" stroke=\"black\" d=\"M267.23,-229.55C275.53,-218.41 284.5,-206.39 292.85,-195.18\"/>\n",
       "<polygon fill=\"black\" stroke=\"black\" points=\"295.62,-197.33 298.79,-187.22 290,-193.14 295.62,-197.33\"/>\n",
       "</g>\n",
       "<!-- 3 -->\n",
       "<g id=\"node4\" class=\"node\">\n",
       "<title>3</title>\n",
       "<path fill=\"#e58139\" stroke=\"black\" d=\"M127,-71C127,-71 12,-71 12,-71 6,-71 0,-65 0,-59 0,-59 0,-12 0,-12 0,-6 6,0 12,0 12,0 127,0 127,0 133,0 139,-6 139,-12 139,-12 139,-59 139,-59 139,-65 133,-71 127,-71\"/>\n",
       "<text text-anchor=\"start\" x=\"29.75\" y=\"-53.7\" font-family=\"Helvetica,sans-Serif\" font-size=\"14.00\">entropy = 0.0</text>\n",
       "<text text-anchor=\"start\" x=\"24.88\" y=\"-37.95\" font-family=\"Helvetica,sans-Serif\" font-size=\"14.00\">samples = 346</text>\n",
       "<text text-anchor=\"start\" x=\"8\" y=\"-22.2\" font-family=\"Helvetica,sans-Serif\" font-size=\"14.00\">value = [346, 0, 0, 0]</text>\n",
       "<text text-anchor=\"start\" x=\"28.25\" y=\"-6.45\" font-family=\"Helvetica,sans-Serif\" font-size=\"14.00\">class = unacc</text>\n",
       "</g>\n",
       "<!-- 2&#45;&gt;3 -->\n",
       "<g id=\"edge3\" class=\"edge\">\n",
       "<title>2&#45;&gt;3</title>\n",
       "<path fill=\"none\" stroke=\"black\" d=\"M116.77,-106.7C111.03,-98.17 104.98,-89.2 99.21,-80.62\"/>\n",
       "<polygon fill=\"black\" stroke=\"black\" points=\"102.17,-78.75 93.68,-72.41 96.36,-82.66 102.17,-78.75\"/>\n",
       "</g>\n",
       "<!-- 4 -->\n",
       "<g id=\"node5\" class=\"node\">\n",
       "<title>4</title>\n",
       "<path fill=\"#d739e5\" stroke=\"black\" d=\"M276.25,-71C276.25,-71 168.75,-71 168.75,-71 162.75,-71 156.75,-65 156.75,-59 156.75,-59 156.75,-12 156.75,-12 156.75,-6 162.75,0 168.75,0 168.75,0 276.25,0 276.25,0 282.25,0 288.25,-6 288.25,-12 288.25,-12 288.25,-59 288.25,-59 288.25,-65 282.25,-71 276.25,-71\"/>\n",
       "<text text-anchor=\"start\" x=\"182.75\" y=\"-53.7\" font-family=\"Helvetica,sans-Serif\" font-size=\"14.00\">entropy = 0.0</text>\n",
       "<text text-anchor=\"start\" x=\"181.62\" y=\"-37.95\" font-family=\"Helvetica,sans-Serif\" font-size=\"14.00\">samples = 58</text>\n",
       "<text text-anchor=\"start\" x=\"164.75\" y=\"-22.2\" font-family=\"Helvetica,sans-Serif\" font-size=\"14.00\">value = [0, 0, 0, 58]</text>\n",
       "<text text-anchor=\"start\" x=\"180.88\" y=\"-6.45\" font-family=\"Helvetica,sans-Serif\" font-size=\"14.00\">class = vgood</text>\n",
       "</g>\n",
       "<!-- 2&#45;&gt;4 -->\n",
       "<g id=\"edge4\" class=\"edge\">\n",
       "<title>2&#45;&gt;4</title>\n",
       "<path fill=\"none\" stroke=\"black\" d=\"M174.61,-106.7C180.43,-98.17 186.55,-89.2 192.4,-80.62\"/>\n",
       "<polygon fill=\"black\" stroke=\"black\" points=\"195.26,-82.64 198,-72.41 189.48,-78.7 195.26,-82.64\"/>\n",
       "</g>\n",
       "</g>\n",
       "</svg>\n"
      ],
      "text/plain": [
       "<graphviz.sources.Source at 0x251666901d0>"
      ]
     },
     "metadata": {},
     "output_type": "display_data"
    },
    {
     "name": "stdout",
     "output_type": "stream",
     "text": [
      "✓ Decision Tree saved for split 90:10 → output/split_ratios_graphviz\\tree_90_10.png\n"
     ]
    }
   ],
   "source": [
    "export_and_display_decision_trees(list_models, split_ratios, features_name, class_names)"
   ]
  },
  {
   "cell_type": "markdown",
   "metadata": {},
   "source": [
    "# **4. Evaluating the decision tree classifiers**\n",
    "\n",
    "## **4.1 Visualize confusion matrix and classification report**\n"
   ]
  },
  {
   "cell_type": "code",
   "execution_count": 92,
   "metadata": {},
   "outputs": [],
   "source": [
    "def evaluate_and_visualize_models(models, datasets, split_ratios, save_dir=\"output/report/split_ratios_ver\"):\n",
    "    \"\"\"\n",
    "    Đánh giá danh sách mô hình và trực quan hóa classification report + confusion matrix.\n",
    "    Lưu kết quả dưới dạng ảnh PNG, tránh lỗi khi mô hình chỉ dự đoán 1 class.\n",
    "\n",
    "    Args:\n",
    "        models (list): Các mô hình đã huấn luyện.\n",
    "        datasets (list): Danh sách dict chứa X_test, y_test,...\n",
    "        split_ratios (list): Danh sách các tỷ lệ chia train/test.\n",
    "        save_dir (str): Thư mục lưu ảnh đánh giá.\n",
    "    \"\"\"\n",
    "    os.makedirs(save_dir, exist_ok=True)\n",
    "\n",
    "    for model, data, (train_ratio, test_ratio) in zip(models, datasets, split_ratios):\n",
    "        X_test = data['X_test']\n",
    "        y_test = data['y_test']\n",
    "        y_pred = model.predict(X_test)\n",
    "\n",
    "        # Tạo classification report dưới dạng text + dict\n",
    "        report_text = classification_report(y_test, y_pred, digits=4, zero_division=1)\n",
    "        report_dict = classification_report(y_test, y_pred, digits=4, zero_division=1, output_dict=True)\n",
    "\n",
    "        matrix = confusion_matrix(y_test, y_pred)\n",
    "\n",
    "        # ==== Vẽ hình ==== \n",
    "        fig = plt.figure(figsize=(15, 8))\n",
    "\n",
    "        # --- Vẽ bảng classification report ---\n",
    "        plt.subplot(1, 2, 1)\n",
    "\n",
    "        # Lấy các lớp thực tế được dự đoán\n",
    "        label_keys = [key for key in report_dict.keys() if key not in ['accuracy', 'macro avg', 'weighted avg']]\n",
    "        if len(label_keys) < 1:\n",
    "            print(f\"⚠️ Report bị thiếu nhãn! Bỏ qua split {train_ratio}:{test_ratio}\")\n",
    "            continue\n",
    "\n",
    "        class_labels = label_keys\n",
    "        data = [[\n",
    "            f\"{report_dict[label]['precision']:.4f}\",\n",
    "            f\"{report_dict[label]['recall']:.4f}\",\n",
    "            f\"{report_dict[label]['f1-score']:.4f}\",\n",
    "            f\"{int(report_dict[label]['support'])}\"\n",
    "        ] for label in class_labels]\n",
    "\n",
    "        stat_labels = [\"accuracy\", \"macro avg\", \"weighted avg\"]\n",
    "        stat_data = []\n",
    "\n",
    "        # accuracy (special case)\n",
    "        stat_data.append([\" \", \" \", f\"{report_dict['accuracy']:.4f}\", \" \"])\n",
    "\n",
    "        for label in [\"macro avg\", \"weighted avg\"]:\n",
    "            values = report_dict.get(label)\n",
    "            if values:\n",
    "                stat_data.append([\n",
    "                    f\"{values['precision']:.4f}\",\n",
    "                    f\"{values['recall']:.4f}\",\n",
    "                    f\"{values['f1-score']:.4f}\",\n",
    "                    f\"{int(values['support'])}\"\n",
    "                ])\n",
    "\n",
    "        tbl = plt.table(\n",
    "            cellText=data,\n",
    "            colLabels=[\"Precision\", \"Recall\", \"F1-score\", \"Support\"],\n",
    "            rowLabels=class_labels,\n",
    "            loc='center',\n",
    "            cellLoc='center',\n",
    "            bbox=[0.2, 0.45, 0.6, 0.4]\n",
    "        )\n",
    "        tbl.auto_set_font_size(False)\n",
    "        tbl.set_fontsize(10)\n",
    "\n",
    "        stat_tbl = plt.table(\n",
    "            cellText=stat_data,\n",
    "            rowLabels=stat_labels,\n",
    "            cellLoc='center',\n",
    "            bbox=[0.3, 0.02, 0.5, 0.35]\n",
    "        )\n",
    "        stat_tbl.auto_set_font_size(False)\n",
    "        stat_tbl.set_fontsize(10)\n",
    "\n",
    "        for table in [tbl, stat_tbl]:\n",
    "            for cell in table.get_celld().values():\n",
    "                cell.set_edgecolor(\"white\")\n",
    "                cell.set_text_props(ha=\"center\", va=\"center\")\n",
    "                cell.set_height(0.1)\n",
    "\n",
    "        plt.axis(\"off\")\n",
    "        plt.title(\"Classification Report\")\n",
    "\n",
    "        # --- Vẽ heatmap Confusion Matrix ---\n",
    "        plt.subplot(1, 2, 2)\n",
    "        sns.heatmap(matrix,\n",
    "                    annot=True,\n",
    "                    fmt=\"d\",\n",
    "                    cmap=\"magma\",\n",
    "                    xticklabels=model.classes_,\n",
    "                    yticklabels=model.classes_,\n",
    "                    cbar=True,\n",
    "                    linewidths=0)\n",
    "        plt.xlabel(\"Predicted\")\n",
    "        plt.ylabel(\"True\")\n",
    "        plt.title(\"Confusion Matrix\")\n",
    "\n",
    "        plt.suptitle(f\"Decision Tree - Split {int(train_ratio*100)}% / {int(test_ratio*100)}%\", fontsize=16)\n",
    "        plt.tight_layout(rect=[0, 0.03, 1, 0.95])\n",
    "\n",
    "        # Lưu hình\n",
    "        file_path = os.path.join(save_dir, f\"report_model_{int(train_ratio*100)}_{int(test_ratio*100)}.png\")\n",
    "        plt.savefig(file_path)\n",
    "        plt.show()\n",
    "\n",
    "        print(f\"✓ Evaluation saved: {file_path}\")"
   ]
  },
  {
   "cell_type": "code",
   "execution_count": 93,
   "metadata": {},
   "outputs": [
    {
     "data": {
      "image/png": "[encoded data removed]",
      "text/plain": [
       "<Figure size 1500x800 with 3 Axes>"
      ]
     },
     "metadata": {},
     "output_type": "display_data"
    },
    {
     "name": "stdout",
     "output_type": "stream",
     "text": [
      "✓ Evaluation saved: output/report/split_ratios_ver\\report_model_40_60.png\n"
     ]
    },
    {
     "data": {
      "image/png": "[encoded data removed]",
      "text/plain": [
       "<Figure size 1500x800 with 3 Axes>"
      ]
     },
     "metadata": {},
     "output_type": "display_data"
    },
    {
     "name": "stdout",
     "output_type": "stream",
     "text": [
      "✓ Evaluation saved: output/report/split_ratios_ver\\report_model_60_40.png\n"
     ]
    },
    {
     "data": {
      "image/png": "[encoded data removed]",
      "text/plain": [
       "<Figure size 1500x800 with 3 Axes>"
      ]
     },
     "metadata": {},
     "output_type": "display_data"
    },
    {
     "name": "stdout",
     "output_type": "stream",
     "text": [
      "✓ Evaluation saved: output/report/split_ratios_ver\\report_model_80_20.png\n"
     ]
    },
    {
     "data": {
      "image/png": "[encoded data removed]",
      "text/plain": [
       "<Figure size 1500x800 with 3 Axes>"
      ]
     },
     "metadata": {},
     "output_type": "display_data"
    },
    {
     "name": "stdout",
     "output_type": "stream",
     "text": [
      "✓ Evaluation saved: output/report/split_ratios_ver\\report_model_90_10.png\n"
     ]
    }
   ],
   "source": [
    "evaluate_and_visualize_models(list_models, datasets, split_ratios)"
   ]
  },
  {
   "cell_type": "markdown",
   "metadata": {},
   "source": [
    "# **5. The depth and accuracy of a decision tree**\n"
   ]
  },
  {
   "cell_type": "markdown",
   "metadata": {},
   "source": [
    "## **5.1 Training model with max depth of decision tree**\n"
   ]
  },
  {
   "cell_type": "code",
   "execution_count": 94,
   "metadata": {},
   "outputs": [],
   "source": [
    "def train_decision_trees_by_depth(datasets, depth_list, save_dir=\"model/max_depth_ver\"):\n",
    "    \"\"\"\n",
    "    Huấn luyện các mô hình Decision Tree với nhiều giá trị độ sâu khác nhau (max_depth)\n",
    "    và đánh giá độ chính xác trên tập kiểm tra.\n",
    "\n",
    "    Args:\n",
    "        datasets (tuple): Bộ dữ liệu train/test (feature_train, feature_test, label_train, label_test).\n",
    "        depth_list (list): Danh sách các giá trị max_depth cần thử nghiệm.\n",
    "        save_dir (str): Đường dẫn thư mục lưu mô hình và file kết quả.\n",
    "\n",
    "    Returns:\n",
    "        tuple:\n",
    "            - trained_models (list): Các mô hình huấn luyện.\n",
    "            - accuracy_by_depth (dict): Ánh xạ từ max_depth sang độ chính xác.\n",
    "    \"\"\"\n",
    "    os.makedirs(save_dir, exist_ok=True)\n",
    "\n",
    "    # Tách dữ liệu 80/20\n",
    "    X_train = datasets[2][\"X_train\"]\n",
    "    X_test = datasets[2][\"X_test\"]\n",
    "    y_train = datasets[2][\"y_train\"]\n",
    "    y_test = datasets[2][\"y_test\"]\n",
    "\n",
    "    trained_models = []\n",
    "    accuracy_by_depth = {}\n",
    "\n",
    "    for depth in depth_list:\n",
    "        # Huấn luyện mô hình\n",
    "        clf = DecisionTreeClassifier(\n",
    "            criterion=\"entropy\",\n",
    "            max_depth=depth,\n",
    "            random_state=42\n",
    "        )\n",
    "        clf.fit(X_train, y_train)\n",
    "        trained_models.append(clf)\n",
    "\n",
    "        # Đánh giá độ chính xác\n",
    "        y_pred = clf.predict(X_test)\n",
    "        accuracy = accuracy_score(y_test, y_pred)\n",
    "        accuracy_by_depth[depth] = accuracy\n",
    "\n",
    "        # Lưu mô hình\n",
    "        model_path = os.path.join(save_dir, f\"decision_tree_depth_{depth}.pkl\")\n",
    "        joblib.dump(clf, model_path)\n",
    "        print(f\"✓ Model saved: {model_path}\")\n",
    "\n",
    "    # ===== Lưu kết quả accuracy ra CSV =====\n",
    "    result_df = pd.DataFrame({\n",
    "        \"max_depth\": [\"None\" if d is None else d for d in accuracy_by_depth.keys()],\n",
    "        \"accuracy\": list(accuracy_by_depth.values())\n",
    "    })\n",
    "    result_csv_path = os.path.join(save_dir, \"accuracy_by_depth.csv\")\n",
    "    result_df.to_csv(result_csv_path, index=False)\n",
    "    print(f\"✓ Accuracy results saved to: {result_csv_path}\")\n",
    "\n",
    "    return trained_models, accuracy_by_depth"
   ]
  },
  {
   "cell_type": "code",
   "execution_count": 95,
   "metadata": {},
   "outputs": [
    {
     "name": "stdout",
     "output_type": "stream",
     "text": [
      "✓ Model saved: model/max_depth_ver\\decision_tree_depth_None.pkl\n",
      "✓ Model saved: model/max_depth_ver\\decision_tree_depth_1.pkl\n",
      "✓ Model saved: model/max_depth_ver\\decision_tree_depth_2.pkl\n",
      "✓ Model saved: model/max_depth_ver\\decision_tree_depth_3.pkl\n",
      "✓ Model saved: model/max_depth_ver\\decision_tree_depth_4.pkl\n",
      "✓ Model saved: model/max_depth_ver\\decision_tree_depth_5.pkl\n",
      "✓ Model saved: model/max_depth_ver\\decision_tree_depth_6.pkl\n",
      "✓ Model saved: model/max_depth_ver\\decision_tree_depth_7.pkl\n",
      "✓ Accuracy results saved to: model/max_depth_ver\\accuracy_by_depth.csv\n"
     ]
    }
   ],
   "source": [
    "list_max_depth = [None, 1, 2, 3, 4, 5, 6, 7]\n",
    "list_max_depth_model, accuracy_results = train_decision_trees_by_depth(\n",
    "    datasets, list_max_depth\n",
    ")"
   ]
  },
  {
   "cell_type": "markdown",
   "metadata": {},
   "source": [
    "## **5.2 Visualize decision trees with each `max_depth` value.**\n"
   ]
  },
  {
   "cell_type": "code",
   "execution_count": 96,
   "metadata": {},
   "outputs": [],
   "source": [
    "def export_and_display_trees_by_depth(models, depth_list, feature_names, class_labels, save_dir=\"output/max_depth_graphviz\"):\n",
    "    \"\"\"\n",
    "    Trực quan hóa và lưu các cây quyết định tương ứng với các giá trị max_depth khác nhau.\n",
    "\n",
    "    Args:\n",
    "        models (list): Danh sách các mô hình DecisionTreeClassifier đã huấn luyện.\n",
    "        depth_list (list): Danh sách các giá trị max_depth được sử dụng.\n",
    "        feature_names (list): Tên các đặc trưng được sử dụng trong mô hình.\n",
    "        class_labels (list): Tên các lớp tương ứng với nhãn đầu ra.\n",
    "        save_dir (str): Thư mục để lưu các biểu đồ cây dưới dạng PNG.\n",
    "    \"\"\"\n",
    "    os.makedirs(save_dir, exist_ok=True)\n",
    "\n",
    "    for model, depth in zip(models, depth_list):\n",
    "        # Chuyển cây thành định dạng DOT\n",
    "        dot = export_graphviz(\n",
    "            model,\n",
    "            feature_names=feature_names,\n",
    "            class_names=class_labels,\n",
    "            filled=True,\n",
    "            rounded=True,\n",
    "            special_characters=True\n",
    "        )\n",
    "\n",
    "        # Tạo đối tượng Graphviz\n",
    "        tree_graph = graphviz.Source(dot)\n",
    "        tree_graph.engine = \"dot\"\n",
    "\n",
    "        # Tên file lưu\n",
    "        filename = f\"graph_model_80_20_depth_{depth}\"\n",
    "        filepath = os.path.join(save_dir, filename)\n",
    "\n",
    "        # Xuất file PNG\n",
    "        tree_graph.render(filepath, format=\"png\", cleanup=True)\n",
    "\n",
    "        # Hiển thị trực tiếp trong notebook (nếu có)\n",
    "        display(tree_graph)\n",
    "\n",
    "        # Thông báo hoàn tất\n",
    "        print(f\"✓ Decision tree (depth={depth}) visualized and saved to {filepath}.png\")"
   ]
  },
  {
   "cell_type": "code",
   "execution_count": 97,
   "metadata": {},
   "outputs": [
    {
     "data": {
      "image/svg+xml": [
       "<?xml version=\"1.0\" encoding=\"UTF-8\" standalone=\"no\"?>\n",
       "<!DOCTYPE svg PUBLIC \"-//W3C//DTD SVG 1.1//EN\"\n",
       " \"http://www.w3.org/Graphics/SVG/1.1/DTD/svg11.dtd\">\n",
       "<!-- Generated by graphviz version 12.2.1 (20241206.2353)\n",
       " -->\n",
       "<!-- Title: Tree Pages: 1 -->\n",
       "<svg width=\"466pt\" height=\"447pt\"\n",
       " viewBox=\"0.00 0.00 466.00 447.25\" xmlns=\"http://www.w3.org/2000/svg\" xmlns:xlink=\"http://www.w3.org/1999/xlink\">\n",
       "<g id=\"graph0\" class=\"graph\" transform=\"scale(1 1) rotate(0) translate(4 443.25)\">\n",
       "<title>Tree</title>\n",
       "<polygon fill=\"white\" stroke=\"none\" points=\"-4,4 -4,-443.25 462,-443.25 462,4 -4,4\"/>\n",
       "<!-- 0 -->\n",
       "<g id=\"node1\" class=\"node\">\n",
       "<title>0</title>\n",
       "<path fill=\"#85c3ef\" stroke=\"black\" d=\"M400.5,-439.25C400.5,-439.25 210.5,-439.25 210.5,-439.25 204.5,-439.25 198.5,-433.25 198.5,-427.25 198.5,-427.25 198.5,-364.5 198.5,-364.5 198.5,-358.5 204.5,-352.5 210.5,-352.5 210.5,-352.5 400.5,-352.5 400.5,-352.5 406.5,-352.5 412.5,-358.5 412.5,-364.5 412.5,-364.5 412.5,-427.25 412.5,-427.25 412.5,-433.25 406.5,-439.25 400.5,-439.25\"/>\n",
       "<text text-anchor=\"start\" x=\"251.5\" y=\"-421.95\" font-family=\"Helvetica,sans-Serif\" font-size=\"14.00\">class_unacc ≤ 0.5</text>\n",
       "<text text-anchor=\"start\" x=\"258.25\" y=\"-406.2\" font-family=\"Helvetica,sans-Serif\" font-size=\"14.00\">entropy = 1.206</text>\n",
       "<text text-anchor=\"start\" x=\"257.12\" y=\"-390.45\" font-family=\"Helvetica,sans-Serif\" font-size=\"14.00\">samples = 1381</text>\n",
       "<text text-anchor=\"start\" x=\"206.5\" y=\"-374.7\" font-family=\"Helvetica,sans-Serif\" font-size=\"14.00\">value = [307.0, 55.0, 967.0, 52.0]</text>\n",
       "<text text-anchor=\"start\" x=\"267.25\" y=\"-358.95\" font-family=\"Helvetica,sans-Serif\" font-size=\"14.00\">class = good</text>\n",
       "</g>\n",
       "<!-- 1 -->\n",
       "<g id=\"node2\" class=\"node\">\n",
       "<title>1</title>\n",
       "<path fill=\"#eda774\" stroke=\"black\" d=\"M288.5,-316.5C288.5,-316.5 158.5,-316.5 158.5,-316.5 152.5,-316.5 146.5,-310.5 146.5,-304.5 146.5,-304.5 146.5,-241.75 146.5,-241.75 146.5,-235.75 152.5,-229.75 158.5,-229.75 158.5,-229.75 288.5,-229.75 288.5,-229.75 294.5,-229.75 300.5,-235.75 300.5,-241.75 300.5,-241.75 300.5,-304.5 300.5,-304.5 300.5,-310.5 294.5,-316.5 288.5,-316.5\"/>\n",
       "<text text-anchor=\"start\" x=\"172.5\" y=\"-299.2\" font-family=\"Helvetica,sans-Serif\" font-size=\"14.00\">class_good ≤ 0.5</text>\n",
       "<text text-anchor=\"start\" x=\"176.25\" y=\"-283.45\" font-family=\"Helvetica,sans-Serif\" font-size=\"14.00\">entropy = 1.083</text>\n",
       "<text text-anchor=\"start\" x=\"178.88\" y=\"-267.7\" font-family=\"Helvetica,sans-Serif\" font-size=\"14.00\">samples = 414</text>\n",
       "<text text-anchor=\"start\" x=\"154.5\" y=\"-251.95\" font-family=\"Helvetica,sans-Serif\" font-size=\"14.00\">value = [307, 55, 0, 52]</text>\n",
       "<text text-anchor=\"start\" x=\"182.25\" y=\"-236.2\" font-family=\"Helvetica,sans-Serif\" font-size=\"14.00\">class = unacc</text>\n",
       "</g>\n",
       "<!-- 0&#45;&gt;1 -->\n",
       "<g id=\"edge1\" class=\"edge\">\n",
       "<title>0&#45;&gt;1</title>\n",
       "<path fill=\"none\" stroke=\"black\" d=\"M276.59,-352.3C270.83,-343.83 264.73,-334.84 258.79,-326.08\"/>\n",
       "<polygon fill=\"black\" stroke=\"black\" points=\"261.79,-324.28 253.28,-317.97 256,-328.21 261.79,-324.28\"/>\n",
       "<text text-anchor=\"middle\" x=\"247.73\" y=\"-335.85\" font-family=\"Helvetica,sans-Serif\" font-size=\"14.00\">True</text>\n",
       "</g>\n",
       "<!-- 6 -->\n",
       "<g id=\"node7\" class=\"node\">\n",
       "<title>6</title>\n",
       "<path fill=\"#399de5\" stroke=\"black\" d=\"M446,-308.62C446,-308.62 331,-308.62 331,-308.62 325,-308.62 319,-302.62 319,-296.62 319,-296.62 319,-249.62 319,-249.62 319,-243.62 325,-237.62 331,-237.62 331,-237.62 446,-237.62 446,-237.62 452,-237.62 458,-243.62 458,-249.62 458,-249.62 458,-296.62 458,-296.62 458,-302.62 452,-308.62 446,-308.62\"/>\n",
       "<text text-anchor=\"start\" x=\"348.75\" y=\"-291.32\" font-family=\"Helvetica,sans-Serif\" font-size=\"14.00\">entropy = 0.0</text>\n",
       "<text text-anchor=\"start\" x=\"343.88\" y=\"-275.57\" font-family=\"Helvetica,sans-Serif\" font-size=\"14.00\">samples = 967</text>\n",
       "<text text-anchor=\"start\" x=\"327\" y=\"-259.82\" font-family=\"Helvetica,sans-Serif\" font-size=\"14.00\">value = [0, 0, 967, 0]</text>\n",
       "<text text-anchor=\"start\" x=\"350.25\" y=\"-244.07\" font-family=\"Helvetica,sans-Serif\" font-size=\"14.00\">class = good</text>\n",
       "</g>\n",
       "<!-- 0&#45;&gt;6 -->\n",
       "<g id=\"edge6\" class=\"edge\">\n",
       "<title>0&#45;&gt;6</title>\n",
       "<path fill=\"none\" stroke=\"black\" d=\"M334.76,-352.3C342.42,-341.16 350.69,-329.14 358.39,-317.93\"/>\n",
       "<polygon fill=\"black\" stroke=\"black\" points=\"361.06,-320.22 363.84,-310 355.29,-316.26 361.06,-320.22\"/>\n",
       "<text text-anchor=\"middle\" x=\"369.25\" y=\"-327.91\" font-family=\"Helvetica,sans-Serif\" font-size=\"14.00\">False</text>\n",
       "</g>\n",
       "<!-- 2 -->\n",
       "<g id=\"node3\" class=\"node\">\n",
       "<title>2</title>\n",
       "<path fill=\"#e9965b\" stroke=\"black\" d=\"M206.75,-193.75C206.75,-193.75 84.25,-193.75 84.25,-193.75 78.25,-193.75 72.25,-187.75 72.25,-181.75 72.25,-181.75 72.25,-119 72.25,-119 72.25,-113 78.25,-107 84.25,-107 84.25,-107 206.75,-107 206.75,-107 212.75,-107 218.75,-113 218.75,-119 218.75,-119 218.75,-181.75 218.75,-181.75 218.75,-187.75 212.75,-193.75 206.75,-193.75\"/>\n",
       "<text text-anchor=\"start\" x=\"91.12\" y=\"-176.45\" font-family=\"Helvetica,sans-Serif\" font-size=\"14.00\">class_vgood ≤ 0.5</text>\n",
       "<text text-anchor=\"start\" x=\"98.25\" y=\"-160.7\" font-family=\"Helvetica,sans-Serif\" font-size=\"14.00\">entropy = 0.597</text>\n",
       "<text text-anchor=\"start\" x=\"100.88\" y=\"-144.95\" font-family=\"Helvetica,sans-Serif\" font-size=\"14.00\">samples = 359</text>\n",
       "<text text-anchor=\"start\" x=\"80.25\" y=\"-129.2\" font-family=\"Helvetica,sans-Serif\" font-size=\"14.00\">value = [307, 0, 0, 52]</text>\n",
       "<text text-anchor=\"start\" x=\"104.25\" y=\"-113.45\" font-family=\"Helvetica,sans-Serif\" font-size=\"14.00\">class = unacc</text>\n",
       "</g>\n",
       "<!-- 1&#45;&gt;2 -->\n",
       "<g id=\"edge2\" class=\"edge\">\n",
       "<title>1&#45;&gt;2</title>\n",
       "<path fill=\"none\" stroke=\"black\" d=\"M196,-229.55C190.58,-221.17 184.84,-212.28 179.24,-203.61\"/>\n",
       "<polygon fill=\"black\" stroke=\"black\" points=\"182.2,-201.74 173.84,-195.24 176.32,-205.54 182.2,-201.74\"/>\n",
       "</g>\n",
       "<!-- 5 -->\n",
       "<g id=\"node6\" class=\"node\">\n",
       "<title>5</title>\n",
       "<path fill=\"#47e539\" stroke=\"black\" d=\"M356.25,-185.88C356.25,-185.88 248.75,-185.88 248.75,-185.88 242.75,-185.88 236.75,-179.88 236.75,-173.88 236.75,-173.88 236.75,-126.88 236.75,-126.88 236.75,-120.88 242.75,-114.88 248.75,-114.88 248.75,-114.88 356.25,-114.88 356.25,-114.88 362.25,-114.88 368.25,-120.88 368.25,-126.88 368.25,-126.88 368.25,-173.88 368.25,-173.88 368.25,-179.88 362.25,-185.88 356.25,-185.88\"/>\n",
       "<text text-anchor=\"start\" x=\"262.75\" y=\"-168.57\" font-family=\"Helvetica,sans-Serif\" font-size=\"14.00\">entropy = 0.0</text>\n",
       "<text text-anchor=\"start\" x=\"261.62\" y=\"-152.82\" font-family=\"Helvetica,sans-Serif\" font-size=\"14.00\">samples = 55</text>\n",
       "<text text-anchor=\"start\" x=\"244.75\" y=\"-137.07\" font-family=\"Helvetica,sans-Serif\" font-size=\"14.00\">value = [0, 55, 0, 0]</text>\n",
       "<text text-anchor=\"start\" x=\"268.75\" y=\"-121.33\" font-family=\"Helvetica,sans-Serif\" font-size=\"14.00\">class = acc</text>\n",
       "</g>\n",
       "<!-- 1&#45;&gt;5 -->\n",
       "<g id=\"edge5\" class=\"edge\">\n",
       "<title>1&#45;&gt;5</title>\n",
       "<path fill=\"none\" stroke=\"black\" d=\"M251.35,-229.55C258.57,-218.52 266.35,-206.63 273.62,-195.52\"/>\n",
       "<polygon fill=\"black\" stroke=\"black\" points=\"276.47,-197.55 279.02,-187.27 270.61,-193.72 276.47,-197.55\"/>\n",
       "</g>\n",
       "<!-- 3 -->\n",
       "<g id=\"node4\" class=\"node\">\n",
       "<title>3</title>\n",
       "<path fill=\"#e58139\" stroke=\"black\" d=\"M127,-71C127,-71 12,-71 12,-71 6,-71 0,-65 0,-59 0,-59 0,-12 0,-12 0,-6 6,0 12,0 12,0 127,0 127,0 133,0 139,-6 139,-12 139,-12 139,-59 139,-59 139,-65 133,-71 127,-71\"/>\n",
       "<text text-anchor=\"start\" x=\"29.75\" y=\"-53.7\" font-family=\"Helvetica,sans-Serif\" font-size=\"14.00\">entropy = 0.0</text>\n",
       "<text text-anchor=\"start\" x=\"24.88\" y=\"-37.95\" font-family=\"Helvetica,sans-Serif\" font-size=\"14.00\">samples = 307</text>\n",
       "<text text-anchor=\"start\" x=\"8\" y=\"-22.2\" font-family=\"Helvetica,sans-Serif\" font-size=\"14.00\">value = [307, 0, 0, 0]</text>\n",
       "<text text-anchor=\"start\" x=\"28.25\" y=\"-6.45\" font-family=\"Helvetica,sans-Serif\" font-size=\"14.00\">class = unacc</text>\n",
       "</g>\n",
       "<!-- 2&#45;&gt;3 -->\n",
       "<g id=\"edge3\" class=\"edge\">\n",
       "<title>2&#45;&gt;3</title>\n",
       "<path fill=\"none\" stroke=\"black\" d=\"M116.77,-106.7C111.03,-98.17 104.98,-89.2 99.21,-80.62\"/>\n",
       "<polygon fill=\"black\" stroke=\"black\" points=\"102.17,-78.75 93.68,-72.41 96.36,-82.66 102.17,-78.75\"/>\n",
       "</g>\n",
       "<!-- 4 -->\n",
       "<g id=\"node5\" class=\"node\">\n",
       "<title>4</title>\n",
       "<path fill=\"#d739e5\" stroke=\"black\" d=\"M276.25,-71C276.25,-71 168.75,-71 168.75,-71 162.75,-71 156.75,-65 156.75,-59 156.75,-59 156.75,-12 156.75,-12 156.75,-6 162.75,0 168.75,0 168.75,0 276.25,0 276.25,0 282.25,0 288.25,-6 288.25,-12 288.25,-12 288.25,-59 288.25,-59 288.25,-65 282.25,-71 276.25,-71\"/>\n",
       "<text text-anchor=\"start\" x=\"182.75\" y=\"-53.7\" font-family=\"Helvetica,sans-Serif\" font-size=\"14.00\">entropy = 0.0</text>\n",
       "<text text-anchor=\"start\" x=\"181.62\" y=\"-37.95\" font-family=\"Helvetica,sans-Serif\" font-size=\"14.00\">samples = 52</text>\n",
       "<text text-anchor=\"start\" x=\"164.75\" y=\"-22.2\" font-family=\"Helvetica,sans-Serif\" font-size=\"14.00\">value = [0, 0, 0, 52]</text>\n",
       "<text text-anchor=\"start\" x=\"180.88\" y=\"-6.45\" font-family=\"Helvetica,sans-Serif\" font-size=\"14.00\">class = vgood</text>\n",
       "</g>\n",
       "<!-- 2&#45;&gt;4 -->\n",
       "<g id=\"edge4\" class=\"edge\">\n",
       "<title>2&#45;&gt;4</title>\n",
       "<path fill=\"none\" stroke=\"black\" d=\"M174.61,-106.7C180.43,-98.17 186.55,-89.2 192.4,-80.62\"/>\n",
       "<polygon fill=\"black\" stroke=\"black\" points=\"195.26,-82.64 198,-72.41 189.48,-78.7 195.26,-82.64\"/>\n",
       "</g>\n",
       "</g>\n",
       "</svg>\n"
      ],
      "text/plain": [
       "<graphviz.sources.Source at 0x2515f3db650>"
      ]
     },
     "metadata": {},
     "output_type": "display_data"
    },
    {
     "name": "stdout",
     "output_type": "stream",
     "text": [
      "✓ Decision tree (depth=None) visualized and saved to output/max_depth_graphviz\\graph_model_80_20_depth_None.png\n"
     ]
    },
    {
     "data": {
      "image/svg+xml": [
       "<?xml version=\"1.0\" encoding=\"UTF-8\" standalone=\"no\"?>\n",
       "<!DOCTYPE svg PUBLIC \"-//W3C//DTD SVG 1.1//EN\"\n",
       " \"http://www.w3.org/Graphics/SVG/1.1/DTD/svg11.dtd\">\n",
       "<!-- Generated by graphviz version 12.2.1 (20241206.2353)\n",
       " -->\n",
       "<!-- Title: Tree Pages: 1 -->\n",
       "<svg width=\"320pt\" height=\"202pt\"\n",
       " viewBox=\"0.00 0.00 319.50 201.75\" xmlns=\"http://www.w3.org/2000/svg\" xmlns:xlink=\"http://www.w3.org/1999/xlink\">\n",
       "<g id=\"graph0\" class=\"graph\" transform=\"scale(1 1) rotate(0) translate(4 197.75)\">\n",
       "<title>Tree</title>\n",
       "<polygon fill=\"white\" stroke=\"none\" points=\"-4,4 -4,-197.75 315.5,-197.75 315.5,4 -4,4\"/>\n",
       "<!-- 0 -->\n",
       "<g id=\"node1\" class=\"node\">\n",
       "<title>0</title>\n",
       "<path fill=\"#85c3ef\" stroke=\"black\" d=\"M254,-193.75C254,-193.75 64,-193.75 64,-193.75 58,-193.75 52,-187.75 52,-181.75 52,-181.75 52,-119 52,-119 52,-113 58,-107 64,-107 64,-107 254,-107 254,-107 260,-107 266,-113 266,-119 266,-119 266,-181.75 266,-181.75 266,-187.75 260,-193.75 254,-193.75\"/>\n",
       "<text text-anchor=\"start\" x=\"105\" y=\"-176.45\" font-family=\"Helvetica,sans-Serif\" font-size=\"14.00\">class_unacc ≤ 0.5</text>\n",
       "<text text-anchor=\"start\" x=\"111.75\" y=\"-160.7\" font-family=\"Helvetica,sans-Serif\" font-size=\"14.00\">entropy = 1.206</text>\n",
       "<text text-anchor=\"start\" x=\"110.62\" y=\"-144.95\" font-family=\"Helvetica,sans-Serif\" font-size=\"14.00\">samples = 1381</text>\n",
       "<text text-anchor=\"start\" x=\"60\" y=\"-129.2\" font-family=\"Helvetica,sans-Serif\" font-size=\"14.00\">value = [307.0, 55.0, 967.0, 52.0]</text>\n",
       "<text text-anchor=\"start\" x=\"120.75\" y=\"-113.45\" font-family=\"Helvetica,sans-Serif\" font-size=\"14.00\">class = good</text>\n",
       "</g>\n",
       "<!-- 1 -->\n",
       "<g id=\"node2\" class=\"node\">\n",
       "<title>1</title>\n",
       "<path fill=\"#eda774\" stroke=\"black\" d=\"M142,-71C142,-71 12,-71 12,-71 6,-71 0,-65 0,-59 0,-59 0,-12 0,-12 0,-6 6,0 12,0 12,0 142,0 142,0 148,0 154,-6 154,-12 154,-12 154,-59 154,-59 154,-65 148,-71 142,-71\"/>\n",
       "<text text-anchor=\"start\" x=\"29.75\" y=\"-53.7\" font-family=\"Helvetica,sans-Serif\" font-size=\"14.00\">entropy = 1.083</text>\n",
       "<text text-anchor=\"start\" x=\"32.38\" y=\"-37.95\" font-family=\"Helvetica,sans-Serif\" font-size=\"14.00\">samples = 414</text>\n",
       "<text text-anchor=\"start\" x=\"8\" y=\"-22.2\" font-family=\"Helvetica,sans-Serif\" font-size=\"14.00\">value = [307, 55, 0, 52]</text>\n",
       "<text text-anchor=\"start\" x=\"35.75\" y=\"-6.45\" font-family=\"Helvetica,sans-Serif\" font-size=\"14.00\">class = unacc</text>\n",
       "</g>\n",
       "<!-- 0&#45;&gt;1 -->\n",
       "<g id=\"edge1\" class=\"edge\">\n",
       "<title>0&#45;&gt;1</title>\n",
       "<path fill=\"none\" stroke=\"black\" d=\"M128,-106.7C121.74,-98.08 115.14,-89.01 108.85,-80.35\"/>\n",
       "<polygon fill=\"black\" stroke=\"black\" points=\"111.78,-78.42 103.07,-72.38 106.11,-82.53 111.78,-78.42\"/>\n",
       "<text text-anchor=\"middle\" x=\"98.27\" y=\"-90.42\" font-family=\"Helvetica,sans-Serif\" font-size=\"14.00\">True</text>\n",
       "</g>\n",
       "<!-- 2 -->\n",
       "<g id=\"node3\" class=\"node\">\n",
       "<title>2</title>\n",
       "<path fill=\"#399de5\" stroke=\"black\" d=\"M299.5,-71C299.5,-71 184.5,-71 184.5,-71 178.5,-71 172.5,-65 172.5,-59 172.5,-59 172.5,-12 172.5,-12 172.5,-6 178.5,0 184.5,0 184.5,0 299.5,0 299.5,0 305.5,0 311.5,-6 311.5,-12 311.5,-12 311.5,-59 311.5,-59 311.5,-65 305.5,-71 299.5,-71\"/>\n",
       "<text text-anchor=\"start\" x=\"202.25\" y=\"-53.7\" font-family=\"Helvetica,sans-Serif\" font-size=\"14.00\">entropy = 0.0</text>\n",
       "<text text-anchor=\"start\" x=\"197.38\" y=\"-37.95\" font-family=\"Helvetica,sans-Serif\" font-size=\"14.00\">samples = 967</text>\n",
       "<text text-anchor=\"start\" x=\"180.5\" y=\"-22.2\" font-family=\"Helvetica,sans-Serif\" font-size=\"14.00\">value = [0, 0, 967, 0]</text>\n",
       "<text text-anchor=\"start\" x=\"203.75\" y=\"-6.45\" font-family=\"Helvetica,sans-Serif\" font-size=\"14.00\">class = good</text>\n",
       "</g>\n",
       "<!-- 0&#45;&gt;2 -->\n",
       "<g id=\"edge2\" class=\"edge\">\n",
       "<title>0&#45;&gt;2</title>\n",
       "<path fill=\"none\" stroke=\"black\" d=\"M190.38,-106.7C196.72,-98.08 203.39,-89.01 209.76,-80.35\"/>\n",
       "<polygon fill=\"black\" stroke=\"black\" points=\"212.51,-82.51 215.62,-72.38 206.88,-78.36 212.51,-82.51\"/>\n",
       "<text text-anchor=\"middle\" x=\"220.28\" y=\"-90.45\" font-family=\"Helvetica,sans-Serif\" font-size=\"14.00\">False</text>\n",
       "</g>\n",
       "</g>\n",
       "</svg>\n"
      ],
      "text/plain": [
       "<graphviz.sources.Source at 0x2515f22e620>"
      ]
     },
     "metadata": {},
     "output_type": "display_data"
    },
    {
     "name": "stdout",
     "output_type": "stream",
     "text": [
      "✓ Decision tree (depth=1) visualized and saved to output/max_depth_graphviz\\graph_model_80_20_depth_1.png\n"
     ]
    },
    {
     "data": {
      "image/svg+xml": [
       "<?xml version=\"1.0\" encoding=\"UTF-8\" standalone=\"no\"?>\n",
       "<!DOCTYPE svg PUBLIC \"-//W3C//DTD SVG 1.1//EN\"\n",
       " \"http://www.w3.org/Graphics/SVG/1.1/DTD/svg11.dtd\">\n",
       "<!-- Generated by graphviz version 12.2.1 (20241206.2353)\n",
       " -->\n",
       "<!-- Title: Tree Pages: 1 -->\n",
       "<svg width=\"394pt\" height=\"325pt\"\n",
       " viewBox=\"0.00 0.00 393.75 324.50\" xmlns=\"http://www.w3.org/2000/svg\" xmlns:xlink=\"http://www.w3.org/1999/xlink\">\n",
       "<g id=\"graph0\" class=\"graph\" transform=\"scale(1 1) rotate(0) translate(4 320.5)\">\n",
       "<title>Tree</title>\n",
       "<polygon fill=\"white\" stroke=\"none\" points=\"-4,4 -4,-320.5 389.75,-320.5 389.75,4 -4,4\"/>\n",
       "<!-- 0 -->\n",
       "<g id=\"node1\" class=\"node\">\n",
       "<title>0</title>\n",
       "<path fill=\"#85c3ef\" stroke=\"black\" d=\"M328.25,-316.5C328.25,-316.5 138.25,-316.5 138.25,-316.5 132.25,-316.5 126.25,-310.5 126.25,-304.5 126.25,-304.5 126.25,-241.75 126.25,-241.75 126.25,-235.75 132.25,-229.75 138.25,-229.75 138.25,-229.75 328.25,-229.75 328.25,-229.75 334.25,-229.75 340.25,-235.75 340.25,-241.75 340.25,-241.75 340.25,-304.5 340.25,-304.5 340.25,-310.5 334.25,-316.5 328.25,-316.5\"/>\n",
       "<text text-anchor=\"start\" x=\"179.25\" y=\"-299.2\" font-family=\"Helvetica,sans-Serif\" font-size=\"14.00\">class_unacc ≤ 0.5</text>\n",
       "<text text-anchor=\"start\" x=\"186\" y=\"-283.45\" font-family=\"Helvetica,sans-Serif\" font-size=\"14.00\">entropy = 1.206</text>\n",
       "<text text-anchor=\"start\" x=\"184.88\" y=\"-267.7\" font-family=\"Helvetica,sans-Serif\" font-size=\"14.00\">samples = 1381</text>\n",
       "<text text-anchor=\"start\" x=\"134.25\" y=\"-251.95\" font-family=\"Helvetica,sans-Serif\" font-size=\"14.00\">value = [307.0, 55.0, 967.0, 52.0]</text>\n",
       "<text text-anchor=\"start\" x=\"195\" y=\"-236.2\" font-family=\"Helvetica,sans-Serif\" font-size=\"14.00\">class = good</text>\n",
       "</g>\n",
       "<!-- 1 -->\n",
       "<g id=\"node2\" class=\"node\">\n",
       "<title>1</title>\n",
       "<path fill=\"#eda774\" stroke=\"black\" d=\"M216.25,-193.75C216.25,-193.75 86.25,-193.75 86.25,-193.75 80.25,-193.75 74.25,-187.75 74.25,-181.75 74.25,-181.75 74.25,-119 74.25,-119 74.25,-113 80.25,-107 86.25,-107 86.25,-107 216.25,-107 216.25,-107 222.25,-107 228.25,-113 228.25,-119 228.25,-119 228.25,-181.75 228.25,-181.75 228.25,-187.75 222.25,-193.75 216.25,-193.75\"/>\n",
       "<text text-anchor=\"start\" x=\"100.25\" y=\"-176.45\" font-family=\"Helvetica,sans-Serif\" font-size=\"14.00\">class_good ≤ 0.5</text>\n",
       "<text text-anchor=\"start\" x=\"104\" y=\"-160.7\" font-family=\"Helvetica,sans-Serif\" font-size=\"14.00\">entropy = 1.083</text>\n",
       "<text text-anchor=\"start\" x=\"106.62\" y=\"-144.95\" font-family=\"Helvetica,sans-Serif\" font-size=\"14.00\">samples = 414</text>\n",
       "<text text-anchor=\"start\" x=\"82.25\" y=\"-129.2\" font-family=\"Helvetica,sans-Serif\" font-size=\"14.00\">value = [307, 55, 0, 52]</text>\n",
       "<text text-anchor=\"start\" x=\"110\" y=\"-113.45\" font-family=\"Helvetica,sans-Serif\" font-size=\"14.00\">class = unacc</text>\n",
       "</g>\n",
       "<!-- 0&#45;&gt;1 -->\n",
       "<g id=\"edge1\" class=\"edge\">\n",
       "<title>0&#45;&gt;1</title>\n",
       "<path fill=\"none\" stroke=\"black\" d=\"M204.34,-229.55C198.58,-221.08 192.48,-212.09 186.54,-203.33\"/>\n",
       "<polygon fill=\"black\" stroke=\"black\" points=\"189.54,-201.53 181.03,-195.22 183.75,-205.46 189.54,-201.53\"/>\n",
       "<text text-anchor=\"middle\" x=\"175.48\" y=\"-213.1\" font-family=\"Helvetica,sans-Serif\" font-size=\"14.00\">True</text>\n",
       "</g>\n",
       "<!-- 4 -->\n",
       "<g id=\"node5\" class=\"node\">\n",
       "<title>4</title>\n",
       "<path fill=\"#399de5\" stroke=\"black\" d=\"M373.75,-185.88C373.75,-185.88 258.75,-185.88 258.75,-185.88 252.75,-185.88 246.75,-179.88 246.75,-173.88 246.75,-173.88 246.75,-126.88 246.75,-126.88 246.75,-120.88 252.75,-114.88 258.75,-114.88 258.75,-114.88 373.75,-114.88 373.75,-114.88 379.75,-114.88 385.75,-120.88 385.75,-126.88 385.75,-126.88 385.75,-173.88 385.75,-173.88 385.75,-179.88 379.75,-185.88 373.75,-185.88\"/>\n",
       "<text text-anchor=\"start\" x=\"276.5\" y=\"-168.57\" font-family=\"Helvetica,sans-Serif\" font-size=\"14.00\">entropy = 0.0</text>\n",
       "<text text-anchor=\"start\" x=\"271.62\" y=\"-152.82\" font-family=\"Helvetica,sans-Serif\" font-size=\"14.00\">samples = 967</text>\n",
       "<text text-anchor=\"start\" x=\"254.75\" y=\"-137.07\" font-family=\"Helvetica,sans-Serif\" font-size=\"14.00\">value = [0, 0, 967, 0]</text>\n",
       "<text text-anchor=\"start\" x=\"278\" y=\"-121.33\" font-family=\"Helvetica,sans-Serif\" font-size=\"14.00\">class = good</text>\n",
       "</g>\n",
       "<!-- 0&#45;&gt;4 -->\n",
       "<g id=\"edge4\" class=\"edge\">\n",
       "<title>0&#45;&gt;4</title>\n",
       "<path fill=\"none\" stroke=\"black\" d=\"M262.51,-229.55C270.17,-218.41 278.44,-206.39 286.14,-195.18\"/>\n",
       "<polygon fill=\"black\" stroke=\"black\" points=\"288.81,-197.47 291.59,-187.25 283.04,-193.51 288.81,-197.47\"/>\n",
       "<text text-anchor=\"middle\" x=\"297\" y=\"-205.16\" font-family=\"Helvetica,sans-Serif\" font-size=\"14.00\">False</text>\n",
       "</g>\n",
       "<!-- 2 -->\n",
       "<g id=\"node3\" class=\"node\">\n",
       "<title>2</title>\n",
       "<path fill=\"#e9965b\" stroke=\"black\" d=\"M134.5,-71C134.5,-71 12,-71 12,-71 6,-71 0,-65 0,-59 0,-59 0,-12 0,-12 0,-6 6,0 12,0 12,0 134.5,0 134.5,0 140.5,0 146.5,-6 146.5,-12 146.5,-12 146.5,-59 146.5,-59 146.5,-65 140.5,-71 134.5,-71\"/>\n",
       "<text text-anchor=\"start\" x=\"26\" y=\"-53.7\" font-family=\"Helvetica,sans-Serif\" font-size=\"14.00\">entropy = 0.597</text>\n",
       "<text text-anchor=\"start\" x=\"28.62\" y=\"-37.95\" font-family=\"Helvetica,sans-Serif\" font-size=\"14.00\">samples = 359</text>\n",
       "<text text-anchor=\"start\" x=\"8\" y=\"-22.2\" font-family=\"Helvetica,sans-Serif\" font-size=\"14.00\">value = [307, 0, 0, 52]</text>\n",
       "<text text-anchor=\"start\" x=\"32\" y=\"-6.45\" font-family=\"Helvetica,sans-Serif\" font-size=\"14.00\">class = unacc</text>\n",
       "</g>\n",
       "<!-- 1&#45;&gt;2 -->\n",
       "<g id=\"edge2\" class=\"edge\">\n",
       "<title>1&#45;&gt;2</title>\n",
       "<path fill=\"none\" stroke=\"black\" d=\"M121.76,-106.7C115.87,-98.17 109.67,-89.2 103.74,-80.62\"/>\n",
       "<polygon fill=\"black\" stroke=\"black\" points=\"106.62,-78.64 98.06,-72.4 100.87,-82.62 106.62,-78.64\"/>\n",
       "</g>\n",
       "<!-- 3 -->\n",
       "<g id=\"node4\" class=\"node\">\n",
       "<title>3</title>\n",
       "<path fill=\"#47e539\" stroke=\"black\" d=\"M284,-71C284,-71 176.5,-71 176.5,-71 170.5,-71 164.5,-65 164.5,-59 164.5,-59 164.5,-12 164.5,-12 164.5,-6 170.5,0 176.5,0 176.5,0 284,0 284,0 290,0 296,-6 296,-12 296,-12 296,-59 296,-59 296,-65 290,-71 284,-71\"/>\n",
       "<text text-anchor=\"start\" x=\"190.5\" y=\"-53.7\" font-family=\"Helvetica,sans-Serif\" font-size=\"14.00\">entropy = 0.0</text>\n",
       "<text text-anchor=\"start\" x=\"189.38\" y=\"-37.95\" font-family=\"Helvetica,sans-Serif\" font-size=\"14.00\">samples = 55</text>\n",
       "<text text-anchor=\"start\" x=\"172.5\" y=\"-22.2\" font-family=\"Helvetica,sans-Serif\" font-size=\"14.00\">value = [0, 55, 0, 0]</text>\n",
       "<text text-anchor=\"start\" x=\"196.5\" y=\"-6.45\" font-family=\"Helvetica,sans-Serif\" font-size=\"14.00\">class = acc</text>\n",
       "</g>\n",
       "<!-- 1&#45;&gt;3 -->\n",
       "<g id=\"edge3\" class=\"edge\">\n",
       "<title>1&#45;&gt;3</title>\n",
       "<path fill=\"none\" stroke=\"black\" d=\"M181.12,-106.7C187.15,-98.08 193.5,-89.01 199.56,-80.35\"/>\n",
       "<polygon fill=\"black\" stroke=\"black\" points=\"202.26,-82.6 205.13,-72.4 196.52,-78.58 202.26,-82.6\"/>\n",
       "</g>\n",
       "</g>\n",
       "</svg>\n"
      ],
      "text/plain": [
       "<graphviz.sources.Source at 0x2515f22e570>"
      ]
     },
     "metadata": {},
     "output_type": "display_data"
    },
    {
     "name": "stdout",
     "output_type": "stream",
     "text": [
      "✓ Decision tree (depth=2) visualized and saved to output/max_depth_graphviz\\graph_model_80_20_depth_2.png\n"
     ]
    },
    {
     "data": {
      "image/svg+xml": [
       "<?xml version=\"1.0\" encoding=\"UTF-8\" standalone=\"no\"?>\n",
       "<!DOCTYPE svg PUBLIC \"-//W3C//DTD SVG 1.1//EN\"\n",
       " \"http://www.w3.org/Graphics/SVG/1.1/DTD/svg11.dtd\">\n",
       "<!-- Generated by graphviz version 12.2.1 (20241206.2353)\n",
       " -->\n",
       "<!-- Title: Tree Pages: 1 -->\n",
       "<svg width=\"466pt\" height=\"447pt\"\n",
       " viewBox=\"0.00 0.00 466.00 447.25\" xmlns=\"http://www.w3.org/2000/svg\" xmlns:xlink=\"http://www.w3.org/1999/xlink\">\n",
       "<g id=\"graph0\" class=\"graph\" transform=\"scale(1 1) rotate(0) translate(4 443.25)\">\n",
       "<title>Tree</title>\n",
       "<polygon fill=\"white\" stroke=\"none\" points=\"-4,4 -4,-443.25 462,-443.25 462,4 -4,4\"/>\n",
       "<!-- 0 -->\n",
       "<g id=\"node1\" class=\"node\">\n",
       "<title>0</title>\n",
       "<path fill=\"#85c3ef\" stroke=\"black\" d=\"M400.5,-439.25C400.5,-439.25 210.5,-439.25 210.5,-439.25 204.5,-439.25 198.5,-433.25 198.5,-427.25 198.5,-427.25 198.5,-364.5 198.5,-364.5 198.5,-358.5 204.5,-352.5 210.5,-352.5 210.5,-352.5 400.5,-352.5 400.5,-352.5 406.5,-352.5 412.5,-358.5 412.5,-364.5 412.5,-364.5 412.5,-427.25 412.5,-427.25 412.5,-433.25 406.5,-439.25 400.5,-439.25\"/>\n",
       "<text text-anchor=\"start\" x=\"251.5\" y=\"-421.95\" font-family=\"Helvetica,sans-Serif\" font-size=\"14.00\">class_unacc ≤ 0.5</text>\n",
       "<text text-anchor=\"start\" x=\"258.25\" y=\"-406.2\" font-family=\"Helvetica,sans-Serif\" font-size=\"14.00\">entropy = 1.206</text>\n",
       "<text text-anchor=\"start\" x=\"257.12\" y=\"-390.45\" font-family=\"Helvetica,sans-Serif\" font-size=\"14.00\">samples = 1381</text>\n",
       "<text text-anchor=\"start\" x=\"206.5\" y=\"-374.7\" font-family=\"Helvetica,sans-Serif\" font-size=\"14.00\">value = [307.0, 55.0, 967.0, 52.0]</text>\n",
       "<text text-anchor=\"start\" x=\"267.25\" y=\"-358.95\" font-family=\"Helvetica,sans-Serif\" font-size=\"14.00\">class = good</text>\n",
       "</g>\n",
       "<!-- 1 -->\n",
       "<g id=\"node2\" class=\"node\">\n",
       "<title>1</title>\n",
       "<path fill=\"#eda774\" stroke=\"black\" d=\"M288.5,-316.5C288.5,-316.5 158.5,-316.5 158.5,-316.5 152.5,-316.5 146.5,-310.5 146.5,-304.5 146.5,-304.5 146.5,-241.75 146.5,-241.75 146.5,-235.75 152.5,-229.75 158.5,-229.75 158.5,-229.75 288.5,-229.75 288.5,-229.75 294.5,-229.75 300.5,-235.75 300.5,-241.75 300.5,-241.75 300.5,-304.5 300.5,-304.5 300.5,-310.5 294.5,-316.5 288.5,-316.5\"/>\n",
       "<text text-anchor=\"start\" x=\"172.5\" y=\"-299.2\" font-family=\"Helvetica,sans-Serif\" font-size=\"14.00\">class_good ≤ 0.5</text>\n",
       "<text text-anchor=\"start\" x=\"176.25\" y=\"-283.45\" font-family=\"Helvetica,sans-Serif\" font-size=\"14.00\">entropy = 1.083</text>\n",
       "<text text-anchor=\"start\" x=\"178.88\" y=\"-267.7\" font-family=\"Helvetica,sans-Serif\" font-size=\"14.00\">samples = 414</text>\n",
       "<text text-anchor=\"start\" x=\"154.5\" y=\"-251.95\" font-family=\"Helvetica,sans-Serif\" font-size=\"14.00\">value = [307, 55, 0, 52]</text>\n",
       "<text text-anchor=\"start\" x=\"182.25\" y=\"-236.2\" font-family=\"Helvetica,sans-Serif\" font-size=\"14.00\">class = unacc</text>\n",
       "</g>\n",
       "<!-- 0&#45;&gt;1 -->\n",
       "<g id=\"edge1\" class=\"edge\">\n",
       "<title>0&#45;&gt;1</title>\n",
       "<path fill=\"none\" stroke=\"black\" d=\"M276.59,-352.3C270.83,-343.83 264.73,-334.84 258.79,-326.08\"/>\n",
       "<polygon fill=\"black\" stroke=\"black\" points=\"261.79,-324.28 253.28,-317.97 256,-328.21 261.79,-324.28\"/>\n",
       "<text text-anchor=\"middle\" x=\"247.73\" y=\"-335.85\" font-family=\"Helvetica,sans-Serif\" font-size=\"14.00\">True</text>\n",
       "</g>\n",
       "<!-- 6 -->\n",
       "<g id=\"node7\" class=\"node\">\n",
       "<title>6</title>\n",
       "<path fill=\"#399de5\" stroke=\"black\" d=\"M446,-308.62C446,-308.62 331,-308.62 331,-308.62 325,-308.62 319,-302.62 319,-296.62 319,-296.62 319,-249.62 319,-249.62 319,-243.62 325,-237.62 331,-237.62 331,-237.62 446,-237.62 446,-237.62 452,-237.62 458,-243.62 458,-249.62 458,-249.62 458,-296.62 458,-296.62 458,-302.62 452,-308.62 446,-308.62\"/>\n",
       "<text text-anchor=\"start\" x=\"348.75\" y=\"-291.32\" font-family=\"Helvetica,sans-Serif\" font-size=\"14.00\">entropy = 0.0</text>\n",
       "<text text-anchor=\"start\" x=\"343.88\" y=\"-275.57\" font-family=\"Helvetica,sans-Serif\" font-size=\"14.00\">samples = 967</text>\n",
       "<text text-anchor=\"start\" x=\"327\" y=\"-259.82\" font-family=\"Helvetica,sans-Serif\" font-size=\"14.00\">value = [0, 0, 967, 0]</text>\n",
       "<text text-anchor=\"start\" x=\"350.25\" y=\"-244.07\" font-family=\"Helvetica,sans-Serif\" font-size=\"14.00\">class = good</text>\n",
       "</g>\n",
       "<!-- 0&#45;&gt;6 -->\n",
       "<g id=\"edge6\" class=\"edge\">\n",
       "<title>0&#45;&gt;6</title>\n",
       "<path fill=\"none\" stroke=\"black\" d=\"M334.76,-352.3C342.42,-341.16 350.69,-329.14 358.39,-317.93\"/>\n",
       "<polygon fill=\"black\" stroke=\"black\" points=\"361.06,-320.22 363.84,-310 355.29,-316.26 361.06,-320.22\"/>\n",
       "<text text-anchor=\"middle\" x=\"369.25\" y=\"-327.91\" font-family=\"Helvetica,sans-Serif\" font-size=\"14.00\">False</text>\n",
       "</g>\n",
       "<!-- 2 -->\n",
       "<g id=\"node3\" class=\"node\">\n",
       "<title>2</title>\n",
       "<path fill=\"#e9965b\" stroke=\"black\" d=\"M206.75,-193.75C206.75,-193.75 84.25,-193.75 84.25,-193.75 78.25,-193.75 72.25,-187.75 72.25,-181.75 72.25,-181.75 72.25,-119 72.25,-119 72.25,-113 78.25,-107 84.25,-107 84.25,-107 206.75,-107 206.75,-107 212.75,-107 218.75,-113 218.75,-119 218.75,-119 218.75,-181.75 218.75,-181.75 218.75,-187.75 212.75,-193.75 206.75,-193.75\"/>\n",
       "<text text-anchor=\"start\" x=\"91.12\" y=\"-176.45\" font-family=\"Helvetica,sans-Serif\" font-size=\"14.00\">class_vgood ≤ 0.5</text>\n",
       "<text text-anchor=\"start\" x=\"98.25\" y=\"-160.7\" font-family=\"Helvetica,sans-Serif\" font-size=\"14.00\">entropy = 0.597</text>\n",
       "<text text-anchor=\"start\" x=\"100.88\" y=\"-144.95\" font-family=\"Helvetica,sans-Serif\" font-size=\"14.00\">samples = 359</text>\n",
       "<text text-anchor=\"start\" x=\"80.25\" y=\"-129.2\" font-family=\"Helvetica,sans-Serif\" font-size=\"14.00\">value = [307, 0, 0, 52]</text>\n",
       "<text text-anchor=\"start\" x=\"104.25\" y=\"-113.45\" font-family=\"Helvetica,sans-Serif\" font-size=\"14.00\">class = unacc</text>\n",
       "</g>\n",
       "<!-- 1&#45;&gt;2 -->\n",
       "<g id=\"edge2\" class=\"edge\">\n",
       "<title>1&#45;&gt;2</title>\n",
       "<path fill=\"none\" stroke=\"black\" d=\"M196,-229.55C190.58,-221.17 184.84,-212.28 179.24,-203.61\"/>\n",
       "<polygon fill=\"black\" stroke=\"black\" points=\"182.2,-201.74 173.84,-195.24 176.32,-205.54 182.2,-201.74\"/>\n",
       "</g>\n",
       "<!-- 5 -->\n",
       "<g id=\"node6\" class=\"node\">\n",
       "<title>5</title>\n",
       "<path fill=\"#47e539\" stroke=\"black\" d=\"M356.25,-185.88C356.25,-185.88 248.75,-185.88 248.75,-185.88 242.75,-185.88 236.75,-179.88 236.75,-173.88 236.75,-173.88 236.75,-126.88 236.75,-126.88 236.75,-120.88 242.75,-114.88 248.75,-114.88 248.75,-114.88 356.25,-114.88 356.25,-114.88 362.25,-114.88 368.25,-120.88 368.25,-126.88 368.25,-126.88 368.25,-173.88 368.25,-173.88 368.25,-179.88 362.25,-185.88 356.25,-185.88\"/>\n",
       "<text text-anchor=\"start\" x=\"262.75\" y=\"-168.57\" font-family=\"Helvetica,sans-Serif\" font-size=\"14.00\">entropy = 0.0</text>\n",
       "<text text-anchor=\"start\" x=\"261.62\" y=\"-152.82\" font-family=\"Helvetica,sans-Serif\" font-size=\"14.00\">samples = 55</text>\n",
       "<text text-anchor=\"start\" x=\"244.75\" y=\"-137.07\" font-family=\"Helvetica,sans-Serif\" font-size=\"14.00\">value = [0, 55, 0, 0]</text>\n",
       "<text text-anchor=\"start\" x=\"268.75\" y=\"-121.33\" font-family=\"Helvetica,sans-Serif\" font-size=\"14.00\">class = acc</text>\n",
       "</g>\n",
       "<!-- 1&#45;&gt;5 -->\n",
       "<g id=\"edge5\" class=\"edge\">\n",
       "<title>1&#45;&gt;5</title>\n",
       "<path fill=\"none\" stroke=\"black\" d=\"M251.35,-229.55C258.57,-218.52 266.35,-206.63 273.62,-195.52\"/>\n",
       "<polygon fill=\"black\" stroke=\"black\" points=\"276.47,-197.55 279.02,-187.27 270.61,-193.72 276.47,-197.55\"/>\n",
       "</g>\n",
       "<!-- 3 -->\n",
       "<g id=\"node4\" class=\"node\">\n",
       "<title>3</title>\n",
       "<path fill=\"#e58139\" stroke=\"black\" d=\"M127,-71C127,-71 12,-71 12,-71 6,-71 0,-65 0,-59 0,-59 0,-12 0,-12 0,-6 6,0 12,0 12,0 127,0 127,0 133,0 139,-6 139,-12 139,-12 139,-59 139,-59 139,-65 133,-71 127,-71\"/>\n",
       "<text text-anchor=\"start\" x=\"29.75\" y=\"-53.7\" font-family=\"Helvetica,sans-Serif\" font-size=\"14.00\">entropy = 0.0</text>\n",
       "<text text-anchor=\"start\" x=\"24.88\" y=\"-37.95\" font-family=\"Helvetica,sans-Serif\" font-size=\"14.00\">samples = 307</text>\n",
       "<text text-anchor=\"start\" x=\"8\" y=\"-22.2\" font-family=\"Helvetica,sans-Serif\" font-size=\"14.00\">value = [307, 0, 0, 0]</text>\n",
       "<text text-anchor=\"start\" x=\"28.25\" y=\"-6.45\" font-family=\"Helvetica,sans-Serif\" font-size=\"14.00\">class = unacc</text>\n",
       "</g>\n",
       "<!-- 2&#45;&gt;3 -->\n",
       "<g id=\"edge3\" class=\"edge\">\n",
       "<title>2&#45;&gt;3</title>\n",
       "<path fill=\"none\" stroke=\"black\" d=\"M116.77,-106.7C111.03,-98.17 104.98,-89.2 99.21,-80.62\"/>\n",
       "<polygon fill=\"black\" stroke=\"black\" points=\"102.17,-78.75 93.68,-72.41 96.36,-82.66 102.17,-78.75\"/>\n",
       "</g>\n",
       "<!-- 4 -->\n",
       "<g id=\"node5\" class=\"node\">\n",
       "<title>4</title>\n",
       "<path fill=\"#d739e5\" stroke=\"black\" d=\"M276.25,-71C276.25,-71 168.75,-71 168.75,-71 162.75,-71 156.75,-65 156.75,-59 156.75,-59 156.75,-12 156.75,-12 156.75,-6 162.75,0 168.75,0 168.75,0 276.25,0 276.25,0 282.25,0 288.25,-6 288.25,-12 288.25,-12 288.25,-59 288.25,-59 288.25,-65 282.25,-71 276.25,-71\"/>\n",
       "<text text-anchor=\"start\" x=\"182.75\" y=\"-53.7\" font-family=\"Helvetica,sans-Serif\" font-size=\"14.00\">entropy = 0.0</text>\n",
       "<text text-anchor=\"start\" x=\"181.62\" y=\"-37.95\" font-family=\"Helvetica,sans-Serif\" font-size=\"14.00\">samples = 52</text>\n",
       "<text text-anchor=\"start\" x=\"164.75\" y=\"-22.2\" font-family=\"Helvetica,sans-Serif\" font-size=\"14.00\">value = [0, 0, 0, 52]</text>\n",
       "<text text-anchor=\"start\" x=\"180.88\" y=\"-6.45\" font-family=\"Helvetica,sans-Serif\" font-size=\"14.00\">class = vgood</text>\n",
       "</g>\n",
       "<!-- 2&#45;&gt;4 -->\n",
       "<g id=\"edge4\" class=\"edge\">\n",
       "<title>2&#45;&gt;4</title>\n",
       "<path fill=\"none\" stroke=\"black\" d=\"M174.61,-106.7C180.43,-98.17 186.55,-89.2 192.4,-80.62\"/>\n",
       "<polygon fill=\"black\" stroke=\"black\" points=\"195.26,-82.64 198,-72.41 189.48,-78.7 195.26,-82.64\"/>\n",
       "</g>\n",
       "</g>\n",
       "</svg>\n"
      ],
      "text/plain": [
       "<graphviz.sources.Source at 0x251661613b0>"
      ]
     },
     "metadata": {},
     "output_type": "display_data"
    },
    {
     "name": "stdout",
     "output_type": "stream",
     "text": [
      "✓ Decision tree (depth=3) visualized and saved to output/max_depth_graphviz\\graph_model_80_20_depth_3.png\n"
     ]
    },
    {
     "data": {
      "image/svg+xml": [
       "<?xml version=\"1.0\" encoding=\"UTF-8\" standalone=\"no\"?>\n",
       "<!DOCTYPE svg PUBLIC \"-//W3C//DTD SVG 1.1//EN\"\n",
       " \"http://www.w3.org/Graphics/SVG/1.1/DTD/svg11.dtd\">\n",
       "<!-- Generated by graphviz version 12.2.1 (20241206.2353)\n",
       " -->\n",
       "<!-- Title: Tree Pages: 1 -->\n",
       "<svg width=\"466pt\" height=\"447pt\"\n",
       " viewBox=\"0.00 0.00 466.00 447.25\" xmlns=\"http://www.w3.org/2000/svg\" xmlns:xlink=\"http://www.w3.org/1999/xlink\">\n",
       "<g id=\"graph0\" class=\"graph\" transform=\"scale(1 1) rotate(0) translate(4 443.25)\">\n",
       "<title>Tree</title>\n",
       "<polygon fill=\"white\" stroke=\"none\" points=\"-4,4 -4,-443.25 462,-443.25 462,4 -4,4\"/>\n",
       "<!-- 0 -->\n",
       "<g id=\"node1\" class=\"node\">\n",
       "<title>0</title>\n",
       "<path fill=\"#85c3ef\" stroke=\"black\" d=\"M400.5,-439.25C400.5,-439.25 210.5,-439.25 210.5,-439.25 204.5,-439.25 198.5,-433.25 198.5,-427.25 198.5,-427.25 198.5,-364.5 198.5,-364.5 198.5,-358.5 204.5,-352.5 210.5,-352.5 210.5,-352.5 400.5,-352.5 400.5,-352.5 406.5,-352.5 412.5,-358.5 412.5,-364.5 412.5,-364.5 412.5,-427.25 412.5,-427.25 412.5,-433.25 406.5,-439.25 400.5,-439.25\"/>\n",
       "<text text-anchor=\"start\" x=\"251.5\" y=\"-421.95\" font-family=\"Helvetica,sans-Serif\" font-size=\"14.00\">class_unacc ≤ 0.5</text>\n",
       "<text text-anchor=\"start\" x=\"258.25\" y=\"-406.2\" font-family=\"Helvetica,sans-Serif\" font-size=\"14.00\">entropy = 1.206</text>\n",
       "<text text-anchor=\"start\" x=\"257.12\" y=\"-390.45\" font-family=\"Helvetica,sans-Serif\" font-size=\"14.00\">samples = 1381</text>\n",
       "<text text-anchor=\"start\" x=\"206.5\" y=\"-374.7\" font-family=\"Helvetica,sans-Serif\" font-size=\"14.00\">value = [307.0, 55.0, 967.0, 52.0]</text>\n",
       "<text text-anchor=\"start\" x=\"267.25\" y=\"-358.95\" font-family=\"Helvetica,sans-Serif\" font-size=\"14.00\">class = good</text>\n",
       "</g>\n",
       "<!-- 1 -->\n",
       "<g id=\"node2\" class=\"node\">\n",
       "<title>1</title>\n",
       "<path fill=\"#eda774\" stroke=\"black\" d=\"M288.5,-316.5C288.5,-316.5 158.5,-316.5 158.5,-316.5 152.5,-316.5 146.5,-310.5 146.5,-304.5 146.5,-304.5 146.5,-241.75 146.5,-241.75 146.5,-235.75 152.5,-229.75 158.5,-229.75 158.5,-229.75 288.5,-229.75 288.5,-229.75 294.5,-229.75 300.5,-235.75 300.5,-241.75 300.5,-241.75 300.5,-304.5 300.5,-304.5 300.5,-310.5 294.5,-316.5 288.5,-316.5\"/>\n",
       "<text text-anchor=\"start\" x=\"172.5\" y=\"-299.2\" font-family=\"Helvetica,sans-Serif\" font-size=\"14.00\">class_good ≤ 0.5</text>\n",
       "<text text-anchor=\"start\" x=\"176.25\" y=\"-283.45\" font-family=\"Helvetica,sans-Serif\" font-size=\"14.00\">entropy = 1.083</text>\n",
       "<text text-anchor=\"start\" x=\"178.88\" y=\"-267.7\" font-family=\"Helvetica,sans-Serif\" font-size=\"14.00\">samples = 414</text>\n",
       "<text text-anchor=\"start\" x=\"154.5\" y=\"-251.95\" font-family=\"Helvetica,sans-Serif\" font-size=\"14.00\">value = [307, 55, 0, 52]</text>\n",
       "<text text-anchor=\"start\" x=\"182.25\" y=\"-236.2\" font-family=\"Helvetica,sans-Serif\" font-size=\"14.00\">class = unacc</text>\n",
       "</g>\n",
       "<!-- 0&#45;&gt;1 -->\n",
       "<g id=\"edge1\" class=\"edge\">\n",
       "<title>0&#45;&gt;1</title>\n",
       "<path fill=\"none\" stroke=\"black\" d=\"M276.59,-352.3C270.83,-343.83 264.73,-334.84 258.79,-326.08\"/>\n",
       "<polygon fill=\"black\" stroke=\"black\" points=\"261.79,-324.28 253.28,-317.97 256,-328.21 261.79,-324.28\"/>\n",
       "<text text-anchor=\"middle\" x=\"247.73\" y=\"-335.85\" font-family=\"Helvetica,sans-Serif\" font-size=\"14.00\">True</text>\n",
       "</g>\n",
       "<!-- 6 -->\n",
       "<g id=\"node7\" class=\"node\">\n",
       "<title>6</title>\n",
       "<path fill=\"#399de5\" stroke=\"black\" d=\"M446,-308.62C446,-308.62 331,-308.62 331,-308.62 325,-308.62 319,-302.62 319,-296.62 319,-296.62 319,-249.62 319,-249.62 319,-243.62 325,-237.62 331,-237.62 331,-237.62 446,-237.62 446,-237.62 452,-237.62 458,-243.62 458,-249.62 458,-249.62 458,-296.62 458,-296.62 458,-302.62 452,-308.62 446,-308.62\"/>\n",
       "<text text-anchor=\"start\" x=\"348.75\" y=\"-291.32\" font-family=\"Helvetica,sans-Serif\" font-size=\"14.00\">entropy = 0.0</text>\n",
       "<text text-anchor=\"start\" x=\"343.88\" y=\"-275.57\" font-family=\"Helvetica,sans-Serif\" font-size=\"14.00\">samples = 967</text>\n",
       "<text text-anchor=\"start\" x=\"327\" y=\"-259.82\" font-family=\"Helvetica,sans-Serif\" font-size=\"14.00\">value = [0, 0, 967, 0]</text>\n",
       "<text text-anchor=\"start\" x=\"350.25\" y=\"-244.07\" font-family=\"Helvetica,sans-Serif\" font-size=\"14.00\">class = good</text>\n",
       "</g>\n",
       "<!-- 0&#45;&gt;6 -->\n",
       "<g id=\"edge6\" class=\"edge\">\n",
       "<title>0&#45;&gt;6</title>\n",
       "<path fill=\"none\" stroke=\"black\" d=\"M334.76,-352.3C342.42,-341.16 350.69,-329.14 358.39,-317.93\"/>\n",
       "<polygon fill=\"black\" stroke=\"black\" points=\"361.06,-320.22 363.84,-310 355.29,-316.26 361.06,-320.22\"/>\n",
       "<text text-anchor=\"middle\" x=\"369.25\" y=\"-327.91\" font-family=\"Helvetica,sans-Serif\" font-size=\"14.00\">False</text>\n",
       "</g>\n",
       "<!-- 2 -->\n",
       "<g id=\"node3\" class=\"node\">\n",
       "<title>2</title>\n",
       "<path fill=\"#e9965b\" stroke=\"black\" d=\"M206.75,-193.75C206.75,-193.75 84.25,-193.75 84.25,-193.75 78.25,-193.75 72.25,-187.75 72.25,-181.75 72.25,-181.75 72.25,-119 72.25,-119 72.25,-113 78.25,-107 84.25,-107 84.25,-107 206.75,-107 206.75,-107 212.75,-107 218.75,-113 218.75,-119 218.75,-119 218.75,-181.75 218.75,-181.75 218.75,-187.75 212.75,-193.75 206.75,-193.75\"/>\n",
       "<text text-anchor=\"start\" x=\"91.12\" y=\"-176.45\" font-family=\"Helvetica,sans-Serif\" font-size=\"14.00\">class_vgood ≤ 0.5</text>\n",
       "<text text-anchor=\"start\" x=\"98.25\" y=\"-160.7\" font-family=\"Helvetica,sans-Serif\" font-size=\"14.00\">entropy = 0.597</text>\n",
       "<text text-anchor=\"start\" x=\"100.88\" y=\"-144.95\" font-family=\"Helvetica,sans-Serif\" font-size=\"14.00\">samples = 359</text>\n",
       "<text text-anchor=\"start\" x=\"80.25\" y=\"-129.2\" font-family=\"Helvetica,sans-Serif\" font-size=\"14.00\">value = [307, 0, 0, 52]</text>\n",
       "<text text-anchor=\"start\" x=\"104.25\" y=\"-113.45\" font-family=\"Helvetica,sans-Serif\" font-size=\"14.00\">class = unacc</text>\n",
       "</g>\n",
       "<!-- 1&#45;&gt;2 -->\n",
       "<g id=\"edge2\" class=\"edge\">\n",
       "<title>1&#45;&gt;2</title>\n",
       "<path fill=\"none\" stroke=\"black\" d=\"M196,-229.55C190.58,-221.17 184.84,-212.28 179.24,-203.61\"/>\n",
       "<polygon fill=\"black\" stroke=\"black\" points=\"182.2,-201.74 173.84,-195.24 176.32,-205.54 182.2,-201.74\"/>\n",
       "</g>\n",
       "<!-- 5 -->\n",
       "<g id=\"node6\" class=\"node\">\n",
       "<title>5</title>\n",
       "<path fill=\"#47e539\" stroke=\"black\" d=\"M356.25,-185.88C356.25,-185.88 248.75,-185.88 248.75,-185.88 242.75,-185.88 236.75,-179.88 236.75,-173.88 236.75,-173.88 236.75,-126.88 236.75,-126.88 236.75,-120.88 242.75,-114.88 248.75,-114.88 248.75,-114.88 356.25,-114.88 356.25,-114.88 362.25,-114.88 368.25,-120.88 368.25,-126.88 368.25,-126.88 368.25,-173.88 368.25,-173.88 368.25,-179.88 362.25,-185.88 356.25,-185.88\"/>\n",
       "<text text-anchor=\"start\" x=\"262.75\" y=\"-168.57\" font-family=\"Helvetica,sans-Serif\" font-size=\"14.00\">entropy = 0.0</text>\n",
       "<text text-anchor=\"start\" x=\"261.62\" y=\"-152.82\" font-family=\"Helvetica,sans-Serif\" font-size=\"14.00\">samples = 55</text>\n",
       "<text text-anchor=\"start\" x=\"244.75\" y=\"-137.07\" font-family=\"Helvetica,sans-Serif\" font-size=\"14.00\">value = [0, 55, 0, 0]</text>\n",
       "<text text-anchor=\"start\" x=\"268.75\" y=\"-121.33\" font-family=\"Helvetica,sans-Serif\" font-size=\"14.00\">class = acc</text>\n",
       "</g>\n",
       "<!-- 1&#45;&gt;5 -->\n",
       "<g id=\"edge5\" class=\"edge\">\n",
       "<title>1&#45;&gt;5</title>\n",
       "<path fill=\"none\" stroke=\"black\" d=\"M251.35,-229.55C258.57,-218.52 266.35,-206.63 273.62,-195.52\"/>\n",
       "<polygon fill=\"black\" stroke=\"black\" points=\"276.47,-197.55 279.02,-187.27 270.61,-193.72 276.47,-197.55\"/>\n",
       "</g>\n",
       "<!-- 3 -->\n",
       "<g id=\"node4\" class=\"node\">\n",
       "<title>3</title>\n",
       "<path fill=\"#e58139\" stroke=\"black\" d=\"M127,-71C127,-71 12,-71 12,-71 6,-71 0,-65 0,-59 0,-59 0,-12 0,-12 0,-6 6,0 12,0 12,0 127,0 127,0 133,0 139,-6 139,-12 139,-12 139,-59 139,-59 139,-65 133,-71 127,-71\"/>\n",
       "<text text-anchor=\"start\" x=\"29.75\" y=\"-53.7\" font-family=\"Helvetica,sans-Serif\" font-size=\"14.00\">entropy = 0.0</text>\n",
       "<text text-anchor=\"start\" x=\"24.88\" y=\"-37.95\" font-family=\"Helvetica,sans-Serif\" font-size=\"14.00\">samples = 307</text>\n",
       "<text text-anchor=\"start\" x=\"8\" y=\"-22.2\" font-family=\"Helvetica,sans-Serif\" font-size=\"14.00\">value = [307, 0, 0, 0]</text>\n",
       "<text text-anchor=\"start\" x=\"28.25\" y=\"-6.45\" font-family=\"Helvetica,sans-Serif\" font-size=\"14.00\">class = unacc</text>\n",
       "</g>\n",
       "<!-- 2&#45;&gt;3 -->\n",
       "<g id=\"edge3\" class=\"edge\">\n",
       "<title>2&#45;&gt;3</title>\n",
       "<path fill=\"none\" stroke=\"black\" d=\"M116.77,-106.7C111.03,-98.17 104.98,-89.2 99.21,-80.62\"/>\n",
       "<polygon fill=\"black\" stroke=\"black\" points=\"102.17,-78.75 93.68,-72.41 96.36,-82.66 102.17,-78.75\"/>\n",
       "</g>\n",
       "<!-- 4 -->\n",
       "<g id=\"node5\" class=\"node\">\n",
       "<title>4</title>\n",
       "<path fill=\"#d739e5\" stroke=\"black\" d=\"M276.25,-71C276.25,-71 168.75,-71 168.75,-71 162.75,-71 156.75,-65 156.75,-59 156.75,-59 156.75,-12 156.75,-12 156.75,-6 162.75,0 168.75,0 168.75,0 276.25,0 276.25,0 282.25,0 288.25,-6 288.25,-12 288.25,-12 288.25,-59 288.25,-59 288.25,-65 282.25,-71 276.25,-71\"/>\n",
       "<text text-anchor=\"start\" x=\"182.75\" y=\"-53.7\" font-family=\"Helvetica,sans-Serif\" font-size=\"14.00\">entropy = 0.0</text>\n",
       "<text text-anchor=\"start\" x=\"181.62\" y=\"-37.95\" font-family=\"Helvetica,sans-Serif\" font-size=\"14.00\">samples = 52</text>\n",
       "<text text-anchor=\"start\" x=\"164.75\" y=\"-22.2\" font-family=\"Helvetica,sans-Serif\" font-size=\"14.00\">value = [0, 0, 0, 52]</text>\n",
       "<text text-anchor=\"start\" x=\"180.88\" y=\"-6.45\" font-family=\"Helvetica,sans-Serif\" font-size=\"14.00\">class = vgood</text>\n",
       "</g>\n",
       "<!-- 2&#45;&gt;4 -->\n",
       "<g id=\"edge4\" class=\"edge\">\n",
       "<title>2&#45;&gt;4</title>\n",
       "<path fill=\"none\" stroke=\"black\" d=\"M174.61,-106.7C180.43,-98.17 186.55,-89.2 192.4,-80.62\"/>\n",
       "<polygon fill=\"black\" stroke=\"black\" points=\"195.26,-82.64 198,-72.41 189.48,-78.7 195.26,-82.64\"/>\n",
       "</g>\n",
       "</g>\n",
       "</svg>\n"
      ],
      "text/plain": [
       "<graphviz.sources.Source at 0x25166b0d4f0>"
      ]
     },
     "metadata": {},
     "output_type": "display_data"
    },
    {
     "name": "stdout",
     "output_type": "stream",
     "text": [
      "✓ Decision tree (depth=4) visualized and saved to output/max_depth_graphviz\\graph_model_80_20_depth_4.png\n"
     ]
    },
    {
     "data": {
      "image/svg+xml": [
       "<?xml version=\"1.0\" encoding=\"UTF-8\" standalone=\"no\"?>\n",
       "<!DOCTYPE svg PUBLIC \"-//W3C//DTD SVG 1.1//EN\"\n",
       " \"http://www.w3.org/Graphics/SVG/1.1/DTD/svg11.dtd\">\n",
       "<!-- Generated by graphviz version 12.2.1 (20241206.2353)\n",
       " -->\n",
       "<!-- Title: Tree Pages: 1 -->\n",
       "<svg width=\"466pt\" height=\"447pt\"\n",
       " viewBox=\"0.00 0.00 466.00 447.25\" xmlns=\"http://www.w3.org/2000/svg\" xmlns:xlink=\"http://www.w3.org/1999/xlink\">\n",
       "<g id=\"graph0\" class=\"graph\" transform=\"scale(1 1) rotate(0) translate(4 443.25)\">\n",
       "<title>Tree</title>\n",
       "<polygon fill=\"white\" stroke=\"none\" points=\"-4,4 -4,-443.25 462,-443.25 462,4 -4,4\"/>\n",
       "<!-- 0 -->\n",
       "<g id=\"node1\" class=\"node\">\n",
       "<title>0</title>\n",
       "<path fill=\"#85c3ef\" stroke=\"black\" d=\"M400.5,-439.25C400.5,-439.25 210.5,-439.25 210.5,-439.25 204.5,-439.25 198.5,-433.25 198.5,-427.25 198.5,-427.25 198.5,-364.5 198.5,-364.5 198.5,-358.5 204.5,-352.5 210.5,-352.5 210.5,-352.5 400.5,-352.5 400.5,-352.5 406.5,-352.5 412.5,-358.5 412.5,-364.5 412.5,-364.5 412.5,-427.25 412.5,-427.25 412.5,-433.25 406.5,-439.25 400.5,-439.25\"/>\n",
       "<text text-anchor=\"start\" x=\"251.5\" y=\"-421.95\" font-family=\"Helvetica,sans-Serif\" font-size=\"14.00\">class_unacc ≤ 0.5</text>\n",
       "<text text-anchor=\"start\" x=\"258.25\" y=\"-406.2\" font-family=\"Helvetica,sans-Serif\" font-size=\"14.00\">entropy = 1.206</text>\n",
       "<text text-anchor=\"start\" x=\"257.12\" y=\"-390.45\" font-family=\"Helvetica,sans-Serif\" font-size=\"14.00\">samples = 1381</text>\n",
       "<text text-anchor=\"start\" x=\"206.5\" y=\"-374.7\" font-family=\"Helvetica,sans-Serif\" font-size=\"14.00\">value = [307.0, 55.0, 967.0, 52.0]</text>\n",
       "<text text-anchor=\"start\" x=\"267.25\" y=\"-358.95\" font-family=\"Helvetica,sans-Serif\" font-size=\"14.00\">class = good</text>\n",
       "</g>\n",
       "<!-- 1 -->\n",
       "<g id=\"node2\" class=\"node\">\n",
       "<title>1</title>\n",
       "<path fill=\"#eda774\" stroke=\"black\" d=\"M288.5,-316.5C288.5,-316.5 158.5,-316.5 158.5,-316.5 152.5,-316.5 146.5,-310.5 146.5,-304.5 146.5,-304.5 146.5,-241.75 146.5,-241.75 146.5,-235.75 152.5,-229.75 158.5,-229.75 158.5,-229.75 288.5,-229.75 288.5,-229.75 294.5,-229.75 300.5,-235.75 300.5,-241.75 300.5,-241.75 300.5,-304.5 300.5,-304.5 300.5,-310.5 294.5,-316.5 288.5,-316.5\"/>\n",
       "<text text-anchor=\"start\" x=\"172.5\" y=\"-299.2\" font-family=\"Helvetica,sans-Serif\" font-size=\"14.00\">class_good ≤ 0.5</text>\n",
       "<text text-anchor=\"start\" x=\"176.25\" y=\"-283.45\" font-family=\"Helvetica,sans-Serif\" font-size=\"14.00\">entropy = 1.083</text>\n",
       "<text text-anchor=\"start\" x=\"178.88\" y=\"-267.7\" font-family=\"Helvetica,sans-Serif\" font-size=\"14.00\">samples = 414</text>\n",
       "<text text-anchor=\"start\" x=\"154.5\" y=\"-251.95\" font-family=\"Helvetica,sans-Serif\" font-size=\"14.00\">value = [307, 55, 0, 52]</text>\n",
       "<text text-anchor=\"start\" x=\"182.25\" y=\"-236.2\" font-family=\"Helvetica,sans-Serif\" font-size=\"14.00\">class = unacc</text>\n",
       "</g>\n",
       "<!-- 0&#45;&gt;1 -->\n",
       "<g id=\"edge1\" class=\"edge\">\n",
       "<title>0&#45;&gt;1</title>\n",
       "<path fill=\"none\" stroke=\"black\" d=\"M276.59,-352.3C270.83,-343.83 264.73,-334.84 258.79,-326.08\"/>\n",
       "<polygon fill=\"black\" stroke=\"black\" points=\"261.79,-324.28 253.28,-317.97 256,-328.21 261.79,-324.28\"/>\n",
       "<text text-anchor=\"middle\" x=\"247.73\" y=\"-335.85\" font-family=\"Helvetica,sans-Serif\" font-size=\"14.00\">True</text>\n",
       "</g>\n",
       "<!-- 6 -->\n",
       "<g id=\"node7\" class=\"node\">\n",
       "<title>6</title>\n",
       "<path fill=\"#399de5\" stroke=\"black\" d=\"M446,-308.62C446,-308.62 331,-308.62 331,-308.62 325,-308.62 319,-302.62 319,-296.62 319,-296.62 319,-249.62 319,-249.62 319,-243.62 325,-237.62 331,-237.62 331,-237.62 446,-237.62 446,-237.62 452,-237.62 458,-243.62 458,-249.62 458,-249.62 458,-296.62 458,-296.62 458,-302.62 452,-308.62 446,-308.62\"/>\n",
       "<text text-anchor=\"start\" x=\"348.75\" y=\"-291.32\" font-family=\"Helvetica,sans-Serif\" font-size=\"14.00\">entropy = 0.0</text>\n",
       "<text text-anchor=\"start\" x=\"343.88\" y=\"-275.57\" font-family=\"Helvetica,sans-Serif\" font-size=\"14.00\">samples = 967</text>\n",
       "<text text-anchor=\"start\" x=\"327\" y=\"-259.82\" font-family=\"Helvetica,sans-Serif\" font-size=\"14.00\">value = [0, 0, 967, 0]</text>\n",
       "<text text-anchor=\"start\" x=\"350.25\" y=\"-244.07\" font-family=\"Helvetica,sans-Serif\" font-size=\"14.00\">class = good</text>\n",
       "</g>\n",
       "<!-- 0&#45;&gt;6 -->\n",
       "<g id=\"edge6\" class=\"edge\">\n",
       "<title>0&#45;&gt;6</title>\n",
       "<path fill=\"none\" stroke=\"black\" d=\"M334.76,-352.3C342.42,-341.16 350.69,-329.14 358.39,-317.93\"/>\n",
       "<polygon fill=\"black\" stroke=\"black\" points=\"361.06,-320.22 363.84,-310 355.29,-316.26 361.06,-320.22\"/>\n",
       "<text text-anchor=\"middle\" x=\"369.25\" y=\"-327.91\" font-family=\"Helvetica,sans-Serif\" font-size=\"14.00\">False</text>\n",
       "</g>\n",
       "<!-- 2 -->\n",
       "<g id=\"node3\" class=\"node\">\n",
       "<title>2</title>\n",
       "<path fill=\"#e9965b\" stroke=\"black\" d=\"M206.75,-193.75C206.75,-193.75 84.25,-193.75 84.25,-193.75 78.25,-193.75 72.25,-187.75 72.25,-181.75 72.25,-181.75 72.25,-119 72.25,-119 72.25,-113 78.25,-107 84.25,-107 84.25,-107 206.75,-107 206.75,-107 212.75,-107 218.75,-113 218.75,-119 218.75,-119 218.75,-181.75 218.75,-181.75 218.75,-187.75 212.75,-193.75 206.75,-193.75\"/>\n",
       "<text text-anchor=\"start\" x=\"91.12\" y=\"-176.45\" font-family=\"Helvetica,sans-Serif\" font-size=\"14.00\">class_vgood ≤ 0.5</text>\n",
       "<text text-anchor=\"start\" x=\"98.25\" y=\"-160.7\" font-family=\"Helvetica,sans-Serif\" font-size=\"14.00\">entropy = 0.597</text>\n",
       "<text text-anchor=\"start\" x=\"100.88\" y=\"-144.95\" font-family=\"Helvetica,sans-Serif\" font-size=\"14.00\">samples = 359</text>\n",
       "<text text-anchor=\"start\" x=\"80.25\" y=\"-129.2\" font-family=\"Helvetica,sans-Serif\" font-size=\"14.00\">value = [307, 0, 0, 52]</text>\n",
       "<text text-anchor=\"start\" x=\"104.25\" y=\"-113.45\" font-family=\"Helvetica,sans-Serif\" font-size=\"14.00\">class = unacc</text>\n",
       "</g>\n",
       "<!-- 1&#45;&gt;2 -->\n",
       "<g id=\"edge2\" class=\"edge\">\n",
       "<title>1&#45;&gt;2</title>\n",
       "<path fill=\"none\" stroke=\"black\" d=\"M196,-229.55C190.58,-221.17 184.84,-212.28 179.24,-203.61\"/>\n",
       "<polygon fill=\"black\" stroke=\"black\" points=\"182.2,-201.74 173.84,-195.24 176.32,-205.54 182.2,-201.74\"/>\n",
       "</g>\n",
       "<!-- 5 -->\n",
       "<g id=\"node6\" class=\"node\">\n",
       "<title>5</title>\n",
       "<path fill=\"#47e539\" stroke=\"black\" d=\"M356.25,-185.88C356.25,-185.88 248.75,-185.88 248.75,-185.88 242.75,-185.88 236.75,-179.88 236.75,-173.88 236.75,-173.88 236.75,-126.88 236.75,-126.88 236.75,-120.88 242.75,-114.88 248.75,-114.88 248.75,-114.88 356.25,-114.88 356.25,-114.88 362.25,-114.88 368.25,-120.88 368.25,-126.88 368.25,-126.88 368.25,-173.88 368.25,-173.88 368.25,-179.88 362.25,-185.88 356.25,-185.88\"/>\n",
       "<text text-anchor=\"start\" x=\"262.75\" y=\"-168.57\" font-family=\"Helvetica,sans-Serif\" font-size=\"14.00\">entropy = 0.0</text>\n",
       "<text text-anchor=\"start\" x=\"261.62\" y=\"-152.82\" font-family=\"Helvetica,sans-Serif\" font-size=\"14.00\">samples = 55</text>\n",
       "<text text-anchor=\"start\" x=\"244.75\" y=\"-137.07\" font-family=\"Helvetica,sans-Serif\" font-size=\"14.00\">value = [0, 55, 0, 0]</text>\n",
       "<text text-anchor=\"start\" x=\"268.75\" y=\"-121.33\" font-family=\"Helvetica,sans-Serif\" font-size=\"14.00\">class = acc</text>\n",
       "</g>\n",
       "<!-- 1&#45;&gt;5 -->\n",
       "<g id=\"edge5\" class=\"edge\">\n",
       "<title>1&#45;&gt;5</title>\n",
       "<path fill=\"none\" stroke=\"black\" d=\"M251.35,-229.55C258.57,-218.52 266.35,-206.63 273.62,-195.52\"/>\n",
       "<polygon fill=\"black\" stroke=\"black\" points=\"276.47,-197.55 279.02,-187.27 270.61,-193.72 276.47,-197.55\"/>\n",
       "</g>\n",
       "<!-- 3 -->\n",
       "<g id=\"node4\" class=\"node\">\n",
       "<title>3</title>\n",
       "<path fill=\"#e58139\" stroke=\"black\" d=\"M127,-71C127,-71 12,-71 12,-71 6,-71 0,-65 0,-59 0,-59 0,-12 0,-12 0,-6 6,0 12,0 12,0 127,0 127,0 133,0 139,-6 139,-12 139,-12 139,-59 139,-59 139,-65 133,-71 127,-71\"/>\n",
       "<text text-anchor=\"start\" x=\"29.75\" y=\"-53.7\" font-family=\"Helvetica,sans-Serif\" font-size=\"14.00\">entropy = 0.0</text>\n",
       "<text text-anchor=\"start\" x=\"24.88\" y=\"-37.95\" font-family=\"Helvetica,sans-Serif\" font-size=\"14.00\">samples = 307</text>\n",
       "<text text-anchor=\"start\" x=\"8\" y=\"-22.2\" font-family=\"Helvetica,sans-Serif\" font-size=\"14.00\">value = [307, 0, 0, 0]</text>\n",
       "<text text-anchor=\"start\" x=\"28.25\" y=\"-6.45\" font-family=\"Helvetica,sans-Serif\" font-size=\"14.00\">class = unacc</text>\n",
       "</g>\n",
       "<!-- 2&#45;&gt;3 -->\n",
       "<g id=\"edge3\" class=\"edge\">\n",
       "<title>2&#45;&gt;3</title>\n",
       "<path fill=\"none\" stroke=\"black\" d=\"M116.77,-106.7C111.03,-98.17 104.98,-89.2 99.21,-80.62\"/>\n",
       "<polygon fill=\"black\" stroke=\"black\" points=\"102.17,-78.75 93.68,-72.41 96.36,-82.66 102.17,-78.75\"/>\n",
       "</g>\n",
       "<!-- 4 -->\n",
       "<g id=\"node5\" class=\"node\">\n",
       "<title>4</title>\n",
       "<path fill=\"#d739e5\" stroke=\"black\" d=\"M276.25,-71C276.25,-71 168.75,-71 168.75,-71 162.75,-71 156.75,-65 156.75,-59 156.75,-59 156.75,-12 156.75,-12 156.75,-6 162.75,0 168.75,0 168.75,0 276.25,0 276.25,0 282.25,0 288.25,-6 288.25,-12 288.25,-12 288.25,-59 288.25,-59 288.25,-65 282.25,-71 276.25,-71\"/>\n",
       "<text text-anchor=\"start\" x=\"182.75\" y=\"-53.7\" font-family=\"Helvetica,sans-Serif\" font-size=\"14.00\">entropy = 0.0</text>\n",
       "<text text-anchor=\"start\" x=\"181.62\" y=\"-37.95\" font-family=\"Helvetica,sans-Serif\" font-size=\"14.00\">samples = 52</text>\n",
       "<text text-anchor=\"start\" x=\"164.75\" y=\"-22.2\" font-family=\"Helvetica,sans-Serif\" font-size=\"14.00\">value = [0, 0, 0, 52]</text>\n",
       "<text text-anchor=\"start\" x=\"180.88\" y=\"-6.45\" font-family=\"Helvetica,sans-Serif\" font-size=\"14.00\">class = vgood</text>\n",
       "</g>\n",
       "<!-- 2&#45;&gt;4 -->\n",
       "<g id=\"edge4\" class=\"edge\">\n",
       "<title>2&#45;&gt;4</title>\n",
       "<path fill=\"none\" stroke=\"black\" d=\"M174.61,-106.7C180.43,-98.17 186.55,-89.2 192.4,-80.62\"/>\n",
       "<polygon fill=\"black\" stroke=\"black\" points=\"195.26,-82.64 198,-72.41 189.48,-78.7 195.26,-82.64\"/>\n",
       "</g>\n",
       "</g>\n",
       "</svg>\n"
      ],
      "text/plain": [
       "<graphviz.sources.Source at 0x251618d4dd0>"
      ]
     },
     "metadata": {},
     "output_type": "display_data"
    },
    {
     "name": "stdout",
     "output_type": "stream",
     "text": [
      "✓ Decision tree (depth=5) visualized and saved to output/max_depth_graphviz\\graph_model_80_20_depth_5.png\n"
     ]
    },
    {
     "data": {
      "image/svg+xml": [
       "<?xml version=\"1.0\" encoding=\"UTF-8\" standalone=\"no\"?>\n",
       "<!DOCTYPE svg PUBLIC \"-//W3C//DTD SVG 1.1//EN\"\n",
       " \"http://www.w3.org/Graphics/SVG/1.1/DTD/svg11.dtd\">\n",
       "<!-- Generated by graphviz version 12.2.1 (20241206.2353)\n",
       " -->\n",
       "<!-- Title: Tree Pages: 1 -->\n",
       "<svg width=\"466pt\" height=\"447pt\"\n",
       " viewBox=\"0.00 0.00 466.00 447.25\" xmlns=\"http://www.w3.org/2000/svg\" xmlns:xlink=\"http://www.w3.org/1999/xlink\">\n",
       "<g id=\"graph0\" class=\"graph\" transform=\"scale(1 1) rotate(0) translate(4 443.25)\">\n",
       "<title>Tree</title>\n",
       "<polygon fill=\"white\" stroke=\"none\" points=\"-4,4 -4,-443.25 462,-443.25 462,4 -4,4\"/>\n",
       "<!-- 0 -->\n",
       "<g id=\"node1\" class=\"node\">\n",
       "<title>0</title>\n",
       "<path fill=\"#85c3ef\" stroke=\"black\" d=\"M400.5,-439.25C400.5,-439.25 210.5,-439.25 210.5,-439.25 204.5,-439.25 198.5,-433.25 198.5,-427.25 198.5,-427.25 198.5,-364.5 198.5,-364.5 198.5,-358.5 204.5,-352.5 210.5,-352.5 210.5,-352.5 400.5,-352.5 400.5,-352.5 406.5,-352.5 412.5,-358.5 412.5,-364.5 412.5,-364.5 412.5,-427.25 412.5,-427.25 412.5,-433.25 406.5,-439.25 400.5,-439.25\"/>\n",
       "<text text-anchor=\"start\" x=\"251.5\" y=\"-421.95\" font-family=\"Helvetica,sans-Serif\" font-size=\"14.00\">class_unacc ≤ 0.5</text>\n",
       "<text text-anchor=\"start\" x=\"258.25\" y=\"-406.2\" font-family=\"Helvetica,sans-Serif\" font-size=\"14.00\">entropy = 1.206</text>\n",
       "<text text-anchor=\"start\" x=\"257.12\" y=\"-390.45\" font-family=\"Helvetica,sans-Serif\" font-size=\"14.00\">samples = 1381</text>\n",
       "<text text-anchor=\"start\" x=\"206.5\" y=\"-374.7\" font-family=\"Helvetica,sans-Serif\" font-size=\"14.00\">value = [307.0, 55.0, 967.0, 52.0]</text>\n",
       "<text text-anchor=\"start\" x=\"267.25\" y=\"-358.95\" font-family=\"Helvetica,sans-Serif\" font-size=\"14.00\">class = good</text>\n",
       "</g>\n",
       "<!-- 1 -->\n",
       "<g id=\"node2\" class=\"node\">\n",
       "<title>1</title>\n",
       "<path fill=\"#eda774\" stroke=\"black\" d=\"M288.5,-316.5C288.5,-316.5 158.5,-316.5 158.5,-316.5 152.5,-316.5 146.5,-310.5 146.5,-304.5 146.5,-304.5 146.5,-241.75 146.5,-241.75 146.5,-235.75 152.5,-229.75 158.5,-229.75 158.5,-229.75 288.5,-229.75 288.5,-229.75 294.5,-229.75 300.5,-235.75 300.5,-241.75 300.5,-241.75 300.5,-304.5 300.5,-304.5 300.5,-310.5 294.5,-316.5 288.5,-316.5\"/>\n",
       "<text text-anchor=\"start\" x=\"172.5\" y=\"-299.2\" font-family=\"Helvetica,sans-Serif\" font-size=\"14.00\">class_good ≤ 0.5</text>\n",
       "<text text-anchor=\"start\" x=\"176.25\" y=\"-283.45\" font-family=\"Helvetica,sans-Serif\" font-size=\"14.00\">entropy = 1.083</text>\n",
       "<text text-anchor=\"start\" x=\"178.88\" y=\"-267.7\" font-family=\"Helvetica,sans-Serif\" font-size=\"14.00\">samples = 414</text>\n",
       "<text text-anchor=\"start\" x=\"154.5\" y=\"-251.95\" font-family=\"Helvetica,sans-Serif\" font-size=\"14.00\">value = [307, 55, 0, 52]</text>\n",
       "<text text-anchor=\"start\" x=\"182.25\" y=\"-236.2\" font-family=\"Helvetica,sans-Serif\" font-size=\"14.00\">class = unacc</text>\n",
       "</g>\n",
       "<!-- 0&#45;&gt;1 -->\n",
       "<g id=\"edge1\" class=\"edge\">\n",
       "<title>0&#45;&gt;1</title>\n",
       "<path fill=\"none\" stroke=\"black\" d=\"M276.59,-352.3C270.83,-343.83 264.73,-334.84 258.79,-326.08\"/>\n",
       "<polygon fill=\"black\" stroke=\"black\" points=\"261.79,-324.28 253.28,-317.97 256,-328.21 261.79,-324.28\"/>\n",
       "<text text-anchor=\"middle\" x=\"247.73\" y=\"-335.85\" font-family=\"Helvetica,sans-Serif\" font-size=\"14.00\">True</text>\n",
       "</g>\n",
       "<!-- 6 -->\n",
       "<g id=\"node7\" class=\"node\">\n",
       "<title>6</title>\n",
       "<path fill=\"#399de5\" stroke=\"black\" d=\"M446,-308.62C446,-308.62 331,-308.62 331,-308.62 325,-308.62 319,-302.62 319,-296.62 319,-296.62 319,-249.62 319,-249.62 319,-243.62 325,-237.62 331,-237.62 331,-237.62 446,-237.62 446,-237.62 452,-237.62 458,-243.62 458,-249.62 458,-249.62 458,-296.62 458,-296.62 458,-302.62 452,-308.62 446,-308.62\"/>\n",
       "<text text-anchor=\"start\" x=\"348.75\" y=\"-291.32\" font-family=\"Helvetica,sans-Serif\" font-size=\"14.00\">entropy = 0.0</text>\n",
       "<text text-anchor=\"start\" x=\"343.88\" y=\"-275.57\" font-family=\"Helvetica,sans-Serif\" font-size=\"14.00\">samples = 967</text>\n",
       "<text text-anchor=\"start\" x=\"327\" y=\"-259.82\" font-family=\"Helvetica,sans-Serif\" font-size=\"14.00\">value = [0, 0, 967, 0]</text>\n",
       "<text text-anchor=\"start\" x=\"350.25\" y=\"-244.07\" font-family=\"Helvetica,sans-Serif\" font-size=\"14.00\">class = good</text>\n",
       "</g>\n",
       "<!-- 0&#45;&gt;6 -->\n",
       "<g id=\"edge6\" class=\"edge\">\n",
       "<title>0&#45;&gt;6</title>\n",
       "<path fill=\"none\" stroke=\"black\" d=\"M334.76,-352.3C342.42,-341.16 350.69,-329.14 358.39,-317.93\"/>\n",
       "<polygon fill=\"black\" stroke=\"black\" points=\"361.06,-320.22 363.84,-310 355.29,-316.26 361.06,-320.22\"/>\n",
       "<text text-anchor=\"middle\" x=\"369.25\" y=\"-327.91\" font-family=\"Helvetica,sans-Serif\" font-size=\"14.00\">False</text>\n",
       "</g>\n",
       "<!-- 2 -->\n",
       "<g id=\"node3\" class=\"node\">\n",
       "<title>2</title>\n",
       "<path fill=\"#e9965b\" stroke=\"black\" d=\"M206.75,-193.75C206.75,-193.75 84.25,-193.75 84.25,-193.75 78.25,-193.75 72.25,-187.75 72.25,-181.75 72.25,-181.75 72.25,-119 72.25,-119 72.25,-113 78.25,-107 84.25,-107 84.25,-107 206.75,-107 206.75,-107 212.75,-107 218.75,-113 218.75,-119 218.75,-119 218.75,-181.75 218.75,-181.75 218.75,-187.75 212.75,-193.75 206.75,-193.75\"/>\n",
       "<text text-anchor=\"start\" x=\"91.12\" y=\"-176.45\" font-family=\"Helvetica,sans-Serif\" font-size=\"14.00\">class_vgood ≤ 0.5</text>\n",
       "<text text-anchor=\"start\" x=\"98.25\" y=\"-160.7\" font-family=\"Helvetica,sans-Serif\" font-size=\"14.00\">entropy = 0.597</text>\n",
       "<text text-anchor=\"start\" x=\"100.88\" y=\"-144.95\" font-family=\"Helvetica,sans-Serif\" font-size=\"14.00\">samples = 359</text>\n",
       "<text text-anchor=\"start\" x=\"80.25\" y=\"-129.2\" font-family=\"Helvetica,sans-Serif\" font-size=\"14.00\">value = [307, 0, 0, 52]</text>\n",
       "<text text-anchor=\"start\" x=\"104.25\" y=\"-113.45\" font-family=\"Helvetica,sans-Serif\" font-size=\"14.00\">class = unacc</text>\n",
       "</g>\n",
       "<!-- 1&#45;&gt;2 -->\n",
       "<g id=\"edge2\" class=\"edge\">\n",
       "<title>1&#45;&gt;2</title>\n",
       "<path fill=\"none\" stroke=\"black\" d=\"M196,-229.55C190.58,-221.17 184.84,-212.28 179.24,-203.61\"/>\n",
       "<polygon fill=\"black\" stroke=\"black\" points=\"182.2,-201.74 173.84,-195.24 176.32,-205.54 182.2,-201.74\"/>\n",
       "</g>\n",
       "<!-- 5 -->\n",
       "<g id=\"node6\" class=\"node\">\n",
       "<title>5</title>\n",
       "<path fill=\"#47e539\" stroke=\"black\" d=\"M356.25,-185.88C356.25,-185.88 248.75,-185.88 248.75,-185.88 242.75,-185.88 236.75,-179.88 236.75,-173.88 236.75,-173.88 236.75,-126.88 236.75,-126.88 236.75,-120.88 242.75,-114.88 248.75,-114.88 248.75,-114.88 356.25,-114.88 356.25,-114.88 362.25,-114.88 368.25,-120.88 368.25,-126.88 368.25,-126.88 368.25,-173.88 368.25,-173.88 368.25,-179.88 362.25,-185.88 356.25,-185.88\"/>\n",
       "<text text-anchor=\"start\" x=\"262.75\" y=\"-168.57\" font-family=\"Helvetica,sans-Serif\" font-size=\"14.00\">entropy = 0.0</text>\n",
       "<text text-anchor=\"start\" x=\"261.62\" y=\"-152.82\" font-family=\"Helvetica,sans-Serif\" font-size=\"14.00\">samples = 55</text>\n",
       "<text text-anchor=\"start\" x=\"244.75\" y=\"-137.07\" font-family=\"Helvetica,sans-Serif\" font-size=\"14.00\">value = [0, 55, 0, 0]</text>\n",
       "<text text-anchor=\"start\" x=\"268.75\" y=\"-121.33\" font-family=\"Helvetica,sans-Serif\" font-size=\"14.00\">class = acc</text>\n",
       "</g>\n",
       "<!-- 1&#45;&gt;5 -->\n",
       "<g id=\"edge5\" class=\"edge\">\n",
       "<title>1&#45;&gt;5</title>\n",
       "<path fill=\"none\" stroke=\"black\" d=\"M251.35,-229.55C258.57,-218.52 266.35,-206.63 273.62,-195.52\"/>\n",
       "<polygon fill=\"black\" stroke=\"black\" points=\"276.47,-197.55 279.02,-187.27 270.61,-193.72 276.47,-197.55\"/>\n",
       "</g>\n",
       "<!-- 3 -->\n",
       "<g id=\"node4\" class=\"node\">\n",
       "<title>3</title>\n",
       "<path fill=\"#e58139\" stroke=\"black\" d=\"M127,-71C127,-71 12,-71 12,-71 6,-71 0,-65 0,-59 0,-59 0,-12 0,-12 0,-6 6,0 12,0 12,0 127,0 127,0 133,0 139,-6 139,-12 139,-12 139,-59 139,-59 139,-65 133,-71 127,-71\"/>\n",
       "<text text-anchor=\"start\" x=\"29.75\" y=\"-53.7\" font-family=\"Helvetica,sans-Serif\" font-size=\"14.00\">entropy = 0.0</text>\n",
       "<text text-anchor=\"start\" x=\"24.88\" y=\"-37.95\" font-family=\"Helvetica,sans-Serif\" font-size=\"14.00\">samples = 307</text>\n",
       "<text text-anchor=\"start\" x=\"8\" y=\"-22.2\" font-family=\"Helvetica,sans-Serif\" font-size=\"14.00\">value = [307, 0, 0, 0]</text>\n",
       "<text text-anchor=\"start\" x=\"28.25\" y=\"-6.45\" font-family=\"Helvetica,sans-Serif\" font-size=\"14.00\">class = unacc</text>\n",
       "</g>\n",
       "<!-- 2&#45;&gt;3 -->\n",
       "<g id=\"edge3\" class=\"edge\">\n",
       "<title>2&#45;&gt;3</title>\n",
       "<path fill=\"none\" stroke=\"black\" d=\"M116.77,-106.7C111.03,-98.17 104.98,-89.2 99.21,-80.62\"/>\n",
       "<polygon fill=\"black\" stroke=\"black\" points=\"102.17,-78.75 93.68,-72.41 96.36,-82.66 102.17,-78.75\"/>\n",
       "</g>\n",
       "<!-- 4 -->\n",
       "<g id=\"node5\" class=\"node\">\n",
       "<title>4</title>\n",
       "<path fill=\"#d739e5\" stroke=\"black\" d=\"M276.25,-71C276.25,-71 168.75,-71 168.75,-71 162.75,-71 156.75,-65 156.75,-59 156.75,-59 156.75,-12 156.75,-12 156.75,-6 162.75,0 168.75,0 168.75,0 276.25,0 276.25,0 282.25,0 288.25,-6 288.25,-12 288.25,-12 288.25,-59 288.25,-59 288.25,-65 282.25,-71 276.25,-71\"/>\n",
       "<text text-anchor=\"start\" x=\"182.75\" y=\"-53.7\" font-family=\"Helvetica,sans-Serif\" font-size=\"14.00\">entropy = 0.0</text>\n",
       "<text text-anchor=\"start\" x=\"181.62\" y=\"-37.95\" font-family=\"Helvetica,sans-Serif\" font-size=\"14.00\">samples = 52</text>\n",
       "<text text-anchor=\"start\" x=\"164.75\" y=\"-22.2\" font-family=\"Helvetica,sans-Serif\" font-size=\"14.00\">value = [0, 0, 0, 52]</text>\n",
       "<text text-anchor=\"start\" x=\"180.88\" y=\"-6.45\" font-family=\"Helvetica,sans-Serif\" font-size=\"14.00\">class = vgood</text>\n",
       "</g>\n",
       "<!-- 2&#45;&gt;4 -->\n",
       "<g id=\"edge4\" class=\"edge\">\n",
       "<title>2&#45;&gt;4</title>\n",
       "<path fill=\"none\" stroke=\"black\" d=\"M174.61,-106.7C180.43,-98.17 186.55,-89.2 192.4,-80.62\"/>\n",
       "<polygon fill=\"black\" stroke=\"black\" points=\"195.26,-82.64 198,-72.41 189.48,-78.7 195.26,-82.64\"/>\n",
       "</g>\n",
       "</g>\n",
       "</svg>\n"
      ],
      "text/plain": [
       "<graphviz.sources.Source at 0x2516718f350>"
      ]
     },
     "metadata": {},
     "output_type": "display_data"
    },
    {
     "name": "stdout",
     "output_type": "stream",
     "text": [
      "✓ Decision tree (depth=6) visualized and saved to output/max_depth_graphviz\\graph_model_80_20_depth_6.png\n"
     ]
    },
    {
     "data": {
      "image/svg+xml": [
       "<?xml version=\"1.0\" encoding=\"UTF-8\" standalone=\"no\"?>\n",
       "<!DOCTYPE svg PUBLIC \"-//W3C//DTD SVG 1.1//EN\"\n",
       " \"http://www.w3.org/Graphics/SVG/1.1/DTD/svg11.dtd\">\n",
       "<!-- Generated by graphviz version 12.2.1 (20241206.2353)\n",
       " -->\n",
       "<!-- Title: Tree Pages: 1 -->\n",
       "<svg width=\"466pt\" height=\"447pt\"\n",
       " viewBox=\"0.00 0.00 466.00 447.25\" xmlns=\"http://www.w3.org/2000/svg\" xmlns:xlink=\"http://www.w3.org/1999/xlink\">\n",
       "<g id=\"graph0\" class=\"graph\" transform=\"scale(1 1) rotate(0) translate(4 443.25)\">\n",
       "<title>Tree</title>\n",
       "<polygon fill=\"white\" stroke=\"none\" points=\"-4,4 -4,-443.25 462,-443.25 462,4 -4,4\"/>\n",
       "<!-- 0 -->\n",
       "<g id=\"node1\" class=\"node\">\n",
       "<title>0</title>\n",
       "<path fill=\"#85c3ef\" stroke=\"black\" d=\"M400.5,-439.25C400.5,-439.25 210.5,-439.25 210.5,-439.25 204.5,-439.25 198.5,-433.25 198.5,-427.25 198.5,-427.25 198.5,-364.5 198.5,-364.5 198.5,-358.5 204.5,-352.5 210.5,-352.5 210.5,-352.5 400.5,-352.5 400.5,-352.5 406.5,-352.5 412.5,-358.5 412.5,-364.5 412.5,-364.5 412.5,-427.25 412.5,-427.25 412.5,-433.25 406.5,-439.25 400.5,-439.25\"/>\n",
       "<text text-anchor=\"start\" x=\"251.5\" y=\"-421.95\" font-family=\"Helvetica,sans-Serif\" font-size=\"14.00\">class_unacc ≤ 0.5</text>\n",
       "<text text-anchor=\"start\" x=\"258.25\" y=\"-406.2\" font-family=\"Helvetica,sans-Serif\" font-size=\"14.00\">entropy = 1.206</text>\n",
       "<text text-anchor=\"start\" x=\"257.12\" y=\"-390.45\" font-family=\"Helvetica,sans-Serif\" font-size=\"14.00\">samples = 1381</text>\n",
       "<text text-anchor=\"start\" x=\"206.5\" y=\"-374.7\" font-family=\"Helvetica,sans-Serif\" font-size=\"14.00\">value = [307.0, 55.0, 967.0, 52.0]</text>\n",
       "<text text-anchor=\"start\" x=\"267.25\" y=\"-358.95\" font-family=\"Helvetica,sans-Serif\" font-size=\"14.00\">class = good</text>\n",
       "</g>\n",
       "<!-- 1 -->\n",
       "<g id=\"node2\" class=\"node\">\n",
       "<title>1</title>\n",
       "<path fill=\"#eda774\" stroke=\"black\" d=\"M288.5,-316.5C288.5,-316.5 158.5,-316.5 158.5,-316.5 152.5,-316.5 146.5,-310.5 146.5,-304.5 146.5,-304.5 146.5,-241.75 146.5,-241.75 146.5,-235.75 152.5,-229.75 158.5,-229.75 158.5,-229.75 288.5,-229.75 288.5,-229.75 294.5,-229.75 300.5,-235.75 300.5,-241.75 300.5,-241.75 300.5,-304.5 300.5,-304.5 300.5,-310.5 294.5,-316.5 288.5,-316.5\"/>\n",
       "<text text-anchor=\"start\" x=\"172.5\" y=\"-299.2\" font-family=\"Helvetica,sans-Serif\" font-size=\"14.00\">class_good ≤ 0.5</text>\n",
       "<text text-anchor=\"start\" x=\"176.25\" y=\"-283.45\" font-family=\"Helvetica,sans-Serif\" font-size=\"14.00\">entropy = 1.083</text>\n",
       "<text text-anchor=\"start\" x=\"178.88\" y=\"-267.7\" font-family=\"Helvetica,sans-Serif\" font-size=\"14.00\">samples = 414</text>\n",
       "<text text-anchor=\"start\" x=\"154.5\" y=\"-251.95\" font-family=\"Helvetica,sans-Serif\" font-size=\"14.00\">value = [307, 55, 0, 52]</text>\n",
       "<text text-anchor=\"start\" x=\"182.25\" y=\"-236.2\" font-family=\"Helvetica,sans-Serif\" font-size=\"14.00\">class = unacc</text>\n",
       "</g>\n",
       "<!-- 0&#45;&gt;1 -->\n",
       "<g id=\"edge1\" class=\"edge\">\n",
       "<title>0&#45;&gt;1</title>\n",
       "<path fill=\"none\" stroke=\"black\" d=\"M276.59,-352.3C270.83,-343.83 264.73,-334.84 258.79,-326.08\"/>\n",
       "<polygon fill=\"black\" stroke=\"black\" points=\"261.79,-324.28 253.28,-317.97 256,-328.21 261.79,-324.28\"/>\n",
       "<text text-anchor=\"middle\" x=\"247.73\" y=\"-335.85\" font-family=\"Helvetica,sans-Serif\" font-size=\"14.00\">True</text>\n",
       "</g>\n",
       "<!-- 6 -->\n",
       "<g id=\"node7\" class=\"node\">\n",
       "<title>6</title>\n",
       "<path fill=\"#399de5\" stroke=\"black\" d=\"M446,-308.62C446,-308.62 331,-308.62 331,-308.62 325,-308.62 319,-302.62 319,-296.62 319,-296.62 319,-249.62 319,-249.62 319,-243.62 325,-237.62 331,-237.62 331,-237.62 446,-237.62 446,-237.62 452,-237.62 458,-243.62 458,-249.62 458,-249.62 458,-296.62 458,-296.62 458,-302.62 452,-308.62 446,-308.62\"/>\n",
       "<text text-anchor=\"start\" x=\"348.75\" y=\"-291.32\" font-family=\"Helvetica,sans-Serif\" font-size=\"14.00\">entropy = 0.0</text>\n",
       "<text text-anchor=\"start\" x=\"343.88\" y=\"-275.57\" font-family=\"Helvetica,sans-Serif\" font-size=\"14.00\">samples = 967</text>\n",
       "<text text-anchor=\"start\" x=\"327\" y=\"-259.82\" font-family=\"Helvetica,sans-Serif\" font-size=\"14.00\">value = [0, 0, 967, 0]</text>\n",
       "<text text-anchor=\"start\" x=\"350.25\" y=\"-244.07\" font-family=\"Helvetica,sans-Serif\" font-size=\"14.00\">class = good</text>\n",
       "</g>\n",
       "<!-- 0&#45;&gt;6 -->\n",
       "<g id=\"edge6\" class=\"edge\">\n",
       "<title>0&#45;&gt;6</title>\n",
       "<path fill=\"none\" stroke=\"black\" d=\"M334.76,-352.3C342.42,-341.16 350.69,-329.14 358.39,-317.93\"/>\n",
       "<polygon fill=\"black\" stroke=\"black\" points=\"361.06,-320.22 363.84,-310 355.29,-316.26 361.06,-320.22\"/>\n",
       "<text text-anchor=\"middle\" x=\"369.25\" y=\"-327.91\" font-family=\"Helvetica,sans-Serif\" font-size=\"14.00\">False</text>\n",
       "</g>\n",
       "<!-- 2 -->\n",
       "<g id=\"node3\" class=\"node\">\n",
       "<title>2</title>\n",
       "<path fill=\"#e9965b\" stroke=\"black\" d=\"M206.75,-193.75C206.75,-193.75 84.25,-193.75 84.25,-193.75 78.25,-193.75 72.25,-187.75 72.25,-181.75 72.25,-181.75 72.25,-119 72.25,-119 72.25,-113 78.25,-107 84.25,-107 84.25,-107 206.75,-107 206.75,-107 212.75,-107 218.75,-113 218.75,-119 218.75,-119 218.75,-181.75 218.75,-181.75 218.75,-187.75 212.75,-193.75 206.75,-193.75\"/>\n",
       "<text text-anchor=\"start\" x=\"91.12\" y=\"-176.45\" font-family=\"Helvetica,sans-Serif\" font-size=\"14.00\">class_vgood ≤ 0.5</text>\n",
       "<text text-anchor=\"start\" x=\"98.25\" y=\"-160.7\" font-family=\"Helvetica,sans-Serif\" font-size=\"14.00\">entropy = 0.597</text>\n",
       "<text text-anchor=\"start\" x=\"100.88\" y=\"-144.95\" font-family=\"Helvetica,sans-Serif\" font-size=\"14.00\">samples = 359</text>\n",
       "<text text-anchor=\"start\" x=\"80.25\" y=\"-129.2\" font-family=\"Helvetica,sans-Serif\" font-size=\"14.00\">value = [307, 0, 0, 52]</text>\n",
       "<text text-anchor=\"start\" x=\"104.25\" y=\"-113.45\" font-family=\"Helvetica,sans-Serif\" font-size=\"14.00\">class = unacc</text>\n",
       "</g>\n",
       "<!-- 1&#45;&gt;2 -->\n",
       "<g id=\"edge2\" class=\"edge\">\n",
       "<title>1&#45;&gt;2</title>\n",
       "<path fill=\"none\" stroke=\"black\" d=\"M196,-229.55C190.58,-221.17 184.84,-212.28 179.24,-203.61\"/>\n",
       "<polygon fill=\"black\" stroke=\"black\" points=\"182.2,-201.74 173.84,-195.24 176.32,-205.54 182.2,-201.74\"/>\n",
       "</g>\n",
       "<!-- 5 -->\n",
       "<g id=\"node6\" class=\"node\">\n",
       "<title>5</title>\n",
       "<path fill=\"#47e539\" stroke=\"black\" d=\"M356.25,-185.88C356.25,-185.88 248.75,-185.88 248.75,-185.88 242.75,-185.88 236.75,-179.88 236.75,-173.88 236.75,-173.88 236.75,-126.88 236.75,-126.88 236.75,-120.88 242.75,-114.88 248.75,-114.88 248.75,-114.88 356.25,-114.88 356.25,-114.88 362.25,-114.88 368.25,-120.88 368.25,-126.88 368.25,-126.88 368.25,-173.88 368.25,-173.88 368.25,-179.88 362.25,-185.88 356.25,-185.88\"/>\n",
       "<text text-anchor=\"start\" x=\"262.75\" y=\"-168.57\" font-family=\"Helvetica,sans-Serif\" font-size=\"14.00\">entropy = 0.0</text>\n",
       "<text text-anchor=\"start\" x=\"261.62\" y=\"-152.82\" font-family=\"Helvetica,sans-Serif\" font-size=\"14.00\">samples = 55</text>\n",
       "<text text-anchor=\"start\" x=\"244.75\" y=\"-137.07\" font-family=\"Helvetica,sans-Serif\" font-size=\"14.00\">value = [0, 55, 0, 0]</text>\n",
       "<text text-anchor=\"start\" x=\"268.75\" y=\"-121.33\" font-family=\"Helvetica,sans-Serif\" font-size=\"14.00\">class = acc</text>\n",
       "</g>\n",
       "<!-- 1&#45;&gt;5 -->\n",
       "<g id=\"edge5\" class=\"edge\">\n",
       "<title>1&#45;&gt;5</title>\n",
       "<path fill=\"none\" stroke=\"black\" d=\"M251.35,-229.55C258.57,-218.52 266.35,-206.63 273.62,-195.52\"/>\n",
       "<polygon fill=\"black\" stroke=\"black\" points=\"276.47,-197.55 279.02,-187.27 270.61,-193.72 276.47,-197.55\"/>\n",
       "</g>\n",
       "<!-- 3 -->\n",
       "<g id=\"node4\" class=\"node\">\n",
       "<title>3</title>\n",
       "<path fill=\"#e58139\" stroke=\"black\" d=\"M127,-71C127,-71 12,-71 12,-71 6,-71 0,-65 0,-59 0,-59 0,-12 0,-12 0,-6 6,0 12,0 12,0 127,0 127,0 133,0 139,-6 139,-12 139,-12 139,-59 139,-59 139,-65 133,-71 127,-71\"/>\n",
       "<text text-anchor=\"start\" x=\"29.75\" y=\"-53.7\" font-family=\"Helvetica,sans-Serif\" font-size=\"14.00\">entropy = 0.0</text>\n",
       "<text text-anchor=\"start\" x=\"24.88\" y=\"-37.95\" font-family=\"Helvetica,sans-Serif\" font-size=\"14.00\">samples = 307</text>\n",
       "<text text-anchor=\"start\" x=\"8\" y=\"-22.2\" font-family=\"Helvetica,sans-Serif\" font-size=\"14.00\">value = [307, 0, 0, 0]</text>\n",
       "<text text-anchor=\"start\" x=\"28.25\" y=\"-6.45\" font-family=\"Helvetica,sans-Serif\" font-size=\"14.00\">class = unacc</text>\n",
       "</g>\n",
       "<!-- 2&#45;&gt;3 -->\n",
       "<g id=\"edge3\" class=\"edge\">\n",
       "<title>2&#45;&gt;3</title>\n",
       "<path fill=\"none\" stroke=\"black\" d=\"M116.77,-106.7C111.03,-98.17 104.98,-89.2 99.21,-80.62\"/>\n",
       "<polygon fill=\"black\" stroke=\"black\" points=\"102.17,-78.75 93.68,-72.41 96.36,-82.66 102.17,-78.75\"/>\n",
       "</g>\n",
       "<!-- 4 -->\n",
       "<g id=\"node5\" class=\"node\">\n",
       "<title>4</title>\n",
       "<path fill=\"#d739e5\" stroke=\"black\" d=\"M276.25,-71C276.25,-71 168.75,-71 168.75,-71 162.75,-71 156.75,-65 156.75,-59 156.75,-59 156.75,-12 156.75,-12 156.75,-6 162.75,0 168.75,0 168.75,0 276.25,0 276.25,0 282.25,0 288.25,-6 288.25,-12 288.25,-12 288.25,-59 288.25,-59 288.25,-65 282.25,-71 276.25,-71\"/>\n",
       "<text text-anchor=\"start\" x=\"182.75\" y=\"-53.7\" font-family=\"Helvetica,sans-Serif\" font-size=\"14.00\">entropy = 0.0</text>\n",
       "<text text-anchor=\"start\" x=\"181.62\" y=\"-37.95\" font-family=\"Helvetica,sans-Serif\" font-size=\"14.00\">samples = 52</text>\n",
       "<text text-anchor=\"start\" x=\"164.75\" y=\"-22.2\" font-family=\"Helvetica,sans-Serif\" font-size=\"14.00\">value = [0, 0, 0, 52]</text>\n",
       "<text text-anchor=\"start\" x=\"180.88\" y=\"-6.45\" font-family=\"Helvetica,sans-Serif\" font-size=\"14.00\">class = vgood</text>\n",
       "</g>\n",
       "<!-- 2&#45;&gt;4 -->\n",
       "<g id=\"edge4\" class=\"edge\">\n",
       "<title>2&#45;&gt;4</title>\n",
       "<path fill=\"none\" stroke=\"black\" d=\"M174.61,-106.7C180.43,-98.17 186.55,-89.2 192.4,-80.62\"/>\n",
       "<polygon fill=\"black\" stroke=\"black\" points=\"195.26,-82.64 198,-72.41 189.48,-78.7 195.26,-82.64\"/>\n",
       "</g>\n",
       "</g>\n",
       "</svg>\n"
      ],
      "text/plain": [
       "<graphviz.sources.Source at 0x251660909d0>"
      ]
     },
     "metadata": {},
     "output_type": "display_data"
    },
    {
     "name": "stdout",
     "output_type": "stream",
     "text": [
      "✓ Decision tree (depth=7) visualized and saved to output/max_depth_graphviz\\graph_model_80_20_depth_7.png\n"
     ]
    }
   ],
   "source": [
    "export_and_display_trees_by_depth(list_max_depth_model, list_max_depth, features_name, class_names)"
   ]
  },
  {
   "cell_type": "markdown",
   "metadata": {},
   "source": [
    "## **5.3 Report of decision tree when changing the value of parameter `max_depth`**\n"
   ]
  },
  {
   "cell_type": "code",
   "execution_count": 98,
   "metadata": {},
   "outputs": [],
   "source": [
    "def visualize_accuracy_by_depth(accuracy_dict, save_path):\n",
    "    \"\"\"\n",
    "    Trực quan hóa độ chính xác tương ứng với từng giá trị max_depth của Decision Tree.\n",
    "    Hiển thị bảng và biểu đồ đường để so sánh trực quan hiệu suất mô hình.\n",
    "\n",
    "    Args:\n",
    "        accuracy_dict (dict): Từ điển ánh xạ max_depth → accuracy.\n",
    "        save_path (str): Đường dẫn lưu ảnh biểu đồ kết quả.\n",
    "    \"\"\"\n",
    "    # Chuẩn bị dữ liệu\n",
    "    max_depths = list(accuracy_dict.keys())\n",
    "    accuracies = list(accuracy_dict.values())\n",
    "\n",
    "    # Dữ liệu cho bảng\n",
    "    table_data = [[str(depth) if depth is not None else \"No Limit\", f\"{acc:.4f}\"]\n",
    "                  for depth, acc in zip(max_depths, accuracies)]\n",
    "\n",
    "    # Vẽ hình\n",
    "    plt.figure(figsize=(15, 6))\n",
    "\n",
    "    # Bảng thống kê\n",
    "    plt.subplot(1, 2, 1)\n",
    "    table = plt.table(\n",
    "        cellText=table_data,\n",
    "        colLabels=[\"Max Depth\", \"Accuracy\"],\n",
    "        loc=\"center\",\n",
    "        cellLoc=\"center\",\n",
    "        colWidths=[0.2, 0.3]\n",
    "    )\n",
    "    table.auto_set_font_size(False)\n",
    "    table.set_fontsize(10)\n",
    "\n",
    "    for cell in table.get_celld().values():\n",
    "        cell.set_height(0.1)\n",
    "\n",
    "    plt.axis(\"off\")\n",
    "    plt.title(\"Bảng độ chính xác\")\n",
    "\n",
    "    # Biểu đồ đường\n",
    "    plt.subplot(1, 2, 2)\n",
    "    plot_labels = [\"No Limit\" if d is None else d for d in max_depths]\n",
    "    plt.plot(plot_labels, accuracies, marker=\"o\", linestyle=\"-\", color=\"red\")\n",
    "    plt.xlabel(\"Max Depth\")\n",
    "    plt.ylabel(\"Accuracy\")\n",
    "    plt.title(\"Biểu đồ Accuracy theo Max Depth\")\n",
    "\n",
    "    plt.suptitle(\"So sánh độ sâu cây và độ chính xác của Decision Tree\")\n",
    "    plt.tight_layout()\n",
    "    plt.savefig(save_path)\n",
    "    plt.show()\n",
    "\n",
    "    print(f\"✓ Accuracy chart saved to: {save_path}\")"
   ]
  },
  {
   "cell_type": "code",
   "execution_count": 99,
   "metadata": {},
   "outputs": [
    {
     "data": {
      "image/png": "[encoded data removed]",
      "text/plain": [
       "<Figure size 1500x600 with 2 Axes>"
      ]
     },
     "metadata": {},
     "output_type": "display_data"
    },
    {
     "name": "stdout",
     "output_type": "stream",
     "text": [
      "✓ Accuracy chart saved to: output/report/max_depth_ver/accuracy_report.png\n"
     ]
    }
   ],
   "source": [
    "output_path = f\"output/report/max_depth_ver/accuracy_report.png\"\n",
    "visualize_accuracy_by_depth(accuracy_results, output_path)\n"
   ]
  }
 ],
 "metadata": {
  "kernelspec": {
   "display_name": "Python 3",
   "language": "python",
   "name": "python3"
  },
  "language_info": {
   "codemirror_mode": {
    "name": "ipython",
    "version": 3
   },
   "file_extension": ".py",
   "mimetype": "text/x-python",
   "name": "python",
   "nbconvert_exporter": "python",
   "pygments_lexer": "ipython3",
   "version": "3.13.3"
  }
 },
 "nbformat": 4,
 "nbformat_minor": 2
}
